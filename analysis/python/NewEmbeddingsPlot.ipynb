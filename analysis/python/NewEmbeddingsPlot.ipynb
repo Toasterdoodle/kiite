{
 "cells": [
  {
   "cell_type": "code",
   "execution_count": 1,
   "metadata": {},
   "outputs": [],
   "source": [
    "import re\n",
    "import simdjson as sj\n",
    "import gzip\n",
    "from tqdm import tqdm\n",
    "import pandas as pd\n",
    "from tqdm.notebook import tqdm\n",
    "import swifter\n",
    "import seaborn as sns\n",
    "import numpy as np\t\n",
    "from nltk import sent_tokenize\n",
    "import re\n",
    "from sentence_transformers import SentenceTransformer\n",
    "from wutils.general import save_pickle, load_pickle\n",
    "from wutils.mat import MarkedMatrix\n",
    "from scipy.spatial.distance import cdist\n",
    "from sklearn.linear_model import LogisticRegression"
   ]
  },
  {
   "cell_type": "code",
   "execution_count": 2,
   "metadata": {},
   "outputs": [],
   "source": [
    "import wutils\n",
    "import importlib\n",
    "importlib.reload(wutils)\n",
    "from wutils.mat import MarkedMatrix"
   ]
  },
  {
   "cell_type": "code",
   "execution_count": 3,
   "metadata": {},
   "outputs": [],
   "source": [
    "# good_df = load_pickle('./pickles/newest_good_sample_df.pkl')\n",
    "# cord_df = load_pickle('./pickles/newest_good_cord_df.pkl')\n",
    "# bad_df = load_pickle('./pickles/newest_bad_df.pkl')\n",
    "good_df = load_pickle('./pickles/newest_good_sample_df_ft.pkl')\n",
    "# cord_df = load_pickle('./pickles/newest_cord_df_ft.pkl')\n",
    "cord_df = load_pickle('./pickles/who_cord_df.pkl')\n",
    "bad_df = load_pickle('./pickles/newest_bad_df_ft.pkl')"
   ]
  },
  {
   "cell_type": "code",
   "execution_count": 4,
   "metadata": {},
   "outputs": [
    {
     "data": {
      "text/html": [
       "<div>\n",
       "<style scoped>\n",
       "    .dataframe tbody tr th:only-of-type {\n",
       "        vertical-align: middle;\n",
       "    }\n",
       "\n",
       "    .dataframe tbody tr th {\n",
       "        vertical-align: top;\n",
       "    }\n",
       "\n",
       "    .dataframe thead th {\n",
       "        text-align: right;\n",
       "    }\n",
       "</style>\n",
       "<table border=\"1\" class=\"dataframe\">\n",
       "  <thead>\n",
       "    <tr style=\"text-align: right;\">\n",
       "      <th></th>\n",
       "      <th>cord_uid</th>\n",
       "      <th>source_x</th>\n",
       "      <th>title</th>\n",
       "      <th>abstract</th>\n",
       "      <th>authors</th>\n",
       "      <th>sentences</th>\n",
       "      <th>sent_embeddings</th>\n",
       "      <th>ft_embeddings</th>\n",
       "    </tr>\n",
       "  </thead>\n",
       "  <tbody>\n",
       "    <tr>\n",
       "      <th>104326</th>\n",
       "      <td>2g4o1alu</td>\n",
       "      <td>WHO</td>\n",
       "      <td>COVID-19-related mortality by age groups in Eu...</td>\n",
       "      <td>Background and Objectives: To date, more than ...</td>\n",
       "      <td>Cohen, JÃ©rÃ©mie F.; Korevaar, DaniÃ«l A.; Mat...</td>\n",
       "      <td>[COVID-19-related mortality by age groups in E...</td>\n",
       "      <td>[[-0.055676993, -0.9243626, 0.6984887, -1.5472...</td>\n",
       "      <td>[[0.0481136, -0.045153778, -0.0016712277, -0.0...</td>\n",
       "    </tr>\n",
       "    <tr>\n",
       "      <th>104355</th>\n",
       "      <td>bbumotlt</td>\n",
       "      <td>WHO</td>\n",
       "      <td>Inhibitors for Novel Coronavirus Protease Iden...</td>\n",
       "      <td>The rapid outbreak of the novel severe acute r...</td>\n",
       "      <td>Fischer, André; Sellner, Manuel; Neranjan, San...</td>\n",
       "      <td>[Inhibitors for Novel Coronavirus Protease Ide...</td>\n",
       "      <td>[[-0.23659688, -1.209985, 1.086681, -0.2994868...</td>\n",
       "      <td>[[0.019563006, 0.0033947488, 0.04383449, -0.06...</td>\n",
       "    </tr>\n",
       "    <tr>\n",
       "      <th>104378</th>\n",
       "      <td>fmfp5a4x</td>\n",
       "      <td>WHO</td>\n",
       "      <td>Induction of “cytokine storm” in patients infe...</td>\n",
       "      <td>Coronaviruses are an extensive family of virus...</td>\n",
       "      <td>Parra-Izquierdo, V.; Flórez-Sarmiento, C.; Rom...</td>\n",
       "      <td>[Induction of “cytokine storm” in patients inf...</td>\n",
       "      <td>[[-0.6050015, -1.024411, 0.5046835, -0.9459065...</td>\n",
       "      <td>[[0.0046710027, -0.07187022, 0.008835351, -0.0...</td>\n",
       "    </tr>\n",
       "    <tr>\n",
       "      <th>104382</th>\n",
       "      <td>n8muqsk8</td>\n",
       "      <td>WHO</td>\n",
       "      <td>The case series of 34 patients with COVID-19 d...</td>\n",
       "      <td>Background: A novel coronavirus (SARS-CoV-2) c...</td>\n",
       "      <td>Kase, Kerstin; Skrzat-Klapaczynska, Agata; Vas...</td>\n",
       "      <td>[The case series of 34 patients with COVID-19 ...</td>\n",
       "      <td>[[-0.5378597, -1.2903348, 0.29853648, -0.45812...</td>\n",
       "      <td>[[0.00923657, -0.010481103, 0.012520884, -0.03...</td>\n",
       "    </tr>\n",
       "    <tr>\n",
       "      <th>104388</th>\n",
       "      <td>2rlld533</td>\n",
       "      <td>WHO</td>\n",
       "      <td>A brief overview of current drug repurposing a...</td>\n",
       "      <td>This brief overview is intended to shed light ...</td>\n",
       "      <td>Fonseca Soares Rodrigues, P. da Thomaz D. V.</td>\n",
       "      <td>[A brief overview of current drug repurposing ...</td>\n",
       "      <td>[[-0.84153324, -0.8163958, 0.36981186, -0.9351...</td>\n",
       "      <td>[[0.010491839, -0.066567436, -0.018717863, -0....</td>\n",
       "    </tr>\n",
       "    <tr>\n",
       "      <th>...</th>\n",
       "      <td>...</td>\n",
       "      <td>...</td>\n",
       "      <td>...</td>\n",
       "      <td>...</td>\n",
       "      <td>...</td>\n",
       "      <td>...</td>\n",
       "      <td>...</td>\n",
       "      <td>...</td>\n",
       "    </tr>\n",
       "    <tr>\n",
       "      <th>301152</th>\n",
       "      <td>mbv6ot95</td>\n",
       "      <td>WHO</td>\n",
       "      <td>Statistical evaluation of selected air quality...</td>\n",
       "      <td>Air pollution has become a serious concern for...</td>\n",
       "      <td>Masum, M. H.; Pal, S. K.</td>\n",
       "      <td>[Statistical evaluation of selected air qualit...</td>\n",
       "      <td>[[-0.6117112, -0.66956645, 0.6793621, -0.59324...</td>\n",
       "      <td>[[-0.022183394, 0.018007744, 0.026416264, -0.0...</td>\n",
       "    </tr>\n",
       "    <tr>\n",
       "      <th>311269</th>\n",
       "      <td>jfoflgah</td>\n",
       "      <td>WHO</td>\n",
       "      <td>Clinical features of patients with probable 20...</td>\n",
       "      <td>BACKGROUND: Coronavirus disease-19 COVID-19 is...</td>\n",
       "      <td>Karkhah, S.; Ghazanfari, M. J.; Shamshirian, A...</td>\n",
       "      <td>[Clinical features of patients with probable 2...</td>\n",
       "      <td>[[-0.22488534, -0.8938913, 0.7023613, -1.39347...</td>\n",
       "      <td>[[-0.010006628, -0.07970685, -0.0008492946, -0...</td>\n",
       "    </tr>\n",
       "    <tr>\n",
       "      <th>312759</th>\n",
       "      <td>e4pr78n0</td>\n",
       "      <td>WHO</td>\n",
       "      <td>Mathematical modeling of COVID-19 transmission...</td>\n",
       "      <td>BackgroundWe evaluated how non-pharmaceutical ...</td>\n",
       "      <td>Tuite, Ashleigh; Fisman, David N; Greer, Amy L</td>\n",
       "      <td>[Mathematical modeling of COVID-19 transmissio...</td>\n",
       "      <td>[[-0.9591663, -0.7535791, 0.11427775, -0.55517...</td>\n",
       "      <td>[[-0.0031259845, -0.045985896, 0.01022184, -0....</td>\n",
       "    </tr>\n",
       "    <tr>\n",
       "      <th>331600</th>\n",
       "      <td>j90w6so2</td>\n",
       "      <td>WHO</td>\n",
       "      <td>Impact of COVID-19 large scale restriction on ...</td>\n",
       "      <td>COVID-19 has a severe and widespread impact, e...</td>\n",
       "      <td>Caraka, R. E. Lee Y. Kurniawan R. Herliansyah ...</td>\n",
       "      <td>[Impact of COVID-19 large scale restriction on...</td>\n",
       "      <td>[[-0.6988445, -0.4860237, -0.33028847, -0.6850...</td>\n",
       "      <td>[[-0.022731125, -0.008827577, 0.009168559, -0....</td>\n",
       "    </tr>\n",
       "    <tr>\n",
       "      <th>352684</th>\n",
       "      <td>hd5xv7zk</td>\n",
       "      <td>WHO</td>\n",
       "      <td>The system dynamic model of the labor migrant ...</td>\n",
       "      <td>At the end of 2019, the new virus called Coron...</td>\n",
       "      <td>Kozlovskyi, S.; Bilenko, D.; Kuzheliev, M.; La...</td>\n",
       "      <td>[The system dynamic model of the labor migrant...</td>\n",
       "      <td>[[-0.38213912, -0.7206018, 0.37559515, -1.9268...</td>\n",
       "      <td>[[-0.021328758, -0.010853862, 0.030837398, -0....</td>\n",
       "    </tr>\n",
       "  </tbody>\n",
       "</table>\n",
       "<p>84605 rows × 8 columns</p>\n",
       "</div>"
      ],
      "text/plain": [
       "        cord_uid source_x                                              title  \\\n",
       "104326  2g4o1alu      WHO  COVID-19-related mortality by age groups in Eu...   \n",
       "104355  bbumotlt      WHO  Inhibitors for Novel Coronavirus Protease Iden...   \n",
       "104378  fmfp5a4x      WHO  Induction of “cytokine storm” in patients infe...   \n",
       "104382  n8muqsk8      WHO  The case series of 34 patients with COVID-19 d...   \n",
       "104388  2rlld533      WHO  A brief overview of current drug repurposing a...   \n",
       "...          ...      ...                                                ...   \n",
       "301152  mbv6ot95      WHO  Statistical evaluation of selected air quality...   \n",
       "311269  jfoflgah      WHO  Clinical features of patients with probable 20...   \n",
       "312759  e4pr78n0      WHO  Mathematical modeling of COVID-19 transmission...   \n",
       "331600  j90w6so2      WHO  Impact of COVID-19 large scale restriction on ...   \n",
       "352684  hd5xv7zk      WHO  The system dynamic model of the labor migrant ...   \n",
       "\n",
       "                                                 abstract  \\\n",
       "104326  Background and Objectives: To date, more than ...   \n",
       "104355  The rapid outbreak of the novel severe acute r...   \n",
       "104378  Coronaviruses are an extensive family of virus...   \n",
       "104382  Background: A novel coronavirus (SARS-CoV-2) c...   \n",
       "104388  This brief overview is intended to shed light ...   \n",
       "...                                                   ...   \n",
       "301152  Air pollution has become a serious concern for...   \n",
       "311269  BACKGROUND: Coronavirus disease-19 COVID-19 is...   \n",
       "312759  BackgroundWe evaluated how non-pharmaceutical ...   \n",
       "331600  COVID-19 has a severe and widespread impact, e...   \n",
       "352684  At the end of 2019, the new virus called Coron...   \n",
       "\n",
       "                                                  authors  \\\n",
       "104326  Cohen, JÃ©rÃ©mie F.; Korevaar, DaniÃ«l A.; Mat...   \n",
       "104355  Fischer, André; Sellner, Manuel; Neranjan, San...   \n",
       "104378  Parra-Izquierdo, V.; Flórez-Sarmiento, C.; Rom...   \n",
       "104382  Kase, Kerstin; Skrzat-Klapaczynska, Agata; Vas...   \n",
       "104388       Fonseca Soares Rodrigues, P. da Thomaz D. V.   \n",
       "...                                                   ...   \n",
       "301152                           Masum, M. H.; Pal, S. K.   \n",
       "311269  Karkhah, S.; Ghazanfari, M. J.; Shamshirian, A...   \n",
       "312759     Tuite, Ashleigh; Fisman, David N; Greer, Amy L   \n",
       "331600  Caraka, R. E. Lee Y. Kurniawan R. Herliansyah ...   \n",
       "352684  Kozlovskyi, S.; Bilenko, D.; Kuzheliev, M.; La...   \n",
       "\n",
       "                                                sentences  \\\n",
       "104326  [COVID-19-related mortality by age groups in E...   \n",
       "104355  [Inhibitors for Novel Coronavirus Protease Ide...   \n",
       "104378  [Induction of “cytokine storm” in patients inf...   \n",
       "104382  [The case series of 34 patients with COVID-19 ...   \n",
       "104388  [A brief overview of current drug repurposing ...   \n",
       "...                                                   ...   \n",
       "301152  [Statistical evaluation of selected air qualit...   \n",
       "311269  [Clinical features of patients with probable 2...   \n",
       "312759  [Mathematical modeling of COVID-19 transmissio...   \n",
       "331600  [Impact of COVID-19 large scale restriction on...   \n",
       "352684  [The system dynamic model of the labor migrant...   \n",
       "\n",
       "                                          sent_embeddings  \\\n",
       "104326  [[-0.055676993, -0.9243626, 0.6984887, -1.5472...   \n",
       "104355  [[-0.23659688, -1.209985, 1.086681, -0.2994868...   \n",
       "104378  [[-0.6050015, -1.024411, 0.5046835, -0.9459065...   \n",
       "104382  [[-0.5378597, -1.2903348, 0.29853648, -0.45812...   \n",
       "104388  [[-0.84153324, -0.8163958, 0.36981186, -0.9351...   \n",
       "...                                                   ...   \n",
       "301152  [[-0.6117112, -0.66956645, 0.6793621, -0.59324...   \n",
       "311269  [[-0.22488534, -0.8938913, 0.7023613, -1.39347...   \n",
       "312759  [[-0.9591663, -0.7535791, 0.11427775, -0.55517...   \n",
       "331600  [[-0.6988445, -0.4860237, -0.33028847, -0.6850...   \n",
       "352684  [[-0.38213912, -0.7206018, 0.37559515, -1.9268...   \n",
       "\n",
       "                                            ft_embeddings  \n",
       "104326  [[0.0481136, -0.045153778, -0.0016712277, -0.0...  \n",
       "104355  [[0.019563006, 0.0033947488, 0.04383449, -0.06...  \n",
       "104378  [[0.0046710027, -0.07187022, 0.008835351, -0.0...  \n",
       "104382  [[0.00923657, -0.010481103, 0.012520884, -0.03...  \n",
       "104388  [[0.010491839, -0.066567436, -0.018717863, -0....  \n",
       "...                                                   ...  \n",
       "301152  [[-0.022183394, 0.018007744, 0.026416264, -0.0...  \n",
       "311269  [[-0.010006628, -0.07970685, -0.0008492946, -0...  \n",
       "312759  [[-0.0031259845, -0.045985896, 0.01022184, -0....  \n",
       "331600  [[-0.022731125, -0.008827577, 0.009168559, -0....  \n",
       "352684  [[-0.021328758, -0.010853862, 0.030837398, -0....  \n",
       "\n",
       "[84605 rows x 8 columns]"
      ]
     },
     "execution_count": 4,
     "metadata": {},
     "output_type": "execute_result"
    }
   ],
   "source": [
    "cord_df"
   ]
  },
  {
   "cell_type": "code",
   "execution_count": 5,
   "metadata": {},
   "outputs": [
    {
     "data": {
      "application/vnd.jupyter.widget-view+json": {
       "model_id": "cadfb79b0b4b4509b5d7efa9bafd9d13",
       "version_major": 2,
       "version_minor": 0
      },
      "text/plain": [
       "HBox(children=(FloatProgress(value=0.0, description='Pandas Apply', max=100000.0, style=ProgressStyle(descript…"
      ]
     },
     "metadata": {},
     "output_type": "display_data"
    },
    {
     "name": "stdout",
     "output_type": "stream",
     "text": [
      "\n"
     ]
    },
    {
     "data": {
      "application/vnd.jupyter.widget-view+json": {
       "model_id": "b304af5ef6eb45188bfe200d201bf862",
       "version_major": 2,
       "version_minor": 0
      },
      "text/plain": [
       "HBox(children=(FloatProgress(value=0.0, description='Pandas Apply', max=21854.0, style=ProgressStyle(descripti…"
      ]
     },
     "metadata": {},
     "output_type": "display_data"
    },
    {
     "name": "stdout",
     "output_type": "stream",
     "text": [
      "\n"
     ]
    },
    {
     "data": {
      "application/vnd.jupyter.widget-view+json": {
       "model_id": "7ce62b38231b4b1391625cc3274ac2fe",
       "version_major": 2,
       "version_minor": 0
      },
      "text/plain": [
       "HBox(children=(FloatProgress(value=0.0, description='Pandas Apply', max=84605.0, style=ProgressStyle(descripti…"
      ]
     },
     "metadata": {},
     "output_type": "display_data"
    },
    {
     "name": "stdout",
     "output_type": "stream",
     "text": [
      "\n"
     ]
    }
   ],
   "source": [
    "good_df['mean_embed'] = good_df['sent_embeddings'].swifter.apply(lambda x: x.mean(axis=0))\n",
    "bad_df['mean_embed'] = bad_df['sent_embeddings'].swifter.apply(lambda x: x.mean(axis=0))\n",
    "cord_df['mean_embed'] = cord_df['sent_embeddings'].swifter.apply(lambda x: x.mean(axis=0))\n",
    "# good_df['mean_embed'] = good_df['ft_embeddings'].swifter.apply(lambda x: np.array(x).mean(axis=0))\n",
    "# bad_df['mean_embed'] = bad_df['ft_embeddings'].swifter.apply(lambda x: np.array(x).mean(axis=0))\n",
    "# cord_df['mean_embed'] = cord_df['ft_embeddings'].swifter.apply(lambda x: np.array(x).mean(axis=0))"
   ]
  },
  {
   "cell_type": "code",
   "execution_count": 7,
   "metadata": {},
   "outputs": [
    {
     "ename": "NameError",
     "evalue": "name 'get_hostname' is not defined",
     "output_type": "error",
     "traceback": [
      "\u001b[0;31m---------------------------------------------------------------------------\u001b[0m",
      "\u001b[0;31mNameError\u001b[0m                                 Traceback (most recent call last)",
      "\u001b[0;32m<ipython-input-7-1b7706e5f7d3>\u001b[0m in \u001b[0;36m<module>\u001b[0;34m\u001b[0m\n\u001b[0;32m----> 1\u001b[0;31m \u001b[0mgood_df\u001b[0m\u001b[0;34m[\u001b[0m\u001b[0;34m'hostname'\u001b[0m\u001b[0;34m]\u001b[0m \u001b[0;34m=\u001b[0m \u001b[0mgood_df\u001b[0m\u001b[0;34m[\u001b[0m\u001b[0;34m'url'\u001b[0m\u001b[0;34m]\u001b[0m\u001b[0;34m.\u001b[0m\u001b[0mswifter\u001b[0m\u001b[0;34m.\u001b[0m\u001b[0mapply\u001b[0m\u001b[0;34m(\u001b[0m\u001b[0mget_hostname\u001b[0m\u001b[0;34m)\u001b[0m\u001b[0;34m\u001b[0m\u001b[0;34m\u001b[0m\u001b[0m\n\u001b[0m\u001b[1;32m      2\u001b[0m \u001b[0mbad_df\u001b[0m\u001b[0;34m[\u001b[0m\u001b[0;34m'hostname'\u001b[0m\u001b[0;34m]\u001b[0m \u001b[0;34m=\u001b[0m \u001b[0mbad_df\u001b[0m\u001b[0;34m[\u001b[0m\u001b[0;34m'url'\u001b[0m\u001b[0;34m]\u001b[0m\u001b[0;34m.\u001b[0m\u001b[0mswifter\u001b[0m\u001b[0;34m.\u001b[0m\u001b[0mapply\u001b[0m\u001b[0;34m(\u001b[0m\u001b[0mget_hostname\u001b[0m\u001b[0;34m)\u001b[0m\u001b[0;34m\u001b[0m\u001b[0;34m\u001b[0m\u001b[0m\n",
      "\u001b[0;31mNameError\u001b[0m: name 'get_hostname' is not defined"
     ]
    }
   ],
   "source": [
    "good_df['hostname'] = good_df['url'].swifter.apply(get_hostname)\n",
    "bad_df['hostname'] = bad_df['url'].swifter.apply(get_hostname)"
   ]
  },
  {
   "cell_type": "code",
   "execution_count": 11,
   "metadata": {},
   "outputs": [
    {
     "data": {
      "text/plain": [
       "www.reuters.com           5630\n",
       "www.thehindu.com          5158\n",
       "www.france24.com          3497\n",
       "www.forbes.com            3433\n",
       "indianexpress.com         3188\n",
       "                          ... \n",
       "cn.nytimes.com               1\n",
       "tucson.com                   1\n",
       "www.mediamatters.org         1\n",
       "uk.reuters.com               1\n",
       "www.hindustantimes.com       1\n",
       "Name: hostname, Length: 238, dtype: int64"
      ]
     },
     "execution_count": 11,
     "metadata": {},
     "output_type": "execute_result"
    }
   ],
   "source": [
    "good_df['hostname'].value_counts()"
   ]
  },
  {
   "cell_type": "code",
   "execution_count": null,
   "metadata": {},
   "outputs": [],
   "source": [
    "bad_df = bad_df[bad_df['hostname'] != 'www.washingtontimes.com']"
   ]
  },
  {
   "cell_type": "code",
   "execution_count": 10,
   "metadata": {},
   "outputs": [
    {
     "data": {
      "text/plain": [
       "www.washingtontimes.com           8969\n",
       "beforeitsnews.com                 7017\n",
       "www.wnd.com                       1655\n",
       "www.redstate.com                   722\n",
       "www.theblaze.com                   589\n",
       "bigleaguepolitics.com              542\n",
       "pjmedia.com                        506\n",
       "humansarefree.com                  328\n",
       "www.breitbart.com                  233\n",
       "techstartups.com                   225\n",
       "dcdirtylaundry.com                 169\n",
       "worldtruth.tv                      163\n",
       "sonsoflibertymedia.com             156\n",
       "www.dcclothesline.com              140\n",
       "buffalochronicle.com               108\n",
       "theconservativetreehouse.com        97\n",
       "bb4sp.com                           74\n",
       "www.technocracy.news                49\n",
       "www.collective-evolution.com        30\n",
       "newsblaze.com                       23\n",
       "www.americafirstprojects.com        18\n",
       "clashdaily.com                      14\n",
       "powderedwigsociety.com              12\n",
       "www.westonaprice.org                 9\n",
       "www.tierneyrealnewsnetwork.com       4\n",
       "holistichealth.one                   2\n",
       "Name: hostname, dtype: int64"
      ]
     },
     "execution_count": 10,
     "metadata": {},
     "output_type": "execute_result"
    }
   ],
   "source": [
    "bad_df.hostname.value_counts()"
   ]
  },
  {
   "cell_type": "code",
   "execution_count": 6,
   "metadata": {},
   "outputs": [],
   "source": [
    "import urllib.parse\n",
    "def get_hostname(url):\n",
    "    o = urllib.parse.urlsplit(url)\n",
    "    return o.hostname"
   ]
  },
  {
   "cell_type": "code",
   "execution_count": 8,
   "metadata": {},
   "outputs": [
    {
     "data": {
      "application/vnd.jupyter.widget-view+json": {
       "model_id": "87a62d30568d45aba506c1dbb77c96de",
       "version_major": 2,
       "version_minor": 0
      },
      "text/plain": [
       "HBox(children=(FloatProgress(value=0.0, description='Pandas Apply', max=100000.0, style=ProgressStyle(descript…"
      ]
     },
     "metadata": {},
     "output_type": "display_data"
    },
    {
     "name": "stdout",
     "output_type": "stream",
     "text": [
      "\n"
     ]
    },
    {
     "data": {
      "application/vnd.jupyter.widget-view+json": {
       "model_id": "63f451c2b84f439ca78790ef8887a0f7",
       "version_major": 2,
       "version_minor": 0
      },
      "text/plain": [
       "HBox(children=(FloatProgress(value=0.0, description='Pandas Apply', max=21854.0, style=ProgressStyle(descripti…"
      ]
     },
     "metadata": {},
     "output_type": "display_data"
    },
    {
     "name": "stdout",
     "output_type": "stream",
     "text": [
      "\n"
     ]
    }
   ],
   "source": [
    "good_df['ft_has_nan'] = good_df['mean_embed'].swifter.apply(lambda x: np.isnan(np.array(x)).any())\n",
    "good_df = good_df[~good_df['ft_has_nan']]\n",
    "bad_df['ft_has_nan'] = bad_df['mean_embed'].swifter.apply(lambda x: np.isnan(np.array(x)).any())\n",
    "bad_df = bad_df[~bad_df['ft_has_nan']]"
   ]
  },
  {
   "cell_type": "code",
   "execution_count": 16,
   "metadata": {},
   "outputs": [],
   "source": [
    "save_pickle(good_df, './fake_eval/clean_good_df.pkl')\n",
    "save_pickle(bad_df, './fake_eval/clean_bad_df.pkl')"
   ]
  },
  {
   "cell_type": "code",
   "execution_count": 15,
   "metadata": {},
   "outputs": [
    {
     "data": {
      "text/plain": [
       "(97539, 21135)"
      ]
     },
     "execution_count": 15,
     "metadata": {},
     "output_type": "execute_result"
    }
   ],
   "source": [
    "len(good_df), len(bad_df)"
   ]
  },
  {
   "cell_type": "code",
   "execution_count": 9,
   "metadata": {},
   "outputs": [],
   "source": [
    "s_good = good_df.dropna().sample(n=30000)\n",
    "s_bad = bad_df.dropna()\n",
    "s_cord = cord_df.dropna().sample(n=5000)"
   ]
  },
  {
   "cell_type": "code",
   "execution_count": 10,
   "metadata": {},
   "outputs": [],
   "source": [
    "mat_good = np.array(list(s_good['mean_embed']))\n",
    "mat_bad = np.array(list(s_bad['mean_embed']))\n",
    "mat_cord = np.array(list(s_cord['mean_embed']))"
   ]
  },
  {
   "cell_type": "code",
   "execution_count": 9,
   "metadata": {},
   "outputs": [],
   "source": [
    "mm = MarkedMatrix([('real news', mat_good), ('fake news', mat_bad), ('CORD', mat_cord)])"
   ]
  },
  {
   "cell_type": "code",
   "execution_count": 18,
   "metadata": {},
   "outputs": [
    {
     "data": {
      "text/plain": [
       "array([[-79.20345  ,  30.722397 ],\n",
       "       [ -7.4035416,  24.977829 ],\n",
       "       [ 16.176777 ,  -6.0799174],\n",
       "       ...,\n",
       "       [ 54.92865  , -22.486969 ],\n",
       "       [ 45.436928 ,   5.489793 ],\n",
       "       [ 18.174372 ,  12.685622 ]], dtype=float32)"
      ]
     },
     "execution_count": 18,
     "metadata": {},
     "output_type": "execute_result"
    },
    {
     "data": {
      "image/png": "[encoded data removed]",
      "text/plain": [
       "<Figure size 432x288 with 1 Axes>"
      ]
     },
     "metadata": {
      "needs_background": "light"
     },
     "output_type": "display_data"
    }
   ],
   "source": [
    "mm.tsne()"
   ]
  },
  {
   "cell_type": "code",
   "execution_count": null,
   "metadata": {},
   "outputs": [],
   "source": [
    "mm.default_classify()"
   ]
  },
  {
   "cell_type": "code",
   "execution_count": 10,
   "metadata": {},
   "outputs": [
    {
     "data": {
      "text/plain": [
       "(768,)"
      ]
     },
     "execution_count": 10,
     "metadata": {},
     "output_type": "execute_result"
    }
   ],
   "source": [
    "good_df['sent_embeddings'][834328].mean(axis=0).shape"
   ]
  },
  {
   "cell_type": "code",
   "execution_count": 35,
   "metadata": {},
   "outputs": [
    {
     "data": {
      "text/plain": [
       "True"
      ]
     },
     "execution_count": 35,
     "metadata": {},
     "output_type": "execute_result"
    }
   ],
   "source": [
    "np.isnan(mat_good).any()"
   ]
  },
  {
   "cell_type": "code",
   "execution_count": 36,
   "metadata": {},
   "outputs": [
    {
     "data": {
      "text/plain": [
       "True"
      ]
     },
     "execution_count": 36,
     "metadata": {},
     "output_type": "execute_result"
    }
   ],
   "source": [
    "np.isnan(mat_bad).any()"
   ]
  },
  {
   "cell_type": "code",
   "execution_count": 17,
   "metadata": {},
   "outputs": [
    {
     "data": {
      "text/plain": [
       "False"
      ]
     },
     "execution_count": 17,
     "metadata": {},
     "output_type": "execute_result"
    }
   ],
   "source": [
    "np.isnan(mat_cord).any()"
   ]
  },
  {
   "cell_type": "code",
   "execution_count": 11,
   "metadata": {},
   "outputs": [],
   "source": [
    "good2cord = cdist(mat_good, mat_cord, 'cosine')\n",
    "bad2cord = cdist(mat_bad, mat_cord, 'cosine')"
   ]
  },
  {
   "cell_type": "code",
   "execution_count": 12,
   "metadata": {},
   "outputs": [],
   "source": [
    "mm2 = wutils.mat.MarkedMatrix((('real', good2cord), ('fake', bad2cord)))"
   ]
  },
  {
   "cell_type": "code",
   "execution_count": 13,
   "metadata": {},
   "outputs": [],
   "source": [
    "model = LogisticRegression(max_iter=100, verbose=1, n_jobs=16, solver='lbfgs')"
   ]
  },
  {
   "cell_type": "code",
   "execution_count": 15,
   "metadata": {},
   "outputs": [
    {
     "data": {
      "text/plain": [
       "1.1084635247831385"
      ]
     },
     "execution_count": 15,
     "metadata": {},
     "output_type": "execute_result"
    }
   ],
   "source": [
    "np.max(good2cord)"
   ]
  },
  {
   "cell_type": "code",
   "execution_count": 16,
   "metadata": {},
   "outputs": [
    {
     "name": "stdout",
     "output_type": "stream",
     "text": [
      "Training model...\n"
     ]
    },
    {
     "name": "stderr",
     "output_type": "stream",
     "text": [
      "[Parallel(n_jobs=16)]: Using backend LokyBackend with 16 concurrent workers.\n"
     ]
    },
    {
     "name": "stdout",
     "output_type": "stream",
     "text": [
      "Evaluating model...\n"
     ]
    },
    {
     "name": "stderr",
     "output_type": "stream",
     "text": [
      "[Parallel(n_jobs=16)]: Done   1 out of   1 | elapsed: 13.3min finished\n"
     ]
    },
    {
     "data": {
      "text/plain": [
       "(0.7115087935822277, 0.7583979328165376)"
      ]
     },
     "execution_count": 16,
     "metadata": {},
     "output_type": "execute_result"
    }
   ],
   "source": [
    "mm2.single_split_classify(model)"
   ]
  },
  {
   "cell_type": "code",
   "execution_count": 18,
   "metadata": {},
   "outputs": [
    {
     "data": {
      "text/plain": [
       "2077"
      ]
     },
     "execution_count": 18,
     "metadata": {},
     "output_type": "execute_result"
    }
   ],
   "source": [
    "np.argmax(model.coef_)"
   ]
  },
  {
   "cell_type": "code",
   "execution_count": 19,
   "metadata": {},
   "outputs": [],
   "source": [
    "def get_results(num, k=5):\n",
    "    res = model.predict(good2cord[num, :].reshape(1, -1))\n",
    "    weights = model.coef_ * good2cord[num, :].T\n",
    "    top_k = np.argsort(weights)[0, :k]\n",
    "    print('Clean Text: ', s_good.iloc[num].cleanText)\n",
    "    for el in top_k:\n",
    "        print('-'*25)\n",
    "        print(f'Related abstract ({el}): {s_cord.iloc[el].abstract}')\n",
    "        print(f'Related title ({el}): {s_cord.iloc[el].title}')"
   ]
  },
  {
   "cell_type": "code",
   "execution_count": 25,
   "metadata": {},
   "outputs": [
    {
     "name": "stdout",
     "output_type": "stream",
     "text": [
      "Clean Text:  The Post reports: “More than 6.6 million Americans applied for unemployment benefits last week — a record — as political and public health leaders put the economy in a deep freeze, keeping people at home and trying to slow the spread of the deadly coronavirus.” The magnitude of the job losses so far — and there will be more to come — is staggering. (“The past two weeks have erased nearly all the jobs created in the past five years, a sign of how rapid, deep and painful the economic shutdown has been on many American families who are struggling to pay rent and health insurance costs in the midst of a pandemic.”) The number of claims so far, more than 10 million, is likely understated “since a lot of newly unemployed Americans haven’t been able to fill out a claim yet.”\n",
      "As businesses find they can no longer hold out, declare bankruptcy or shut their doors, more people will lose their jobs. Employees asked to take pay cuts one month will find that their employer in a month or two can no longer keep them on payroll at all.\n",
      "In looking at the political implications of this horror show, one need only recall the 2008 Great Recession. The causes of that financial collapse — e.g., unregulated financial instruments, negligence from ratings companies, lender deception, the Federal Reserve’s failure to act — were complicated. Nevertheless, the politicians who resisted warnings (from then-Harvard professor Elizabeth Warren, among other people) and favored a Wild West deregulated financial industry have unique culpability. And the party in charge at the time — the Republicans — bore the brunt of the voters wrath at the polls. Do we imagine this domestic debacle will play out differently?\n",
      "Trump and his Republicans are vulnerable on three counts: failure to act to head off the pandemic, failure to respond adequately to the crisis and corruption in the response (in an administration already infamous for corruption and self-dealing).\n",
      "Senate Majority Leader Mitch McConnell (R-Ky.), among Trump’s most fervent enablers, picked a poor time to declare that the federal government should stop helping. The Post’s Robert Costa reports that McConnell delivered a “sweeping dismissal” of the call from House Speaker Nancy Pelosi (D-Calif.) for a fourth stimulus package:\n",
      "“She needs to stand down on the notion that we’re going to go along with taking advantage of the crisis to do things that are unrelated to the crisis,” McConnell said in an interview with The Washington Post, calling the speaker’s recent comments about a fourth round of virus-related legislation “premature.”\n",
      "In her initial written response, Pelosi said, “The victims of the coronavirus pandemic cannot wait. It is moving faster than the leader may have suspected, and even he has said that some things should wait for the next bill.”\n",
      "At her weekly news conference, she was even more emphatic, both on continuing to fund the recovery and on clamping down on corruption. She urged more money for equipment for health-care responders and other “front-line workers,” funds for states to manage unemployment insurance claims and a major effort on infrastructure (including water, broadband and community health-care centers). Reacting to the unemployment claims, she asked, “Does that just not take your breath away?” As for McConnell, she said bluntly, “We’ll have our bill.”\n",
      "Perhaps most important, Pelosi will set up a House select committee to oversee the entire coronavirus effort, much like then-Sen. Harry Truman did for World War II funding, to crack down on waste, fraud and abuse.\n",
      "The economic crisis may continue long after the worst of the health crisis is behind us. Trump will faces three major challenges: Did he do everything to head off a deep recession? Did he do enough to help those hurt? Did he prevent profiteering and corruption that diverted and from the needy? Unless the answer to all three is “yes,” Trump will have a hard time persuading Americans to leave him in charge of mitigation and recovery.\n",
      "-------------------------\n",
      "Related abstract (4177): BACKGROUND: Canada recently adopted the 24-Hour Movement Guidelines for Children and Youth (24-Hour Guidelines) for young people aged 5 to 17 years-an international first, providing integrated recommendations for physical activity, sedentary time and sleep Since the release of the guidelines, very few studies have examined the associations of adherence to the 24-Hour Guidelines with health outcomes-and none focus on psychosocial health Therefore, the objective of this study was to assess the associations of meeting the 24-Hour Guidelines and their behaviour-specific recommendations with psychosocial health among Canadian children and youth DATA AND METHODS: This cross-sectional study included 4,250 children and youth aged 5 to 17 years with valid accelerometer data The study data were collected from 2009 to 2015 with the Canadian Health Measures Survey and pooled Moderate-to-vigorous physical activity was measured using accelerometers;screen time, sleep duration and measures of psychosocial health were self- or proxy-reported Multivariate logistic regression models were used to examine the associations of meeting individual or different combined recommendations from the 24-Hour Guidelines with psychosocial health RESULTS: There was low overall adherence to all three 24-Hour Guidelines recommendations, especially among youth (children: 13 9%, youth: 4 8%) Meeting two or more of the recommendations was associated with higher odds of positive psychosocial health among youth (odds ratio [OR] = 3 10;95% confidence interval [CI]: 1 17-8 19) Sleep duration and screen time were strongly associated with social behaviour and psychosocial health among Canadian youth DISCUSSION: Adherence to the 24-Hour Guidelines was significantly associated with better psychosocial health among Canadian youth\n",
      "Related title (4177): Physical activity, screen time and sleep duration: Combined associations with psychosocial health among Canadian children and youth\n",
      "-------------------------\n",
      "Related abstract (2851): The aim of the article was to examine transparency and timeliness in information were laid down as essential principles in scientific communication of COVID-19 pandemic in India\n",
      "Related title (2851): COVID-19 communication in India\n",
      "-------------------------\n",
      "Related abstract (4672): My neighbourhood, in Montreal, is an epicentre for the coronavirus epidemic in Canada It is also home to a high concentration of Hasidic Jews These facts are apparently connected, because so many Hasidic Montrealers recently returned from celebrating the holiday of Purim with Hasidic friends and family in New York, unknowingly bringing the virus with them This makes me uncomfortable, both because I fear for my health and that of my husband and baby, and also because of how it resonates with centuries of scapegoating As an anthropologist, I know that uncomfortable places invite reflection on important moral questions\n",
      "Related title (4672): What does it mean to be a good neighbour?\n",
      "-------------------------\n",
      "Related abstract (2401): This analysis of the Canadian health system reviews recent developments in organization and governance, health financing, health care provision, health reforms and health system performance Life expectancy is high, but it plateaued between 2016 and 2017 due to the opioid crisis Socioeconomic inequalities in health are significant, and the large and persistent gaps in health outcomes between Indigenous peoples and the rest of Canadians represent a major challenge facing the health system, and society more generally Canada is a federation: the provinces and territories administer health coverage systems for their residents (referred to as \"medicare\"), while the federal government sets national standards, such as through the Canada Health Act, and is responsible for health coverage for specific subpopulations Health care is predominantly publicly financed, with approximately 70% of health expenditures financed through the general tax revenues Yet there are major gaps in medicare, such as prescription drugs outside hospital, long-term care, mental health care, dental and vision care, which explains the significant role of employer-based private health insurance and out-of-pocket payments The supply of physicians and nurses is uneven across the country with chronic shortages in rural and remote areas Recent reforms include a move towards consolidating health regions into more centralized governance structures at the provincial/territorial level, and gradually moving towards Indigenous self-governance in health care There has also been some momentum towards introducing a national programme of prescription drug coverage (Pharmacare), though the COVID-19 pandemic of 2020 may shift priorities towards addressing other major health system challenges such as the poor quality and regulatory oversight of the long-term care sector Health system performance has improved in recent years as measured by in-hospital mortality rates, cancer survival and avoidable hospitalizations Yet major challenges such as access to non-medicare services, wait times for specialist and elective surgical care, and fragmented and poorly coordinated care will continue to preoccupy governments in pursuit of improved health system performance\n",
      "Related title (2401): Canada: health system review\n",
      "-------------------------\n",
      "Related abstract (2828): Choosing right-fit clothing is important for children since it is related to the conformity of clothes to the body, especially as we know that children normally engage in active routine activities During the growth period, children grow-up rapidly in a different pattern Nowadays, with internet and technology advancement, the online retail business has become the preferred shopping mode for internet-savvy customers, especially in the clothing and textile sector The recent Coronavirus Pandemic has made online retail a necessity Therefore, this research focuses on establishing a prototype of the children size matching recommender system, a \"sizing advisor\"for parents to identify the best clothes fitting which matches the requirement of their children's body size to the sizing of existing brands The fuzzy logic approach was applied as a heart of the matching system where the triangular membership function has been used in predicting the suitable clothing size Nine children aged between 6 years old and 12 years old were selected to test the system The fit was validated by an expert in sizing The research aims to provide a size matching system to increase buying satisfaction among parents while shopping for children's clothes online The manufacturers, as well as small and medium-sized enterprises (SMEs) which engage in online retailing of children's clothing, may also benefit from reducing return and thus will help increase sales and profitability © Published under licence by IOP Publishing Ltd\n",
      "Related title (2828): Intelligent Size Matching Recommender System: Fuzzy Logic Approach in Children Clothing Selection\n"
     ]
    }
   ],
   "source": [
    "get_results(190)"
   ]
  },
  {
   "cell_type": "code",
   "execution_count": 77,
   "metadata": {},
   "outputs": [],
   "source": [
    "res = model.predict(good2cord[10, :].reshape(1, -1))"
   ]
  },
  {
   "cell_type": "code",
   "execution_count": 82,
   "metadata": {},
   "outputs": [],
   "source": [
    "weights = model.coef_ * good2cord[10, :].T"
   ]
  },
  {
   "cell_type": "code",
   "execution_count": 87,
   "metadata": {},
   "outputs": [
    {
     "data": {
      "text/plain": [
       "93"
      ]
     },
     "execution_count": 87,
     "metadata": {},
     "output_type": "execute_result"
    }
   ],
   "source": [
    "np.argmax(weights)"
   ]
  },
  {
   "cell_type": "code",
   "execution_count": 90,
   "metadata": {},
   "outputs": [
    {
     "data": {
      "text/plain": [
       "'A hockey stick, homemade fabric bags and hand sanitizer will soon be part of a COVID-19 exhibit being curated by staff at the Royal Alberta Museum.\\n\"We realized we\\'re living in historic times and it\\'s our job to document that,\" said Julia Petrov, curator of daily life and leisure at the RAM and in charge of the pandemic exhibit.\\n\"We don\\'t want to end up in a situation in 100 years from now when people ask us \\'Well, do you have anything from the pandemic?\\' and our future curators say \\'No, we didn\\'t collect anything.\\'\"\\nPetrov and others at the museum have started to collect hand sanitizer made by Alberta breweries, homemade fabric bags and supplies from mask-making kits.\\nMuseum staff has also asked for CBC\\'s Radio Active co-host Rod Kurtz\\'s hockey stick, which has been used as a microphone boom during the pandemic, to also be part of the exhibit.\\n\"We\\'re trying to get a good sampling of people\\'s responses to the pandemic,\" Petrov told CBC\\'s Radio Active on Wednesday.\\nSome items missing from the exhibit wish-list. Petrov says they\\'re working on getting beaded masks decorated by members of Indigenous communities.\\nStaff is also hoping to score some scrubs used by health-care workers, but only after the pandemic has ended and the scrubs aren\\'t as needed, she said.\\nThe RAM isn\\'t the only museum in the province wanting to document these unprecedented times.\\nThe Canmore Museum and Geoscience Centre is working on a project documenting the pandemic \"in real-time,\" according to their website.\\nStaff at that museum are asking people to keep daily journals or to write letters to \"their future selves or loved ones.\"\\nThe Canmore Museum and Geoscience Centre is currently closed to visitors but is working on a project to document the COVID-19 pandemic. (Vincent Bonnay/Radio-Canada)\\nAnything they collect will join their permanent collection in the archives \"as a way for the community to remember this event that will change us all forever,\" the website says.\\nMuseums in the province were allowed to reopen during the first stage of the province\\'s relaunch.\\nPetrov said though this is not the first pandemic, it\\'s important to document how the world, specifically Alberta, dealt with COVID-19.\\n\"It\\'s a different kind of disease than we\\'ve seen so far and it\\'s going to be important to show how it was different and what ways it affected people.\"'"
      ]
     },
     "execution_count": 90,
     "metadata": {},
     "output_type": "execute_result"
    }
   ],
   "source": [
    "s_good.iloc[93].cleanText"
   ]
  },
  {
   "cell_type": "code",
   "execution_count": 88,
   "metadata": {},
   "outputs": [
    {
     "data": {
      "text/plain": [
       "'The NIH, FDA and CDC offer a wide spectrum of job opportunities focused on improving public health through the discovery and translation of research, the regulation of safe and effective medicines, and the protection of health security.'"
      ]
     },
     "execution_count": 88,
     "metadata": {},
     "output_type": "execute_result"
    }
   ],
   "source": [
    "s_cord.iloc[93].abstract"
   ]
  },
  {
   "cell_type": "code",
   "execution_count": 68,
   "metadata": {},
   "outputs": [
    {
     "data": {
      "text/plain": [
       "<matplotlib.axes._subplots.AxesSubplot at 0x7fa08d3fd190>"
      ]
     },
     "execution_count": 68,
     "metadata": {},
     "output_type": "execute_result"
    },
    {
     "data": {
      "image/png": "[encoded data removed]",
      "text/plain": [
       "<Figure size 432x288 with 1 Axes>"
      ]
     },
     "metadata": {
      "needs_background": "light"
     },
     "output_type": "display_data"
    }
   ],
   "source": [
    "sns.distplot(model.coef_)"
   ]
  },
  {
   "cell_type": "code",
   "execution_count": 10,
   "metadata": {},
   "outputs": [],
   "source": [
    "from sklearn.linear_model import LogisticRegression\n",
    "model = LogisticRegression(max_iter=1000, verbose=1, n_jobs=16, solver='lbfgs')"
   ]
  },
  {
   "cell_type": "code",
   "execution_count": 11,
   "metadata": {},
   "outputs": [
    {
     "name": "stdout",
     "output_type": "stream",
     "text": [
      "Training model...\n"
     ]
    },
    {
     "name": "stderr",
     "output_type": "stream",
     "text": [
      "[Parallel(n_jobs=16)]: Using backend LokyBackend with 16 concurrent workers.\n"
     ]
    },
    {
     "name": "stdout",
     "output_type": "stream",
     "text": [
      "Evaluating model...\n"
     ]
    },
    {
     "name": "stderr",
     "output_type": "stream",
     "text": [
      "[Parallel(n_jobs=16)]: Done   1 out of   1 | elapsed: 112.5min finished\n"
     ]
    },
    {
     "data": {
      "text/plain": [
       "(0.74592, 0.6683375104427736)"
      ]
     },
     "execution_count": 11,
     "metadata": {},
     "output_type": "execute_result"
    }
   ],
   "source": [
    "mm2.single_split_classify(model)"
   ]
  },
  {
   "cell_type": "code",
   "execution_count": 61,
   "metadata": {},
   "outputs": [
    {
     "name": "stdout",
     "output_type": "stream",
     "text": [
      "Training model...\n"
     ]
    },
    {
     "name": "stderr",
     "output_type": "stream",
     "text": [
      "[Parallel(n_jobs=16)]: Using backend LokyBackend with 16 concurrent workers.\n"
     ]
    },
    {
     "name": "stdout",
     "output_type": "stream",
     "text": [
      "Evaluating model...\n"
     ]
    },
    {
     "name": "stderr",
     "output_type": "stream",
     "text": [
      "[Parallel(n_jobs=16)]: Done   1 out of   1 | elapsed:   26.5s finished\n"
     ]
    },
    {
     "data": {
      "text/plain": [
       "(0.74616, 0.657232364696986)"
      ]
     },
     "execution_count": 61,
     "metadata": {},
     "output_type": "execute_result"
    }
   ],
   "source": [
    "mm3 = MarkedMatrix([('real news', mat_good), ('fake news', mat_bad)])\n",
    "model3 = LogisticRegression(max_iter=1000, verbose=1, solver='lbfgs', n_jobs=16)\n",
    "mm3.single_split_classify(model3)"
   ]
  },
  {
   "cell_type": "code",
   "execution_count": 12,
   "metadata": {},
   "outputs": [],
   "source": [
    "save_pickle(model, './pickles/lr_model_5000_samp.pkl')"
   ]
  },
  {
   "cell_type": "code",
   "execution_count": 13,
   "metadata": {},
   "outputs": [],
   "source": [
    "save_pickle(s_cord, './pickles/new_cord_5000_samp.pkl')"
   ]
  },
  {
   "cell_type": "code",
   "execution_count": 16,
   "metadata": {
    "scrolled": true
   },
   "outputs": [
    {
     "name": "stdout",
     "output_type": "stream",
     "text": [
      "========== Performing k-fold validation (0) ==========\n",
      "Training Random Forest\n",
      "Random Forest accuracy: 0.7584\n",
      "Random Forest F1 score: 0.8140394088669951\n",
      "---------------\n",
      "Training XGBoost\n",
      "XGBoost accuracy: 0.7472\n",
      "XGBoost F1 score: 0.7991419037025266\n",
      "---------------\n",
      "Training KNN\n",
      "KNN accuracy: 0.7153\n",
      "KNN F1 score: 0.7538261997405966\n",
      "---------------\n",
      "Training Logistic Regression\n"
     ]
    },
    {
     "name": "stderr",
     "output_type": "stream",
     "text": [
      "/home/will/anaconda3/lib/python3.7/site-packages/sklearn/linear_model/_logistic.py:940: ConvergenceWarning: lbfgs failed to converge (status=1):\n",
      "STOP: TOTAL NO. of ITERATIONS REACHED LIMIT.\n",
      "\n",
      "Increase the number of iterations (max_iter) or scale the data as shown in:\n",
      "    https://scikit-learn.org/stable/modules/preprocessing.html\n",
      "Please also refer to the documentation for alternative solver options:\n",
      "    https://scikit-learn.org/stable/modules/linear_model.html#logistic-regression\n",
      "  extra_warning_msg=_LOGISTIC_SOLVER_CONVERGENCE_MSG)\n"
     ]
    },
    {
     "name": "stdout",
     "output_type": "stream",
     "text": [
      "Logistic Regression accuracy: 0.7938\n",
      "Logistic Regression F1 score: 0.8297274979355904\n",
      "---------------\n",
      "Training Linear SVM\n",
      "Linear SVM accuracy: 0.7983\n",
      "Linear SVM F1 score: 0.8330988829127017\n",
      "---------------\n",
      "========== Performing k-fold validation (1) ==========\n",
      "Training Random Forest\n",
      "Random Forest accuracy: 0.7575\n",
      "Random Forest F1 score: 0.8142474147836077\n",
      "---------------\n",
      "Training XGBoost\n",
      "XGBoost accuracy: 0.7506\n",
      "XGBoost F1 score: 0.8029704534681624\n",
      "---------------\n",
      "Training KNN\n",
      "KNN accuracy: 0.7182\n",
      "KNN F1 score: 0.7557212205270457\n",
      "---------------\n",
      "Training Logistic Regression\n"
     ]
    },
    {
     "name": "stderr",
     "output_type": "stream",
     "text": [
      "/home/will/anaconda3/lib/python3.7/site-packages/sklearn/linear_model/_logistic.py:940: ConvergenceWarning: lbfgs failed to converge (status=1):\n",
      "STOP: TOTAL NO. of ITERATIONS REACHED LIMIT.\n",
      "\n",
      "Increase the number of iterations (max_iter) or scale the data as shown in:\n",
      "    https://scikit-learn.org/stable/modules/preprocessing.html\n",
      "Please also refer to the documentation for alternative solver options:\n",
      "    https://scikit-learn.org/stable/modules/linear_model.html#logistic-regression\n",
      "  extra_warning_msg=_LOGISTIC_SOLVER_CONVERGENCE_MSG)\n"
     ]
    },
    {
     "name": "stdout",
     "output_type": "stream",
     "text": [
      "Logistic Regression accuracy: 0.7922\n",
      "Logistic Regression F1 score: 0.8300899427636959\n",
      "---------------\n",
      "Training Linear SVM\n",
      "Linear SVM accuracy: 0.7965\n",
      "Linear SVM F1 score: 0.833073578869658\n",
      "---------------\n",
      "========== Performing k-fold validation (2) ==========\n",
      "Training Random Forest\n",
      "Random Forest accuracy: 0.7545\n",
      "Random Forest F1 score: 0.808934547435598\n",
      "---------------\n",
      "Training XGBoost\n",
      "XGBoost accuracy: 0.7541\n",
      "XGBoost F1 score: 0.8025375411547419\n",
      "---------------\n",
      "Training KNN\n"
     ]
    },
    {
     "ename": "KeyboardInterrupt",
     "evalue": "",
     "output_type": "error",
     "traceback": [
      "\u001b[0;31m---------------------------------------------------------------------------\u001b[0m",
      "\u001b[0;31mKeyboardInterrupt\u001b[0m                         Traceback (most recent call last)",
      "\u001b[0;32m<ipython-input-16-dda598d735bd>\u001b[0m in \u001b[0;36m<module>\u001b[0;34m\u001b[0m\n\u001b[1;32m      1\u001b[0m \u001b[0mmm3\u001b[0m \u001b[0;34m=\u001b[0m \u001b[0mMarkedMatrix\u001b[0m\u001b[0;34m(\u001b[0m\u001b[0;34m[\u001b[0m\u001b[0;34m(\u001b[0m\u001b[0;34m'real news'\u001b[0m\u001b[0;34m,\u001b[0m \u001b[0mmat_good\u001b[0m\u001b[0;34m)\u001b[0m\u001b[0;34m,\u001b[0m \u001b[0;34m(\u001b[0m\u001b[0;34m'fake news'\u001b[0m\u001b[0;34m,\u001b[0m \u001b[0mmat_bad\u001b[0m\u001b[0;34m)\u001b[0m\u001b[0;34m]\u001b[0m\u001b[0;34m)\u001b[0m\u001b[0;34m\u001b[0m\u001b[0;34m\u001b[0m\u001b[0m\n\u001b[0;32m----> 2\u001b[0;31m \u001b[0mmm3\u001b[0m\u001b[0;34m.\u001b[0m\u001b[0mdefault_classify\u001b[0m\u001b[0;34m(\u001b[0m\u001b[0;34m)\u001b[0m\u001b[0;34m\u001b[0m\u001b[0;34m\u001b[0m\u001b[0m\n\u001b[0m",
      "\u001b[0;32m~/GitHub/wutils/wutils/mat.py\u001b[0m in \u001b[0;36mdefault_classify\u001b[0;34m(self, **kwargs)\u001b[0m\n\u001b[1;32m    253\u001b[0m             \u001b[0;34m'Linear SVM'\u001b[0m\u001b[0;34m:\u001b[0m \u001b[0mLinearSVC\u001b[0m\u001b[0;34m(\u001b[0m\u001b[0mdual\u001b[0m\u001b[0;34m=\u001b[0m\u001b[0;32mFalse\u001b[0m\u001b[0;34m)\u001b[0m\u001b[0;34m,\u001b[0m\u001b[0;34m\u001b[0m\u001b[0;34m\u001b[0m\u001b[0m\n\u001b[1;32m    254\u001b[0m         }\n\u001b[0;32m--> 255\u001b[0;31m         \u001b[0;32mreturn\u001b[0m \u001b[0mself\u001b[0m\u001b[0;34m.\u001b[0m\u001b[0mcustom_classify\u001b[0m\u001b[0;34m(\u001b[0m\u001b[0mclassifiers\u001b[0m\u001b[0;34m,\u001b[0m \u001b[0;34m**\u001b[0m\u001b[0mkwargs\u001b[0m\u001b[0;34m)\u001b[0m\u001b[0;34m\u001b[0m\u001b[0;34m\u001b[0m\u001b[0m\n\u001b[0m\u001b[1;32m    256\u001b[0m \u001b[0;34m\u001b[0m\u001b[0m\n\u001b[1;32m    257\u001b[0m     \u001b[0;32mdef\u001b[0m \u001b[0mdistance_histogram\u001b[0m\u001b[0;34m(\u001b[0m\u001b[0mself\u001b[0m\u001b[0;34m,\u001b[0m \u001b[0mlabel\u001b[0m\u001b[0;34m,\u001b[0m \u001b[0max\u001b[0m\u001b[0;34m=\u001b[0m\u001b[0;32mNone\u001b[0m\u001b[0;34m,\u001b[0m \u001b[0mnn_only\u001b[0m\u001b[0;34m=\u001b[0m\u001b[0;32mTrue\u001b[0m\u001b[0;34m,\u001b[0m \u001b[0mdistance_metric\u001b[0m\u001b[0;34m=\u001b[0m\u001b[0;34m'sqeuclidean'\u001b[0m\u001b[0;34m)\u001b[0m\u001b[0;34m:\u001b[0m\u001b[0;34m\u001b[0m\u001b[0;34m\u001b[0m\u001b[0m\n",
      "\u001b[0;32m~/GitHub/wutils/wutils/mat.py\u001b[0m in \u001b[0;36mcustom_classify\u001b[0;34m(self, classifiers, chosen_labels, n_splits, verbose)\u001b[0m\n\u001b[1;32m    212\u001b[0m                     \u001b[0mprint\u001b[0m\u001b[0;34m(\u001b[0m\u001b[0;34mf'Training {name}'\u001b[0m\u001b[0;34m)\u001b[0m\u001b[0;34m\u001b[0m\u001b[0;34m\u001b[0m\u001b[0m\n\u001b[1;32m    213\u001b[0m                 \u001b[0mmodel\u001b[0m\u001b[0;34m.\u001b[0m\u001b[0mfit\u001b[0m\u001b[0;34m(\u001b[0m\u001b[0mX_train\u001b[0m\u001b[0;34m,\u001b[0m \u001b[0my_train\u001b[0m\u001b[0;34m)\u001b[0m\u001b[0;34m\u001b[0m\u001b[0;34m\u001b[0m\u001b[0m\n\u001b[0;32m--> 214\u001b[0;31m                 \u001b[0my_hat\u001b[0m \u001b[0;34m=\u001b[0m \u001b[0mmodel\u001b[0m\u001b[0;34m.\u001b[0m\u001b[0mpredict\u001b[0m\u001b[0;34m(\u001b[0m\u001b[0mX_test\u001b[0m\u001b[0;34m)\u001b[0m\u001b[0;34m\u001b[0m\u001b[0;34m\u001b[0m\u001b[0m\n\u001b[0m\u001b[1;32m    215\u001b[0m                 \u001b[0macc\u001b[0m \u001b[0;34m=\u001b[0m \u001b[0maccuracy_score\u001b[0m\u001b[0;34m(\u001b[0m\u001b[0my_test\u001b[0m\u001b[0;34m,\u001b[0m \u001b[0my_hat\u001b[0m\u001b[0;34m)\u001b[0m\u001b[0;34m\u001b[0m\u001b[0;34m\u001b[0m\u001b[0m\n\u001b[1;32m    216\u001b[0m                 \u001b[0mf1\u001b[0m \u001b[0;34m=\u001b[0m \u001b[0mf1_score\u001b[0m\u001b[0;34m(\u001b[0m\u001b[0my_test\u001b[0m\u001b[0;34m,\u001b[0m \u001b[0my_hat\u001b[0m\u001b[0;34m,\u001b[0m \u001b[0maverage\u001b[0m\u001b[0;34m=\u001b[0m\u001b[0mf1_average\u001b[0m\u001b[0;34m)\u001b[0m\u001b[0;34m\u001b[0m\u001b[0;34m\u001b[0m\u001b[0m\n",
      "\u001b[0;32m~/anaconda3/lib/python3.7/site-packages/sklearn/neighbors/_classification.py\u001b[0m in \u001b[0;36mpredict\u001b[0;34m(self, X)\u001b[0m\n\u001b[1;32m    171\u001b[0m         \u001b[0mX\u001b[0m \u001b[0;34m=\u001b[0m \u001b[0mcheck_array\u001b[0m\u001b[0;34m(\u001b[0m\u001b[0mX\u001b[0m\u001b[0;34m,\u001b[0m \u001b[0maccept_sparse\u001b[0m\u001b[0;34m=\u001b[0m\u001b[0;34m'csr'\u001b[0m\u001b[0;34m)\u001b[0m\u001b[0;34m\u001b[0m\u001b[0;34m\u001b[0m\u001b[0m\n\u001b[1;32m    172\u001b[0m \u001b[0;34m\u001b[0m\u001b[0m\n\u001b[0;32m--> 173\u001b[0;31m         \u001b[0mneigh_dist\u001b[0m\u001b[0;34m,\u001b[0m \u001b[0mneigh_ind\u001b[0m \u001b[0;34m=\u001b[0m \u001b[0mself\u001b[0m\u001b[0;34m.\u001b[0m\u001b[0mkneighbors\u001b[0m\u001b[0;34m(\u001b[0m\u001b[0mX\u001b[0m\u001b[0;34m)\u001b[0m\u001b[0;34m\u001b[0m\u001b[0;34m\u001b[0m\u001b[0m\n\u001b[0m\u001b[1;32m    174\u001b[0m         \u001b[0mclasses_\u001b[0m \u001b[0;34m=\u001b[0m \u001b[0mself\u001b[0m\u001b[0;34m.\u001b[0m\u001b[0mclasses_\u001b[0m\u001b[0;34m\u001b[0m\u001b[0;34m\u001b[0m\u001b[0m\n\u001b[1;32m    175\u001b[0m         \u001b[0m_y\u001b[0m \u001b[0;34m=\u001b[0m \u001b[0mself\u001b[0m\u001b[0;34m.\u001b[0m\u001b[0m_y\u001b[0m\u001b[0;34m\u001b[0m\u001b[0;34m\u001b[0m\u001b[0m\n",
      "\u001b[0;32m~/anaconda3/lib/python3.7/site-packages/sklearn/neighbors/_base.py\u001b[0m in \u001b[0;36mkneighbors\u001b[0;34m(self, X, n_neighbors, return_distance)\u001b[0m\n\u001b[1;32m    661\u001b[0m                 delayed_query(\n\u001b[1;32m    662\u001b[0m                     self._tree, X[s], n_neighbors, return_distance)\n\u001b[0;32m--> 663\u001b[0;31m                 \u001b[0;32mfor\u001b[0m \u001b[0ms\u001b[0m \u001b[0;32min\u001b[0m \u001b[0mgen_even_slices\u001b[0m\u001b[0;34m(\u001b[0m\u001b[0mX\u001b[0m\u001b[0;34m.\u001b[0m\u001b[0mshape\u001b[0m\u001b[0;34m[\u001b[0m\u001b[0;36m0\u001b[0m\u001b[0;34m]\u001b[0m\u001b[0;34m,\u001b[0m \u001b[0mn_jobs\u001b[0m\u001b[0;34m)\u001b[0m\u001b[0;34m\u001b[0m\u001b[0;34m\u001b[0m\u001b[0m\n\u001b[0m\u001b[1;32m    664\u001b[0m             )\n\u001b[1;32m    665\u001b[0m         \u001b[0;32melse\u001b[0m\u001b[0;34m:\u001b[0m\u001b[0;34m\u001b[0m\u001b[0;34m\u001b[0m\u001b[0m\n",
      "\u001b[0;32m~/anaconda3/lib/python3.7/site-packages/joblib/parallel.py\u001b[0m in \u001b[0;36m__call__\u001b[0;34m(self, iterable)\u001b[0m\n\u001b[1;32m   1002\u001b[0m             \u001b[0;31m# remaining jobs.\u001b[0m\u001b[0;34m\u001b[0m\u001b[0;34m\u001b[0m\u001b[0;34m\u001b[0m\u001b[0m\n\u001b[1;32m   1003\u001b[0m             \u001b[0mself\u001b[0m\u001b[0;34m.\u001b[0m\u001b[0m_iterating\u001b[0m \u001b[0;34m=\u001b[0m \u001b[0;32mFalse\u001b[0m\u001b[0;34m\u001b[0m\u001b[0;34m\u001b[0m\u001b[0m\n\u001b[0;32m-> 1004\u001b[0;31m             \u001b[0;32mif\u001b[0m \u001b[0mself\u001b[0m\u001b[0;34m.\u001b[0m\u001b[0mdispatch_one_batch\u001b[0m\u001b[0;34m(\u001b[0m\u001b[0miterator\u001b[0m\u001b[0;34m)\u001b[0m\u001b[0;34m:\u001b[0m\u001b[0;34m\u001b[0m\u001b[0;34m\u001b[0m\u001b[0m\n\u001b[0m\u001b[1;32m   1005\u001b[0m                 \u001b[0mself\u001b[0m\u001b[0;34m.\u001b[0m\u001b[0m_iterating\u001b[0m \u001b[0;34m=\u001b[0m \u001b[0mself\u001b[0m\u001b[0;34m.\u001b[0m\u001b[0m_original_iterator\u001b[0m \u001b[0;32mis\u001b[0m \u001b[0;32mnot\u001b[0m \u001b[0;32mNone\u001b[0m\u001b[0;34m\u001b[0m\u001b[0;34m\u001b[0m\u001b[0m\n\u001b[1;32m   1006\u001b[0m \u001b[0;34m\u001b[0m\u001b[0m\n",
      "\u001b[0;32m~/anaconda3/lib/python3.7/site-packages/joblib/parallel.py\u001b[0m in \u001b[0;36mdispatch_one_batch\u001b[0;34m(self, iterator)\u001b[0m\n\u001b[1;32m    833\u001b[0m                 \u001b[0;32mreturn\u001b[0m \u001b[0;32mFalse\u001b[0m\u001b[0;34m\u001b[0m\u001b[0;34m\u001b[0m\u001b[0m\n\u001b[1;32m    834\u001b[0m             \u001b[0;32melse\u001b[0m\u001b[0;34m:\u001b[0m\u001b[0;34m\u001b[0m\u001b[0;34m\u001b[0m\u001b[0m\n\u001b[0;32m--> 835\u001b[0;31m                 \u001b[0mself\u001b[0m\u001b[0;34m.\u001b[0m\u001b[0m_dispatch\u001b[0m\u001b[0;34m(\u001b[0m\u001b[0mtasks\u001b[0m\u001b[0;34m)\u001b[0m\u001b[0;34m\u001b[0m\u001b[0;34m\u001b[0m\u001b[0m\n\u001b[0m\u001b[1;32m    836\u001b[0m                 \u001b[0;32mreturn\u001b[0m \u001b[0;32mTrue\u001b[0m\u001b[0;34m\u001b[0m\u001b[0;34m\u001b[0m\u001b[0m\n\u001b[1;32m    837\u001b[0m \u001b[0;34m\u001b[0m\u001b[0m\n",
      "\u001b[0;32m~/anaconda3/lib/python3.7/site-packages/joblib/parallel.py\u001b[0m in \u001b[0;36m_dispatch\u001b[0;34m(self, batch)\u001b[0m\n\u001b[1;32m    752\u001b[0m         \u001b[0;32mwith\u001b[0m \u001b[0mself\u001b[0m\u001b[0;34m.\u001b[0m\u001b[0m_lock\u001b[0m\u001b[0;34m:\u001b[0m\u001b[0;34m\u001b[0m\u001b[0;34m\u001b[0m\u001b[0m\n\u001b[1;32m    753\u001b[0m             \u001b[0mjob_idx\u001b[0m \u001b[0;34m=\u001b[0m \u001b[0mlen\u001b[0m\u001b[0;34m(\u001b[0m\u001b[0mself\u001b[0m\u001b[0;34m.\u001b[0m\u001b[0m_jobs\u001b[0m\u001b[0;34m)\u001b[0m\u001b[0;34m\u001b[0m\u001b[0;34m\u001b[0m\u001b[0m\n\u001b[0;32m--> 754\u001b[0;31m             \u001b[0mjob\u001b[0m \u001b[0;34m=\u001b[0m \u001b[0mself\u001b[0m\u001b[0;34m.\u001b[0m\u001b[0m_backend\u001b[0m\u001b[0;34m.\u001b[0m\u001b[0mapply_async\u001b[0m\u001b[0;34m(\u001b[0m\u001b[0mbatch\u001b[0m\u001b[0;34m,\u001b[0m \u001b[0mcallback\u001b[0m\u001b[0;34m=\u001b[0m\u001b[0mcb\u001b[0m\u001b[0;34m)\u001b[0m\u001b[0;34m\u001b[0m\u001b[0;34m\u001b[0m\u001b[0m\n\u001b[0m\u001b[1;32m    755\u001b[0m             \u001b[0;31m# A job can complete so quickly than its callback is\u001b[0m\u001b[0;34m\u001b[0m\u001b[0;34m\u001b[0m\u001b[0;34m\u001b[0m\u001b[0m\n\u001b[1;32m    756\u001b[0m             \u001b[0;31m# called before we get here, causing self._jobs to\u001b[0m\u001b[0;34m\u001b[0m\u001b[0;34m\u001b[0m\u001b[0;34m\u001b[0m\u001b[0m\n",
      "\u001b[0;32m~/anaconda3/lib/python3.7/site-packages/joblib/_parallel_backends.py\u001b[0m in \u001b[0;36mapply_async\u001b[0;34m(self, func, callback)\u001b[0m\n\u001b[1;32m    207\u001b[0m     \u001b[0;32mdef\u001b[0m \u001b[0mapply_async\u001b[0m\u001b[0;34m(\u001b[0m\u001b[0mself\u001b[0m\u001b[0;34m,\u001b[0m \u001b[0mfunc\u001b[0m\u001b[0;34m,\u001b[0m \u001b[0mcallback\u001b[0m\u001b[0;34m=\u001b[0m\u001b[0;32mNone\u001b[0m\u001b[0;34m)\u001b[0m\u001b[0;34m:\u001b[0m\u001b[0;34m\u001b[0m\u001b[0;34m\u001b[0m\u001b[0m\n\u001b[1;32m    208\u001b[0m         \u001b[0;34m\"\"\"Schedule a func to be run\"\"\"\u001b[0m\u001b[0;34m\u001b[0m\u001b[0;34m\u001b[0m\u001b[0m\n\u001b[0;32m--> 209\u001b[0;31m         \u001b[0mresult\u001b[0m \u001b[0;34m=\u001b[0m \u001b[0mImmediateResult\u001b[0m\u001b[0;34m(\u001b[0m\u001b[0mfunc\u001b[0m\u001b[0;34m)\u001b[0m\u001b[0;34m\u001b[0m\u001b[0;34m\u001b[0m\u001b[0m\n\u001b[0m\u001b[1;32m    210\u001b[0m         \u001b[0;32mif\u001b[0m \u001b[0mcallback\u001b[0m\u001b[0;34m:\u001b[0m\u001b[0;34m\u001b[0m\u001b[0;34m\u001b[0m\u001b[0m\n\u001b[1;32m    211\u001b[0m             \u001b[0mcallback\u001b[0m\u001b[0;34m(\u001b[0m\u001b[0mresult\u001b[0m\u001b[0;34m)\u001b[0m\u001b[0;34m\u001b[0m\u001b[0;34m\u001b[0m\u001b[0m\n",
      "\u001b[0;32m~/anaconda3/lib/python3.7/site-packages/joblib/_parallel_backends.py\u001b[0m in \u001b[0;36m__init__\u001b[0;34m(self, batch)\u001b[0m\n\u001b[1;32m    588\u001b[0m         \u001b[0;31m# Don't delay the application, to avoid keeping the input\u001b[0m\u001b[0;34m\u001b[0m\u001b[0;34m\u001b[0m\u001b[0;34m\u001b[0m\u001b[0m\n\u001b[1;32m    589\u001b[0m         \u001b[0;31m# arguments in memory\u001b[0m\u001b[0;34m\u001b[0m\u001b[0;34m\u001b[0m\u001b[0;34m\u001b[0m\u001b[0m\n\u001b[0;32m--> 590\u001b[0;31m         \u001b[0mself\u001b[0m\u001b[0;34m.\u001b[0m\u001b[0mresults\u001b[0m \u001b[0;34m=\u001b[0m \u001b[0mbatch\u001b[0m\u001b[0;34m(\u001b[0m\u001b[0;34m)\u001b[0m\u001b[0;34m\u001b[0m\u001b[0;34m\u001b[0m\u001b[0m\n\u001b[0m\u001b[1;32m    591\u001b[0m \u001b[0;34m\u001b[0m\u001b[0m\n\u001b[1;32m    592\u001b[0m     \u001b[0;32mdef\u001b[0m \u001b[0mget\u001b[0m\u001b[0;34m(\u001b[0m\u001b[0mself\u001b[0m\u001b[0;34m)\u001b[0m\u001b[0;34m:\u001b[0m\u001b[0;34m\u001b[0m\u001b[0;34m\u001b[0m\u001b[0m\n",
      "\u001b[0;32m~/anaconda3/lib/python3.7/site-packages/joblib/parallel.py\u001b[0m in \u001b[0;36m__call__\u001b[0;34m(self)\u001b[0m\n\u001b[1;32m    254\u001b[0m         \u001b[0;32mwith\u001b[0m \u001b[0mparallel_backend\u001b[0m\u001b[0;34m(\u001b[0m\u001b[0mself\u001b[0m\u001b[0;34m.\u001b[0m\u001b[0m_backend\u001b[0m\u001b[0;34m,\u001b[0m \u001b[0mn_jobs\u001b[0m\u001b[0;34m=\u001b[0m\u001b[0mself\u001b[0m\u001b[0;34m.\u001b[0m\u001b[0m_n_jobs\u001b[0m\u001b[0;34m)\u001b[0m\u001b[0;34m:\u001b[0m\u001b[0;34m\u001b[0m\u001b[0;34m\u001b[0m\u001b[0m\n\u001b[1;32m    255\u001b[0m             return [func(*args, **kwargs)\n\u001b[0;32m--> 256\u001b[0;31m                     for func, args, kwargs in self.items]\n\u001b[0m\u001b[1;32m    257\u001b[0m \u001b[0;34m\u001b[0m\u001b[0m\n\u001b[1;32m    258\u001b[0m     \u001b[0;32mdef\u001b[0m \u001b[0m__len__\u001b[0m\u001b[0;34m(\u001b[0m\u001b[0mself\u001b[0m\u001b[0;34m)\u001b[0m\u001b[0;34m:\u001b[0m\u001b[0;34m\u001b[0m\u001b[0;34m\u001b[0m\u001b[0m\n",
      "\u001b[0;32m~/anaconda3/lib/python3.7/site-packages/joblib/parallel.py\u001b[0m in \u001b[0;36m<listcomp>\u001b[0;34m(.0)\u001b[0m\n\u001b[1;32m    254\u001b[0m         \u001b[0;32mwith\u001b[0m \u001b[0mparallel_backend\u001b[0m\u001b[0;34m(\u001b[0m\u001b[0mself\u001b[0m\u001b[0;34m.\u001b[0m\u001b[0m_backend\u001b[0m\u001b[0;34m,\u001b[0m \u001b[0mn_jobs\u001b[0m\u001b[0;34m=\u001b[0m\u001b[0mself\u001b[0m\u001b[0;34m.\u001b[0m\u001b[0m_n_jobs\u001b[0m\u001b[0;34m)\u001b[0m\u001b[0;34m:\u001b[0m\u001b[0;34m\u001b[0m\u001b[0;34m\u001b[0m\u001b[0m\n\u001b[1;32m    255\u001b[0m             return [func(*args, **kwargs)\n\u001b[0;32m--> 256\u001b[0;31m                     for func, args, kwargs in self.items]\n\u001b[0m\u001b[1;32m    257\u001b[0m \u001b[0;34m\u001b[0m\u001b[0m\n\u001b[1;32m    258\u001b[0m     \u001b[0;32mdef\u001b[0m \u001b[0m__len__\u001b[0m\u001b[0;34m(\u001b[0m\u001b[0mself\u001b[0m\u001b[0;34m)\u001b[0m\u001b[0;34m:\u001b[0m\u001b[0;34m\u001b[0m\u001b[0;34m\u001b[0m\u001b[0m\n",
      "\u001b[0;32m~/anaconda3/lib/python3.7/site-packages/sklearn/neighbors/_base.py\u001b[0m in \u001b[0;36m_tree_query_parallel_helper\u001b[0;34m(tree, *args, **kwargs)\u001b[0m\n\u001b[1;32m    488\u001b[0m     \u001b[0munder\u001b[0m \u001b[0mPyPy\u001b[0m\u001b[0;34m.\u001b[0m\u001b[0;34m\u001b[0m\u001b[0;34m\u001b[0m\u001b[0m\n\u001b[1;32m    489\u001b[0m     \"\"\"\n\u001b[0;32m--> 490\u001b[0;31m     \u001b[0;32mreturn\u001b[0m \u001b[0mtree\u001b[0m\u001b[0;34m.\u001b[0m\u001b[0mquery\u001b[0m\u001b[0;34m(\u001b[0m\u001b[0;34m*\u001b[0m\u001b[0margs\u001b[0m\u001b[0;34m,\u001b[0m \u001b[0;34m**\u001b[0m\u001b[0mkwargs\u001b[0m\u001b[0;34m)\u001b[0m\u001b[0;34m\u001b[0m\u001b[0;34m\u001b[0m\u001b[0m\n\u001b[0m\u001b[1;32m    491\u001b[0m \u001b[0;34m\u001b[0m\u001b[0m\n\u001b[1;32m    492\u001b[0m \u001b[0;34m\u001b[0m\u001b[0m\n",
      "\u001b[0;31mKeyboardInterrupt\u001b[0m: "
     ]
    }
   ],
   "source": [
    "mm3 = MarkedMatrix([('real news', mat_good), ('fake news', mat_bad)])\n",
    "mm3.default_classify()"
   ]
  },
  {
   "cell_type": "code",
   "execution_count": null,
   "metadata": {},
   "outputs": [
    {
     "name": "stdout",
     "output_type": "stream",
     "text": [
      "========== Performing k-fold validation (0) ==========\n",
      "Training Random Forest\n",
      "Random Forest accuracy: 0.7205\n",
      "Random Forest F1 score: 0.5953380628348053\n",
      "---------------\n",
      "Training XGBoost\n",
      "XGBoost accuracy: 0.7088\n",
      "XGBoost F1 score: 0.582688449412439\n",
      "---------------\n",
      "Training KNN\n",
      "KNN accuracy: 0.6633\n",
      "KNN F1 score: 0.5842696629213484\n",
      "---------------\n",
      "Training Logistic Regression\n"
     ]
    },
    {
     "name": "stderr",
     "output_type": "stream",
     "text": [
      "/home/will/anaconda3/lib/python3.7/site-packages/sklearn/linear_model/_logistic.py:940: ConvergenceWarning: lbfgs failed to converge (status=1):\n",
      "STOP: TOTAL NO. of ITERATIONS REACHED LIMIT.\n",
      "\n",
      "Increase the number of iterations (max_iter) or scale the data as shown in:\n",
      "    https://scikit-learn.org/stable/modules/preprocessing.html\n",
      "Please also refer to the documentation for alternative solver options:\n",
      "    https://scikit-learn.org/stable/modules/linear_model.html#logistic-regression\n",
      "  extra_warning_msg=_LOGISTIC_SOLVER_CONVERGENCE_MSG)\n"
     ]
    },
    {
     "name": "stdout",
     "output_type": "stream",
     "text": [
      "Logistic Regression accuracy: 0.7274\n",
      "Logistic Regression F1 score: 0.6416929547844374\n",
      "---------------\n",
      "Training Linear SVM\n",
      "Linear SVM accuracy: 0.7574\n",
      "Linear SVM F1 score: 0.6876930998970133\n",
      "---------------\n",
      "========== Performing k-fold validation (1) ==========\n",
      "Training Random Forest\n",
      "Random Forest accuracy: 0.7183\n",
      "Random Forest F1 score: 0.5917982901028837\n",
      "---------------\n",
      "Training XGBoost\n",
      "XGBoost accuracy: 0.7117\n",
      "XGBoost F1 score: 0.5840427066801327\n",
      "---------------\n",
      "Training KNN\n"
     ]
    }
   ],
   "source": [
    "mm2.default_classify()"
   ]
  },
  {
   "cell_type": "code",
   "execution_count": null,
   "metadata": {},
   "outputs": [],
   "source": []
  },
  {
   "cell_type": "code",
   "execution_count": 5,
   "metadata": {},
   "outputs": [],
   "source": []
  },
  {
   "cell_type": "code",
   "execution_count": 10,
   "metadata": {},
   "outputs": [],
   "source": [
    "claim_df = load_pickle('./pickles/newest_claims_df_labelled.pkl')\n",
    "mat_claims = np.array(list(claim_df['ft_embedding']))"
   ]
  },
  {
   "cell_type": "code",
   "execution_count": 11,
   "metadata": {},
   "outputs": [
    {
     "data": {
      "application/vnd.jupyter.widget-view+json": {
       "model_id": "64be5abe22714415af3e81300f2752e9",
       "version_major": 2,
       "version_minor": 0
      },
      "text/plain": [
       "HBox(children=(FloatProgress(value=0.0, description='Pandas Apply', max=875.0, style=ProgressStyle(description…"
      ]
     },
     "metadata": {},
     "output_type": "display_data"
    },
    {
     "name": "stdout",
     "output_type": "stream",
     "text": [
      "\n"
     ]
    },
    {
     "data": {
      "text/plain": [
       "0      False\n",
       "1      False\n",
       "2      False\n",
       "3      False\n",
       "4      False\n",
       "       ...  \n",
       "870    False\n",
       "871    False\n",
       "872    False\n",
       "873    False\n",
       "874    False\n",
       "Name: ft_embedding, Length: 875, dtype: bool"
      ]
     },
     "execution_count": 11,
     "metadata": {},
     "output_type": "execute_result"
    }
   ],
   "source": [
    "claim_df['ft_embedding'].swifter.apply(lambda x: np.isnan(x).any())"
   ]
  },
  {
   "cell_type": "code",
   "execution_count": 12,
   "metadata": {},
   "outputs": [],
   "source": [
    "c_model = LogisticRegression(max_iter=1000, verbose=1, solver='lbfgs', n_jobs=16)"
   ]
  },
  {
   "cell_type": "code",
   "execution_count": 75,
   "metadata": {},
   "outputs": [],
   "source": [
    "good2claims = cdist(mat_good, mat_claims)\n",
    "bad2claims = cdist(mat_bad, mat_claims)"
   ]
  },
  {
   "cell_type": "code",
   "execution_count": 76,
   "metadata": {},
   "outputs": [
    {
     "data": {
      "text/plain": [
       "False"
      ]
     },
     "execution_count": 76,
     "metadata": {},
     "output_type": "execute_result"
    }
   ],
   "source": [
    "np.isnan(bad2claims).any()"
   ]
  },
  {
   "cell_type": "code",
   "execution_count": 17,
   "metadata": {},
   "outputs": [],
   "source": [
    "mm = MarkedMatrix((('good', good2claims), ('bad', bad2claims)))"
   ]
  },
  {
   "cell_type": "code",
   "execution_count": 19,
   "metadata": {},
   "outputs": [],
   "source": [
    "mm_ft = MarkedMatrix((('good', mat_good), ('bad', mat_bad)))"
   ]
  },
  {
   "cell_type": "code",
   "execution_count": 23,
   "metadata": {},
   "outputs": [],
   "source": [
    "save_pickle(mm, 'pickles/newest_mm_claims.pkl')\n",
    "save_pickle(mm_ft, 'pickles/newest_mm_ft_claims.pkl')"
   ]
  },
  {
   "cell_type": "code",
   "execution_count": 79,
   "metadata": {},
   "outputs": [
    {
     "name": "stdout",
     "output_type": "stream",
     "text": [
      "Training model...\n"
     ]
    },
    {
     "name": "stderr",
     "output_type": "stream",
     "text": [
      "[Parallel(n_jobs=16)]: Using backend LokyBackend with 16 concurrent workers.\n"
     ]
    },
    {
     "name": "stdout",
     "output_type": "stream",
     "text": [
      "Evaluating model...\n"
     ]
    },
    {
     "name": "stderr",
     "output_type": "stream",
     "text": [
      "[Parallel(n_jobs=16)]: Done   1 out of   1 | elapsed: 16.2min finished\n"
     ]
    },
    {
     "data": {
      "text/plain": [
       "(0.75976, 0.687610527410798)"
      ]
     },
     "execution_count": 79,
     "metadata": {},
     "output_type": "execute_result"
    }
   ],
   "source": [
    "mm.single_split_classify(c_model)"
   ]
  },
  {
   "cell_type": "code",
   "execution_count": 80,
   "metadata": {},
   "outputs": [
    {
     "name": "stdout",
     "output_type": "stream",
     "text": [
      "Training model...\n"
     ]
    },
    {
     "name": "stderr",
     "output_type": "stream",
     "text": [
      "[Parallel(n_jobs=16)]: Using backend LokyBackend with 16 concurrent workers.\n"
     ]
    },
    {
     "name": "stdout",
     "output_type": "stream",
     "text": [
      "Evaluating model...\n"
     ]
    },
    {
     "name": "stderr",
     "output_type": "stream",
     "text": [
      "[Parallel(n_jobs=16)]: Done   1 out of   1 | elapsed:   23.4s finished\n"
     ]
    },
    {
     "data": {
      "text/plain": [
       "(0.75288, 0.6699433700181644)"
      ]
     },
     "execution_count": 80,
     "metadata": {},
     "output_type": "execute_result"
    }
   ],
   "source": [
    "ft_model = LogisticRegression(max_iter=1000, verbose=1, solver='lbfgs', n_jobs=16)\n",
    "mm_ft.single_split_classify(ft_model)"
   ]
  },
  {
   "cell_type": "code",
   "execution_count": 48,
   "metadata": {},
   "outputs": [
    {
     "data": {
      "text/plain": [
       "authors                                                           []\n",
       "publishDate                                2020-06-02 23:36:01+05:30\n",
       "cleanText          Sources said Arora had also written to ICMR an...\n",
       "title              Covid cases in Haryana now doubling every 6 da...\n",
       "url                https://indianexpress.com/article/cities/chand...\n",
       "covidFreq                                                          7\n",
       "sentences          [Sources said Arora had also written to ICMR a...\n",
       "fixed_sent         [Sources said Arora had also written to ICMR a...\n",
       "sent_embeddings    [[0.14723144, -0.888705, 0.025974467, 0.419926...\n",
       "ft_embeddings      [[-0.003661152, 0.005573827, 2.6989728e-06, 0....\n",
       "mean_embed         [-0.0030042257, 0.012192692, 0.008261091, 0.02...\n",
       "ft_has_nan                                                     False\n",
       "Name: 917085, dtype: object"
      ]
     },
     "execution_count": 48,
     "metadata": {},
     "output_type": "execute_result"
    }
   ],
   "source": [
    "good_df.iloc[55]"
   ]
  },
  {
   "cell_type": "code",
   "execution_count": 77,
   "metadata": {},
   "outputs": [],
   "source": [
    "def get_claims_res(num, k=5, use_good=True):\n",
    "    if use_good:\n",
    "        target_df = good_df\n",
    "        target_mat = good2claims\n",
    "    else:\n",
    "        target_df = bad_df\n",
    "        target_mat = bad2claims\n",
    "    res = c_model.predict(target_mat[num, :].reshape(1, -1))\n",
    "    print('Classification result: ', res)\n",
    "    weights = c_model.coef_ * target_mat[num, :].T\n",
    "    top_k = np.argsort(weights)[0, -k:]\n",
    "    print('Clean Text: ', target_df.iloc[num].cleanText)\n",
    "    for el in top_k:\n",
    "        print('-'*25)\n",
    "        print(f'Related claim ({el}): {claim_df.iloc[el].text}')\n",
    "        print(f'Related review ({el}): {claim_df.iloc[el].claimReview}')"
   ]
  },
  {
   "cell_type": "code",
   "execution_count": 78,
   "metadata": {},
   "outputs": [
    {
     "name": "stdout",
     "output_type": "stream",
     "text": [
      "Classification result:  [0]\n",
      "Clean Text:  More than $40 million worth of potentially dangerous food and drink has been seized in an operation coordinated by Europol and Interpol.\n",
      "Operation Opson IX dismantled 19 organized crime groups and led to the arrest of 407 people worldwide. About 12,000 tons of illegal and harmful products were confiscated but results were at least partially affected by the Coronavirus pandemic.\n",
      "In Bulgaria, an investigation by police and the food safety agency into an unregistered warehouse found seven samples of cheese which tested positive for E. coli. Some 3.6 tons of unsafe dairy products set to be processed into melted cheese were destroyed.\n",
      "As part of a focus on dairy, 320 tons of smuggled or substandard items were seized by Bulgaria, Italy, France, Greece, Portugal and Switzerland. This included rotten milk and cheese which posed a threat to public health.\n",
      "Police, customs, national food authorities and private sector partners in 77 countries took part in the annual action which ran from December 2019 through June 2020. In Operation Opson 2019, more than $117 million worth of potentially dangerous food and drinks was seized including 16,000 tons and 33 million liters of fake food and drink.\n",
      "Horse meat back in focus\n",
      "At more than 5,000 tons, animal food was the most seized product, followed by alcoholic beverages with more than 2,000 tons, cereals, grains and derived products, coffee and tea and condiments.\n",
      "Large amounts of saffron were detained: 90-kilograms in Spain and 7 kg in Belgium with an estimated value of more than €306,000. US authorities seized 147 kg of raw apricot kernel seeds sold as a cure for cancer.\n",
      "“In times of crises, criminals always look for new ways to abuse consumers and increase their illegal profit to the harm of public safety. Counterfeit and substandard food is not only deceitful to consumers but can also pose a significant threat to their health,” said Catherine De Bolle, Europol’s executive director.\n",
      "Europol launched a project to support national authorities combat sales of illegal horse meat, led by Belgium, Ireland and the Netherlands and supported by DG SANTE, Denmark, France, Italy, Spain and the United Kingdom.\n",
      "A trend in Europe was falsification of horse passports. In one case, horses transported into Italy using fake documents claiming they were to take part in sports competitions were actually sent to a slaughterhouse.\n",
      "Activities focused on document checks of more than 157,000 horses from eight countries and about 117 tons of horse meat. Live animals and more than 17 tons of meat were seized from sites in Belgium, Ireland, Italy, Spain and the Netherlands. Inspections of slaughterhouses in several countries showed that about 20 percent of foreign passports used for these horses had signs of forgery.\n",
      "Coronavirus pandemic impact\n",
      "Another trend was low-quality products in the supply chain, a development possibly linked to the COVID-19 pandemic, according to the police agencies.\n",
      "Authorities discovered thousands of fake medical products, including disinfectants and 17,000 false COVID-19 testing kits. A shipment of seafood seized in South Africa originating from Asia was falsely declared as personal protective equipment.\n",
      "Seizures of expired food items or where dates had been altered were significantly higher than previous Opson operations. Interpol said this could be criminals capitalizing on the disruption of food supply chains caused by national lockdowns.\n",
      "Jürgen Stock, Interpol secretary general, said as countries continue efforts to contain COVID-19, criminal networks distributing potentially dangerous products show only determination to make a profit.\n",
      "“The scale and variety of food and drink seized during this operation serves as a reminder for members of the public to be vigilant about what they buy, and the need for continued vigilance and action by law enforcement.”\n",
      "Illicit alcohol and olive oil\n",
      "Operation Opson was also supported by the European Anti-Fraud Office (OLAF), European Commission and European Union Intellectual Property Office (EUIPO).\n",
      "More than $20 million worth and 1.2 million liters of illicit alcoholic beverages, mostly wine, were taken out of circulation, including 5,000 liters of vodka smuggled in a trailer in Norway thanks to law enforcement agencies, coordinated by OLAF.\n",
      "A total of 149 tons of cooking oil was seized as a result of action led by Greece. About 88 tons was olive oil reported by Albania, Croatia, France, Greece, Italy, Jordan, Lithuania, Portugal and Spain. In Italy, inspectors found a surplus of product, which was not registered in official documents of the company producing olive oil, so more than 66 tons of the product was seized.\n",
      "Anne Bucher, director general of DG SANTE, said the operation helps to protect consumers and honest food businesses in Europe.\n",
      "“The EU Food Fraud Network complements effectively the work of the enforcement authorities and the justice system in the EU and thus making a real difference in the fight against food fraud. The Commission will, as announced in the Farm to Fork strategy, continuously invest in the fight of food fraud and is stepping up the tools to fight against these practices. We aim to make the food market more sustainable and resilient against fraud.”\n",
      "-------------------------\n",
      "Related claim (673): Video is of Canadian PM Justin Trudeau's wife who is suffering from COVID-19\n",
      "Related review (673): [{'publisher': {'name': 'India Today', 'site': 'indiatoday.in'}, 'url': 'https://www.indiatoday.in/fact-check/story/fact-check-no-this-covid-19-patient-is-not-the-wife-of-canadian-pm-justin-trudeau-1658145-2020-03-21', 'title': 'Fact Check: No, this COVID-19 patient is not the wife of Canadian PM Justin Trudeau', 'reviewDate': '2020-03-21T00:00:00Z', 'textualRating': 'Half true', 'languageCode': 'en'}]\n",
      "-------------------------\n",
      "Related claim (204): Putin's daughter received the first COVID-19 vaccine.\n",
      "Related review (204): [{'publisher': {'name': 'Misbar', 'site': 'misbar.com'}, 'url': 'https://misbar.com/en/factcheck/2020/08/12/this-is-not-putins-daughter', 'title': \"This is Not Putin's Daughter | Fact Check\", 'reviewDate': '2020-08-12T07:19:00Z', 'textualRating': 'Fake', 'languageCode': 'en'}]\n",
      "-------------------------\n",
      "Related claim (702): Video aksi protes di AS saat pandemi COVID-19\n",
      "Related review (702): [{'publisher': {'name': 'AFP Factuel', 'site': 'factuel.afp.com'}, 'url': 'https://factuel.afp.com/node/10069', 'title': 'Video ini telah beredar di laporan tentang prosesi pemakaman komandan militer di Iran di bulan Januari 2020', 'reviewDate': '2020-06-26T10:25:00Z', 'textualRating': 'Salah', 'languageCode': 'en'}, {'publisher': {'name': 'AFP Checamos', 'site': 'checamos.afp.com'}, 'url': 'https://checamos.afp.com/node/10069', 'title': 'Video ini telah beredar di laporan tentang prosesi pemakaman komandan militer di Iran di bulan Januari 2020', 'reviewDate': '2020-06-26T10:25:00Z', 'textualRating': 'Salah', 'languageCode': 'pt'}, {'publisher': {'name': 'Sprawdzam AFP', 'site': 'sprawdzam.afp.com'}, 'url': 'https://sprawdzam.afp.com/node/10069', 'title': 'Video ini telah beredar di laporan tentang prosesi pemakaman komandan militer di Iran di bulan Januari 2020', 'reviewDate': '2020-06-26T10:25:00Z', 'textualRating': 'Salah', 'languageCode': 'pl'}, {'publisher': {'name': 'Semakan Fakta', 'site': 'semakanfakta.afp.com'}, 'url': 'https://semakanfakta.afp.com/node/10069', 'title': 'Video ini telah beredar di laporan tentang prosesi pemakaman komandan militer di Iran di bulan Januari 2020', 'reviewDate': '2020-06-26T10:25:00Z', 'textualRating': 'Salah', 'languageCode': 'ms'}, {'publisher': {'name': 'Periksa Fakta', 'site': 'periksafakta.afp.com'}, 'url': 'https://periksafakta.afp.com/video-ini-telah-beredar-di-laporan-tentang-prosesi-pemakaman-komandan-militer-di-iran-di-bulan', 'title': 'Video ini telah beredar di laporan tentang prosesi pemakaman komandan militer di Iran di bulan Januari 2020', 'reviewDate': '2020-06-26T10:25:00Z', 'textualRating': 'Salah', 'languageCode': 'id'}, {'publisher': {'name': 'Factcheck Nederland', 'site': 'factchecknederland.afp.com'}, 'url': 'https://factchecknederland.afp.com/node/10069', 'title': 'Video ini telah beredar di laporan tentang prosesi pemakaman komandan militer di Iran di bulan Januari 2020', 'reviewDate': '2020-06-26T10:25:00Z', 'textualRating': 'Salah', 'languageCode': 'nl'}, {'publisher': {'name': 'Na pravou míru', 'site': 'napravoumiru.afp.com'}, 'url': 'https://napravoumiru.afp.com/node/10069', 'title': 'Video ini telah beredar di laporan tentang prosesi pemakaman komandan militer di Iran di bulan Januari 2020', 'reviewDate': '2020-06-26T10:25:00Z', 'textualRating': 'Salah', 'languageCode': 'cs'}]\n",
      "-------------------------\n",
      "Related claim (236): audio message from Maharastra MLA Geeta Jain about COVID testing\n",
      "Related review (236): [{'publisher': {'name': 'THIP Media', 'site': 'thip.media'}, 'url': 'https://www.thip.media/health-news-fact-check/fact-check-conspiracy-theory-audio-message-allegedly-from-maharastra-mla-geeta-jain-about-covid-testing/4823/', 'title': 'Fact Check: Conspiracy theory audio message allegedly from...', 'reviewDate': '2020-07-29T17:06:00Z', 'textualRating': 'False', 'languageCode': 'en'}]\n",
      "-------------------------\n",
      "Related claim (192): Photo shows Putin's daughter receiving COVID-19 vaccine\n",
      "Related review (192): [{'publisher': {'name': 'AFP Fact Check', 'site': 'factcheck.afp.com'}, 'url': 'https://factcheck.afp.com/woman-ordinary-volunteer-russias-coronavirus-vaccine-trial-state-media-reports', 'title': 'This woman is an ordinary volunteer in Russia’s coronavirus vaccine trial, state media reports', 'reviewDate': '2020-08-17T04:35:00Z', 'textualRating': 'Misleading', 'languageCode': 'en'}]\n"
     ]
    }
   ],
   "source": [
    "get_claims_res(55, use_good=False)"
   ]
  },
  {
   "cell_type": "code",
   "execution_count": null,
   "metadata": {},
   "outputs": [],
   "source": []
  }
 ],
 "metadata": {
  "kernelspec": {
   "display_name": "Python 3",
   "language": "python",
   "name": "python3"
  },
  "language_info": {
   "codemirror_mode": {
    "name": "ipython",
    "version": 3
   },
   "file_extension": ".py",
   "mimetype": "text/x-python",
   "name": "python",
   "nbconvert_exporter": "python",
   "pygments_lexer": "ipython3",
   "version": "3.7.4"
  }
 },
 "nbformat": 4,
 "nbformat_minor": 4
}
