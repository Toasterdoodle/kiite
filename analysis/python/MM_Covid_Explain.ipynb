{
 "cells": [
  {
   "cell_type": "code",
   "execution_count": 414,
   "metadata": {},
   "outputs": [],
   "source": [
    "import re\n",
    "import simdjson as sj\n",
    "import gzip\n",
    "from tqdm import tqdm\n",
    "import pandas as pd\n",
    "from tqdm.notebook import tqdm\n",
    "import swifter\n",
    "import seaborn as sns\n",
    "import numpy as np\t\n",
    "from nltk import sent_tokenize\n",
    "import re\n",
    "from sentence_transformers import SentenceTransformer\n",
    "from wutils.general import save_pickle, load_pickle\n",
    "from wutils.mat import MarkedMatrix\n",
    "from scipy.spatial.distance import cdist\n",
    "from sklearn.linear_model import LogisticRegression"
   ]
  },
  {
   "cell_type": "code",
   "execution_count": 415,
   "metadata": {},
   "outputs": [],
   "source": [
    "cord_df = load_pickle('./pickles/who_cord_df.pkl')"
   ]
  },
  {
   "cell_type": "code",
   "execution_count": null,
   "metadata": {},
   "outputs": [],
   "source": [
    "mm_df = load_pickle('../who')"
   ]
  },
  {
   "cell_type": "code",
   "execution_count": 416,
   "metadata": {},
   "outputs": [],
   "source": [
    "# cord_df[cord_df.abstract.swifter.apply(lambda x: 'shortages' in x)]"
   ]
  },
  {
   "cell_type": "code",
   "execution_count": 417,
   "metadata": {},
   "outputs": [],
   "source": [
    "good_df = load_pickle('./pickles/newest_good_sample_df_ft.pkl')\n",
    "bad_df = load_pickle('./pickles/newest_bad_df_ft.pkl')"
   ]
  },
  {
   "cell_type": "code",
   "execution_count": 418,
   "metadata": {},
   "outputs": [],
   "source": [
    "import urllib.parse\n",
    "def get_hostname(url):\n",
    "    o = urllib.parse.urlsplit(url)\n",
    "    return o.hostname"
   ]
  },
  {
   "cell_type": "code",
   "execution_count": 419,
   "metadata": {},
   "outputs": [
    {
     "data": {
      "application/vnd.jupyter.widget-view+json": {
       "model_id": "4cf9723a6af846acbe68f1ab9b212de3",
       "version_major": 2,
       "version_minor": 0
      },
      "text/plain": [
       "HBox(children=(FloatProgress(value=0.0, description='Pandas Apply', max=100000.0, style=ProgressStyle(descript…"
      ]
     },
     "metadata": {},
     "output_type": "display_data"
    },
    {
     "name": "stdout",
     "output_type": "stream",
     "text": [
      "\n"
     ]
    },
    {
     "data": {
      "application/vnd.jupyter.widget-view+json": {
       "model_id": "45f20712c52a42f192f0431c68086b7d",
       "version_major": 2,
       "version_minor": 0
      },
      "text/plain": [
       "HBox(children=(FloatProgress(value=0.0, description='Pandas Apply', max=21854.0, style=ProgressStyle(descripti…"
      ]
     },
     "metadata": {},
     "output_type": "display_data"
    },
    {
     "name": "stdout",
     "output_type": "stream",
     "text": [
      "\n"
     ]
    }
   ],
   "source": [
    "good_df['hostname'] = good_df['url'].swifter.apply(get_hostname)\n",
    "bad_df['hostname'] = bad_df['url'].swifter.apply(get_hostname)"
   ]
  },
  {
   "cell_type": "code",
   "execution_count": 420,
   "metadata": {},
   "outputs": [
    {
     "data": {
      "text/plain": [
       "www.reuters.com                 5630\n",
       "www.thehindu.com                5158\n",
       "www.france24.com                3497\n",
       "www.forbes.com                  3433\n",
       "indianexpress.com               3188\n",
       "                                ... \n",
       "www.spokesman.com                  1\n",
       "www.mediamatters.org               1\n",
       "verysmartbrothas.theroot.com       1\n",
       "newsinteractives.cbc.ca            1\n",
       "obits.lohud.com                    1\n",
       "Name: hostname, Length: 238, dtype: int64"
      ]
     },
     "execution_count": 420,
     "metadata": {},
     "output_type": "execute_result"
    }
   ],
   "source": [
    "good_df.hostname.value_counts()"
   ]
  },
  {
   "cell_type": "code",
   "execution_count": 421,
   "metadata": {},
   "outputs": [
    {
     "data": {
      "text/plain": [
       "www.reuters.com                 5630\n",
       "www.thehindu.com                5158\n",
       "www.france24.com                3497\n",
       "www.forbes.com                  3433\n",
       "indianexpress.com               3188\n",
       "                                ... \n",
       "www.spokesman.com                  1\n",
       "www.mediamatters.org               1\n",
       "verysmartbrothas.theroot.com       1\n",
       "newsinteractives.cbc.ca            1\n",
       "obits.lohud.com                    1\n",
       "Name: hostname, Length: 238, dtype: int64"
      ]
     },
     "execution_count": 421,
     "metadata": {},
     "output_type": "execute_result"
    }
   ],
   "source": [
    "good_df.hostname.value_counts()"
   ]
  },
  {
   "cell_type": "code",
   "execution_count": 9,
   "metadata": {},
   "outputs": [],
   "source": [
    "# target_df = bad_df[bad_df.hostname == 'beforeitsnews.com']\n",
    "# target_df = target_df[target_df.covidFreq > 20]"
   ]
  },
  {
   "cell_type": "code",
   "execution_count": 422,
   "metadata": {},
   "outputs": [],
   "source": [
    "target_df = good_df[good_df.hostname == 'www.reuters.com']"
   ]
  },
  {
   "cell_type": "code",
   "execution_count": 95,
   "metadata": {},
   "outputs": [
    {
     "data": {
      "text/plain": [
       "['Feb 14 () - The U.S. State Department will evacuate some American citizens and their families aboard the Diamond Princess cruise ship, the biggest cluster of coronavirus infections outside China, the Wall Street Journal reported on Friday.',\n",
       " 'The Diamond Princess cruise ship, owned by Carnival Corp , has been quarantined since arriving in Yokohama, Japan, on Feb. 3, with 3,500 passengers and crew on board, of whom 218 have tested positive for the coronavirus infection.',\n",
       " 'Those who have tested positive for the virus have been taken off the ship to hospital.',\n",
       " '(Reporting by Aakriti Bhalla in Bengaluru and Kiyoshi Takenaka in Tokyo Editing by Leslie Adler)']"
      ]
     },
     "execution_count": 95,
     "metadata": {},
     "output_type": "execute_result"
    }
   ],
   "source": [
    "target_df.sentences.iloc[505]"
   ]
  },
  {
   "cell_type": "code",
   "execution_count": 12,
   "metadata": {},
   "outputs": [
    {
     "data": {
      "text/html": [
       "<div>\n",
       "<style scoped>\n",
       "    .dataframe tbody tr th:only-of-type {\n",
       "        vertical-align: middle;\n",
       "    }\n",
       "\n",
       "    .dataframe tbody tr th {\n",
       "        vertical-align: top;\n",
       "    }\n",
       "\n",
       "    .dataframe thead th {\n",
       "        text-align: right;\n",
       "    }\n",
       "</style>\n",
       "<table border=\"1\" class=\"dataframe\">\n",
       "  <thead>\n",
       "    <tr style=\"text-align: right;\">\n",
       "      <th></th>\n",
       "      <th>cord_uid</th>\n",
       "      <th>source_x</th>\n",
       "      <th>title</th>\n",
       "      <th>abstract</th>\n",
       "      <th>authors</th>\n",
       "      <th>sentences</th>\n",
       "      <th>sent_embeddings</th>\n",
       "      <th>ft_embeddings</th>\n",
       "    </tr>\n",
       "  </thead>\n",
       "  <tbody>\n",
       "    <tr>\n",
       "      <th>104326</th>\n",
       "      <td>2g4o1alu</td>\n",
       "      <td>WHO</td>\n",
       "      <td>COVID-19-related mortality by age groups in Eu...</td>\n",
       "      <td>Background and Objectives: To date, more than ...</td>\n",
       "      <td>Cohen, JÃ©rÃ©mie F.; Korevaar, DaniÃ«l A.; Mat...</td>\n",
       "      <td>[COVID-19-related mortality by age groups in E...</td>\n",
       "      <td>[[-0.055676993, -0.9243626, 0.6984887, -1.5472...</td>\n",
       "      <td>[[0.0481136, -0.045153778, -0.0016712277, -0.0...</td>\n",
       "    </tr>\n",
       "    <tr>\n",
       "      <th>104355</th>\n",
       "      <td>bbumotlt</td>\n",
       "      <td>WHO</td>\n",
       "      <td>Inhibitors for Novel Coronavirus Protease Iden...</td>\n",
       "      <td>The rapid outbreak of the novel severe acute r...</td>\n",
       "      <td>Fischer, André; Sellner, Manuel; Neranjan, San...</td>\n",
       "      <td>[Inhibitors for Novel Coronavirus Protease Ide...</td>\n",
       "      <td>[[-0.23659688, -1.209985, 1.086681, -0.2994868...</td>\n",
       "      <td>[[0.019563006, 0.0033947488, 0.04383449, -0.06...</td>\n",
       "    </tr>\n",
       "    <tr>\n",
       "      <th>104378</th>\n",
       "      <td>fmfp5a4x</td>\n",
       "      <td>WHO</td>\n",
       "      <td>Induction of “cytokine storm” in patients infe...</td>\n",
       "      <td>Coronaviruses are an extensive family of virus...</td>\n",
       "      <td>Parra-Izquierdo, V.; Flórez-Sarmiento, C.; Rom...</td>\n",
       "      <td>[Induction of “cytokine storm” in patients inf...</td>\n",
       "      <td>[[-0.6050015, -1.024411, 0.5046835, -0.9459065...</td>\n",
       "      <td>[[0.0046710027, -0.07187022, 0.008835351, -0.0...</td>\n",
       "    </tr>\n",
       "    <tr>\n",
       "      <th>104382</th>\n",
       "      <td>n8muqsk8</td>\n",
       "      <td>WHO</td>\n",
       "      <td>The case series of 34 patients with COVID-19 d...</td>\n",
       "      <td>Background: A novel coronavirus (SARS-CoV-2) c...</td>\n",
       "      <td>Kase, Kerstin; Skrzat-Klapaczynska, Agata; Vas...</td>\n",
       "      <td>[The case series of 34 patients with COVID-19 ...</td>\n",
       "      <td>[[-0.5378597, -1.2903348, 0.29853648, -0.45812...</td>\n",
       "      <td>[[0.00923657, -0.010481103, 0.012520884, -0.03...</td>\n",
       "    </tr>\n",
       "    <tr>\n",
       "      <th>104388</th>\n",
       "      <td>2rlld533</td>\n",
       "      <td>WHO</td>\n",
       "      <td>A brief overview of current drug repurposing a...</td>\n",
       "      <td>This brief overview is intended to shed light ...</td>\n",
       "      <td>Fonseca Soares Rodrigues, P. da Thomaz D. V.</td>\n",
       "      <td>[A brief overview of current drug repurposing ...</td>\n",
       "      <td>[[-0.84153324, -0.8163958, 0.36981186, -0.9351...</td>\n",
       "      <td>[[0.010491839, -0.066567436, -0.018717863, -0....</td>\n",
       "    </tr>\n",
       "    <tr>\n",
       "      <th>...</th>\n",
       "      <td>...</td>\n",
       "      <td>...</td>\n",
       "      <td>...</td>\n",
       "      <td>...</td>\n",
       "      <td>...</td>\n",
       "      <td>...</td>\n",
       "      <td>...</td>\n",
       "      <td>...</td>\n",
       "    </tr>\n",
       "    <tr>\n",
       "      <th>301152</th>\n",
       "      <td>mbv6ot95</td>\n",
       "      <td>WHO</td>\n",
       "      <td>Statistical evaluation of selected air quality...</td>\n",
       "      <td>Air pollution has become a serious concern for...</td>\n",
       "      <td>Masum, M. H.; Pal, S. K.</td>\n",
       "      <td>[Statistical evaluation of selected air qualit...</td>\n",
       "      <td>[[-0.6117112, -0.66956645, 0.6793621, -0.59324...</td>\n",
       "      <td>[[-0.022183394, 0.018007744, 0.026416264, -0.0...</td>\n",
       "    </tr>\n",
       "    <tr>\n",
       "      <th>311269</th>\n",
       "      <td>jfoflgah</td>\n",
       "      <td>WHO</td>\n",
       "      <td>Clinical features of patients with probable 20...</td>\n",
       "      <td>BACKGROUND: Coronavirus disease-19 COVID-19 is...</td>\n",
       "      <td>Karkhah, S.; Ghazanfari, M. J.; Shamshirian, A...</td>\n",
       "      <td>[Clinical features of patients with probable 2...</td>\n",
       "      <td>[[-0.22488534, -0.8938913, 0.7023613, -1.39347...</td>\n",
       "      <td>[[-0.010006628, -0.07970685, -0.0008492946, -0...</td>\n",
       "    </tr>\n",
       "    <tr>\n",
       "      <th>312759</th>\n",
       "      <td>e4pr78n0</td>\n",
       "      <td>WHO</td>\n",
       "      <td>Mathematical modeling of COVID-19 transmission...</td>\n",
       "      <td>BackgroundWe evaluated how non-pharmaceutical ...</td>\n",
       "      <td>Tuite, Ashleigh; Fisman, David N; Greer, Amy L</td>\n",
       "      <td>[Mathematical modeling of COVID-19 transmissio...</td>\n",
       "      <td>[[-0.9591663, -0.7535791, 0.11427775, -0.55517...</td>\n",
       "      <td>[[-0.0031259845, -0.045985896, 0.01022184, -0....</td>\n",
       "    </tr>\n",
       "    <tr>\n",
       "      <th>331600</th>\n",
       "      <td>j90w6so2</td>\n",
       "      <td>WHO</td>\n",
       "      <td>Impact of COVID-19 large scale restriction on ...</td>\n",
       "      <td>COVID-19 has a severe and widespread impact, e...</td>\n",
       "      <td>Caraka, R. E. Lee Y. Kurniawan R. Herliansyah ...</td>\n",
       "      <td>[Impact of COVID-19 large scale restriction on...</td>\n",
       "      <td>[[-0.6988445, -0.4860237, -0.33028847, -0.6850...</td>\n",
       "      <td>[[-0.022731125, -0.008827577, 0.009168559, -0....</td>\n",
       "    </tr>\n",
       "    <tr>\n",
       "      <th>352684</th>\n",
       "      <td>hd5xv7zk</td>\n",
       "      <td>WHO</td>\n",
       "      <td>The system dynamic model of the labor migrant ...</td>\n",
       "      <td>At the end of 2019, the new virus called Coron...</td>\n",
       "      <td>Kozlovskyi, S.; Bilenko, D.; Kuzheliev, M.; La...</td>\n",
       "      <td>[The system dynamic model of the labor migrant...</td>\n",
       "      <td>[[-0.38213912, -0.7206018, 0.37559515, -1.9268...</td>\n",
       "      <td>[[-0.021328758, -0.010853862, 0.030837398, -0....</td>\n",
       "    </tr>\n",
       "  </tbody>\n",
       "</table>\n",
       "<p>84605 rows × 8 columns</p>\n",
       "</div>"
      ],
      "text/plain": [
       "        cord_uid source_x                                              title  \\\n",
       "104326  2g4o1alu      WHO  COVID-19-related mortality by age groups in Eu...   \n",
       "104355  bbumotlt      WHO  Inhibitors for Novel Coronavirus Protease Iden...   \n",
       "104378  fmfp5a4x      WHO  Induction of “cytokine storm” in patients infe...   \n",
       "104382  n8muqsk8      WHO  The case series of 34 patients with COVID-19 d...   \n",
       "104388  2rlld533      WHO  A brief overview of current drug repurposing a...   \n",
       "...          ...      ...                                                ...   \n",
       "301152  mbv6ot95      WHO  Statistical evaluation of selected air quality...   \n",
       "311269  jfoflgah      WHO  Clinical features of patients with probable 20...   \n",
       "312759  e4pr78n0      WHO  Mathematical modeling of COVID-19 transmission...   \n",
       "331600  j90w6so2      WHO  Impact of COVID-19 large scale restriction on ...   \n",
       "352684  hd5xv7zk      WHO  The system dynamic model of the labor migrant ...   \n",
       "\n",
       "                                                 abstract  \\\n",
       "104326  Background and Objectives: To date, more than ...   \n",
       "104355  The rapid outbreak of the novel severe acute r...   \n",
       "104378  Coronaviruses are an extensive family of virus...   \n",
       "104382  Background: A novel coronavirus (SARS-CoV-2) c...   \n",
       "104388  This brief overview is intended to shed light ...   \n",
       "...                                                   ...   \n",
       "301152  Air pollution has become a serious concern for...   \n",
       "311269  BACKGROUND: Coronavirus disease-19 COVID-19 is...   \n",
       "312759  BackgroundWe evaluated how non-pharmaceutical ...   \n",
       "331600  COVID-19 has a severe and widespread impact, e...   \n",
       "352684  At the end of 2019, the new virus called Coron...   \n",
       "\n",
       "                                                  authors  \\\n",
       "104326  Cohen, JÃ©rÃ©mie F.; Korevaar, DaniÃ«l A.; Mat...   \n",
       "104355  Fischer, André; Sellner, Manuel; Neranjan, San...   \n",
       "104378  Parra-Izquierdo, V.; Flórez-Sarmiento, C.; Rom...   \n",
       "104382  Kase, Kerstin; Skrzat-Klapaczynska, Agata; Vas...   \n",
       "104388       Fonseca Soares Rodrigues, P. da Thomaz D. V.   \n",
       "...                                                   ...   \n",
       "301152                           Masum, M. H.; Pal, S. K.   \n",
       "311269  Karkhah, S.; Ghazanfari, M. J.; Shamshirian, A...   \n",
       "312759     Tuite, Ashleigh; Fisman, David N; Greer, Amy L   \n",
       "331600  Caraka, R. E. Lee Y. Kurniawan R. Herliansyah ...   \n",
       "352684  Kozlovskyi, S.; Bilenko, D.; Kuzheliev, M.; La...   \n",
       "\n",
       "                                                sentences  \\\n",
       "104326  [COVID-19-related mortality by age groups in E...   \n",
       "104355  [Inhibitors for Novel Coronavirus Protease Ide...   \n",
       "104378  [Induction of “cytokine storm” in patients inf...   \n",
       "104382  [The case series of 34 patients with COVID-19 ...   \n",
       "104388  [A brief overview of current drug repurposing ...   \n",
       "...                                                   ...   \n",
       "301152  [Statistical evaluation of selected air qualit...   \n",
       "311269  [Clinical features of patients with probable 2...   \n",
       "312759  [Mathematical modeling of COVID-19 transmissio...   \n",
       "331600  [Impact of COVID-19 large scale restriction on...   \n",
       "352684  [The system dynamic model of the labor migrant...   \n",
       "\n",
       "                                          sent_embeddings  \\\n",
       "104326  [[-0.055676993, -0.9243626, 0.6984887, -1.5472...   \n",
       "104355  [[-0.23659688, -1.209985, 1.086681, -0.2994868...   \n",
       "104378  [[-0.6050015, -1.024411, 0.5046835, -0.9459065...   \n",
       "104382  [[-0.5378597, -1.2903348, 0.29853648, -0.45812...   \n",
       "104388  [[-0.84153324, -0.8163958, 0.36981186, -0.9351...   \n",
       "...                                                   ...   \n",
       "301152  [[-0.6117112, -0.66956645, 0.6793621, -0.59324...   \n",
       "311269  [[-0.22488534, -0.8938913, 0.7023613, -1.39347...   \n",
       "312759  [[-0.9591663, -0.7535791, 0.11427775, -0.55517...   \n",
       "331600  [[-0.6988445, -0.4860237, -0.33028847, -0.6850...   \n",
       "352684  [[-0.38213912, -0.7206018, 0.37559515, -1.9268...   \n",
       "\n",
       "                                            ft_embeddings  \n",
       "104326  [[0.0481136, -0.045153778, -0.0016712277, -0.0...  \n",
       "104355  [[0.019563006, 0.0033947488, 0.04383449, -0.06...  \n",
       "104378  [[0.0046710027, -0.07187022, 0.008835351, -0.0...  \n",
       "104382  [[0.00923657, -0.010481103, 0.012520884, -0.03...  \n",
       "104388  [[0.010491839, -0.066567436, -0.018717863, -0....  \n",
       "...                                                   ...  \n",
       "301152  [[-0.022183394, 0.018007744, 0.026416264, -0.0...  \n",
       "311269  [[-0.010006628, -0.07970685, -0.0008492946, -0...  \n",
       "312759  [[-0.0031259845, -0.045985896, 0.01022184, -0....  \n",
       "331600  [[-0.022731125, -0.008827577, 0.009168559, -0....  \n",
       "352684  [[-0.021328758, -0.010853862, 0.030837398, -0....  \n",
       "\n",
       "[84605 rows x 8 columns]"
      ]
     },
     "execution_count": 12,
     "metadata": {},
     "output_type": "execute_result"
    }
   ],
   "source": [
    "cord_df"
   ]
  },
  {
   "cell_type": "code",
   "execution_count": 381,
   "metadata": {},
   "outputs": [],
   "source": [
    "with open('./data/words.txt') as f:\n",
    "    words = f.readlines()"
   ]
  },
  {
   "cell_type": "code",
   "execution_count": 392,
   "metadata": {},
   "outputs": [],
   "source": [
    "words = [x.strip().lower() for x in words]"
   ]
  },
  {
   "cell_type": "code",
   "execution_count": 393,
   "metadata": {},
   "outputs": [],
   "source": [
    "import random\n",
    "sents = []\n",
    "for i in range(5000):\n",
    "    n_words = random.randint(10, 30)\n",
    "    sent_words = random.choices(words, k=n_words)\n",
    "    sent = ' '.join(sent_words)\n",
    "    sent = sent[0].upper() + sent[1:] + '.'\n",
    "    sents.append(sent)"
   ]
  },
  {
   "cell_type": "code",
   "execution_count": 396,
   "metadata": {},
   "outputs": [
    {
     "name": "stderr",
     "output_type": "stream",
     "text": [
      "I1205 04:09:12.194085 139722638161728 SentenceTransformer.py:38] Load pretrained SentenceTransformer: distilbert-base-nli-mean-tokens\n",
      "I1205 04:09:12.195493 139722638161728 SentenceTransformer.py:42] Did not find folder distilbert-base-nli-mean-tokens\n",
      "I1205 04:09:12.196023 139722638161728 SentenceTransformer.py:48] Try to download model from server: https://sbert.net/models/distilbert-base-nli-mean-tokens.zip\n",
      "I1205 04:09:12.197632 139722638161728 SentenceTransformer.py:99] Load SentenceTransformer from folder: /home/will/.cache/torch/sentence_transformers/sbert.net_models_distilbert-base-nli-mean-tokens\n",
      "I1205 04:09:13.403727 139722638161728 SentenceTransformer.py:123] Use pytorch device: cuda\n"
     ]
    }
   ],
   "source": [
    "sent_encoder = SentenceTransformer('distilbert-base-nli-mean-tokens')"
   ]
  },
  {
   "cell_type": "code",
   "execution_count": 397,
   "metadata": {},
   "outputs": [
    {
     "data": {
      "application/vnd.jupyter.widget-view+json": {
       "model_id": "675514fbb0e44ff1989c7c5b90be2b0f",
       "version_major": 2,
       "version_minor": 0
      },
      "text/plain": [
       "HBox(children=(FloatProgress(value=0.0, description='Batches', max=157.0, style=ProgressStyle(description_widt…"
      ]
     },
     "metadata": {},
     "output_type": "display_data"
    },
    {
     "name": "stdout",
     "output_type": "stream",
     "text": [
      "\n"
     ]
    }
   ],
   "source": [
    "encoded = sent_encoder.encode(sents, convert_to_tensor=True, show_progress_bar=True)"
   ]
  },
  {
   "cell_type": "code",
   "execution_count": 399,
   "metadata": {},
   "outputs": [],
   "source": [
    "encoded = encoded.numpy()"
   ]
  },
  {
   "cell_type": "code",
   "execution_count": 394,
   "metadata": {},
   "outputs": [],
   "source": [
    "# true_df['text'].swifter.apply(lambda x: 'myth' in x.lower()).sum()"
   ]
  },
  {
   "cell_type": "code",
   "execution_count": 423,
   "metadata": {},
   "outputs": [
    {
     "data": {
      "application/vnd.jupyter.widget-view+json": {
       "model_id": "7ca1e7d0b7ec4837a11905d00469c4ff",
       "version_major": 2,
       "version_minor": 0
      },
      "text/plain": [
       "HBox(children=(FloatProgress(value=0.0, description='Pandas Apply', max=100000.0, style=ProgressStyle(descript…"
      ]
     },
     "metadata": {},
     "output_type": "display_data"
    },
    {
     "name": "stdout",
     "output_type": "stream",
     "text": [
      "\n",
      "7925\n"
     ]
    },
    {
     "data": {
      "application/vnd.jupyter.widget-view+json": {
       "model_id": "1b1bb34d5d854fd5b5cd9528c210cc5c",
       "version_major": 2,
       "version_minor": 0
      },
      "text/plain": [
       "HBox(children=(FloatProgress(value=0.0, description='Pandas Apply', max=21854.0, style=ProgressStyle(descripti…"
      ]
     },
     "metadata": {},
     "output_type": "display_data"
    },
    {
     "name": "stdout",
     "output_type": "stream",
     "text": [
      "\n",
      "2876\n"
     ]
    }
   ],
   "source": [
    "KW = 'vaccine'\n",
    "print(good_df['cleanText'].swifter.apply(lambda x: KW in x.lower()).sum())\n",
    "print(bad_df['cleanText'].swifter.apply(lambda x: KW in x.lower()).sum())"
   ]
  },
  {
   "cell_type": "code",
   "execution_count": 323,
   "metadata": {},
   "outputs": [],
   "source": [
    "# vax_good_df = good_df.sample(n=20000).dropna()"
   ]
  },
  {
   "cell_type": "code",
   "execution_count": 324,
   "metadata": {},
   "outputs": [],
   "source": [
    "# vax_bad_df = bad_df.sample(n=20000).dropna()"
   ]
  },
  {
   "cell_type": "code",
   "execution_count": 434,
   "metadata": {},
   "outputs": [
    {
     "data": {
      "application/vnd.jupyter.widget-view+json": {
       "model_id": "c901c4fd0e0d46e987d693483d7656a0",
       "version_major": 2,
       "version_minor": 0
      },
      "text/plain": [
       "HBox(children=(FloatProgress(value=0.0, description='Pandas Apply', max=100000.0, style=ProgressStyle(descript…"
      ]
     },
     "metadata": {},
     "output_type": "display_data"
    },
    {
     "name": "stdout",
     "output_type": "stream",
     "text": [
      "\n"
     ]
    },
    {
     "data": {
      "application/vnd.jupyter.widget-view+json": {
       "model_id": "bb0b37b2d6e441d8a034b06a9cf1a063",
       "version_major": 2,
       "version_minor": 0
      },
      "text/plain": [
       "HBox(children=(FloatProgress(value=0.0, description='Pandas Apply', max=21854.0, style=ProgressStyle(descripti…"
      ]
     },
     "metadata": {},
     "output_type": "display_data"
    },
    {
     "name": "stdout",
     "output_type": "stream",
     "text": [
      "\n"
     ]
    }
   ],
   "source": [
    "vax_good_df = good_df[good_df['cleanText'].swifter.apply(lambda x: KW in x.lower())]\n",
    "vax_bad_df = bad_df[bad_df['cleanText'].swifter.apply(lambda x: KW in x.lower())]"
   ]
  },
  {
   "cell_type": "code",
   "execution_count": 435,
   "metadata": {},
   "outputs": [
    {
     "data": {
      "application/vnd.jupyter.widget-view+json": {
       "model_id": "68d73edf68f946c3bb582ac648b82867",
       "version_major": 2,
       "version_minor": 0
      },
      "text/plain": [
       "HBox(children=(FloatProgress(value=0.0, description='Pandas Apply', max=7925.0, style=ProgressStyle(descriptio…"
      ]
     },
     "metadata": {},
     "output_type": "display_data"
    },
    {
     "name": "stdout",
     "output_type": "stream",
     "text": [
      "\n"
     ]
    },
    {
     "name": "stderr",
     "output_type": "stream",
     "text": [
      "/home/will/anaconda3/lib/python3.7/site-packages/ipykernel_launcher.py:1: SettingWithCopyWarning: \n",
      "A value is trying to be set on a copy of a slice from a DataFrame.\n",
      "Try using .loc[row_indexer,col_indexer] = value instead\n",
      "\n",
      "See the caveats in the documentation: https://pandas.pydata.org/pandas-docs/stable/user_guide/indexing.html#returning-a-view-versus-a-copy\n",
      "  \"\"\"Entry point for launching an IPython kernel.\n"
     ]
    },
    {
     "data": {
      "application/vnd.jupyter.widget-view+json": {
       "model_id": "5615943a998647d58056cf2a97ab3e99",
       "version_major": 2,
       "version_minor": 0
      },
      "text/plain": [
       "HBox(children=(FloatProgress(value=0.0, description='Pandas Apply', max=2876.0, style=ProgressStyle(descriptio…"
      ]
     },
     "metadata": {},
     "output_type": "display_data"
    },
    {
     "name": "stdout",
     "output_type": "stream",
     "text": [
      "\n"
     ]
    },
    {
     "name": "stderr",
     "output_type": "stream",
     "text": [
      "/home/will/anaconda3/lib/python3.7/site-packages/ipykernel_launcher.py:2: SettingWithCopyWarning: \n",
      "A value is trying to be set on a copy of a slice from a DataFrame.\n",
      "Try using .loc[row_indexer,col_indexer] = value instead\n",
      "\n",
      "See the caveats in the documentation: https://pandas.pydata.org/pandas-docs/stable/user_guide/indexing.html#returning-a-view-versus-a-copy\n",
      "  \n"
     ]
    }
   ],
   "source": [
    "vax_good_df['mean_embed'] = vax_good_df['sent_embeddings'].swifter.apply(lambda x: x.mean(axis=0))\n",
    "vax_bad_df['mean_embed'] = vax_bad_df['sent_embeddings'].swifter.apply(lambda x: x.mean(axis=0))\n",
    "# vax_good_df['mean_embed'] = vax_good_df['ft_embeddings'].swifter.apply(lambda x: np.array([y for y in x if np.isfinite(y).all()]).mean(axis=0))\n",
    "# vax_bad_df['mean_embed'] = vax_bad_df['ft_embeddings'].swifter.apply(lambda x: np.array([y for y in x if np.isfinite(y).all()]).mean(axis=0))"
   ]
  },
  {
   "cell_type": "code",
   "execution_count": 436,
   "metadata": {},
   "outputs": [],
   "source": [
    "vax_good_mat = np.vstack(vax_good_df.mean_embed)\n",
    "vax_bad_mat = np.vstack(vax_bad_df.mean_embed)"
   ]
  },
  {
   "cell_type": "code",
   "execution_count": 437,
   "metadata": {},
   "outputs": [],
   "source": [
    "vax_mm = MarkedMatrix([('good', vax_good_mat), ('bad', vax_bad_mat)])"
   ]
  },
  {
   "cell_type": "code",
   "execution_count": 427,
   "metadata": {},
   "outputs": [
    {
     "data": {
      "text/plain": [
       "(array([], dtype=int64), array([], dtype=int64))"
      ]
     },
     "execution_count": 427,
     "metadata": {},
     "output_type": "execute_result"
    }
   ],
   "source": [
    "np.where(~np.isfinite(vax_mm.mat))"
   ]
  },
  {
   "cell_type": "code",
   "execution_count": 438,
   "metadata": {},
   "outputs": [
    {
     "name": "stdout",
     "output_type": "stream",
     "text": [
      "Training model...\n",
      "Evaluating model...\n"
     ]
    },
    {
     "name": "stderr",
     "output_type": "stream",
     "text": [
      "/home/will/anaconda3/lib/python3.7/site-packages/sklearn/linear_model/_logistic.py:940: ConvergenceWarning: lbfgs failed to converge (status=1):\n",
      "STOP: TOTAL NO. of ITERATIONS REACHED LIMIT.\n",
      "\n",
      "Increase the number of iterations (max_iter) or scale the data as shown in:\n",
      "    https://scikit-learn.org/stable/modules/preprocessing.html\n",
      "Please also refer to the documentation for alternative solver options:\n",
      "    https://scikit-learn.org/stable/modules/linear_model.html#logistic-regression\n",
      "  extra_warning_msg=_LOGISTIC_SOLVER_CONVERGENCE_MSG)\n"
     ]
    },
    {
     "data": {
      "text/plain": [
       "(0.8374676045908923, 0.8945472015373528)"
      ]
     },
     "execution_count": 438,
     "metadata": {},
     "output_type": "execute_result"
    }
   ],
   "source": [
    "vax_mm.single_split_classify(model)"
   ]
  },
  {
   "cell_type": "code",
   "execution_count": 103,
   "metadata": {},
   "outputs": [],
   "source": [
    "model = LogisticRegression(max_iter=400)"
   ]
  },
  {
   "cell_type": "code",
   "execution_count": 439,
   "metadata": {},
   "outputs": [],
   "source": [
    "cord_df = cord_df.dropna()"
   ]
  },
  {
   "cell_type": "code",
   "execution_count": 440,
   "metadata": {},
   "outputs": [
    {
     "data": {
      "application/vnd.jupyter.widget-view+json": {
       "model_id": "a6f2d6eeac354d6fa443593507d0eb80",
       "version_major": 2,
       "version_minor": 0
      },
      "text/plain": [
       "HBox(children=(FloatProgress(value=0.0, description='Pandas Apply', max=84605.0, style=ProgressStyle(descripti…"
      ]
     },
     "metadata": {},
     "output_type": "display_data"
    },
    {
     "name": "stdout",
     "output_type": "stream",
     "text": [
      "\n"
     ]
    },
    {
     "data": {
      "application/vnd.jupyter.widget-view+json": {
       "model_id": "0f7df8d9f3fa475fa239f94bba8de445",
       "version_major": 2,
       "version_minor": 0
      },
      "text/plain": [
       "HBox(children=(FloatProgress(value=0.0, description='Pandas Apply', max=84605.0, style=ProgressStyle(descripti…"
      ]
     },
     "metadata": {},
     "output_type": "display_data"
    },
    {
     "name": "stdout",
     "output_type": "stream",
     "text": [
      "\n"
     ]
    }
   ],
   "source": [
    "has_vax = cord_df[cord_df.title.swifter.apply(lambda x: KW in x.lower()) | cord_df.abstract.swifter.apply(lambda x: KW in x.lower())]\n",
    "# has_vax = cord_df.sample(n=5000)"
   ]
  },
  {
   "cell_type": "code",
   "execution_count": 441,
   "metadata": {},
   "outputs": [
    {
     "data": {
      "application/vnd.jupyter.widget-view+json": {
       "model_id": "fcdd444b3c2346b7a7b40a410d53606f",
       "version_major": 2,
       "version_minor": 0
      },
      "text/plain": [
       "HBox(children=(FloatProgress(value=0.0, description='Pandas Apply', max=4686.0, style=ProgressStyle(descriptio…"
      ]
     },
     "metadata": {},
     "output_type": "display_data"
    },
    {
     "name": "stdout",
     "output_type": "stream",
     "text": [
      "\n"
     ]
    },
    {
     "name": "stderr",
     "output_type": "stream",
     "text": [
      "/home/will/anaconda3/lib/python3.7/site-packages/ipykernel_launcher.py:1: SettingWithCopyWarning: \n",
      "A value is trying to be set on a copy of a slice from a DataFrame.\n",
      "Try using .loc[row_indexer,col_indexer] = value instead\n",
      "\n",
      "See the caveats in the documentation: https://pandas.pydata.org/pandas-docs/stable/user_guide/indexing.html#returning-a-view-versus-a-copy\n",
      "  \"\"\"Entry point for launching an IPython kernel.\n"
     ]
    }
   ],
   "source": [
    "has_vax['mean_embed'] = has_vax['sent_embeddings'].swifter.apply(lambda x: x.mean(axis=0))\n",
    "# has_vax['mean_embed'] = has_vax['ft_embeddings'].swifter.apply(lambda x: np.array(x).mean(axis=0))"
   ]
  },
  {
   "cell_type": "code",
   "execution_count": 442,
   "metadata": {},
   "outputs": [],
   "source": [
    "vax_ref = np.vstack(has_vax['mean_embed'])"
   ]
  },
  {
   "cell_type": "code",
   "execution_count": 443,
   "metadata": {},
   "outputs": [
    {
     "data": {
      "text/plain": [
       "(4686, 768)"
      ]
     },
     "execution_count": 443,
     "metadata": {},
     "output_type": "execute_result"
    }
   ],
   "source": [
    "vax_ref.shape"
   ]
  },
  {
   "cell_type": "code",
   "execution_count": 444,
   "metadata": {},
   "outputs": [
    {
     "data": {
      "text/plain": [
       "(7925, 768)"
      ]
     },
     "execution_count": 444,
     "metadata": {},
     "output_type": "execute_result"
    }
   ],
   "source": [
    "vax_good_mat.shape"
   ]
  },
  {
   "cell_type": "code",
   "execution_count": null,
   "metadata": {},
   "outputs": [],
   "source": [
    "# vgood2ref = cdist(vax_good_mat, vax_ref, 'cosine')"
   ]
  },
  {
   "cell_type": "code",
   "execution_count": 405,
   "metadata": {},
   "outputs": [
    {
     "name": "stdout",
     "output_type": "stream",
     "text": [
      "done w/ good\n"
     ]
    }
   ],
   "source": [
    "# vgood2ref = cdist(vax_good_mat, encoded, 'cosine')\n",
    "# print('done w/ good')\n",
    "# vbad2ref = cdist(vax_bad_mat, encoded, 'cosine')"
   ]
  },
  {
   "cell_type": "code",
   "execution_count": 445,
   "metadata": {
    "scrolled": true
   },
   "outputs": [
    {
     "name": "stdout",
     "output_type": "stream",
     "text": [
      "done w/ good\n"
     ]
    }
   ],
   "source": [
    "vgood2ref = cdist(vax_good_mat, vax_ref, 'cosine')\n",
    "print('done w/ good')\n",
    "vbad2ref = cdist(vax_bad_mat, vax_ref, 'cosine')"
   ]
  },
  {
   "cell_type": "code",
   "execution_count": 377,
   "metadata": {},
   "outputs": [],
   "source": [
    "vax_ref[~np.isfinite(vax_ref)] = 0"
   ]
  },
  {
   "cell_type": "code",
   "execution_count": 446,
   "metadata": {},
   "outputs": [],
   "source": [
    "vax_mm = MarkedMatrix([('good', vgood2ref), ('bad', vbad2ref)])"
   ]
  },
  {
   "cell_type": "code",
   "execution_count": 458,
   "metadata": {},
   "outputs": [],
   "source": [
    "vax_raw_mm = MarkedMatrix([('good', vax_good_mat), ('bad', vax_bad_mat)])"
   ]
  },
  {
   "cell_type": "code",
   "execution_count": 447,
   "metadata": {},
   "outputs": [],
   "source": [
    "claims_df = load_pickle('./pickles/newest_claims_df_labelled.pkl')\n",
    "claims_df = claims_df.dropna()\n",
    "\n",
    "true_claims_df = claims_df[claims_df['label'] == 'true']\n",
    "false_claims_df = claims_df[claims_df['label'] == 'false']\n",
    "misleading_claims_df = claims_df[claims_df['label'] == 'misleading']\n",
    "\n",
    "true_claims_mat = np.vstack(list(true_claims_df['bert_embedding']))\n",
    "false_claims_mat = np.vstack(list(false_claims_df['bert_embedding']))"
   ]
  },
  {
   "cell_type": "code",
   "execution_count": 448,
   "metadata": {},
   "outputs": [],
   "source": [
    "true_claims2ref = cdist(true_claims_mat, vax_ref, 'cosine')\n",
    "false_claims2ref = cdist(false_claims_mat, vax_ref, 'cosine')"
   ]
  },
  {
   "cell_type": "code",
   "execution_count": 265,
   "metadata": {},
   "outputs": [],
   "source": [
    "true_claims2ref = -cdist(true_claims_mat, vax_ref)\n",
    "false_claims2ref = -cdist(false_claims_mat, vax_ref)"
   ]
  },
  {
   "cell_type": "code",
   "execution_count": 449,
   "metadata": {},
   "outputs": [
    {
     "data": {
      "text/plain": [
       "(51, 4686)"
      ]
     },
     "execution_count": 449,
     "metadata": {},
     "output_type": "execute_result"
    }
   ],
   "source": [
    "true_claims2ref.shape"
   ]
  },
  {
   "cell_type": "code",
   "execution_count": 450,
   "metadata": {},
   "outputs": [],
   "source": [
    "claims_mm = MarkedMatrix([('true', true_claims_mat), ('false', false_claims_mat)])\n",
    "claims_mm2covid = MarkedMatrix([('true', true_claims2ref), ('false', false_claims2ref)])"
   ]
  },
  {
   "cell_type": "code",
   "execution_count": 451,
   "metadata": {},
   "outputs": [
    {
     "name": "stdout",
     "output_type": "stream",
     "text": [
      "Training model...\n",
      "Evaluating model...\n"
     ]
    },
    {
     "data": {
      "text/plain": [
       "((0.9296875, 0.9635627530364372), {'true': 0, 'false': 1})"
      ]
     },
     "execution_count": 451,
     "metadata": {},
     "output_type": "execute_result"
    }
   ],
   "source": [
    "claims_mm.single_split_classify(tmodel, return_labels=True)"
   ]
  },
  {
   "cell_type": "code",
   "execution_count": 278,
   "metadata": {},
   "outputs": [],
   "source": [
    "tmodel_claims = RandomForestClassifier(n_estimators=500, n_jobs=24)"
   ]
  },
  {
   "cell_type": "code",
   "execution_count": 298,
   "metadata": {},
   "outputs": [
    {
     "name": "stdout",
     "output_type": "stream",
     "text": [
      "Training model...\n",
      "Evaluating model...\n"
     ]
    },
    {
     "data": {
      "text/plain": [
       "((0.90625, 0.9504132231404958), {'true': 0, 'false': 1})"
      ]
     },
     "execution_count": 298,
     "metadata": {},
     "output_type": "execute_result"
    }
   ],
   "source": [
    "claims_mm2covid.single_split_classify(tmodel_claims, return_labels=True)"
   ]
  },
  {
   "cell_type": "code",
   "execution_count": 282,
   "metadata": {},
   "outputs": [],
   "source": [
    "def tree_claim_explain_bad(idx):\n",
    "    pred, bias, contrib = ti.predict(tmodel_claims, false_claims2ref[idx, :].reshape((1, -1)))\n",
    "    print('CLEAN TEXT: ', false_claims_df.iloc[idx].text)\n",
    "    cmat = contrib.reshape((-1, 2))\n",
    "    print('Prediction: ', pred)\n",
    "    print('Bias: ', bias)\n",
    "    import_good = np.argsort(cmat[:, 0])[::-1]\n",
    "    import_bad = np.argsort(cmat[:, 1])[::-1]\n",
    "    print('===== Towards Bad: =====')\n",
    "    for idx in import_bad[:5]:\n",
    "        print('-'*45)\n",
    "        print(f'CONTRIB: {cmat[idx]}')\n",
    "        print(f'ABSTRACT: {has_vax.iloc[idx].abstract}')\n",
    "        print(f'TITLE: {has_vax.iloc[idx].title}')\n",
    "    print('===== Towards Good: =====')\n",
    "    for idx in import_good[:5]:\n",
    "        print('-'*45)\n",
    "        print(f'CONTRIB: {cmat[idx]}')\n",
    "        print(f'ABSTRACT: {has_vax.iloc[idx].abstract}')\n",
    "        print(f'TITLE: {has_vax.iloc[idx].title}')\n",
    "\n",
    "def tree_claim_explain_good(idx):\n",
    "    pred, bias, contrib = ti.predict(tmodel_claims, true_claims2ref[idx, :].reshape((1, -1)))\n",
    "    print('CLEAN TEXT: ', true_claims_df.iloc[idx].text)\n",
    "    cmat = contrib.reshape((-1, 2))\n",
    "    print('Prediction: ', pred)\n",
    "    print('Bias: ', bias)\n",
    "    import_good = np.argsort(cmat[:, 0])[::-1]\n",
    "    import_bad = np.argsort(cmat[:, 1])[::-1]\n",
    "    print('===== Towards Good: =====')\n",
    "    for idx in import_good[:5]:\n",
    "        print('-'*45)\n",
    "        print(f'CONTRIB: {cmat[idx]}')\n",
    "#         print(f'ABSTRACT: {has_vax.iloc[idx].abstract}')\n",
    "        print(f'TITLE: {has_vax.iloc[idx].title}')\n",
    "    print('===== Towards Bad: =====')\n",
    "    for idx in import_bad[:5]:\n",
    "        print('-'*45)\n",
    "        print(f'CONTRIB: {cmat[idx]}')\n",
    "#         print(f'ABSTRACT: {has_vax.iloc[idx].abstract}')\n",
    "        print(f'TITLE: {has_vax.iloc[idx].title}')"
   ]
  },
  {
   "cell_type": "code",
   "execution_count": 293,
   "metadata": {},
   "outputs": [
    {
     "name": "stdout",
     "output_type": "stream",
     "text": [
      "CLEAN TEXT:  Schools have resumed in New Brunswick despite the COVID-19 pandemic\n",
      "Prediction:  [[0.636 0.364]]\n",
      "Bias:  [[0.10461619 0.89538381]]\n",
      "===== Towards Good: =====\n",
      "---------------------------------------------\n",
      "CONTRIB: [ 0.02290918 -0.02290918]\n",
      "TITLE: Towards reduction in bias in epidemic curves due to outcome misclassification through Bayesian analysis of time-series of laboratory test results: case study of COVID-19 in Alberta, Canada and Philadelphia, USA\n",
      "---------------------------------------------\n",
      "CONTRIB: [ 0.01990626 -0.01990626]\n",
      "TITLE: Early spring near-surface ozone in Europe during the COVID-19 shutdown: Meteorological effects outweigh emission changes\n",
      "---------------------------------------------\n",
      "CONTRIB: [ 0.01544806 -0.01544806]\n",
      "TITLE: The Successes and Failures of the Initial COVID-19 Pandemic Response in Romania\n",
      "---------------------------------------------\n",
      "CONTRIB: [ 0.01445399 -0.01445399]\n",
      "TITLE: After the Hurricane: Economic Adversity, Bank Offices, and Community Banks\n",
      "---------------------------------------------\n",
      "CONTRIB: [ 0.0139711 -0.0139711]\n",
      "TITLE: The impact of unplanned school closure on children's social contact: rapid evidence review\n",
      "===== Towards Bad: =====\n",
      "---------------------------------------------\n",
      "CONTRIB: [-0.00104348  0.00104348]\n",
      "TITLE: New Horizons: Emerging Therapies and Targets in Thyroid Cancer\n",
      "---------------------------------------------\n",
      "CONTRIB: [-0.0009  0.0009]\n",
      "TITLE: COVID-19 pandemic and endocrinopathies\n",
      "---------------------------------------------\n",
      "CONTRIB: [-0.000863  0.000863]\n",
      "TITLE: LAURENT SIMON: L'innovation, un instinct de survie ?\n",
      "---------------------------------------------\n",
      "CONTRIB: [-0.00085714  0.00085714]\n",
      "TITLE: Modified Friedmann equations from DSR-GUP\n",
      "---------------------------------------------\n",
      "CONTRIB: [-0.00066161  0.00066161]\n",
      "TITLE: Beyond Disclosure: Developing Law and Policy to Tackle Corporate Influence\n"
     ]
    }
   ],
   "source": [
    "tree_claim_explain_good(10)"
   ]
  },
  {
   "cell_type": "code",
   "execution_count": 231,
   "metadata": {
    "scrolled": true
   },
   "outputs": [
    {
     "name": "stdout",
     "output_type": "stream",
     "text": [
      "CLEAN TEXT:  COVID-19 testing patent was submitted in 2015 and COVID19 is a scam\n",
      "Prediction:  [[0.018 0.982]]\n",
      "Bias:  [[0.10208355 0.89791645]]\n",
      "===== Towards Bad: =====\n",
      "---------------------------------------------\n",
      "CONTRIB: [-0.00167625  0.00167625]\n",
      "ABSTRACT: On March 11, 2020, COVID-19 was declared as a pandemic by World Health Organization. Criteria for identifying persons under investigation for SARS-CoV-2 infection by Centers for Disease Control and Prevention remain focusing on fever and respiratory symptoms. We report a case of COVID-19 patient who presented with colitis alone.\n",
      "TITLE: Colitis as a Sole Presentation of SARS-CoV-2 Infection: Case Report\n",
      "---------------------------------------------\n",
      "CONTRIB: [-0.00121562  0.00121562]\n",
      "ABSTRACT: This study quantifies the economic effect of a possible lockdown of Tokyo to prevent the spread of COVID-19. The negative effect of such a lockdown may propagate to other regions through supply chains because of supply and demand shortages. Applying an agent-based model to the actual supply chains of nearly 1.6 million firms in Japan, we simulate what would happen to production activities outside Tokyo if production activities that are not essential to citizens' survival in Tokyo were shut down for a certain period. We find that if Tokyo were locked down for a month, the indirect effect on other regions would be twice as large as the direct effect on Tokyo, leading to a total production loss of 27 trillion yen in Japan or 5.2% of the country's annual GDP. Although the production that would be shut down in Tokyo accounts for 21% of the total production in Japan, the lockdown would result in an 86% reduction of the daily production in Japan after one month.\n",
      "TITLE: The propagation of economic impacts through supply chains: The case of a mega-city lockdown to prevent the spread of COVID-19\n",
      "---------------------------------------------\n",
      "CONTRIB: [-0.00100612  0.00100612]\n",
      "ABSTRACT: INTRODUCTION: After the outbreak of the COVID-19 was considered a global pandemic in March 2020, the state of alarm was declared in Spain. In this situation, health professionals are experiencing high levels of stress due to the overload of work the pandemic is generating and the conditions in which they are working. The aim of this study was to evaluate the factors that can destabilize the mental health of these professionals in our context. MATERIALS AND METHODS: The sample was composed of 421 health professionals. The data were gathered by an online questionnaire sent to them by e-mail. The DASS-21 was used to assess anxiety, stress and depression, and the EAI to measure sleep difficulties. In addition, other descriptive variables that could be related to psychological symptomatology were collected from the sample. RESULTS: The results show that the COVID-19 pandemic has generated symptoms of stress, anxiety, depression and insomnia among health workers, with higher levels among women and older professionals. Some factors such as having been in contact with the virus or fear at work, triggered greater symptomatology. CONCLUSIONS: In this critical situation, professionals are in the front line and therefore, are directly exposed to certain risks and stressors. This contributes to the development of diverse psychological symptoms. Consequently, it is recommended to offer them psychological help in order to reduce the emotional impact of the COVID-19, and thus, to ensure not only the mental health of our health professionals, but also the adequate care they provide.\n",
      "TITLE: Impacto psicológico de la COVID-19 en una muestra de profesionales sanitarios españoles./ Impacto psicológico de la COVID-19 en una muestra de profesionales sanitarios españoles./ Psychological impact of COVID-19 on a sample of Spanish health professionals\n",
      "---------------------------------------------\n",
      "CONTRIB: [-0.00070991  0.00070991]\n",
      "ABSTRACT: There has never been a more important time to keep your immune system fit and healthy. And as Graham Lawton discovers, there are now ways to keep it younger than you are\n",
      "TITLE: You're only as young as your immune system\n",
      "---------------------------------------------\n",
      "CONTRIB: [-0.0006571  0.0006571]\n",
      "ABSTRACT: Long-term exposure to fine particulate matter (PM2.5) poses a great threat to public health in China. To this end, the Chinese government promulgated the Air Pollution Prevention and Control Action Plan (the Action Plan) in 2013. However, the health benefits of the Action Plan have not been well explained. In this paper, the underlying causes of changes in premature mortality attributable to PM2.5 pollution and the response of this mitigation policy in China were explored using sensitivity analysis. The simulated annual average PM2.5 concentration reduced by 24.9% over mainland China from 2008 to 2016. Subsequently, national premature mortality would decrease by 14.4% from 1.14 million (95% CI: 0.54, 1.55) in 2008 to 0.98 million (95% CI: 0.44, 1.38) in 2016. Specifically, premature mortality reduced by 209,600 cases (-18.3%) owing to PM2.5 reduction during 2008-2016, of which 188,500 cases were from 2014 to 2016 due to the Action Plan in 2013. Note that the health benefits were limited when compared with air quality improvements, mainly due to that the IER functions have a stable curve at higher concentration intervals. Meanwhile, premature mortality would have increased by 14.2% from 2008 to 2016 owing to demographic changes, substantially weakening the impact of the decrease in PM2.5 and baseline mortality. The effectiveness of China's new air pollution mitigation policy was proved through the research. However, considering the non-linear response of mortality to PM2.5 changes and the aggravation of demography trends, stronger emission control steps should be further taken to protect public health in China.\n",
      "TITLE: Premature mortality attributable to PM2.5 pollution in China during 2008-2016: Underlying causes and responses to emission reductions\n",
      "===== Towards Good: =====\n",
      "---------------------------------------------\n",
      "CONTRIB: [ 0.00195946 -0.00195946]\n",
      "ABSTRACT: The new pedestrian area has been one of the main urban projects designed for the centre of Brussels in recent decades In 2015, the transit route in the city centre - Boulevard Anspach - was closed to traffic The redevelopment of public space and the renovation of the main metro stations are now nearing completion The finalisation of this urban project and the challenges it has faced are, by definition, complex Experiences elsewhere in the country and abroad, as well as the data collected by BSI-BCO, show that it will have a significant impact at different levels: quality of public space, housing and facilities, local economy and employment, mobility, accessibility and logistics, social and cultural activities, etc This synopsis is an update of a previously published work (no 115) Part 1 sets out the general context of this project which has not been spared by several external crises (lockdown following the attacks in Paris, attacks in Brussels, the tunnel crisis and, of course, the covid crisis) Part 2 develops the challenges which remain In conclusion, this synopsis proposes some concrete ways to improve the quality and management of the project\n",
      "TITLE: From pedestrian area to urban and metropolitan project: assets and challenges for the centre of Brussels (new edition)\n",
      "---------------------------------------------\n",
      "CONTRIB: [ 0.00195238 -0.00195238]\n",
      "ABSTRACT: The COVID-19 outbreak has led to the deferral of a great number of surgeries in an attempt to reduce transmission of infection, free up hospital beds, intensive care and anaesthetists, and limit aerosol-generating procedures. Guidelines and suggestions have been provided to categorize Urological diseases into risk groups and recommendations are available on procedures that can be or cannot be deferred. We aim to summarise updates on diagnosis, treatment and follow up of bladder cancer during the COVID-19 outbreaks.\n",
      "TITLE: Bladder Cancer at the time of COVID-19 Outbreak\n",
      "---------------------------------------------\n",
      "CONTRIB: [ 0.00188482 -0.00188482]\n",
      "ABSTRACT: Due to the rapid expansion in microbial taxonomy, precise identification of common industrially and agriculturally relevant fungi such as Trichoderma species is challenging. In this study, we introduce the on-line multiloci identification system (MIST) for automated detection of three hundred and forty-nine Trichoderma species based on a set of three DNA barcodes. MIST is based on the reference databases of validated sequences of three commonly used phylogenetic markers collected from public databases. The databases consist of four hundred and sixteen complete sequences of the nuclear rRNA internal transcribed spacers 1 and 2 (ITS), five hundred and eighty-three sequence fragments of the gene encoding translation elongation factor 1-alpha (tef1) and five hundred and thirty-four sequence fragments of the gene encoding RNA polymerase subunit 2 (rpb2). Through MIST, information from different DNA barcodes can be combined and the identification of Trichoderma species can be achieved based on the integrated parametric sequence similarity search (blastn) performed in the manner of a decision tree classifier. In the verification process, MIST provided correct identification for forty-four Trichoderma spp. based on DNA barcodes consisting from tef1 and rpb2 markers. Thus, MIST can be used to obtain an automated species identification as well as to retrieve sequences required for the manual identification by means of phylogenetic analysis.IMPORTANCE The genus Trichoderma is important to human kind, with a wide range of applications in industry, agriculture and bioremediation. Thus, quick and accurate identification of Trichoderma species is paramount since it is usually the first step in Trichoderma-based research. However, it frequently becomes a limitation, especially for researchers who lack taxonomic knowledge of fungi. Moreover, as the number of Trichoderma-based studies has increased, a growing number of unidentified sequences have been stored in public databases, which has made the species identification more ambiguous. In this study, we provide an easy to use tool for automated species identification (MIST), a list of Trichoderma species, and corresponding sequences of reference DNA barcodes. Therefore, this study will facilitate the research on the biodiversity and applications of the genus Trichoderma.\n",
      "TITLE: MIST: A multiloci identification system for Trichoderma\n",
      "---------------------------------------------\n",
      "CONTRIB: [ 0.00134314 -0.00134314]\n",
      "ABSTRACT: BACKGROUND: Owing to an increase in digital technologies in health care, recently leveraged by the COVID-19 pandemic, physicians are required to use these technologies appropriately and to be familiar with their implications on patient care, the health system, and society. Therefore, medical students should be confronted with digital health during their medical education. However, corresponding teaching formats and concepts are still largely lacking in the medical curricula. OBJECTIVE: This study aims to introduce digital health as a curricular module at a German medical school and to identify undergraduate medical competencies in digital health and their suitable teaching methods. METHODS: We developed a 3-week curricular module on digital health for third-year medical students at a large German medical school, taking place for the first time in January 2020. Semistructured interviews with 5 digital health experts were recorded, transcribed, and analyzed using an abductive approach. We obtained feedback from the participating students and lecturers of the module through a 17-item survey questionnaire. RESULTS: The module received overall positive feedback from both students and lecturers who expressed the need for further digital health education and stated that the field is very important for clinical care and is underrepresented in the current medical curriculum. We extracted a detailed overview of digital health competencies, skills, and knowledge to teach the students from the expert interviews. They also contained suggestions for teaching methods and statements supporting the urgency of the implementation of digital health education in the mandatory curriculum. CONCLUSIONS: An elective class seems to be a suitable format for the timely introduction of digital health education. However, a longitudinal implementation in the mandatory curriculum should be the goal. Beyond training future physicians in digital skills and teaching them digital health's ethical, legal, and social implications, the experience-based development of a critical digital health mindset with openness to innovation and the ability to assess ever-changing health technologies through a broad transdisciplinary approach to translate research into clinical routine seem more important. Therefore, the teaching of digital health should be as practice-based as possible and involve the educational cooperation of different institutions and academic disciplines.\n",
      "TITLE: Undergraduate Medical Competencies in Digital Health and Curricular Module Development: Mixed Methods Study\n",
      "---------------------------------------------\n",
      "CONTRIB: [ 0.00133333 -0.00133333]\n",
      "ABSTRACT: BACKGROUND: The detection of SARS-CoV-2 RNA by real-time polymerase chain reaction (PCR) in respiratory samples collected from persons recovered from COVID-19 does not necessarily indicate shedding of infective virions. By contrast, the isolation of SARS-CoV-2 using cell-based culture likely indicates infectivity, but there are limited data on the correlation between SARS-CoV-2 culture and PCR. METHODS: One hundred and ninety-five patients with varying severity of COVID-19 were tested (outpatients [n=178]), inpatients [n=12] and critically unwell patients admitted to the intensive care unit [ICU; n=5]). SARS-CoV-2 PCR positive samples were cultured in Vero C1008 cells and inspected daily for cytopathic effect (CPE). SARS-CoV-2-induced CPE was confirmed by PCR of culture supernatant. Where no CPE was observed, PCR was performed on day four to confirm absence of virus replication. Cycle threshold (Ct) of the day four PCR (Ctculture) and the PCR of the original clinical sample (Ctsample) were compared, and positive cultures were defined where Ctsample - Ctculture was &#8805;3. FINDINGS: Of 234 samples collected, 228 (97%) were from the upper respiratory tract. SARS-CoV-2 was only successfully isolated from samples with Ctsample &#8804;32, including in 28/181 (15%), 19/42 (45%) and 9/11 samples (82%) collected from outpatients, inpatients, and ICU patients, respectively. The mean duration from symptom onset to culture positivity was 4.5 days (range 0-18). SARS-CoV-2 was significantly more likely to be isolated from samples collected from inpatients (p<0â001) and ICU patients (p<0â0001) compared with outpatients respectively, and in samples with lower Ctsample. CONCLUSION: SARS-CoV-2 culture may be used as a surrogate marker for infectivity and inform de-isolation protocols.\n",
      "TITLE: Cell-based culture of SARS-CoV-2 informs infectivity and safe de-isolation assessments during COVID-19\n"
     ]
    }
   ],
   "source": [
    "tree_claim_explain_bad(11)"
   ]
  },
  {
   "cell_type": "code",
   "execution_count": 114,
   "metadata": {},
   "outputs": [],
   "source": [
    "from sklearn.ensemble import RandomForestClassifier"
   ]
  },
  {
   "cell_type": "code",
   "execution_count": 357,
   "metadata": {},
   "outputs": [],
   "source": [
    "from sklearn.tree import DecisionTreeClassifier\n",
    "# tmodel = DecisionTreeClassifier()\n",
    "tmodel = RandomForestClassifier(n_estimators=500, n_jobs=24)\n"
   ]
  },
  {
   "cell_type": "code",
   "execution_count": 362,
   "metadata": {},
   "outputs": [],
   "source": [
    "vax_mm.mat[~np.isfinite(vax_mm.mat)] = 0"
   ]
  },
  {
   "cell_type": "code",
   "execution_count": 452,
   "metadata": {},
   "outputs": [
    {
     "name": "stdout",
     "output_type": "stream",
     "text": [
      "Training model...\n",
      "Evaluating model...\n"
     ]
    },
    {
     "data": {
      "text/plain": [
       "((0.8056275453535727, 0.8787248787248788), {'bad': 0, 'good': 1})"
      ]
     },
     "execution_count": 452,
     "metadata": {},
     "output_type": "execute_result"
    }
   ],
   "source": [
    "vax_mm.single_split_classify(tmodel, return_labels=True)"
   ]
  },
  {
   "cell_type": "code",
   "execution_count": null,
   "metadata": {},
   "outputs": [],
   "source": []
  },
  {
   "cell_type": "code",
   "execution_count": 407,
   "metadata": {},
   "outputs": [
    {
     "name": "stdout",
     "output_type": "stream",
     "text": [
      "Training model...\n",
      "Evaluating model...\n"
     ]
    },
    {
     "data": {
      "text/plain": [
       "((0.7102, 0.7114695340501792), {'bad': 0, 'good': 1})"
      ]
     },
     "execution_count": 407,
     "metadata": {},
     "output_type": "execute_result"
    }
   ],
   "source": [
    "vax_mm.single_split_classify(tmodel, return_labels=True)"
   ]
  },
  {
   "cell_type": "code",
   "execution_count": 459,
   "metadata": {},
   "outputs": [],
   "source": [
    "tmodel2 = RandomForestClassifier(n_estimators=500, n_jobs=24)"
   ]
  },
  {
   "cell_type": "code",
   "execution_count": 460,
   "metadata": {},
   "outputs": [
    {
     "name": "stdout",
     "output_type": "stream",
     "text": [
      "Training model...\n",
      "Evaluating model...\n"
     ]
    },
    {
     "data": {
      "text/plain": [
       "((0.8267308404294705, 0.8927589367552704), {'bad': 0, 'good': 1})"
      ]
     },
     "execution_count": 460,
     "metadata": {},
     "output_type": "execute_result"
    }
   ],
   "source": [
    "vax_raw_mm.single_split_classify(tmodel2, return_labels=True)"
   ]
  },
  {
   "cell_type": "code",
   "execution_count": 461,
   "metadata": {},
   "outputs": [],
   "source": [
    "def tree_explain_good(idx):\n",
    "    pred, bias, contrib = ti.predict(tmodel, vgood2ref[idx, :].reshape((1, -1)))\n",
    "    print('CLEAN TEXT: ', vax_good_df.iloc[idx].cleanText)\n",
    "    cmat = contrib.reshape((-1, 2))\n",
    "    print('Prediction: ', pred)\n",
    "    print('Bias: ', bias)\n",
    "    import_bad = np.argsort(cmat[:, 0])[::-1]\n",
    "    import_good = np.argsort(cmat[:, 1])[::-1]\n",
    "    print('===== Towards Good: =====')\n",
    "    for idx in import_good[:5]:\n",
    "        print('-'*45)\n",
    "        print(f'CONTRIB: {cmat[idx]}')\n",
    "        print(f'ABSTRACT: {has_vax.iloc[idx].abstract}')\n",
    "        print(f'TITLE: {has_vax.iloc[idx].title}')\n",
    "    print('===== Towards Bad: =====')\n",
    "    for idx in import_bad[:5]:\n",
    "        print('-'*45)\n",
    "        print(f'CONTRIB: {cmat[idx]}')\n",
    "        print(f'ABSTRACT: {has_vax.iloc[idx].abstract}')\n",
    "        print(f'TITLE: {has_vax.iloc[idx].title}')\n",
    "\n",
    "def tree_explain_bad(idx):\n",
    "    pred, bias, contrib = ti.predict(tmodel, vbad2ref[idx, :].reshape((1, -1)))\n",
    "    print('CLEAN TEXT: ', vax_bad_df.iloc[idx].cleanText)\n",
    "    cmat = contrib.reshape((-1, 2))\n",
    "    print('Prediction: ', pred)\n",
    "    print('Bias: ', bias)\n",
    "    import_bad = np.argsort(cmat[:, 0])[::-1]\n",
    "    import_good = np.argsort(cmat[:, 1])[::-1]\n",
    "    print('===== Towards Bad: =====')\n",
    "    for idx in import_bad[:5]:\n",
    "        print('-'*45)\n",
    "        print(f'CONTRIB: {cmat[idx]}')\n",
    "        print(f'ABSTRACT: {has_vax.iloc[idx].abstract}')\n",
    "        print(f'TITLE: {has_vax.iloc[idx].title}')\n",
    "    print('===== Towards Good: =====')\n",
    "    for idx in import_good[:5]:\n",
    "        print('-'*45)\n",
    "        print(f'CONTRIB: {cmat[idx]}')\n",
    "        print(f'ABSTRACT: {has_vax.iloc[idx].abstract}')\n",
    "        print(f'TITLE: {has_vax.iloc[idx].title}')"
   ]
  },
  {
   "cell_type": "code",
   "execution_count": 457,
   "metadata": {
    "scrolled": true
   },
   "outputs": [
    {
     "name": "stdout",
     "output_type": "stream",
     "text": [
      "CLEAN TEXT:  (Natural News) The guy who’s credited with having first discovered the AIDS virus, and who won a Nobel Prize in Medicine for it, has made some unsettling claims about the alleged nature of the Wuhan coronavirus (COVID-19).\n",
      "According to French virologist Luc Montagnier, the Wuhan coronavirus (COVID-19) didn’t originate at a Wuhan wet market like the mainstream media initially claimed. It actually came from a Wuhan laboratory, he contends, and contains the same DNA as HIV.\n",
      "During an interview with Why Doctor? that took place on April 16, Montagnier explained that while it might be a “beautiful legend” that the Wuhan coronavirus came from tainted bat meat, the truth is that it’s actually a genetically modified (GMO) virus that had the HIV gene sequence artificially inserted into its genome.\n",
      "“The Wuhan city laboratory has specialized in these coronaviruses since the early 2000s,” Montagnier stated, adding that “they have expertise in this area.” Along with his mathematician colleague Jean-Claude Perrez, Montagnier looked at the “smallest details” of the Wuhan coronavirus (COVID-19) and discovered that it does, in fact, closely resemble HIV.\n",
      "“We were not the first, since a group of Indian researchers tried to publish a study which shows that the complete genome of this coronavirus [has] sequences of another virus, which is HIV, the virus AIDS,” he added.\n",
      "As it turns out, these Indian researchers were forced to retract their study after it was published, an apparent attempt to keep the truth about the Wuhan coronavirus (COVID-19) under wraps. The world was not supposed to know that this thing was “the work of a sorcerer’s apprentice,” to quote the eloquence of Montagnier, and yet “scientific truth always ends up emerging” regardless of the attempts to keep it buried.\n",
      "Listen below to The  as Mike Adams, the Health Ranger, talks about how pandemic denialists routinely contradict their own theories about the Wuhan coronavirus (COVID-19):\n",
      "Montagnier has been accused of “drift” for his position on the origin of HIV and its transmission, as well as his anti-vaccine positions\n",
      "Despite having won a Nobel Prize for his expertise on the subject of HIV, Montagnier isn’t necessarily looked at by his colleagues with the high level of respect you might expect.\n",
      "One recent article that was published in France about him was titled, “The slow scientific sinking of Professor Luc Montagnier,” who apparently believes that a person can be exposed to HIV many times “without being chronically infected,” which some of his colleagues believe is a wild conspiracy theory without merit.\n",
      "“Our immune system will get rid of the virus in a matter of weeks, if you have a good immune system,” he’s quoted as saying specifically about HIV, this position being something of an anomaly as far as mainstream science is concerned.\n",
      "Montagnier has also spoken out about the dangers of vaccines, which he says are backed by “good will,” but that “poison little by little the entire population that will succeed us,” meaning all of the innocent children who are jabbed by dozens of vaccines upon entry into the world.\n",
      "When asked about high levels of HIV infection throughout Africa and the need for vaccines there, Montagnier explained that the problem with many African populations is that they aren’t healthy to begin with, often due to imbalanced diets that result in high levels of oxidative stress.\n",
      "“Even if they are not infected with HIV … their immune system is already not working very well, it is prone to let in and persist HIV,” he contends.\n",
      "“There are many ways apart from the vaccine … to reduce transmission, simply by nutritional measures, to give antioxidants … hygiene measures, fighting other infections.”\n",
      "CNews.fr\n",
      "Prediction:  [[0.676 0.324]]\n",
      "Bias:  [[0.26508519 0.73491481]]\n",
      "===== Towards Bad: =====\n",
      "---------------------------------------------\n",
      "CONTRIB: [ 0.00931711 -0.00931711]\n",
      "ABSTRACT: On December 31, 2019 a pneumonia outbreak caused by a new coronavirus (SARS-CoV-2) was detected in the city of Wuhan (China) Due to the high capacity of diffusion and human infection it has become a new zoonotic pandemic The absence of a vaccine has determined the search for antiviral drugs with the capacity to inhibit the replication of the new virus Among them, remdesivir, an analogue of adenosine, is what seems to have a more promising future This drug has shown in vitro and in animals a high capacity to block infection and viral replication with attainable concentrations in human plasma Although all studies have been carried out with SARS-CoV and MERS-CoV, it seems that by virological and functional analogy, remdesivir is one of the few antiviral drugs with proven efficacy However, studies and clinical trials in humans are required to know the result of their application in them\n",
      "TITLE: Remdesivir, the antiviral hope against SARS-CoV-2/ Remdesivir, la esperanza antiviral frente al SARS-CoV-2\n",
      "---------------------------------------------\n",
      "CONTRIB: [ 0.00901327 -0.00901327]\n",
      "ABSTRACT: The coronavirus disease-2019 (COVID-19) is a pandemic the world is currently facing head on It is a viral infection caused by severe acute respiratory syndrome coronavirus 2 (SARS-CoV-2) No current vaccine is available nor a curative treatment option is available at present, thus making it even more important to prevent the disease Since dentists are in very close contact with their patients and there is aerosol production in various dental treatments, they are at a heightened risk of contracting the disease To prevent the disease, strict hand and respiratory hygiene needs to be followed Personal protective equipment should be used for any emergency procedures and thorough history must be taken of every patient Digitalization of seminars and classes has been adopted by various dental institutions With high infectivity of the virus, social distancing and stringent prevention protocols can help in controlling this severe global threat\n",
      "TITLE: Coronavirus and Its Impact on Dental Fraternity\n",
      "---------------------------------------------\n",
      "CONTRIB: [ 0.00892029 -0.00892029]\n",
      "ABSTRACT: In the race to find treatments and a vaccine for COVID-19, it's more essential than ever that society can trust drug companies seeking regulatory approval The companies still pressure Journals to publish the papers;on the basis of these, regulators approve drugs Because the industry controls every aspect of this process - and the all-important data - the pair refer to it as \"organized crime\", following Peter Gøtzsche's 2013 book Deadly Medicines and Organised Crime Falsifiable theory The authors agree that the randomized, placebo-controlled trial is the best method we have for testing drugs, and they argue that every scientific theory should be tested by, in Popper's phrase, attempting to falsify the null hypothesis\n",
      "TITLE: Drugs, money and misleading evidence\n",
      "---------------------------------------------\n",
      "CONTRIB: [ 0.0067699 -0.0067699]\n",
      "ABSTRACT: The outbreak of COVID-19 pneumonia caused by a new coronavirus (severe acute respiratory syndrome coronavirus 2, SARS-CoV-2) is posing a global health emergency and has led to more than 380,000 deaths worldwide The cell entry of SARS-CoV-2 depends on two host proteins angiotensin-converting enzyme 2 (ACE2) and transmembrane protease serine 2 (TMPRSS2) There is currently no vaccine available and also no effective drug for the treatment of COVID-19 Hydrogen sulfide (H2S) as a novel gasotransmitter has been shown to protect against lung damage via its anti-inflammation, antioxidative stress, antiviral, prosurvival, and antiaging effects In light of the research advances on H2S signaling in biology and medicine, this review proposed H2S as a potential defense against COVID-19 It is suggested that H2S may block SARS-CoV-2 entry into host cells by interfering with ACE2 and TMPRSS2, inhibit SARS-CoV-2 replication by attenuating virus assembly/release, and protect SARS-CoV-2-induced lung damage by suppressing immune response and inflammation development Preclinical studies and clinical trials with slow-releasing H2S donor(s) or the activators of endogenous H2S-generating enzymes should be considered as a preventative treatment or therapy for COVID-19\n",
      "TITLE: H2S as a potential defense against COVID-19?\n",
      "---------------------------------------------\n",
      "CONTRIB: [ 0.00613835 -0.00613835]\n",
      "ABSTRACT: Coronaviruses (CoVs) are a family (Coronaviridae) of viruses that cause respiratory disorders in birds and mammals. They were originally discovered as infectious bronchitis virus (IBV) of chickens in the early 20thcentury. A group of related viruses subsequently discovered from mice and humans led to the collective naming as coronaviruses, as they were all characterized by a solar corona-like ring on their surface, called the spikes. The first known human CoVs were among viruses that cause common cold and considered as modest threats to human health. But the emergence of zoonotic CoVs such as severe acute respiratory syndrome coronavirus (SARS-CoV), Middle East respiratory syndrome coronavirus (MERS-CoV), and Severe acute respiratory syndrome-related coronavirus (SARS-CoV-2) during every recent past decade resulted in pandemics with loss of human lives. With no vaccine to prevent, and no drug to treat the infections, the miniscule viruses evolve into behemoths of plagues. SARS-CoV-2 with its infection, COVID-19, is particularly rampant and malicious and is bound to cause colossal impacts not only on human health but also on global economy. Understanding of their evolutionary strategies and pathogenic adaptions had given us fair warnings. Yet, the world was ill-prepared. This article highlights the scientific messages that could have mit-igated the COVID-19 pandemic, the evolutionary mechanisms in SARS-CoV-2 and related CoVs that bely drug and vaccine development, and above all, the possible epidemics in the future.\n",
      "TITLE: A biography of coronaviruses from ibv to SARS-CoV-2, with their evolutionary paradigms and pharmacological challenges\n",
      "===== Towards Good: =====\n",
      "---------------------------------------------\n",
      "CONTRIB: [-0.00435987  0.00435987]\n",
      "ABSTRACT: The idea of \"what the market will bear\" has grown without bounds, since patients with good health insurance coverage have little to no sensitivity to price increases Novel infections threaten population health and economy in ways similar to or far more significantly than the threat of wars [ ]establishing a different pathway to at least some of the lifesaving vaccines and therapies has strong merit Compounding the concern that market forces to control drug prices have nearly vanished, another major issue looms large: US (and international) patent law confers 20-plus years of market exclusivity before drugs and vaccines can be manufactured competitively as generic alternatives\n",
      "TITLE: Whose Drugs Are These?\n",
      "---------------------------------------------\n",
      "CONTRIB: [-0.00288798  0.00288798]\n",
      "ABSTRACT: Social distancing is one of the non-pharmacological measures to contain the infection of COVID-19. At this point in time, no vaccine is available to prevent the infection, no effective drugs are available to prevent and treat the disease, and none of the communities have acquired herd immunity. Various models have shown positive impact of social distancing, provided its implementation on vast majority of the population over a long period of time. Its effect is manifold. Besides flattening the curve, it impacts the political, fiscal, social, economic aspects of the society, along with socially vulnerable and economically underprivileged population. It becomes obsolete after the population develops herd immunity subsequent to widespread infection in the community, or after effective mass immunisation or specific drugs for its control, cure and prevention are available widely.\n",
      "TITLE: Social distancing: A non-pharmacological intervention for COVID-19\n",
      "---------------------------------------------\n",
      "CONTRIB: [-0.00285965  0.00285965]\n",
      "ABSTRACT: Despite major discoveries made in the last few decades about Lassa fever, there are still many unresolved key issues that hamper the development of effective vaccines and therapies against this deadly disease that is endemic in several West African countries. Some of these issues include the lack of a detailed understanding of the viral and participating host factors in completing the virus life cycle, in mediating disease pathogenesis or protection from disease, and in activating or suppressing host innate and cellular immunity against virus infection, as well as of the animal models required for testing vaccines and therapeutics. This Special Issue is devoted to understanding some of these important issues and to exploring the current status of the research and development in combating Lassa fever.\n",
      "TITLE: Lassa Fever: Viral Replication, Disease Pathogenesis, and Host Immune Modulations\n",
      "---------------------------------------------\n",
      "CONTRIB: [-0.0022295  0.0022295]\n",
      "ABSTRACT: Due to the severe acute respiratory syndrome coronavirus 2 or SARS-CoV-2 outbreak, the virus has been wildly spread throughout the world and the number of infected patients has rapidly increased More importantly, neither the official drug treatment nor the vaccine has been officially offered These have considerably increased the public concerns internationally and nationally Recently, there has been one question raised in the Thai society;“Could a common Thai herbal medicine namely Andrographis paniculata be used against SARS-CoV-2 infection?” It is well-known that the plant has antiviral properties against wild ranges of viruses and the active metabolite is andrographolide To date, there have only been a few studies investigating the anti-SARS-CoV-2 activity from andrographolide To provide a better understanding, this study was conducted by applying the advanced techniques in both computational biology and chemistry to evaluate the anti-SARS-CoV-2 potential of andrographolide In this study, andrographolide was tested against two key enzymes of SAR-CoV-2 namely 3C main proteinase and RNA dependent RNA polymerase The result here indicated that andrographolide could only inhibit the SARS-CoV-2 3C main proteinase as strong as lopinavir (the standard medicine), which has been recommended as the drug of choice to treat SARS-CoV-2 patient © 2020, Walailak University All rights reserved\n",
      "TITLE: The antiviral activity of andrographolide, the active metabolite from andrographis paniculata (Burm. f.) wall. ex nees. against sars-cov-2 by using bio-and chemoinformatic tools\n",
      "---------------------------------------------\n",
      "CONTRIB: [-0.00218219  0.00218219]\n",
      "ABSTRACT: BACKGROUND: The outbreak of coronavirus disease, 2019 (COVID-19), which started from Wuhan, China, in late 2019, have spread worldwide. A total of 5,91,971 cases and 2,70,90 deaths were registered till 28th March, 2020. We aimed to predict the impact of duration of exposure to COVID-19 on the mortality rates increment. METHODS: In the present study, data on COVID-19 infected top seven countries viz., Germany, China, France, United Kingdom, Iran, Italy and Spain, and World as a whole, were used for modeling. The analytical procedure of generalized linear model followed by Gompertz link function was used to predict the impact lethal duration of exposure on the mortality rates. FINDINGS: Of the selected countries and World as whole, the projection based on 21st March, 2020 cases, suggest that a total (95% Cl) of 76 (65-151) days of exposure in Germany, mortality rate will increase by 5 times to 1%. In countries like France and United Kingdom, our projection suggests that additional exposure of 48 days and 7 days, respectively, will raise the mortality rates to10%. Regarding Iran, Italy and Spain, mortality rate will rise to 10% with an additional 3-10 days of exposure. World's mortality rates will continue increase by 1% in every three weeks. The predicted interval of lethal duration corresponding to each country has found to be consistent with the mortality rates observed on 28th March, 2020. CONCLUSION: The prediction of lethal duration was found to have apparently effective in predicting mortality, and shows concordance with prevailing rates. In absence of any vaccine against COVID-19 infection, the present study adds information about the quantum of the severity and time elapsed to death will help the Government to take necessary and appropriate steps to control this pandemic.\n",
      "TITLE: Time-to-Death approach in revealing Chronicity and Severity of COVID-19 across the World\n"
     ]
    }
   ],
   "source": [
    "tree_explain_bad(1917)"
   ]
  },
  {
   "cell_type": "code",
   "execution_count": 524,
   "metadata": {},
   "outputs": [
    {
     "data": {
      "text/plain": [
       "'More than 20m Americans lost their jobs in April – and Friday’s report suggests there might be much more trouble ahead\\nFour causes for alarm in the US jobs figures – and one possible reason for hope\\nFriday was a dark day for the US economy. The labor department announced more than 20 million people lost their jobs in April as the coronavirus shut down much of the economy.\\nHere are five key takeaways from a report that will enter the history books as the worst since the Great Depression of the 1930s.\\n1) The headline figures are bad – but what lies beneath is worse\\nAbout 20.5m jobs were lost in the month and the unemployment rate shot up to 14.7%. The numbers are probably deflated, since a huge chunk of people have considered themselves out of the workforce, so they are not counted in the unemployment numbers.\\nAbout 6.5 million more people filed for unemployment since the mid-April reference week Friday’s numbers are based on.\\nAbout 6 million people left the workforce over the month, and therefore are not being counted.\\n2) The damage is widespread\\nSome 95% of industries lost jobs.\\nLeisure and hospitality lost 7.7m jobs. That industry has been devastated by Covid-19 closures. But the shutdown has hit industries across the country. Manufacturing lost 1.3m jobs, construction employment fell by 975,000. In healthcare, employment declined by 1.4 million, led by losses in dentist’s offices (down 503,000).\\n3) The report has highlighted racial inequality\\nThe unemployment rate was highest for Hispanic Americans (18.9%), followed by black Americans (16.7%).\\nAlthough unemployment shot up for white Americans as well (from 4% to 14.2% over the month), that is probably because black workers are more likely to be working in essential jobs.\\nGbenga Ajilore 🏃🏾\\u200d♂️ (@gbenga_ajilore) This was the #JobsReport everyone was fearing & for good reason: 20M jobs lost. For African Americans unemployment rose to 16.7% & a similar jump for Whites to 14.2%.\\nThis gives a historically low ratio of 1.3. Of course that means it took a pandemic to get these rates closer. pic.twitter.com/XPIG57BpJi\\n4) Things are likely to get worse and we don’t know for how long\\nThis week’s jobs report may be the low point – but there are signs of more trouble ahead.\\nThe Bureau of Labor Statistics is still having problems misclassifying absent workers. According to Capital Economics, without that distortion the unemployment rate would have been close to 20% last month.\\nAnother 3.2 million people filed for unemployment last week, after the survey was completed. And there was a 4.6m rise in “continuing claims” in the week ending 25 April – suggesting few of those recently laid off had returned to work.\\n5) One good thing – maybe?\\nAs Jared Bernstein, senior fellow at the Center On Budget and former chief economic adviser to Vice-President Joe Biden, noted 18 million people are on temporary layoff. The economy is opening up again in parts of the US, so maybe many of those people will soon return to work. But with no vaccine for the coronavirus in sight, and cases still rising in the US, that’s a big “maybe” – certainly not enough to justify a widely ridiculed tweet from White House council of economic advisers extolling the virtues of the pre-Covid 19 economy.'"
      ]
     },
     "execution_count": 524,
     "metadata": {},
     "output_type": "execute_result"
    }
   ],
   "source": [
    "vax_good_df.iloc[157].cleanText"
   ]
  },
  {
   "cell_type": "code",
   "execution_count": 526,
   "metadata": {},
   "outputs": [
    {
     "name": "stdout",
     "output_type": "stream",
     "text": [
      "CLEAN TEXT:  More than 20m Americans lost their jobs in April – and Friday’s report suggests there might be much more trouble ahead\n",
      "Four causes for alarm in the US jobs figures – and one possible reason for hope\n",
      "Friday was a dark day for the US economy. The labor department announced more than 20 million people lost their jobs in April as the coronavirus shut down much of the economy.\n",
      "Here are five key takeaways from a report that will enter the history books as the worst since the Great Depression of the 1930s.\n",
      "1) The headline figures are bad – but what lies beneath is worse\n",
      "About 20.5m jobs were lost in the month and the unemployment rate shot up to 14.7%. The numbers are probably deflated, since a huge chunk of people have considered themselves out of the workforce, so they are not counted in the unemployment numbers.\n",
      "About 6.5 million more people filed for unemployment since the mid-April reference week Friday’s numbers are based on.\n",
      "About 6 million people left the workforce over the month, and therefore are not being counted.\n",
      "2) The damage is widespread\n",
      "Some 95% of industries lost jobs.\n",
      "Leisure and hospitality lost 7.7m jobs. That industry has been devastated by Covid-19 closures. But the shutdown has hit industries across the country. Manufacturing lost 1.3m jobs, construction employment fell by 975,000. In healthcare, employment declined by 1.4 million, led by losses in dentist’s offices (down 503,000).\n",
      "3) The report has highlighted racial inequality\n",
      "The unemployment rate was highest for Hispanic Americans (18.9%), followed by black Americans (16.7%).\n",
      "Although unemployment shot up for white Americans as well (from 4% to 14.2% over the month), that is probably because black workers are more likely to be working in essential jobs.\n",
      "Gbenga Ajilore 🏃🏾‍♂️ (@gbenga_ajilore) This was the #JobsReport everyone was fearing & for good reason: 20M jobs lost. For African Americans unemployment rose to 16.7% & a similar jump for Whites to 14.2%.\n",
      "This gives a historically low ratio of 1.3. Of course that means it took a pandemic to get these rates closer. pic.twitter.com/XPIG57BpJi\n",
      "4) Things are likely to get worse and we don’t know for how long\n",
      "This week’s jobs report may be the low point – but there are signs of more trouble ahead.\n",
      "The Bureau of Labor Statistics is still having problems misclassifying absent workers. According to Capital Economics, without that distortion the unemployment rate would have been close to 20% last month.\n",
      "Another 3.2 million people filed for unemployment last week, after the survey was completed. And there was a 4.6m rise in “continuing claims” in the week ending 25 April – suggesting few of those recently laid off had returned to work.\n",
      "5) One good thing – maybe?\n",
      "As Jared Bernstein, senior fellow at the Center On Budget and former chief economic adviser to Vice-President Joe Biden, noted 18 million people are on temporary layoff. The economy is opening up again in parts of the US, so maybe many of those people will soon return to work. But with no vaccine for the coronavirus in sight, and cases still rising in the US, that’s a big “maybe” – certainly not enough to justify a widely ridiculed tweet from White House council of economic advisers extolling the virtues of the pre-Covid 19 economy.\n",
      "Prediction:  [[0.146 0.854]]\n",
      "Bias:  [[0.26508519 0.73491481]]\n",
      "===== Towards Good: =====\n",
      "---------------------------------------------\n",
      "CONTRIB: [-0.00346209  0.00346209]\n",
      "ABSTRACT: When effective medical treatment and vaccination are not available, non-pharmaceutical interventions such as social distancing, home quarantine and far-reaching shutdown of public life are the only available strategies to prevent the spread of epidemics. Based on an extended SEIR (susceptible-exposed-infectious-recovered) model and continuous-time optimal control theory, we compute the optimal non-pharmaceutical intervention strategy for the case that a vaccine is never found and complete containment (eradication of the epidemic) is impossible. In this case, the optimal control must meet competing requirements: First, the minimization of disease-related deaths, and, second, the establishment of a sufficient degree of natural immunity at the end of the measures, in order to exclude a second wave. Moreover, the socio-economic costs of the intervention shall be kept at a minimum. The numerically computed optimal control strategy is a single-intervention scenario that goes beyond heuristically motivated interventions and simple “flattening of the curve”. Careful analysis of the computed control strategy reveals, however, that the obtained solution is in fact a tightrope walk close to the stability boundary of the system, where socio-economic costs and the risk of a new outbreak must be constantly balanced against one another. The model system is calibrated to reproduce the initial exponential growth phase of the COVID-19 pandemic in Germany.\n",
      "TITLE: Beyond just “flattening the curve”: Optimal control of epidemics with purely non-pharmaceutical interventions\n",
      "---------------------------------------------\n",
      "CONTRIB: [-0.00332857  0.00332857]\n",
      "ABSTRACT: There are as yet no licensed therapeutics for the COVID-19 pandemic. The causal coronavirus (SARS-CoV-2) binds host cells via a trimeric spike whose receptor binding domain (RBD) recognizes angiotensin-converting enzyme 2, initiating conformational changes that drive membrane fusion. We find that the monoclonal antibody CR3022 binds the RBD tightly, neutralizing SARS-CoV-2, and report the crystal structure at 2.4 Å of the Fab/RBD complex. Some crystals are suitable for screening for entry-blocking inhibitors. The highly conserved, structure-stabilizing CR3022 epitope is inaccessible in the prefusion spike, suggesting that CR3022 binding facilitates conversion to the fusion-incompetent post-fusion state. Cryogenic electron microscopy (cryo-EM) analysis confirms that incubation of spike with CR3022 Fab leads to destruction of the prefusion trimer. Presentation of this cryptic epitope in an RBD-based vaccine might advantageously focus immune responses. Binders at this epitope could be useful therapeutically, possibly in synergy with an antibody that blocks receptor attachment.\n",
      "TITLE: Neutralization of SARS-CoV-2 by Destruction of the Prefusion Spike\n",
      "---------------------------------------------\n",
      "CONTRIB: [-0.00315981  0.00315981]\n",
      "ABSTRACT: Those downplaying the coronavirus ignore our lack of immunity and vaccines\n",
      "TITLE: This really is nothing like flu\n",
      "---------------------------------------------\n",
      "CONTRIB: [-0.00279989  0.00279989]\n",
      "ABSTRACT: The coronavirus disease 2019 (Covid-19), caused by the Severe Acute Respiratory Syndrome Coronavirus 2 (SARS-CoV-2) virus, has currently a pandemic presentation that requires careful health management that begins with the detection of positive cases Without available specific vaccine or treatments, it is crucial to be able to achieve a rapid and reliable diagnosis The identification of positive cases depends on the correct collection of biological material and subsequent molecular analysis Current international and national guidelines recommend the execution of respiratory tract swabs and updated evidence suggests the usefulness of swabs from the upper respiratory tract, specifically the nasopharyngeal swab However, references regarding the most suitable procedures for infants, children and adolescents are scanty Epidemiological data on Covid-19 paediatric infection are affected by the number and the way in which swabs are performed The paper gives some basic information on how to perform the swabs correctly highlighting paediatric peculiarities, an acronym (ABCD) that helps to remember the main challenges and complications of the procedure, and troubleshooting © 2020 Medico e Bambino All rights reserved\n",
      "TITLE: In the covid-19 storm: It is time to swab! questions to learn and abcd to remember\n",
      "---------------------------------------------\n",
      "CONTRIB: [-0.00272963  0.00272963]\n",
      "ABSTRACT: BACKGROUND: Background: During outbreaks of diseases a great amount of health threatening misinformation is produced and released. In the web-2 era much of this misinformation is disseminated via social media where information could spread easily and quickly. Monitoring social media content provides crucial insights for health managers to manage the crisis. OBJECTIVE: Objective: Given the misinformation surrounding COVID-19 outbreak, this study was aimed to analyze contents of the most commonly used social networks in Iran that is among the affected countries. METHODS: Methods: A social media monitoring conducted through a qualitative design to analyze the discussions of social media users about the content related to COVID-19 transferred via Iranian medical faculty members` groups in Telegram and Whats App during Feb 20 to March 20, 2020 emphasizing the misinformation. Discourse analysis was applied and the written dialogues and discussions regarding misinformation about different aspects of the outbreak between medical faculty members all over the country were analyzed. RESULTS: Results: Cultural factors, demand pressure for information during the crisis, the easiness of information dissemination via social networks, marketing incentives and the poor legal supervision of online contents are the main reasons of misinformation dissemination. Disease statistics; treatments, vaccines and medicines; prevention and protection methods; dietary recommendations and disease transmission ways are the main subjective categories of releasing misinformation regarding novel coronavirus outbreak. Consequences of misinformation dissemination regarding disease include psychosocial; economic; health status; health system and ethical ones. Active and effective presence of health professionals and authorities on social media during the crisis and the improvement of public health literacy in the long term are the most recommended strategies for dealing with issues related to misinformation. CONCLUSIONS: Conclusion: This study contributes the management of COVID-19 outbreak trough providing applicable insights for health managers to manage public information in this challenging time.\n",
      "TITLE: COVID-19 Related Misinformation on Social Media: A Qualitative Study from Iran\n",
      "===== Towards Bad: =====\n",
      "---------------------------------------------\n",
      "CONTRIB: [ 0.00369469 -0.00369469]\n",
      "ABSTRACT: Resumen Introducción: Ante la ausencia de una vacuna o tratamiento específico para controlar la actual pandemia, es necesario seguir investigando potenciales agentes terapéuticos contra la COVID-19 La medicina tradicional china (MTC) se ha usado en el tratamiento de pacientes con SARS (síndrome respiratorio agudo grave) y MERS (síndrome respiratorio de Oriente Medio), y podría tener un rol en la prevención, tratamiento o rehabilitación de pacientes con COVID-19 Objetivo: Describir el estado actual de la literatura científica publicada hasta el 17 de mayo de 2020, sobre la eficacia y seguridad de la MTC en pacientes con COVID-19 Material y métodos: Revisión sistemática exploratoria que incluyó PubMed, Embase, Scopus y 18 bases de datos de la Plataforma de Registros Internacionales de Ensayos Clínicos de la Organización Mundial de la Salud Se incluyeron publicaciones empíricas y teóricas en inglés y español Resultados: Se incluyeron 35 documentos y 93 registros de ensayos clínicos (n = 128);46 ensayos clínicos evalúan decocciones, cápsulas, gránulos, inyecciones y soluciones orales a base de agentes herbarios Los documentos son revisiones narrativas (n = 9), cartas al editor (n = 6), revisiones sistemáticas (n = 4), estudios in silico (n = 4), editoriales (n = 3), comentarios (n = 2), serie de casos (n = 2), recomendaciones de práctica clínica (n = 2), guías de práctica clínica (n = 1), estudios in vitro (n = 1) y artículo de opinión (n = 1) Conclusiones: Solo 2 estudios de series de casos en las que se emplean fórmulas a base de agentes herbarios reportaron beneficios en pacientes con neumonía leve y grave por SARS-CoV-2 Hay 78 ensayos controlados aleatorizados en curso que pronto arrojarán evidencia sobre la eficacia y seguridad de la MTC en pacientes con COVID-19 Introduction: In the absence of a vaccine or specific treatment to control the current pandemic, it is necessary to continue investigating potential therapeutic agents against COVID-19 Traditional Chinese medicine (TCM) has been used in the treatment of patients with SARS (severe acute respiratory syndrome) and MERS (Middle East respiratory syndrome coronavirus), and may have a role in the prevention, treatment, or rehabilitation of patients with COVID-19 Objective: Describe the current state of the scientific literature published until May 17, 2020 about TCM in the management of patients with COVID-19 Material and methods: Scoping review that included PubMed, Embase, Scopus and 18 databases of the World Health Organization International Registry of Clinical Trials Platforms Empirical and theoretical publications in English and Spanish were included Results: A total of 35 documents and 93 clinical trial records (n = 128) were included;46 clinical trials evaluated decoctions, capsules, granules, injections, and oral solutions based on herbal agents The documents are narrative reviews (n = 9), letters to the editor (n = 6), editorials (n = 3), systematic reviews (n = 4), in silico studies (n = 4), comments (n = 2), case series (n = 2), and position articles as guidelines to clinical practice (n = 2), clinical practice guidelines (n = 1), in vitro studies (n = 1), and opinion article (n = 1) Conclusions: Only two case series studies using herbal remedies reported benefits for patients with mild and severe SARS-CoV-2 pneumonia There are 78 ongoing randomized controlled trials that will soon provide evidence on the efficacy and safety of MTC in patients with COVID-19\n",
      "TITLE: Eficacia y seguridad de la medicina tradicional china en COVID-19: una revisión exploratoria\n",
      "---------------------------------------------\n",
      "CONTRIB: [ 0.002994 -0.002994]\n",
      "ABSTRACT: Artificial intelligence (AI) is taking center stage in facing the COVID-19 pandemic AI based algorithms are contributing to the development of vaccines and potential forms of treatment In addition, various AI applications, such as robots, are being employed in interaction with the patients, replacing human contact and applying social distancing This paper examines the case of AI and its contribution to the handling of the COVID-19 pandemic, including the issues of protection of the patients’ personal data, according to the General Data Protection Regulation (GDPR) Implementation of AI technology in the health sector must be approached from the perspective of ethics in relation to science and technology\n",
      "TITLE: Artificial intelligence and the COVID-19 pandemic: Ethical implications\n",
      "---------------------------------------------\n",
      "CONTRIB: [ 0.00260088 -0.00260088]\n",
      "ABSTRACT: This first International Alliance for Biological Standardization Covid-19 webinar brought together a broad range of international stakeholders, including academia, regulators, funders and industry, with a considerable delegation from low- and middle-income countries, to discuss the virology, epidemiology and immunology of, and the vaccine development for SARS-CoV-2.\n",
      "TITLE: SARS-CoV-2: Virology, epidemiology, immunology and vaccine development\n",
      "---------------------------------------------\n",
      "CONTRIB: [ 0.00248219 -0.00248219]\n",
      "ABSTRACT: The outbreak of COVID-19 leads to emergence of the global pandemic, but there is no specific vaccine recommended for COVID-19. More than 216 countries are struggling against the transmission of the disease, recovery and motility. Till date more than 0.948 million deaths out of 30.369 million confirmed cases are reported by WHO. Most of the nations adopted partial or complete 'lockdown' and imposed 'social distancing' to control the rapid transmission of COVID-19 and its consequence. Though global economic growth declined due to nationwide lockdown, there are certain positive impacts on environment. This review article has discussed the effects of nationwide lockdown aiming to community transmission COVID-19 on animal life behaviour and atmospheric environment in different aspects. In the lockdown period, the levels of NO2 and carbon emission remarkably decrease in atmosphere due to restricted consumption of fossil fuel by industries, thermal power stations and air transportations. The concentration of NO2 dropped by 45-54% in the atmosphere of most populated cities in Europe. The intensities of particulate matters PM2.5 and PM10 decreased by 43% and 31% respectively, at lower atmosphere indicating improvement in air qualities in different parts of world caused by less traffic and construction activities. SPM reduced up to 15.9%, showing improvement in surface water quality. New deserted bank has developed due to less river activities in this period. Noise pollution remarkably dropped below 60 db even in crowded cities. Thus, the atmospheric environment has resumed some extent in all respect by means of such global-wide lockdown aiming to control COVID-19 pandemic. The behavioural changes of wild animals, birds, butterfly, pets and street animals that reflected on ecosystem of their relative region indicate the non-interference of human activities on lives of natural creatures during lockdown period. There is certain correlation between atmospheric change with the behavioural changes of natural creature during lockdown period. The objective of this study is to focus the critical analysis of the effect of human activities on atmospheric environment for sustainable ecosystem in long term. Significantly, there is ample scope of research on sustainable development of atmospheric environment and ecosystem of creature in absence of human being.\n",
      "TITLE: COVID-19 lockdown: animal life, ecosystem and atmospheric environment\n",
      "---------------------------------------------\n",
      "CONTRIB: [ 0.00237971 -0.00237971]\n",
      "ABSTRACT: This report updates the 2019-20 recommendations of the Advisory Committee on Immunization Practices (ACIP) regarding the use of seasonal influenza vaccines in the United States (MMWR Recomm Rep 2019;68[No. RR-3]). Routine annual influenza vaccination is recommended for all persons aged &#8805;6 months who do not have contraindications. For each recipient, a licensed and age-appropriate vaccine should be used. Inactivated influenza vaccines (IIVs), recombinant influenza vaccine (RIV4), and live attenuated influenza vaccine (LAIV4) are expected to be available. Most influenza vaccines available for the 2020-21 season will be quadrivalent, with the exception of MF59-adjuvanted IIV, which is expected to be available in both quadrivalent and trivalent formulations.Updates to the recommendations described in this report reflect discussions during public meetings of ACIP held on October 23, 2019; February 26, 2020; and June 24, 2020. Primary updates to this report include the following two items. First, the composition of 2020-21 U.S. influenza vaccines includes updates to the influenza A(H1N1)pdm09, influenza A(H3N2), and influenza B/Victoria lineage components. Second, recent licensures of two new influenza vaccines, Fluzone High-Dose Quadrivalent and Fluad Quadrivalent, are discussed. Both new vaccines are licensed for persons aged &#8805;65 years. Additional changes include updated discussion of contraindications and precautions to influenza vaccination and the accompanying Table, updated discussion concerning use of LAIV4 in the setting of influenza antiviral medication use, and updated recommendations concerning vaccination of persons with egg allergy who receive either cell culture-based IIV4 (ccIIV4) or RIV4.The 2020-21 influenza season will coincide with the continued or recurrent circulation of SARS-CoV-2 (the novel coronavirus associated with coronavirus disease 2019 [COVID-19]). Influenza vaccination of persons aged &#8805;6 months to reduce prevalence of illness caused by influenza will reduce symptoms that might be confused with those of COVID-19. Prevention of and reduction in the severity of influenza illness and reduction of outpatient illnesses, hospitalizations, and intensive care unit admissions through influenza vaccination also could alleviate stress on the U.S. health care system. Guidance for vaccine planning during the pandemic is available at https://www.cdc.gov/vaccines/pandemic-guidance/index.html.This report focuses on recommendations for the use of vaccines for the prevention and control of seasonal influenza during the 2020-21 season in the United States. A brief summary of the recommendations and a link to the most recent Background Document containing additional information are available at https://www.cdc.gov/vaccines/hcp/acip-recs/vacc-specific/flu.html. These recommendations apply to U.S.-licensed influenza vaccines used within Food and Drug Administration (FDA)-licensed indications. Updates and other information are available from CDC's influenza website (https://www.cdc.gov/flu). Vaccination and health care providers should check this site periodically for additional information.\n",
      "TITLE: Prevention and Control of Seasonal Influenza with Vaccines: Recommendations of the Advisory Committee on Immunization Practices - United States, 2020-21 Influenza Season\n"
     ]
    }
   ],
   "source": [
    "tree_explain_good(157)"
   ]
  },
  {
   "cell_type": "code",
   "execution_count": 468,
   "metadata": {},
   "outputs": [
    {
     "name": "stdout",
     "output_type": "stream",
     "text": [
      "CLEAN TEXT:  () - The new coronavirus is likely spreading through the air to some degree, the top U.S. infectious disease official said on Friday, one day after the World Health Organization urged further studies on the ways the virus is transmitted.\n",
      "“Still some question about aerosol but likely some degree of aerosol,” Anthony Fauci, the head of the U.S. National Institute of Allergy and Infectious Diseases, said by video during a panel session at a COVID-19 conference organized by the International AIDS Society.\n",
      "Fauci on Thursday had said it was a “reasonable assumption” that airborne transmission was occurring even though there was not a lot of solid evidence behind it. The WHO urged more studies on the issue.\n",
      "The number of cases in the United States has surged to more than 3 million as states that quickly reopened bars and restaurants have reported sharp increases.\n",
      "Fauci said that to battle the global virus, there needed to be multiple vaccine candidates. Vaccine makers are aiming to have hundreds of millions of doses ready for early next year and as many as 1 billion in some cases, he said.\n",
      "“The companies that we are dealing with are already in discussions to start gearing up to make hundreds of millions of doses and a couple of the companies are promising that they would have a billion doses within a year or so after,” Fauci said.\n",
      "The United States has poured billions of dollars into vaccine efforts at Johnson & Johnson, Moderna, Novavax and AstraZeneca. J&J has said it is aiming for 1 billion doses. Pfizer and BioNTech are also pursuing a vaccine and have said they aim to have 1.2 billion doses by the end of 2021.\n",
      "Prediction:  [[0.234 0.766]]\n",
      "Bias:  [[0.26508519 0.73491481]]\n",
      "===== Towards Good: =====\n",
      "---------------------------------------------\n",
      "CONTRIB: [-0.00346074  0.00346074]\n",
      "ABSTRACT: Those downplaying the coronavirus ignore our lack of immunity and vaccines\n",
      "TITLE: This really is nothing like flu\n",
      "---------------------------------------------\n",
      "CONTRIB: [-0.00220918  0.00220918]\n",
      "ABSTRACT: A face mask is a loose-fitting, disposable outfit that acts as a physical barrier between the mouth and nose of an individual and the potential pollutants in the surrounding environment COVID-19 which is also called as 2019-nCov is caused by the novel coronavirus and it is spread by the salivary droplets or nasal discharge released when an infected person coughs or sneezes In the current COVID-19 scenario, the face mask is designed to ameliorate the prevention of airborne transmission of the novel coronavirus The use of face mask is competent only when the other personal preventive measures are ide-ally pursued The effectiveness of the use of face mask depends strongly on the do’s and don’ts which has to followed while wearing a face mask The purpose of this study is to analyze and summarize the published literature associated with the types, usage, risks, limitations, disposal and reusability of face mask The availability of medication and treatment options are sparse and the development of vaccines for COVID-19 is going to take a longer time Hence the most effective strategy to curb the spread of the disease is by the judicious use of face mask along with other personal protective measures\n",
      "TITLE: Using the mask – do’s and don’ts in the COVID-19 scenario\n",
      "---------------------------------------------\n",
      "CONTRIB: [-0.00216609  0.00216609]\n",
      "ABSTRACT: The idea of \"what the market will bear\" has grown without bounds, since patients with good health insurance coverage have little to no sensitivity to price increases Novel infections threaten population health and economy in ways similar to or far more significantly than the threat of wars [ ]establishing a different pathway to at least some of the lifesaving vaccines and therapies has strong merit Compounding the concern that market forces to control drug prices have nearly vanished, another major issue looms large: US (and international) patent law confers 20-plus years of market exclusivity before drugs and vaccines can be manufactured competitively as generic alternatives\n",
      "TITLE: Whose Drugs Are These?\n",
      "---------------------------------------------\n",
      "CONTRIB: [-0.00208763  0.00208763]\n",
      "ABSTRACT: The ongoing novel coronavirus disease (COVID-19) pandemic has already infected millions worldwide and, with no vaccine available, interventions to mitigate transmission are urgently needed. While there is broad agreement that travel restrictions and social distancing are beneficial in limiting spread, recommendations around face mask use are inconsistent. Here, we use mathematical modeling to examine the epidemiological impact of face masks, considering resource limitations and a range of supply and demand dynamics. Even with a limited protective effect, face masks can reduce total infections and deaths, and can delay the peak time of the epidemic. However, random distribution of masks is generally suboptimal; prioritized coverage of the elderly improves outcomes, while retaining resources for detected cases provides further mitigation under a range of scenarios. Face mask use, particularly for a pathogen with relatively common asymptomatic carriage, is an effective intervention strategy, while optimized distribution is important when resources are limited.\n",
      "TITLE: Face mask use in the general population and optimal resource allocation during the COVID-19 pandemic\n",
      "---------------------------------------------\n",
      "CONTRIB: [-0.00204127  0.00204127]\n",
      "ABSTRACT: Coronaviruses (CoVs) are a family (Coronaviridae) of viruses that cause respiratory disorders in birds and mammals. They were originally discovered as infectious bronchitis virus (IBV) of chickens in the early 20thcentury. A group of related viruses subsequently discovered from mice and humans led to the collective naming as coronaviruses, as they were all characterized by a solar corona-like ring on their surface, called the spikes. The first known human CoVs were among viruses that cause common cold and considered as modest threats to human health. But the emergence of zoonotic CoVs such as severe acute respiratory syndrome coronavirus (SARS-CoV), Middle East respiratory syndrome coronavirus (MERS-CoV), and Severe acute respiratory syndrome-related coronavirus (SARS-CoV-2) during every recent past decade resulted in pandemics with loss of human lives. With no vaccine to prevent, and no drug to treat the infections, the miniscule viruses evolve into behemoths of plagues. SARS-CoV-2 with its infection, COVID-19, is particularly rampant and malicious and is bound to cause colossal impacts not only on human health but also on global economy. Understanding of their evolutionary strategies and pathogenic adaptions had given us fair warnings. Yet, the world was ill-prepared. This article highlights the scientific messages that could have mit-igated the COVID-19 pandemic, the evolutionary mechanisms in SARS-CoV-2 and related CoVs that bely drug and vaccine development, and above all, the possible epidemics in the future.\n",
      "TITLE: A biography of coronaviruses from ibv to SARS-CoV-2, with their evolutionary paradigms and pharmacological challenges\n",
      "===== Towards Bad: =====\n",
      "---------------------------------------------\n",
      "CONTRIB: [ 0.00892217 -0.00892217]\n",
      "ABSTRACT: Merck KGaA is investing in the contract manufacturing of viruses used in viral vaccines, gene therapy, and engineered cell therapies The firm will spend more than $100 million on a 13,000 m2 plant in Carlsbad, California, that will more than double the combined capacity of its existing facilities in Carlsbad and Glasgow, Scotland The new site will be equipped to make viruses for clinical trials and commercial products Merck recently said it will support large-scale manufacturing of a COVID-19 vaccine developed at the University of Oxford View: PDF ;Full Text HTML\n",
      "TITLE: Merck KGaA to double virus manufacturing\n",
      "---------------------------------------------\n",
      "CONTRIB: [ 0.00289232 -0.00289232]\n",
      "ABSTRACT: The COVID-19 pandemic caused by the SARS-CoV-2 virus, has changed the homeostasis of the medical world. In this critical phase, in addition to the general recommendations issued by World Health Organization (WHO) for medical practitioners and health care givers, certain other precautions and safe care practices need to be emphasized which are unique to each branch of medicine. Aesthetic dermatology is no exception. With aesthetic treatments on the rise, it is pertinent to formulate safe practices for aesthetic dermatology to protect the doctor, health staff and the patients from getting exposed during this phase and in the aftermath of the pandemic. Recommendations for surgical and dental procedures advice to defer such procedures. This can be extrapolated to aesthetic dermatology also, but once health care services start, there should be some safety recommendations to be followed until we have definitive management or a vaccine for it.\n",
      "TITLE: Safer Practice of Aesthetic Dermatology during the COVID-19 Pandemic: Recommendations by SIG Aesthetics (IADVL Academy)\n",
      "---------------------------------------------\n",
      "CONTRIB: [ 0.00256948 -0.00256948]\n",
      "ABSTRACT: COVID-19, caused by SARS-CoV-2, lacks effective therapeutics. Additionally, no antiviral drugs or vaccines were developed against the closely related coronavirus, SARS-CoV-1 or MERS-CoV, despite previous zoonotic outbreaks. To identify starting points for such therapeutics, we performed a large-scale screen of electrophile and non-covalent fragments through a combined mass spectrometry and X-ray approach against the SARS-CoV-2 main protease, one of two cysteine viral proteases essential for viral replication. Our crystallographic screen identified 71 hits that span the entire active site, as well as 3 hits at the dimer interface. These structures reveal routes to rapidly develop more potent inhibitors through merging of covalent and non-covalent fragment hits; one series of low-reactivity, tractable covalent fragments were progressed to discover improved binders. These combined hits offer unprecedented structural and reactivity information for on-going structure-based drug design against SARS-CoV-2 main protease.\n",
      "TITLE: Crystallographic and electrophilic fragment screening of the SARS-CoV-2 main protease\n",
      "---------------------------------------------\n",
      "CONTRIB: [ 0.0025243 -0.0025243]\n",
      "ABSTRACT: The Gammacoronavirus infectious bronchitis virus (IBV) causes a highly contagious and economically important respiratory disease in poultry. In the laboratory, most IBV strains are restricted to replication in ex vivo organ cultures or in ovo and do not replicate in cell culture, making the study of their basic virology difficult. Entry of IBV into cells is facilitated by the large glycoprotein on the surface of the virion, the spike (S) protein, comprised of S1 and S2 subunits. Previous research showed that the S2' cleavage site is responsible for the extended tropism of the IBV Beaudette strain. This study aims to investigate whether protease treatment can extend the tropism of other IBV strains. Here we demonstrate that the addition of exogenous trypsin during IBV propagation in cell culture results in significantly increased viral titres. Using a panel of IBV strains, exhibiting varied tropisms, the effects of spike cleavage on entry and replication were assessed by serial passage cell culture in the presence of trypsin. Replication could be maintained over serial passages, indicating that the addition of exogenous protease is sufficient to overcome the barrier to infection. Mutations were identified in both S1 and S2 subunits following serial passage in cell culture. This work provides a proof of concept that exogenous proteases can remove the barrier to IBV replication in otherwise non-permissive cells, providing a platform for further study of elusive field strains and enabling sustainable vaccine production in vitro.\n",
      "TITLE: Treatment with Exogenous Trypsin Expands In Vitro Cellular Tropism of the Avian Coronavirus Infectious Bronchitis Virus\n",
      "---------------------------------------------\n",
      "CONTRIB: [ 0.00247125 -0.00247125]\n",
      "ABSTRACT: Severe acute respiratory syndrome (SARS) and Middle East respiratory syndrome (MERS) coronaviruses (CoVs) are zoonotic pathogens with high fatality rates and pandemic potential. Vaccine development focuses on the principal target of the neutralizing humoral immune response, the spike (S) glycoprotein. Coronavirus S proteins are extensively glycosylated, encoding around 66-87 N-linked glycosylation sites per trimeric spike. Here, we reveal a specific area of high glycan density on MERS S that results in the formation of oligomannose-type glycan clusters, which were absent on SARS and HKU1 CoVs. We provide a comparison of the global glycan density of coronavirus spikes with other viral proteins including HIV-1 envelope, Lassa virus glycoprotein complex, and influenza hemagglutinin, where glycosylation plays a known role in shielding immunogenic epitopes. Overall, our data reveal how organisation of glycosylation across class I viral fusion proteins influence not only individual glycan compositions but also the immunological pressure across the protein surface.\n",
      "TITLE: Vulnerabilities in coronavirus glycan shields despite extensive glycosylation\n"
     ]
    }
   ],
   "source": [
    "tree_explain_good(103)"
   ]
  },
  {
   "cell_type": "code",
   "execution_count": 35,
   "metadata": {},
   "outputs": [],
   "source": [
    "from treeinterpreter import treeinterpreter as ti"
   ]
  },
  {
   "cell_type": "code",
   "execution_count": 37,
   "metadata": {},
   "outputs": [],
   "source": [
    "pred, bias, contrib = ti.predict(tmodel, vbad2ref[290, :].reshape((1, -1)))\n",
    "# pred, bias, contrib = ti.predict(tmodel, vbad2ref[290, :])"
   ]
  },
  {
   "cell_type": "code",
   "execution_count": 52,
   "metadata": {},
   "outputs": [],
   "source": [
    "cmat = contrib.reshape((-1, 2))\n",
    "import_bad = np.argsort(cmat[:, 0])[::-1]\n",
    "import_good = np.argsort(cmat[:, 1])[::-1]"
   ]
  },
  {
   "cell_type": "code",
   "execution_count": 53,
   "metadata": {},
   "outputs": [
    {
     "name": "stdout",
     "output_type": "stream",
     "text": [
      "[1398 1550 3095 3382 2875]\n"
     ]
    }
   ],
   "source": [
    "print(import_bad[:5])"
   ]
  },
  {
   "cell_type": "code",
   "execution_count": 54,
   "metadata": {},
   "outputs": [
    {
     "name": "stdout",
     "output_type": "stream",
     "text": [
      "[1141  821 2810 2357 1929]\n"
     ]
    }
   ],
   "source": [
    "print(import_good[:5])"
   ]
  },
  {
   "cell_type": "code",
   "execution_count": 59,
   "metadata": {},
   "outputs": [
    {
     "data": {
      "text/plain": [
       "'Purpose: The goal of these recommendations is to provide guidance on the optimal care of children with glomerular diseases during the COVID-19 pandemic Patients with glomerular diseases are known to be more susceptible to infection Risk factors include decreased vaccine uptake, urinary loss of immunoglobulins, and treatment with immunosuppressive medications The Canadian Society of Nephrology (CSN) recently published guidelines on the care of adult glomerulonephritis patients This guideline aims to expand and adapt those recommendations for programs caring for children with glomerular diseases Sources of information: We used the CSN COVID-19 Rapid Response Team adult glomerulonephritis recommendations, published in the Canadian Journal of Kidney Health and Disease, as the foundation for our guidelines We reviewed documents published by nephrology and non-nephrology societies and health care agencies focused on kidney disease and immunocompromised populations Finally, we conducted a formal literature review of publications relevant to pediatric and adult glomerular disease, chronic kidney disease, hypertension, and immunosuppression in the context of the COVID-19 pandemic Methods: The leadership of the Canadian Association of Pediatric Nephrologists (CAPN), which is affiliated with the CSN, identified a team of clinicians and researchers with expertise in pediatric glomerular diseases The aim was to adapt Canadian adult glomerulonephritis guidelines to make them applicable to children and discuss pediatric-specific considerations The updated guidelines were peer-reviewed by senior clinicians with expertise in the care of childhood glomerular diseases Key findings: We identified a number of key areas of glomerular disease care likely to be affected by the COVID-19 pandemic, including (1) clinic visit scheduling, (2) visit types, (3) provision of multidisciplinary care, (4) blood work and imaging, (5) home monitoring, (6) immunosuppression, (7) other medications, (8) immunizations, (9) management of children with suspected COVID-19, (10) renal biopsy, (11) patient education and support, and (12) school and child care Limitations: There are minimal data regarding the characteristics and outcomes of COVID-19 in adult or pediatric glomerular disease patients, as well as the efficacy of strategies to prevent infection transmission within these populations Therefore, the majority of these recommendations are based on expert opinion and consensus guidance To expedite the publication of these guidelines, an internal peer-review process was conducted, which may not have been as rigorous as formal journal peer-review Implications: These guidelines are intended to promote optimal care delivery for children with existing or newly diagnosed glomerular diseases during the COVID-19 pandemic The implications of modified care delivery, altered immunosuppression strategies, and limited access to existing resources remain uncertain'"
      ]
     },
     "execution_count": 59,
     "metadata": {},
     "output_type": "execute_result"
    }
   ],
   "source": [
    "has_vax.iloc[2810].abstract"
   ]
  },
  {
   "cell_type": "code",
   "execution_count": null,
   "metadata": {},
   "outputs": [],
   "source": [
    "for k in range(contrib.shape[0]):\n",
    "    for c, feature in zip(contrib[k], [f'doc{x}' for x in range(4686)]):\n",
    "        if abs(c[0] - c[1]) < 0.000001:\n",
    "            continue\n",
    "        print(feature, c, c[0] - c[1])"
   ]
  },
  {
   "cell_type": "code",
   "execution_count": 38,
   "metadata": {},
   "outputs": [
    {
     "data": {
      "text/plain": [
       "(1, 4686, 2)"
      ]
     },
     "execution_count": 38,
     "metadata": {},
     "output_type": "execute_result"
    }
   ],
   "source": [
    "contrib[0].shape"
   ]
  },
  {
   "cell_type": "code",
   "execution_count": null,
   "metadata": {},
   "outputs": [],
   "source": [
    "vax_mm.mat.shape"
   ]
  },
  {
   "cell_type": "code",
   "execution_count": null,
   "metadata": {},
   "outputs": [],
   "source": [
    "from sklearn.tree import DecisionTreeClassifier, plot_tree"
   ]
  },
  {
   "cell_type": "code",
   "execution_count": null,
   "metadata": {},
   "outputs": [],
   "source": [
    "from sklearn.tree import _tree\n",
    "\n",
    "def tree_to_code(tree, feature_names):\n",
    "    tree_ = tree.tree_\n",
    "    feature_name = [\n",
    "        feature_names[i] if i != _tree.TREE_UNDEFINED else \"undefined!\"\n",
    "        for i in tree_.feature\n",
    "    ]\n",
    "    print(\"def tree({}):\\n  path = []\".format(\", \".join(feature_names)))\n",
    "\n",
    "    def recurse(node, depth):\n",
    "        indent = \"  \" * depth\n",
    "        if tree_.feature[node] != _tree.TREE_UNDEFINED:\n",
    "            name = feature_name[node]\n",
    "            threshold = tree_.threshold[node]\n",
    "            print(\"{}if {} <= {}:\".format(indent, name, threshold))\n",
    "            print(\"{}  print('{} <= {}')\".format(indent, name, threshold))\n",
    "            print(\"{}  path.append(({}, '<=', {}))\".format(indent, name[3:], threshold))\n",
    "            recurse(tree_.children_left[node], depth + 1)\n",
    "            print(\"{}else:  # if {} > {}\".format(indent, name, threshold))\n",
    "            print(\"{}  print('{} > {}')\".format(indent, name, threshold))\n",
    "            print(\"{}  path.append(({}, '>', {}))\".format(indent, name[3:], threshold))\n",
    "            recurse(tree_.children_right[node], depth + 1)\n",
    "        else:\n",
    "#             print(tree_.value[node].shape)\n",
    "            print(\"{}return ({}, path)\".format(indent, list(tree_.value[node].ravel())))\n",
    "\n",
    "    recurse(0, 1)\n"
   ]
  },
  {
   "cell_type": "code",
   "execution_count": null,
   "metadata": {},
   "outputs": [],
   "source": []
  },
  {
   "cell_type": "code",
   "execution_count": null,
   "metadata": {},
   "outputs": [],
   "source": [
    "def explain_tree(idx):\n",
    "    (res, path) = tree(*vbad2ref[idx, :])\n",
    "    print('RESULT: {}, {}'.format(res, tmodel.predict(vbad2ref[idx, :].reshape((1, -1)))))\n",
    "    print('Clean Text: {}'.format(vax_bad_df.iloc[idx].cleanText))\n",
    "    for term in path:\n",
    "        name, op, thresh = term\n",
    "        print('-'*25)\n",
    "        print('CRITERIA: ({}): {} {}'.format(name, op, thresh))\n",
    "        print('TITLE: {}'.format(has_vax.iloc[name].title))\n",
    "        print('ABSTRACT: {}'.format(has_vax.iloc[name].abstract))"
   ]
  },
  {
   "cell_type": "code",
   "execution_count": null,
   "metadata": {},
   "outputs": [],
   "source": [
    "explain_tree(310)"
   ]
  },
  {
   "cell_type": "code",
   "execution_count": null,
   "metadata": {
    "scrolled": true
   },
   "outputs": [],
   "source": [
    "tree_to_code(tmodel, [f'doc{x}' for x in range(4686)])"
   ]
  },
  {
   "cell_type": "code",
   "execution_count": null,
   "metadata": {},
   "outputs": [],
   "source": [
    "tree(*vgood2ref[254, :])"
   ]
  },
  {
   "cell_type": "code",
   "execution_count": null,
   "metadata": {},
   "outputs": [],
   "source": [
    "tree(*vgood2ref[255, :])"
   ]
  },
  {
   "cell_type": "code",
   "execution_count": null,
   "metadata": {},
   "outputs": [],
   "source": [
    "vax_good_df.iloc[255].cleanText"
   ]
  },
  {
   "cell_type": "code",
   "execution_count": null,
   "metadata": {},
   "outputs": [],
   "source": [
    "has_vax.iloc[4460].abstract"
   ]
  },
  {
   "cell_type": "code",
   "execution_count": null,
   "metadata": {
    "scrolled": true
   },
   "outputs": [],
   "source": [
    "plot_tree(tmodel)"
   ]
  },
  {
   "cell_type": "code",
   "execution_count": null,
   "metadata": {},
   "outputs": [],
   "source": [
    "s_cord_df = cord_df.sample(n=3000)\n",
    "good_mat = "
   ]
  },
  {
   "cell_type": "code",
   "execution_count": null,
   "metadata": {},
   "outputs": [],
   "source": [
    "def get_results(num, k=5):\n",
    "    res = model.predict(vgood2ref[num, :].reshape(1, -1))\n",
    "    print(res)\n",
    "    weights = model.coef_ * vgood2ref[num, :].T\n",
    "#     top_k = np.argsort(weights)[0, :k]\n",
    "    top_k = np.argsort(weights)[0, :k]\n",
    "    print('Clean Text: ', vax_good_df.iloc[num].cleanText)\n",
    "    for el in top_k:\n",
    "        print('-'*25)\n",
    "        print(f'Weight: {weights[0, el]}')\n",
    "        print(f'Related abstract ({el}): {has_vax.iloc[el].abstract}')\n",
    "        print(f'Related title ({el}): {has_vax.iloc[el].title}')"
   ]
  },
  {
   "cell_type": "code",
   "execution_count": null,
   "metadata": {},
   "outputs": [],
   "source": [
    "# get_results(2912)"
   ]
  },
  {
   "cell_type": "code",
   "execution_count": null,
   "metadata": {
    "scrolled": true
   },
   "outputs": [],
   "source": [
    "get_results(129)"
   ]
  },
  {
   "cell_type": "code",
   "execution_count": null,
   "metadata": {},
   "outputs": [],
   "source": [
    "[(model.coef_[0, x], has_vax.iloc[x].abstract) for x in np.argsort(model.coef_[0, :])[::-1][:10]]"
   ]
  },
  {
   "cell_type": "code",
   "execution_count": null,
   "metadata": {},
   "outputs": [],
   "source": [
    "cord_df"
   ]
  },
  {
   "cell_type": "code",
   "execution_count": null,
   "metadata": {},
   "outputs": [],
   "source": [
    "vax_bad_df.iloc[0].mean_embed.shape"
   ]
  },
  {
   "cell_type": "code",
   "execution_count": null,
   "metadata": {},
   "outputs": [],
   "source": [
    "false_df['text'].swifter.apply(lambda x: 'myth' in x.lower()).sum()"
   ]
  },
  {
   "cell_type": "code",
   "execution_count": null,
   "metadata": {},
   "outputs": [],
   "source": [
    "false_df = claims_df[claims_df['label'] == 'false']\n",
    "true_df = claims_df[claims_df['label'] == 'true']"
   ]
  },
  {
   "cell_type": "code",
   "execution_count": null,
   "metadata": {},
   "outputs": [],
   "source": []
  },
  {
   "cell_type": "code",
   "execution_count": null,
   "metadata": {},
   "outputs": [],
   "source": [
    "s_mat.iloc[0].shape"
   ]
  },
  {
   "cell_type": "code",
   "execution_count": null,
   "metadata": {},
   "outputs": [],
   "source": [
    "from sklearn.linear_model import LogisticRegression\n",
    "from scipy.spatial.distance import cdist"
   ]
  },
  {
   "cell_type": "code",
   "execution_count": null,
   "metadata": {},
   "outputs": [],
   "source": [
    "true_mat = np.vstack(true_df.bert_embedding)\n",
    "fake_mat = np.vstack(false_df.bert_embedding)"
   ]
  },
  {
   "cell_type": "code",
   "execution_count": null,
   "metadata": {
    "scrolled": true
   },
   "outputs": [],
   "source": [
    "best_model = None\n",
    "best_f1 = 0\n",
    "\n",
    "for i in tqdm(range(1000)):\n",
    "    s_cord = cord_df.sample(100)\n",
    "    s_mat = np.vstack(s_cord['sent_embeddings'].swifter.progress_bar(False).apply(lambda x: x.mean(axis=0)))\n",
    "    model = LogisticRegression(max_iter=1000)\n",
    "    true2s = cdist(true_mat, s_mat, 'cosine') # try cosine?\n",
    "    fake2s = cdist(fake_mat, s_mat, 'cosine')\n",
    "    mm = MarkedMatrix([('true', true2s), ('fake', fake2s)])\n",
    "    acc, f1 = mm.single_split_classify(model, verbose=False)\n",
    "    if f1 > best_f1:\n",
    "        best_f1 = f1\n",
    "        best_model = model\n",
    "        print('New best F1: ', best_f1)"
   ]
  },
  {
   "cell_type": "code",
   "execution_count": null,
   "metadata": {},
   "outputs": [],
   "source": [
    "best_f1"
   ]
  },
  {
   "cell_type": "code",
   "execution_count": null,
   "metadata": {},
   "outputs": [],
   "source": [
    "cnt = 0\n",
    "for x in np.argsort(model.coef_[0, :])[::-1]:\n",
    "    print(s_cord.iloc[x].title)\n",
    "    cnt += 1\n",
    "    if cnt > 1000:\n",
    "        break"
   ]
  },
  {
   "cell_type": "code",
   "execution_count": null,
   "metadata": {},
   "outputs": [],
   "source": []
  },
  {
   "cell_type": "code",
   "execution_count": null,
   "metadata": {},
   "outputs": [],
   "source": [
    "claim_df = load_pickle('./pickles/newest_claims_df_labelled.pkl')"
   ]
  },
  {
   "cell_type": "code",
   "execution_count": null,
   "metadata": {},
   "outputs": [],
   "source": [
    "claim_df"
   ]
  },
  {
   "cell_type": "code",
   "execution_count": null,
   "metadata": {},
   "outputs": [],
   "source": [
    "claims_mat = np.array(list(claim_df['bert_embedding']))"
   ]
  },
  {
   "cell_type": "code",
   "execution_count": null,
   "metadata": {},
   "outputs": [],
   "source": []
  },
  {
   "cell_type": "code",
   "execution_count": null,
   "metadata": {},
   "outputs": [],
   "source": [
    "target_df.iloc[11].cleanText"
   ]
  },
  {
   "cell_type": "code",
   "execution_count": null,
   "metadata": {},
   "outputs": [],
   "source": [
    "bad_df[bad_df.hostname == 'beforeitsnews.com'].iloc[4].cleanText"
   ]
  },
  {
   "cell_type": "code",
   "execution_count": null,
   "metadata": {},
   "outputs": [],
   "source": [
    "mm_df = load_pickle('./pickles/mm_df.pkl').dropna()"
   ]
  },
  {
   "cell_type": "code",
   "execution_count": null,
   "metadata": {},
   "outputs": [],
   "source": [
    "cord_df"
   ]
  },
  {
   "cell_type": "code",
   "execution_count": null,
   "metadata": {},
   "outputs": [],
   "source": [
    "cord_df['mean_embed'] = cord_df['sent_embeddings'].swifter.apply(lambda x: x.mean(axis=0))"
   ]
  },
  {
   "cell_type": "code",
   "execution_count": null,
   "metadata": {},
   "outputs": [],
   "source": [
    "s_cord = cord_df.sample(n=100)"
   ]
  },
  {
   "cell_type": "code",
   "execution_count": null,
   "metadata": {},
   "outputs": [],
   "source": [
    "has_vax = cord_df['abstract'].swifter.apply(lambda x: 'vaccine' in x)"
   ]
  },
  {
   "cell_type": "code",
   "execution_count": null,
   "metadata": {},
   "outputs": [],
   "source": [
    "s_cord = cord_df[has_vax]"
   ]
  },
  {
   "cell_type": "code",
   "execution_count": null,
   "metadata": {},
   "outputs": [],
   "source": [
    "mat_cord = np.vstack(s_cord['mean_embed'])"
   ]
  },
  {
   "cell_type": "code",
   "execution_count": null,
   "metadata": {},
   "outputs": [],
   "source": [
    "real_df = mm_df[mm_df['label'] == 'real']\n",
    "fake_df = mm_df[mm_df['label'] == 'fake']"
   ]
  },
  {
   "cell_type": "code",
   "execution_count": null,
   "metadata": {},
   "outputs": [],
   "source": [
    "fake_df = fake_df[fake_df.text != 'NONE']"
   ]
  },
  {
   "cell_type": "code",
   "execution_count": null,
   "metadata": {},
   "outputs": [],
   "source": [
    "good_mat = np.vstack(real_df['mean_embed'])\n",
    "bad_mat = np.vstack(mm_df[mm_df['label'] == 'fake']['mean_embed'])"
   ]
  },
  {
   "cell_type": "code",
   "execution_count": null,
   "metadata": {},
   "outputs": [],
   "source": [
    "mm = MarkedMatrix((('real', good_mat), ('fake', bad_mat)))"
   ]
  },
  {
   "cell_type": "code",
   "execution_count": null,
   "metadata": {},
   "outputs": [],
   "source": [
    "good2cord = cdist(good_mat, mat_cord, 'cosine')\n",
    "bad2cord = cdist(bad_mat, mat_cord, 'cosine')"
   ]
  },
  {
   "cell_type": "code",
   "execution_count": null,
   "metadata": {},
   "outputs": [],
   "source": [
    "mm = MarkedMatrix((('real', good2cord), ('fake', bad2cord)))"
   ]
  },
  {
   "cell_type": "code",
   "execution_count": null,
   "metadata": {},
   "outputs": [],
   "source": [
    "model = LogisticRegression(max_iter=1000, verbose=1, n_jobs=16, solver='lbfgs')"
   ]
  },
  {
   "cell_type": "code",
   "execution_count": null,
   "metadata": {},
   "outputs": [],
   "source": [
    "mm.single_split_classify(model)"
   ]
  },
  {
   "cell_type": "code",
   "execution_count": null,
   "metadata": {},
   "outputs": [],
   "source": [
    "def get_results(num, k=5):\n",
    "    res = model.predict(bad2cord[num, :].reshape(1, -1))\n",
    "    print(res)\n",
    "    weights = model.coef_ * bad2cord[num, :].T\n",
    "#     top_k = np.argsort(weights)[0, :k]\n",
    "    top_k = np.argsort(weights)[0, :k]\n",
    "    print('Clean Text: ', fake_df.iloc[num].text)\n",
    "    for el in top_k:\n",
    "        print('-'*25)\n",
    "        print(f'Weight: {weights[0, el]}')\n",
    "        print(f'Related abstract ({el}): {cord_df.iloc[el].abstract}')\n",
    "        print(f'Related title ({el}): {cord_df.iloc[el].title}')"
   ]
  },
  {
   "cell_type": "code",
   "execution_count": null,
   "metadata": {},
   "outputs": [],
   "source": [
    "get_results(930, k=10)"
   ]
  },
  {
   "cell_type": "code",
   "execution_count": null,
   "metadata": {},
   "outputs": [],
   "source": []
  },
  {
   "cell_type": "markdown",
   "metadata": {},
   "source": [
    "# "
   ]
  }
 ],
 "metadata": {
  "kernelspec": {
   "display_name": "Python 3",
   "language": "python",
   "name": "python3"
  },
  "language_info": {
   "codemirror_mode": {
    "name": "ipython",
    "version": 3
   },
   "file_extension": ".py",
   "mimetype": "text/x-python",
   "name": "python",
   "nbconvert_exporter": "python",
   "pygments_lexer": "ipython3",
   "version": "3.7.4"
  }
 },
 "nbformat": 4,
 "nbformat_minor": 4
}
