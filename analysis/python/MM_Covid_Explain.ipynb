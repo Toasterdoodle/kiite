{
 "cells": [
  {
   "cell_type": "code",
   "execution_count": 1,
   "metadata": {},
   "outputs": [],
   "source": [
    "# I feel like this entire file is sort of broken, maybe it's better to use MM_Covid_Explain2??\n",
    "import re\n",
    "import simdjson as sj\n",
    "import gzip\n",
    "from tqdm import tqdm\n",
    "import pandas as pd\n",
    "from tqdm.notebook import tqdm\n",
    "import swifter\n",
    "import seaborn as sns\n",
    "import numpy as np\t\n",
    "from nltk import sent_tokenize\n",
    "import re\n",
    "from sentence_transformers import SentenceTransformer\n",
    "from wutils.general import save_pickle, load_pickle\n",
    "from wutils.mat import MarkedMatrix\n",
    "from scipy.spatial.distance import cdist\n",
    "from sklearn.linear_model import LogisticRegression"
   ]
  },
  {
   "cell_type": "code",
   "execution_count": 2,
   "metadata": {},
   "outputs": [],
   "source": [
    "# changed from ./pickles/who_cord_df.pkl to ./pickles/newest_cord_df_ft.pkl\n",
    "cord_df = load_pickle('./pickles/newest_cord_df_ft.pkl')"
   ]
  },
  {
   "cell_type": "code",
   "execution_count": 3,
   "metadata": {},
   "outputs": [],
   "source": [
    "# changed from ../who to ./pickles/mm_df.pkl\n",
    "mm_df = load_pickle('./pickles/mm_df.pkl')"
   ]
  },
  {
   "cell_type": "code",
   "execution_count": 416,
   "metadata": {},
   "outputs": [],
   "source": [
    "# cord_df[cord_df.abstract.swifter.apply(lambda x: 'shortages' in x)]"
   ]
  },
  {
   "cell_type": "code",
   "execution_count": 5,
   "metadata": {},
   "outputs": [],
   "source": [
    "# changed from ./pickles/newest_good_sample_df_ft.pkl to ./pickles/clean_good_df.pkl\n",
    "good_df = load_pickle('./pickles/clean_good_df.pkl')"
   ]
  },
  {
   "cell_type": "code",
   "execution_count": 6,
   "metadata": {},
   "outputs": [],
   "source": [
    "# changed from ./pickles/newest_bad_df_ft.pkl to ./pickles/clean_bad_df.pkl\n",
    "bad_df = load_pickle('./pickles/clean_bad_df.pkl')"
   ]
  },
  {
   "cell_type": "code",
   "execution_count": 7,
   "metadata": {},
   "outputs": [],
   "source": [
    "import urllib.parse\n",
    "def get_hostname(url):\n",
    "    o = urllib.parse.urlsplit(url)\n",
    "    return o.hostname"
   ]
  },
  {
   "cell_type": "code",
   "execution_count": 8,
   "metadata": {},
   "outputs": [
    {
     "data": {
      "application/vnd.jupyter.widget-view+json": {
       "model_id": "466ea1b63f84449c8c9255eea86c76e8",
       "version_major": 2,
       "version_minor": 0
      },
      "text/plain": [
       "Pandas Apply:   0%|          | 0/97539 [00:00<?, ?it/s]"
      ]
     },
     "metadata": {},
     "output_type": "display_data"
    },
    {
     "data": {
      "application/vnd.jupyter.widget-view+json": {
       "model_id": "7c9a3aa188694ee7a8d1b36a5e6af873",
       "version_major": 2,
       "version_minor": 0
      },
      "text/plain": [
       "Pandas Apply:   0%|          | 0/21135 [00:00<?, ?it/s]"
      ]
     },
     "metadata": {},
     "output_type": "display_data"
    }
   ],
   "source": [
    "good_df['hostname'] = good_df['url'].swifter.apply(get_hostname)\n",
    "bad_df['hostname'] = bad_df['url'].swifter.apply(get_hostname)"
   ]
  },
  {
   "cell_type": "code",
   "execution_count": 9,
   "metadata": {},
   "outputs": [
    {
     "data": {
      "text/plain": [
       "www.reuters.com           5612\n",
       "www.thehindu.com          5139\n",
       "www.forbes.com            3367\n",
       "www.france24.com          3364\n",
       "indianexpress.com         3121\n",
       "                          ... \n",
       "tucson.com                   1\n",
       "draftwire.usatoday.com       1\n",
       "www.spokesman.com            1\n",
       "uk.reuters.com               1\n",
       "gmat.economist.com           1\n",
       "Name: hostname, Length: 238, dtype: int64"
      ]
     },
     "execution_count": 9,
     "metadata": {},
     "output_type": "execute_result"
    }
   ],
   "source": [
    "good_df.hostname.value_counts()"
   ]
  },
  {
   "cell_type": "code",
   "execution_count": 10,
   "metadata": {},
   "outputs": [
    {
     "data": {
      "text/plain": [
       "www.reuters.com           5612\n",
       "www.thehindu.com          5139\n",
       "www.forbes.com            3367\n",
       "www.france24.com          3364\n",
       "indianexpress.com         3121\n",
       "                          ... \n",
       "tucson.com                   1\n",
       "draftwire.usatoday.com       1\n",
       "www.spokesman.com            1\n",
       "uk.reuters.com               1\n",
       "gmat.economist.com           1\n",
       "Name: hostname, Length: 238, dtype: int64"
      ]
     },
     "execution_count": 10,
     "metadata": {},
     "output_type": "execute_result"
    }
   ],
   "source": [
    "good_df.hostname.value_counts()"
   ]
  },
  {
   "cell_type": "code",
   "execution_count": 9,
   "metadata": {},
   "outputs": [],
   "source": [
    "# target_df = bad_df[bad_df.hostname == 'beforeitsnews.com']\n",
    "# target_df = target_df[target_df.covidFreq > 20]"
   ]
  },
  {
   "cell_type": "code",
   "execution_count": 11,
   "metadata": {},
   "outputs": [],
   "source": [
    "target_df = good_df[good_df.hostname == 'www.reuters.com']"
   ]
  },
  {
   "cell_type": "code",
   "execution_count": 12,
   "metadata": {},
   "outputs": [
    {
     "data": {
      "text/plain": [
       "['Military personnel are seen testing people at a coronavirus test centre in the car park of Chessington World of Adventures as the spread of the coronavirus disease (COVID-19) continues, London, Britain, April 14, 2020.',\n",
       " '/Peter Nicholls\\nLONDON () - Britain is working towards including coronavirus deaths which take place outside of hospital in its daily figures, Public Health England Medical Director Yvonne Doyle said on Tuesday.',\n",
       " '“We just need to be absolutely clear that the cause of death that is attributed is correct and that is what takes time on the death certificate to get right,” she said.',\n",
       " '“But we would like to have much more rapid data, preferably on a daily basis, and that is what we are working towards.”']"
      ]
     },
     "execution_count": 12,
     "metadata": {},
     "output_type": "execute_result"
    }
   ],
   "source": [
    "target_df.sentences.iloc[505]"
   ]
  },
  {
   "cell_type": "code",
   "execution_count": 13,
   "metadata": {},
   "outputs": [
    {
     "data": {
      "text/html": [
       "<div>\n",
       "<style scoped>\n",
       "    .dataframe tbody tr th:only-of-type {\n",
       "        vertical-align: middle;\n",
       "    }\n",
       "\n",
       "    .dataframe tbody tr th {\n",
       "        vertical-align: top;\n",
       "    }\n",
       "\n",
       "    .dataframe thead th {\n",
       "        text-align: right;\n",
       "    }\n",
       "</style>\n",
       "<table border=\"1\" class=\"dataframe\">\n",
       "  <thead>\n",
       "    <tr style=\"text-align: right;\">\n",
       "      <th></th>\n",
       "      <th>cord_uid</th>\n",
       "      <th>sha</th>\n",
       "      <th>doi</th>\n",
       "      <th>title</th>\n",
       "      <th>abstract</th>\n",
       "      <th>journal</th>\n",
       "      <th>TOT_CITES</th>\n",
       "      <th>IMPACT_FACTOR</th>\n",
       "      <th>ARTL_INFLUENCE</th>\n",
       "      <th>CATEGORY_DESCRIPTION</th>\n",
       "      <th>JIF_PERCENTILE</th>\n",
       "      <th>title_embeddings</th>\n",
       "      <th>abstract_embeddings</th>\n",
       "      <th>title_and_abstract_embeddings</th>\n",
       "      <th>sentences</th>\n",
       "      <th>sent_embeddings</th>\n",
       "      <th>ft_embeddings</th>\n",
       "    </tr>\n",
       "  </thead>\n",
       "  <tbody>\n",
       "    <tr>\n",
       "      <th>0</th>\n",
       "      <td>xqhn0vbp</td>\n",
       "      <td>1e1286db212100993d03cc22374b624f7caee956</td>\n",
       "      <td>10.1186/1471-2458-3-5</td>\n",
       "      <td>Airborne rhinovirus detection and effect of ul...</td>\n",
       "      <td>BACKGROUND: Rhinovirus, the most common cause ...</td>\n",
       "      <td>BMC PUBLIC HEALTH</td>\n",
       "      <td>36306.0</td>\n",
       "      <td>2.567</td>\n",
       "      <td>1.042</td>\n",
       "      <td>PUBLIC, ENVIRONMENTAL &amp; OCCUPATIONAL HEALTH</td>\n",
       "      <td>68.548387</td>\n",
       "      <td>[0.22491726279258728, -0.015980135649442673, -...</td>\n",
       "      <td>[0.1403646022081375, -0.4500912129878998, -0.1...</td>\n",
       "      <td>[0.16280563175678253, -0.4352791905403137, -0....</td>\n",
       "      <td>[Airborne rhinovirus detection and effect of u...</td>\n",
       "      <td>[[-0.5930148, -0.61757505, 0.26939434, -0.2021...</td>\n",
       "      <td>[[0.025865793, 0.0144151505, 0.024386879, -0.0...</td>\n",
       "    </tr>\n",
       "    <tr>\n",
       "      <th>1</th>\n",
       "      <td>gi6uaa83</td>\n",
       "      <td>8ae137c8da1607b3a8e4c946c07ca8bda67f88ac</td>\n",
       "      <td>10.1186/gb-2003-4-5-213</td>\n",
       "      <td>Discovering human history from stomach bacteria</td>\n",
       "      <td>Recent analyses of human pathogens have reveal...</td>\n",
       "      <td>GENOME BIOL</td>\n",
       "      <td>NaN</td>\n",
       "      <td>NaN</td>\n",
       "      <td>NaN</td>\n",
       "      <td>NaN</td>\n",
       "      <td>NaN</td>\n",
       "      <td>[0.06675072759389877, -0.044052284210920334, -...</td>\n",
       "      <td>[-0.25839436054229736, -0.10324420779943466, -...</td>\n",
       "      <td>[-0.19375188648700714, -0.1265585720539093, -0...</td>\n",
       "      <td>[Discovering human history from stomach bacter...</td>\n",
       "      <td>[[-0.6388278, -0.49111003, -0.2363218, -0.8208...</td>\n",
       "      <td>[[0.0047203675, 0.041005637, -0.013781068, 0.0...</td>\n",
       "    </tr>\n",
       "    <tr>\n",
       "      <th>2</th>\n",
       "      <td>le0ogx1s</td>\n",
       "      <td>NaN</td>\n",
       "      <td>10.1186/gb-2003-4-7-113</td>\n",
       "      <td>A new recruit for the army of the men of death</td>\n",
       "      <td>The army of the men of death, in John Bunyan's...</td>\n",
       "      <td>GENOME BIOL</td>\n",
       "      <td>NaN</td>\n",
       "      <td>NaN</td>\n",
       "      <td>NaN</td>\n",
       "      <td>NaN</td>\n",
       "      <td>NaN</td>\n",
       "      <td>[-0.5324184894561768, -0.0358302928507328, -0....</td>\n",
       "      <td>[-0.281924307346344, -0.21824604272842407, -0....</td>\n",
       "      <td>[-0.49570220708847046, -0.2127537578344345, -0...</td>\n",
       "      <td>[A new recruit for the army of the men of deat...</td>\n",
       "      <td>[[0.0010873515, -0.6144223, 0.026371827, -1.18...</td>\n",
       "      <td>[[0.028263845, -0.10034516, -0.036279414, -0.0...</td>\n",
       "    </tr>\n",
       "    <tr>\n",
       "      <th>3</th>\n",
       "      <td>fy4w7xz8</td>\n",
       "      <td>0104f6ceccf92ae8567a0102f89cbb976969a774</td>\n",
       "      <td>10.1186/1471-2350-4-9</td>\n",
       "      <td>Association of HLA class I with severe acute r...</td>\n",
       "      <td>BACKGROUND: The human leukocyte antigen (HLA) ...</td>\n",
       "      <td>BMC MED GENET</td>\n",
       "      <td>NaN</td>\n",
       "      <td>NaN</td>\n",
       "      <td>NaN</td>\n",
       "      <td>NaN</td>\n",
       "      <td>NaN</td>\n",
       "      <td>[0.25805529952049255, 0.059809811413288116, -0...</td>\n",
       "      <td>[0.003256639465689659, -0.18425962328910828, -...</td>\n",
       "      <td>[0.00840730220079422, -0.17367023229599, -0.30...</td>\n",
       "      <td>[Association of HLA class I with severe acute ...</td>\n",
       "      <td>[[-0.19145542, -0.9727794, 0.14144804, -1.1873...</td>\n",
       "      <td>[[0.033887863, -0.05646804, 0.0014032094, 0.00...</td>\n",
       "    </tr>\n",
       "    <tr>\n",
       "      <th>4</th>\n",
       "      <td>0qaoam29</td>\n",
       "      <td>5b68a553a7cbbea13472721cd1ad617d42b40c26</td>\n",
       "      <td>10.1186/1471-2334-3-19</td>\n",
       "      <td>A double epidemic model for the SARS propagation</td>\n",
       "      <td>BACKGROUND: An epidemic of a Severe Acute Resp...</td>\n",
       "      <td>BMC INFECT DIS</td>\n",
       "      <td>NaN</td>\n",
       "      <td>NaN</td>\n",
       "      <td>NaN</td>\n",
       "      <td>NaN</td>\n",
       "      <td>NaN</td>\n",
       "      <td>[-0.2515140473842621, -0.04684412479400635, -0...</td>\n",
       "      <td>[0.022290252149105072, -0.3348672688007355, -0...</td>\n",
       "      <td>[-0.01470943819731474, -0.32205796241760254, -...</td>\n",
       "      <td>[A double epidemic model for the SARS propagat...</td>\n",
       "      <td>[[-0.4014988, -1.481686, 0.44280347, -0.390691...</td>\n",
       "      <td>[[0.018823104, -0.095268644, -0.0057887835, -7...</td>\n",
       "    </tr>\n",
       "    <tr>\n",
       "      <th>...</th>\n",
       "      <td>...</td>\n",
       "      <td>...</td>\n",
       "      <td>...</td>\n",
       "      <td>...</td>\n",
       "      <td>...</td>\n",
       "      <td>...</td>\n",
       "      <td>...</td>\n",
       "      <td>...</td>\n",
       "      <td>...</td>\n",
       "      <td>...</td>\n",
       "      <td>...</td>\n",
       "      <td>...</td>\n",
       "      <td>...</td>\n",
       "      <td>...</td>\n",
       "      <td>...</td>\n",
       "      <td>...</td>\n",
       "      <td>...</td>\n",
       "    </tr>\n",
       "    <tr>\n",
       "      <th>50463</th>\n",
       "      <td>5zmgvlj9</td>\n",
       "      <td>f3b4724163d8a42bc2788547d18f2521e14c44a1</td>\n",
       "      <td>10.1016/j.idc.2016.07.004</td>\n",
       "      <td>Health Care–Acquired Viral Respiratory Diseases</td>\n",
       "      <td>Health care–acquired viral respiratory infecti...</td>\n",
       "      <td>INFECTIOUS DISEASE CLINICS OF NORTH AMERICA</td>\n",
       "      <td>2765.0</td>\n",
       "      <td>4.757</td>\n",
       "      <td>1.657</td>\n",
       "      <td>INFECTIOUS DISEASES</td>\n",
       "      <td>84.831461</td>\n",
       "      <td>[-0.04793879762291908, -0.23308999836444855, -...</td>\n",
       "      <td>[0.13221529126167297, -0.06348022818565369, -0...</td>\n",
       "      <td>[0.12945394217967987, -0.10145720839500427, -0...</td>\n",
       "      <td>[Health Care–Acquired Viral Respiratory Diseas...</td>\n",
       "      <td>[[0.36586708, -0.37732273, 0.04530729, -0.8243...</td>\n",
       "      <td>[[0.085807346, 0.052655112, 0.052195895, 0.003...</td>\n",
       "    </tr>\n",
       "    <tr>\n",
       "      <th>50464</th>\n",
       "      <td>6lh4jsor</td>\n",
       "      <td>93244303c6041ad53fcc59cc06a03cc51621edcc</td>\n",
       "      <td>10.1016/j.antiviral.2007.10.006</td>\n",
       "      <td>NIAID resources for developing new therapies f...</td>\n",
       "      <td>Abstract Severe viral infections, including he...</td>\n",
       "      <td>ANTIVIRAL RESEARCH</td>\n",
       "      <td>8440.0</td>\n",
       "      <td>4.130</td>\n",
       "      <td>1.137</td>\n",
       "      <td>PHARMACOLOGY &amp; PHARMACY</td>\n",
       "      <td>81.460674</td>\n",
       "      <td>[0.006424863822758198, -0.2415492832660675, -0...</td>\n",
       "      <td>[-0.12714576721191406, -0.10232926905155182, -...</td>\n",
       "      <td>[-0.09399458020925522, -0.10015833377838135, -...</td>\n",
       "      <td>[NIAID resources for developing new therapies ...</td>\n",
       "      <td>[[-0.37147185, -0.6980188, 0.43672624, -0.9094...</td>\n",
       "      <td>[[0.024637904, -0.018658947, 0.027162116, 0.05...</td>\n",
       "    </tr>\n",
       "    <tr>\n",
       "      <th>50465</th>\n",
       "      <td>4xhcamks</td>\n",
       "      <td>e14e7f6ffed1a74954167e4fb52d1b2f156171cd</td>\n",
       "      <td>10.1016/j.vas.2018.11.003</td>\n",
       "      <td>Prevalence of antibodies against transmissible...</td>\n",
       "      <td>Abstract Transmissible gastroenteritis (TGE) i...</td>\n",
       "      <td>VETERINARY AND ANIMAL SCIENCE</td>\n",
       "      <td>NaN</td>\n",
       "      <td>NaN</td>\n",
       "      <td>NaN</td>\n",
       "      <td>NaN</td>\n",
       "      <td>NaN</td>\n",
       "      <td>[0.09323578327894211, 0.2757474482059479, -0.3...</td>\n",
       "      <td>[0.032846082001924515, -0.06774438917636871, -...</td>\n",
       "      <td>[0.03885219991207123, -0.038546282798051834, -...</td>\n",
       "      <td>[Prevalence of antibodies against transmissibl...</td>\n",
       "      <td>[[0.31367064, -0.8411001, 0.12393801, -0.73822...</td>\n",
       "      <td>[[0.028500002, -0.06309892, 0.018161492, -0.03...</td>\n",
       "    </tr>\n",
       "    <tr>\n",
       "      <th>50467</th>\n",
       "      <td>wncuc903</td>\n",
       "      <td>2b3a3e3956afd65a8fa11d3867da3e58f8915514</td>\n",
       "      <td>10.1016/j.jconrel.2008.06.010</td>\n",
       "      <td>Fast degrading polyesters as siRNA nano-carrie...</td>\n",
       "      <td>Abstract A potential siRNA carrier for pulmona...</td>\n",
       "      <td>JOURNAL OF CONTROLLED RELEASE</td>\n",
       "      <td>47630.0</td>\n",
       "      <td>7.901</td>\n",
       "      <td>1.703</td>\n",
       "      <td>PHARMACOLOGY &amp; PHARMACY</td>\n",
       "      <td>96.816479</td>\n",
       "      <td>[0.07888628542423248, 0.21214959025382996, -0....</td>\n",
       "      <td>[0.004965602420270443, -0.009288039989769459, ...</td>\n",
       "      <td>[0.014255262911319733, -0.0036739495117217302,...</td>\n",
       "      <td>[Fast degrading polyesters as siRNA nano-carri...</td>\n",
       "      <td>[[-0.86003625, -0.56078655, 0.84131026, -0.617...</td>\n",
       "      <td>[[0.04683559, -0.02614965, -0.035911027, 0.054...</td>\n",
       "    </tr>\n",
       "    <tr>\n",
       "      <th>50468</th>\n",
       "      <td>4x1ckr2i</td>\n",
       "      <td>a67dae6e5f2b58a6f16aaed4011c694f9e64dd88</td>\n",
       "      <td>10.1016/j.biocel.2013.06.001</td>\n",
       "      <td>eIF3f: A central regulator of the antagonism a...</td>\n",
       "      <td>Abstract The eukaryotic initiation factor 3 su...</td>\n",
       "      <td>THE INTERNATIONAL JOURNAL OF BIOCHEMISTRY &amp; CE...</td>\n",
       "      <td>NaN</td>\n",
       "      <td>NaN</td>\n",
       "      <td>NaN</td>\n",
       "      <td>NaN</td>\n",
       "      <td>NaN</td>\n",
       "      <td>[-0.2536318004131317, 0.2013382762670517, -0.3...</td>\n",
       "      <td>[0.007300244178622961, -0.13879351317882538, -...</td>\n",
       "      <td>[-0.024495471268892288, -0.16398011147975922, ...</td>\n",
       "      <td>[eIF3f: A central regulator of the antagonism ...</td>\n",
       "      <td>[[-0.02977109, -0.62671494, 1.3274423, -0.6425...</td>\n",
       "      <td>[[0.022614617, -0.10652409, 0.0039549065, -0.0...</td>\n",
       "    </tr>\n",
       "  </tbody>\n",
       "</table>\n",
       "<p>42141 rows × 17 columns</p>\n",
       "</div>"
      ],
      "text/plain": [
       "       cord_uid                                       sha  \\\n",
       "0      xqhn0vbp  1e1286db212100993d03cc22374b624f7caee956   \n",
       "1      gi6uaa83  8ae137c8da1607b3a8e4c946c07ca8bda67f88ac   \n",
       "2      le0ogx1s                                       NaN   \n",
       "3      fy4w7xz8  0104f6ceccf92ae8567a0102f89cbb976969a774   \n",
       "4      0qaoam29  5b68a553a7cbbea13472721cd1ad617d42b40c26   \n",
       "...         ...                                       ...   \n",
       "50463  5zmgvlj9  f3b4724163d8a42bc2788547d18f2521e14c44a1   \n",
       "50464  6lh4jsor  93244303c6041ad53fcc59cc06a03cc51621edcc   \n",
       "50465  4xhcamks  e14e7f6ffed1a74954167e4fb52d1b2f156171cd   \n",
       "50467  wncuc903  2b3a3e3956afd65a8fa11d3867da3e58f8915514   \n",
       "50468  4x1ckr2i  a67dae6e5f2b58a6f16aaed4011c694f9e64dd88   \n",
       "\n",
       "                                   doi  \\\n",
       "0                10.1186/1471-2458-3-5   \n",
       "1              10.1186/gb-2003-4-5-213   \n",
       "2              10.1186/gb-2003-4-7-113   \n",
       "3                10.1186/1471-2350-4-9   \n",
       "4               10.1186/1471-2334-3-19   \n",
       "...                                ...   \n",
       "50463        10.1016/j.idc.2016.07.004   \n",
       "50464  10.1016/j.antiviral.2007.10.006   \n",
       "50465        10.1016/j.vas.2018.11.003   \n",
       "50467    10.1016/j.jconrel.2008.06.010   \n",
       "50468     10.1016/j.biocel.2013.06.001   \n",
       "\n",
       "                                                   title  \\\n",
       "0      Airborne rhinovirus detection and effect of ul...   \n",
       "1        Discovering human history from stomach bacteria   \n",
       "2         A new recruit for the army of the men of death   \n",
       "3      Association of HLA class I with severe acute r...   \n",
       "4       A double epidemic model for the SARS propagation   \n",
       "...                                                  ...   \n",
       "50463    Health Care–Acquired Viral Respiratory Diseases   \n",
       "50464  NIAID resources for developing new therapies f...   \n",
       "50465  Prevalence of antibodies against transmissible...   \n",
       "50467  Fast degrading polyesters as siRNA nano-carrie...   \n",
       "50468  eIF3f: A central regulator of the antagonism a...   \n",
       "\n",
       "                                                abstract  \\\n",
       "0      BACKGROUND: Rhinovirus, the most common cause ...   \n",
       "1      Recent analyses of human pathogens have reveal...   \n",
       "2      The army of the men of death, in John Bunyan's...   \n",
       "3      BACKGROUND: The human leukocyte antigen (HLA) ...   \n",
       "4      BACKGROUND: An epidemic of a Severe Acute Resp...   \n",
       "...                                                  ...   \n",
       "50463  Health care–acquired viral respiratory infecti...   \n",
       "50464  Abstract Severe viral infections, including he...   \n",
       "50465  Abstract Transmissible gastroenteritis (TGE) i...   \n",
       "50467  Abstract A potential siRNA carrier for pulmona...   \n",
       "50468  Abstract The eukaryotic initiation factor 3 su...   \n",
       "\n",
       "                                                 journal  TOT_CITES  \\\n",
       "0                                      BMC PUBLIC HEALTH    36306.0   \n",
       "1                                            GENOME BIOL        NaN   \n",
       "2                                            GENOME BIOL        NaN   \n",
       "3                                          BMC MED GENET        NaN   \n",
       "4                                         BMC INFECT DIS        NaN   \n",
       "...                                                  ...        ...   \n",
       "50463        INFECTIOUS DISEASE CLINICS OF NORTH AMERICA     2765.0   \n",
       "50464                                 ANTIVIRAL RESEARCH     8440.0   \n",
       "50465                      VETERINARY AND ANIMAL SCIENCE        NaN   \n",
       "50467                      JOURNAL OF CONTROLLED RELEASE    47630.0   \n",
       "50468  THE INTERNATIONAL JOURNAL OF BIOCHEMISTRY & CE...        NaN   \n",
       "\n",
       "       IMPACT_FACTOR  ARTL_INFLUENCE  \\\n",
       "0              2.567           1.042   \n",
       "1                NaN             NaN   \n",
       "2                NaN             NaN   \n",
       "3                NaN             NaN   \n",
       "4                NaN             NaN   \n",
       "...              ...             ...   \n",
       "50463          4.757           1.657   \n",
       "50464          4.130           1.137   \n",
       "50465            NaN             NaN   \n",
       "50467          7.901           1.703   \n",
       "50468            NaN             NaN   \n",
       "\n",
       "                              CATEGORY_DESCRIPTION  JIF_PERCENTILE  \\\n",
       "0      PUBLIC, ENVIRONMENTAL & OCCUPATIONAL HEALTH       68.548387   \n",
       "1                                              NaN             NaN   \n",
       "2                                              NaN             NaN   \n",
       "3                                              NaN             NaN   \n",
       "4                                              NaN             NaN   \n",
       "...                                            ...             ...   \n",
       "50463                          INFECTIOUS DISEASES       84.831461   \n",
       "50464                      PHARMACOLOGY & PHARMACY       81.460674   \n",
       "50465                                          NaN             NaN   \n",
       "50467                      PHARMACOLOGY & PHARMACY       96.816479   \n",
       "50468                                          NaN             NaN   \n",
       "\n",
       "                                        title_embeddings  \\\n",
       "0      [0.22491726279258728, -0.015980135649442673, -...   \n",
       "1      [0.06675072759389877, -0.044052284210920334, -...   \n",
       "2      [-0.5324184894561768, -0.0358302928507328, -0....   \n",
       "3      [0.25805529952049255, 0.059809811413288116, -0...   \n",
       "4      [-0.2515140473842621, -0.04684412479400635, -0...   \n",
       "...                                                  ...   \n",
       "50463  [-0.04793879762291908, -0.23308999836444855, -...   \n",
       "50464  [0.006424863822758198, -0.2415492832660675, -0...   \n",
       "50465  [0.09323578327894211, 0.2757474482059479, -0.3...   \n",
       "50467  [0.07888628542423248, 0.21214959025382996, -0....   \n",
       "50468  [-0.2536318004131317, 0.2013382762670517, -0.3...   \n",
       "\n",
       "                                     abstract_embeddings  \\\n",
       "0      [0.1403646022081375, -0.4500912129878998, -0.1...   \n",
       "1      [-0.25839436054229736, -0.10324420779943466, -...   \n",
       "2      [-0.281924307346344, -0.21824604272842407, -0....   \n",
       "3      [0.003256639465689659, -0.18425962328910828, -...   \n",
       "4      [0.022290252149105072, -0.3348672688007355, -0...   \n",
       "...                                                  ...   \n",
       "50463  [0.13221529126167297, -0.06348022818565369, -0...   \n",
       "50464  [-0.12714576721191406, -0.10232926905155182, -...   \n",
       "50465  [0.032846082001924515, -0.06774438917636871, -...   \n",
       "50467  [0.004965602420270443, -0.009288039989769459, ...   \n",
       "50468  [0.007300244178622961, -0.13879351317882538, -...   \n",
       "\n",
       "                           title_and_abstract_embeddings  \\\n",
       "0      [0.16280563175678253, -0.4352791905403137, -0....   \n",
       "1      [-0.19375188648700714, -0.1265585720539093, -0...   \n",
       "2      [-0.49570220708847046, -0.2127537578344345, -0...   \n",
       "3      [0.00840730220079422, -0.17367023229599, -0.30...   \n",
       "4      [-0.01470943819731474, -0.32205796241760254, -...   \n",
       "...                                                  ...   \n",
       "50463  [0.12945394217967987, -0.10145720839500427, -0...   \n",
       "50464  [-0.09399458020925522, -0.10015833377838135, -...   \n",
       "50465  [0.03885219991207123, -0.038546282798051834, -...   \n",
       "50467  [0.014255262911319733, -0.0036739495117217302,...   \n",
       "50468  [-0.024495471268892288, -0.16398011147975922, ...   \n",
       "\n",
       "                                               sentences  \\\n",
       "0      [Airborne rhinovirus detection and effect of u...   \n",
       "1      [Discovering human history from stomach bacter...   \n",
       "2      [A new recruit for the army of the men of deat...   \n",
       "3      [Association of HLA class I with severe acute ...   \n",
       "4      [A double epidemic model for the SARS propagat...   \n",
       "...                                                  ...   \n",
       "50463  [Health Care–Acquired Viral Respiratory Diseas...   \n",
       "50464  [NIAID resources for developing new therapies ...   \n",
       "50465  [Prevalence of antibodies against transmissibl...   \n",
       "50467  [Fast degrading polyesters as siRNA nano-carri...   \n",
       "50468  [eIF3f: A central regulator of the antagonism ...   \n",
       "\n",
       "                                         sent_embeddings  \\\n",
       "0      [[-0.5930148, -0.61757505, 0.26939434, -0.2021...   \n",
       "1      [[-0.6388278, -0.49111003, -0.2363218, -0.8208...   \n",
       "2      [[0.0010873515, -0.6144223, 0.026371827, -1.18...   \n",
       "3      [[-0.19145542, -0.9727794, 0.14144804, -1.1873...   \n",
       "4      [[-0.4014988, -1.481686, 0.44280347, -0.390691...   \n",
       "...                                                  ...   \n",
       "50463  [[0.36586708, -0.37732273, 0.04530729, -0.8243...   \n",
       "50464  [[-0.37147185, -0.6980188, 0.43672624, -0.9094...   \n",
       "50465  [[0.31367064, -0.8411001, 0.12393801, -0.73822...   \n",
       "50467  [[-0.86003625, -0.56078655, 0.84131026, -0.617...   \n",
       "50468  [[-0.02977109, -0.62671494, 1.3274423, -0.6425...   \n",
       "\n",
       "                                           ft_embeddings  \n",
       "0      [[0.025865793, 0.0144151505, 0.024386879, -0.0...  \n",
       "1      [[0.0047203675, 0.041005637, -0.013781068, 0.0...  \n",
       "2      [[0.028263845, -0.10034516, -0.036279414, -0.0...  \n",
       "3      [[0.033887863, -0.05646804, 0.0014032094, 0.00...  \n",
       "4      [[0.018823104, -0.095268644, -0.0057887835, -7...  \n",
       "...                                                  ...  \n",
       "50463  [[0.085807346, 0.052655112, 0.052195895, 0.003...  \n",
       "50464  [[0.024637904, -0.018658947, 0.027162116, 0.05...  \n",
       "50465  [[0.028500002, -0.06309892, 0.018161492, -0.03...  \n",
       "50467  [[0.04683559, -0.02614965, -0.035911027, 0.054...  \n",
       "50468  [[0.022614617, -0.10652409, 0.0039549065, -0.0...  \n",
       "\n",
       "[42141 rows x 17 columns]"
      ]
     },
     "execution_count": 13,
     "metadata": {},
     "output_type": "execute_result"
    }
   ],
   "source": [
    "cord_df"
   ]
  },
  {
   "cell_type": "code",
   "execution_count": 15,
   "metadata": {},
   "outputs": [
    {
     "ename": "FileNotFoundError",
     "evalue": "[Errno 2] No such file or directory: './data/words.txt'",
     "output_type": "error",
     "traceback": [
      "\u001b[0;31m---------------------------------------------------------------------------\u001b[0m",
      "\u001b[0;31mFileNotFoundError\u001b[0m                         Traceback (most recent call last)",
      "\u001b[0;32m/var/folders/ms/0t06g66d4cncxmtwvsxtqjh40000gn/T/ipykernel_16501/3545572411.py\u001b[0m in \u001b[0;36m<module>\u001b[0;34m\u001b[0m\n\u001b[1;32m      1\u001b[0m \u001b[0;31m# missing this ./data/words.txt file\u001b[0m\u001b[0;34m\u001b[0m\u001b[0;34m\u001b[0m\u001b[0m\n\u001b[1;32m      2\u001b[0m \u001b[0;31m# It's probably ok though, I think this is just used to show some data\u001b[0m\u001b[0;34m\u001b[0m\u001b[0;34m\u001b[0m\u001b[0m\n\u001b[0;32m----> 3\u001b[0;31m \u001b[0;32mwith\u001b[0m \u001b[0mopen\u001b[0m\u001b[0;34m(\u001b[0m\u001b[0;34m'./data/words.txt'\u001b[0m\u001b[0;34m)\u001b[0m \u001b[0;32mas\u001b[0m \u001b[0mf\u001b[0m\u001b[0;34m:\u001b[0m\u001b[0;34m\u001b[0m\u001b[0;34m\u001b[0m\u001b[0m\n\u001b[0m\u001b[1;32m      4\u001b[0m     \u001b[0mwords\u001b[0m \u001b[0;34m=\u001b[0m \u001b[0mf\u001b[0m\u001b[0;34m.\u001b[0m\u001b[0mreadlines\u001b[0m\u001b[0;34m(\u001b[0m\u001b[0;34m)\u001b[0m\u001b[0;34m\u001b[0m\u001b[0;34m\u001b[0m\u001b[0m\n",
      "\u001b[0;31mFileNotFoundError\u001b[0m: [Errno 2] No such file or directory: './data/words.txt'"
     ]
    }
   ],
   "source": [
    "# missing this ./data/words.txt file\n",
    "# It's probably ok though, I think this is just used to show some data\n",
    "with open('./data/words.txt') as f:\n",
    "    words = f.readlines()"
   ]
  },
  {
   "cell_type": "code",
   "execution_count": 17,
   "metadata": {},
   "outputs": [
    {
     "ename": "NameError",
     "evalue": "name 'words' is not defined",
     "output_type": "error",
     "traceback": [
      "\u001b[0;31m---------------------------------------------------------------------------\u001b[0m",
      "\u001b[0;31mNameError\u001b[0m                                 Traceback (most recent call last)",
      "\u001b[0;32m/var/folders/ms/0t06g66d4cncxmtwvsxtqjh40000gn/T/ipykernel_16501/1365710981.py\u001b[0m in \u001b[0;36m<module>\u001b[0;34m\u001b[0m\n\u001b[1;32m      1\u001b[0m \u001b[0;31m# needs words.txt file\u001b[0m\u001b[0;34m\u001b[0m\u001b[0;34m\u001b[0m\u001b[0m\n\u001b[0;32m----> 2\u001b[0;31m \u001b[0mwords\u001b[0m \u001b[0;34m=\u001b[0m \u001b[0;34m[\u001b[0m\u001b[0mx\u001b[0m\u001b[0;34m.\u001b[0m\u001b[0mstrip\u001b[0m\u001b[0;34m(\u001b[0m\u001b[0;34m)\u001b[0m\u001b[0;34m.\u001b[0m\u001b[0mlower\u001b[0m\u001b[0;34m(\u001b[0m\u001b[0;34m)\u001b[0m \u001b[0;32mfor\u001b[0m \u001b[0mx\u001b[0m \u001b[0;32min\u001b[0m \u001b[0mwords\u001b[0m\u001b[0;34m]\u001b[0m\u001b[0;34m\u001b[0m\u001b[0;34m\u001b[0m\u001b[0m\n\u001b[0m",
      "\u001b[0;31mNameError\u001b[0m: name 'words' is not defined"
     ]
    }
   ],
   "source": [
    "# needs words.txt file\n",
    "words = [x.strip().lower() for x in words]"
   ]
  },
  {
   "cell_type": "code",
   "execution_count": 19,
   "metadata": {},
   "outputs": [
    {
     "ename": "NameError",
     "evalue": "name 'words' is not defined",
     "output_type": "error",
     "traceback": [
      "\u001b[0;31m---------------------------------------------------------------------------\u001b[0m",
      "\u001b[0;31mNameError\u001b[0m                                 Traceback (most recent call last)",
      "\u001b[0;32m/var/folders/ms/0t06g66d4cncxmtwvsxtqjh40000gn/T/ipykernel_16501/4185437066.py\u001b[0m in \u001b[0;36m<module>\u001b[0;34m\u001b[0m\n\u001b[1;32m      4\u001b[0m \u001b[0;32mfor\u001b[0m \u001b[0mi\u001b[0m \u001b[0;32min\u001b[0m \u001b[0mrange\u001b[0m\u001b[0;34m(\u001b[0m\u001b[0;36m5000\u001b[0m\u001b[0;34m)\u001b[0m\u001b[0;34m:\u001b[0m\u001b[0;34m\u001b[0m\u001b[0;34m\u001b[0m\u001b[0m\n\u001b[1;32m      5\u001b[0m     \u001b[0mn_words\u001b[0m \u001b[0;34m=\u001b[0m \u001b[0mrandom\u001b[0m\u001b[0;34m.\u001b[0m\u001b[0mrandint\u001b[0m\u001b[0;34m(\u001b[0m\u001b[0;36m10\u001b[0m\u001b[0;34m,\u001b[0m \u001b[0;36m30\u001b[0m\u001b[0;34m)\u001b[0m\u001b[0;34m\u001b[0m\u001b[0;34m\u001b[0m\u001b[0m\n\u001b[0;32m----> 6\u001b[0;31m     \u001b[0msent_words\u001b[0m \u001b[0;34m=\u001b[0m \u001b[0mrandom\u001b[0m\u001b[0;34m.\u001b[0m\u001b[0mchoices\u001b[0m\u001b[0;34m(\u001b[0m\u001b[0mwords\u001b[0m\u001b[0;34m,\u001b[0m \u001b[0mk\u001b[0m\u001b[0;34m=\u001b[0m\u001b[0mn_words\u001b[0m\u001b[0;34m)\u001b[0m\u001b[0;34m\u001b[0m\u001b[0;34m\u001b[0m\u001b[0m\n\u001b[0m\u001b[1;32m      7\u001b[0m     \u001b[0msent\u001b[0m \u001b[0;34m=\u001b[0m \u001b[0;34m' '\u001b[0m\u001b[0;34m.\u001b[0m\u001b[0mjoin\u001b[0m\u001b[0;34m(\u001b[0m\u001b[0msent_words\u001b[0m\u001b[0;34m)\u001b[0m\u001b[0;34m\u001b[0m\u001b[0;34m\u001b[0m\u001b[0m\n\u001b[1;32m      8\u001b[0m     \u001b[0msent\u001b[0m \u001b[0;34m=\u001b[0m \u001b[0msent\u001b[0m\u001b[0;34m[\u001b[0m\u001b[0;36m0\u001b[0m\u001b[0;34m]\u001b[0m\u001b[0;34m.\u001b[0m\u001b[0mupper\u001b[0m\u001b[0;34m(\u001b[0m\u001b[0;34m)\u001b[0m \u001b[0;34m+\u001b[0m \u001b[0msent\u001b[0m\u001b[0;34m[\u001b[0m\u001b[0;36m1\u001b[0m\u001b[0;34m:\u001b[0m\u001b[0;34m]\u001b[0m \u001b[0;34m+\u001b[0m \u001b[0;34m'.'\u001b[0m\u001b[0;34m\u001b[0m\u001b[0;34m\u001b[0m\u001b[0m\n",
      "\u001b[0;31mNameError\u001b[0m: name 'words' is not defined"
     ]
    }
   ],
   "source": [
    "# needs words.txt file\n",
    "import random\n",
    "sents = []\n",
    "for i in range(5000):\n",
    "    n_words = random.randint(10, 30)\n",
    "    sent_words = random.choices(words, k=n_words)\n",
    "    sent = ' '.join(sent_words)\n",
    "    sent = sent[0].upper() + sent[1:] + '.'\n",
    "    sents.append(sent)"
   ]
  },
  {
   "cell_type": "code",
   "execution_count": 20,
   "metadata": {},
   "outputs": [
    {
     "data": {
      "application/vnd.jupyter.widget-view+json": {
       "model_id": "636d1268127d44229672068a6e4f739c",
       "version_major": 2,
       "version_minor": 0
      },
      "text/plain": [
       "Downloading (…)925a9/.gitattributes:   0%|          | 0.00/690 [00:00<?, ?B/s]"
      ]
     },
     "metadata": {},
     "output_type": "display_data"
    },
    {
     "data": {
      "application/vnd.jupyter.widget-view+json": {
       "model_id": "0f4409b7e6a349208ae398b888d0a03b",
       "version_major": 2,
       "version_minor": 0
      },
      "text/plain": [
       "Downloading (…)_Pooling/config.json:   0%|          | 0.00/190 [00:00<?, ?B/s]"
      ]
     },
     "metadata": {},
     "output_type": "display_data"
    },
    {
     "data": {
      "application/vnd.jupyter.widget-view+json": {
       "model_id": "f8aac3cfafef4901a0c3f403c2ccfc18",
       "version_major": 2,
       "version_minor": 0
      },
      "text/plain": [
       "Downloading (…)1a515925a9/README.md:   0%|          | 0.00/3.99k [00:00<?, ?B/s]"
      ]
     },
     "metadata": {},
     "output_type": "display_data"
    },
    {
     "data": {
      "application/vnd.jupyter.widget-view+json": {
       "model_id": "8ffbeb53f35d4c75a005b4129905a675",
       "version_major": 2,
       "version_minor": 0
      },
      "text/plain": [
       "Downloading (…)515925a9/config.json:   0%|          | 0.00/550 [00:00<?, ?B/s]"
      ]
     },
     "metadata": {},
     "output_type": "display_data"
    },
    {
     "data": {
      "application/vnd.jupyter.widget-view+json": {
       "model_id": "e061bdd10ccf4add95c7f196a3e5371f",
       "version_major": 2,
       "version_minor": 0
      },
      "text/plain": [
       "Downloading (…)ce_transformers.json:   0%|          | 0.00/122 [00:00<?, ?B/s]"
      ]
     },
     "metadata": {},
     "output_type": "display_data"
    },
    {
     "data": {
      "application/vnd.jupyter.widget-view+json": {
       "model_id": "12246b22ff4b4b9b8277bd5b4ebbe433",
       "version_major": 2,
       "version_minor": 0
      },
      "text/plain": [
       "Downloading pytorch_model.bin:   0%|          | 0.00/265M [00:00<?, ?B/s]"
      ]
     },
     "metadata": {},
     "output_type": "display_data"
    },
    {
     "data": {
      "application/vnd.jupyter.widget-view+json": {
       "model_id": "1fb32ff5a42e49be918b82277842454b",
       "version_major": 2,
       "version_minor": 0
      },
      "text/plain": [
       "Downloading (…)nce_bert_config.json:   0%|          | 0.00/53.0 [00:00<?, ?B/s]"
      ]
     },
     "metadata": {},
     "output_type": "display_data"
    },
    {
     "data": {
      "application/vnd.jupyter.widget-view+json": {
       "model_id": "b50e548fef5e4d39b457bd6d72667ed0",
       "version_major": 2,
       "version_minor": 0
      },
      "text/plain": [
       "Downloading (…)cial_tokens_map.json:   0%|          | 0.00/112 [00:00<?, ?B/s]"
      ]
     },
     "metadata": {},
     "output_type": "display_data"
    },
    {
     "data": {
      "application/vnd.jupyter.widget-view+json": {
       "model_id": "e394eedf0faa4768903ae0151f973135",
       "version_major": 2,
       "version_minor": 0
      },
      "text/plain": [
       "Downloading (…)925a9/tokenizer.json:   0%|          | 0.00/466k [00:00<?, ?B/s]"
      ]
     },
     "metadata": {},
     "output_type": "display_data"
    },
    {
     "data": {
      "application/vnd.jupyter.widget-view+json": {
       "model_id": "a67a102180f5438693e14f6779a14604",
       "version_major": 2,
       "version_minor": 0
      },
      "text/plain": [
       "Downloading (…)okenizer_config.json:   0%|          | 0.00/450 [00:00<?, ?B/s]"
      ]
     },
     "metadata": {},
     "output_type": "display_data"
    },
    {
     "data": {
      "application/vnd.jupyter.widget-view+json": {
       "model_id": "5fa582322ecf4a9ba3756d93789c6a9a",
       "version_major": 2,
       "version_minor": 0
      },
      "text/plain": [
       "Downloading (…)1a515925a9/vocab.txt:   0%|          | 0.00/232k [00:00<?, ?B/s]"
      ]
     },
     "metadata": {},
     "output_type": "display_data"
    },
    {
     "data": {
      "application/vnd.jupyter.widget-view+json": {
       "model_id": "5769c2ebed8f4db28d31234281d8cdf1",
       "version_major": 2,
       "version_minor": 0
      },
      "text/plain": [
       "Downloading (…)15925a9/modules.json:   0%|          | 0.00/229 [00:00<?, ?B/s]"
      ]
     },
     "metadata": {},
     "output_type": "display_data"
    }
   ],
   "source": [
    "# this works, but for the next function you need sents which needs words.txt\n",
    "sent_encoder = SentenceTransformer('distilbert-base-nli-mean-tokens')"
   ]
  },
  {
   "cell_type": "code",
   "execution_count": 21,
   "metadata": {},
   "outputs": [
    {
     "data": {
      "application/vnd.jupyter.widget-view+json": {
       "model_id": "8ef4c498b7664824ba2301d9e8cc4ec5",
       "version_major": 2,
       "version_minor": 0
      },
      "text/plain": [
       "Batches: 0it [00:00, ?it/s]"
      ]
     },
     "metadata": {},
     "output_type": "display_data"
    },
    {
     "ename": "RuntimeError",
     "evalue": "stack expects a non-empty TensorList",
     "output_type": "error",
     "traceback": [
      "\u001b[0;31m---------------------------------------------------------------------------\u001b[0m",
      "\u001b[0;31mRuntimeError\u001b[0m                              Traceback (most recent call last)",
      "\u001b[0;32m/var/folders/ms/0t06g66d4cncxmtwvsxtqjh40000gn/T/ipykernel_16501/1253041525.py\u001b[0m in \u001b[0;36m<module>\u001b[0;34m\u001b[0m\n\u001b[0;32m----> 1\u001b[0;31m \u001b[0mencoded\u001b[0m \u001b[0;34m=\u001b[0m \u001b[0msent_encoder\u001b[0m\u001b[0;34m.\u001b[0m\u001b[0mencode\u001b[0m\u001b[0;34m(\u001b[0m\u001b[0msents\u001b[0m\u001b[0;34m,\u001b[0m \u001b[0mconvert_to_tensor\u001b[0m\u001b[0;34m=\u001b[0m\u001b[0;32mTrue\u001b[0m\u001b[0;34m,\u001b[0m \u001b[0mshow_progress_bar\u001b[0m\u001b[0;34m=\u001b[0m\u001b[0;32mTrue\u001b[0m\u001b[0;34m)\u001b[0m\u001b[0;34m\u001b[0m\u001b[0;34m\u001b[0m\u001b[0m\n\u001b[0m",
      "\u001b[0;32m~/opt/anaconda3/lib/python3.9/site-packages/sentence_transformers/SentenceTransformer.py\u001b[0m in \u001b[0;36mencode\u001b[0;34m(self, sentences, batch_size, show_progress_bar, output_value, convert_to_numpy, convert_to_tensor, device, normalize_embeddings)\u001b[0m\n\u001b[1;32m    193\u001b[0m \u001b[0;34m\u001b[0m\u001b[0m\n\u001b[1;32m    194\u001b[0m         \u001b[0;32mif\u001b[0m \u001b[0mconvert_to_tensor\u001b[0m\u001b[0;34m:\u001b[0m\u001b[0;34m\u001b[0m\u001b[0;34m\u001b[0m\u001b[0m\n\u001b[0;32m--> 195\u001b[0;31m             \u001b[0mall_embeddings\u001b[0m \u001b[0;34m=\u001b[0m \u001b[0mtorch\u001b[0m\u001b[0;34m.\u001b[0m\u001b[0mstack\u001b[0m\u001b[0;34m(\u001b[0m\u001b[0mall_embeddings\u001b[0m\u001b[0;34m)\u001b[0m\u001b[0;34m\u001b[0m\u001b[0;34m\u001b[0m\u001b[0m\n\u001b[0m\u001b[1;32m    196\u001b[0m         \u001b[0;32melif\u001b[0m \u001b[0mconvert_to_numpy\u001b[0m\u001b[0;34m:\u001b[0m\u001b[0;34m\u001b[0m\u001b[0;34m\u001b[0m\u001b[0m\n\u001b[1;32m    197\u001b[0m             \u001b[0mall_embeddings\u001b[0m \u001b[0;34m=\u001b[0m \u001b[0mnp\u001b[0m\u001b[0;34m.\u001b[0m\u001b[0masarray\u001b[0m\u001b[0;34m(\u001b[0m\u001b[0;34m[\u001b[0m\u001b[0memb\u001b[0m\u001b[0;34m.\u001b[0m\u001b[0mnumpy\u001b[0m\u001b[0;34m(\u001b[0m\u001b[0;34m)\u001b[0m \u001b[0;32mfor\u001b[0m \u001b[0memb\u001b[0m \u001b[0;32min\u001b[0m \u001b[0mall_embeddings\u001b[0m\u001b[0;34m]\u001b[0m\u001b[0;34m)\u001b[0m\u001b[0;34m\u001b[0m\u001b[0;34m\u001b[0m\u001b[0m\n",
      "\u001b[0;31mRuntimeError\u001b[0m: stack expects a non-empty TensorList"
     ]
    }
   ],
   "source": [
    "encoded = sent_encoder.encode(sents, convert_to_tensor=True, show_progress_bar=True)"
   ]
  },
  {
   "cell_type": "code",
   "execution_count": 22,
   "metadata": {},
   "outputs": [
    {
     "ename": "NameError",
     "evalue": "name 'encoded' is not defined",
     "output_type": "error",
     "traceback": [
      "\u001b[0;31m---------------------------------------------------------------------------\u001b[0m",
      "\u001b[0;31mNameError\u001b[0m                                 Traceback (most recent call last)",
      "\u001b[0;32m/var/folders/ms/0t06g66d4cncxmtwvsxtqjh40000gn/T/ipykernel_16501/1569553668.py\u001b[0m in \u001b[0;36m<module>\u001b[0;34m\u001b[0m\n\u001b[0;32m----> 1\u001b[0;31m \u001b[0mencoded\u001b[0m \u001b[0;34m=\u001b[0m \u001b[0mencoded\u001b[0m\u001b[0;34m.\u001b[0m\u001b[0mnumpy\u001b[0m\u001b[0;34m(\u001b[0m\u001b[0;34m)\u001b[0m\u001b[0;34m\u001b[0m\u001b[0;34m\u001b[0m\u001b[0m\n\u001b[0m",
      "\u001b[0;31mNameError\u001b[0m: name 'encoded' is not defined"
     ]
    }
   ],
   "source": [
    "# still need words.txt here\n",
    "encoded = encoded.numpy()"
   ]
  },
  {
   "cell_type": "code",
   "execution_count": 394,
   "metadata": {},
   "outputs": [],
   "source": [
    "# true_df['text'].swifter.apply(lambda x: 'myth' in x.lower()).sum()"
   ]
  },
  {
   "cell_type": "code",
   "execution_count": 23,
   "metadata": {},
   "outputs": [
    {
     "data": {
      "application/vnd.jupyter.widget-view+json": {
       "model_id": "469115eb4e15423aba46e3297b8477c0",
       "version_major": 2,
       "version_minor": 0
      },
      "text/plain": [
       "Pandas Apply:   0%|          | 0/97539 [00:00<?, ?it/s]"
      ]
     },
     "metadata": {},
     "output_type": "display_data"
    },
    {
     "name": "stdout",
     "output_type": "stream",
     "text": [
      "7647\n"
     ]
    },
    {
     "data": {
      "application/vnd.jupyter.widget-view+json": {
       "model_id": "6fb46c9e4f94457693b0b249acae2c09",
       "version_major": 2,
       "version_minor": 0
      },
      "text/plain": [
       "Pandas Apply:   0%|          | 0/21135 [00:00<?, ?it/s]"
      ]
     },
     "metadata": {},
     "output_type": "display_data"
    },
    {
     "name": "stdout",
     "output_type": "stream",
     "text": [
      "2735\n"
     ]
    }
   ],
   "source": [
    "# this works ok tho\n",
    "KW = 'vaccine'\n",
    "print(good_df['cleanText'].swifter.apply(lambda x: KW in x.lower()).sum())\n",
    "print(bad_df['cleanText'].swifter.apply(lambda x: KW in x.lower()).sum())"
   ]
  },
  {
   "cell_type": "code",
   "execution_count": 323,
   "metadata": {},
   "outputs": [],
   "source": [
    "# vax_good_df = good_df.sample(n=20000).dropna()"
   ]
  },
  {
   "cell_type": "code",
   "execution_count": 324,
   "metadata": {},
   "outputs": [],
   "source": [
    "# vax_bad_df = bad_df.sample(n=20000).dropna()"
   ]
  },
  {
   "cell_type": "code",
   "execution_count": 24,
   "metadata": {},
   "outputs": [
    {
     "data": {
      "application/vnd.jupyter.widget-view+json": {
       "model_id": "598aadab660941f4aa448cc5411ce16a",
       "version_major": 2,
       "version_minor": 0
      },
      "text/plain": [
       "Pandas Apply:   0%|          | 0/97539 [00:00<?, ?it/s]"
      ]
     },
     "metadata": {},
     "output_type": "display_data"
    },
    {
     "data": {
      "application/vnd.jupyter.widget-view+json": {
       "model_id": "f254b05cd80f4cee97df82537f058e6b",
       "version_major": 2,
       "version_minor": 0
      },
      "text/plain": [
       "Pandas Apply:   0%|          | 0/21135 [00:00<?, ?it/s]"
      ]
     },
     "metadata": {},
     "output_type": "display_data"
    }
   ],
   "source": [
    "# works ok as well\n",
    "vax_good_df = good_df[good_df['cleanText'].swifter.apply(lambda x: KW in x.lower())]\n",
    "vax_bad_df = bad_df[bad_df['cleanText'].swifter.apply(lambda x: KW in x.lower())]"
   ]
  },
  {
   "cell_type": "code",
   "execution_count": 25,
   "metadata": {},
   "outputs": [
    {
     "data": {
      "application/vnd.jupyter.widget-view+json": {
       "model_id": "3c9014050d5e4ecf891a18a36e28ec41",
       "version_major": 2,
       "version_minor": 0
      },
      "text/plain": [
       "Pandas Apply:   0%|          | 0/7647 [00:00<?, ?it/s]"
      ]
     },
     "metadata": {},
     "output_type": "display_data"
    },
    {
     "name": "stderr",
     "output_type": "stream",
     "text": [
      "/var/folders/ms/0t06g66d4cncxmtwvsxtqjh40000gn/T/ipykernel_16501/3475759766.py:1: SettingWithCopyWarning: \n",
      "A value is trying to be set on a copy of a slice from a DataFrame.\n",
      "Try using .loc[row_indexer,col_indexer] = value instead\n",
      "\n",
      "See the caveats in the documentation: https://pandas.pydata.org/pandas-docs/stable/user_guide/indexing.html#returning-a-view-versus-a-copy\n",
      "  vax_good_df['mean_embed'] = vax_good_df['sent_embeddings'].swifter.apply(lambda x: x.mean(axis=0))\n"
     ]
    },
    {
     "data": {
      "application/vnd.jupyter.widget-view+json": {
       "model_id": "921f2c3061f149a5bcd6cb1d5a057abe",
       "version_major": 2,
       "version_minor": 0
      },
      "text/plain": [
       "Pandas Apply:   0%|          | 0/2735 [00:00<?, ?it/s]"
      ]
     },
     "metadata": {},
     "output_type": "display_data"
    },
    {
     "name": "stderr",
     "output_type": "stream",
     "text": [
      "/var/folders/ms/0t06g66d4cncxmtwvsxtqjh40000gn/T/ipykernel_16501/3475759766.py:2: SettingWithCopyWarning: \n",
      "A value is trying to be set on a copy of a slice from a DataFrame.\n",
      "Try using .loc[row_indexer,col_indexer] = value instead\n",
      "\n",
      "See the caveats in the documentation: https://pandas.pydata.org/pandas-docs/stable/user_guide/indexing.html#returning-a-view-versus-a-copy\n",
      "  vax_bad_df['mean_embed'] = vax_bad_df['sent_embeddings'].swifter.apply(lambda x: x.mean(axis=0))\n"
     ]
    }
   ],
   "source": [
    "vax_good_df['mean_embed'] = vax_good_df['sent_embeddings'].swifter.apply(lambda x: x.mean(axis=0))\n",
    "vax_bad_df['mean_embed'] = vax_bad_df['sent_embeddings'].swifter.apply(lambda x: x.mean(axis=0))\n",
    "# vax_good_df['mean_embed'] = vax_good_df['ft_embeddings'].swifter.apply(lambda x: np.array([y for y in x if np.isfinite(y).all()]).mean(axis=0))\n",
    "# vax_bad_df['mean_embed'] = vax_bad_df['ft_embeddings'].swifter.apply(lambda x: np.array([y for y in x if np.isfinite(y).all()]).mean(axis=0))"
   ]
  },
  {
   "cell_type": "code",
   "execution_count": 26,
   "metadata": {},
   "outputs": [],
   "source": [
    "vax_good_mat = np.vstack(vax_good_df.mean_embed)\n",
    "vax_bad_mat = np.vstack(vax_bad_df.mean_embed)"
   ]
  },
  {
   "cell_type": "code",
   "execution_count": 27,
   "metadata": {},
   "outputs": [],
   "source": [
    "vax_mm = MarkedMatrix([('good', vax_good_mat), ('bad', vax_bad_mat)])"
   ]
  },
  {
   "cell_type": "code",
   "execution_count": 28,
   "metadata": {},
   "outputs": [
    {
     "data": {
      "text/plain": [
       "(array([], dtype=int64), array([], dtype=int64))"
      ]
     },
     "execution_count": 28,
     "metadata": {},
     "output_type": "execute_result"
    }
   ],
   "source": [
    "np.where(~np.isfinite(vax_mm.mat))"
   ]
  },
  {
   "cell_type": "code",
   "execution_count": 30,
   "metadata": {},
   "outputs": [],
   "source": [
    "# this was originally after the previous method\n",
    "# but should really be before, since we are initializing model\n",
    "model = LogisticRegression(max_iter=400)"
   ]
  },
  {
   "cell_type": "code",
   "execution_count": 31,
   "metadata": {},
   "outputs": [
    {
     "name": "stdout",
     "output_type": "stream",
     "text": [
      "Training model...\n",
      "Evaluating model...\n"
     ]
    },
    {
     "name": "stderr",
     "output_type": "stream",
     "text": [
      "/Users/toasterdoodle/opt/anaconda3/lib/python3.9/site-packages/sklearn/linear_model/_logistic.py:763: ConvergenceWarning: lbfgs failed to converge (status=1):\n",
      "STOP: TOTAL NO. of ITERATIONS REACHED LIMIT.\n",
      "\n",
      "Increase the number of iterations (max_iter) or scale the data as shown in:\n",
      "    https://scikit-learn.org/stable/modules/preprocessing.html\n",
      "Please also refer to the documentation for alternative solver options:\n",
      "    https://scikit-learn.org/stable/modules/linear_model.html#logistic-regression\n",
      "  n_iter_i = _check_optimize_result(\n"
     ]
    },
    {
     "data": {
      "text/plain": [
       "((0.8416795069337443, 0.8986436498150431), {'bad': 0, 'good': 1})"
      ]
     },
     "execution_count": 31,
     "metadata": {},
     "output_type": "execute_result"
    }
   ],
   "source": [
    "vax_mm.single_split_classify(model)"
   ]
  },
  {
   "cell_type": "code",
   "execution_count": 32,
   "metadata": {},
   "outputs": [],
   "source": [
    "cord_df = cord_df.dropna()"
   ]
  },
  {
   "cell_type": "code",
   "execution_count": 33,
   "metadata": {},
   "outputs": [
    {
     "data": {
      "application/vnd.jupyter.widget-view+json": {
       "model_id": "479cb1a0e7044a2bb9799bda24c8e941",
       "version_major": 2,
       "version_minor": 0
      },
      "text/plain": [
       "Pandas Apply:   0%|          | 0/10149 [00:00<?, ?it/s]"
      ]
     },
     "metadata": {},
     "output_type": "display_data"
    },
    {
     "data": {
      "application/vnd.jupyter.widget-view+json": {
       "model_id": "ac39a19540df4da4ad8615c1ba9b4abc",
       "version_major": 2,
       "version_minor": 0
      },
      "text/plain": [
       "Pandas Apply:   0%|          | 0/10149 [00:00<?, ?it/s]"
      ]
     },
     "metadata": {},
     "output_type": "display_data"
    }
   ],
   "source": [
    "has_vax = cord_df[cord_df.title.swifter.apply(lambda x: KW in x.lower()) | cord_df.abstract.swifter.apply(lambda x: KW in x.lower())]\n",
    "# has_vax = cord_df.sample(n=5000)"
   ]
  },
  {
   "cell_type": "code",
   "execution_count": 34,
   "metadata": {},
   "outputs": [
    {
     "data": {
      "application/vnd.jupyter.widget-view+json": {
       "model_id": "7db1d4dbe88040f7ae2634bad52e8d05",
       "version_major": 2,
       "version_minor": 0
      },
      "text/plain": [
       "Pandas Apply:   0%|          | 0/1315 [00:00<?, ?it/s]"
      ]
     },
     "metadata": {},
     "output_type": "display_data"
    },
    {
     "name": "stderr",
     "output_type": "stream",
     "text": [
      "/var/folders/ms/0t06g66d4cncxmtwvsxtqjh40000gn/T/ipykernel_16501/1907037509.py:1: SettingWithCopyWarning: \n",
      "A value is trying to be set on a copy of a slice from a DataFrame.\n",
      "Try using .loc[row_indexer,col_indexer] = value instead\n",
      "\n",
      "See the caveats in the documentation: https://pandas.pydata.org/pandas-docs/stable/user_guide/indexing.html#returning-a-view-versus-a-copy\n",
      "  has_vax['mean_embed'] = has_vax['sent_embeddings'].swifter.apply(lambda x: x.mean(axis=0))\n"
     ]
    }
   ],
   "source": [
    "has_vax['mean_embed'] = has_vax['sent_embeddings'].swifter.apply(lambda x: x.mean(axis=0))\n",
    "# has_vax['mean_embed'] = has_vax['ft_embeddings'].swifter.apply(lambda x: np.array(x).mean(axis=0))"
   ]
  },
  {
   "cell_type": "code",
   "execution_count": 35,
   "metadata": {},
   "outputs": [],
   "source": [
    "vax_ref = np.vstack(has_vax['mean_embed'])"
   ]
  },
  {
   "cell_type": "code",
   "execution_count": 36,
   "metadata": {},
   "outputs": [
    {
     "data": {
      "text/plain": [
       "(1315, 768)"
      ]
     },
     "execution_count": 36,
     "metadata": {},
     "output_type": "execute_result"
    }
   ],
   "source": [
    "vax_ref.shape"
   ]
  },
  {
   "cell_type": "code",
   "execution_count": 37,
   "metadata": {},
   "outputs": [
    {
     "data": {
      "text/plain": [
       "(7647, 768)"
      ]
     },
     "execution_count": 37,
     "metadata": {},
     "output_type": "execute_result"
    }
   ],
   "source": [
    "vax_good_mat.shape"
   ]
  },
  {
   "cell_type": "code",
   "execution_count": 38,
   "metadata": {},
   "outputs": [],
   "source": [
    "# vgood2ref = cdist(vax_good_mat, vax_ref, 'cosine')"
   ]
  },
  {
   "cell_type": "code",
   "execution_count": 39,
   "metadata": {},
   "outputs": [],
   "source": [
    "# vgood2ref = cdist(vax_good_mat, encoded, 'cosine')\n",
    "# print('done w/ good')\n",
    "# vbad2ref = cdist(vax_bad_mat, encoded, 'cosine')"
   ]
  },
  {
   "cell_type": "code",
   "execution_count": 40,
   "metadata": {
    "scrolled": true
   },
   "outputs": [
    {
     "name": "stdout",
     "output_type": "stream",
     "text": [
      "done w/ good\n"
     ]
    }
   ],
   "source": [
    "# can find replacements for 'cosine' here\n",
    "# https://docs.scipy.org/doc/scipy/reference/generated/scipy.spatial.distance.cdist.html\n",
    "vgood2ref = cdist(vax_good_mat, vax_ref, 'cosine')\n",
    "print('done w/ good')\n",
    "vbad2ref = cdist(vax_bad_mat, vax_ref, 'cosine')"
   ]
  },
  {
   "cell_type": "code",
   "execution_count": 41,
   "metadata": {},
   "outputs": [],
   "source": [
    "vax_ref[~np.isfinite(vax_ref)] = 0"
   ]
  },
  {
   "cell_type": "code",
   "execution_count": 42,
   "metadata": {},
   "outputs": [],
   "source": [
    "vax_mm = MarkedMatrix([('good', vgood2ref), ('bad', vbad2ref)])"
   ]
  },
  {
   "cell_type": "code",
   "execution_count": 43,
   "metadata": {},
   "outputs": [],
   "source": [
    "vax_raw_mm = MarkedMatrix([('good', vax_good_mat), ('bad', vax_bad_mat)])"
   ]
  },
  {
   "cell_type": "code",
   "execution_count": 44,
   "metadata": {},
   "outputs": [],
   "source": [
    "# loading more pickles here\n",
    "# actually don't need to replace this old pickle here\n",
    "# this is the pickle for labelled claims with which to test how well our algorithm is performing\n",
    "# I am assuming\n",
    "claims_df = load_pickle('./pickles/newest_claims_df_labelled.pkl')\n",
    "claims_df = claims_df.dropna()\n",
    "\n",
    "# sorting out the claims\n",
    "true_claims_df = claims_df[claims_df['label'] == 'true']\n",
    "false_claims_df = claims_df[claims_df['label'] == 'false']\n",
    "misleading_claims_df = claims_df[claims_df['label'] == 'misleading']\n",
    "\n",
    "true_claims_mat = np.vstack(list(true_claims_df['bert_embedding']))\n",
    "false_claims_mat = np.vstack(list(false_claims_df['bert_embedding']))"
   ]
  },
  {
   "cell_type": "code",
   "execution_count": 46,
   "metadata": {},
   "outputs": [],
   "source": [
    "# ok so here we are finding the difference between the the matrix of true claims and the reference\n",
    "# using cosine\n",
    "true_claims2ref = cdist(true_claims_mat, vax_ref, 'cosine')\n",
    "# and here we are finding the difference between the matrix of false claims and the reference\n",
    "# using cosine\n",
    "false_claims2ref = cdist(false_claims_mat, vax_ref, 'cosine')"
   ]
  },
  {
   "cell_type": "code",
   "execution_count": 47,
   "metadata": {},
   "outputs": [],
   "source": [
    "# ok what the fuck?\n",
    "# I thought we just calculated this\n",
    "# I'm confused as to why this cell exists\n",
    "# also why is it negative now\n",
    "true_claims2ref = -cdist(true_claims_mat, vax_ref)\n",
    "false_claims2ref = -cdist(false_claims_mat, vax_ref)"
   ]
  },
  {
   "cell_type": "code",
   "execution_count": 48,
   "metadata": {},
   "outputs": [
    {
     "data": {
      "text/plain": [
       "(51, 1315)"
      ]
     },
     "execution_count": 48,
     "metadata": {},
     "output_type": "execute_result"
    }
   ],
   "source": [
    "# previously: (51, 4686)\n",
    "# mine: (51, 1315)\n",
    "# I think this is fine since the 51 is still the same\n",
    "# I think 1315 vs 4686 simply means I probably got a smaller pickle or something\n",
    "true_claims2ref.shape"
   ]
  },
  {
   "cell_type": "code",
   "execution_count": 50,
   "metadata": {},
   "outputs": [],
   "source": [
    "# ohhh, are we calculating how many we are classifying correctly now?\n",
    "# like how many in the true_claims_mat are actually true\n",
    "# and vice versa for false\n",
    "# also I looked up what this marked matrix thing is out of curiosity\n",
    "# interestingly, it's a python library that Will himself wrote\n",
    "# I guess it's just a matrix with a label?\n",
    "claims_mm = MarkedMatrix([('true', true_claims_mat), ('false', false_claims_mat)])\n",
    "claims_mm2covid = MarkedMatrix([('true', true_claims2ref), ('false', false_claims2ref)])"
   ]
  },
  {
   "cell_type": "code",
   "execution_count": 54,
   "metadata": {},
   "outputs": [],
   "source": [
    "from sklearn.ensemble import RandomForestClassifier\n",
    "from sklearn.tree import DecisionTreeClassifier\n",
    "# tmodel = DecisionTreeClassifier()\n",
    "# oh bruh what the, why is tmodel defined over here?\n",
    "tmodel = RandomForestClassifier(n_estimators=500, n_jobs=24)"
   ]
  },
  {
   "cell_type": "code",
   "execution_count": 55,
   "metadata": {},
   "outputs": [
    {
     "name": "stdout",
     "output_type": "stream",
     "text": [
      "Training model...\n",
      "Evaluating model...\n"
     ]
    },
    {
     "data": {
      "text/plain": [
       "((0.90625, 0.9508196721311475), {'true': 0, 'false': 1})"
      ]
     },
     "execution_count": 55,
     "metadata": {},
     "output_type": "execute_result"
    }
   ],
   "source": [
    "# ayo what the where is this tmodel defined??\n",
    "# ok I found it, I'm going to move it to before this\n",
    "claims_mm.single_split_classify(tmodel, return_labels=True)"
   ]
  },
  {
   "cell_type": "code",
   "execution_count": 56,
   "metadata": {},
   "outputs": [],
   "source": [
    "tmodel_claims = RandomForestClassifier(n_estimators=500, n_jobs=24)"
   ]
  },
  {
   "cell_type": "code",
   "execution_count": 57,
   "metadata": {},
   "outputs": [
    {
     "name": "stdout",
     "output_type": "stream",
     "text": [
      "Training model...\n",
      "Evaluating model...\n"
     ]
    },
    {
     "data": {
      "text/plain": [
       "((0.921875, 0.959349593495935), {'true': 0, 'false': 1})"
      ]
     },
     "execution_count": 57,
     "metadata": {},
     "output_type": "execute_result"
    }
   ],
   "source": [
    "claims_mm2covid.single_split_classify(tmodel_claims, return_labels=True)"
   ]
  },
  {
   "cell_type": "code",
   "execution_count": 60,
   "metadata": {},
   "outputs": [],
   "source": [
    "from treeinterpreter import treeinterpreter as ti"
   ]
  },
  {
   "cell_type": "code",
   "execution_count": 65,
   "metadata": {},
   "outputs": [],
   "source": [
    "# yo where is ti?\n",
    "# we need ti.predict here\n",
    "# it is nowhere, what is this ti and how do I import this\n",
    "# ok so after some searching, it seems ti is treeinterpreter\n",
    "# I'm going to import this here but in the cell before\n",
    "def tree_claim_explain_bad(idx):\n",
    "    # guess this shows why this document should be considered \"false\"\n",
    "    pred, bias, contrib = ti.predict(tmodel_claims, false_claims2ref[idx, :].reshape((1, -1)))\n",
    "    print('CLEAN TEXT: ', false_claims_df.iloc[idx].text)\n",
    "    cmat = contrib.reshape((-1, 2))\n",
    "    print('Prediction: ', pred)\n",
    "    print('Bias: ', bias)\n",
    "    import_good = np.argsort(cmat[:, 0])[::-1]\n",
    "    import_bad = np.argsort(cmat[:, 1])[::-1]\n",
    "    print('===== Towards Bad: =====')\n",
    "    for idx in import_bad[:5]:\n",
    "        print('-'*45)\n",
    "        print(f'CONTRIB: {cmat[idx]}')\n",
    "        print(f'ABSTRACT: {has_vax.iloc[idx].abstract}')\n",
    "        print(f'TITLE: {has_vax.iloc[idx].title}')\n",
    "    print('===== Towards Good: =====')\n",
    "    for idx in import_good[:5]:\n",
    "        print('-'*45)\n",
    "        print(f'CONTRIB: {cmat[idx]}')\n",
    "        print(f'ABSTRACT: {has_vax.iloc[idx].abstract}')\n",
    "        print(f'TITLE: {has_vax.iloc[idx].title}')\n",
    "\n",
    "def tree_claim_explain_good(idx):\n",
    "    # tries to explain why this document shold be considered \"true\"\n",
    "    pred, bias, contrib = ti.predict(tmodel_claims, true_claims2ref[idx, :].reshape((1, -1)))\n",
    "    print('CLEAN TEXT: ', true_claims_df.iloc[idx].text)\n",
    "    cmat = contrib.reshape((-1, 2))\n",
    "    print('Prediction: ', pred)\n",
    "    print('Bias: ', bias)\n",
    "    import_good = np.argsort(cmat[:, 0])[::-1]\n",
    "    import_bad = np.argsort(cmat[:, 1])[::-1]\n",
    "    print('===== Towards Good: =====')\n",
    "    for idx in import_good[:5]:\n",
    "        print('-'*45)\n",
    "        print(f'CONTRIB: {cmat[idx]}')\n",
    "#         print(f'ABSTRACT: {has_vax.iloc[idx].abstract}')\n",
    "        print(f'TITLE: {has_vax.iloc[idx].title}')\n",
    "    print('===== Towards Bad: =====')\n",
    "    for idx in import_bad[:5]:\n",
    "        print('-'*45)\n",
    "        print(f'CONTRIB: {cmat[idx]}')\n",
    "#         print(f'ABSTRACT: {has_vax.iloc[idx].abstract}')\n",
    "        print(f'TITLE: {has_vax.iloc[idx].title}')"
   ]
  },
  {
   "cell_type": "code",
   "execution_count": 66,
   "metadata": {},
   "outputs": [
    {
     "name": "stdout",
     "output_type": "stream",
     "text": [
      "CLEAN TEXT:  Schools have resumed in New Brunswick despite the COVID-19 pandemic\n",
      "Prediction:  [[0.722 0.278]]\n",
      "Bias:  [[0.10730026 0.89269974]]\n",
      "===== Towards Good: =====\n",
      "---------------------------------------------\n",
      "CONTRIB: [ 0.0453166 -0.0453166]\n",
      "TITLE: Towards antivirals against chikungunya virus\n",
      "---------------------------------------------\n",
      "CONTRIB: [ 0.03638032 -0.03638032]\n",
      "TITLE: The concept of quarantine in history: from plague to SARS\n",
      "---------------------------------------------\n",
      "CONTRIB: [ 0.02186464 -0.02186464]\n",
      "TITLE: Pandemic H1N1 in Canada and the use of evidence in developing public health policies – A policy analysis\n",
      "---------------------------------------------\n",
      "CONTRIB: [ 0.02170376 -0.02170376]\n",
      "TITLE: Dairy calf management, morbidity and mortality in Ontario Holstein herds. III. Association of management with morbidity\n",
      "---------------------------------------------\n",
      "CONTRIB: [ 0.01935542 -0.01935542]\n",
      "TITLE: How Should the Rehabilitation Community Prepare for 2019-nCoV?\n",
      "===== Towards Bad: =====\n",
      "---------------------------------------------\n",
      "CONTRIB: [-0.00192269  0.00192269]\n",
      "TITLE: Enhance immune response to DNA vaccine based on a novel multicomponent supramolecular assembly\n",
      "---------------------------------------------\n",
      "CONTRIB: [-0.00185714  0.00185714]\n",
      "TITLE: Molecular characterization of equine rotaviruses isolated in Europe in 2013: Implications for vaccination\n",
      "---------------------------------------------\n",
      "CONTRIB: [-0.0016  0.0016]\n",
      "TITLE: Expression of the native cholera toxin B subunit gene and assembly as functional oligomers in transgenic tobacco chloroplasts 1 1 Edited by N.-H. Chua\n",
      "---------------------------------------------\n",
      "CONTRIB: [-0.00158029  0.00158029]\n",
      "TITLE: 2016 International meeting of the Global Virus Network\n",
      "---------------------------------------------\n",
      "CONTRIB: [-0.00155481  0.00155481]\n",
      "TITLE: Molecular Characterization of Three New Avian Infectious Bronchitis Virus (IBV) Strains Isolated in Quebec\n"
     ]
    }
   ],
   "source": [
    "# works now, nice\n",
    "tree_claim_explain_good(10)"
   ]
  },
  {
   "cell_type": "code",
   "execution_count": 64,
   "metadata": {
    "scrolled": true
   },
   "outputs": [
    {
     "name": "stdout",
     "output_type": "stream",
     "text": [
      "CLEAN TEXT:  COVID-19 testing patent was submitted in 2015 and COVID19 is a scam\n",
      "Prediction:  [[0.046 0.954]]\n",
      "Bias:  [[0.10730026 0.89269974]]\n",
      "===== Towards Bad: =====\n",
      "---------------------------------------------\n",
      "CONTRIB: [-0.00172305  0.00172305]\n",
      "ABSTRACT: Abstract Background Hajj is the world’s largest annual mass gathering that attracts two to three million Muslims from around the globe to a religious assemblage in Makkah, Saudi Arabia. The risk of acquisition and transmission of influenza among Hajj pilgrims is high. Therefore, influenza vaccination is recommended, and was monitored frequently among pilgrims from different countries. However, the vaccination uptake among Saudi pilgrims has not been assessed in recent years. Objective This analysis aims to evaluate influenza vaccine uptake among Saudi Hajj pilgrims, and identify the key barriers to vaccination. Method Data on influenza vaccination were obtained from Saudi pilgrims who took part in a large trial during the Hajj of 2013, 2014 and 2015. Pilgrims were met and recruited in Mina, Makkah during the peak period of Hajj and were asked to complete a baseline questionnaire that recorded their influenza vaccination history, including reason(s) for non-receipt of vaccine. Results A total of 6974 Saudi pilgrims aged between 18 and 95 (median 34) years were recruited; male to female ratio was 1:1.2. Of the total, 90.8% declared their influenza vaccination history, 51.3% of them reported receiving influenza vaccine before travel to Hajj. The vaccination rates for the years 2013, 2014 and 2015 were 21.4%, 48.2% and 58.1%, respectively (P < 0.001). Of 1,269 pilgrims who were at higher risk of severe disease, 54.5% received the vaccine. Lack of awareness (47.5%), reliance on natural immunity (15.8%) and being busy (15.5%) were the main reasons for non-receipt. Conclusion These data from a convenience sample indicate that influenza vaccine uptake among Saudi Hajj pilgrims is increasing over years but still needs further improvement. Lack of awareness and misperceptions are the main barriers. Education of Saudi pilgrims and health professionals is required to raise awareness about influenza vaccination. Further studies are needed to understand pilgrims’ misperceptions.\n",
      "TITLE: Influenza vaccination among Saudi Hajj pilgrims: Revealing the uptake and vaccination barriers\n",
      "---------------------------------------------\n",
      "CONTRIB: [-0.00168102  0.00168102]\n",
      "ABSTRACT: Abstract The mammarenavirus Lassa (LASV) is highly prevalent in West Africa where it infects several hundred thousand individuals annually resulting in a high number of Lassa fever (LF) cases, a febrile disease associated with high morbidity and significant mortality. Mounting evidence indicates that the worldwide-distributed prototypic mammarenavirus lymphocytic choriomeningitis virus (LCMV) is a neglected human pathogen of clinical significance. There are not Food and Drug Administration (FDA) licensed vaccines and current anti-mammarenavirus therapy is limited to an off-label use of ribavirin that is only partially effective and can cause significant side effects. Therefore, there is an unmet need for novel antiviral drugs to combat LASV. This task would be facilitated by the implementation of high throughput screens (HTS) to identify inhibitors of the activity of the virus ribonucleoprotein (vRNP) responsible for directing virus RNA genome replication and gene transcription. The use of live LASV for this purpose is jeopardized by the requirement of biosafety level 4 (BSL4) containment. We have developed a virus-free cell platform, where expression levels of reporter genes serve as accurate surrogates of vRNP activity, to develop cell-based assays compatible with HTS to identify inhibitors of LASV and LCMV mammarenavirus vRNP activities.\n",
      "TITLE: A cell-based, infectious-free, platform to identify inhibitors of lassa virus ribonucleoprotein (vRNP) activity\n",
      "---------------------------------------------\n",
      "CONTRIB: [-0.00155406  0.00155406]\n",
      "ABSTRACT: Abstract Associations between heifer calf management and mortality were studied on 104 randomly selected Holstein dairy farms in southwestern Ontario between October 1980 and July 1983. At the farm level, data were stratified by season, with two six-month seasons (winter and summer) per year. The odds of farms with particular management strategies having above-median morbidity were calculated. At the individual calf level, the odds of a calf being treated, controlling for farm of origin and month of birth, were calculated for different management practices. Larger farms had significantly greater odds of experiencing mortality than smaller farms in both winter and summer. Farms which had policies of attending calvings and ensuring that calves received their first colostrum had significantly lower odds of experiencing winter mortality than farms which did not have these policies. Farms which housed calves in hutches had significantly lower odds, and those which housed calves in group pens had significantly higher odds, of experiencing summer mortality, than farms which used individual indoor calf-pens. A policy of teat removal between four weeks of age and weaning was associated with increased odds of summer mortality. At the individual calf level, calving ease, sire, navel treatment, assistance at first colostrum feeding, administration of vitamins A, D and E and anti-scour vaccines to the pregnant dam, and place of calving, were all associated with significantly altered odds of dying. However, several interactions entered the statistical models, and the effects of those management practices were not all straightforward.\n",
      "TITLE: Dairy calf management, morbidity and mortality in Ontario Holstein herds. IV. Association of management with mortality\n",
      "---------------------------------------------\n",
      "CONTRIB: [-0.0014108  0.0014108]\n",
      "ABSTRACT: Abstract Lectins are proteins with a high degree of stereospecificity to recognize various sugar structures and form reversible linkages upon interaction with glyco-conjugate complexes. These are abundantly found in plants, animals and many other species and are known to agglutinate various blood groups of erythrocytes. Further, due to the unique carbohydrate recognition property, lectins have been extensively used in many biological functions that make use of protein-carbohydrate recognition like detection, isolation and characterization of glycoconjugates, histochemistry of cells and tissues, tumor cell recognition and many more. In this review, we have summarized the immunomodulatory effects of plant lectins and their effects against diseases, including antimicrobial action. We found that many plant lectins mediate its microbicidal activity by triggering host immune responses that result in the release of several cytokines followed by activation of effector mechanism. Moreover, certain lectins also enhance the phagocytic activity of macrophages during microbial infections. Lectins along with heat killed microbes can act as vaccine to provide long term protection from deadly microbes. Hence, lectin based therapy can be used as a better substitute to fight microbial diseases efficiently in future.\n",
      "TITLE: Structure-function and application of plant lectins in disease biology and immunity\n",
      "---------------------------------------------\n",
      "CONTRIB: [-0.00124103  0.00124103]\n",
      "ABSTRACT: Abstract A one-step real-time RT-PCR method has been developed for the simultaneous detection of both genotypes of porcine reproductive and respiratory syndrome virus (PRRSV). The assay is based on primer-probe energy transfer, and the most important advantage of this is the relative tolerance towards mutations in the target-probe region. The primers and the probe were designed using an alignment of 235 Type 1 (including all subtypes) and Type 2 PRRSV strains. According to the alignment, multiple degenerations were included in the forward and reverse primers to enable the detection of all PRRSV strains deposited in the GenBank. Specificity was tested using 37 different PRRSV strains and eight other swine pathogen viruses. The detection limit was approximately 10 copies of RNA prepared from the Lelystad virus, a European Subtype 3 virus (Belarus strain Soz-8), and an American vaccine virus (Ingelvac MLV®). One TCID50 was the detection limit in the case of the cell cultured Lelystad virus and an American wild type isolate, respectively. The melting point analysis revealed melting point decrease, but no significant sensitivity and signal loss in the presence of numerous (up to five) target-probe mismatches, indicating the capability of tolerating even more mutations. The method was suitable for the detection and quantitation of phylogenetically divergent strains and can serve as a robust, high throughput tool for molecular diagnosis of the PRRSV.\n",
      "TITLE: Development of a one-step real-time quantitative PCR assay based on primer-probe energy transfer for the detection of porcine reproductive and respiratory syndrome virus\n",
      "===== Towards Good: =====\n",
      "---------------------------------------------\n",
      "CONTRIB: [ 0.00365416 -0.00365416]\n",
      "ABSTRACT: Abstract Mouse models are important tools both for studying the pathogenesis of infectious diseases and for the preclinical evaluation of vaccines and therapies against a wide variety of human pathogens. The use of genetically defined inbred mouse strains, humanized mice, and gene knockout mice has allowed the research community to explore how pathogens cause disease, define the role of specific host genes in either controlling or promoting disease, and identify potential targets for the prevention or treatment of a wide range of infectious agents. This review discusses several of the most commonly used mouse model systems, as well as new resources such as the Collaborative Cross as models for studying infectious diseases.\n",
      "TITLE: Mouse Models as Resources for Studying Infectious Diseases\n",
      "---------------------------------------------\n",
      "CONTRIB: [ 0.00200998 -0.00200998]\n",
      "ABSTRACT: Abstract A recombinant Lactobacillus casei expressing a flagellar antigen from Salmonella enterica serovar Enteritidis was constructed and evaluated as a mucosal vaccine. Intragastric immunization of the recombinant strain conferred protective immunity against Salmonella infection in mice. This immunization did not result in antigen-specific antibody in either feces or sera but induced the release of IFN-γ on restimulation of primed lymphocytes ex vivo. The results suggested that the protective efficacy provided by flagellin-expressing L. casei is mainly attributable to cell-mediated immune responses. In addition, an adjuvant-type effect of the antigen delivery system with L. casei was also observed.\n",
      "TITLE: Intragastric immunization with recombinant Lactobacillus casei expressing flagellar antigen confers antibody-independent protective immunity against Salmonella enterica serovar Enteritidis\n",
      "---------------------------------------------\n",
      "CONTRIB: [ 0.00192797 -0.00192797]\n",
      "ABSTRACT: BACKGROUND: Canine parvovirus (CPV) type 2 emerged in 1978 in the USA and quickly spread among dog populations all over the world with high morbidity. Although CPV is a DNA virus, its genomic substitution rate is similar to some RNA viruses. Therefore, it is important to trace the evolution of CPV to monitor the appearance of mutations that might affect vaccine effectiveness. RESULTS: Our analysis shows that the VP2 genes of CPV isolated from 1979 to 2016 are divided into six groups: GI, GII, GIII, GIV, GV, and GVI. Amino acid mutation analysis revealed several undiscovered important mutation sites: F267Y, Y324I, and T440A. Of note, the evolutionary rate of the CPV VP2 gene from Asia and Europe decreased. Codon usage analysis showed that the VP2 gene of CPV exhibits high bias with an ENC ranging from 34.93 to 36.7. Furthermore, we demonstrate that natural selection plays a major role compared to mutation pressure driving CPV evolution. CONCLUSIONS: There are few studies on the codon usage of CPV. Here, we comprehensively studied the genetic evolution, codon usage pattern, and evolutionary characterization of the VP2 gene of CPV. The novel findings revealing the evolutionary process of CPV will greatly serve future CPV research. ELECTRONIC SUPPLEMENTARY MATERIAL: The online version of this article (doi:10.1186/s12864-017-3935-8) contains supplementary material, which is available to authorized users.\n",
      "TITLE: Evolutionary and genetic analysis of the VP2 gene of canine parvovirus\n",
      "---------------------------------------------\n",
      "CONTRIB: [ 0.00191741 -0.00191741]\n",
      "ABSTRACT: To identify the potential B-cell antigenic epitopes within the N-terminus of SARS-CoV (SARS-associated coronavirus, SARS-CoV) M protein and characterize monoclonal antibody (MAb) against the protein as well as its recognizing region, we expressed and purified a portion of SARS-CoV M protein (amino acid 1–43) in Escherichia coli (E. coli). By using Western blot and enzyme-linked immunosorbent assay (ELISA), we showed that the purified recombinant M protein could be recognized by four SARS-CoV-positive human sera even when those sera were 12,800-fold diluted. Furthermore, we characterized one representative IgG2 MAb, 3H9, which exhibited a strong immunoreaction to both recombinant M protein and native viral protein of SARS-CoV. We found a B-cell antigenic epitope located between amino acid 1–15 and defined the MAb recognizing region within amino acid 16–28 of M. These findings not only suggest that both recombinant M protein and its specific MAbs may be used as the diagnostic reagents for SARS, but also provide a potential target site for the design of an epitope-based vaccine against SARS.\n",
      "TITLE: Identification of a B-cell antigenic epitope at the N-terminus of SARS-CoV M protein and characterization of monoclonal antibody against the protein\n",
      "---------------------------------------------\n",
      "CONTRIB: [ 0.00188661 -0.00188661]\n",
      "ABSTRACT: Abstract Tuberculosis (TB) is one of the top 10 causes of death worldwide. Several in vitro and in vivo experimental models have been used to study TB pathogenesis and induction of immune response during Mycobacterium tuberculosis infection. Precision cut lung tissue slices (PCLTS) is an experimental model, in which all the usual cell types of the organ are found, the tissue architecture and the interactions amongst the different cells are maintained. PCLTS in good physiological conditions, monitored by MTT assay and histology, were infected with either virulent Mycobacterium tuberculosis strain H37Rv or the TB vaccine strain Mycobacterium bovis BCG. Histological analysis showed that bacilli infecting lung tissue slices were observed in the alveolar septa, alveolar light spaces, near to type II pneumocytes, and inside macrophages. Mycobacterial infection of PCLTS induced TNF-α production, which is consistent with previous M. tuberculosis in vitro and in vivo studies. This is the first report of using PCLTS as a system to study M. tuberculosis infection. The PCLTS model provides a useful tool to evaluate the innate immune responses and other aspects during the early stages of mycobacterial infection.\n",
      "TITLE: Modeling tuberculosis pathogenesis through ex vivo lung tissue infection\n"
     ]
    }
   ],
   "source": [
    "tree_claim_explain_bad(11)"
   ]
  },
  {
   "cell_type": "code",
   "execution_count": 67,
   "metadata": {},
   "outputs": [],
   "source": [
    "vax_mm.mat[~np.isfinite(vax_mm.mat)] = 0"
   ]
  },
  {
   "cell_type": "code",
   "execution_count": 68,
   "metadata": {},
   "outputs": [
    {
     "name": "stdout",
     "output_type": "stream",
     "text": [
      "Training model...\n",
      "Evaluating model...\n"
     ]
    },
    {
     "data": {
      "text/plain": [
       "((0.7916024653312789, 0.8715879420840256), {'bad': 0, 'good': 1})"
      ]
     },
     "execution_count": 68,
     "metadata": {},
     "output_type": "execute_result"
    }
   ],
   "source": [
    "vax_mm.single_split_classify(tmodel, return_labels=True)"
   ]
  },
  {
   "cell_type": "code",
   "execution_count": 69,
   "metadata": {},
   "outputs": [
    {
     "name": "stdout",
     "output_type": "stream",
     "text": [
      "Training model...\n",
      "Evaluating model...\n"
     ]
    },
    {
     "data": {
      "text/plain": [
       "((0.8039291217257319, 0.879867831012509), {'bad': 0, 'good': 1})"
      ]
     },
     "execution_count": 69,
     "metadata": {},
     "output_type": "execute_result"
    }
   ],
   "source": [
    "vax_mm.single_split_classify(tmodel, return_labels=True)"
   ]
  },
  {
   "cell_type": "code",
   "execution_count": null,
   "metadata": {},
   "outputs": [],
   "source": [
    "tmodel2 = RandomForestClassifier(n_estimators=500, n_jobs=24)"
   ]
  },
  {
   "cell_type": "code",
   "execution_count": null,
   "metadata": {},
   "outputs": [
    {
     "name": "stdout",
     "output_type": "stream",
     "text": [
      "Training model...\n",
      "Evaluating model...\n"
     ]
    },
    {
     "data": {
      "text/plain": [
       "((0.8081664098613252, 0.8815413891531874), {'bad': 0, 'good': 1})"
      ]
     },
     "execution_count": 71,
     "metadata": {},
     "output_type": "execute_result"
    }
   ],
   "source": [
    "vax_raw_mm.single_split_classify(tmodel2, return_labels=True)"
   ]
  },
  {
   "cell_type": "code",
   "execution_count": 72,
   "metadata": {},
   "outputs": [],
   "source": [
    "# ok so we had tree_claim explain before\n",
    "# and now we need a separate function for tree explain?\n",
    "# they look almost identical though\n",
    "# but obviously I'm not going to question Will's handiwork without knowing anything LOL\n",
    "def tree_explain_good(idx):\n",
    "    pred, bias, contrib = ti.predict(tmodel, vgood2ref[idx, :].reshape((1, -1)))\n",
    "    print('CLEAN TEXT: ', vax_good_df.iloc[idx].cleanText)\n",
    "    cmat = contrib.reshape((-1, 2))\n",
    "    print('Prediction: ', pred)\n",
    "    print('Bias: ', bias)\n",
    "    import_bad = np.argsort(cmat[:, 0])[::-1]\n",
    "    import_good = np.argsort(cmat[:, 1])[::-1]\n",
    "    print('===== Towards Good: =====')\n",
    "    for idx in import_good[:5]:\n",
    "        print('-'*45)\n",
    "        print(f'CONTRIB: {cmat[idx]}')\n",
    "        print(f'ABSTRACT: {has_vax.iloc[idx].abstract}')\n",
    "        print(f'TITLE: {has_vax.iloc[idx].title}')\n",
    "    print('===== Towards Bad: =====')\n",
    "    for idx in import_bad[:5]:\n",
    "        print('-'*45)\n",
    "        print(f'CONTRIB: {cmat[idx]}')\n",
    "        print(f'ABSTRACT: {has_vax.iloc[idx].abstract}')\n",
    "        print(f'TITLE: {has_vax.iloc[idx].title}')\n",
    "\n",
    "def tree_explain_bad(idx):\n",
    "    pred, bias, contrib = ti.predict(tmodel, vbad2ref[idx, :].reshape((1, -1)))\n",
    "    print('CLEAN TEXT: ', vax_bad_df.iloc[idx].cleanText)\n",
    "    cmat = contrib.reshape((-1, 2))\n",
    "    print('Prediction: ', pred)\n",
    "    print('Bias: ', bias)\n",
    "    import_bad = np.argsort(cmat[:, 0])[::-1]\n",
    "    import_good = np.argsort(cmat[:, 1])[::-1]\n",
    "    print('===== Towards Bad: =====')\n",
    "    for idx in import_bad[:5]:\n",
    "        print('-'*45)\n",
    "        print(f'CONTRIB: {cmat[idx]}')\n",
    "        print(f'ABSTRACT: {has_vax.iloc[idx].abstract}')\n",
    "        print(f'TITLE: {has_vax.iloc[idx].title}')\n",
    "    print('===== Towards Good: =====')\n",
    "    for idx in import_good[:5]:\n",
    "        print('-'*45)\n",
    "        print(f'CONTRIB: {cmat[idx]}')\n",
    "        print(f'ABSTRACT: {has_vax.iloc[idx].abstract}')\n",
    "        print(f'TITLE: {has_vax.iloc[idx].title}')"
   ]
  },
  {
   "cell_type": "code",
   "execution_count": 73,
   "metadata": {
    "scrolled": true
   },
   "outputs": [
    {
     "name": "stdout",
     "output_type": "stream",
     "text": [
      "CLEAN TEXT:  California is a bastion of dark blue communist totalitarian madness, and the governor, Gavin Newsom (or as I like to say, Gavin Gruesome) has proclaimed himself dictator. He likes to say things like “we have to enforce, and we will,” and “whether you like it or not,” and he even believes he has the authority to dictate to you what you can do at your backyard bar-b-ques on Independence Day.\n",
      "Last night I grabbed a bite to eat at a local restaurant because due to Newsom’s recent executive order, inside dining is illegal, again, or at least it will be as of tomorrow. Why? Because according to Newsom, we have a spike in cases of COVID-19 in this State, and it’s because too many people are leaving their homes, and because too many people are not wearing masks in public. And this time, he assured us, he won’t be relaxed and let renegade counties like Riverside County get away with not enforcing his edict. “We have to enforce, and we will.”\n",
      "Newsom has repeatedly told us that “science shows that face coverings and masks work.”\n",
      "Except, that is a lie. They don’t.\n",
      "This has nothing to do with a virus, and has everything to do with political control over the public. And, Gavin Newsom is doing these things illegally. The problem is, while there are a dozen and a half lawsuits out there right now, and a recall Gavin Newsom petition, he believes he is bullet-proof. They rejected the last recall petition, and left the organizers with no recourse other than to start all over again. As for the lawsuits, unlike the Oregon District Court which was law-abiding enough to strike down Oregon Governor Kate Brown’s idiotic mandates calling them an overreach of authority, the California federal courts are not so compliant when it comes to the rule of law.\n",
      "Gavin Newsom (as if he’d be willing to read what I have written), you are not a dictator. Your orders have no legal authority, they are not accompanied by legislation. Only the legislature has the power to make law. Even in martial law, and this is definitely martial law by another name, you don’t have full dictatorial powers. You have no authority to order me to wear a mask, especially if I believe it is harmful to my health. You have no authority to quarantine the healthy, only the infected, and possibly those who have had contact with the infected, may be quarantined by government, and Sacramento has no constitutional authority to be involved in that process, it is delegated to the county health official who may make these determinations on a case by case basis. You have no authority to tell businesses what they can or cannot do regarding running their business, and if they can let customers through the door because Article I, Section 10 of the U.S. Constitution forbids States to interfere with the obligation of contracts, including service contracts, employment contracts, and so forth. You have no authority to dictate to me what I do in my yard, much less my bar-b-que during Independence Day. Michael Savage even says you plan to go so far as to use undercover operatives/secret police to ensure compliance. Screw you. My property is none of your damn business. You can’t limit my travel, you can’t limit my shopping or entertainment, you can’t force me to wear a mask if I don’t want to, and you can’t limit my life legally. Everything you are doing is illegal, unconstitutional, and against American Liberty. So, I refuse to wear a mask, I refuse to social distance, and I refuse to comply because, also, in the end, if you run the numbers, COVID-19 is a great big lie. Yes, the virus exists, and some people with compromised immune systems have died from it, but the damage being done in response is killing more people, and killing the economy. The Democrat authoritarian cure is proving to be worse than the disease. I will not comply.\n",
      "As for the vaccine, you guys can also shove that where the sun don’t shine, too. I will not allow you to place in my body a substance I have no full understanding or explanation regarding. Even if you make it mandatory, I refuse to accept it.\n",
      "This is not American Liberty. You, and your fellow leftists, have overstepped, and the advance upon our liberty stops here, stops now, and better stop forever.\n",
      "Prediction:  [[0.856 0.144]]\n",
      "Bias:  [[0.26382353 0.73617647]]\n",
      "===== Towards Bad: =====\n",
      "---------------------------------------------\n",
      "CONTRIB: [ 0.0104214 -0.0104214]\n",
      "ABSTRACT: Abstract Objective We aimed to evaluate the level of knowledge of Middle East respiratory syndrome coronavirus (MERS-CoV) among Hajj pilgrims before and after an education health programme during international vaccine consultations in France. Study design A cross-sectional study was performed in the consultation for travel medicine and international vaccination in Reims University Hospital between July 2014 and October 2015. Methods Consecutive adults (>18 years old) who attended for pre-Hajj meningococcal vaccination were eligible to complete an anonymous questionnaire with closed answers to evaluate their level of knowledge about MERS-CoV. To evaluate the effectiveness of the information given during the consultation, the same questionnaire was completed by the Hajj pilgrim before and after the consultation, where the information about MERS-CoV was provided. Results Among 82 Hajj pilgrim adults enrolled in the study, less than 25% were aware of the routes of transmission, symptoms and preventive behaviours to adopt abroad or in case of fever. Pilgrims had a higher rate of correct responses on each question at the time they completed the second questionnaire, as compared with the first, with 11 of 13 questions answered significantly better after delivery of educational information about MERS-CoV. However, although the rate of correct answers to the questions about routes of transmission, symptoms, preventive behaviours to adopt in case of fever and time delay between return and potential MERS-CoV occurrence increased significantly after receiving the information, the rates remained below 50%. Conclusion Information given during travel consultations significantly increases the general level of knowledge, but not enough to achieve epidemic control.\n",
      "TITLE: Effectiveness of an education health programme about Middle East respiratory syndrome coronavirus tested during travel consultations\n",
      "---------------------------------------------\n",
      "CONTRIB: [ 0.01028852 -0.01028852]\n",
      "ABSTRACT: Abstract This article summarizes progress in research on Middle East Respiratory Syndrome (MERS) since a FAO-OIE-WHO Global Technical Meeting held at WHO Headquarters in Geneva on 25–27 September 2017. The meeting reviewed the latest scientific findings and identified and prioritized the global activities necessary to prevent, manage and control the disease. Critical needs for research and technical guidance identified during the meeting have been used to update the WHO R&D MERS-CoV Roadmap for diagnostics, therapeutics and vaccines and a broader public health research agenda. Since the 2017 meeting, progress has been made on several key actions in animal populations, at the animal/human interface and in human populations. This report also summarizes the latest scientific studies on MERS since 2017, including data from more than 50 research studies examining the presence of MERS-CoV infection in dromedary camels.\n",
      "TITLE: MERS: Progress on the global response, remaining challenges and the way forward\n",
      "---------------------------------------------\n",
      "CONTRIB: [ 0.00969444 -0.00969444]\n",
      "ABSTRACT: Abstract The third meeting of WHO’s Product Development for Vaccines Advisory Committee (PDVAC) was held in June 2016, with a remit to revisit the pathogen areas for which significant progress has occurred since recommendations from the 2015 meeting, as well as to consider new advances in the development of vaccines against other pathogens. Since the previous meeting, significant progress has been made with regulatory approvals of the first malaria and dengue vaccines, and the first phase III trials of a respiratory syncytial virus (RSV) vaccine candidate has started in the elderly and pregnant women. In addition, PDVAC has also supported vaccine development efforts against important emerging pathogens, including Middle Eastern Coronavirus (MERS CoV) and Zika virus. Trials of HIV and tuberculosis vaccine candidates are steadily progressing towards pivotal data points, and the leading norovirus vaccine candidate has entered a phase IIb efficacy study. WHO’s Immunization, Vaccine and Biologicals (IVB) department is actively working in several pathogen areas on the recommendation of PDVAC, as well as continuing horizon scanning for advances in the development of vaccines that may benefit low and middle income countries (LMICs), such as the recent licensure of the enterovirus 71 (EV71) vaccine in China. Following on from discussions with WHO’s Strategic Advisory Group of Experts (SAGE) on Immunization, PDVAC will also look beyond licensure and consider data needs for vaccine recommendation and implementation to reduce the delay between vaccine approval and vaccine impact.\n",
      "TITLE: Report from the World Health Organization’s third Product Development for Vaccines Advisory Committee (PDVAC) meeting, Geneva, 8–10th June 2016\n",
      "---------------------------------------------\n",
      "CONTRIB: [ 0.00948052 -0.00948052]\n",
      "ABSTRACT: Abstract Many industrialized countries have implemented routine immunization policies for older adults, but similar strategies have not been widely implemented in low- and middle-income countries (LMICs). In March 2017, the World Health Organization (WHO) convened a meeting to identify policies and activities to promote access to vaccination of older adults, specifically in LMICs. Participants included academic and industry researchers, funders, civil society organizations, implementers of global health interventions, and stakeholders from developing countries with adult immunization needs. These experts reviewed vaccine performance in older adults, the anticipated impact of adult vaccination programs, and the challenges and opportunities of building or strengthening an adult and older adult immunization platforms. Key conclusions of the meeting were that there is a need for discussion of new opportunities for vaccination of all adults as well as for vaccination of older adults, as reflected in the recent shift by WHO to a life-course approach to immunization; that immunization in adults should be viewed in the context of a much broader model based on an individual’s abilities rather than chronological age; and that immunization beyond infancy is a global priority that can be successfully integrated with other interventions to promote healthy ageing. As WHO is looking ahead to a global Decade of Healthy Ageing starting in 2020, it will seek to define a roadmap for interdisciplinary collaborations to integrate immunization with improving access to preventive and other healthcare interventions for adults worldwide.\n",
      "TITLE: Report on WHO meeting on immunization in older adults: Geneva, Switzerland, 22–23 March 2017\n",
      "---------------------------------------------\n",
      "CONTRIB: [ 0.00879855 -0.00879855]\n",
      "ABSTRACT: Abstract The Global Virus Network (GVN) was established in 2011 in order to strengthen research and responses to current viral causes of human disease and to prepare against new viral pandemic threats. There are now 38 GVN Centers of Excellence and 6 Affiliate laboratories in 24 countries. GVN scientists meet annually to learn about each other's current research, address collaborative priorities and plan future programs. The 2016 meeting was held from October 23–25 in Hokkaido, Japan, in partnership with the Japanese Society for Virology, the National Institute of Infectious Diseases of Japan and the Research Center for Zoonosis Control of Hokkaido University. This report highlights the accomplishments of GVN researchers in many priority areas of medical virology, including the current Zika epidemic, infections by human papillomavirus, influenza, Ebola, Lassa, dengue, HIV, hepatitis C, and chikungunya viruses, and the development of improved diagnostics and new vaccines.\n",
      "TITLE: 2016 International meeting of the Global Virus Network\n",
      "===== Towards Good: =====\n",
      "---------------------------------------------\n",
      "CONTRIB: [-0.00421848  0.00421848]\n",
      "ABSTRACT: Coronaviruses are enveloped, single-stranded RNA viruses that are distributed worldwide. They include transmissible gastroenteritis virus (TGEV), porcine epidemic diarrhea virus (PEDV), and the human coronaviruses severe acute respiratory syndrome coronavirus (SARS-CoV) and Middle East respiratory syndrome coronavirus (MERS-CoV), many of which seriously endanger human health and well-being. Only alphacoronaviruses and betacoronaviruses harbor nonstructural protein 1 (nsp1), which performs multiple functions in inhibiting antiviral host responses. The role of the C terminus of betacoronavirus nsp1 in virulence has been characterized, but the location of the alphacoronavirus nsp1 region that is important for virulence remains unclear. Here, using TGEV nsp1 as a model to explore the function of this protein in alphacoronaviruses, we demonstrate that alphacoronavirus nsp1 inhibits host gene expression. Solving the crystal structure of full-length TGEV at 1.85-Å resolution and conducting several biochemical analyses, we observed that a specific motif (amino acids 91–95) of alphacoronavirus nsp1 is a conserved region that inhibits host protein synthesis. Using a reverse-genetics system based on CRISPR/Cas9 technology to construct a recombinant TGEV in which this specific nsp1 motif was altered, we found that this mutation does not affect virus replication in cell culture but significantly reduces TGEV pathogenicity in pigs. Taken together, our findings suggest that alphacoronavirus nsp1 is an essential virulence determinant, providing a potential paradigm for the development of a new attenuated vaccine based on modified nsp1.\n",
      "TITLE: A conserved region of nonstructural protein 1 from alphacoronaviruses inhibits host gene expression and is critical for viral virulence\n",
      "---------------------------------------------\n",
      "CONTRIB: [-0.00387545  0.00387545]\n",
      "ABSTRACT: Viruses have two opposing faces. On the one hand, they can cause harm and disease. A virus may manifest directly as a contagious disease with a clinical pathology of varying significance. A viral infection can also have delayed consequences, and in rare cases may cause cellular transformation and cancer. On the other hand, viruses may provide hope: hope for an efficacious treatment of serious disease. Examples of the latter are the use of viruses as a vaccine, as transfer vector for therapeutic genes in a gene therapy setting, or, more directly, as therapeutic anticancer agent in an oncolytic-virus therapy setting. Already there is evidence for antitumor activity of oncolytic viruses. The antitumor efficacy seems linked to their capacity to induce a tumor-directed immune response. Here, we will provide an overview on the development of oncolytic viruses and their clinical evaluation from the Dutch perspective.\n",
      "TITLE: Changing Faces in Virology: The Dutch Shift from Oncogenic to Oncolytic Viruses\n",
      "---------------------------------------------\n",
      "CONTRIB: [-0.00380021  0.00380021]\n",
      "ABSTRACT: Abstract The production of recombinant proteins is an essential tool for the expansion of modern biological research and biotechnology. The expression of heterologous proteins in Escherichia coli often results in an incomplete folding process that leads to the accumulation of inclusion bodies (IB), aggregates that hold a certain degree of native-like secondary structure. High hydrostatic pressure (HHP) impairs intermolecular hydrophobic and electrostatic interactions, leading to dissociation of aggregates under non-denaturing conditions and is therefore a useful tool to solubilize proteins for posterior refolding. Cholera toxin (CT) is composed of a non-toxic pentamer of B subunits (CTB), a useful adjuvant in vaccines, and a toxic subunit A (CTA). We studied the process of refolding of CTB using HHP. HHP was shown to be effective for dissociation of CTB monomers from IB. Posterior incubation at atmospheric pressure of concentrated CTB (1mg/ml) is necessary for the association of the monomers. Pentameric CTB was obtained when suspensions of CTB IB were compressed at 2.4kbar for 16h in the presence of Tween 20 and incubated at 1bar for 120h. Soluble and biologically active pentameric CTB was obtained, with a yield of 213mg CTB/liter of culture. The experience gained in this study can be important to improve the refolding of proteins with quaternary structure.\n",
      "TITLE: Effect of pressure on refolding of recombinant pentameric cholera toxin B\n",
      "---------------------------------------------\n",
      "CONTRIB: [-0.00379047  0.00379047]\n",
      "ABSTRACT: Abstract In addition to a characteristic set of essential genes coronaviruses contain several so-called group-specific genes. These genes differ distinctly among the three coronavirus groups and are specific for each group. While the essential genes encode replication and structural functions, hardly anything is known about the products and functions of the group-specific genes. As a first step to elucidate their significance, we deleted the group-specific genes from the group 2 mouse hepatitis virus (MHV) genome via a novel targeted recombination system based on host switching (L. Kuo, G. J.Godeke, M. J. Raamsman, P. S. Masters, and P. J. M. Rottier, 2000, J. Virol. 74, 1393–1406). Thus, we obtained recombinant viruses from which the two clusters of group-specific genes were deleted either separately or in combination in a controlled genetic background. As all recombinant deletion mutant viruses appeared to be viable, we conclude that the MHV group-specific genes are nonessential, accessory genes. Importantly, all deletion mutant viruses were attenuated when inoculated into their natural host, the mouse. Therefore, deletion of the coronavirus group-specific genes seems to provide an attractive approach to generate attenuated live coronavirus vaccines.\n",
      "TITLE: The Group-Specific Murine Coronavirus Genes Are Not Essential, but Their Deletion, by Reverse Genetics, Is Attenuating in the Natural Host\n",
      "---------------------------------------------\n",
      "CONTRIB: [-0.00355472  0.00355472]\n",
      "ABSTRACT: Abstract The porcine reproductive and respiratory syndrome virus nsp1 is predicted to be auto-cleaved from the replicase polyprotein into nsp1α and nsp1β subunits. In infected cells, we detected the actual existence of nsp1α and nsp1β. Cleavage sites between nsp1α/nsp1β and nsp1β/nsp2 were identified by protein microsequencing analysis. Time course study showed that nsp1α and nsp1β mainly localize into the cell nucleus after 10 h post infection. Further analysis revealed that both proteins dramatically inhibited IFN-β expression. The nsp1β was observed to significantly inhibit expression from an interferon-stimulated response element promoter after Sendai virus infection or interferon treatment. It was further determined to inhibit nuclear translocation of STAT1 in the JAK–STAT signaling pathway. These results demonstrated that nsp1β has ability to inhibit both interferon synthesis and signaling, while nsp1α alone strongly inhibits interferon synthesis. These findings provide important insights into mechanisms of nsp1 in PRRSV pathogenesis and its impact in vaccine development.\n",
      "TITLE: Identification of two auto-cleavage products of nonstructural protein 1 (nsp1) in porcine reproductive and respiratory syndrome virus infected cells: nsp1 function as interferon antagonist\n"
     ]
    }
   ],
   "source": [
    "tree_explain_bad(1917)\n",
    "# this clean text is WILD LMAO\n",
    "# \"California is a bastion of dark blue communist totalitarian madness\"\n",
    "# this is actually hilarious\n",
    "# GOOD WORK WILL, I SALUTE YOU\n",
    "# GOOD WORK DETECTING THIS AS NONSENSE\n",
    "# this does make me wonder though, do certain individual words have a higher chance of indicating a statement as false?\n",
    "# like the word \"communist\" or \"totalitarian\" for example"
   ]
  },
  {
   "cell_type": "code",
   "execution_count": 75,
   "metadata": {},
   "outputs": [
    {
     "data": {
      "text/plain": [
       "'A Halifax-based research company has developed a COVID-19 antibody test.\\nMedMira hopes to be able to market it to countries ready to begin surveillance programs to find out how widespread infections are within their borders.\\nThe company developed one of the first rapid detection kits for HIV.\\nOther Canadian companies are already making similar tests and selling them abroad.\\nHermes Chan, the company\\'s co-founder, said his company is counting on two things to help it beat its competitors — speed and ease of operation.\\n\"From taking a drop of blood specimen to complete one single test, it will take less than three minutes,\" said Chan.\\nSimilar to pregnancy test\\nAccording to Chan, other tests can take 15-20 minutes to complete and some need a reader to interpret the results.\\nMedMira\\'s process, which is similar to a pregnancy test, registers a positive or negative result on the testing device itself.\\nChan said lab technicians could also perform multiple tests simultaneously, rather than having to perform them one at a time.\\n\"Essentially you can line up 15-20 test cartridges,\" he said.\\nCreating the test has been lightning fast.\\nHermes Chan is the co-founder of MedMira. (MedMira)\\nChan said he started thinking about how to adapt the company\\'s HIV-detection device to be able to find COVID-19 antibodies just six weeks ago.\\n\"The only different thing in there is the type of antigens that we place on our test cartridge,\" he said. \"Everything else is the same and that\\'s why we can actually develop this particular test in such a fast time.\"\\nCompany targeting U.S.\\nSome countries have started to test for antibodies, or are planning to do so, but Health Canada has not approved that kind of testing in Canada.\\nThat is one of the reasons Chan is looking to the U.S. as an initial market.\\nHe said his Dartmouth facility could easily create thousands of ready-to-ship units in short order\\n\"Today, I will say that, without any further expansion, we are looking at about 50,000 tests a week, so about 200,000 a month,\" he said. \"With some additional equipment and expansions, we probably can double that.\"\\nPeople generate antibodies to defend themselves when infected by a virus. Being able to determine if a person has developed antibodies to a virus would tell if they were once infected and had developed immunity.\\nAccording to Dr. Todd Hachette, chief of the division of microbiology at the Nova Scotia Health Authority, that kind of information would be valuable to better understand how COVID-19 has spread throughout Nova Scotia.\\nIt could be of more practical use in subsequent waves of the virus.\\n\"Theoretically, if we knew that the test was predictive of someone who is immune and not going to get the infection again, you could prioritize or triage health-care workers,\" said Hachette.\\nThere\\'s also another possible use further down the line, he said.\\n\"If and when we develop a vaccine we will be able to see how many people have been infected and help triage those who have been infected or those who have not been infected yet to get the vaccine first.\"\\n\\'Too early to know\\'\\nHachette was happy to hear a homegrown company had developed an antibody test, but remained cautious about the overall value.\\n\"I think it\\'s great that Nova Scotia companies are developing the capacity to produce different tests that could be of use,\" he said.\\n\"But at this point it\\'s too early to know where these tests can be used, and more importantly we need to make sure that the tests being produced, not only in Nova Scotia, but in all of the other regions across the world, actually work.\"\\nChan is confident his test works. Even though his company hasn\\'t turned a profit in at least five years, he said he wasn\\'t looking at this simply as a way to make money.\\n\"Certainly we will sell the product at a reasonable market price,\" he said. \"We are not looking to benefit from such a horrible crisis, pandemic crisis.\"\\nMedMira will still have to deal with regulatory hurdles wherever it tries to sell the product. It is not approved for sale in any jurisdiction.'"
      ]
     },
     "execution_count": 75,
     "metadata": {},
     "output_type": "execute_result"
    }
   ],
   "source": [
    "vax_good_df.iloc[157].cleanText"
   ]
  },
  {
   "cell_type": "code",
   "execution_count": 77,
   "metadata": {},
   "outputs": [
    {
     "name": "stdout",
     "output_type": "stream",
     "text": [
      "CLEAN TEXT:  A Halifax-based research company has developed a COVID-19 antibody test.\n",
      "MedMira hopes to be able to market it to countries ready to begin surveillance programs to find out how widespread infections are within their borders.\n",
      "The company developed one of the first rapid detection kits for HIV.\n",
      "Other Canadian companies are already making similar tests and selling them abroad.\n",
      "Hermes Chan, the company's co-founder, said his company is counting on two things to help it beat its competitors — speed and ease of operation.\n",
      "\"From taking a drop of blood specimen to complete one single test, it will take less than three minutes,\" said Chan.\n",
      "Similar to pregnancy test\n",
      "According to Chan, other tests can take 15-20 minutes to complete and some need a reader to interpret the results.\n",
      "MedMira's process, which is similar to a pregnancy test, registers a positive or negative result on the testing device itself.\n",
      "Chan said lab technicians could also perform multiple tests simultaneously, rather than having to perform them one at a time.\n",
      "\"Essentially you can line up 15-20 test cartridges,\" he said.\n",
      "Creating the test has been lightning fast.\n",
      "Hermes Chan is the co-founder of MedMira. (MedMira)\n",
      "Chan said he started thinking about how to adapt the company's HIV-detection device to be able to find COVID-19 antibodies just six weeks ago.\n",
      "\"The only different thing in there is the type of antigens that we place on our test cartridge,\" he said. \"Everything else is the same and that's why we can actually develop this particular test in such a fast time.\"\n",
      "Company targeting U.S.\n",
      "Some countries have started to test for antibodies, or are planning to do so, but Health Canada has not approved that kind of testing in Canada.\n",
      "That is one of the reasons Chan is looking to the U.S. as an initial market.\n",
      "He said his Dartmouth facility could easily create thousands of ready-to-ship units in short order\n",
      "\"Today, I will say that, without any further expansion, we are looking at about 50,000 tests a week, so about 200,000 a month,\" he said. \"With some additional equipment and expansions, we probably can double that.\"\n",
      "People generate antibodies to defend themselves when infected by a virus. Being able to determine if a person has developed antibodies to a virus would tell if they were once infected and had developed immunity.\n",
      "According to Dr. Todd Hachette, chief of the division of microbiology at the Nova Scotia Health Authority, that kind of information would be valuable to better understand how COVID-19 has spread throughout Nova Scotia.\n",
      "It could be of more practical use in subsequent waves of the virus.\n",
      "\"Theoretically, if we knew that the test was predictive of someone who is immune and not going to get the infection again, you could prioritize or triage health-care workers,\" said Hachette.\n",
      "There's also another possible use further down the line, he said.\n",
      "\"If and when we develop a vaccine we will be able to see how many people have been infected and help triage those who have been infected or those who have not been infected yet to get the vaccine first.\"\n",
      "'Too early to know'\n",
      "Hachette was happy to hear a homegrown company had developed an antibody test, but remained cautious about the overall value.\n",
      "\"I think it's great that Nova Scotia companies are developing the capacity to produce different tests that could be of use,\" he said.\n",
      "\"But at this point it's too early to know where these tests can be used, and more importantly we need to make sure that the tests being produced, not only in Nova Scotia, but in all of the other regions across the world, actually work.\"\n",
      "Chan is confident his test works. Even though his company hasn't turned a profit in at least five years, he said he wasn't looking at this simply as a way to make money.\n",
      "\"Certainly we will sell the product at a reasonable market price,\" he said. \"We are not looking to benefit from such a horrible crisis, pandemic crisis.\"\n",
      "MedMira will still have to deal with regulatory hurdles wherever it tries to sell the product. It is not approved for sale in any jurisdiction.\n",
      "Prediction:  [[0.044 0.956]]\n",
      "Bias:  [[0.26382353 0.73617647]]\n",
      "===== Towards Good: =====\n",
      "---------------------------------------------\n",
      "CONTRIB: [-0.00794627  0.00794627]\n",
      "ABSTRACT: Background Allergic reactions to Hymenoptera insect stings remain a major global clinical problem. Although effective, parenteral desensitization regimens require use of costly venom extracts and require frequent visits over extended periods of time. Objective Adjuvants are commonly used to enhance the efficacy of infectious disease vaccines, and this study asked whether Advax (Vaxine Pty Ltd, Adelaide, Australia), a novel noninflammatory polysaccharide adjuvant, might provide similar benefits for allergy desensitization. Methods A randomized, controlled phase 1/2 trial was undertaken in 27 adults with a history of rapid-onset systemic allergic reactions to honeybee stings and positive specific IgE levels to evaluate the safety and efficacy of honeybee venom immunotherapy (HBVIT) combined with Advax adjuvant. Venom immunotherapy (VIT) was administered monthly for 30 months after achievement of maintenance doses. Results Advax-adjuvanted HBVIT was well tolerated. Around week 14 of VIT, specific IgG4 responses peaked in both groups but increased earlier, peaked higher, and were better maintained through the end of the study in the Advax-adjuvanted arm. Several different patterns of serologic response to VIT were seen; some subjects had a dominant IgG4 response, some had a combined IgG4 and IgG1 response, and some had an exclusively IgG1 response. In some subjects specific IgE levels increased during the induction phase and then decreased, whereas in others specific IgE levels progressively decreased from the start of VIT. Conclusion Advax adjuvant favorably enhanced the immunogenicity of HBVIT, with an early and prolonged switch to specific IgG4 production. The ability of Advax adjuvant to enhance VIT efficacy warrants further study.\n",
      "TITLE: Randomized controlled trial demonstrating the benefits of delta inulin adjuvanted immunotherapy in patients with bee venom allergy\n",
      "---------------------------------------------\n",
      "CONTRIB: [-0.00730039  0.00730039]\n",
      "ABSTRACT: Abstract A molecular survey for traditional and emerging pathogens associated with canine infectious respiratory disease (CIRD) was conducted in Italy between 2011 and 2013 on a total of 138 dogs, including 78 early acute clinically ill CIRD animals, 22 non-clinical but exposed to clinically ill CIRD dogs and 38 CIRD convalescent dogs. The results showed that canine parainfluenza virus (CPIV) was the most commonly detected CIRD pathogen, followed by canine respiratory coronavirus (CRCoV), Bordetella bronchiseptica, Mycoplasma cynos, Mycoplasma canis and canine pneumovirus (CnPnV). Some classical CIRD agents, such as canine adenoviruses, canine distemper virus and canid herpesvirus 1, were not detected at all, as were not other emerging respiratory viruses (canine influenza virus, canine hepacivirus) and bacteria (Streptococcus equi subsp. zooepidemicus). Most severe forms of respiratory disease were observed in the presence of CPIV, CRCoV and M. cynos alone or in combination with other pathogens, whereas single CnPnV or M. canis infections were detected in dogs with no or very mild respiratory signs. Interestingly, only the association of M. cynos (alone or in combination with either CRCoV or M. canis) with severe clinical forms was statistically significant. The study, while confirming CPIV as the main responsible for CIRD occurrence, highlights the increasing role of recently discovered viruses, such as CRCoV and CnPnV, for which effective vaccines are not available in the market.\n",
      "TITLE: Molecular surveillance of traditional and emerging pathogens associated with canine infectious respiratory disease\n",
      "---------------------------------------------\n",
      "CONTRIB: [-0.00504536  0.00504536]\n",
      "ABSTRACT: Abstract The mammarenavirus Lassa (LASV) is highly prevalent in West Africa where it infects several hundred thousand individuals annually resulting in a high number of Lassa fever (LF) cases, a febrile disease associated with high morbidity and significant mortality. Mounting evidence indicates that the worldwide-distributed prototypic mammarenavirus lymphocytic choriomeningitis virus (LCMV) is a neglected human pathogen of clinical significance. There are not Food and Drug Administration (FDA) licensed vaccines and current anti-mammarenavirus therapy is limited to an off-label use of ribavirin that is only partially effective and can cause significant side effects. Therefore, there is an unmet need for novel antiviral drugs to combat LASV. This task would be facilitated by the implementation of high throughput screens (HTS) to identify inhibitors of the activity of the virus ribonucleoprotein (vRNP) responsible for directing virus RNA genome replication and gene transcription. The use of live LASV for this purpose is jeopardized by the requirement of biosafety level 4 (BSL4) containment. We have developed a virus-free cell platform, where expression levels of reporter genes serve as accurate surrogates of vRNP activity, to develop cell-based assays compatible with HTS to identify inhibitors of LASV and LCMV mammarenavirus vRNP activities.\n",
      "TITLE: A cell-based, infectious-free, platform to identify inhibitors of lassa virus ribonucleoprotein (vRNP) activity\n",
      "---------------------------------------------\n",
      "CONTRIB: [-0.00493722  0.00493722]\n",
      "ABSTRACT: Abstract Immune signatures measured at baseline and immediately prior to vaccination, may predict the immune response to vaccination. Such pre-vaccine assessment might allow not only population-based, but also more personalized vaccination strategies (‘precision vaccination’). If baseline immune signatures are predictive, the underlying mechanism they reflect may also determine vaccination outcome. Thus, baseline signatures might contribute to identifying interventional targets to be modulated prior to vaccination in order to improve vaccination responses. This concept has the potential to transform vaccination strategies and usher in a new approach to improve global health.\n",
      "TITLE: Improving vaccine-induced immunity: Can Baseline Predict Outcome?\n",
      "---------------------------------------------\n",
      "CONTRIB: [-0.0045741  0.0045741]\n",
      "ABSTRACT: Launched at Davos in January 2017 with funding from sovereign investors and philanthropic institutions, the Coalition for Epidemic Preparedness Innovations (CEPI) is an innovative partnership between public, private, philanthropic, and civil organisations whose mission is to stimulate, finance and co-ordinate vaccine development against diseases with epidemic potential in cases where market incentives fail. As of December 2019, CEPI has committed to investing up to $706 million in vaccine development. This includes 19 vaccine candidates against its priority pathogens (Lassa fever virus, Middle East respiratory syndrome coronavirus, Nipah virus, Chikungunya, Rift Valley fever) and three vaccine platforms to develop vaccines against Disease X, a novel or unanticipated pathogen. As an entity largely supported by public funds, ensuring equitable access to vaccines whose development it supports in low- and middle-income countries is CEPI’s primary focus. CEPI developed an initial equitable access policy shortly after its formation, with key stakeholders expressing strong views about its content and prescriptive nature. The CEPI board instructed that it be revisited after a year. This paper describes the process of revising the policy, and how key issues were resolved. CEPI will continue to take an iterative, rather than prescriptive, approach to its policy—one that reflects the needs of multiple stakeholders and ensures it can meet its equitable access goals.\n",
      "TITLE: Finding equipoise: CEPI revises its equitable access policy\n",
      "===== Towards Bad: =====\n",
      "---------------------------------------------\n",
      "CONTRIB: [ 0.00582105 -0.00582105]\n",
      "ABSTRACT: Background. The human B-cell response to natural influenza virus infection has not been extensively investigated at the polyclonal level. Methods. The overall B-cell response of patients acutely infected with the 2009 pandemic influenza A(H1N1)pdm09 virus (A[H1N1]pdm09) was analyzed by determining the reactivity of plasmablast-derived polyclonal antibodies (PPAbs) to influenza proteins. Recipients of inactivated influenza vaccine containing the same A(H1N1)pdm09 strain were studied for comparison. Results. During acute infection, robust plasmablast responses to the infecting virus were detected, characterized by a greater PPAb reactivity to the conserved influenza virus nuclear protein and to heterovariant and heterosubtypic hemagglutinins, in comparison to responses to the inactivated A(H1N1)pdm09 vaccine. In A(H1N1)pdm09 vaccinees, the presence of baseline serum neutralizing antibodies against A(H1N1)pdm09, suggesting previous exposure to natural A(H1N1)pdm09 infection, did not affect the plasmablast response to vaccination, whereas repeated immunization with inactivated A(H1N1)pdm09 vaccine resulted in significantly reduced vaccine-specific and cross-reactive PPAb responses. Conclusions. Natural A(H1N1)pdm09 infection and inactivated A(H1N1)pdm09 vaccination result in very distinct patterns of B-cell activation and priming. These differences are likely to be associated with differences in protective immunity, especially cross-protection against heterovariant and heterosubtypic influenza virus strains.\n",
      "TITLE: Distinct Patterns of B-Cell Activation and Priming by Natural Influenza Virus Infection Versus Inactivated Influenza Vaccination\n",
      "---------------------------------------------\n",
      "CONTRIB: [ 0.00577414 -0.00577414]\n",
      "ABSTRACT: Human T-cell leukemia virus type 1 (HTLV-1)-associated diseases are poorly treatable, and HTLV-1 vaccines are not available. High proviral load is one major risk factor for disease development. HTLV-1 encodes Tax oncoprotein, which activates transcription from viral long terminal repeats (LTR) and various types of cellular promoters. Counteracting Tax function might have prophylactic and therapeutic benefits. In this work, we report on the suppression of Tax activation of HTLV-1 LTR by SIRT1 deacetylase. The transcriptional activity of Tax on the LTR was largely ablated when SIRT1 was overexpressed, but Tax activation of NF-κB was unaffected. On the contrary, the activation of the LTR by Tax was boosted when SIRT1 was depleted. Treatment of cells with resveratrol shunted Tax activity in a SIRT1-dependent manner. The activation of SIRT1 in HTLV-1-transformed T cells by resveratrol potently inhibited HTLV-1 proviral transcription and Tax expression, whereas compromising SIRT1 by specific inhibitors augmented HTLV-1 mRNA expression. The administration of resveratrol also decreased the production of cell-free HTLV-1 virions from MT2 cells and the transmission of HTLV-1 from MT2 cells to uninfected Jurkat cells in coculture. SIRT1 associated with Tax in HTLV-1-transformed T cells. Treatment with resveratrol prevented the interaction of Tax with CREB and the recruitment of CREB, CRTC1, and p300 to Tax-responsive elements in the LTR. Our work demonstrates the negative regulatory function of SIRT1 in Tax activation of HTLV-1 transcription. Small-molecule activators of SIRT1 such as resveratrol might be considered new prophylactic and therapeutic agents in HTLV-1-associated diseases. IMPORTANCE Human T-cell leukemia virus type 1 (HTLV-1) causes a highly lethal blood cancer or a chronic debilitating disease of the spinal cord. Treatments are unsatisfactory, and vaccines are not available. Disease progression is associated with robust expression of HTLV-1 genes. Suppressing HTLV-1 gene expression might have preventive and therapeutic benefits. It is therefore critical that host factors controlling HTLV-1 gene expression be identified and characterized. This work reveals a new host factor that suppresses HTLV-1 gene expression and a natural compound that activates this suppression. Our findings not only provide new knowledge of the host control of HTLV-1 gene expression but also suggest a new strategy of using natural compounds for prevention and treatment of HTLV-1-associated diseases.\n",
      "TITLE: SIRT1 Suppresses Human T-Cell Leukemia Virus Type 1 Transcription\n",
      "---------------------------------------------\n",
      "CONTRIB: [ 0.00507311 -0.00507311]\n",
      "ABSTRACT: Abstract The vast majority of commercially available inactivated influenza vaccines are produced from egg-grown or cell-grown live influenza virus. The first step in the production process is virus inactivation with β-propiolactone (BPL) or formaldehyde (FA). Recommendations for production of inactivated vaccines merely define the maximal concentration for both reagents, leaving the optimization of the process to the manufacturers. We assessed the effect of inactivation with BPL and FA on 5 different influenza virus strains. The properties of the viral formulation, such as successful inactivation, preservation of hemagglutinin (HA) binding ability, fusion capacity and the potential to stimulate a Toll-like receptor 7 (TLR7) reporter cell line were then assessed and compared to the properties of the untreated virus. Inactivation with BPL resulted in undetectable infectivity levels, while FA-treated virus retained very low infectious titers. Hemagglutination and fusion ability were highly affected by those treatments that conferred higher inactivation, with BPL-treated virus binding and fusing at a lower degree compared to FA-inactivated samples. On the other hand, BPL-inactivated virus induced higher levels of activation of TLR7 than FA-inactivated virus. The alterations caused by BPL or FA treatments were virus strain dependent. This data shows that the inactivation procedures should be tailored on the virus strain, and that many other elements beside the concentration of the inactivating agent, such as incubation time and temperature, buffer and virus concentration, have to be defined to achieve a functional product.\n",
      "TITLE: Inactivated or damaged? Comparing the effect of inactivation methods on influenza virions to optimize vaccine production\n",
      "---------------------------------------------\n",
      "CONTRIB: [ 0.00440641 -0.00440641]\n",
      "ABSTRACT: Abstract In addition to a characteristic set of essential genes coronaviruses contain several so-called group-specific genes. These genes differ distinctly among the three coronavirus groups and are specific for each group. While the essential genes encode replication and structural functions, hardly anything is known about the products and functions of the group-specific genes. As a first step to elucidate their significance, we deleted the group-specific genes from the group 2 mouse hepatitis virus (MHV) genome via a novel targeted recombination system based on host switching (L. Kuo, G. J.Godeke, M. J. Raamsman, P. S. Masters, and P. J. M. Rottier, 2000, J. Virol. 74, 1393–1406). Thus, we obtained recombinant viruses from which the two clusters of group-specific genes were deleted either separately or in combination in a controlled genetic background. As all recombinant deletion mutant viruses appeared to be viable, we conclude that the MHV group-specific genes are nonessential, accessory genes. Importantly, all deletion mutant viruses were attenuated when inoculated into their natural host, the mouse. Therefore, deletion of the coronavirus group-specific genes seems to provide an attractive approach to generate attenuated live coronavirus vaccines.\n",
      "TITLE: The Group-Specific Murine Coronavirus Genes Are Not Essential, but Their Deletion, by Reverse Genetics, Is Attenuating in the Natural Host\n",
      "---------------------------------------------\n",
      "CONTRIB: [ 0.00438798 -0.00438798]\n",
      "ABSTRACT: (See the editorial commentary by Donis and Cox, on pages 1010–1012.) Background. Lack of life-long immunity against influenza viruses represents a major global health care problem with profound medical and economic consequences. A greater understanding of the broad-spectrum “heterosubtypic” neutralizing human antibody (BnAb) response to influenza should bring us closer toward a universal influenza vaccine. Methods. Serum samples obtained from 77 volunteers in an H5N1 vaccine study were analyzed for cross-reactive antibodies (Abs) against both subtype hemagglutinins (HAs) and a highly conserved pocket on the HA stem of Group 1 viruses. Cross-reactive Abs in commercial intravenous immunoglobulin were affinity purified using H5-coupled beads followed by step-wise monoclonal antibody competition or acid elution. Enzyme-linked immunosorbent assays were used to quantify cross-binding, and neutralization activity was determined with HA-pseudotyped viruses. Results. Prevaccination serum samples have detectable levels of heterosubtypic HA binding activity to both Group 1 and 2 influenza A viruses, including subtypes H5 and H7, respectively, to which study subjects had not been vaccinated. Two different populations of Broadly neutralizing Abs (BnAbs) were purified from intravenous immunoglobulin by H5 beads: ∼0.01% of total immunoglobulin G can bind to HAs from both Group 1 and 2 and neutralize H1N1 and H5N1 viruses; ∼0.001% is F10-like Abs directed against the HA stem pocket on Group 1 viruses. Conclusion. These data—to our knowledge, for the first time—quantitatively show the presence, albeit at low levels, of two populations of heterosubtypic BnAbs against influenza A in human serum. These observations warrant further investigation to determine their origin, host polymorphism(s) that may affect their expression levels and how to boost these BnAb responses by vaccination to reach sustainable protective levels.\n",
      "TITLE: Wide Prevalence of Heterosubtypic Broadly Neutralizing Human Anti-Influenza A Antibodies\n"
     ]
    }
   ],
   "source": [
    "tree_explain_good(157)"
   ]
  },
  {
   "cell_type": "code",
   "execution_count": 78,
   "metadata": {},
   "outputs": [
    {
     "name": "stdout",
     "output_type": "stream",
     "text": [
      "CLEAN TEXT:  Only two states in the U.S. have reported a decline in coronavirus cases in the last week.\n",
      "Across the country, case numbers have risen along with hospitalizations due to COVID-19, according to an article published by .\n",
      "Wisconsin health officials reported a record high of 141 new hospitalizations on Wednesday, according to data obtained by the outlet.\n",
      "MADISON, Wis. (AP) — Wisconsin governor activates 530-bed field hospital as coronavirus spread strains capacity in state facilities. — Zeke Miller (@ZekeJMiller) October 7, 2020\n",
      "“We obviously hoped this day wouldn’t come, but unfortunately, Wisconsin is in a much different and more dire place today, and our healthcare systems are being overwhelmed,” Gov. Tony Evers said while announcing the opening of a field hospital, according to . (RELATED: New Coronavirus Restrictions Enacted Across Europe As Coronavirus Cases Rise)\n",
      "Utah Lt. Gov. Spencer Cox claimed the spread of the virus in the state is “way too high” and confirmed the hospitalization rates were “surging” after the news about the Wisconsin field hospital broke.\n",
      "Our hospitalization rates are surging and beginning to place a strain on our healthcare system (especially staffing). And, sadly, we are now seeing increased fatalities. The Wisconsin announcement should be a sobering reminder as Utah isn’t far behind in infection rates.  — Spencer Cox (@SpencerJCox) October 7, 2020\n",
      "“Our hospitalization rates are surging and beginning to place a strain on our healthcare system (especially staffing),” Cox tweeted Wednesday. “And, sadly, we are now seeing increased fatalities. The Wisconsin announcement should be a sobering reminder as Utah isn’t far behind in infection rates.”\n",
      "The U.S. has reported an average of 44,000 daily, according to date given by Johns Hopkins University,  reported.\n",
      "“Instead of going into the fall and the winter on a sharp decline down to a low baseline, we’re actually going into the fall and the winter with some parts of the country ticking up, which will ultimately lead to not only more infections, but more hospitalizations and then community spread, which will ultimately lead to morbidity and mortality,” Dr. Fauci recently said, according to .\n",
      "Despite the increase across the country, two states have reported declines. Alabama is seeing a decline in positive tests this week, according to data from John Hopkins University. Hawaii has also reported a decline in new daily cases, the data shows.\n",
      "The increase in cases across the country has been met with implementation of stricter measures. In Wisconsin, a new order that limits public gatherings was implemented. In New York City, where coronavirus clusters have been popping up, Gov. Cuomo implemented new restrictions including closing schools.\n",
      "Kentucky Gov. Andy Beshear renewed the state’s mask mandate for another 30 days after claiming the state was seeing its third escalation of coronavirus cases, according to . The state reported its highest number of new coronavirus cases ever Saturday.\n",
      "Kentucky reported its highest ever number of new coronavirus cases on Saturday. — WCPO 9 (@WCPO) October 3, 2020\n",
      "Montana, Nebraska, North Dakota, Oklahoma, South Dakota and Wyoming have also reported record-high hospitalization rates this past week, the outlet reported.\n",
      "World Health Organization Executive Director of Health Emergencies Programme Dr. Mike Ryan claimed there are other ways to bring the case numbers down while waiting for a COVID-19 vaccine.\n",
      "“If people who were sick stayed at home, and were supported in doing that, and if their contacts stayed at home, and were supported in doing that, we could break the back of this disease,” Ryan said, according to .\n",
      "“We keep avoiding that elephant in the room,” he reportedly said.\n",
      "Prediction:  [[0.058 0.942]]\n",
      "Bias:  [[0.26382353 0.73617647]]\n",
      "===== Towards Good: =====\n",
      "---------------------------------------------\n",
      "CONTRIB: [-0.00516142  0.00516142]\n",
      "ABSTRACT: Abstract Objective We aimed to evaluate the level of knowledge of Middle East respiratory syndrome coronavirus (MERS-CoV) among Hajj pilgrims before and after an education health programme during international vaccine consultations in France. Study design A cross-sectional study was performed in the consultation for travel medicine and international vaccination in Reims University Hospital between July 2014 and October 2015. Methods Consecutive adults (>18 years old) who attended for pre-Hajj meningococcal vaccination were eligible to complete an anonymous questionnaire with closed answers to evaluate their level of knowledge about MERS-CoV. To evaluate the effectiveness of the information given during the consultation, the same questionnaire was completed by the Hajj pilgrim before and after the consultation, where the information about MERS-CoV was provided. Results Among 82 Hajj pilgrim adults enrolled in the study, less than 25% were aware of the routes of transmission, symptoms and preventive behaviours to adopt abroad or in case of fever. Pilgrims had a higher rate of correct responses on each question at the time they completed the second questionnaire, as compared with the first, with 11 of 13 questions answered significantly better after delivery of educational information about MERS-CoV. However, although the rate of correct answers to the questions about routes of transmission, symptoms, preventive behaviours to adopt in case of fever and time delay between return and potential MERS-CoV occurrence increased significantly after receiving the information, the rates remained below 50%. Conclusion Information given during travel consultations significantly increases the general level of knowledge, but not enough to achieve epidemic control.\n",
      "TITLE: Effectiveness of an education health programme about Middle East respiratory syndrome coronavirus tested during travel consultations\n",
      "---------------------------------------------\n",
      "CONTRIB: [-0.0034168  0.0034168]\n",
      "ABSTRACT: Abstract Every two years, the Global Vaccine and Immunization Research Forum takes stock of global research in vaccines and immunization. As in prior years, the 2018 meeting addressed vaccine discovery, development, decision-making, and deployment. This time, however, it also featured two overarching themes: “Innovating for Equity” and “End-to-End Integration.” Significant advances have been made in the last two years, but participants noted that some important goals of the Global Vaccine Action Plan are not being met and called urgently for innovation in improving access to vaccines. Two factors were highlighted as crucial to improving coverage: a focus on equity and sustainability throughout the immunization ecosystem, and an enabling political environment that prioritizes health and immunization.\n",
      "TITLE: Meeting report: Global vaccine and immunization research forum, 2018\n",
      "---------------------------------------------\n",
      "CONTRIB: [-0.00338299  0.00338299]\n",
      "ABSTRACT: Abstract In addition to a characteristic set of essential genes coronaviruses contain several so-called group-specific genes. These genes differ distinctly among the three coronavirus groups and are specific for each group. While the essential genes encode replication and structural functions, hardly anything is known about the products and functions of the group-specific genes. As a first step to elucidate their significance, we deleted the group-specific genes from the group 2 mouse hepatitis virus (MHV) genome via a novel targeted recombination system based on host switching (L. Kuo, G. J.Godeke, M. J. Raamsman, P. S. Masters, and P. J. M. Rottier, 2000, J. Virol. 74, 1393–1406). Thus, we obtained recombinant viruses from which the two clusters of group-specific genes were deleted either separately or in combination in a controlled genetic background. As all recombinant deletion mutant viruses appeared to be viable, we conclude that the MHV group-specific genes are nonessential, accessory genes. Importantly, all deletion mutant viruses were attenuated when inoculated into their natural host, the mouse. Therefore, deletion of the coronavirus group-specific genes seems to provide an attractive approach to generate attenuated live coronavirus vaccines.\n",
      "TITLE: The Group-Specific Murine Coronavirus Genes Are Not Essential, but Their Deletion, by Reverse Genetics, Is Attenuating in the Natural Host\n",
      "---------------------------------------------\n",
      "CONTRIB: [-0.00329544  0.00329544]\n",
      "ABSTRACT: BACKGROUND: Last-minute travellers (LMTs) present challenges for health care providers because they may have insufficient time for recommended vaccinations or pre-travel preparation. Our objective was to obtain a better understanding of LMTs in order to help travel medicine providers develop improved strategies to decrease the number of LMTs and potentially reduce travel-related morbidity. METHODS: We defined LMTs as travellers with a departure date of 7 days or fewer from the medical encounter. We analysed the characteristics and health preparation of 12 494 LMTs who presented to a network of US clinical practices for pre-travel health advice between January 2009 and December 2015. RESULTS: LMTs comprised 16% of all travellers. More LMTs than non-LMTs travelled for business or to visit friends and relatives (VFR) (26% vs 16% and 15% vs 8%, respectively; P< 0.0001). More LMTs also travelled for longer than 1 month (27% vs 21%; P<0.0001) and visited only urban areas (40% vs 29%; P<0.0001). At least one travel vaccine was deferred by 18% of LMTs because of insufficient time before departure. Vaccines that required multiple vaccinations, such as Japanese encephalitis and rabies, were the most likely to be deferred because of time constraints. CONCLUSION: Interventions to improve the timing of pre-travel health consultations should be developed, particularly for business and VFR travellers. Recently endorsed accelerated vaccine schedules for Japanese encephalitis and rabies may help some LMTs receive protection against these infections despite late presentation for pre-travel health care.\n",
      "TITLE: Characteristics and preparation of the last-minute traveler: analysis of vaccine usage in the Global TravEpiNet Consortium\n",
      "---------------------------------------------\n",
      "CONTRIB: [-0.00325663  0.00325663]\n",
      "ABSTRACT: Abstract Background The 23-valent pneumococcal polysaccharide vaccine is recommended for elders, especially those with chronic conditions. Objective The aim of this study was to determine if an additional multi-component health education intervention increases the uptake rate of the pneumococcal vaccination among older patients with chronic diseases. Methods A cluster randomized controlled trial was conducted from 3 December 2007 to 7 March 2008. The clusters were the individual weeks within five Hong Kong outpatient clinics over a 10-week period. A sample of 2517 patients aged 65 or above with chronic diseases was recruited. Intervention group received a 3-min brief telephone education intervention before and a 3-min face-to-face intervention during scheduled medical appointments at the respective clinics. All subjects received standard care including health education leaflets and/or a video show at the clinics. Pneumococcal vaccination rate and awareness of the vaccination at 3-month follow up were measured. Results The vaccination rate was higher in the intervention group compared to the control group (57% vs 48%; relative risk=1.20, 95% CI=1.06–1.37), but the two groups did not differ significantly in their awareness of the vaccination at 3-month follow up (65% vs 59%, relative risk=0.86, 95% CI=0.69–1.07). Discussion A nurse-delivered brief health education intervention was effective in increasing uptake of pneumococcal vaccination among older patients with chronic diseases.\n",
      "TITLE: A nurse-delivered brief health education intervention to improve pneumococcal vaccination rate among older patients with chronic diseases: A cluster randomized controlled trial\n",
      "===== Towards Bad: =====\n",
      "---------------------------------------------\n",
      "CONTRIB: [ 0.00653128 -0.00653128]\n",
      "ABSTRACT: Abstract A molecular survey for traditional and emerging pathogens associated with canine infectious respiratory disease (CIRD) was conducted in Italy between 2011 and 2013 on a total of 138 dogs, including 78 early acute clinically ill CIRD animals, 22 non-clinical but exposed to clinically ill CIRD dogs and 38 CIRD convalescent dogs. The results showed that canine parainfluenza virus (CPIV) was the most commonly detected CIRD pathogen, followed by canine respiratory coronavirus (CRCoV), Bordetella bronchiseptica, Mycoplasma cynos, Mycoplasma canis and canine pneumovirus (CnPnV). Some classical CIRD agents, such as canine adenoviruses, canine distemper virus and canid herpesvirus 1, were not detected at all, as were not other emerging respiratory viruses (canine influenza virus, canine hepacivirus) and bacteria (Streptococcus equi subsp. zooepidemicus). Most severe forms of respiratory disease were observed in the presence of CPIV, CRCoV and M. cynos alone or in combination with other pathogens, whereas single CnPnV or M. canis infections were detected in dogs with no or very mild respiratory signs. Interestingly, only the association of M. cynos (alone or in combination with either CRCoV or M. canis) with severe clinical forms was statistically significant. The study, while confirming CPIV as the main responsible for CIRD occurrence, highlights the increasing role of recently discovered viruses, such as CRCoV and CnPnV, for which effective vaccines are not available in the market.\n",
      "TITLE: Molecular surveillance of traditional and emerging pathogens associated with canine infectious respiratory disease\n",
      "---------------------------------------------\n",
      "CONTRIB: [ 0.00321263 -0.00321263]\n",
      "ABSTRACT: Abstract Avian infectious bronchitis virus (IBV) belongs to the Coronaviridae family and causes significant economic loss in Taiwan (TW), even in flocks that have been extensively immunised with Massachusetts (Mass)-serotype vaccines. Phylogenetic analysis of all non-structural and most structural genes shows that TW IBV is genetically distinct from the US strain and more similar to Chinese (CH) IBV. In contrast, the nucleocapsid (N) gene of TW IBV presents phylogenetic incongruence. RNA recombination at the 5′ end of the N gene between TW and US IBV is shown to be responsible for this discordance. Surprisingly, the recombinant N gene is found in all of tested TW IBV isolates, suggesting that a recombination event gave origin to a founder lineage. Our data indicate that RNA recombination in the recombinant 5′ end of the N gene may have caused the emergence of the current IBV population in Taiwan.\n",
      "TITLE: Evolution of infectious bronchitis virus in Taiwan: Characterisation of RNA recombination in the nucleocapsid gene\n",
      "---------------------------------------------\n",
      "CONTRIB: [ 0.00306735 -0.00306735]\n",
      "ABSTRACT: Abstract Infectious bronchitis virus (IBV) causes avian infectious bronchitis, an important disease that produces severe economic losses in the poultry industry worldwide. Recent IBV infections in Sweden have been associated with poor growth in broilers, drop in egg production and thin egg shells in layers. The complete spike gene of selected isolates from IBV cases was amplified and sequenced using conventional RT-PCR. Nucleotide and amino acid sequence comparisons have shown that the recent isolates bear 98.97% genetic similarity with strains of the QX-like genotype. The phylogenetic analysis revealed that strains predominant in the nineties, which were of the Massachusetts type, have been replaced by D388/QX-like strains, however the evolutionary link could not be established. The homology between the two genotypes was 79 and 81%. Remarkably, a strong positive selection pressure was determined, mostly involving the S1 subunit of the S gene. This strong selective pressure resulted in recombination events, insertions and deletions in the S gene. Two new isolates generated from recombination were found with nucleotide sequence diverging 1.7–2.4% from the D388/QX-like branch, indicating the emergence of a new lineage. The study demonstrates a constant evolution of IBV that might be in relation to increased poultry farming, trade and vaccine pressure. The findings underscore the importance of continuous monitoring to control spread of infections, as well as to timely adjust diagnostic methods, molecular epidemiological studies, development and use of vaccines that are adapted to the changing disease scenario.\n",
      "TITLE: Emergence of novel strains of avian infectious bronchitis virus in Sweden\n",
      "---------------------------------------------\n",
      "CONTRIB: [ 0.00260138 -0.00260138]\n",
      "ABSTRACT: Abstract Foot-and-mouth disease (FMD) is a highly contagious disease of cloven-hoofed animals, and can cause severe economic loss. Interferon-induced transmembrane (IFITM) proteins constitute a family of viral restriction factors that can inhibit the replication of several types of viruses. Our previous study showed that overexpression of swine IFITM3 (sIFITM3) impeded replication of the FMD virus (FMDV) in BHK-21 cells and mice. In this study, sIFITM3-transgenic (TG) pigs were produced by handmade cloning. Results showed that sIFITM3 was highly overexpressed in many organs of sIFITM3-TG pigs compared to wild-type pigs. After a virulent FMDV strain (O/ES/2001) was intramuscularly inoculated, the sIFITM3-TG pigs showed slightly higher susceptibility to FMDV infection than wild-type pigs. Both groups displayed comparable degrees of clinical symptoms throughout the 14-day observation period. Therefore, the induction of systemic sIFITM3 expression does not protect pigs against FMDV infection. Based on these observations, we propose that a combination of interferons and vaccines be used to control FMDV infections and subsequent FMD outbreaks.\n",
      "TITLE: Induction of systemic IFITM3 expression does not effectively control foot-and-mouth disease viral infection in transgenic pigs\n",
      "---------------------------------------------\n",
      "CONTRIB: [ 0.00255852 -0.00255852]\n",
      "ABSTRACT: Abstract Associations between heifer calf management and morbidity, particularly scours and pneumonia, were studied on 104 randomly selected Holstein dairy farms in southwestern Ontario between October 1980 and July 1983. At the farm level, data were stratified by season, with two six-month seasons (winter and summer) per year. The odds of farms with particular management strategies having above median morbidity were calculated. At the individual calf level, the odds of a calf being treated, controlling for farm of origin and month of birth, were calculated for different management practices. Farm size, and policies related to anti-scour vaccination, offering free-choice water and minerals to calves, methods of feeding, and the use of medicated feeds significantly altered the odds of a farm experiencing above-median pneumonia rates. Farm policies with regard to anti-scour vaccination, offering free-choice salt to calves, age at teat removal, type of calf housing, and use of preventive antimicrobials significantly altered the odds of a farm experiencing above-median scours rates. Scours and pneumonia were significantly associated with each other at both the farm and the calf level. No significant associations were found between individual calf management practices and the odds of being treated for scours. Sire used, method of first colostrum feeding, navel treatment, use of anti-scour vaccine in the dam, and the administration of preventive antimicrobials significantly altered the odds of a calf being treated for pneumonia.\n",
      "TITLE: Dairy calf management, morbidity and mortality in Ontario Holstein herds. III. Association of management with morbidity\n"
     ]
    }
   ],
   "source": [
    "tree_explain_good(103)"
   ]
  },
  {
   "cell_type": "code",
   "execution_count": 79,
   "metadata": {},
   "outputs": [],
   "source": [
    "# bro there's no way he imports treeinterpreter all the way down here\n",
    "# I'm commenting this out\n",
    "# but I won't remove it, just to show how wild of a place it was put in\n",
    "# from treeinterpreter import treeinterpreter as ti"
   ]
  },
  {
   "cell_type": "code",
   "execution_count": 80,
   "metadata": {},
   "outputs": [],
   "source": [
    "pred, bias, contrib = ti.predict(tmodel, vbad2ref[290, :].reshape((1, -1)))\n",
    "# pred, bias, contrib = ti.predict(tmodel, vbad2ref[290, :])"
   ]
  },
  {
   "cell_type": "code",
   "execution_count": 81,
   "metadata": {},
   "outputs": [],
   "source": [
    "cmat = contrib.reshape((-1, 2))\n",
    "import_bad = np.argsort(cmat[:, 0])[::-1]\n",
    "import_good = np.argsort(cmat[:, 1])[::-1]"
   ]
  },
  {
   "cell_type": "code",
   "execution_count": 82,
   "metadata": {},
   "outputs": [
    {
     "name": "stdout",
     "output_type": "stream",
     "text": [
      "[1299  902  575  935  477]\n"
     ]
    }
   ],
   "source": [
    "print(import_bad[:5])"
   ]
  },
  {
   "cell_type": "code",
   "execution_count": 84,
   "metadata": {},
   "outputs": [
    {
     "name": "stdout",
     "output_type": "stream",
     "text": [
      "[1166  744 1073  245 1132]\n"
     ]
    }
   ],
   "source": [
    "# original: [1141  821 2810 2357 1929]\n",
    "# mine: [1166  744 1073  245 1132]\n",
    "print(import_good[:5])"
   ]
  },
  {
   "cell_type": "code",
   "execution_count": 86,
   "metadata": {},
   "outputs": [
    {
     "ename": "IndexError",
     "evalue": "single positional indexer is out-of-bounds",
     "output_type": "error",
     "traceback": [
      "\u001b[0;31m---------------------------------------------------------------------------\u001b[0m",
      "\u001b[0;31mIndexError\u001b[0m                                Traceback (most recent call last)",
      "\u001b[0;32m/var/folders/ms/0t06g66d4cncxmtwvsxtqjh40000gn/T/ipykernel_16501/63772944.py\u001b[0m in \u001b[0;36m<module>\u001b[0;34m\u001b[0m\n\u001b[1;32m      2\u001b[0m \u001b[0;31m# I don't know why\u001b[0m\u001b[0;34m\u001b[0m\u001b[0;34m\u001b[0m\u001b[0m\n\u001b[1;32m      3\u001b[0m \u001b[0;31m# and I'm not going to try to figure out why\u001b[0m\u001b[0;34m\u001b[0m\u001b[0;34m\u001b[0m\u001b[0m\n\u001b[0;32m----> 4\u001b[0;31m \u001b[0mhas_vax\u001b[0m\u001b[0;34m.\u001b[0m\u001b[0miloc\u001b[0m\u001b[0;34m[\u001b[0m\u001b[0;36m2810\u001b[0m\u001b[0;34m]\u001b[0m\u001b[0;34m.\u001b[0m\u001b[0mabstract\u001b[0m\u001b[0;34m\u001b[0m\u001b[0;34m\u001b[0m\u001b[0m\n\u001b[0m",
      "\u001b[0;32m~/opt/anaconda3/lib/python3.9/site-packages/pandas/core/indexing.py\u001b[0m in \u001b[0;36m__getitem__\u001b[0;34m(self, key)\u001b[0m\n\u001b[1;32m    929\u001b[0m \u001b[0;34m\u001b[0m\u001b[0m\n\u001b[1;32m    930\u001b[0m             \u001b[0mmaybe_callable\u001b[0m \u001b[0;34m=\u001b[0m \u001b[0mcom\u001b[0m\u001b[0;34m.\u001b[0m\u001b[0mapply_if_callable\u001b[0m\u001b[0;34m(\u001b[0m\u001b[0mkey\u001b[0m\u001b[0;34m,\u001b[0m \u001b[0mself\u001b[0m\u001b[0;34m.\u001b[0m\u001b[0mobj\u001b[0m\u001b[0;34m)\u001b[0m\u001b[0;34m\u001b[0m\u001b[0;34m\u001b[0m\u001b[0m\n\u001b[0;32m--> 931\u001b[0;31m             \u001b[0;32mreturn\u001b[0m \u001b[0mself\u001b[0m\u001b[0;34m.\u001b[0m\u001b[0m_getitem_axis\u001b[0m\u001b[0;34m(\u001b[0m\u001b[0mmaybe_callable\u001b[0m\u001b[0;34m,\u001b[0m \u001b[0maxis\u001b[0m\u001b[0;34m=\u001b[0m\u001b[0maxis\u001b[0m\u001b[0;34m)\u001b[0m\u001b[0;34m\u001b[0m\u001b[0;34m\u001b[0m\u001b[0m\n\u001b[0m\u001b[1;32m    932\u001b[0m \u001b[0;34m\u001b[0m\u001b[0m\n\u001b[1;32m    933\u001b[0m     \u001b[0;32mdef\u001b[0m \u001b[0m_is_scalar_access\u001b[0m\u001b[0;34m(\u001b[0m\u001b[0mself\u001b[0m\u001b[0;34m,\u001b[0m \u001b[0mkey\u001b[0m\u001b[0;34m:\u001b[0m \u001b[0mtuple\u001b[0m\u001b[0;34m)\u001b[0m\u001b[0;34m:\u001b[0m\u001b[0;34m\u001b[0m\u001b[0;34m\u001b[0m\u001b[0m\n",
      "\u001b[0;32m~/opt/anaconda3/lib/python3.9/site-packages/pandas/core/indexing.py\u001b[0m in \u001b[0;36m_getitem_axis\u001b[0;34m(self, key, axis)\u001b[0m\n\u001b[1;32m   1564\u001b[0m \u001b[0;34m\u001b[0m\u001b[0m\n\u001b[1;32m   1565\u001b[0m             \u001b[0;31m# validate the location\u001b[0m\u001b[0;34m\u001b[0m\u001b[0;34m\u001b[0m\u001b[0m\n\u001b[0;32m-> 1566\u001b[0;31m             \u001b[0mself\u001b[0m\u001b[0;34m.\u001b[0m\u001b[0m_validate_integer\u001b[0m\u001b[0;34m(\u001b[0m\u001b[0mkey\u001b[0m\u001b[0;34m,\u001b[0m \u001b[0maxis\u001b[0m\u001b[0;34m)\u001b[0m\u001b[0;34m\u001b[0m\u001b[0;34m\u001b[0m\u001b[0m\n\u001b[0m\u001b[1;32m   1567\u001b[0m \u001b[0;34m\u001b[0m\u001b[0m\n\u001b[1;32m   1568\u001b[0m             \u001b[0;32mreturn\u001b[0m \u001b[0mself\u001b[0m\u001b[0;34m.\u001b[0m\u001b[0mobj\u001b[0m\u001b[0;34m.\u001b[0m\u001b[0m_ixs\u001b[0m\u001b[0;34m(\u001b[0m\u001b[0mkey\u001b[0m\u001b[0;34m,\u001b[0m \u001b[0maxis\u001b[0m\u001b[0;34m=\u001b[0m\u001b[0maxis\u001b[0m\u001b[0;34m)\u001b[0m\u001b[0;34m\u001b[0m\u001b[0;34m\u001b[0m\u001b[0m\n",
      "\u001b[0;32m~/opt/anaconda3/lib/python3.9/site-packages/pandas/core/indexing.py\u001b[0m in \u001b[0;36m_validate_integer\u001b[0;34m(self, key, axis)\u001b[0m\n\u001b[1;32m   1498\u001b[0m         \u001b[0mlen_axis\u001b[0m \u001b[0;34m=\u001b[0m \u001b[0mlen\u001b[0m\u001b[0;34m(\u001b[0m\u001b[0mself\u001b[0m\u001b[0;34m.\u001b[0m\u001b[0mobj\u001b[0m\u001b[0;34m.\u001b[0m\u001b[0m_get_axis\u001b[0m\u001b[0;34m(\u001b[0m\u001b[0maxis\u001b[0m\u001b[0;34m)\u001b[0m\u001b[0;34m)\u001b[0m\u001b[0;34m\u001b[0m\u001b[0;34m\u001b[0m\u001b[0m\n\u001b[1;32m   1499\u001b[0m         \u001b[0;32mif\u001b[0m \u001b[0mkey\u001b[0m \u001b[0;34m>=\u001b[0m \u001b[0mlen_axis\u001b[0m \u001b[0;32mor\u001b[0m \u001b[0mkey\u001b[0m \u001b[0;34m<\u001b[0m \u001b[0;34m-\u001b[0m\u001b[0mlen_axis\u001b[0m\u001b[0;34m:\u001b[0m\u001b[0;34m\u001b[0m\u001b[0;34m\u001b[0m\u001b[0m\n\u001b[0;32m-> 1500\u001b[0;31m             \u001b[0;32mraise\u001b[0m \u001b[0mIndexError\u001b[0m\u001b[0;34m(\u001b[0m\u001b[0;34m\"single positional indexer is out-of-bounds\"\u001b[0m\u001b[0;34m)\u001b[0m\u001b[0;34m\u001b[0m\u001b[0;34m\u001b[0m\u001b[0m\n\u001b[0m\u001b[1;32m   1501\u001b[0m \u001b[0;34m\u001b[0m\u001b[0m\n\u001b[1;32m   1502\u001b[0m     \u001b[0;31m# -------------------------------------------------------------------\u001b[0m\u001b[0;34m\u001b[0m\u001b[0;34m\u001b[0m\u001b[0m\n",
      "\u001b[0;31mIndexError\u001b[0m: single positional indexer is out-of-bounds"
     ]
    }
   ],
   "source": [
    "# this doesn't work\n",
    "# I don't know why\n",
    "# and I'm not going to try to figure out why\n",
    "has_vax.iloc[2810].abstract"
   ]
  },
  {
   "cell_type": "code",
   "execution_count": 87,
   "metadata": {},
   "outputs": [
    {
     "name": "stdout",
     "output_type": "stream",
     "text": [
      "doc0 [-0.00059915  0.00059915] -0.0011983001306000384\n",
      "doc1 [-0.00020173  0.00020173] -0.00040345313601127485\n",
      "doc2 [-0.00026348  0.00026348] -0.0005269665150618747\n",
      "doc3 [-0.00011691  0.00011691] -0.00023382849773185738\n",
      "doc4 [ 0.00013405 -0.00013405] 0.00026809269162210333\n",
      "doc6 [-0.00050236  0.00050236] -0.0010047282552870115\n",
      "doc7 [-0.00030725  0.00030725] -0.0006144903464860804\n",
      "doc8 [-0.00029211  0.00029211] -0.0005842254363993497\n",
      "doc9 [ 0.00032696 -0.00032696] 0.0006539198278522752\n",
      "doc10 [-0.00017239  0.00017239] -0.00034478974076105343\n",
      "doc11 [ 7.7358525e-05 -7.7358525e-05] 0.0001547170499357669\n",
      "doc12 [-0.00078144  0.00078144] -0.001562883469261043\n",
      "doc13 [ 0.0006663 -0.0006663] 0.0013325994643324371\n",
      "doc14 [ 0.00258492 -0.00258492] 0.005169834979817087\n",
      "doc15 [-0.00051341  0.00051341] -0.0010268248443567637\n",
      "doc16 [-0.00055449  0.00055449] -0.0011089894833653533\n",
      "doc17 [-0.00032726  0.00032726] -0.0006545107435590937\n",
      "doc18 [-0.00071608  0.00071608] -0.0014321522561454155\n",
      "doc19 [-0.00076866  0.00076866] -0.001537324786072875\n",
      "doc20 [ 0.00065843 -0.00065843] 0.0013168621303201095\n",
      "doc21 [ 0.00069802 -0.00069802] 0.0013960374054945704\n",
      "doc22 [ 0.00197231 -0.00197231] 0.0039446191160808445\n",
      "doc23 [ 0.00026831 -0.00026831] 0.0005366139078040699\n",
      "doc24 [-3.72562591e-05  3.72562591e-05] -7.451251819852496e-05\n",
      "doc25 [-0.00029058  0.00029058] -0.0005811665366152926\n",
      "doc26 [-0.00034067  0.00034067] -0.0006813419482834097\n",
      "doc27 [ 0.00010734 -0.00010734] 0.00021468248438473548\n",
      "doc28 [-0.00075586  0.00075586] -0.0015117103185344652\n",
      "doc29 [-0.00010193  0.00010193] -0.0002038540979221688\n",
      "doc32 [-0.00103029  0.00103029] -0.0020605827666106058\n",
      "doc33 [ 7.65185958e-06 -7.65185958e-06] 1.5303719164908183e-05\n",
      "doc34 [-5.8501292e-05  5.8501292e-05] -0.00011700258397932806\n",
      "doc35 [-0.00079529  0.00079529] -0.0015905815907386375\n",
      "doc36 [ 0.00137643 -0.00137643] 0.002752851572556732\n",
      "doc37 [ 8.98520098e-05 -8.98520098e-05] 0.00017970401956640594\n",
      "doc38 [ 0.00021034 -0.00021034] 0.00042068518078822875\n",
      "doc39 [-0.00226265  0.00226265] -0.004525296339819573\n",
      "doc41 [-0.00257578  0.00257578] -0.005151564512959917\n",
      "doc42 [ 0.00420779 -0.00420779] 0.008415573274100245\n",
      "doc43 [ 0.00031414 -0.00031414] 0.0006282845993216971\n",
      "doc44 [ 0.00070252 -0.00070252] 0.0014050435708756071\n",
      "doc45 [ 0.00016816 -0.00016816] 0.00033632237391240636\n",
      "doc46 [ 0.00021193 -0.00021193] 0.0004238688595255059\n",
      "doc47 [-0.00220966  0.00220966] -0.00441932740926655\n",
      "doc48 [ 0.00073716 -0.00073716] 0.0014743119489180863\n",
      "doc49 [ 0.00123674 -0.00123674] 0.0024734791928057017\n",
      "doc50 [ 0.00041223 -0.00041223] 0.0008244667065807638\n",
      "doc51 [-4.83363958e-05  4.83363958e-05] -9.667279163082067e-05\n",
      "doc52 [ 0.00064255 -0.00064255] 0.0012850968852561274\n",
      "doc53 [ 0.00100635 -0.00100635] 0.002012698412698412\n",
      "doc54 [-0.00110174  0.00110174] -0.0022034896140740935\n",
      "doc55 [ 0.00052483 -0.00052483] 0.0010496618090433739\n",
      "doc56 [ 0.00036981 -0.00036981] 0.000739615006888374\n",
      "doc57 [-5.19628915e-05  5.19628915e-05] -0.00010392578297934493\n",
      "doc58 [-0.00036575  0.00036575] -0.0007314975664696964\n",
      "doc59 [ 0.00042047 -0.00042047] 0.0008409344444368187\n",
      "doc60 [ 0.00093174 -0.00093174] 0.0018634721618840078\n",
      "doc61 [ 0.00104416 -0.00104416] 0.0020883188914985655\n",
      "doc62 [-0.0008481  0.0008481] -0.001696207682999347\n",
      "doc63 [ 0.00146004 -0.00146004] 0.002920080150707013\n",
      "doc64 [-0.00010925  0.00010925] -0.00021849722214166157\n",
      "doc65 [-0.00031394  0.00031394] -0.0006278768343091803\n",
      "doc66 [-0.00035245  0.00035245] -0.0007049078147460343\n",
      "doc67 [-0.00221  0.00221] -0.004420002408763657\n",
      "doc68 [-0.00114887  0.00114887] -0.002297748821209733\n",
      "doc69 [ 0.00010963 -0.00010963] 0.00021926869801592008\n",
      "doc70 [ 8.75791261e-05 -8.75791261e-05] 0.00017515825229452288\n",
      "doc71 [ 0.00016354 -0.00016354] 0.0003270788353697506\n",
      "doc72 [-0.00038589  0.00038589] -0.0007717833121508812\n",
      "doc73 [-0.00154239  0.00154239] -0.003084789524991371\n",
      "doc74 [-0.00013243  0.00013243] -0.00026485987064983033\n",
      "doc75 [-0.00114597  0.00114597] -0.0022919308654284166\n",
      "doc76 [-0.00029379  0.00029379] -0.0005875871751787214\n",
      "doc77 [-4.36807387e-06  4.36807387e-06] -8.73614773591268e-06\n",
      "doc78 [-0.00158887  0.00158887] -0.003177745920745924\n",
      "doc79 [-2.40213337e-05  2.40213337e-05] -4.8042667400143775e-05\n",
      "doc80 [ 0.00159509 -0.00159509] 0.003190184030835009\n",
      "doc81 [-3.44207736e-05  3.44207736e-05] -6.884154726080624e-05\n",
      "doc82 [ 2.60609101e-05 -2.60609101e-05] 5.212182023532668e-05\n",
      "doc83 [ 4.16666667e-05 -4.16666667e-05] 8.333333333333353e-05\n",
      "doc84 [ 0.00096935 -0.00096935] 0.0019387035743897267\n",
      "doc85 [ 0.00298169 -0.00298169] 0.005963382247796542\n",
      "doc86 [ 0.00193992 -0.00193992] 0.003879840254210287\n",
      "doc87 [ 0.00291705 -0.00291705] 0.0058341037377396075\n",
      "doc88 [ 0.0001953 -0.0001953] 0.00039059072511933124\n",
      "doc89 [ 8.80347472e-05 -8.80347472e-05] 0.00017606949432333096\n",
      "doc90 [ 0.00095232 -0.00095232] 0.0019046366286029764\n",
      "doc91 [ 0.00046438 -0.00046438] 0.0009287629609355803\n",
      "doc92 [ 0.00025819 -0.00025819] 0.0005163871923655732\n",
      "doc93 [-6.92861617e-05  6.92861617e-05] -0.00013857232338883137\n",
      "doc94 [-0.00014066  0.00014066] -0.00028132964408772855\n",
      "doc95 [-0.00021011  0.00021011] -0.00042022653835753975\n",
      "doc96 [-0.00045752  0.00045752] -0.0009150377077205003\n",
      "doc97 [ 5.93072143e-07 -5.93072143e-07] 1.1861442869367205e-06\n",
      "doc98 [ 0.00238406 -0.00238406] 0.004768119945012923\n",
      "doc99 [ 0.00052805 -0.00052805] 0.0010560946091304228\n",
      "doc100 [-1.41434962e-05  1.41434962e-05] -2.828699244741763e-05\n",
      "doc102 [-0.00040781  0.00040781] -0.0008156213126577854\n",
      "doc103 [-4.16281221e-05  4.16281221e-05] -8.325624421831639e-05\n",
      "doc104 [-0.00020645  0.00020645] -0.0004129055020233906\n",
      "doc105 [-0.00098287  0.00098287] -0.0019657367849190326\n",
      "doc106 [ 8.58398595e-06 -8.58398595e-06] 1.7167971890054784e-05\n",
      "doc107 [-3.45789729e-06  3.45789729e-06] -6.915794574279163e-06\n",
      "doc108 [-0.00032292  0.00032292] -0.0006458319811726019\n",
      "doc109 [ 0.00186356 -0.00186356] 0.003727126993289299\n",
      "doc110 [ 0.00148262 -0.00148262] 0.0029652402407129757\n",
      "doc111 [-0.00025608  0.00025608] -0.0005121549938712608\n",
      "doc112 [-0.0001025  0.0001025] -0.00020499263309401006\n",
      "doc114 [ 0.0004261 -0.0004261] 0.0008522098132252287\n",
      "doc115 [-0.00058366  0.00058366] -0.0011673138991319595\n",
      "doc116 [-2.43035599e-05  2.43035599e-05] -4.860711981701971e-05\n",
      "doc117 [-7.641623e-05  7.641623e-05] -0.00015283246000582525\n",
      "doc118 [ 0.00050527 -0.00050527] 0.00101053745517794\n",
      "doc119 [ 0.00109624 -0.00109624] 0.0021924763545316758\n",
      "doc120 [ 0.00274207 -0.00274207] 0.005484146946982835\n",
      "doc121 [ 0.00097658 -0.00097658] 0.0019531554765893737\n",
      "doc122 [ 0.00046304 -0.00046304] 0.0009260794072421975\n",
      "doc123 [-0.00018409  0.00018409] -0.000368189894545762\n",
      "doc124 [-0.00017633  0.00017633] -0.00035266410738108887\n",
      "doc125 [-0.00070268  0.00070268] -0.00140536782088722\n",
      "doc126 [ 0.00025189 -0.00025189] 0.0005037852545009368\n",
      "doc127 [ 0.00022205 -0.00022205] 0.0004441057846871136\n",
      "doc128 [ 0.00050708 -0.00050708] 0.001014154668610655\n",
      "doc129 [-0.00027718  0.00027718] -0.0005543577794880595\n",
      "doc131 [-0.00042083  0.00042083] -0.0008416559965855738\n",
      "doc132 [-0.00029123  0.00029123] -0.0005824685440685261\n",
      "doc133 [-0.00013725  0.00013725] -0.0002745034319953229\n",
      "doc134 [-0.00055944  0.00055944] -0.0011188769030935851\n",
      "doc135 [-0.00152941  0.00152941] -0.0030588183477580576\n",
      "doc136 [-0.00024244  0.00024244] -0.000484871503137424\n",
      "doc137 [-0.00248874  0.00248874] -0.004977471580118166\n",
      "doc138 [ 0.00122069 -0.00122069] 0.0024413808899477435\n",
      "doc139 [-0.00053304  0.00053304] -0.0010660826595262397\n",
      "doc140 [-8.97029638e-05  8.97029638e-05] -0.00017940592766679716\n",
      "doc141 [ 9.55839825e-05 -9.55839825e-05] 0.00019116796502606715\n",
      "doc142 [-0.00049959  0.00049959] -0.0009991750927251489\n",
      "doc143 [ 3.62165003e-05 -3.62165003e-05] 7.243300059816266e-05\n",
      "doc144 [ 0.00037296 -0.00037296] 0.0007459133093894485\n",
      "doc145 [ 0.00015428 -0.00015428] 0.0003085595765410149\n",
      "doc146 [-9.70873786e-06  9.70873786e-06] -1.941747572815533e-05\n",
      "doc147 [ 2.41047954e-05 -2.41047954e-05] 4.820959077072037e-05\n",
      "doc148 [ 0.00021771 -0.00021771] 0.0004354276641845697\n",
      "doc149 [ 0.00095244 -0.00095244] 0.0019048707688598212\n",
      "doc150 [-0.00027451  0.00027451] -0.0005490195066726606\n",
      "doc151 [-0.00026371  0.00026371] -0.0005274263411427045\n",
      "doc152 [ 0.00028691 -0.00028691] 0.000573827117803059\n",
      "doc153 [-4.55583785e-05  4.55583785e-05] -9.111675704169309e-05\n",
      "doc154 [-4.51219512e-05  4.51219512e-05] -9.024390243902442e-05\n",
      "doc155 [-0.00012677  0.00012677] -0.00025353713121154984\n",
      "doc156 [-6.56174759e-06  6.56174759e-06] -1.3123495183136743e-05\n",
      "doc157 [ 0.00103983 -0.00103983] 0.0020796548250354547\n",
      "doc158 [ 0.00079178 -0.00079178] 0.0015835664644701852\n",
      "doc160 [-0.00020798  0.00020798] -0.00041596734871770374\n",
      "doc161 [-0.00025882  0.00025882] -0.0005176371728503643\n",
      "doc162 [-0.00029338  0.00029338] -0.0005867536409726486\n",
      "doc163 [ 0.00524512 -0.00524512] 0.010490249726828172\n",
      "doc164 [-0.00034559  0.00034559] -0.0006911752299058557\n",
      "doc165 [-0.00022909  0.00022909] -0.0004581818181818179\n",
      "doc166 [-0.00022179  0.00022179] -0.00044358734010577634\n",
      "doc167 [-0.00015862  0.00015862] -0.0003172445478567913\n",
      "doc168 [-0.00044971  0.00044971] -0.000899421463876729\n",
      "doc169 [-0.00141837  0.00141837] -0.0028367384191976663\n",
      "doc170 [ 0.00054346 -0.00054346] 0.0010869258769238977\n",
      "doc171 [-7.01910371e-05  7.01910371e-05] -0.00014038207422316872\n",
      "doc172 [ 0.00033316 -0.00033316] 0.0006663220953523989\n",
      "doc173 [-0.00023199  0.00023199] -0.00046397306397306546\n",
      "doc174 [-0.00012473  0.00012473] -0.00024946243342849166\n",
      "doc175 [ 0.00181483 -0.00181483] 0.0036296556536514436\n",
      "doc176 [ 8.32699999e-05 -8.32699999e-05] 0.00016653999987816968\n",
      "doc177 [-0.00010147  0.00010147] -0.0002029425810714448\n",
      "doc178 [ 0.0007685 -0.0007685] 0.0015369963369963344\n",
      "doc179 [-0.00020812  0.00020812] -0.00041623881550065993\n",
      "doc180 [ 0.00104615 -0.00104615] 0.0020923076923076915\n",
      "doc181 [ 0.00018317 -0.00018317] 0.0003663310593539621\n",
      "doc182 [ 0.0001235 -0.0001235] 0.0002470078792922893\n",
      "doc183 [-7.25993119e-05  7.25993119e-05] -0.00014519862370036384\n",
      "doc184 [-0.00044324  0.00044324] -0.0008864724164183914\n",
      "doc185 [-0.00042157  0.00042157] -0.0008431396111944012\n",
      "doc186 [ 0.00049128 -0.00049128] 0.0009825641253247768\n",
      "doc187 [-0.00024114  0.00024114] -0.00048227727221660535\n",
      "doc188 [ 5.19194797e-05 -5.19194797e-05] 0.00010383895947818854\n",
      "doc189 [ 0.00087458 -0.00087458] 0.0017491571036116987\n",
      "doc190 [ 0.00135472 -0.00135472] 0.0027094491734469322\n",
      "doc192 [ 0.00042605 -0.00042605] 0.000852109592116725\n",
      "doc193 [-0.00032644  0.00032644] -0.0006528759281146069\n",
      "doc194 [-0.00037047  0.00037047] -0.0007409342043853515\n",
      "doc195 [-0.00083732  0.00083732] -0.0016746309615408113\n",
      "doc196 [-6.54655136e-05  6.54655136e-05] -0.00013093102713804586\n",
      "doc197 [-0.00018186  0.00018186] -0.00036372151483948236\n",
      "doc198 [-0.00021044  0.00021044] -0.000420876779992334\n",
      "doc199 [ 0.00011765 -0.00011765] 0.00023529411764705886\n",
      "doc200 [ 0.00069277 -0.00069277] 0.0013855304546754371\n",
      "doc201 [-7.17577354e-05  7.17577354e-05] -0.00014351547070441082\n",
      "doc202 [-0.00010094  0.00010094] -0.00020188097054532985\n",
      "doc203 [ 0.00076863 -0.00076863] 0.001537269411294155\n",
      "doc204 [ 0.00019103 -0.00019103] 0.00038206457253481534\n",
      "doc205 [-0.00043619  0.00043619] -0.0008723752887095533\n",
      "doc206 [-1.93939394e-05  1.93939394e-05] -3.87878787878789e-05\n",
      "doc207 [-0.00018678  0.00018678] -0.0003735525377957463\n",
      "doc208 [ 9.79580673e-05 -9.79580673e-05] 0.0001959161346171252\n",
      "doc209 [ 0.0003299 -0.0003299] 0.0006597928412309046\n",
      "doc210 [-0.00056252  0.00056252] -0.0011250494933906655\n",
      "doc211 [-0.00019989  0.00019989] -0.0003997845926539144\n",
      "doc212 [ 0.00061772 -0.00061772] 0.0012354312354312341\n",
      "doc213 [-0.00041623  0.00041623] -0.0008324691117523932\n",
      "doc214 [-4.90756303e-05  4.90756303e-05] -9.81512605042015e-05\n",
      "doc215 [ 0.00208146 -0.00208146] 0.004162928932155066\n",
      "doc216 [ 0.00172283 -0.00172283] 0.0034456519154118133\n",
      "doc217 [-7.47126437e-05  7.47126437e-05] -0.0001494252873563218\n",
      "doc218 [-0.00010052  0.00010052] -0.0002010477414253238\n",
      "doc219 [ 0.00079458 -0.00079458] 0.0015891510589730702\n",
      "doc220 [ 0.00029776 -0.00029776] 0.0005955116428025011\n",
      "doc221 [-0.00153613  0.00153613] -0.0030722666453598998\n",
      "doc222 [ 0.00035065 -0.00035065] 0.0007013077593722758\n",
      "doc223 [-0.00076923  0.00076923] -0.0015384615384615398\n",
      "doc225 [ 0.00058556 -0.00058556] 0.0011711125569290825\n",
      "doc226 [-0.00210321  0.00210321] -0.004206411971546542\n",
      "doc227 [ 0.00054658 -0.00054658] 0.0010931622728109394\n",
      "doc228 [-0.00028014  0.00028014] -0.0005602732532223561\n",
      "doc229 [ 0.00124172 -0.00124172] 0.002483442178825434\n",
      "doc230 [ 0.00048219 -0.00048219] 0.0009643899340596038\n",
      "doc231 [ 0.00054604 -0.00054604] 0.0010920847317448185\n",
      "doc232 [ 0.00060375 -0.00060375] 0.001207499248535417\n",
      "doc233 [ 0.00028488 -0.00028488] 0.000569767441860466\n",
      "doc234 [-0.00024297  0.00024297] -0.00048594937633948763\n",
      "doc236 [ 0.00041403 -0.00041403] 0.0008280559679352238\n",
      "doc237 [ 0.00043979 -0.00043979] 0.0008795840382302207\n",
      "doc238 [-1.8989899e-05  1.8989899e-05] -3.797979797979813e-05\n",
      "doc239 [ 0.00234076 -0.00234076] 0.004681522420398598\n",
      "doc240 [ 0.00057599 -0.00057599] 0.001151979550753524\n",
      "doc241 [-0.00072572  0.00072572] -0.0014514344961545534\n",
      "doc242 [-0.00152189  0.00152189] -0.0030437793959559585\n",
      "doc243 [ 0.0006386 -0.0006386] 0.0012771997895142822\n",
      "doc244 [ 0.00028695 -0.00028695] 0.0005739022881880022\n",
      "doc245 [-0.00335541  0.00335541] -0.00671082253147115\n",
      "doc246 [-0.0002702  0.0002702] -0.0005404058448753922\n",
      "doc247 [-6.2130015e-05  6.2130015e-05] -0.00012426003008431807\n",
      "doc248 [-0.00041052  0.00041052] -0.0008210414360183232\n",
      "doc249 [ 0.00245978 -0.00245978] 0.004919568791688072\n",
      "doc251 [-0.00098699  0.00098699] -0.0019739787861595202\n",
      "doc252 [ 0.00114902 -0.00114902] 0.00229804300714741\n",
      "doc253 [-0.00058157  0.00058157] -0.001163144234334445\n",
      "doc254 [ 0.00013596 -0.00013596] 0.00027192730639446377\n",
      "doc255 [ 8.99744346e-05 -8.99744346e-05] 0.0001799488692008215\n",
      "doc256 [-0.00044039  0.00044039] -0.000880784992557721\n",
      "doc257 [-0.00123293  0.00123293] -0.0024658522465166068\n",
      "doc258 [ 0.00152503 -0.00152503] 0.0030500568621044926\n",
      "doc259 [-0.00028851  0.00028851] -0.000577023294600602\n",
      "doc260 [ 0.00217823 -0.00217823] 0.004356452158328984\n",
      "doc261 [ 0.00052621 -0.00052621] 0.0010524122485264865\n",
      "doc262 [ 0.00110342 -0.00110342] 0.002206837769655265\n",
      "doc263 [ 0.00031098 -0.00031098] 0.000621954648335521\n",
      "doc264 [ 0.00182934 -0.00182934] 0.003658688139438275\n",
      "doc265 [-0.0015372  0.0015372] -0.0030744011244363337\n",
      "doc266 [-0.00069321  0.00069321] -0.0013864106264124768\n",
      "doc267 [ 0.00113349 -0.00113349] 0.0022669833416261286\n",
      "doc268 [-7.05487095e-05  7.05487095e-05] -0.00014109741897707967\n",
      "doc269 [ 0.00201765 -0.00201765] 0.0040352922753982634\n",
      "doc270 [-8.70980815e-05  8.70980815e-05] -0.00017419616301656558\n",
      "doc271 [ 0.00021609 -0.00021609] 0.00043217924530828105\n",
      "doc272 [ 0.00013846 -0.00013846] 0.0002769118252045526\n",
      "doc273 [-0.00142018  0.00142018] -0.00284036914595216\n",
      "doc274 [ 0.00010821 -0.00010821] 0.00021642890923068874\n",
      "doc275 [ 0.00024833 -0.00024833] 0.0004966572945954384\n",
      "doc276 [ 0.00047379 -0.00047379] 0.0009475792975643451\n",
      "doc277 [ 0.00092086 -0.00092086] 0.001841723829065499\n",
      "doc278 [-0.00095385  0.00095385] -0.0019076923076923092\n",
      "doc279 [ 0.00369544 -0.00369544] 0.007390878102950941\n",
      "doc280 [-0.00015985  0.00015985] -0.0003196983151989972\n",
      "doc281 [ 5.53053527e-05 -5.53053527e-05] 0.00011061070536210657\n",
      "doc282 [ 4.07801418e-05 -4.07801418e-05] 8.156028368794317e-05\n",
      "doc283 [-7.99200799e-05  7.99200799e-05] -0.00015984015984015979\n",
      "doc284 [-1.36841828e-05  1.36841828e-05] -2.7368365544335205e-05\n",
      "doc285 [-0.00187623  0.00187623] -0.0037524697360885656\n",
      "doc286 [ 0.00076253 -0.00076253] 0.00152506130503814\n",
      "doc287 [ 0.00107857 -0.00107857] 0.0021571387291812335\n",
      "doc288 [ 0.00032857 -0.00032857] 0.0006571428571428564\n",
      "doc289 [ 0.00165658 -0.00165658] 0.0033131539337736956\n",
      "doc290 [ 0.00190016 -0.00190016] 0.0038003124442000163\n",
      "doc291 [-0.0005705  0.0005705] -0.0011409905793142135\n",
      "doc292 [ 0.00016453 -0.00016453] 0.0003290648837836197\n",
      "doc293 [ 0.00046685 -0.00046685] 0.0009337040506697777\n",
      "doc294 [-0.00279833  0.00279833] -0.0055966674466299635\n",
      "doc295 [-0.00015574  0.00015574] -0.0003114882253106381\n",
      "doc296 [-8.12412831e-06  8.12412831e-06] -1.6248256624825778e-05\n",
      "doc297 [ 0.00037964 -0.00037964] 0.0007592787409972259\n",
      "doc298 [ 0.00053029 -0.00053029] 0.001060583423553794\n",
      "doc299 [-4.73480405e-05  4.73480405e-05] -9.469608092951441e-05\n",
      "doc300 [ 0.00042882 -0.00042882] 0.0008576417520862883\n",
      "doc301 [ 0.00024708 -0.00024708] 0.0004941695346941698\n",
      "doc302 [ 0.00015902 -0.00015902] 0.0003180394030141006\n",
      "doc303 [ 0.00018742 -0.00018742] 0.000374840818184878\n",
      "doc304 [ 0.00017163 -0.00017163] 0.0003432645380280466\n",
      "doc305 [-8.46287901e-06  8.46287901e-06] -1.6925758013568002e-05\n",
      "doc306 [-0.0002876  0.0002876] -0.0005752030719028909\n",
      "doc307 [-0.00135615  0.00135615] -0.0027123024923173212\n",
      "doc308 [ 0.00020976 -0.00020976] 0.0004195145182931939\n",
      "doc309 [ 0.00097943 -0.00097943] 0.0019588503750349712\n",
      "doc310 [-0.00023912  0.00023912] -0.00047823353152957643\n",
      "doc311 [-0.00091817  0.00091817] -0.0018363301752790085\n",
      "doc312 [-0.00013536  0.00013536] -0.0002707287426503842\n",
      "doc313 [ 0.00015836 -0.00015836] 0.0003167134652761368\n",
      "doc314 [-0.00041733  0.00041733] -0.0008346672988322819\n",
      "doc315 [ 0.00017937 -0.00017937] 0.0003587422468122432\n",
      "doc316 [-0.0007484  0.0007484] -0.0014968007589366808\n",
      "doc317 [-0.00022279  0.00022279] -0.00044558626025957375\n",
      "doc318 [-0.00048557  0.00048557] -0.0009711490597611716\n",
      "doc319 [-0.00037193  0.00037193] -0.0007438571426586955\n",
      "doc320 [-0.00048837  0.00048837] -0.0009767378135661477\n",
      "doc321 [ 0.0001772 -0.0001772] 0.0003543930449076243\n",
      "doc322 [ 0.00334811 -0.00334811] 0.006696210020681626\n",
      "doc323 [-0.0020015  0.0020015] -0.004002998485750376\n",
      "doc324 [-0.00054847  0.00054847] -0.0010969348008327568\n",
      "doc325 [-0.00081988  0.00081988] -0.0016397613352472375\n",
      "doc326 [ 0.00049785 -0.00049785] 0.0009957081427834705\n",
      "doc327 [-2.81690141e-05  2.81690141e-05] -5.633802816901406e-05\n",
      "doc328 [ 0.00297991 -0.00297991] 0.005959810850531579\n",
      "doc329 [ 0.00044196 -0.00044196] 0.0008839141852526467\n",
      "doc330 [ 0.00025351 -0.00025351] 0.0005070115475302797\n",
      "doc332 [-0.0002957  0.0002957] -0.0005913988161044616\n",
      "doc333 [ 0.00020576 -0.00020576] 0.00041151847551308386\n",
      "doc334 [ 0.0022473 -0.0022473] 0.0044945942785230356\n",
      "doc335 [-0.00021063  0.00021063] -0.000421261347135608\n",
      "doc336 [ 0.00012882 -0.00012882] 0.0002576331026468158\n",
      "doc337 [ 0.00035028 -0.00035028] 0.0007005600043978194\n",
      "doc338 [-0.00164946  0.00164946] -0.0032989267073648414\n",
      "doc339 [ 0.00028539 -0.00028539] 0.000570772511071018\n",
      "doc340 [-0.00057761  0.00057761] -0.001155215866127361\n",
      "doc341 [-0.00025586  0.00025586] -0.000511724691036852\n",
      "doc342 [ 0.00017018 -0.00017018] 0.00034036568213783425\n",
      "doc343 [ 0.00020964 -0.00020964] 0.00041927825261158674\n",
      "doc344 [ 6.64800192e-05 -6.64800192e-05] 0.00013296003833851428\n",
      "doc345 [ 0.0002501 -0.0002501] 0.0005001906287083959\n",
      "doc346 [-0.00133125  0.00133125] -0.0026624907061469243\n",
      "doc347 [ 0.00052134 -0.00052134] 0.001042674890679524\n",
      "doc348 [ 0.00082964 -0.00082964] 0.001659285760207171\n",
      "doc349 [-1.73750889e-05  1.73750889e-05] -3.47501778369068e-05\n",
      "doc350 [ 0.0003173 -0.0003173] 0.0006345957222159521\n",
      "doc351 [-0.00022984  0.00022984] -0.00045968124192992746\n",
      "doc352 [-0.00019274  0.00019274] -0.0003854875074267834\n",
      "doc353 [-2.17192788e-05  2.17192788e-05] -4.3438557634904107e-05\n",
      "doc354 [-8.93181886e-05  8.93181886e-05] -0.00017863637729199395\n",
      "doc355 [-0.0001  0.0001] -0.0002000000000000001\n",
      "doc356 [ 0.00035809 -0.00035809] 0.0007161716157857869\n",
      "doc357 [ 0.00096691 -0.00096691] 0.0019338222773493889\n",
      "doc358 [ 0.00016243 -0.00016243] 0.0003248548560865664\n",
      "doc359 [-0.00012479  0.00012479] -0.00024957300622447423\n",
      "doc360 [ 0.00108409 -0.00108409] 0.002168180899869855\n",
      "doc361 [-8.32839e-05  8.32839e-05] -0.00016656779999219245\n",
      "doc362 [-0.00056416  0.00056416] -0.0011283137064493857\n",
      "doc363 [ 0.0005719 -0.0005719] 0.001143795404972146\n",
      "doc364 [-0.00011088  0.00011088] -0.00022175959628377773\n",
      "doc365 [ 2.09390916e-05 -2.09390916e-05] 4.187818321330822e-05\n",
      "doc366 [ 0.00020375 -0.00020375] 0.00040750168831287827\n",
      "doc367 [ 0.00028554 -0.00028554] 0.0005710784313725488\n",
      "doc368 [-7.82424702e-05  7.82424702e-05] -0.00015648494048861556\n",
      "doc369 [-0.00032289  0.00032289] -0.0006457706376287931\n",
      "doc371 [ 5.0355899e-05 -5.0355899e-05] 0.00010071179803232374\n",
      "doc372 [ 0.00029971 -0.00029971] 0.0005994111328341049\n",
      "doc373 [ 0.00025301 -0.00025301] 0.0005060299470622152\n",
      "doc374 [ 0.00050321 -0.00050321] 0.001006410358941003\n",
      "doc375 [-0.00163668  0.00163668] -0.003273352706415557\n",
      "doc376 [-1.46629246e-05  1.46629246e-05] -2.932584924656739e-05\n",
      "doc377 [-0.00051778  0.00051778] -0.001035564225690276\n",
      "doc378 [-0.00030581  0.00030581] -0.0006116193285596492\n",
      "doc379 [-0.00014592  0.00014592] -0.00029183265015567204\n",
      "doc380 [ 0.00167891 -0.00167891] 0.00335781395237667\n",
      "doc381 [ 0.00037211 -0.00037211] 0.0007442201663089516\n",
      "doc382 [ 3.97286227e-05 -3.97286227e-05] 7.945724540436803e-05\n",
      "doc383 [ 0.00024635 -0.00024635] 0.0004927044230830601\n",
      "doc384 [ 0.00025147 -0.00025147] 0.0005029365079365089\n",
      "doc385 [-0.00150651  0.00150651] -0.0030130227435792817\n",
      "doc386 [-2.92336668e-05  2.92336668e-05] -5.8467333580527283e-05\n",
      "doc387 [-0.00117212  0.00117212] -0.002344234645344839\n",
      "doc388 [ 0.00060771 -0.00060771] 0.0012154100202091864\n",
      "doc389 [-0.00104245  0.00104245] -0.0020849082251478525\n",
      "doc390 [-0.00042829  0.00042829] -0.0008565712027620053\n",
      "doc391 [ 0.00138495 -0.00138495] 0.0027699061309775994\n",
      "doc392 [-0.00053113  0.00053113] -0.0010622570696818495\n",
      "doc393 [-0.00023727  0.00023727] -0.00047453444432819087\n",
      "doc394 [ 0.0002311 -0.0002311] 0.00046219983719983707\n",
      "doc395 [-0.00074413  0.00074413] -0.0014882614196087744\n",
      "doc396 [-0.00083102  0.00083102] -0.0016620465127433657\n",
      "doc397 [ 0.00022987 -0.00022987] 0.00045974785448469707\n",
      "doc398 [ 0.00042705 -0.00042705] 0.0008541084687693974\n",
      "doc399 [-0.00158197  0.00158197] -0.003163931184235582\n",
      "doc400 [-0.0002634  0.0002634] -0.0005267973856209148\n",
      "doc401 [ 0.0003342 -0.0003342] 0.00066840764813052\n",
      "doc402 [-5.07888489e-05  5.07888489e-05] -0.00010157769787558198\n",
      "doc403 [-0.00036424  0.00036424] -0.0007284752707052973\n",
      "doc404 [-0.00019541  0.00019541] -0.000390816690571185\n",
      "doc405 [ 0.0001158 -0.0001158] 0.00023160068265644186\n",
      "doc406 [ 0.0016232 -0.0016232] 0.0032463936272779104\n",
      "doc407 [ 0.00035536 -0.00035536] 0.0007107271920735262\n",
      "doc408 [-0.00039072  0.00039072] -0.0007814301655645849\n",
      "doc409 [-1.93774479e-05  1.93774479e-05] -3.875489589775292e-05\n",
      "doc410 [-0.00011501  0.00011501] -0.00023001438360347658\n",
      "doc411 [ 0.00252541 -0.00252541] 0.0050508245529351185\n",
      "doc412 [-4.58128812e-05  4.58128812e-05] -9.162576230849331e-05\n",
      "doc413 [-2.46682279e-05  2.46682279e-05] -4.933645589383304e-05\n",
      "doc414 [-0.00079284  0.00079284] -0.0015856815822957472\n",
      "doc415 [ 0.00263583 -0.00263583] 0.005271668830546896\n",
      "doc417 [-0.00098149  0.00098149] -0.0019629822319112127\n",
      "doc418 [-0.00101591  0.00101591] -0.002031826933967607\n",
      "doc420 [-0.00044996  0.00044996] -0.0008999215580287528\n",
      "doc421 [-2.37254924e-05  2.37254924e-05] -4.745098473767412e-05\n",
      "doc422 [ 0.00037395 -0.00037395] 0.0007479012282329378\n",
      "doc423 [ 0.00014033 -0.00014033] 0.000280668214745598\n",
      "doc424 [ 0.00050898 -0.00050898] 0.0010179623857004766\n",
      "doc425 [ 0.00124767 -0.00124767] 0.002495341565829872\n",
      "doc426 [-0.00010897  0.00010897] -0.00021794342300086818\n",
      "doc427 [ 0.00036925 -0.00036925] 0.0007384999909651058\n",
      "doc428 [ 0.00072318 -0.00072318] 0.0014463521604439595\n",
      "doc429 [-0.00043869  0.00043869] -0.0008773745027486697\n",
      "doc430 [-3.70101597e-05  3.70101597e-05] -7.402031930333806e-05\n",
      "doc431 [-0.0002227  0.0002227] -0.00044540964654251247\n",
      "doc432 [ 0.00021084 -0.00021084] 0.0004216826520976189\n",
      "doc433 [ 0.00102429 -0.00102429] 0.0020485765079725545\n",
      "doc434 [ 0.00021152 -0.00021152] 0.00042304456947254467\n",
      "doc435 [ 0.00064165 -0.00064165] 0.0012833093170344886\n",
      "doc436 [-9.55020446e-05  9.55020446e-05] -0.0001910040891749956\n",
      "doc437 [-0.00128615  0.00128615] -0.002572303259724272\n",
      "doc438 [ 0.00098988 -0.00098988] 0.0019797687861271684\n",
      "doc439 [ 0.00054332 -0.00054332] 0.0010866482629683667\n",
      "doc440 [-0.00016933  0.00016933] -0.0003386659447129148\n",
      "doc441 [ 5.79641033e-05 -5.79641033e-05] 0.00011592820660205468\n",
      "doc442 [ 0.00071436 -0.00071436] 0.0014287210080225338\n",
      "doc443 [-0.00011376  0.00011376] -0.00022751898526813375\n",
      "doc444 [-5.82577468e-05  5.82577468e-05] -0.00011651549363331487\n",
      "doc445 [ 0.00022619 -0.00022619] 0.0004523809523809524\n",
      "doc446 [ 0.00084318 -0.00084318] 0.001686364806876328\n",
      "doc447 [ 0.0021414 -0.0021414] 0.004282800101549413\n",
      "doc448 [-6.89655172e-05  6.89655172e-05] -0.0001379310344827586\n",
      "doc449 [ 8.12544481e-05 -8.12544481e-05] 0.00016250889616916\n",
      "doc450 [ 0.00018291 -0.00018291] 0.00036581993091030525\n",
      "doc451 [ 0.000822 -0.000822] 0.0016439925213995645\n",
      "doc452 [-1.43291359e-06  1.43291359e-06] -2.8658271819367346e-06\n",
      "doc453 [-0.00011019  0.00011019] -0.00022037365085406674\n",
      "doc454 [-5.39249996e-05  5.39249996e-05] -0.0001078499992447122\n",
      "doc455 [-0.0011271  0.0011271] -0.00225420977885981\n",
      "doc456 [ 0.00011111 -0.00011111] 0.0002222222222222225\n",
      "doc457 [ 0.00083169 -0.00083169] 0.001663388671286283\n",
      "doc458 [-5.56912555e-05  5.56912555e-05] -0.00011138251099169499\n",
      "doc459 [ 3.40630826e-05 -3.40630826e-05] 6.812616518961652e-05\n",
      "doc460 [-0.00026138  0.00026138] -0.0005227645670685903\n",
      "doc461 [ 8.30102332e-05 -8.30102332e-05] 0.00016602046630353012\n",
      "doc462 [-0.00043687  0.00043687] -0.0008737434478868591\n",
      "doc463 [-0.00040876  0.00040876] -0.0008175245848657777\n",
      "doc465 [ 0.00082683 -0.00082683] 0.001653662041931004\n",
      "doc466 [-0.0008079  0.0008079] -0.001615797252493448\n",
      "doc467 [ 0.00101453 -0.00101453] 0.002029054786144657\n",
      "doc468 [ 0.00128338 -0.00128338] 0.0025667689890149963\n",
      "doc469 [-0.00010764  0.00010764] -0.00021527992631359616\n",
      "doc470 [-6.17980242e-05  6.17980242e-05] -0.00012359604846334468\n",
      "doc471 [ 0.00134111 -0.00134111] 0.0026822283510173853\n",
      "doc472 [ 0.00093509 -0.00093509] 0.0018701834193567233\n",
      "doc473 [ 0.00026073 -0.00026073] 0.0005214572115935383\n",
      "doc474 [-0.0004823  0.0004823] -0.0009645956584308882\n",
      "doc475 [-0.00181021  0.00181021] -0.003620426375036491\n",
      "doc476 [-0.00041233  0.00041233] -0.0008246551762594264\n",
      "doc477 [ 0.0057329 -0.0057329] 0.011465804083386944\n",
      "doc478 [-0.00148904  0.00148904] -0.0029780879748811193\n",
      "doc479 [ 0.00092235 -0.00092235] 0.001844703531778335\n",
      "doc480 [-0.00191337  0.00191337] -0.003826730216978157\n",
      "doc481 [ 0.00028994 -0.00028994] 0.0005798766579369773\n",
      "doc482 [ 0.00017395 -0.00017395] 0.00034790783492207245\n",
      "doc483 [-0.00051989  0.00051989] -0.0010397713032910883\n",
      "doc484 [-0.0005407  0.0005407] -0.0010813953488372102\n",
      "doc485 [ 0.00054572 -0.00054572] 0.001091440489913541\n",
      "doc486 [ 0.00169925 -0.00169925] 0.003398499199413753\n",
      "doc487 [ 0.00012475 -0.00012475] 0.00024950301281721884\n",
      "doc488 [ 0.00178002 -0.00178002] 0.0035600370274907083\n",
      "doc489 [-0.00017037  0.00017037] -0.0003407407407407414\n",
      "doc491 [-5.87347266e-06  5.87347266e-06] -1.1746945322451014e-05\n",
      "doc492 [-0.0006702  0.0006702] -0.0013403958244681956\n",
      "doc493 [ 0.00046615 -0.00046615] 0.0009323070030448999\n",
      "doc494 [ 2.0409588e-05 -2.0409588e-05] 4.0819175934301785e-05\n",
      "doc495 [ 6.41065566e-05 -6.41065566e-05] 0.00012821311327392321\n",
      "doc496 [-0.00061688  0.00061688] -0.0012337546453256437\n",
      "doc497 [ 0.00026363 -0.00026363] 0.0005272641062114734\n",
      "doc498 [-0.00173137  0.00173137] -0.0034627439188794776\n",
      "doc499 [-0.00152039  0.00152039] -0.003040773390926982\n",
      "doc500 [-5.66993274e-05  5.66993274e-05] -0.0001133986547414112\n",
      "doc501 [-0.00014998  0.00014998] -0.00029995052556767987\n",
      "doc502 [-0.00040307  0.00040307] -0.0008061373220746636\n",
      "doc503 [ 7.8884568e-05 -7.8884568e-05] 0.00015776913599470314\n",
      "doc504 [-0.00010149  0.00010149] -0.00020297734648790864\n",
      "doc506 [ 0.00036685 -0.00036685] 0.0007336956521739127\n",
      "doc507 [ 0.00096685 -0.00096685] 0.0019337042104737917\n",
      "doc508 [ 0.00014286 -0.00014286] 0.00028571428571428563\n",
      "doc509 [ 2.12977256e-05 -2.12977256e-05] 4.2595451270968525e-05\n",
      "doc510 [ 0.00136969 -0.00136969] 0.0027393755816581006\n",
      "doc512 [-0.00127304  0.00127304] -0.0025460728973975737\n",
      "doc513 [-8.97988506e-05  8.97988506e-05] -0.00017959770114942528\n",
      "doc514 [-6.42916892e-05  6.42916892e-05] -0.0001285833783081933\n",
      "doc515 [-0.00011162  0.00011162] -0.0002232312742299484\n",
      "doc516 [-8.51898829e-05  8.51898829e-05] -0.00017037976578196764\n",
      "doc517 [ 0.0003849 -0.0003849] 0.000769804535012466\n",
      "doc518 [-0.00114767  0.00114767] -0.0022953493194115067\n",
      "doc519 [ 0.00055051 -0.00055051] 0.0011010296010296012\n",
      "doc520 [ 7.24559928e-05 -7.24559928e-05] 0.00014491198560481408\n",
      "doc521 [-0.0005098  0.0005098] -0.0010196078431372545\n",
      "doc522 [ 5.50264999e-05 -5.50264999e-05] 0.00011005299971255312\n",
      "doc523 [ 0.0021468 -0.0021468] 0.004293596059113303\n",
      "doc524 [-0.00013836  0.00013836] -0.000276713395701695\n",
      "doc525 [ 4.87987988e-05 -4.87987988e-05] 9.759759759759765e-05\n",
      "doc526 [-0.00215085  0.00215085] -0.004301704618419763\n",
      "doc527 [ 0.00025182 -0.00025182] 0.0005036422030716319\n",
      "doc528 [-7.87587093e-05  7.87587093e-05] -0.00015751741861776554\n",
      "doc529 [ 0.00072815 -0.00072815] 0.0014562962996016622\n",
      "doc530 [ 0.00058393 -0.00058393] 0.0011678584766655498\n",
      "doc531 [-0.00051244  0.00051244] -0.0010248880224029387\n",
      "doc532 [ 4.06408939e-05 -4.06408939e-05] 8.128178773607171e-05\n",
      "doc533 [-0.0005244  0.0005244] -0.0010488000206670283\n",
      "doc534 [ 6.9555712e-05 -6.9555712e-05] 0.00013911142396112584\n",
      "doc535 [ 0.00024162 -0.00024162] 0.0004832428912735\n",
      "doc536 [-0.00031526  0.00031526] -0.0006305293327082747\n",
      "doc537 [-0.00044333  0.00044333] -0.0008866572007008773\n",
      "doc538 [ 0.00166405 -0.00166405] 0.0033280912694006407\n",
      "doc539 [ 0.00057337 -0.00057337] 0.001146748504494982\n",
      "doc540 [ 0.00094624 -0.00094624] 0.0018924743012059583\n",
      "doc541 [ 0.00150603 -0.00150603] 0.0030120574489335113\n",
      "doc542 [-0.00104538  0.00104538] -0.0020907588232130857\n",
      "doc543 [ 0.00023401 -0.00023401] 0.00046802134646962176\n",
      "doc544 [-0.00031225  0.00031225] -0.0006244932999410039\n",
      "doc545 [ 0.00015305 -0.00015305] 0.00030610495195861054\n",
      "doc546 [ 0.00040901 -0.00040901] 0.0008180197132839666\n",
      "doc547 [ 0.00078022 -0.00078022] 0.0015604395604395594\n",
      "doc548 [-0.00169442  0.00169442] -0.003388839822355428\n",
      "doc549 [ 0.00027359 -0.00027359] 0.0005471791058594407\n",
      "doc550 [ 0.00021902 -0.00021902] 0.0004380460956312349\n",
      "doc551 [-0.0015895  0.0015895] -0.003179009216632273\n",
      "doc552 [-0.00019282  0.00019282] -0.0003856359810972623\n",
      "doc553 [-1.96152617e-06  1.96152617e-06] -3.923052341693313e-06\n",
      "doc554 [ 0.0001847 -0.0001847] 0.0003693946029238954\n",
      "doc555 [ 0.00011962 -0.00011962] 0.0002392468805828783\n",
      "doc556 [ 5.28694665e-05 -5.28694665e-05] 0.00010573893304411804\n",
      "doc557 [-5.1933048e-05  5.1933048e-05] -0.00010386609597383162\n",
      "doc558 [-0.00018816  0.00018816] -0.00037631883076280886\n",
      "doc559 [-8.19889808e-05  8.19889808e-05] -0.00016397796156104324\n",
      "doc560 [-0.00025798  0.00025798] -0.0005159646114805964\n",
      "doc561 [-0.00019685  0.00019685] -0.0003937019930769955\n",
      "doc562 [-0.00049271  0.00049271] -0.0009854152367879227\n",
      "doc564 [ 0.00026334 -0.00026334] 0.0005266875653082554\n",
      "doc565 [-0.00060393  0.00060393] -0.001207858415900303\n",
      "doc566 [-7.62489654e-05  7.62489654e-05] -0.00015249793078903144\n",
      "doc567 [-6.83340153e-05  6.83340153e-05] -0.00013666803068389217\n",
      "doc568 [ 0.00146074 -0.00146074] 0.002921487069217865\n",
      "doc569 [ 0.00046476 -0.00046476] 0.0009295158942848644\n",
      "doc570 [ 1.94478976e-05 -1.94478976e-05] 3.889579525248792e-05\n",
      "doc571 [ 0.00415223 -0.00415223] 0.008304452805186718\n",
      "doc572 [-0.00017491  0.00017491] -0.0003498184537641672\n",
      "doc573 [-0.00042213  0.00042213] -0.0008442546774019915\n",
      "doc574 [ 0.00075522 -0.00075522] 0.0015104348271230317\n",
      "doc575 [ 0.01003865 -0.01003865] 0.020077308545129315\n",
      "doc577 [-0.00258004  0.00258004] -0.005160082652363207\n",
      "doc578 [-0.0012069  0.0012069] -0.0024137948474790578\n",
      "doc580 [-9.09090909e-05  9.09090909e-05] -0.00018181818181818175\n",
      "doc581 [-0.00043203  0.00043203] -0.0008640646641851332\n",
      "doc582 [ 0.00015323 -0.00015323] 0.00030646389048582905\n",
      "doc583 [ 9.14854935e-05 -9.14854935e-05] 0.00018297098703945935\n",
      "doc584 [-0.00099303  0.00099303] -0.0019860600372367974\n",
      "doc586 [-0.0017893  0.0017893] -0.003578604467669903\n",
      "doc587 [-4.6590008e-06  4.6590008e-06] -9.318001606962611e-06\n",
      "doc588 [-0.0015288  0.0015288] -0.0030576014817101406\n",
      "doc589 [ 0.00101148 -0.00101148] 0.002022966507177033\n",
      "doc590 [ 2.72188707e-05 -2.72188707e-05] 5.4437741386201394e-05\n",
      "doc591 [-0.00023558  0.00023558] -0.0004711538461538464\n",
      "doc592 [-0.00132013  0.00132013] -0.002640252493228921\n",
      "doc593 [ 2.5e-05 -2.5e-05] 4.999999999999989e-05\n",
      "doc594 [-0.00043845  0.00043845] -0.0008769046157750243\n",
      "doc595 [ 0.00011321 -0.00011321] 0.00022641509433962248\n",
      "doc596 [ 6.27966683e-05 -6.27966683e-05] 0.00012559333657896404\n",
      "doc599 [-1.42815581e-05  1.42815581e-05] -2.8563116154745277e-05\n",
      "doc600 [-0.00052118  0.00052118] -0.0010423697273723217\n",
      "doc601 [-0.00232586  0.00232586] -0.0046517215796914365\n",
      "doc602 [ 0.00128747 -0.00128747] 0.002574940630717047\n",
      "doc603 [-0.00041143  0.00041143] -0.0008228571428571425\n",
      "doc604 [-0.00029345  0.00029345] -0.000586904581263357\n",
      "doc605 [-3.96810397e-05  3.96810397e-05] -7.936207936207933e-05\n",
      "doc607 [ 0.00078718 -0.00078718] 0.0015743549282604252\n",
      "doc608 [-0.00025628  0.00025628] -0.0005125626794254734\n",
      "doc609 [ 0.00275913 -0.00275913] 0.005518266971388251\n",
      "doc610 [ 0.00050256 -0.00050256] 0.0010051267164358016\n",
      "doc611 [-0.00040349  0.00040349] -0.0008069810818012256\n",
      "doc613 [-3.95640719e-05  3.95640719e-05] -7.912814375953765e-05\n",
      "doc614 [-3.30186956e-05  3.30186956e-05] -6.603739115289942e-05\n",
      "doc615 [ 0.00164924 -0.00164924] 0.0032984735614388075\n",
      "doc616 [-6.91397755e-05  6.91397755e-05] -0.00013827955109783622\n",
      "doc617 [ 0.00029 -0.00029] 0.0005800055082416317\n",
      "doc619 [ 0.00037849 -0.00037849] 0.0007569857860342451\n",
      "doc620 [ 4.63629257e-05 -4.63629257e-05] 9.272585134784784e-05\n",
      "doc621 [-0.00056649  0.00056649] -0.001132981408960016\n",
      "doc622 [ 0.00051577 -0.00051577] 0.0010315443778078255\n",
      "doc623 [-0.00090432  0.00090432] -0.001808649111706036\n",
      "doc625 [-0.0024684  0.0024684] -0.004936808647476287\n",
      "doc626 [ 0.00309192 -0.00309192] 0.006183838383838387\n",
      "doc627 [ 0.00039832 -0.00039832] 0.0007966453195772597\n",
      "doc629 [-0.00039025  0.00039025] -0.0007805057179751697\n",
      "doc630 [-0.00055493  0.00055493] -0.0011098522463861599\n",
      "doc631 [ 0.00144603 -0.00144603] 0.0028920640233398584\n",
      "doc632 [ 0.00018607 -0.00018607] 0.00037214888293407106\n",
      "doc633 [ 0.00092628 -0.00092628] 0.0018525639628718072\n",
      "doc634 [ 0.00067227 -0.00067227] 0.001344548744612271\n",
      "doc635 [ 0.00018429 -0.00018429] 0.0003685772173562667\n",
      "doc636 [ 0.00014945 -0.00014945] 0.00029890724746402665\n",
      "doc637 [ 0.00028262 -0.00028262] 0.0005652460148657067\n",
      "doc638 [-0.00186884  0.00186884] -0.003737683910579802\n",
      "doc639 [-0.00013961  0.00013961] -0.00027921153689107773\n",
      "doc640 [-0.00011883  0.00011883] -0.0002376517033661602\n",
      "doc641 [ 0.00015142 -0.00015142] 0.0003028472899368868\n",
      "doc642 [-3.06860651e-05  3.06860651e-05] -6.137213022996225e-05\n",
      "doc643 [ 0.00121648 -0.00121648] 0.0024329639333962065\n",
      "doc644 [-1.44927536e-05  1.44927536e-05] -2.8985507246376868e-05\n",
      "doc645 [ 0.00023819 -0.00023819] 0.00047637820148339145\n",
      "doc646 [ 0.00045984 -0.00045984] 0.0009196847576132785\n",
      "doc647 [-0.00074638  0.00074638] -0.0014927586345469925\n",
      "doc649 [-6.43694739e-05  6.43694739e-05] -0.00012873894782714748\n",
      "doc650 [ 4.1304972e-05 -4.1304972e-05] 8.260994392752472e-05\n",
      "doc651 [-0.00017756  0.00017756] -0.00035511552578914956\n",
      "doc652 [-0.00010894  0.00010894] -0.00021787040081637616\n",
      "doc653 [ 2.99864433e-05 -2.99864433e-05] 5.997288662161029e-05\n",
      "doc654 [-0.00042201  0.00042201] -0.0008440114567480274\n",
      "doc655 [ 0.00077204 -0.00077204] 0.0015440700736877831\n",
      "doc656 [ 0.00024741 -0.00024741] 0.000494819238458637\n",
      "doc657 [ 0.00241307 -0.00241307] 0.004826136167672624\n",
      "doc658 [ 6.7079433e-05 -6.7079433e-05] 0.0001341588660841445\n",
      "doc660 [ 0.00057016 -0.00057016] 0.0011403221448918455\n",
      "doc661 [ 0.00015439 -0.00015439] 0.00030878603397825464\n",
      "doc662 [ 0.00093001 -0.00093001] 0.0018600266668788836\n",
      "doc664 [ 0.00056699 -0.00056699] 0.001133985043136985\n",
      "doc665 [-0.0003066  0.0003066] -0.0006131938935463611\n",
      "doc666 [-0.00012241  0.00012241] -0.00024482471551018586\n",
      "doc668 [-0.00032812  0.00032812] -0.0006562311608637581\n",
      "doc669 [-0.00065378  0.00065378] -0.0013075681968940285\n",
      "doc670 [ 0.00015399 -0.00015399] 0.0003079852203236685\n",
      "doc671 [-8.83899676e-05  8.83899676e-05] -0.0001767799352750811\n",
      "doc672 [-0.00288607  0.00288607] -0.005772135836900976\n",
      "doc673 [-0.00036822  0.00036822] -0.0007364475230160449\n",
      "doc674 [ 9.01522759e-05 -9.01522759e-05] 0.00018030455183228297\n",
      "doc675 [-0.00014273  0.00014273] -0.00028545873424583264\n",
      "doc676 [-2.69786622e-05  2.69786622e-05] -5.395732433848175e-05\n",
      "doc677 [-3.71882086e-05  3.71882086e-05] -7.437641723356017e-05\n",
      "doc678 [ 0.00010338 -0.00010338] 0.0002067695141607182\n",
      "doc680 [-0.0005614  0.0005614] -0.0011227917555880025\n",
      "doc681 [ 2.42311193e-05 -2.42311193e-05] 4.846223864420432e-05\n",
      "doc682 [ 0.00133805 -0.00133805] 0.0026761036193610243\n",
      "doc683 [ 0.00079069 -0.00079069] 0.0015813897740929953\n",
      "doc684 [-0.00048629  0.00048629] -0.0009725741361354424\n",
      "doc686 [ 0.00010462 -0.00010462] 0.00020923035138357914\n",
      "doc687 [ 0.00028245 -0.00028245] 0.0005649022656541446\n",
      "doc688 [ 0.00090937 -0.00090937] 0.0018187301447342757\n",
      "doc689 [ 0.00048119 -0.00048119] 0.000962384520388873\n",
      "doc690 [ 0.00436893 -0.00436893] 0.008737855930337584\n",
      "doc691 [ 0.00030991 -0.00030991] 0.0006198296476354231\n",
      "doc693 [ 0.00057382 -0.00057382] 0.0011476435865133906\n",
      "doc694 [-0.00052169  0.00052169] -0.0010433847330915277\n",
      "doc695 [-0.00028823  0.00028823] -0.0005764615180457745\n",
      "doc697 [-0.00012371  0.00012371] -0.00024741818422879477\n",
      "doc698 [-0.00015065  0.00015065] -0.00030129452057225253\n",
      "doc700 [ 0.00017896 -0.00017896] 0.00035791764915103384\n",
      "doc701 [-9.84839486e-05  9.84839486e-05] -0.00019696789728858148\n",
      "doc702 [-0.00076865  0.00076865] -0.0015372994241526043\n",
      "doc703 [-7.12654278e-05  7.12654278e-05] -0.00014253085560885767\n",
      "doc704 [ 0.00100205 -0.00100205] 0.0020041076656034298\n",
      "doc706 [-0.001189  0.001189] -0.002378006234489142\n",
      "doc707 [ 0.00014865 -0.00014865] 0.0002972972972972973\n",
      "doc708 [-0.00014215  0.00014215] -0.0002842934303608455\n",
      "doc709 [ 0.00028387 -0.00028387] 0.0005677438049856345\n",
      "doc710 [-3.91211906e-05  3.91211906e-05] -7.824238128986528e-05\n",
      "doc711 [-3.84615385e-05  3.84615385e-05] -7.692307692307702e-05\n",
      "doc712 [ 0.00205289 -0.00205289] 0.004105787222166818\n",
      "doc714 [-8.99297424e-05  8.99297424e-05] -0.00017985948477751762\n",
      "doc715 [-7.37588652e-05  7.37588652e-05] -0.00014751773049645394\n",
      "doc716 [ 0.00039814 -0.00039814] 0.0007962890093411171\n",
      "doc717 [-3.05751337e-05  3.05751337e-05] -6.11502673866569e-05\n",
      "doc718 [ 0.0012065 -0.0012065] 0.0024129941291585123\n",
      "doc720 [ 0.00120773 -0.00120773] 0.002415467731426526\n",
      "doc721 [ 0.00127145 -0.00127145] 0.0025429096819750635\n",
      "doc722 [-0.00025543  0.00025543] -0.0005108674545256256\n",
      "doc723 [ 0.00066503 -0.00066503] 0.001330057330057331\n",
      "doc724 [ 0.0010692 -0.0010692] 0.0021384043407901435\n",
      "doc725 [-0.00028688  0.00028688] -0.000573753364715606\n",
      "doc727 [-1.19021541e-05  1.19021541e-05] -2.3804308141657607e-05\n",
      "doc728 [ 0.00035398 -0.00035398] 0.0007079538554948397\n",
      "doc729 [-0.00294901  0.00294901] -0.0058980262082027855\n",
      "doc730 [ 0.00034559 -0.00034559] 0.0006911846585109637\n",
      "doc731 [-7.84708249e-05  7.84708249e-05] -0.00015694164989939652\n",
      "doc732 [ 0.00118812 -0.00118812] 0.0023762455974346785\n",
      "doc733 [ 0.00015211 -0.00015211] 0.00030421098508494955\n",
      "doc734 [-0.00018216  0.00018216] -0.00036432409564560864\n",
      "doc735 [-0.00057018  0.00057018] -0.0011403646705702422\n",
      "doc737 [-0.00028744  0.00028744] -0.0005748847926267293\n",
      "doc738 [-0.0020181  0.0020181] -0.004036204090498225\n",
      "doc739 [-0.00137841  0.00137841] -0.0027568196234728755\n",
      "doc741 [-0.00046366  0.00046366] -0.0009273229951098883\n",
      "doc742 [ 0.00028571 -0.00028571] 0.0005714285714285717\n",
      "doc743 [ 0.0004605 -0.0004605] 0.0009210004986812474\n",
      "doc744 [-0.0039261  0.0039261] -0.00785219598304679\n",
      "doc745 [-0.00022631  0.00022631] -0.0004526259494002457\n",
      "doc746 [-0.00014879  0.00014879] -0.0002975752127329877\n",
      "doc747 [-0.00013345  0.00013345] -0.0002669006204862174\n",
      "doc750 [ 0.00039099 -0.00039099] 0.0007819758148922575\n",
      "doc751 [ 0.00036627 -0.00036627] 0.0007325453364487103\n",
      "doc752 [ 5.52484867e-05 -5.52484867e-05] 0.00011049697337225179\n",
      "doc753 [ 0.00111141 -0.00111141] 0.002222825533685358\n",
      "doc754 [ 2.28601125e-05 -2.28601125e-05] 4.572022491521809e-05\n",
      "doc755 [-0.00044881  0.00044881] -0.0008976184747133395\n",
      "doc756 [ 0.00035807 -0.00035807] 0.0007161306893537327\n",
      "doc757 [ 0.0007511 -0.0007511] 0.0015022077865109837\n",
      "doc758 [ 0.00117072 -0.00117072] 0.0023414413958354465\n",
      "doc759 [-0.00033198  0.00033198] -0.0006639537374170052\n",
      "doc760 [-0.00236892  0.00236892] -0.004737842380093716\n",
      "doc761 [-0.00165655  0.00165655] -0.00331310270065967\n",
      "doc762 [ 0.00031609 -0.00031609] 0.0006321857097653109\n",
      "doc763 [ 0.00055541 -0.00055541] 0.0011108264218093456\n",
      "doc764 [-0.00143287  0.00143287] -0.002865733758093836\n",
      "doc765 [ 0.00050882 -0.00050882] 0.001017647058823529\n",
      "doc766 [-0.00048105  0.00048105] -0.0009620979312584107\n",
      "doc767 [ 0.00012514 -0.00012514] 0.000250273732835309\n",
      "doc770 [ 0.00087946 -0.00087946] 0.001758915370230881\n",
      "doc773 [ 0.0001824 -0.0001824] 0.0003647932131495222\n",
      "doc774 [-0.00016949  0.00016949] -0.0003389700121298584\n",
      "doc775 [ 0.0007857 -0.0007857] 0.0015714000127040823\n",
      "doc776 [ 0.00267548 -0.00267548] 0.005350959232782263\n",
      "doc777 [ 3.70942666e-05 -3.70942666e-05] 7.418853313846365e-05\n",
      "doc778 [-0.00068997  0.00068997] -0.001379932307907592\n",
      "doc779 [ 0.00068636 -0.00068636] 0.001372710325335257\n",
      "doc780 [-0.00044884  0.00044884] -0.0008976742470351724\n",
      "doc781 [-0.00017642  0.00017642] -0.00035284077511749275\n",
      "doc782 [-0.00041822  0.00041822] -0.0008364465491537322\n",
      "doc783 [ 0.00028555 -0.00028555] 0.0005710936985698948\n",
      "doc784 [-0.00037621  0.00037621] -0.0007524170355357302\n",
      "doc786 [-3.17292438e-05  3.17292438e-05] -6.345848757271274e-05\n",
      "doc787 [-0.00067887  0.00067887] -0.0013577305557439532\n",
      "doc788 [ 0.00076889 -0.00076889] 0.0015377887128550727\n",
      "doc789 [-0.00037574  0.00037574] -0.0007514892852099608\n",
      "doc790 [ 0.00309095 -0.00309095] 0.006181900489563439\n",
      "doc791 [-0.00139652  0.00139652] -0.0027930334868171295\n",
      "doc792 [ 0.00029599 -0.00029599] 0.0005919754604345752\n",
      "doc793 [ 0.00050704 -0.00050704] 0.0010140749379857796\n",
      "doc794 [ 0.00029867 -0.00029867] 0.0005973348430110102\n",
      "doc795 [ 7.96281334e-05 -7.96281334e-05] 0.00015925626682077677\n",
      "doc796 [-0.00129365  0.00129365] -0.0025872937081342483\n",
      "doc797 [-0.00041605  0.00041605] -0.0008321009678378271\n",
      "doc798 [-0.00035982  0.00035982] -0.0007196365110913812\n",
      "doc799 [ 0.001 -0.001] 0.0020000000000000013\n",
      "doc801 [-0.00075153  0.00075153] -0.001503058506577766\n",
      "doc802 [-0.00013311  0.00013311] -0.0002662152094087595\n",
      "doc803 [ 0.00065206 -0.00065206] 0.0013041102756892226\n",
      "doc804 [-0.0002782  0.0002782] -0.0005564021656167021\n",
      "doc805 [-0.00153255  0.00153255] -0.003065092933807469\n",
      "doc806 [ 0.0003705 -0.0003705] 0.000741002877850069\n",
      "doc807 [ 0.00030237 -0.00030237] 0.0006047485535637194\n",
      "doc808 [-0.00033855  0.00033855] -0.0006771015293092655\n",
      "doc809 [-2.08381271e-05  2.08381271e-05] -4.16762542475514e-05\n",
      "doc810 [-0.00033682  0.00033682] -0.0006736431974230476\n",
      "doc811 [-0.00018843  0.00018843] -0.0003768614317325516\n",
      "doc812 [-0.0001262  0.0001262] -0.00025240959393516894\n",
      "doc813 [ 0.00077605 -0.00077605] 0.0015521034172211617\n",
      "doc814 [-6.45222687e-05  6.45222687e-05] -0.00012904453749524187\n",
      "doc815 [-0.00016739  0.00016739] -0.0003347823504873069\n",
      "doc816 [ 0.00055913 -0.00055913] 0.0011182620977135279\n",
      "doc817 [-0.00109485  0.00109485] -0.0021897038290059614\n",
      "doc818 [ 0.00072084 -0.00072084] 0.001441685140457243\n",
      "doc819 [ 0.0007561 -0.0007561] 0.0015122040253598163\n",
      "doc820 [ 0.00187031 -0.00187031] 0.003740626663921891\n",
      "doc821 [ 0.00054884 -0.00054884] 0.001097680631473897\n",
      "doc822 [ 0.00013936 -0.00013936] 0.00027871858756542476\n",
      "doc824 [-8.9806342e-05  8.9806342e-05] -0.0001796126839884659\n",
      "doc825 [ 0.00062631 -0.00062631] 0.001252626190111867\n",
      "doc826 [-0.00103951  0.00103951] -0.0020790244315316646\n",
      "doc827 [ 0.00054054 -0.00054054] 0.001081081081081081\n",
      "doc828 [ 0.00013499 -0.00013499] 0.00026998715683694595\n",
      "doc829 [-9.51697752e-06  9.51697752e-06] -1.9033955045432816e-05\n",
      "doc830 [ 0.00014546 -0.00014546] 0.00029092421002613436\n",
      "doc831 [-0.00013275  0.00013275] -0.00026549058477502306\n",
      "doc832 [-4.87804878e-05  4.87804878e-05] -9.756097560975618e-05\n",
      "doc833 [ 6.02779092e-05 -6.02779092e-05] 0.00012055581845518256\n",
      "doc834 [-2.47111457e-05  2.47111457e-05] -4.942229133673395e-05\n",
      "doc836 [ 0.00030769 -0.00030769] 0.0006153846153846154\n",
      "doc837 [-0.00037213  0.00037213] -0.0007442560772866866\n",
      "doc838 [-0.00127715  0.00127715] -0.0025542956198092493\n",
      "doc839 [-0.00014101  0.00014101] -0.0002820203486900661\n",
      "doc840 [ 0.00037956 -0.00037956] 0.0007591147285654687\n",
      "doc841 [ 0.00017953 -0.00017953] 0.00035906023872768684\n",
      "doc842 [-0.00017966  0.00017966] -0.0003593218661601696\n",
      "doc843 [-0.00059416  0.00059416] -0.001188317738757177\n",
      "doc844 [-0.00118405  0.00118405] -0.0023680916038482207\n",
      "doc845 [-0.00123879  0.00123879] -0.002477589930022832\n",
      "doc846 [ 1.78708969e-05 -1.78708969e-05] 3.5741793781878155e-05\n",
      "doc847 [ 0.00013305 -0.00013305] 0.0002660966125103937\n",
      "doc848 [ 0.00363199 -0.00363199] 0.007263974587967095\n",
      "doc849 [-0.00055422  0.00055422] -0.0011084323133691623\n",
      "doc850 [ 0.00071999 -0.00071999] 0.0014399782062631261\n",
      "doc851 [-7.29121143e-05  7.29121143e-05] -0.00014582422862977334\n",
      "doc852 [ 0.00036611 -0.00036611] 0.0007322119286102035\n",
      "doc853 [-0.00049357  0.00049357] -0.0009871493273637868\n",
      "doc854 [-0.00017315  0.00017315] -0.0003463074405718224\n",
      "doc855 [-0.00016076  0.00016076] -0.00032151398194897476\n",
      "doc856 [-0.00165609  0.00165609] -0.0033121707990818984\n",
      "doc857 [-4.46697303e-05  4.46697303e-05] -8.933946063304364e-05\n",
      "doc858 [-0.00136596  0.00136596] -0.0027319137687213104\n",
      "doc859 [-0.0001193  0.0001193] -0.00023859065057566905\n",
      "doc860 [ 0.00028072 -0.00028072] 0.0005614317463345815\n",
      "doc861 [ 0.00399195 -0.00399195] 0.007983900889780222\n",
      "doc862 [-0.00026023  0.00026023] -0.0005204540553756479\n",
      "doc863 [ 5.66840113e-05 -5.66840113e-05] 0.00011336802258725204\n",
      "doc864 [ 0.00045085 -0.00045085] 0.0009016928926515494\n",
      "doc865 [-0.00181227  0.00181227] -0.003624541010015015\n",
      "doc866 [-0.00036693  0.00036693] -0.0007338566556392124\n",
      "doc867 [-0.0005  0.0005] -0.0010000000000000007\n",
      "doc868 [-0.00010824  0.00010824] -0.00021647717820248702\n",
      "doc869 [ 0.0002944 -0.0002944] 0.0005888045747334549\n",
      "doc870 [ 0.00149859 -0.00149859] 0.002997182817247337\n",
      "doc871 [-0.00027317  0.00027317] -0.000546332542303658\n",
      "doc872 [-6.25312684e-06  6.25312684e-06] -1.2506253675807213e-05\n",
      "doc873 [-7.82600545e-05  7.82600545e-05] -0.00015652010893056465\n",
      "doc874 [-0.00021592  0.00021592] -0.0004318325134515654\n",
      "doc875 [-2.24097327e-05  2.24097327e-05] -4.4819465419100075e-05\n",
      "doc876 [ 0.00040159 -0.00040159] 0.00080318564485073\n",
      "doc877 [-0.001  0.001] -0.0020000000000000026\n",
      "doc878 [-0.00048342  0.00048342] -0.0009668448017364835\n",
      "doc879 [ 0.00016608 -0.00016608] 0.00033216110310905025\n",
      "doc880 [-0.00121554  0.00121554] -0.0024310732699636076\n",
      "doc881 [-0.00046914  0.00046914] -0.0009382789939806385\n",
      "doc882 [-0.00038826  0.00038826] -0.0007765172781578236\n",
      "doc883 [-0.00067821  0.00067821] -0.0013564186341599536\n",
      "doc885 [ 0.001748 -0.001748] 0.0034959959882828427\n",
      "doc886 [-0.00092601  0.00092601] -0.0018520197934630547\n",
      "doc887 [-3.38983051e-05  3.38983051e-05] -6.779661016949147e-05\n",
      "doc888 [-0.00025894  0.00025894] -0.0005178879212790373\n",
      "doc889 [-0.00065515  0.00065515] -0.0013103079981133066\n",
      "doc890 [ 0.00182479 -0.00182479] 0.0036495726495726437\n",
      "doc891 [-0.00220916  0.00220916] -0.004418325717555577\n",
      "doc892 [-0.00056383  0.00056383] -0.0011276595744680853\n",
      "doc893 [-2.04490778e-05  2.04490778e-05] -4.0898155573376203e-05\n",
      "doc894 [ 0.00089519 -0.00089519] 0.001790385655125855\n",
      "doc895 [-0.00048481  0.00048481] -0.0009696240601503771\n",
      "doc896 [ 0.00073929 -0.00073929] 0.0014785839384650803\n",
      "doc897 [ 0.00153654 -0.00153654] 0.003073086866850479\n",
      "doc898 [-0.0002993  0.0002993] -0.0005985915012859348\n",
      "doc899 [ 0.00029195 -0.00029195] 0.0005839005155335819\n",
      "doc900 [ 0.00035715 -0.00035715] 0.0007143078500125471\n",
      "doc901 [-0.00010348  0.00010348] -0.0002069580292104474\n",
      "doc902 [ 0.0107036 -0.0107036] 0.02140720315833786\n",
      "doc904 [-0.0001267  0.0001267] -0.00025339846624492293\n",
      "doc905 [-0.00123821  0.00123821] -0.002476411199017094\n",
      "doc906 [ 0.00196383 -0.00196383] 0.003927655544540037\n",
      "doc908 [-0.00059065  0.00059065] -0.001181295593006664\n",
      "doc909 [-0.0007066  0.0007066] -0.0014131932207942402\n",
      "doc910 [-1.80088345e-05  1.80088345e-05] -3.601766904519195e-05\n",
      "doc911 [-0.00078627  0.00078627] -0.0015725414818092962\n",
      "doc912 [ 2.60728526e-05 -2.60728526e-05] 5.2145705272900475e-05\n",
      "doc913 [ 0.0006035 -0.0006035] 0.001207008360305491\n",
      "doc914 [-2.05705788e-05  2.05705788e-05] -4.114115768023344e-05\n",
      "doc916 [-0.00023292  0.00023292] -0.00046583751883621523\n",
      "doc917 [-0.00017909  0.00017909] -0.0003581801221157442\n",
      "doc918 [-0.00040845  0.00040845] -0.0008169082914436107\n",
      "doc919 [ 0.00064817 -0.00064817] 0.0012963302624148928\n",
      "doc920 [ 0.00025153 -0.00025153] 0.0005030616755726108\n",
      "doc921 [ 0.00058791 -0.00058791] 0.001175827318987594\n",
      "doc922 [ 0.00221678 -0.00221678] 0.004433566300317791\n",
      "doc923 [-8.71350174e-06  8.71350174e-06] -1.742700347702253e-05\n",
      "doc924 [-0.00016825  0.00016825] -0.00033650030095044425\n",
      "doc925 [-1.80980124e-05  1.80980124e-05] -3.6196024844880504e-05\n",
      "doc926 [-0.00041101  0.00041101] -0.0008220168372907279\n",
      "doc927 [ 0.00083773 -0.00083773] 0.0016754574702485714\n",
      "doc928 [ 0.00030834 -0.00030834] 0.0006166775540029271\n",
      "doc929 [-6.08737769e-05  6.08737769e-05] -0.00012174755370183067\n",
      "doc930 [ 0.00012227 -0.00012227] 0.00024453293610994054\n",
      "doc931 [-0.00018127  0.00018127] -0.0003625402965828496\n",
      "doc932 [ 0.00114792 -0.00114792] 0.0022958472758275316\n",
      "doc934 [ 0.00024477 -0.00024477] 0.0004895330112721418\n",
      "doc935 [ 0.00680106 -0.00680106] 0.013602111859831074\n",
      "doc936 [ 2.09989222e-05 -2.09989222e-05] 4.199784432976253e-05\n",
      "doc937 [-0.00044208  0.00044208] -0.0008841593695241138\n",
      "doc938 [ 0.00016046 -0.00016046] 0.00032092143177762987\n",
      "doc939 [ 7.25083736e-05 -7.25083736e-05] 0.00014501674722523642\n",
      "doc940 [ 0.00132476 -0.00132476] 0.0026495132372886705\n",
      "doc941 [ 0.0015054 -0.0015054] 0.003010802917493534\n",
      "doc942 [-8.5869756e-05  8.5869756e-05] -0.00017173951202387224\n",
      "doc943 [ 0.00045315 -0.00045315] 0.0009062978759899954\n",
      "doc944 [-0.0004527  0.0004527] -0.0009053990690490678\n",
      "doc945 [-0.00182426  0.00182426] -0.003648524186253856\n",
      "doc946 [ 0.00100591 -0.00100591] 0.002011811023622048\n",
      "doc947 [ 0.00064706 -0.00064706] 0.0012941176470588232\n",
      "doc948 [ 0.00195718 -0.00195718] 0.0039143552248480555\n",
      "doc949 [ 0.00058663 -0.00058663] 0.0011732589409322227\n",
      "doc950 [-1.15341486e-05  1.15341486e-05] -2.3068297111123048e-05\n",
      "doc951 [ 0.00029772 -0.00029772] 0.0005954332617634714\n",
      "doc952 [ 0.00038318 -0.00038318] 0.0007663682798798041\n",
      "doc953 [ 0.00034041 -0.00034041] 0.0006808288150767234\n",
      "doc955 [-0.00081922  0.00081922] -0.0016384354184534131\n",
      "doc956 [ 0.00014753 -0.00014753] 0.00029505186287142877\n",
      "doc957 [ 0.00018498 -0.00018498] 0.00036995992471739283\n",
      "doc958 [ 1.17689289e-05 -1.17689289e-05] 2.3537857830198228e-05\n",
      "doc959 [-0.00088914  0.00088914] -0.0017782806054335186\n",
      "doc960 [ 1.6765855e-05 -1.6765855e-05] 3.353170991551296e-05\n",
      "doc961 [ 0.0006795 -0.0006795] 0.0013590067471999142\n",
      "doc962 [ 0.00114111 -0.00114111] 0.002282215202513352\n",
      "doc963 [ 0.00018893 -0.00018893] 0.0003778527596813469\n",
      "doc964 [ 0.00055341 -0.00055341] 0.0011068283505306174\n",
      "doc965 [-0.00053315  0.00053315] -0.0010662905861849657\n",
      "doc966 [ 0.00084879 -0.00084879] 0.0016975799694253235\n",
      "doc967 [-0.00033347  0.00033347] -0.0006669313219531552\n",
      "doc968 [ 0.00013655 -0.00013655] 0.0002731096514510662\n",
      "doc969 [ 0.00220819 -0.00220819] 0.004416389581573042\n",
      "doc970 [-0.00054489  0.00054489] -0.0010897720087964368\n",
      "doc971 [-0.00061512  0.00061512] -0.0012302351079528638\n",
      "doc972 [-0.00122069  0.00122069] -0.0024413855278556914\n",
      "doc973 [ 0.00027917 -0.00027917] 0.0005583439133201119\n",
      "doc974 [-0.00016628  0.00016628] -0.0003325517101574582\n",
      "doc975 [ 6.77699296e-05 -6.77699296e-05] 0.00013553985911348034\n",
      "doc976 [ 0.00175668 -0.00175668] 0.0035133670109810475\n",
      "doc977 [-0.00331277  0.00331277] -0.006625532831969641\n",
      "doc979 [ 0.00154354 -0.00154354] 0.0030870780639729823\n",
      "doc980 [-3.79653151e-05  3.79653151e-05] -7.593063015894568e-05\n",
      "doc981 [ 0.00058185 -0.00058185] 0.0011637084968593074\n",
      "doc983 [ 0.00137694 -0.00137694] 0.0027538768883335115\n",
      "doc984 [-0.00016854  0.00016854] -0.00033707865168539346\n",
      "doc985 [-0.00080942  0.00080942] -0.0016188355897228902\n",
      "doc986 [ 0.00012128 -0.00012128] 0.00024255872146876223\n",
      "doc987 [ 0.00010246 -0.00010246] 0.00020491670927933104\n",
      "doc988 [-0.00236623  0.00236623] -0.004732467932183654\n",
      "doc989 [ 0.00069938 -0.00069938] 0.0013987681490291713\n",
      "doc990 [-5.15274455e-05  5.15274455e-05] -0.00010305489096765846\n",
      "doc991 [-1.63418291e-05  1.63418291e-05] -3.26836581709144e-05\n",
      "doc992 [ 0.00188916 -0.00188916] 0.0037783140979795217\n",
      "doc993 [-0.00053426  0.00053426] -0.0010685228272449242\n",
      "doc994 [ 0.00092151 -0.00092151] 0.0018430265386787145\n",
      "doc995 [-0.00036013  0.00036013] -0.0007202601799609132\n",
      "doc996 [ 0.00021873 -0.00021873] 0.00043746958637469577\n",
      "doc997 [-0.00016222  0.00016222] -0.000324448191825518\n",
      "doc998 [-0.00014703  0.00014703] -0.00029405782715165925\n",
      "doc999 [-0.00017787  0.00017787] -0.0003557307767681105\n",
      "doc1000 [-7.39333723e-05  7.39333723e-05] -0.00014786674459380463\n",
      "doc1001 [ 0.0005 -0.0005] 0.0010000000000000013\n",
      "doc1002 [-0.0006565  0.0006565] -0.0013129971684695003\n",
      "doc1003 [ 0.00024255 -0.00024255] 0.0004851042286664659\n",
      "doc1004 [ 0.00106359 -0.00106359] 0.0021271771622030002\n",
      "doc1005 [ 0.00043594 -0.00043594] 0.0008718756992301724\n",
      "doc1006 [ 0.00060825 -0.00060825] 0.0012165003942470197\n",
      "doc1007 [-0.00201737  0.00201737] -0.004034732313949735\n",
      "doc1008 [ 0.00197742 -0.00197742] 0.0039548481499917685\n",
      "doc1009 [-4.30289659e-05  4.30289659e-05] -8.605793181619599e-05\n",
      "doc1010 [-1.56401045e-05  1.56401045e-05] -3.128020891947656e-05\n",
      "doc1011 [ 9.05545177e-05 -9.05545177e-05] 0.0001811090353661173\n",
      "doc1012 [-5.81902076e-05  5.81902076e-05] -0.0001163804152781339\n",
      "doc1013 [ 0.00083019 -0.00083019] 0.0016603841032859792\n",
      "doc1014 [ 0.00103124 -0.00103124] 0.0020624761574475465\n",
      "doc1015 [ 0.00304721 -0.00304721] 0.0060944188290532175\n",
      "doc1016 [-0.00013262  0.00013262] -0.0002652499762830848\n",
      "doc1017 [-0.00011324  0.00011324] -0.0002264850338244831\n",
      "doc1018 [-0.00034806  0.00034806] -0.0006961240310077526\n",
      "doc1019 [-3.25914397e-05  3.25914397e-05] -6.518287937743185e-05\n",
      "doc1020 [-0.0004833  0.0004833] -0.0009666038071289595\n",
      "doc1021 [-0.00055176  0.00055176] -0.0011035246077799265\n",
      "doc1022 [-0.00018819  0.00018819] -0.00037637642827510244\n",
      "doc1023 [-0.00013142  0.00013142] -0.00026284153005464513\n",
      "doc1024 [ 0.00211686 -0.00211686] 0.004233712631043794\n",
      "doc1025 [-0.00063034  0.00063034] -0.001260685643130704\n",
      "doc1026 [ 0.00040309 -0.00040309] 0.000806187513222514\n",
      "doc1027 [-0.00013092  0.00013092] -0.0002618456607680015\n",
      "doc1029 [ 0.00571526 -0.00571526] 0.01143052113876922\n",
      "doc1030 [-0.00043226  0.00043226] -0.0008645231868155389\n",
      "doc1031 [-0.00072732  0.00072732] -0.0014546310832025116\n",
      "doc1032 [-0.00112215  0.00112215] -0.002244309254448495\n",
      "doc1033 [ 0.00184791 -0.00184791] 0.0036958211458973963\n",
      "doc1034 [ 0.00059379 -0.00059379] 0.001187588876854922\n",
      "doc1035 [ 5.71969697e-05 -5.71969697e-05] 0.00011439393939393947\n",
      "doc1036 [ 0.00016791 -0.00016791] 0.00033581175052963837\n",
      "doc1037 [ 0.00039741 -0.00039741] 0.0007948254676615068\n",
      "doc1038 [ 0.00112273 -0.00112273] 0.002245469580371394\n",
      "doc1039 [ 0.00517365 -0.00517365] 0.010347296404817933\n",
      "doc1040 [-0.00051283  0.00051283] -0.0010256620871250677\n",
      "doc1042 [-8.59024587e-05  8.59024587e-05] -0.00017180491744254724\n",
      "doc1043 [-0.0018547  0.0018547] -0.003709390134151589\n",
      "doc1044 [-9.7005988e-05  9.7005988e-05] -0.00019401197604790467\n",
      "doc1045 [ 0.00185239 -0.00185239] 0.00370478027464327\n",
      "doc1046 [-0.00036177  0.00036177] -0.000723530939095555\n",
      "doc1049 [ 0.0001763 -0.0001763] 0.00035259803406840134\n",
      "doc1050 [ 0.00045133 -0.00045133] 0.0009026661809274509\n",
      "doc1051 [-7.73080337e-05  7.73080337e-05] -0.00015461606742127017\n",
      "doc1054 [ 0.00076007 -0.00076007] 0.0015201373091026065\n",
      "doc1055 [ 0.00047633 -0.00047633] 0.000952654911075324\n",
      "doc1056 [ 0.0013792 -0.0013792] 0.002758398900983075\n",
      "doc1057 [-1.352657e-05  1.352657e-05] -2.7053140096618354e-05\n",
      "doc1058 [ 8.24783478e-05 -8.24783478e-05] 0.00016495669553630955\n",
      "doc1059 [ 0.00010852 -0.00010852] 0.00021704747305156103\n",
      "doc1060 [ 0.0011558 -0.0011558] 0.0023115992398886876\n",
      "doc1061 [-0.00033984  0.00033984] -0.0006796729791119201\n",
      "doc1062 [-8.23519712e-05  8.23519712e-05] -0.00016470394238707746\n",
      "doc1063 [ 0.00021261 -0.00021261] 0.0004252174498370258\n",
      "doc1064 [-9.89201003e-05  9.89201003e-05] -0.00019784020058539607\n",
      "doc1065 [ 0.00014458 -0.00014458] 0.0002891617196068292\n",
      "doc1066 [ 0.00202961 -0.00202961] 0.0040592102327638765\n",
      "doc1067 [-0.00147236  0.00147236] -0.0029447112688709438\n",
      "doc1068 [-0.0018256  0.0018256] -0.003651201008228217\n",
      "doc1069 [ 0.00149576 -0.00149576] 0.0029915216912915063\n",
      "doc1070 [-0.0006136  0.0006136] -0.0012271944922547324\n",
      "doc1071 [-4.46099925e-06  4.46099925e-06] -8.92199850420129e-06\n",
      "doc1072 [-0.00010193  0.00010193] -0.00020386100386100392\n",
      "doc1073 [-0.00355295  0.00355295] -0.007105893913311685\n",
      "doc1076 [-6.12440191e-05  6.12440191e-05] -0.00012248803827751196\n",
      "doc1077 [-0.00011521  0.00011521] -0.0002304118829148022\n",
      "doc1078 [ 0.00032277 -0.00032277] 0.0006455322957663806\n",
      "doc1079 [ 0.00019761 -0.00019761] 0.00039522541592704186\n",
      "doc1080 [ 0.00029406 -0.00029406] 0.0005881116525109635\n",
      "doc1081 [ 0.00223009 -0.00223009] 0.004460182329555138\n",
      "doc1082 [ 0.00064171 -0.00064171] 0.001283422459893047\n",
      "doc1083 [ 0.00013433 -0.00013433] 0.0002686630561750026\n",
      "doc1084 [-0.000202  0.000202] -0.00040399615394087643\n",
      "doc1085 [-0.00175481  0.00175481] -0.003509626837784834\n",
      "doc1086 [-5.81516096e-05  5.81516096e-05] -0.00011630321910695736\n",
      "doc1087 [ 0.00029938 -0.00029938] 0.0005987661683860452\n",
      "doc1088 [ 0.00342787 -0.00342787] 0.006855732824903094\n",
      "doc1089 [-0.00038602  0.00038602] -0.0007720327968451142\n",
      "doc1090 [ 0.00421708 -0.00421708] 0.008434152160294016\n",
      "doc1091 [-3.80453752e-05  3.80453752e-05] -7.609075043630027e-05\n",
      "doc1092 [ 0.00010014 -0.00010014] 0.00020027944712481944\n",
      "doc1093 [-0.0001254  0.0001254] -0.00025080141497501934\n",
      "doc1094 [-0.00168623  0.00168623] -0.0033724540634183188\n",
      "doc1095 [-0.0003997  0.0003997] -0.0007994085173284092\n",
      "doc1096 [-6.22638952e-05  6.22638952e-05] -0.00012452779045312394\n",
      "doc1097 [-0.00077529  0.00077529] -0.0015505890203038877\n",
      "doc1098 [-0.00010197  0.00010197] -0.00020393638148170077\n",
      "doc1099 [-0.00033076  0.00033076] -0.0006615206498172655\n",
      "doc1100 [-9.26377172e-05  9.26377172e-05] -0.00018527543449243917\n",
      "doc1101 [ 0.00051768 -0.00051768] 0.001035361331901974\n",
      "doc1102 [ 0.00047174 -0.00047174] 0.0009434780657467724\n",
      "doc1104 [-2.22048067e-05  2.22048067e-05] -4.440961337513057e-05\n",
      "doc1105 [-4.55772873e-05  4.55772873e-05] -9.115457456650599e-05\n",
      "doc1106 [ 0.00048936 -0.00048936] 0.0009787265448264859\n",
      "doc1107 [ 0.00011716 -0.00011716] 0.00023432977913175933\n",
      "doc1108 [ 0.00063905 -0.00063905] 0.0012780971210767183\n",
      "doc1109 [ 0.00098855 -0.00098855] 0.001977097456209438\n",
      "doc1110 [ 0.00048379 -0.00048379] 0.0009675806419119651\n",
      "doc1111 [ 0.00092953 -0.00092953] 0.0018590505953607578\n",
      "doc1112 [ 0.00015124 -0.00015124] 0.0003024891774891776\n",
      "doc1113 [ 0.00132106 -0.00132106] 0.0026421209239180427\n",
      "doc1114 [-0.00042722  0.00042722] -0.0008544368788792596\n",
      "doc1115 [ 0.00137808 -0.00137808] 0.0027561502323916465\n",
      "doc1116 [-4.65144016e-06  4.65144016e-06] -9.302880314866706e-06\n",
      "doc1117 [-2.77777778e-05  2.77777778e-05] -5.555555555555546e-05\n",
      "doc1119 [ 0.00026883 -0.00026883] 0.0005376508087601513\n",
      "doc1120 [-0.00078245  0.00078245] -0.0015648908528432756\n",
      "doc1121 [-7.58177211e-05  7.58177211e-05] -0.00015163544214797354\n",
      "doc1122 [-0.00011759  0.00011759] -0.00023517102839866984\n",
      "doc1123 [ 0.00028559 -0.00028559] 0.0005711835334476847\n",
      "doc1124 [-7.1853193e-05  7.1853193e-05] -0.0001437063859876997\n",
      "doc1125 [-0.00020322  0.00020322] -0.00040644721262709\n",
      "doc1126 [-0.00020667  0.00020667] -0.00041334165164050285\n",
      "doc1127 [-0.00034847  0.00034847] -0.0006969422380686588\n",
      "doc1128 [-0.00073969  0.00073969] -0.0014793890917039233\n",
      "doc1129 [-0.0001104  0.0001104] -0.00022080067863409724\n",
      "doc1130 [-0.00014384  0.00014384] -0.0002876714865830737\n",
      "doc1131 [ 1.28676198e-06 -1.28676198e-06] 2.5735239570896716e-06\n",
      "doc1132 [-0.00334448  0.00334448] -0.006688965678668387\n",
      "doc1133 [ 0.00011243 -0.00011243] 0.00022486542929204303\n",
      "doc1134 [ 0.00013625 -0.00013625] 0.00027249214361721333\n",
      "doc1137 [-1.13378904e-05  1.13378904e-05] -2.2675780871787982e-05\n",
      "doc1138 [-0.00034615  0.00034615] -0.0006923076923076922\n",
      "doc1139 [-9.18526207e-05  9.18526207e-05] -0.00018370524130773214\n",
      "doc1140 [-9.48414771e-05  9.48414771e-05] -0.00018968295415489397\n",
      "doc1141 [ 0.00046242 -0.00046242] 0.0009248398234709309\n",
      "doc1142 [ 4.49722245e-05 -4.49722245e-05] 8.994444905518189e-05\n",
      "doc1143 [-0.00013497  0.00013497] -0.00026993094789704963\n",
      "doc1145 [-0.00017991  0.00017991] -0.0003598234559614987\n",
      "doc1146 [-0.0018015  0.0018015] -0.0036030078713453787\n",
      "doc1147 [-0.00095073  0.00095073] -0.0019014588534654205\n",
      "doc1148 [ 0.00072822 -0.00072822] 0.0014564383561643844\n",
      "doc1149 [-0.00226083  0.00226083] -0.00452165335022925\n",
      "doc1150 [-0.00016425  0.00016425] -0.00032849876413906787\n",
      "doc1151 [ 0.00014776 -0.00014776] 0.000295519635111789\n",
      "doc1152 [-0.0009327  0.0009327] -0.0018653928092925841\n",
      "doc1153 [-0.0006668  0.0006668] -0.0013336090055834943\n",
      "doc1154 [ 1.16625381e-05 -1.16625381e-05] 2.3325076195818445e-05\n",
      "doc1155 [-0.00012795  0.00012795] -0.00025589957479235225\n",
      "doc1157 [-0.00012454  0.00012454] -0.0002490752042114949\n",
      "doc1158 [ 0.00179324 -0.00179324] 0.003586476194252127\n",
      "doc1159 [ 0.00052156 -0.00052156] 0.0010431261367681972\n",
      "doc1160 [-1.76883177e-05  1.76883177e-05] -3.5376635376635184e-05\n",
      "doc1161 [-5.67846915e-05  5.67846915e-05] -0.00011356938290096846\n",
      "doc1162 [-6.14509717e-05  6.14509717e-05] -0.0001229019434628975\n",
      "doc1163 [-0.00029849  0.00029849] -0.0005969757794727676\n",
      "doc1164 [-2.28479558e-05  2.28479558e-05] -4.569591152702204e-05\n",
      "doc1165 [ 0.00082133 -0.00082133] 0.0016426630867297219\n",
      "doc1166 [-0.00462762  0.00462762] -0.009255244392701218\n",
      "doc1167 [-0.00098148  0.00098148] -0.0019629629629629606\n",
      "doc1169 [ 7.76000624e-05 -7.76000624e-05] 0.0001552001248656233\n",
      "doc1170 [-7.55785365e-05  7.55785365e-05] -0.0001511570729345551\n",
      "doc1171 [-4.63186873e-05  4.63186873e-05] -9.263737469115049e-05\n",
      "doc1172 [-0.00060686  0.00060686] -0.0012137265800948943\n",
      "doc1173 [ 0.00069272 -0.00069272] 0.0013854464045965872\n",
      "doc1174 [-0.00224196  0.00224196] -0.004483928311300071\n",
      "doc1175 [ 0.00029658 -0.00029658] 0.0005931674007336831\n",
      "doc1176 [ 0.0001731 -0.0001731] 0.00034619850656740725\n",
      "doc1177 [-0.00125294  0.00125294] -0.0025058809380194298\n",
      "doc1178 [-0.00049784  0.00049784] -0.0009956707996571917\n",
      "doc1179 [-0.001378  0.001378] -0.0027559952024184017\n",
      "doc1180 [-0.00249086  0.00249086] -0.004981721096623968\n",
      "doc1181 [-0.00196504  0.00196504] -0.003930080804096561\n",
      "doc1182 [-0.00043038  0.00043038] -0.0008607633468056959\n",
      "doc1184 [ 0.00129738 -0.00129738] 0.002594750314786401\n",
      "doc1185 [ 0.00014156 -0.00014156] 0.00028311709647604194\n",
      "doc1186 [-6.44382311e-05  6.44382311e-05] -0.00012887646219209942\n",
      "doc1187 [-7.09482852e-05  7.09482852e-05] -0.00014189657037758303\n",
      "doc1188 [-9.92592593e-05  9.92592593e-05] -0.00019851851851851872\n",
      "doc1189 [ 7.88209969e-06 -7.88209969e-06] 1.576419937075659e-05\n",
      "doc1190 [ 0.00016789 -0.00016789] 0.00033578580793866845\n",
      "doc1191 [ 0.00039153 -0.00039153] 0.0007830651868239544\n",
      "doc1192 [-0.00010699  0.00010699] -0.00021397691101715055\n",
      "doc1193 [-0.00051951  0.00051951] -0.0010390233677352596\n",
      "doc1194 [ 0.00129209 -0.00129209] 0.0025841889792105545\n",
      "doc1195 [ 0.00043211 -0.00043211] 0.0008642202634546132\n",
      "doc1196 [ 0.00027548 -0.00027548] 0.0005509548378977835\n",
      "doc1197 [-0.00016846  0.00016846] -0.0003369202226345084\n",
      "doc1199 [-0.00018951  0.00018951] -0.00037902532092203397\n",
      "doc1200 [ 0.0005599 -0.0005599] 0.0011198090397275028\n",
      "doc1201 [ 0.00070491 -0.00070491] 0.0014098128399070526\n",
      "doc1202 [-0.00100125  0.00100125] -0.0020025053148876844\n",
      "doc1203 [-0.00158532  0.00158532] -0.0031706484700782358\n",
      "doc1204 [ 0.00152318 -0.00152318] 0.003046367932564153\n",
      "doc1205 [-0.00068133  0.00068133] -0.0013626581878057483\n",
      "doc1206 [-0.00022556  0.00022556] -0.0004511185673884002\n",
      "doc1207 [-0.00019126  0.00019126] -0.0003825290623746126\n",
      "doc1208 [ 0.00022587 -0.00022587] 0.0004517403220906615\n",
      "doc1210 [-1.96808026e-05  1.96808026e-05] -3.936160521820421e-05\n",
      "doc1211 [ 7.5727627e-05 -7.5727627e-05] 0.0001514552540089316\n",
      "doc1212 [-7.24188651e-05  7.24188651e-05] -0.00014483773012870037\n",
      "doc1213 [ 0.00252456 -0.00252456] 0.005049127545287984\n",
      "doc1214 [ 3.12682642e-05 -3.12682642e-05] 6.253652834599635e-05\n",
      "doc1215 [-0.00038043  0.00038043] -0.0007608552659373709\n",
      "doc1216 [ 0.00196083 -0.00196083] 0.003921654607392788\n",
      "doc1218 [-0.0002973  0.0002973] -0.0005946097578099704\n",
      "doc1219 [-0.00166896  0.00166896] -0.0033379238729905857\n",
      "doc1220 [-0.00019159  0.00019159] -0.00038317811347668353\n",
      "doc1221 [-0.00043648  0.00043648] -0.00087295015619567\n",
      "doc1222 [-0.00027851  0.00027851] -0.0005570229276131065\n",
      "doc1223 [ 0.00166399 -0.00166399] 0.003327986427576356\n",
      "doc1224 [-0.00018928  0.00018928] -0.00037855542679449675\n",
      "doc1225 [ 0.00014416 -0.00014416] 0.0002883116883116885\n",
      "doc1226 [-3.53744112e-05  3.53744112e-05] -7.07488224550609e-05\n",
      "doc1227 [ 0.00013538 -0.00013538] 0.0002707660696453076\n",
      "doc1229 [-9.88456081e-05  9.88456081e-05] -0.00019769121613847629\n",
      "doc1230 [ 0.00383159 -0.00383159] 0.007663185034784761\n",
      "doc1231 [ 0.00080942 -0.00080942] 0.0016188315060709547\n",
      "doc1232 [-6.55217559e-05  6.55217559e-05] -0.00013104351174432033\n",
      "doc1233 [-0.00037925  0.00037925] -0.0007584937721520854\n",
      "doc1234 [-8.58064869e-05  8.58064869e-05] -0.00017161297377188398\n",
      "doc1235 [ 0.00020585 -0.00020585] 0.0004117031000736063\n",
      "doc1236 [ 0.00111924 -0.00111924] 0.002238473901320917\n",
      "doc1237 [ 0.00040244 -0.00040244] 0.0008048831576027992\n",
      "doc1238 [ 0.0006653 -0.0006653] 0.0013306007491324361\n",
      "doc1239 [ 0.00016509 -0.00016509] 0.00033018858736451686\n",
      "doc1240 [-0.00154349  0.00154349] -0.0030869802191181113\n",
      "doc1241 [-0.00033761  0.00033761] -0.000675227754196398\n",
      "doc1242 [-0.00016278  0.00016278] -0.00032556213587558357\n",
      "doc1243 [-0.00091969  0.00091969] -0.0018393885856027854\n",
      "doc1244 [ 0.00109935 -0.00109935] 0.0021987084670768257\n",
      "doc1245 [-6.75271787e-05  6.75271787e-05] -0.00013505435737435473\n",
      "doc1246 [-0.00074741  0.00074741] -0.0014948274790138744\n",
      "doc1247 [ 4.16600003e-05 -4.16600003e-05] 8.332000061259909e-05\n",
      "doc1248 [-0.00020279  0.00020279] -0.0004055707816861673\n",
      "doc1249 [ 5.154704e-05 -5.154704e-05] 0.00010309407993872675\n",
      "doc1250 [-0.00022298  0.00022298] -0.0004459595041494113\n",
      "doc1251 [ 0.00042439 -0.00042439] 0.000848786202509105\n",
      "doc1252 [-6.75567779e-05  6.75567779e-05] -0.00013511355583050656\n",
      "doc1253 [ 0.00010337 -0.00010337] 0.0002067330398475918\n",
      "doc1255 [-7.56395996e-05  7.56395996e-05] -0.0001512791991101223\n",
      "doc1256 [ 0.00132385 -0.00132385] 0.002647690014903129\n",
      "doc1257 [ 6.19031879e-05 -6.19031879e-05] 0.00012380637578271567\n",
      "doc1258 [ 0.00025967 -0.00025967] 0.0005193334812539775\n",
      "doc1259 [-0.00321763  0.00321763] -0.0064352568918787465\n",
      "doc1261 [-0.00097407  0.00097407] -0.0019481308107175798\n",
      "doc1262 [-0.00038483  0.00038483] -0.0007696674487436559\n",
      "doc1263 [-0.00155964  0.00155964] -0.0031192887038362666\n",
      "doc1264 [ 0.00186122 -0.00186122] 0.0037224339094349907\n",
      "doc1265 [-4.0525082e-05  4.0525082e-05] -8.105016397633599e-05\n",
      "doc1266 [ 6.99229196e-05 -6.99229196e-05] 0.00013984583923234224\n",
      "doc1268 [ 0.00039584 -0.00039584] 0.000791675463438191\n",
      "doc1269 [ 0.000962 -0.000962] 0.0019239996513594328\n",
      "doc1270 [-1.90344862e-05  1.90344862e-05] -3.806897231011682e-05\n",
      "doc1271 [-4.7268216e-05  4.7268216e-05] -9.453643193150021e-05\n",
      "doc1272 [ 0.00056325 -0.00056325] 0.001126492702344095\n",
      "doc1273 [ 0.00030174 -0.00030174] 0.0006034872301514092\n",
      "doc1274 [-8.00289155e-05  8.00289155e-05] -0.0001600578309389931\n",
      "doc1275 [ 0.00032975 -0.00032975] 0.0006594926922622673\n",
      "doc1276 [ 0.00026369 -0.00026369] 0.0005273894322307083\n",
      "doc1277 [ 0.00040811 -0.00040811] 0.0008162287487045569\n",
      "doc1278 [ 0.00146767 -0.00146767] 0.0029353474432080133\n",
      "doc1279 [-0.00048245  0.00048245] -0.0009649000325523648\n",
      "doc1280 [ 9.53912373e-05 -9.53912373e-05] 0.00019078247462368288\n",
      "doc1281 [-0.00077827  0.00077827] -0.0015565337445839745\n",
      "doc1282 [ 0.00011965 -0.00011965] 0.00023929166269666418\n",
      "doc1283 [-0.00070851  0.00070851] -0.0014170291357668324\n",
      "doc1284 [ 9.12698413e-05 -9.12698413e-05] 0.0001825396825396826\n",
      "doc1285 [ 0.00014748 -0.00014748] 0.00029496508378595507\n",
      "doc1286 [-4.9694408e-05  4.9694408e-05] -9.938881590221079e-05\n",
      "doc1287 [ 0.00010153 -0.00010153] 0.00020305245009125448\n",
      "doc1288 [ 0.00105505 -0.00105505] 0.0021101059369029126\n",
      "doc1289 [ 0.00071583 -0.00071583] 0.0014316583001045746\n",
      "doc1290 [ 7.55652572e-05 -7.55652572e-05] 0.00015113051445818872\n",
      "doc1291 [-0.00023478  0.00023478] -0.0004695506564206362\n",
      "doc1292 [-0.00015199  0.00015199] -0.00030398561398340426\n",
      "doc1293 [-0.00011845  0.00011845] -0.0002369001411639357\n",
      "doc1295 [ 0.00080201 -0.00080201] 0.0016040123061790094\n",
      "doc1296 [-0.00055531  0.00055531] -0.001110629258531453\n",
      "doc1297 [-0.00029627  0.00029627] -0.0005925382326055096\n",
      "doc1299 [ 0.01614628 -0.01614628] 0.03229255293464474\n",
      "doc1300 [-0.00175197  0.00175197] -0.003503943314199012\n",
      "doc1301 [ 0.00027179 -0.00027179] 0.0005435719203106809\n",
      "doc1302 [ 0.0004279 -0.0004279] 0.0008557927914956322\n",
      "doc1303 [-0.00053447  0.00053447] -0.0010689476328627685\n",
      "doc1304 [-0.00158327  0.00158327] -0.00316654877658869\n",
      "doc1305 [-0.00014289  0.00014289] -0.00028577827547592407\n",
      "doc1306 [-0.00023159  0.00023159] -0.0004631863536905295\n",
      "doc1307 [ 0.00012353 -0.00012353] 0.0002470657375535221\n",
      "doc1308 [ 0.00022071 -0.00022071] 0.00044142031505065303\n",
      "doc1309 [-0.00059964  0.00059964] -0.0011992840196838903\n",
      "doc1310 [ 0.00064988 -0.00064988] 0.0012997614748671794\n",
      "doc1311 [-6.6034776e-05  6.6034776e-05] -0.00013206955204297574\n",
      "doc1312 [-0.00157443  0.00157443] -0.0031488623624684273\n",
      "doc1313 [ 0.00047139 -0.00047139] 0.000942772641940396\n",
      "doc1314 [-1.65130631e-05  1.65130631e-05] -3.3026126199602857e-05\n"
     ]
    }
   ],
   "source": [
    "# ok so this cell was never run before\n",
    "# when I got it\n",
    "# guess I'll run it then\n",
    "for k in range(contrib.shape[0]):\n",
    "    for c, feature in zip(contrib[k], [f'doc{x}' for x in range(4686)]):\n",
    "        if abs(c[0] - c[1]) < 0.000001:\n",
    "            continue\n",
    "        print(feature, c, c[0] - c[1])"
   ]
  },
  {
   "cell_type": "code",
   "execution_count": 88,
   "metadata": {},
   "outputs": [
    {
     "data": {
      "text/plain": [
       "(1315, 2)"
      ]
     },
     "execution_count": 88,
     "metadata": {},
     "output_type": "execute_result"
    }
   ],
   "source": [
    "contrib[0].shape\n",
    "# ok, from this point on, pretty much none of the cells are run\n",
    "# maybe Will said fuck it and decided to make a new file instead LOl"
   ]
  },
  {
   "cell_type": "code",
   "execution_count": 89,
   "metadata": {},
   "outputs": [
    {
     "data": {
      "text/plain": [
       "(10382, 1315)"
      ]
     },
     "execution_count": 89,
     "metadata": {},
     "output_type": "execute_result"
    }
   ],
   "source": [
    "vax_mm.mat.shape"
   ]
  },
  {
   "cell_type": "code",
   "execution_count": 90,
   "metadata": {},
   "outputs": [],
   "source": [
    "from sklearn.tree import DecisionTreeClassifier, plot_tree"
   ]
  },
  {
   "cell_type": "code",
   "execution_count": 91,
   "metadata": {},
   "outputs": [],
   "source": [
    "from sklearn.tree import _tree\n",
    "\n",
    "def tree_to_code(tree, feature_names):\n",
    "    tree_ = tree.tree_\n",
    "    feature_name = [\n",
    "        feature_names[i] if i != _tree.TREE_UNDEFINED else \"undefined!\"\n",
    "        for i in tree_.feature\n",
    "    ]\n",
    "    print(\"def tree({}):\\n  path = []\".format(\", \".join(feature_names)))\n",
    "\n",
    "    def recurse(node, depth):\n",
    "        indent = \"  \" * depth\n",
    "        if tree_.feature[node] != _tree.TREE_UNDEFINED:\n",
    "            name = feature_name[node]\n",
    "            threshold = tree_.threshold[node]\n",
    "            print(\"{}if {} <= {}:\".format(indent, name, threshold))\n",
    "            print(\"{}  print('{} <= {}')\".format(indent, name, threshold))\n",
    "            print(\"{}  path.append(({}, '<=', {}))\".format(indent, name[3:], threshold))\n",
    "            recurse(tree_.children_left[node], depth + 1)\n",
    "            print(\"{}else:  # if {} > {}\".format(indent, name, threshold))\n",
    "            print(\"{}  print('{} > {}')\".format(indent, name, threshold))\n",
    "            print(\"{}  path.append(({}, '>', {}))\".format(indent, name[3:], threshold))\n",
    "            recurse(tree_.children_right[node], depth + 1)\n",
    "        else:\n",
    "#             print(tree_.value[node].shape)\n",
    "            print(\"{}return ({}, path)\".format(indent, list(tree_.value[node].ravel())))\n",
    "\n",
    "    recurse(0, 1)\n"
   ]
  },
  {
   "cell_type": "code",
   "execution_count": null,
   "metadata": {},
   "outputs": [],
   "source": [
    "def explain_tree(idx):\n",
    "    (res, path) = tree(*vbad2ref[idx, :])\n",
    "    print('RESULT: {}, {}'.format(res, tmodel.predict(vbad2ref[idx, :].reshape((1, -1)))))\n",
    "    print('Clean Text: {}'.format(vax_bad_df.iloc[idx].cleanText))\n",
    "    for term in path:\n",
    "        name, op, thresh = term\n",
    "        print('-'*25)\n",
    "        print('CRITERIA: ({}): {} {}'.format(name, op, thresh))\n",
    "        print('TITLE: {}'.format(has_vax.iloc[name].title))\n",
    "        print('ABSTRACT: {}'.format(has_vax.iloc[name].abstract))"
   ]
  },
  {
   "cell_type": "code",
   "execution_count": null,
   "metadata": {},
   "outputs": [],
   "source": [
    "explain_tree(310)"
   ]
  },
  {
   "cell_type": "code",
   "execution_count": null,
   "metadata": {
    "scrolled": true
   },
   "outputs": [],
   "source": [
    "tree_to_code(tmodel, [f'doc{x}' for x in range(4686)])"
   ]
  },
  {
   "cell_type": "code",
   "execution_count": null,
   "metadata": {},
   "outputs": [],
   "source": [
    "tree(*vgood2ref[254, :])"
   ]
  },
  {
   "cell_type": "code",
   "execution_count": null,
   "metadata": {},
   "outputs": [],
   "source": [
    "tree(*vgood2ref[255, :])"
   ]
  },
  {
   "cell_type": "code",
   "execution_count": null,
   "metadata": {},
   "outputs": [],
   "source": [
    "vax_good_df.iloc[255].cleanText"
   ]
  },
  {
   "cell_type": "code",
   "execution_count": null,
   "metadata": {},
   "outputs": [],
   "source": [
    "has_vax.iloc[4460].abstract"
   ]
  },
  {
   "cell_type": "code",
   "execution_count": null,
   "metadata": {
    "scrolled": true
   },
   "outputs": [],
   "source": [
    "plot_tree(tmodel)"
   ]
  },
  {
   "cell_type": "code",
   "execution_count": null,
   "metadata": {},
   "outputs": [],
   "source": [
    "s_cord_df = cord_df.sample(n=3000)\n",
    "good_mat = "
   ]
  },
  {
   "cell_type": "code",
   "execution_count": null,
   "metadata": {},
   "outputs": [],
   "source": [
    "def get_results(num, k=5):\n",
    "    res = model.predict(vgood2ref[num, :].reshape(1, -1))\n",
    "    print(res)\n",
    "    weights = model.coef_ * vgood2ref[num, :].T\n",
    "#     top_k = np.argsort(weights)[0, :k]\n",
    "    top_k = np.argsort(weights)[0, :k]\n",
    "    print('Clean Text: ', vax_good_df.iloc[num].cleanText)\n",
    "    for el in top_k:\n",
    "        print('-'*25)\n",
    "        print(f'Weight: {weights[0, el]}')\n",
    "        print(f'Related abstract ({el}): {has_vax.iloc[el].abstract}')\n",
    "        print(f'Related title ({el}): {has_vax.iloc[el].title}')"
   ]
  },
  {
   "cell_type": "code",
   "execution_count": null,
   "metadata": {},
   "outputs": [],
   "source": [
    "# get_results(2912)"
   ]
  },
  {
   "cell_type": "code",
   "execution_count": null,
   "metadata": {
    "scrolled": true
   },
   "outputs": [],
   "source": [
    "get_results(129)"
   ]
  },
  {
   "cell_type": "code",
   "execution_count": null,
   "metadata": {},
   "outputs": [],
   "source": [
    "[(model.coef_[0, x], has_vax.iloc[x].abstract) for x in np.argsort(model.coef_[0, :])[::-1][:10]]"
   ]
  },
  {
   "cell_type": "code",
   "execution_count": null,
   "metadata": {},
   "outputs": [],
   "source": [
    "cord_df"
   ]
  },
  {
   "cell_type": "code",
   "execution_count": null,
   "metadata": {},
   "outputs": [],
   "source": [
    "vax_bad_df.iloc[0].mean_embed.shape"
   ]
  },
  {
   "cell_type": "code",
   "execution_count": null,
   "metadata": {},
   "outputs": [],
   "source": [
    "false_df['text'].swifter.apply(lambda x: 'myth' in x.lower()).sum()"
   ]
  },
  {
   "cell_type": "code",
   "execution_count": null,
   "metadata": {},
   "outputs": [],
   "source": [
    "false_df = claims_df[claims_df['label'] == 'false']\n",
    "true_df = claims_df[claims_df['label'] == 'true']"
   ]
  },
  {
   "cell_type": "code",
   "execution_count": null,
   "metadata": {},
   "outputs": [],
   "source": []
  },
  {
   "cell_type": "code",
   "execution_count": null,
   "metadata": {},
   "outputs": [],
   "source": [
    "s_mat.iloc[0].shape"
   ]
  },
  {
   "cell_type": "code",
   "execution_count": null,
   "metadata": {},
   "outputs": [],
   "source": [
    "from sklearn.linear_model import LogisticRegression\n",
    "from scipy.spatial.distance import cdist"
   ]
  },
  {
   "cell_type": "code",
   "execution_count": null,
   "metadata": {},
   "outputs": [],
   "source": [
    "true_mat = np.vstack(true_df.bert_embedding)\n",
    "fake_mat = np.vstack(false_df.bert_embedding)"
   ]
  },
  {
   "cell_type": "code",
   "execution_count": null,
   "metadata": {
    "scrolled": true
   },
   "outputs": [],
   "source": [
    "best_model = None\n",
    "best_f1 = 0\n",
    "\n",
    "for i in tqdm(range(1000)):\n",
    "    s_cord = cord_df.sample(100)\n",
    "    s_mat = np.vstack(s_cord['sent_embeddings'].swifter.progress_bar(False).apply(lambda x: x.mean(axis=0)))\n",
    "    model = LogisticRegression(max_iter=1000)\n",
    "    true2s = cdist(true_mat, s_mat, 'cosine') # try cosine?\n",
    "    fake2s = cdist(fake_mat, s_mat, 'cosine')\n",
    "    mm = MarkedMatrix([('true', true2s), ('fake', fake2s)])\n",
    "    acc, f1 = mm.single_split_classify(model, verbose=False)\n",
    "    if f1 > best_f1:\n",
    "        best_f1 = f1\n",
    "        best_model = model\n",
    "        print('New best F1: ', best_f1)"
   ]
  },
  {
   "cell_type": "code",
   "execution_count": null,
   "metadata": {},
   "outputs": [],
   "source": [
    "best_f1"
   ]
  },
  {
   "cell_type": "code",
   "execution_count": null,
   "metadata": {},
   "outputs": [],
   "source": [
    "cnt = 0\n",
    "for x in np.argsort(model.coef_[0, :])[::-1]:\n",
    "    print(s_cord.iloc[x].title)\n",
    "    cnt += 1\n",
    "    if cnt > 1000:\n",
    "        break"
   ]
  },
  {
   "cell_type": "code",
   "execution_count": null,
   "metadata": {},
   "outputs": [],
   "source": []
  },
  {
   "cell_type": "code",
   "execution_count": null,
   "metadata": {},
   "outputs": [],
   "source": [
    "claim_df = load_pickle('./pickles/newest_claims_df_labelled.pkl')"
   ]
  },
  {
   "cell_type": "code",
   "execution_count": null,
   "metadata": {},
   "outputs": [],
   "source": [
    "claim_df"
   ]
  },
  {
   "cell_type": "code",
   "execution_count": null,
   "metadata": {},
   "outputs": [],
   "source": [
    "claims_mat = np.array(list(claim_df['bert_embedding']))"
   ]
  },
  {
   "cell_type": "code",
   "execution_count": null,
   "metadata": {},
   "outputs": [],
   "source": []
  },
  {
   "cell_type": "code",
   "execution_count": null,
   "metadata": {},
   "outputs": [],
   "source": [
    "target_df.iloc[11].cleanText"
   ]
  },
  {
   "cell_type": "code",
   "execution_count": null,
   "metadata": {},
   "outputs": [],
   "source": [
    "bad_df[bad_df.hostname == 'beforeitsnews.com'].iloc[4].cleanText"
   ]
  },
  {
   "cell_type": "code",
   "execution_count": null,
   "metadata": {},
   "outputs": [],
   "source": [
    "mm_df = load_pickle('./pickles/mm_df.pkl').dropna()"
   ]
  },
  {
   "cell_type": "code",
   "execution_count": null,
   "metadata": {},
   "outputs": [],
   "source": [
    "cord_df"
   ]
  },
  {
   "cell_type": "code",
   "execution_count": null,
   "metadata": {},
   "outputs": [],
   "source": [
    "cord_df['mean_embed'] = cord_df['sent_embeddings'].swifter.apply(lambda x: x.mean(axis=0))"
   ]
  },
  {
   "cell_type": "code",
   "execution_count": null,
   "metadata": {},
   "outputs": [],
   "source": [
    "s_cord = cord_df.sample(n=100)"
   ]
  },
  {
   "cell_type": "code",
   "execution_count": null,
   "metadata": {},
   "outputs": [],
   "source": [
    "has_vax = cord_df['abstract'].swifter.apply(lambda x: 'vaccine' in x)"
   ]
  },
  {
   "cell_type": "code",
   "execution_count": null,
   "metadata": {},
   "outputs": [],
   "source": [
    "s_cord = cord_df[has_vax]"
   ]
  },
  {
   "cell_type": "code",
   "execution_count": null,
   "metadata": {},
   "outputs": [],
   "source": [
    "mat_cord = np.vstack(s_cord['mean_embed'])"
   ]
  },
  {
   "cell_type": "code",
   "execution_count": null,
   "metadata": {},
   "outputs": [],
   "source": [
    "real_df = mm_df[mm_df['label'] == 'real']\n",
    "fake_df = mm_df[mm_df['label'] == 'fake']"
   ]
  },
  {
   "cell_type": "code",
   "execution_count": null,
   "metadata": {},
   "outputs": [],
   "source": [
    "fake_df = fake_df[fake_df.text != 'NONE']"
   ]
  },
  {
   "cell_type": "code",
   "execution_count": null,
   "metadata": {},
   "outputs": [],
   "source": [
    "good_mat = np.vstack(real_df['mean_embed'])\n",
    "bad_mat = np.vstack(mm_df[mm_df['label'] == 'fake']['mean_embed'])"
   ]
  },
  {
   "cell_type": "code",
   "execution_count": null,
   "metadata": {},
   "outputs": [],
   "source": [
    "mm = MarkedMatrix((('real', good_mat), ('fake', bad_mat)))"
   ]
  },
  {
   "cell_type": "code",
   "execution_count": null,
   "metadata": {},
   "outputs": [],
   "source": [
    "good2cord = cdist(good_mat, mat_cord, 'cosine')\n",
    "bad2cord = cdist(bad_mat, mat_cord, 'cosine')"
   ]
  },
  {
   "cell_type": "code",
   "execution_count": null,
   "metadata": {},
   "outputs": [],
   "source": [
    "mm = MarkedMatrix((('real', good2cord), ('fake', bad2cord)))"
   ]
  },
  {
   "cell_type": "code",
   "execution_count": null,
   "metadata": {},
   "outputs": [],
   "source": [
    "model = LogisticRegression(max_iter=1000, verbose=1, n_jobs=16, solver='lbfgs')"
   ]
  },
  {
   "cell_type": "code",
   "execution_count": null,
   "metadata": {},
   "outputs": [],
   "source": [
    "mm.single_split_classify(model)"
   ]
  },
  {
   "cell_type": "code",
   "execution_count": null,
   "metadata": {},
   "outputs": [],
   "source": [
    "def get_results(num, k=5):\n",
    "    res = model.predict(bad2cord[num, :].reshape(1, -1))\n",
    "    print(res)\n",
    "    weights = model.coef_ * bad2cord[num, :].T\n",
    "#     top_k = np.argsort(weights)[0, :k]\n",
    "    top_k = np.argsort(weights)[0, :k]\n",
    "    print('Clean Text: ', fake_df.iloc[num].text)\n",
    "    for el in top_k:\n",
    "        print('-'*25)\n",
    "        print(f'Weight: {weights[0, el]}')\n",
    "        print(f'Related abstract ({el}): {cord_df.iloc[el].abstract}')\n",
    "        print(f'Related title ({el}): {cord_df.iloc[el].title}')"
   ]
  },
  {
   "cell_type": "code",
   "execution_count": null,
   "metadata": {},
   "outputs": [],
   "source": [
    "get_results(930, k=10)"
   ]
  },
  {
   "cell_type": "code",
   "execution_count": null,
   "metadata": {},
   "outputs": [],
   "source": []
  },
  {
   "cell_type": "markdown",
   "metadata": {},
   "source": [
    "# "
   ]
  }
 ],
 "metadata": {
  "kernelspec": {
   "display_name": "Python 3 (ipykernel)",
   "language": "python",
   "name": "python3"
  },
  "language_info": {
   "codemirror_mode": {
    "name": "ipython",
    "version": 3
   },
   "file_extension": ".py",
   "mimetype": "text/x-python",
   "name": "python",
   "nbconvert_exporter": "python",
   "pygments_lexer": "ipython3",
   "version": "3.9.7"
  }
 },
 "nbformat": 4,
 "nbformat_minor": 4
}
