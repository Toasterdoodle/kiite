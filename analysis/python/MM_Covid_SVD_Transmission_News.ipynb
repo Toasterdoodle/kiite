{
 "cells": [
  {
   "cell_type": "code",
   "execution_count": 1,
   "id": "d7a7b334-a4cc-4ec2-a38e-e7a93b4233ad",
   "metadata": {},
   "outputs": [],
   "source": [
    "# test improvement on transmission dataset\n",
    "# apply news_filter\n",
    "# scan for keyword \"transmission\"\n",
    "\n",
    "# import necessary items\n",
    "# mostly copied over from MM_Covid_Explain2.ipynb\n",
    "# commented some stuff out that I couldn't install\n",
    "# but that also didn't seem to be needed\n",
    "import re\n",
    "# import simdjson as sj\n",
    "# import gzip\n",
    "# from tqdm import tqdm\n",
    "import pandas as pd\n",
    "# from tqdm.notebook import tqdm\n",
    "import swifter\n",
    "# import seaborn as sns\n",
    "import numpy as np\t\n",
    "# from nltk import sent_tokenize\n",
    "# from sentence_transformers import SentenceTransformer\n",
    "# from wutils.general import save_pickle, load_pickle\n",
    "from wutils.mat import MarkedMatrix\n",
    "from scipy.spatial.distance import cdist\n",
    "from sklearn.linear_model import LogisticRegression\n",
    "from sklearn.ensemble import RandomForestClassifier\n",
    "from sklearn.tree import DecisionTreeClassifier\n",
    "from treeinterpreter import treeinterpreter as ti\n",
    "# used to time certain functions that take a long time\n",
    "# not really needed, but somewhat interesting\n",
    "import time\n",
    "# for plotting\n",
    "import matplotlib.pyplot as plt\n",
    "# for saving data to a pickle\n",
    "import pickle"
   ]
  },
  {
   "cell_type": "code",
   "execution_count": 2,
   "id": "72eb7171-370d-4b87-a393-380df9242439",
   "metadata": {},
   "outputs": [
    {
     "name": "stdout",
     "output_type": "stream",
     "text": [
      "seconds:  132.41115593910217\n"
     ]
    }
   ],
   "source": [
    "# load cord-19 (reference) data from pickle\n",
    "# changed from ./pickles/who_cord_df.pkl to ./pickles/newest_cord_df_ft.pkl\n",
    "# changed from load_pickle to pd.read_pickle\n",
    "# this gets rid of an error I've been having\n",
    "start = time.time()\n",
    "cord_df = pd.read_pickle('./pickles/newest_cord_df_ft.pkl')\n",
    "end = time.time()\n",
    "print('seconds: ', end - start)"
   ]
  },
  {
   "cell_type": "code",
   "execution_count": 3,
   "id": "8946676b-1ea3-4ec2-80d0-ca9b667a8725",
   "metadata": {},
   "outputs": [
    {
     "name": "stdout",
     "output_type": "stream",
     "text": [
      "seconds:  155.05500507354736\n"
     ]
    }
   ],
   "source": [
    "# load good (true) data from pickle\n",
    "# changed from ./pickles/newest_good_sample_df_ft.pkl to clean_good_df.pkl\n",
    "# also changed from load_pickle to pd.read_pickle\n",
    "# thanks, stackoverflow!\n",
    "start = time.time()\n",
    "good_df = pd.read_pickle('./pickles/clean_good_df.pkl')\n",
    "end = time.time()\n",
    "print('seconds: ', end - start)"
   ]
  },
  {
   "cell_type": "code",
   "execution_count": null,
   "id": "ed9b166b-3f8f-40a9-aa79-01145e112877",
   "metadata": {},
   "outputs": [],
   "source": [
    "# load bad (false) data from pickle\n",
    "# changed from ./pickles/newest_bad_df_ft.pkl to cleab_bad_df.pkl\n",
    "# changed from load_pickle to pd.read_pickle\n",
    "start = time.time()\n",
    "bad_df = pd.read_pickle('./pickles/clean_bad_df.pkl')\n",
    "end = time.time()\n",
    "print('seconds: ', end - start)"
   ]
  },
  {
   "cell_type": "code",
   "execution_count": null,
   "id": "8d67d0ef-4618-4e0f-ad14-afc7d661a07e",
   "metadata": {},
   "outputs": [],
   "source": [
    "# example of good article\n",
    "good_df[good_df.cleanText.swifter.apply(lambda x: 'Virus-ridden particles are inhaled by others and come into contact with cells' in x)]"
   ]
  },
  {
   "cell_type": "code",
   "execution_count": null,
   "id": "31be1b0a-6d6c-497b-bea1-16fede7fb66e",
   "metadata": {},
   "outputs": [],
   "source": [
    "# function to parse urls\n",
    "import urllib.parse\n",
    "\n",
    "def get_hostname(url):\n",
    "    o = urllib.parse.urlsplit(url)\n",
    "    return o.hostname"
   ]
  },
  {
   "cell_type": "code",
   "execution_count": null,
   "id": "5e2bd051-666a-478f-a664-fd131f60f8dc",
   "metadata": {},
   "outputs": [],
   "source": [
    "# function that returns true if text has to do with keep_if (wuhan in this case)\n",
    "# returns false if text contains words in blacklist\n",
    "# if text contains words from neither, defaults to true\n",
    "def news_filter(text):\n",
    "    keep_if = ['wuhan']\n",
    "    text = text.lower()\n",
    "    blacklist = ['u.s.', 'america', 'korea', 'china', 'mexico', 'australia', 'uk', 'u.k.', 'new york', 'los angeles', 'nfl', 'nba', 'mlb', 'epl']\n",
    "    if any(x in text for x in keep_if):\n",
    "        return True\n",
    "    if any(x in text for x in blacklist):\n",
    "        return False\n",
    "    return True"
   ]
  },
  {
   "cell_type": "code",
   "execution_count": null,
   "id": "fad1309e-1d1a-42a6-8467-a7c9cdae3461",
   "metadata": {},
   "outputs": [],
   "source": [
    "# not really sure what any of the below does to be honest\n",
    "# I assume it has to do with preparing the data somehow\n",
    "good_df['hostname'] = good_df['url'].swifter.apply(get_hostname)\n",
    "bad_df['hostname'] = bad_df['url'].swifter.apply(get_hostname)"
   ]
  },
  {
   "cell_type": "code",
   "execution_count": null,
   "id": "5ed35a16-84a1-4e69-9e4d-d656c7b933ab",
   "metadata": {},
   "outputs": [],
   "source": [
    "good_df['mean_embed'] = good_df['sent_embeddings'].swifter.apply(lambda x: x.mean(axis=0))\n",
    "bad_df['mean_embed'] = bad_df['sent_embeddings'].swifter.apply(lambda x: x.mean(axis=0))"
   ]
  },
  {
   "cell_type": "code",
   "execution_count": null,
   "id": "a314a7cb-a017-4ade-a5c9-8546d3bef9d3",
   "metadata": {},
   "outputs": [],
   "source": [
    "# seems that we are keeping the bad articles only if they have this \"is ap\" quality\n",
    "# I'm not sure what \"is ap\" means, but that's what this function does\n",
    "is_AP = bad_df['cleanText'].swifter.apply(lambda x: '(AP)' in x)\n",
    "print('Found: ', is_AP.sum())\n",
    "bad_df = bad_df[~is_AP]"
   ]
  },
  {
   "cell_type": "code",
   "execution_count": null,
   "id": "99aca4fd-b513-48e6-ac48-eb48b9aa1d94",
   "metadata": {},
   "outputs": [],
   "source": [
    "# keyword\n",
    "KW = 'transmission'"
   ]
  },
  {
   "cell_type": "code",
   "execution_count": 12,
   "id": "e4ede1c8-f224-4014-b39e-b3448312811c",
   "metadata": {},
   "outputs": [
    {
     "data": {
      "application/vnd.jupyter.widget-view+json": {
       "model_id": "860516721427499eaae814de570db210",
       "version_major": 2,
       "version_minor": 0
      },
      "text/plain": [
       "Pandas Apply:   0%|          | 0/10149 [00:00<?, ?it/s]"
      ]
     },
     "metadata": {},
     "output_type": "display_data"
    }
   ],
   "source": [
    "# don't know what this does\n",
    "# more data prep I guess\n",
    "cord_df = cord_df.dropna()\n",
    "cord_df['mean_embed'] = cord_df['sent_embeddings'].swifter.apply(lambda x: x.mean(axis=0))"
   ]
  },
  {
   "cell_type": "code",
   "execution_count": 13,
   "id": "caac23da-651f-47ef-904e-9ddca22e2286",
   "metadata": {},
   "outputs": [
    {
     "data": {
      "application/vnd.jupyter.widget-view+json": {
       "model_id": "5d3e89cd5b3c45e69c2f655505b3cc20",
       "version_major": 2,
       "version_minor": 0
      },
      "text/plain": [
       "Pandas Apply:   0%|          | 0/10149 [00:00<?, ?it/s]"
      ]
     },
     "metadata": {},
     "output_type": "display_data"
    },
    {
     "data": {
      "application/vnd.jupyter.widget-view+json": {
       "model_id": "6e7b2e7b7b7442bd83167bd624dba0a7",
       "version_major": 2,
       "version_minor": 0
      },
      "text/plain": [
       "Pandas Apply:   0%|          | 0/10149 [00:00<?, ?it/s]"
      ]
     },
     "metadata": {},
     "output_type": "display_data"
    }
   ],
   "source": [
    "# filtering dataframe to look for the keyword\n",
    "# don't know why will named this \"has_vax\" if the keyword is transmission\n",
    "# but I won't question it\n",
    "has_vax = cord_df[cord_df.title.swifter.apply(lambda x: KW in x.lower()) | cord_df.abstract.swifter.apply(lambda x: KW in x.lower())]\n",
    "vax_ref = np.vstack(has_vax['mean_embed'])"
   ]
  },
  {
   "cell_type": "markdown",
   "id": "bea50c87-f84e-4712-b687-66096343b990",
   "metadata": {},
   "source": [
    "## From the paper:\n",
    "\n",
    "\"We extract only articles that contain the word “transmission” and name it the “transmission news” dataset. The purpose ... is to provide a smaller sample with articles focusing more on attributes of the virus rather than on other topics.\"\n",
    "\n",
    "The results for these smaller more specific datasets differs from the overall dataset as well, with the transmission news dataset seeming to fare a little bit worse than the other ones.\n",
    "\n",
    "To show the effectiveness of his algorithm, Will is choosing to use the *\"transmission news\"* dataset. "
   ]
  },
  {
   "cell_type": "markdown",
   "id": "1e2a7e57-f8ff-4dc4-a0ba-0292bd3974ea",
   "metadata": {},
   "source": [
    "![table1](../../table_1.png)"
   ]
  },
  {
   "cell_type": "code",
   "execution_count": 14,
   "id": "30948158-e77d-4ddb-af67-1ba15b76e761",
   "metadata": {},
   "outputs": [
    {
     "data": {
      "application/vnd.jupyter.widget-view+json": {
       "model_id": "5da92d40cc4940308134cf439669e778",
       "version_major": 2,
       "version_minor": 0
      },
      "text/plain": [
       "Pandas Apply:   0%|          | 0/97539 [00:00<?, ?it/s]"
      ]
     },
     "metadata": {},
     "output_type": "display_data"
    },
    {
     "data": {
      "application/vnd.jupyter.widget-view+json": {
       "model_id": "899a90ec48144c73a58e00f1e32ca01f",
       "version_major": 2,
       "version_minor": 0
      },
      "text/plain": [
       "Pandas Apply:   0%|          | 0/14867 [00:00<?, ?it/s]"
      ]
     },
     "metadata": {},
     "output_type": "display_data"
    }
   ],
   "source": [
    "# will originally commented this out\n",
    "# seems to be the old filtering method\n",
    "# vax_good_df = good_df[good_df['cleanText'].swifter.apply(lambda x: KW in x.lower())]\n",
    "# vax_bad_df = bad_df[bad_df['cleanText'].swifter.apply(lambda x: KW in x.lower())]\n",
    "\n",
    "# creating dataframes and cleaning them up\n",
    "vax_good_df = good_df\n",
    "vax_bad_df = bad_df\n",
    "\n",
    "# applying news filter function:\n",
    "# (removing text containing unwanted keywords, unless they also contain other wanted keywords)\n",
    "vax_good_df = vax_good_df[vax_good_df['cleanText'].swifter.apply(news_filter)]\n",
    "vax_bad_df = vax_bad_df[vax_bad_df['cleanText'].swifter.apply(news_filter)]\n",
    "\n",
    "# turning this into a matrix I think\n",
    "vax_good_mat = np.vstack(vax_good_df.mean_embed)\n",
    "vax_bad_mat = np.vstack(vax_bad_df.mean_embed)\n",
    "\n",
    "# turning matrix into a marked matrix (matrix with labels)\n",
    "# will's own personal python library actually, impressive\n",
    "# we don't want to use this vax_raw_mm\n",
    "# it gives us weird results\n",
    "# vax_raw_mm = MarkedMatrix([('good', vax_good_mat), ('bad', vax_bad_mat)])"
   ]
  },
  {
   "cell_type": "code",
   "execution_count": 15,
   "id": "5e8b26eb-dee3-4438-9de2-3f1c5189673f",
   "metadata": {},
   "outputs": [
    {
     "name": "stdout",
     "output_type": "stream",
     "text": [
      "done w/ good\n",
      "seconds:  10.105858564376831\n",
      "done w/ bad\n",
      "seconds:  1.22593092918396\n"
     ]
    }
   ],
   "source": [
    "# will calculates the distances between reference dataframe and to-be-labeled dataframe here I am assuming\n",
    "# below is a link to possible other metrics to use besides cosine\n",
    "# https://docs.scipy.org/doc/scipy/reference/generated/scipy.spatial.distance.cdist.html\n",
    "\n",
    "# vgood2ref is the distance between vax_good_mat and vax_ref\n",
    "start = time.time()\n",
    "vgood2ref = cdist(vax_good_mat, vax_ref, 'cosine')\n",
    "print('done w/ good')\n",
    "end = time.time()\n",
    "print('seconds: ', end-start)\n",
    "\n",
    "# vbad2ref is the distance between vax_bad_mat and vax_ref\n",
    "start = time.time()\n",
    "vbad2ref = cdist(vax_bad_mat, vax_ref, 'cosine')\n",
    "print('done w/ bad')\n",
    "end = time.time()\n",
    "print('seconds: ', end-start)\n",
    "\n",
    "# turning this into a marked matrix\n",
    "vax_mm = MarkedMatrix([('good', vgood2ref), ('bad', vbad2ref)])\n",
    "\n",
    "# theoretically, vgood2ref should contain small distances (since good articles should be similar to CORD-19)\n",
    "# and vbad2ref should contain large distances (since bad articles should not be similar to CORD-19)"
   ]
  },
  {
   "cell_type": "code",
   "execution_count": 16,
   "id": "82aa1c6b-7558-4b21-9e91-c6afcaff565e",
   "metadata": {},
   "outputs": [],
   "source": [
    "# Alt method\n",
    "# commented out by Will originally\n",
    "# has_vax = cord_df.sample(5000)\n",
    "# vax_ref = np.vstack(has_vax['mean_embed'])"
   ]
  },
  {
   "cell_type": "code",
   "execution_count": 17,
   "id": "d3f1e03c-13c6-488f-ae27-0e720a0145ee",
   "metadata": {},
   "outputs": [
    {
     "data": {
      "text/plain": [
       "(array([], dtype=int64), array([], dtype=int64))"
      ]
     },
     "execution_count": 17,
     "metadata": {},
     "output_type": "execute_result"
    }
   ],
   "source": [
    "# War on Terror Cells: Strategies to Eradicate \"Novel Coronavirus\" Effectively\n",
    "np.where(~np.isfinite(vax_ref))"
   ]
  },
  {
   "cell_type": "code",
   "execution_count": 18,
   "id": "ef302ca8-12e8-4808-b2d0-43fdaee31c37",
   "metadata": {},
   "outputs": [],
   "source": [
    "# initializing random forest classifiers to be used later\n",
    "# random forest: a collection of decision trees, where the final decision is the average of all the trees\n",
    "# the idea is: the crowd is smarter\n",
    "raw_tmodel = RandomForestClassifier(n_estimators=500, n_jobs=28)\n",
    "tmodel = RandomForestClassifier(n_estimators=500, n_jobs=28)\n",
    "tmodel2 = RandomForestClassifier(n_estimators=1500, n_jobs=28)"
   ]
  },
  {
   "cell_type": "code",
   "execution_count": 19,
   "id": "7db430ae-c793-48db-95b4-5d6f5025bcd4",
   "metadata": {},
   "outputs": [
    {
     "data": {
      "text/plain": [
       "('Prices of alcohols used in making hand sanitizers capped under Essential Commodities Act',\n",
       " 'The government on Thursday said prices of alcohols used in manufacturing hand sanitizers have been capped under the Essential Commodities Act on account of coranavirus outbreak.The decision would empower the central government and states/union territories to regulate prices, production, sale, distribution, transport, movement, storage, information of alcohols used in manufacturing hand sanitizers, used as preventive measure to avoid infection from COVID-19 , Ministry of Consumer Affairs said in a statement.It would also empower governments to smoothen the sale and availability of these items and carry out operations against hoarders, speculators, profiteers, black marketeers and those involved in contravention of the orders of central government and states/UTs in respect of these alcohols.It will help manufacturers of hand sanitizers to keep prices of their product at reasonable level and within the reach of the common people, it added.The ministry said that government has notified an order under the Essential Commodities Act to declare price cap on these alcohols prevailing as on March 5 up to June 30, 2019.\"In view the ongoing outbreak of COVID-19 and concern of the logistics for COVID 19 management particularly during last couple of weeks and that prices of the alcohol used in manufacturing the hand sanitizers have been exorbitantly increased by the producers of such alcohol, government has notified an order under the Act to declare price cap prevailing as on 05.03.2020 on the above alcohols up to 30th June, 2019,\" it said.It has also notified that the raw materials used in manufacture of essential commodities are also essential commodities under the Act.States can now ask the manufactures of these alcohols not to increase the prices of their produce without concurrence of the central government, it said.\"On these items, states may now notify the central order in their official Gazette, also issue their own orders under the Act to that effect and take necessary actions as per the situation prevailing in the respective states,\" it said.Under the Act, powers of the central government have already been delegated to the states by way of orders during 1972 to 1978, it said.The central government, it said, has requested the states/UTs to advise manufacturers of deodorants to manufacture alcohol-based hand sanitizer spray with ethyl alcohol as main content on mass scale in the same plant which may manufacture this alcohol-based sanitizer at very low cost and make it available in the market at the earliest.The states/manufacturers of deodorants may contact drugs controller, Daman & Diu to resolve the issues related to technology.The states have also been advised to ensure licences and approvals for the same on top priority basis. As this item would be an additional product in the production line, it may be endorsed on the drugs and cosmetics licence of such deodorant manufacturers.\"The states are also advised that manufacturer of this product may also be given excise permit for use of ethanol alcohol as raw material,\" it added.Further, they have been advised that the existing manufacturing units of alcohol based sanitizer be encouraged to increase their capacity.\"Ministry of Environment has allowed increase in capacity by 50 per cent without further environment clearances,\" it added.On March 13, the government declared masks, including the N95 variant, and hand sanitizers as \\'essential commodities\\' in the wake of the coronavirus scare leading to shortages and black marketing of these items.')"
      ]
     },
     "execution_count": 19,
     "metadata": {},
     "output_type": "execute_result"
    }
   ],
   "source": [
    "# finding some examples of good text\n",
    "tidx = 263\n",
    "vax_good_df.iloc[tidx].title, vax_good_df.iloc[tidx].cleanText"
   ]
  },
  {
   "cell_type": "code",
   "execution_count": 20,
   "id": "d86961ad-f1df-4693-b7ef-ba34f5931402",
   "metadata": {},
   "outputs": [],
   "source": [
    "# function written by will to show program's classification decision process for individual documents\n",
    "def tree_explain_good(idx):\n",
    "    pred, bias, contrib = ti.predict(tmodel, vgood2ref[idx, :].reshape((1, -1)))\n",
    "    print('CLEAN TEXT: ', vax_good_df.iloc[idx].cleanText)\n",
    "    cmat = contrib.reshape((-1, 2))\n",
    "    print('Prediction: ', pred)\n",
    "    print('Bias: ', bias)\n",
    "    import_bad = np.argsort(cmat[:, 0])[::-1]\n",
    "    import_good = np.argsort(cmat[:, 1])[::-1]\n",
    "    print('===== Towards Good: =====')\n",
    "    for idx in import_good[:5]:\n",
    "        print('-'*45)\n",
    "        print(f'CONTRIB: {cmat[idx]}')\n",
    "        print(f'ABSTRACT: {has_vax.iloc[idx].abstract}')\n",
    "        print(f'TITLE: {has_vax.iloc[idx].title}')\n",
    "    print('===== Towards Bad: =====')\n",
    "    for idx in import_bad[:5]:\n",
    "        print('-'*45)\n",
    "        print(f'CONTRIB: {cmat[idx]}')\n",
    "        print(f'ABSTRACT: {has_vax.iloc[idx].abstract}')\n",
    "        print(f'TITLE: {has_vax.iloc[idx].title}')\n",
    "\n",
    "# pretty much a copy of the previous function, except used to compare with bad dataset rather than good\n",
    "def tree_explain_bad(idx):\n",
    "    pred, bias, contrib = ti.predict(tmodel, vbad2ref[idx, :].reshape((1, -1)))\n",
    "    print('CLEAN TEXT: ', vax_bad_df.iloc[idx].cleanText)\n",
    "    cmat = contrib.reshape((-1, 2))\n",
    "    print('Prediction: ', pred)\n",
    "    print('Bias: ', bias)\n",
    "    import_bad = np.argsort(cmat[:, 0])[::-1]\n",
    "    import_good = np.argsort(cmat[:, 1])[::-1]\n",
    "    print('===== Towards Bad: =====')\n",
    "    for idx in import_bad[:5]:\n",
    "        print('-'*45)\n",
    "        print(f'CONTRIB: {cmat[idx]}')\n",
    "        print(f'ABSTRACT: {has_vax.iloc[idx].abstract}')\n",
    "        print(f'TITLE: {has_vax.iloc[idx].title}')\n",
    "    print('===== Towards Good: =====')\n",
    "    for idx in import_good[:5]:\n",
    "        print('-'*45)\n",
    "        print(f'CONTRIB: {cmat[idx]}')\n",
    "        print(f'ABSTRACT: {has_vax.iloc[idx].abstract}')\n",
    "        print(f'TITLE: {has_vax.iloc[idx].title}')"
   ]
  },
  {
   "cell_type": "code",
   "execution_count": 21,
   "id": "1439e79f-dd9c-4f41-baab-b7b8a90e8b58",
   "metadata": {},
   "outputs": [],
   "source": [
    "# this was commented out by will\n",
    "# vax_mm.mat[~np.isfinite(vax_mm.mat)] = 0"
   ]
  },
  {
   "cell_type": "markdown",
   "id": "3ca1aa44-34a6-446d-9d06-e4076dd9d1f1",
   "metadata": {},
   "source": [
    "**Training and evaluation begins after this point.**\n",
    "\n",
    "*Quick Refresher:*\n",
    "* vax_mm was defined above as a marked matrix of vgood2ref as good, and vbad2ref as bad\n",
    "* vgood2ref is the matrix of distances between the good matrix and the vax ref\n",
    "* vbad2ref is the matrix of distances between the bad matrix and the vax ref\n",
    "* ideally, vgood2ref should have small distances\n",
    "* while vbad2ref whould have large distances\n",
    "\n",
    "**Note:** *single_split_classify* is a function from will's wutils python library.\n",
    "\n",
    "The source can be found here: https://github.com/willshiao/wutils/blob/master/wutils/mat.py\n",
    "\n",
    "The numbers that single_split_classify returns are in the following format: ((accuracy, f1-score), labels)"
   ]
  },
  {
   "cell_type": "markdown",
   "id": "d75b2495-0b3e-4bb7-aef1-126862217ca5",
   "metadata": {},
   "source": [
    "**The following trainings and evaluations can be skipped since the data is saved in a text file.**\n",
    "\n",
    "1. Regular dimensionality\n",
    "2. k=5\n",
    "3. k=10\n",
    "4. k=15\n",
    "5. k=20\n",
    "6. k=25\n",
    "7. k=768\n",
    "\n",
    "All the data gathered before the first couple of charts can be skipped basically. k=100 is the first training/evaluation sequence that isn't skipped."
   ]
  },
  {
   "cell_type": "code",
   "execution_count": 22,
   "id": "ae26e173-f7db-41d3-9804-4663cad5d56e",
   "metadata": {},
   "outputs": [],
   "source": [
    "# ====== RUN FIRST TIME WITH REGULAR REPRESENTATION OF DATA (REGULAR DIMENSIONALITY) ======\n",
    "regular = dict()"
   ]
  },
  {
   "cell_type": "code",
   "execution_count": 23,
   "id": "60c74a34-202b-4e97-b756-42153cd1d3e0",
   "metadata": {},
   "outputs": [
    {
     "name": "stdout",
     "output_type": "stream",
     "text": [
      "trial_1:\n",
      "Training model...\n",
      "Evaluating model...\n",
      "((0.9104170395561124, 0.9517194810205952), {'bad': 0, 'good': 1})\n",
      "seconds:  40.75952386856079\n"
     ]
    }
   ],
   "source": [
    "# run vax_mm with tmodel\n",
    "print('trial_1:')\n",
    "start = time.time()\n",
    "res = vax_mm.single_split_classify(tmodel, return_labels=True)\n",
    "print(res)\n",
    "regular['trial_1'] = res\n",
    "end = time.time()\n",
    "print('seconds: ', end - start)"
   ]
  },
  {
   "cell_type": "code",
   "execution_count": 24,
   "id": "fb2cc188-13bf-4928-bea1-6376e1296e15",
   "metadata": {},
   "outputs": [
    {
     "name": "stdout",
     "output_type": "stream",
     "text": [
      "trial_2:\n",
      "Training model...\n",
      "Evaluating model...\n",
      "((0.9110434938249508, 0.9521010023130301), {'bad': 0, 'good': 1})\n",
      "seconds:  40.686267137527466\n"
     ]
    }
   ],
   "source": [
    "# running vax_mm with tmodel again\n",
    "print('trial_2:')\n",
    "start = time.time()\n",
    "res = vax_mm.single_split_classify(tmodel, return_labels=True)\n",
    "print(res)\n",
    "regular['trial_2'] = res\n",
    "end = time.time()\n",
    "print('seconds: ', end - start)"
   ]
  },
  {
   "cell_type": "code",
   "execution_count": 25,
   "id": "402bcb5c-12d3-442f-892d-109cec8e540a",
   "metadata": {},
   "outputs": [
    {
     "name": "stdout",
     "output_type": "stream",
     "text": [
      "trial_3:\n",
      "Training model...\n",
      "Evaluating model...\n",
      "((0.9114014676928585, 0.9522983521248917), {'bad': 0, 'good': 1})\n",
      "seconds:  41.48452377319336\n"
     ]
    }
   ],
   "source": [
    "# running vax_mm with raw_t_model\n",
    "# changed this so that we don't use the vax_raw_mm\n",
    "print('trial_3:')\n",
    "start = time.time()\n",
    "res = vax_mm.single_split_classify(raw_tmodel, return_labels=True)\n",
    "print(res)\n",
    "regular['trial_3'] = res\n",
    "end = time.time()\n",
    "print('seconds: ', end - start)"
   ]
  },
  {
   "cell_type": "code",
   "execution_count": 26,
   "id": "0cbb175f-0991-4f89-8d7d-502fa15a2873",
   "metadata": {},
   "outputs": [
    {
     "name": "stdout",
     "output_type": "stream",
     "text": [
      "trial_4:\n",
      "Training model...\n",
      "Evaluating model...\n",
      "((0.9129228566314659, 0.9531197301854974), {'bad': 0, 'good': 1})\n",
      "seconds:  119.75182509422302\n"
     ]
    }
   ],
   "source": [
    "# running vax_mm with tmodel2\n",
    "print('trial_4:')\n",
    "start = time.time()\n",
    "res = vax_mm.single_split_classify(tmodel2, return_labels=True)\n",
    "print(res)\n",
    "regular['trial_4'] = res\n",
    "end = time.time()\n",
    "print('seconds: ', end - start)"
   ]
  },
  {
   "cell_type": "code",
   "execution_count": 27,
   "id": "034dfc54-4157-4017-9d54-fb4d973a464c",
   "metadata": {},
   "outputs": [
    {
     "name": "stdout",
     "output_type": "stream",
     "text": [
      "trial_5:\n",
      "Training model...\n",
      "Evaluating model...\n",
      "((0.9082691963486665, 0.9506475997881458), {'bad': 0, 'good': 1})\n",
      "seconds:  121.44172286987305\n"
     ]
    }
   ],
   "source": [
    "# running vax_mm with tmodel2\n",
    "# also changed this so that we don't use vax_raw_mm\n",
    "print('trial_5:')\n",
    "start = time.time()\n",
    "res = vax_mm.single_split_classify(tmodel2, return_labels=True)\n",
    "print(res)\n",
    "regular['trial_5'] = res\n",
    "end = time.time()\n",
    "print('seconds: ', end - start)"
   ]
  },
  {
   "cell_type": "code",
   "execution_count": 30,
   "id": "a4374bc6-cdbd-4fb3-962f-df037aa85d0c",
   "metadata": {},
   "outputs": [
    {
     "name": "stdout",
     "output_type": "stream",
     "text": [
      "Results of training at regular dimensionality\n",
      "===================\n",
      "trial_1\n",
      "accuracy:  0.9104170395561124\n",
      "f1-score:  0.9517194810205952\n",
      "labels:  {'bad': 0, 'good': 1}\n",
      "===================\n",
      "trial_2\n",
      "accuracy:  0.9110434938249508\n",
      "f1-score:  0.9521010023130301\n",
      "labels:  {'bad': 0, 'good': 1}\n",
      "===================\n",
      "trial_3\n",
      "accuracy:  0.9114014676928585\n",
      "f1-score:  0.9522983521248917\n",
      "labels:  {'bad': 0, 'good': 1}\n",
      "===================\n",
      "trial_4\n",
      "accuracy:  0.9129228566314659\n",
      "f1-score:  0.9531197301854974\n",
      "labels:  {'bad': 0, 'good': 1}\n",
      "===================\n",
      "trial_5\n",
      "accuracy:  0.9082691963486665\n",
      "f1-score:  0.9506475997881458\n",
      "labels:  {'bad': 0, 'good': 1}\n"
     ]
    }
   ],
   "source": [
    "# print the contents of regular\n",
    "print('Results of training at regular dimensionality')\n",
    "for e in regular:\n",
    "    print('===================')\n",
    "    print(e)\n",
    "    print('accuracy: ', regular[e][0][0])\n",
    "    print('f1-score: ', regular[e][0][1])\n",
    "    print('labels: ', regular[e][1])"
   ]
  },
  {
   "cell_type": "markdown",
   "id": "f1cfc404-afd6-4ce8-abe1-f3a73b835d97",
   "metadata": {},
   "source": [
    "**Testing out low-dimensional representations of data:**\n",
    "\n",
    ">\"Currently, both articles and references “live” in a multidimensional BERT space and we are computing distances/similarities in that space.\n",
    "Many times, it is a beneficial to first compute a low-dimensional representation of the data and then do the same sort of distance computation, but in the reduced space.\" -Vagelis\n",
    "\n",
    "*Here are the steps that will be taken:*\n",
    "\n",
    "1. As of right now, there are separate matrices for the reference document BERT and article BERT.\n",
    "2. These BERT matrices are to be vertically concatenated into a new matrix M.\n",
    "3. We will run a matrix decomposition on M to receive M=US*V.\n",
    "4. We grab k (with k being various constants) columns of matrix U to form Uk.\n",
    "5. We un-concatenate U to reconstitute a smaller version of the article BERT and reference document BERT matrices.\n",
    "6. We feed these two new matrices into the remainder of Will’s algorithm.\n",
    "7. Compare the results with the base case (regular representation of the data).\n",
    "\n",
    "*Set of k to test on:* k = [5, 10, 15, 20, 25, 30, 35]"
   ]
  },
  {
   "cell_type": "code",
   "execution_count": 29,
   "id": "43ef196c-703b-4eac-ba49-c48cd86d31ab",
   "metadata": {},
   "outputs": [
    {
     "name": "stdout",
     "output_type": "stream",
     "text": [
      "(39926, 768)\n",
      "(694, 768)\n"
     ]
    }
   ],
   "source": [
    "# step 1: vertically concatenate vax_good_mat and vax_ref\n",
    "# need to make sure to keep track of how many rows vax_good_mat and vax_ref are\n",
    "vax_good_mat_shape = vax_good_mat.shape\n",
    "vax_ref_shape = vax_ref.shape\n",
    "\n",
    "M = np.vstack((vax_good_mat, vax_ref))\n",
    "\n",
    "# print the shapes\n",
    "print(vax_good_mat_shape)\n",
    "print(vax_ref_shape)"
   ]
  },
  {
   "cell_type": "code",
   "execution_count": 31,
   "id": "18b7ced7-1e29-4301-87a1-54407132e440",
   "metadata": {},
   "outputs": [
    {
     "name": "stdout",
     "output_type": "stream",
     "text": [
      "seconds:  299.22745847702026\n",
      "(40620, 40620)\n"
     ]
    }
   ],
   "source": [
    "# step 2: run a matrix decomposition on M\n",
    "# function documentation found here:\n",
    "# https://numpy.org/doc/stable/reference/generated/numpy.linalg.svd.html\n",
    "start = time.time()\n",
    "U, S, Vh = np.linalg.svd(M, full_matrices=True)\n",
    "end = time.time()\n",
    "print('seconds: ', end-start)\n",
    "\n",
    "# print(U)\n",
    "print(U.shape)"
   ]
  },
  {
   "cell_type": "code",
   "execution_count": 32,
   "id": "f643bf74-8bfc-4954-8971-d81c48d1d47e",
   "metadata": {},
   "outputs": [
    {
     "name": "stdout",
     "output_type": "stream",
     "text": [
      "(40620, 5)\n"
     ]
    }
   ],
   "source": [
    "# step 3: grab k columns to form Uk\n",
    "# start out by using k = 5\n",
    "k = 5\n",
    "Uk = np.delete(U, np.s_[k:], axis=1)\n",
    "\n",
    "print(Uk.shape)"
   ]
  },
  {
   "cell_type": "code",
   "execution_count": 33,
   "id": "4ae6cdc8-c17c-4bde-b23d-35228ec9dec1",
   "metadata": {},
   "outputs": [
    {
     "name": "stdout",
     "output_type": "stream",
     "text": [
      "(39926, 5)\n",
      "(694, 5)\n"
     ]
    }
   ],
   "source": [
    "# step 4: reconstitute vax_good_mat and vax_ref\n",
    "# remember: vax_good_mat is on top of vax_ref\n",
    "new_vax_good_mat = np.delete(Uk, np.s_[vax_good_mat_shape[0]:], axis=0)\n",
    "new_vax_ref = np.delete(Uk, np.s_[:vax_good_mat_shape[0]], axis=0)\n",
    "\n",
    "# should be big\n",
    "print(new_vax_good_mat.shape)\n",
    "# should be small\n",
    "print(new_vax_ref.shape)"
   ]
  },
  {
   "cell_type": "code",
   "execution_count": 34,
   "id": "ea0bd15a-a503-4750-ad3a-02d9e24f5647",
   "metadata": {},
   "outputs": [
    {
     "name": "stdout",
     "output_type": "stream",
     "text": [
      "done w/ good\n"
     ]
    }
   ],
   "source": [
    "# step 5: feed this back into the distance function:\n",
    "# vgood2ref is the distance between vax_good_mat and vax_ref\n",
    "newvgood2ref = cdist(new_vax_good_mat, new_vax_ref, 'cosine')\n",
    "\n",
    "print('done w/ good')"
   ]
  },
  {
   "cell_type": "code",
   "execution_count": 35,
   "id": "8a5a05c8-52db-4735-a818-d9f989b32064",
   "metadata": {},
   "outputs": [
    {
     "name": "stdout",
     "output_type": "stream",
     "text": [
      "(4768, 768)\n",
      "(694, 768)\n"
     ]
    }
   ],
   "source": [
    "# now we repeat the same steps for bad mat:\n",
    "# step 1: vertically concatenate vax_bad_mat and vax_ref\n",
    "vax_bad_mat_shape = vax_bad_mat.shape\n",
    "# we already have vax_ref_shape so we can skip this\n",
    "# vax_ref_shape = vax_ref.shape\n",
    "M = np.vstack((vax_bad_mat, vax_ref))\n",
    "\n",
    "print(vax_bad_mat_shape)\n",
    "print(vax_ref_shape)"
   ]
  },
  {
   "cell_type": "code",
   "execution_count": 36,
   "id": "767ecd84-36f6-49f3-a1f6-b7e80a5d5581",
   "metadata": {},
   "outputs": [
    {
     "name": "stdout",
     "output_type": "stream",
     "text": [
      "6.195513010025024\n",
      "(5462, 5462)\n"
     ]
    }
   ],
   "source": [
    "# step 2: run a matrix decomposition on M\n",
    "start = time.time()\n",
    "U, S, Vh = np.linalg.svd(M, full_matrices=True)\n",
    "end = time.time()\n",
    "print(end-start)\n",
    "\n",
    "# print(U)\n",
    "print(U.shape)"
   ]
  },
  {
   "cell_type": "code",
   "execution_count": 37,
   "id": "7e220553-3635-4397-93d1-7eb48d273a3b",
   "metadata": {},
   "outputs": [
    {
     "name": "stdout",
     "output_type": "stream",
     "text": [
      "(5462, 5)\n"
     ]
    }
   ],
   "source": [
    "# step 3: grab k columns to form Uk\n",
    "# start out by using k = 5\n",
    "# once again, already have this\n",
    "# k = 5\n",
    "Uk = np.delete(U, np.s_[k:], axis=1)\n",
    "\n",
    "print(Uk.shape)"
   ]
  },
  {
   "cell_type": "code",
   "execution_count": 38,
   "id": "57a67e88-a82d-4742-a7f2-3423c8613a6f",
   "metadata": {},
   "outputs": [
    {
     "name": "stdout",
     "output_type": "stream",
     "text": [
      "(4768, 5)\n",
      "(694, 5)\n"
     ]
    }
   ],
   "source": [
    "# step 4: reconstitute vax_good_mat and vax_ref\n",
    "# remember: vax_good_mat is on top of vax_ref\n",
    "new_vax_bad_mat = np.delete(Uk, np.s_[vax_bad_mat_shape[0]:], axis=0)\n",
    "new_vax_ref = np.delete(Uk, np.s_[:vax_bad_mat_shape[0]], axis=0)\n",
    "\n",
    "print(new_vax_bad_mat.shape)\n",
    "print(new_vax_ref.shape)"
   ]
  },
  {
   "cell_type": "code",
   "execution_count": 39,
   "id": "9c920075-e218-40c8-b156-2c043beba7a7",
   "metadata": {},
   "outputs": [
    {
     "name": "stdout",
     "output_type": "stream",
     "text": [
      "done w/ bad\n"
     ]
    }
   ],
   "source": [
    "# step 5: feed this back into the distance function:\n",
    "# vgood2ref is the distance between vax_good_mat and vax_ref\n",
    "newvbad2ref = cdist(new_vax_bad_mat, new_vax_ref, 'cosine')\n",
    "print('done w/ bad')"
   ]
  },
  {
   "cell_type": "code",
   "execution_count": 40,
   "id": "430c3290-b3b7-4ddb-98bd-74473ed9ded6",
   "metadata": {},
   "outputs": [],
   "source": [
    "# create our markedMatrix\n",
    "vax_mm = MarkedMatrix([('good', newvgood2ref), ('bad', newvbad2ref)])\n",
    "# vax_raw_mm = MarkedMatrix([('good', new_vax_good_mat), ('bad', new_vax_bad_mat)])"
   ]
  },
  {
   "cell_type": "code",
   "execution_count": 41,
   "id": "429ef532-c4a0-4624-84cd-819089d3a71c",
   "metadata": {},
   "outputs": [],
   "source": [
    "# ====== RUN WITH k=5 ======\n",
    "k5 = dict()"
   ]
  },
  {
   "cell_type": "code",
   "execution_count": 42,
   "id": "98a38d9e-83de-4ad1-a862-abaf97277710",
   "metadata": {},
   "outputs": [
    {
     "name": "stdout",
     "output_type": "stream",
     "text": [
      "trial_1:\n",
      "Training model...\n",
      "Evaluating model...\n",
      "((1.0, 1.0), {'bad': 0, 'good': 1})\n",
      "seconds:  35.929675817489624\n"
     ]
    }
   ],
   "source": [
    "# run vax_mm with tmodel\n",
    "print('trial_1:')\n",
    "start = time.time()\n",
    "res = vax_mm.single_split_classify(tmodel, return_labels=True)\n",
    "print(res)\n",
    "k5['trial_1'] = res\n",
    "end = time.time()\n",
    "print('seconds: ', end-start)"
   ]
  },
  {
   "cell_type": "code",
   "execution_count": 43,
   "id": "23351b8d-6f6c-427f-a412-752a693fddf5",
   "metadata": {},
   "outputs": [
    {
     "name": "stdout",
     "output_type": "stream",
     "text": [
      "trial_2:\n",
      "Training model...\n",
      "Evaluating model...\n",
      "((0.999910506533023, 0.9999502116006971), {'bad': 0, 'good': 1})\n",
      "seconds:  35.23275566101074\n"
     ]
    }
   ],
   "source": [
    "# running vax_mm with tmodel again\n",
    "print('trial_2:')\n",
    "start = time.time()\n",
    "res = vax_mm.single_split_classify(tmodel, return_labels=True)\n",
    "print(res)\n",
    "k5['trial_2'] = res\n",
    "end = time.time()\n",
    "print('seconds: ', end-start)"
   ]
  },
  {
   "cell_type": "code",
   "execution_count": 44,
   "id": "cb6e2c45-e3db-473f-8738-ab35cc7856f0",
   "metadata": {},
   "outputs": [
    {
     "name": "stdout",
     "output_type": "stream",
     "text": [
      "trial_3:\n",
      "Training model...\n",
      "Evaluating model...\n",
      "((1.0, 1.0), {'bad': 0, 'good': 1})\n",
      "seconds:  36.75368404388428\n"
     ]
    }
   ],
   "source": [
    "# running vax_mm with raw_t_model\n",
    "print('trial_3:')\n",
    "start = time.time()\n",
    "res = vax_mm.single_split_classify(raw_tmodel, return_labels=True)\n",
    "print(res)\n",
    "k5['trial_3'] = res\n",
    "end = time.time()\n",
    "print('seconds: ', end-start)"
   ]
  },
  {
   "cell_type": "code",
   "execution_count": 45,
   "id": "5c3ad9a0-c96e-4c3c-8daa-fd40c8830991",
   "metadata": {},
   "outputs": [
    {
     "name": "stdout",
     "output_type": "stream",
     "text": [
      "trial_4:\n",
      "Training model...\n",
      "Evaluating model...\n",
      "((0.999910506533023, 0.9999498269028146), {'bad': 0, 'good': 1})\n",
      "seconds:  107.93765115737915\n"
     ]
    }
   ],
   "source": [
    "# running vax_mm with tmodel2\n",
    "print('trial_4:')\n",
    "start = time.time()\n",
    "res = vax_mm.single_split_classify(tmodel2, return_labels=True)\n",
    "print(res)\n",
    "k5['trial_4'] = res\n",
    "end = time.time()\n",
    "print('seconds: ', end-start)"
   ]
  },
  {
   "cell_type": "code",
   "execution_count": 46,
   "id": "16c96a0c-29c4-4215-a14d-e7994fdf9c94",
   "metadata": {},
   "outputs": [
    {
     "name": "stdout",
     "output_type": "stream",
     "text": [
      "trial_5:\n",
      "Training model...\n",
      "Evaluating model...\n",
      "((1.0, 1.0), {'bad': 0, 'good': 1})\n",
      "seconds:  105.0549533367157\n"
     ]
    }
   ],
   "source": [
    "# running vax_mm with tmodel2\n",
    "print('trial_5:')\n",
    "start = time.time()\n",
    "res = vax_mm.single_split_classify(tmodel2, return_labels=True)\n",
    "print(res)\n",
    "k5['trial_5'] = res\n",
    "end = time.time()\n",
    "print('seconds: ', end - start)"
   ]
  },
  {
   "cell_type": "code",
   "execution_count": 47,
   "id": "6f0fc9e5-a694-42e9-9c5e-6c29935c38a3",
   "metadata": {},
   "outputs": [
    {
     "name": "stdout",
     "output_type": "stream",
     "text": [
      "Results of training with k=5\n",
      "===================\n",
      "trial_1\n",
      "accuracy:  1.0\n",
      "f1-score:  1.0\n",
      "labels:  {'bad': 0, 'good': 1}\n",
      "===================\n",
      "trial_2\n",
      "accuracy:  0.999910506533023\n",
      "f1-score:  0.9999502116006971\n",
      "labels:  {'bad': 0, 'good': 1}\n",
      "===================\n",
      "trial_3\n",
      "accuracy:  1.0\n",
      "f1-score:  1.0\n",
      "labels:  {'bad': 0, 'good': 1}\n",
      "===================\n",
      "trial_4\n",
      "accuracy:  0.999910506533023\n",
      "f1-score:  0.9999498269028146\n",
      "labels:  {'bad': 0, 'good': 1}\n",
      "===================\n",
      "trial_5\n",
      "accuracy:  1.0\n",
      "f1-score:  1.0\n",
      "labels:  {'bad': 0, 'good': 1}\n"
     ]
    }
   ],
   "source": [
    "# print the contents of k5\n",
    "print('Results of training with k=5')\n",
    "for e in k5:\n",
    "    print('===================')\n",
    "    print(e)\n",
    "    print('accuracy: ', k5[e][0][0])\n",
    "    print('f1-score: ', k5[e][0][1])\n",
    "    print('labels: ', k5[e][1])"
   ]
  },
  {
   "cell_type": "code",
   "execution_count": 48,
   "id": "3b7fad5d-5a19-4e18-8d00-e452aded605b",
   "metadata": {},
   "outputs": [
    {
     "name": "stdout",
     "output_type": "stream",
     "text": [
      "done w/ good\n",
      "seconds:  301.2636818885803\n",
      "done w/ bad\n",
      "seconds:  6.350571393966675\n"
     ]
    }
   ],
   "source": [
    "# now we try this again with k=10\n",
    "\n",
    "# already have the shapes so we don't need this\n",
    "# vax_good_mat_shape = vax_good_mat.shape\n",
    "# vax_ref_shape = vax_ref.shape\n",
    "\n",
    "k = 10\n",
    "\n",
    "# good\n",
    "start = time.time()\n",
    "M = np.vstack((vax_good_mat, vax_ref))\n",
    "U, S, Vh = np.linalg.svd(M, full_matrices=True)\n",
    "Uk = np.delete(U, np.s_[k:], axis=1)\n",
    "new_vax_good_mat = np.delete(Uk, np.s_[vax_good_mat_shape[0]:], axis=0)\n",
    "new_vax_ref = np.delete(Uk, np.s_[:vax_good_mat_shape[0]], axis=0)\n",
    "newvgood2ref = cdist(new_vax_good_mat, new_vax_ref, 'cosine')\n",
    "end = time.time()\n",
    "print('done w/ good')\n",
    "print('seconds: ', end-start)\n",
    "\n",
    "# bad\n",
    "start = time.time()\n",
    "vax_bad_mat_shape = vax_bad_mat.shape\n",
    "M = np.vstack((vax_bad_mat, vax_ref))\n",
    "U, S, Vh = np.linalg.svd(M, full_matrices=True)\n",
    "Uk = np.delete(U, np.s_[k:], axis=1)\n",
    "new_vax_bad_mat = np.delete(Uk, np.s_[vax_bad_mat_shape[0]:], axis=0)\n",
    "new_vax_ref = np.delete(Uk, np.s_[:vax_bad_mat_shape[0]], axis=0)\n",
    "newvbad2ref = cdist(new_vax_bad_mat, new_vax_ref, 'cosine')\n",
    "end = time.time()\n",
    "print('done w/ bad')\n",
    "print('seconds: ', end-start)\n",
    "\n",
    "# created marked matrices\n",
    "vax_mm = MarkedMatrix([('good', newvgood2ref), ('bad', newvbad2ref)])\n",
    "# vax_raw_mm = MarkedMatrix([('good', new_vax_good_mat), ('bad', new_vax_bad_mat)])"
   ]
  },
  {
   "cell_type": "code",
   "execution_count": 49,
   "id": "ed658743-0af3-4999-851e-54a2fd89ab89",
   "metadata": {},
   "outputs": [],
   "source": [
    "# ====== RUN WITH k=10 ======\n",
    "k10 = dict()"
   ]
  },
  {
   "cell_type": "code",
   "execution_count": 50,
   "id": "3d7ffb3f-6064-4528-87fa-ad23c8f5257c",
   "metadata": {},
   "outputs": [
    {
     "name": "stdout",
     "output_type": "stream",
     "text": [
      "trial_1:\n",
      "Training model...\n",
      "Evaluating model...\n",
      "((0.9939144442455701, 0.9966027178257395), {'bad': 0, 'good': 1})\n",
      "seconds:  104.57657361030579\n"
     ]
    }
   ],
   "source": [
    "# run vax_mm with tmodel\n",
    "print('trial_1:')\n",
    "start = time.time()\n",
    "res = vax_mm.single_split_classify(tmodel, return_labels=True)\n",
    "print(res)\n",
    "k10['trial_1'] = res\n",
    "end = time.time()\n",
    "print('seconds: ', end - start)"
   ]
  },
  {
   "cell_type": "code",
   "execution_count": 51,
   "id": "754ac8e2-2190-4be8-8a71-c3bbcde2dd11",
   "metadata": {},
   "outputs": [
    {
     "name": "stdout",
     "output_type": "stream",
     "text": [
      "trial_2:\n",
      "Training model...\n",
      "Evaluating model...\n",
      "((0.9943619115804546, 0.9968444778362134), {'bad': 0, 'good': 1})\n",
      "seconds:  104.29360628128052\n"
     ]
    }
   ],
   "source": [
    "# running vax_mm with tmodel again\n",
    "print('trial_2:')\n",
    "start = time.time()\n",
    "res = vax_mm.single_split_classify(tmodel, return_labels=True)\n",
    "print(res)\n",
    "k10['trial_2'] = res\n",
    "end = time.time()\n",
    "print('seconds: ', end - start)"
   ]
  },
  {
   "cell_type": "code",
   "execution_count": 52,
   "id": "7c666d71-dd64-48ac-b69c-aae1e7b1528a",
   "metadata": {},
   "outputs": [
    {
     "name": "stdout",
     "output_type": "stream",
     "text": [
      "trial_3:\n",
      "Training model...\n",
      "Evaluating model...\n",
      "((0.9948093789153392, 0.9971054995508534), {'bad': 0, 'good': 1})\n",
      "seconds:  100.23731064796448\n"
     ]
    }
   ],
   "source": [
    "# running vax_mm with raw_t_model\n",
    "print('trial_3:')\n",
    "start = time.time()\n",
    "res = vax_mm.single_split_classify(raw_tmodel, return_labels=True)\n",
    "print(res)\n",
    "k10['trial_3'] = res\n",
    "end = time.time()\n",
    "print('seconds: ', end - start)"
   ]
  },
  {
   "cell_type": "code",
   "execution_count": 53,
   "id": "d5452307-c17d-43ab-8154-847e70f367dd",
   "metadata": {},
   "outputs": [
    {
     "name": "stdout",
     "output_type": "stream",
     "text": [
      "trial_4:\n",
      "Training model...\n",
      "Evaluating model...\n",
      "((0.9953463397172007, 0.997407518197228), {'bad': 0, 'good': 1})\n",
      "seconds:  299.0952568054199\n"
     ]
    }
   ],
   "source": [
    "# running vax_mm with tmodel2\n",
    "print('trial_4:')\n",
    "start = time.time()\n",
    "res = vax_mm.single_split_classify(tmodel2, return_labels=True)\n",
    "print(res)\n",
    "k10['trial_4'] = res\n",
    "end = time.time()\n",
    "print('seconds: ', end - start)"
   ]
  },
  {
   "cell_type": "code",
   "execution_count": 54,
   "id": "14f32917-fd14-491a-b905-53b499c17541",
   "metadata": {},
   "outputs": [
    {
     "name": "stdout",
     "output_type": "stream",
     "text": [
      "trial_5:\n",
      "Training model...\n",
      "Evaluating model...\n",
      "((0.9962412743869697, 0.9979018883005295), {'bad': 0, 'good': 1})\n",
      "seconds:  301.1634290218353\n"
     ]
    }
   ],
   "source": [
    "# running vax_mm with tmodel2\n",
    "print('trial_5:')\n",
    "start = time.time()\n",
    "res = vax_mm.single_split_classify(tmodel2, return_labels=True)\n",
    "print(res)\n",
    "k10['trial_5'] = res\n",
    "end = time.time()\n",
    "print('seconds: ', end - start)"
   ]
  },
  {
   "cell_type": "code",
   "execution_count": 55,
   "id": "9d486e02-db73-430a-9a18-4bebdde3eddd",
   "metadata": {},
   "outputs": [
    {
     "name": "stdout",
     "output_type": "stream",
     "text": [
      "Results of training with k=10\n",
      "===================\n",
      "trial_1\n",
      "accuracy:  0.9939144442455701\n",
      "f1-score:  0.9966027178257395\n",
      "labels:  {'bad': 0, 'good': 1}\n",
      "===================\n",
      "trial_2\n",
      "accuracy:  0.9943619115804546\n",
      "f1-score:  0.9968444778362134\n",
      "labels:  {'bad': 0, 'good': 1}\n",
      "===================\n",
      "trial_3\n",
      "accuracy:  0.9948093789153392\n",
      "f1-score:  0.9971054995508534\n",
      "labels:  {'bad': 0, 'good': 1}\n",
      "===================\n",
      "trial_4\n",
      "accuracy:  0.9953463397172007\n",
      "f1-score:  0.997407518197228\n",
      "labels:  {'bad': 0, 'good': 1}\n",
      "===================\n",
      "trial_5\n",
      "accuracy:  0.9962412743869697\n",
      "f1-score:  0.9979018883005295\n",
      "labels:  {'bad': 0, 'good': 1}\n"
     ]
    }
   ],
   "source": [
    "# print the contents of k10\n",
    "print('Results of training with k=10')\n",
    "for e in k10:\n",
    "    print('===================')\n",
    "    print(e)\n",
    "    print('accuracy: ', k10[e][0][0])\n",
    "    print('f1-score: ', k10[e][0][1])\n",
    "    print('labels: ', k10[e][1])"
   ]
  },
  {
   "cell_type": "code",
   "execution_count": 56,
   "id": "990eebc4-331c-42ab-bfb6-1ec4cef35363",
   "metadata": {},
   "outputs": [
    {
     "name": "stdout",
     "output_type": "stream",
     "text": [
      "done w/ good\n",
      "seconds:  299.5103178024292\n",
      "done w/ bad\n",
      "seconds:  6.465120077133179\n"
     ]
    }
   ],
   "source": [
    "# now we try this again with k=15\n",
    "\n",
    "# already have this below\n",
    "# vax_good_mat_shape = vax_good_mat.shape\n",
    "# vax_ref_shape = vax_ref.shape\n",
    "\n",
    "k = 15\n",
    "\n",
    "# good\n",
    "start = time.time()\n",
    "M = np.vstack((vax_good_mat, vax_ref))\n",
    "U, S, Vh = np.linalg.svd(M, full_matrices=True)\n",
    "Uk = np.delete(U, np.s_[k:], axis=1)\n",
    "new_vax_good_mat = np.delete(Uk, np.s_[vax_good_mat_shape[0]:], axis=0)\n",
    "new_vax_ref = np.delete(Uk, np.s_[:vax_good_mat_shape[0]], axis=0)\n",
    "newvgood2ref = cdist(new_vax_good_mat, new_vax_ref, 'cosine')\n",
    "end = time.time()\n",
    "print('done w/ good')\n",
    "print('seconds: ', end-start)\n",
    "\n",
    "# bad\n",
    "start = time.time()\n",
    "vax_bad_mat_shape = vax_bad_mat.shape\n",
    "M = np.vstack((vax_bad_mat, vax_ref))\n",
    "U, S, Vh = np.linalg.svd(M, full_matrices=True)\n",
    "Uk = np.delete(U, np.s_[k:], axis=1)\n",
    "new_vax_bad_mat = np.delete(Uk, np.s_[vax_bad_mat_shape[0]:], axis=0)\n",
    "new_vax_ref = np.delete(Uk, np.s_[:vax_bad_mat_shape[0]], axis=0)\n",
    "newvbad2ref = cdist(new_vax_bad_mat, new_vax_ref, 'cosine')\n",
    "end = time.time()\n",
    "print('done w/ bad')\n",
    "print('seconds: ', end-start)\n",
    "\n",
    "# created marked matrices\n",
    "vax_mm = MarkedMatrix([('good', newvgood2ref), ('bad', newvbad2ref)])\n",
    "# vax_raw_mm = MarkedMatrix([('good', new_vax_good_mat), ('bad', new_vax_bad_mat)])"
   ]
  },
  {
   "cell_type": "code",
   "execution_count": 57,
   "id": "2ade3640-8d4a-4823-b168-4a88d69d859d",
   "metadata": {},
   "outputs": [],
   "source": [
    "# ====== RUN WITH k=15 ======\n",
    "k15 = dict()"
   ]
  },
  {
   "cell_type": "code",
   "execution_count": 58,
   "id": "a0233b3b-cf16-470a-934e-20e60f211037",
   "metadata": {},
   "outputs": [
    {
     "name": "stdout",
     "output_type": "stream",
     "text": [
      "trial_1:\n",
      "Training model...\n",
      "Evaluating model...\n",
      "((0.982996241274387, 0.9905912647320987), {'bad': 0, 'good': 1})\n",
      "seconds:  83.56665468215942\n"
     ]
    }
   ],
   "source": [
    "# run vax_mm with tmodel\n",
    "print('trial_1:')\n",
    "start = time.time()\n",
    "res = vax_mm.single_split_classify(tmodel, return_labels=True)\n",
    "print(res)\n",
    "k15['trial_1'] = res\n",
    "end = time.time()\n",
    "print('seconds: ', end - start)"
   ]
  },
  {
   "cell_type": "code",
   "execution_count": 59,
   "id": "ca59e87d-b227-413b-8004-af988fc1ecef",
   "metadata": {},
   "outputs": [
    {
     "name": "stdout",
     "output_type": "stream",
     "text": [
      "trial_2:\n",
      "Training model...\n",
      "Evaluating model...\n",
      "((0.9823697870055486, 0.9902470419327689), {'bad': 0, 'good': 1})\n",
      "seconds:  85.89862537384033\n"
     ]
    }
   ],
   "source": [
    "# running vax_mm with tmodel again\n",
    "print('trial_2:')\n",
    "start = time.time()\n",
    "res = vax_mm.single_split_classify(tmodel, return_labels=True)\n",
    "print(res)\n",
    "k15['trial_2'] = res\n",
    "end = time.time()\n",
    "print('seconds: ', end - start)"
   ]
  },
  {
   "cell_type": "code",
   "execution_count": 60,
   "id": "1365e72e-5b4d-416f-a1a4-7b1d98a9f3db",
   "metadata": {},
   "outputs": [
    {
     "name": "stdout",
     "output_type": "stream",
     "text": [
      "trial_3:\n",
      "Training model...\n",
      "Evaluating model...\n",
      "((0.9823697870055486, 0.9902788058228473), {'bad': 0, 'good': 1})\n",
      "seconds:  84.46584272384644\n"
     ]
    }
   ],
   "source": [
    "# running vax_mm with raw_t_model\n",
    "print('trial_3:')\n",
    "start = time.time()\n",
    "res = vax_mm.single_split_classify(raw_tmodel, return_labels=True)\n",
    "print(res)\n",
    "k15['trial_3'] = res\n",
    "end = time.time()\n",
    "print('seconds: ', end - start)"
   ]
  },
  {
   "cell_type": "code",
   "execution_count": 61,
   "id": "7fca0bae-bfc8-4e80-b470-4e88f7997445",
   "metadata": {},
   "outputs": [
    {
     "name": "stdout",
     "output_type": "stream",
     "text": [
      "trial_4:\n",
      "Training model...\n",
      "Evaluating model...\n",
      "((0.9810273850008949, 0.9894914246059284), {'bad': 0, 'good': 1})\n",
      "seconds:  249.5921368598938\n"
     ]
    }
   ],
   "source": [
    "# running vax_mm with tmodel2\n",
    "print('trial_4:')\n",
    "start = time.time()\n",
    "res = vax_mm.single_split_classify(tmodel2, return_labels=True)\n",
    "print(res)\n",
    "k15['trial_4'] = res\n",
    "end = time.time()\n",
    "print('seconds: ', end - start)"
   ]
  },
  {
   "cell_type": "code",
   "execution_count": 62,
   "id": "4d3d3dfc-e53d-4ba0-9d47-c61b9464256a",
   "metadata": {},
   "outputs": [
    {
     "name": "stdout",
     "output_type": "stream",
     "text": [
      "trial_5:\n",
      "Training model...\n",
      "Evaluating model...\n",
      "((0.9838016824771791, 0.9910453668431207), {'bad': 0, 'good': 1})\n",
      "seconds:  247.42367339134216\n"
     ]
    }
   ],
   "source": [
    "# running vax_mm with tmodel2\n",
    "print('trial_5:')\n",
    "start = time.time()\n",
    "res = vax_mm.single_split_classify(tmodel2, return_labels=True)\n",
    "print(res)\n",
    "k15['trial_5'] = res\n",
    "end = time.time()\n",
    "print('seconds: ', end - start)"
   ]
  },
  {
   "cell_type": "code",
   "execution_count": 63,
   "id": "e7631a51-52d5-482c-bd93-d65d9b140683",
   "metadata": {},
   "outputs": [
    {
     "name": "stdout",
     "output_type": "stream",
     "text": [
      "Results of training with k=15\n",
      "===================\n",
      "trial_1\n",
      "accuracy:  0.982996241274387\n",
      "f1-score:  0.9905912647320987\n",
      "labels:  {'bad': 0, 'good': 1}\n",
      "===================\n",
      "trial_2\n",
      "accuracy:  0.9823697870055486\n",
      "f1-score:  0.9902470419327689\n",
      "labels:  {'bad': 0, 'good': 1}\n",
      "===================\n",
      "trial_3\n",
      "accuracy:  0.9823697870055486\n",
      "f1-score:  0.9902788058228473\n",
      "labels:  {'bad': 0, 'good': 1}\n",
      "===================\n",
      "trial_4\n",
      "accuracy:  0.9810273850008949\n",
      "f1-score:  0.9894914246059284\n",
      "labels:  {'bad': 0, 'good': 1}\n",
      "===================\n",
      "trial_5\n",
      "accuracy:  0.9838016824771791\n",
      "f1-score:  0.9910453668431207\n",
      "labels:  {'bad': 0, 'good': 1}\n"
     ]
    }
   ],
   "source": [
    "# print the contents of k15\n",
    "print('Results of training with k=15')\n",
    "for e in k15:\n",
    "    print('===================')\n",
    "    print(e)\n",
    "    print('accuracy: ', k15[e][0][0])\n",
    "    print('f1-score: ', k15[e][0][1])\n",
    "    print('labels: ', k15[e][1])"
   ]
  },
  {
   "cell_type": "code",
   "execution_count": 64,
   "id": "d6355118-32e6-4e97-98d9-3cbae33a6e63",
   "metadata": {},
   "outputs": [
    {
     "name": "stdout",
     "output_type": "stream",
     "text": [
      "done w/ good\n",
      "seconds:  303.5797379016876\n",
      "done w/ bad\n",
      "seconds:  6.11121392250061\n"
     ]
    }
   ],
   "source": [
    "# now we try this again with k=20\n",
    "\n",
    "# already have this below\n",
    "# vax_good_mat_shape = vax_good_mat.shape\n",
    "# vax_ref_shape = vax_ref.shape\n",
    "\n",
    "k = 20\n",
    "\n",
    "# good\n",
    "start = time.time()\n",
    "M = np.vstack((vax_good_mat, vax_ref))\n",
    "U, S, Vh = np.linalg.svd(M, full_matrices=True)\n",
    "Uk = np.delete(U, np.s_[k:], axis=1)\n",
    "new_vax_good_mat = np.delete(Uk, np.s_[vax_good_mat_shape[0]:], axis=0)\n",
    "new_vax_ref = np.delete(Uk, np.s_[:vax_good_mat_shape[0]], axis=0)\n",
    "newvgood2ref = cdist(new_vax_good_mat, new_vax_ref, 'cosine')\n",
    "end = time.time()\n",
    "print('done w/ good')\n",
    "print('seconds: ', end-start)\n",
    "\n",
    "# bad\n",
    "start = time.time()\n",
    "vax_bad_mat_shape = vax_bad_mat.shape\n",
    "M = np.vstack((vax_bad_mat, vax_ref))\n",
    "U, S, Vh = np.linalg.svd(M, full_matrices=True)\n",
    "Uk = np.delete(U, np.s_[k:], axis=1)\n",
    "new_vax_bad_mat = np.delete(Uk, np.s_[vax_bad_mat_shape[0]:], axis=0)\n",
    "new_vax_ref = np.delete(Uk, np.s_[:vax_bad_mat_shape[0]], axis=0)\n",
    "newvbad2ref = cdist(new_vax_bad_mat, new_vax_ref, 'cosine')\n",
    "end = time.time()\n",
    "print('done w/ bad')\n",
    "print('seconds: ', end-start)\n",
    "\n",
    "# created marked matrices\n",
    "vax_mm = MarkedMatrix([('good', newvgood2ref), ('bad', newvbad2ref)])\n",
    "# vax_raw_mm = MarkedMatrix([('good', new_vax_good_mat), ('bad', new_vax_bad_mat)])"
   ]
  },
  {
   "cell_type": "code",
   "execution_count": 65,
   "id": "ead426a2-1ae1-4b79-a7e3-dadc29719dbb",
   "metadata": {},
   "outputs": [],
   "source": [
    "# ====== RUN WITH k=20 ======\n",
    "k20 = dict()"
   ]
  },
  {
   "cell_type": "code",
   "execution_count": 66,
   "id": "a4161612-8856-49e1-bfac-e4dc6d06349f",
   "metadata": {},
   "outputs": [
    {
     "name": "stdout",
     "output_type": "stream",
     "text": [
      "trial_1:\n",
      "Training model...\n",
      "Evaluating model...\n",
      "((0.9676928584213352, 0.9822647998034881), {'bad': 0, 'good': 1})\n",
      "seconds:  69.11628985404968\n"
     ]
    }
   ],
   "source": [
    "# run vax_mm with tmodel\n",
    "print('trial_1:')\n",
    "start = time.time()\n",
    "res = vax_mm.single_split_classify(tmodel, return_labels=True)\n",
    "print(res)\n",
    "k20['trial_1'] = res\n",
    "end = time.time()\n",
    "print('seconds: ', end - start)"
   ]
  },
  {
   "cell_type": "code",
   "execution_count": 67,
   "id": "bb95d682-d9ea-4470-881a-efdf24f99bbe",
   "metadata": {},
   "outputs": [
    {
     "name": "stdout",
     "output_type": "stream",
     "text": [
      "trial_2:\n",
      "Training model...\n",
      "Evaluating model...\n",
      "((0.9625917308036513, 0.979410895478278), {'bad': 0, 'good': 1})\n",
      "seconds:  71.38185143470764\n"
     ]
    }
   ],
   "source": [
    "# running vax_mm with tmodel again\n",
    "print('trial_2:')\n",
    "start = time.time()\n",
    "res = vax_mm.single_split_classify(tmodel, return_labels=True)\n",
    "print(res)\n",
    "k20['trial_2'] = res\n",
    "end = time.time()\n",
    "print('seconds: ', end - start)"
   ]
  },
  {
   "cell_type": "code",
   "execution_count": 68,
   "id": "1c8e00ce-a6fb-42aa-89a7-8513fe7c54db",
   "metadata": {},
   "outputs": [
    {
     "name": "stdout",
     "output_type": "stream",
     "text": [
      "trial_3:\n",
      "Training model...\n",
      "Evaluating model...\n",
      "((0.9616967961338823, 0.9789121009065825), {'bad': 0, 'good': 1})\n",
      "seconds:  71.39282965660095\n"
     ]
    }
   ],
   "source": [
    "# running vax_mm with raw_t_model\n",
    "print('trial_3:')\n",
    "start = time.time()\n",
    "res = vax_mm.single_split_classify(raw_tmodel, return_labels=True)\n",
    "print(res)\n",
    "k20['trial_3'] = res\n",
    "end = time.time()\n",
    "print('seconds: ', end - start)"
   ]
  },
  {
   "cell_type": "code",
   "execution_count": 69,
   "id": "4e6b2634-a23d-4b57-a46d-f49ecbd9dbb5",
   "metadata": {},
   "outputs": [
    {
     "name": "stdout",
     "output_type": "stream",
     "text": [
      "trial_4:\n",
      "Training model...\n",
      "Evaluating model...\n",
      "((0.9633971720064435, 0.9798690751587341), {'bad': 0, 'good': 1})\n",
      "seconds:  208.83647513389587\n"
     ]
    }
   ],
   "source": [
    "# running vax_mm with tmodel2\n",
    "print('trial_4:')\n",
    "start = time.time()\n",
    "res = vax_mm.single_split_classify(tmodel2, return_labels=True)\n",
    "print(res)\n",
    "k20['trial_4'] = res\n",
    "end = time.time()\n",
    "print('seconds: ', end - start)"
   ]
  },
  {
   "cell_type": "code",
   "execution_count": 70,
   "id": "5ad83bfa-e25d-4f15-8891-bb327e3ebb85",
   "metadata": {},
   "outputs": [
    {
     "name": "stdout",
     "output_type": "stream",
     "text": [
      "trial_5:\n",
      "Training model...\n",
      "Evaluating model...\n",
      "((0.961965276534813, 0.9790609449672365), {'bad': 0, 'good': 1})\n",
      "seconds:  209.13214588165283\n"
     ]
    }
   ],
   "source": [
    "# running vax_mm with tmodel2\n",
    "print('trial_5:')\n",
    "start = time.time()\n",
    "res = vax_mm.single_split_classify(tmodel2, return_labels=True)\n",
    "print(res)\n",
    "k20['trial_5'] = res\n",
    "end = time.time()\n",
    "print('seconds: ', end - start)"
   ]
  },
  {
   "cell_type": "code",
   "execution_count": 71,
   "id": "5096d017-a93f-40db-b103-ced5b0280dd3",
   "metadata": {},
   "outputs": [
    {
     "name": "stdout",
     "output_type": "stream",
     "text": [
      "Results of training with k=20\n",
      "===================\n",
      "trial_1\n",
      "accuracy:  0.9676928584213352\n",
      "f1-score:  0.9822647998034881\n",
      "labels:  {'bad': 0, 'good': 1}\n",
      "===================\n",
      "trial_2\n",
      "accuracy:  0.9625917308036513\n",
      "f1-score:  0.979410895478278\n",
      "labels:  {'bad': 0, 'good': 1}\n",
      "===================\n",
      "trial_3\n",
      "accuracy:  0.9616967961338823\n",
      "f1-score:  0.9789121009065825\n",
      "labels:  {'bad': 0, 'good': 1}\n",
      "===================\n",
      "trial_4\n",
      "accuracy:  0.9633971720064435\n",
      "f1-score:  0.9798690751587341\n",
      "labels:  {'bad': 0, 'good': 1}\n",
      "===================\n",
      "trial_5\n",
      "accuracy:  0.961965276534813\n",
      "f1-score:  0.9790609449672365\n",
      "labels:  {'bad': 0, 'good': 1}\n"
     ]
    }
   ],
   "source": [
    "# print the contents of k20\n",
    "print('Results of training with k=20')\n",
    "for e in k20:\n",
    "    print('===================')\n",
    "    print(e)\n",
    "    print('accuracy: ', k20[e][0][0])\n",
    "    print('f1-score: ', k20[e][0][1])\n",
    "    print('labels: ', k20[e][1])"
   ]
  },
  {
   "cell_type": "code",
   "execution_count": 72,
   "id": "6806b248-20bb-4bf8-95d6-4c176427865f",
   "metadata": {},
   "outputs": [
    {
     "name": "stdout",
     "output_type": "stream",
     "text": [
      "done w/ good\n",
      "seconds:  303.0942440032959\n",
      "done w/ bad\n",
      "seconds:  5.782266139984131\n"
     ]
    }
   ],
   "source": [
    "# now we try this again with k=25\n",
    "\n",
    "# already have this below\n",
    "# vax_good_mat_shape = vax_good_mat.shape\n",
    "# vax_ref_shape = vax_ref.shape\n",
    "\n",
    "k = 25\n",
    "\n",
    "# good\n",
    "start = time.time()\n",
    "M = np.vstack((vax_good_mat, vax_ref))\n",
    "U, S, Vh = np.linalg.svd(M, full_matrices=True)\n",
    "Uk = np.delete(U, np.s_[k:], axis=1)\n",
    "new_vax_good_mat = np.delete(Uk, np.s_[vax_good_mat_shape[0]:], axis=0)\n",
    "new_vax_ref = np.delete(Uk, np.s_[:vax_good_mat_shape[0]], axis=0)\n",
    "newvgood2ref = cdist(new_vax_good_mat, new_vax_ref, 'cosine')\n",
    "end = time.time()\n",
    "print('done w/ good')\n",
    "print('seconds: ', end-start)\n",
    "\n",
    "# bad\n",
    "start = time.time()\n",
    "vax_bad_mat_shape = vax_bad_mat.shape\n",
    "M = np.vstack((vax_bad_mat, vax_ref))\n",
    "U, S, Vh = np.linalg.svd(M, full_matrices=True)\n",
    "Uk = np.delete(U, np.s_[k:], axis=1)\n",
    "new_vax_bad_mat = np.delete(Uk, np.s_[vax_bad_mat_shape[0]:], axis=0)\n",
    "new_vax_ref = np.delete(Uk, np.s_[:vax_bad_mat_shape[0]], axis=0)\n",
    "newvbad2ref = cdist(new_vax_bad_mat, new_vax_ref, 'cosine')\n",
    "end = time.time()\n",
    "print('done w/ bad')\n",
    "print('seconds: ', end-start)\n",
    "\n",
    "# created marked matrices\n",
    "vax_mm = MarkedMatrix([('good', newvgood2ref), ('bad', newvbad2ref)])\n",
    "# vax_raw_mm = MarkedMatrix([('good', new_vax_good_mat), ('bad', new_vax_bad_mat)])"
   ]
  },
  {
   "cell_type": "code",
   "execution_count": 73,
   "id": "8befd7fa-b75a-4303-a551-74cc06a5ca8e",
   "metadata": {},
   "outputs": [],
   "source": [
    "# ====== RUN WITH k=25 ======\n",
    "k25 = dict()"
   ]
  },
  {
   "cell_type": "code",
   "execution_count": 74,
   "id": "2eb4d8e1-c7c2-47bc-ae75-c0d3766fe6e3",
   "metadata": {},
   "outputs": [
    {
     "name": "stdout",
     "output_type": "stream",
     "text": [
      "trial_1:\n",
      "Training model...\n",
      "Evaluating model...\n",
      "((0.9520315017003759, 0.9738434511028694), {'bad': 0, 'good': 1})\n",
      "seconds:  68.03275513648987\n"
     ]
    }
   ],
   "source": [
    "# run vax_mm with tmodel\n",
    "print('trial_1:')\n",
    "start = time.time()\n",
    "res = vax_mm.single_split_classify(tmodel, return_labels=True)\n",
    "print(res)\n",
    "k25['trial_1'] = res\n",
    "end = time.time()\n",
    "print('seconds: ', end - start)"
   ]
  },
  {
   "cell_type": "code",
   "execution_count": 75,
   "id": "fe10895e-d782-4b9b-bc92-7b4649dce0a8",
   "metadata": {},
   "outputs": [
    {
     "name": "stdout",
     "output_type": "stream",
     "text": [
      "trial_2:\n",
      "Training model...\n",
      "Evaluating model...\n",
      "((0.9495256846250224, 0.9724501758499414), {'bad': 0, 'good': 1})\n",
      "seconds:  67.03186559677124\n"
     ]
    }
   ],
   "source": [
    "# running vax_mm with tmodel again\n",
    "print('trial_2:')\n",
    "start = time.time()\n",
    "res = vax_mm.single_split_classify(tmodel, return_labels=True)\n",
    "print(res)\n",
    "k25['trial_2'] = res\n",
    "end = time.time()\n",
    "print('seconds: ', end - start)"
   ]
  },
  {
   "cell_type": "code",
   "execution_count": 76,
   "id": "696446f6-7d5a-4796-a797-c67cc23270f6",
   "metadata": {},
   "outputs": [
    {
     "name": "stdout",
     "output_type": "stream",
     "text": [
      "trial_3:\n",
      "Training model...\n",
      "Evaluating model...\n",
      "((0.9544478253087525, 0.9751185413305958), {'bad': 0, 'good': 1})\n",
      "seconds:  65.8943738937378\n"
     ]
    }
   ],
   "source": [
    "# running vax_mm with raw_t_model\n",
    "print('trial_3:')\n",
    "start = time.time()\n",
    "res = vax_mm.single_split_classify(raw_tmodel, return_labels=True)\n",
    "print(res)\n",
    "k25['trial_3'] = res\n",
    "end = time.time()\n",
    "print('seconds: ', end - start)"
   ]
  },
  {
   "cell_type": "code",
   "execution_count": 77,
   "id": "afa89a3b-8e5e-4d2b-961e-70fce9d9b0a7",
   "metadata": {},
   "outputs": [
    {
     "name": "stdout",
     "output_type": "stream",
     "text": [
      "trial_4:\n",
      "Training model...\n",
      "Evaluating model...\n",
      "((0.9515840343654913, 0.9735516988511367), {'bad': 0, 'good': 1})\n",
      "seconds:  197.79481863975525\n"
     ]
    }
   ],
   "source": [
    "# running vax_mm with tmodel2\n",
    "print('trial_4:')\n",
    "start = time.time()\n",
    "res = vax_mm.single_split_classify(tmodel2, return_labels=True)\n",
    "print(res)\n",
    "k25['trial_4'] = res\n",
    "end = time.time()\n",
    "print('seconds: ', end - start)"
   ]
  },
  {
   "cell_type": "code",
   "execution_count": 78,
   "id": "5aaccb61-36cd-4415-b285-0d5d019d2cec",
   "metadata": {},
   "outputs": [
    {
     "name": "stdout",
     "output_type": "stream",
     "text": [
      "trial_5:\n",
      "Training model...\n",
      "Evaluating model...\n",
      "((0.9546268122427063, 0.975377592151911), {'bad': 0, 'good': 1})\n",
      "seconds:  198.4162895679474\n"
     ]
    }
   ],
   "source": [
    "# running vax_mm with tmodel2\n",
    "print('trial_5:')\n",
    "start = time.time()\n",
    "res = vax_mm.single_split_classify(tmodel2, return_labels=True)\n",
    "print(res)\n",
    "k25['trial_5'] = res\n",
    "end = time.time()\n",
    "print('seconds: ', end - start)"
   ]
  },
  {
   "cell_type": "code",
   "execution_count": 79,
   "id": "be7ac1ad-1a45-4801-ba74-55ad08204f18",
   "metadata": {},
   "outputs": [
    {
     "name": "stdout",
     "output_type": "stream",
     "text": [
      "Results of training with k=25\n",
      "===================\n",
      "trial_1\n",
      "accuracy:  0.9520315017003759\n",
      "f1-score:  0.9738434511028694\n",
      "labels:  {'bad': 0, 'good': 1}\n",
      "===================\n",
      "trial_2\n",
      "accuracy:  0.9495256846250224\n",
      "f1-score:  0.9724501758499414\n",
      "labels:  {'bad': 0, 'good': 1}\n",
      "===================\n",
      "trial_3\n",
      "accuracy:  0.9544478253087525\n",
      "f1-score:  0.9751185413305958\n",
      "labels:  {'bad': 0, 'good': 1}\n",
      "===================\n",
      "trial_4\n",
      "accuracy:  0.9515840343654913\n",
      "f1-score:  0.9735516988511367\n",
      "labels:  {'bad': 0, 'good': 1}\n",
      "===================\n",
      "trial_5\n",
      "accuracy:  0.9546268122427063\n",
      "f1-score:  0.975377592151911\n",
      "labels:  {'bad': 0, 'good': 1}\n"
     ]
    }
   ],
   "source": [
    "# print the contents of k25\n",
    "print('Results of training with k=25')\n",
    "for e in k25:\n",
    "    print('===================')\n",
    "    print(e)\n",
    "    print('accuracy: ', k25[e][0][0])\n",
    "    print('f1-score: ', k25[e][0][1])\n",
    "    print('labels: ', k25[e][1])"
   ]
  },
  {
   "cell_type": "code",
   "execution_count": 80,
   "id": "dfe14f53-9e1f-4a8e-b4c0-4bc98f0ac23e",
   "metadata": {},
   "outputs": [],
   "source": [
    "# ====== RUN WITH k=768 ======\n",
    "k768 = dict()"
   ]
  },
  {
   "cell_type": "code",
   "execution_count": 81,
   "id": "b6995594-2c97-4b22-a581-d62b789b84aa",
   "metadata": {},
   "outputs": [
    {
     "name": "stdout",
     "output_type": "stream",
     "text": [
      "done w/ good\n",
      "seconds:  314.8466053009033\n",
      "done w/ bad\n",
      "seconds:  7.53996467590332\n"
     ]
    }
   ],
   "source": [
    "# now we try this again with k=768\n",
    "\n",
    "# already have this below\n",
    "# vax_good_mat_shape = vax_good_mat.shape\n",
    "# vax_ref_shape = vax_ref.shape\n",
    "\n",
    "k = 768\n",
    "\n",
    "# good\n",
    "start = time.time()\n",
    "M = np.vstack((vax_good_mat, vax_ref))\n",
    "U, S, Vh = np.linalg.svd(M, full_matrices=True)\n",
    "Uk = np.delete(U, np.s_[k:], axis=1)\n",
    "new_vax_good_mat = np.delete(Uk, np.s_[vax_good_mat_shape[0]:], axis=0)\n",
    "new_vax_ref = np.delete(Uk, np.s_[:vax_good_mat_shape[0]], axis=0)\n",
    "newvgood2ref = cdist(new_vax_good_mat, new_vax_ref, 'cosine')\n",
    "end = time.time()\n",
    "print('done w/ good')\n",
    "print('seconds: ', end-start)\n",
    "\n",
    "# bad\n",
    "start = time.time()\n",
    "vax_bad_mat_shape = vax_bad_mat.shape\n",
    "M = np.vstack((vax_bad_mat, vax_ref))\n",
    "U, S, Vh = np.linalg.svd(M, full_matrices=True)\n",
    "Uk = np.delete(U, np.s_[k:], axis=1)\n",
    "new_vax_bad_mat = np.delete(Uk, np.s_[vax_bad_mat_shape[0]:], axis=0)\n",
    "new_vax_ref = np.delete(Uk, np.s_[:vax_bad_mat_shape[0]], axis=0)\n",
    "newvbad2ref = cdist(new_vax_bad_mat, new_vax_ref, 'cosine')\n",
    "end = time.time()\n",
    "print('done w/ bad')\n",
    "print('seconds: ', end-start)\n",
    "\n",
    "# created marked matrices\n",
    "vax_mm = MarkedMatrix([('good', newvgood2ref), ('bad', newvbad2ref)])\n",
    "# vax_raw_mm = MarkedMatrix([('good', new_vax_good_mat), ('bad', new_vax_bad_mat)])"
   ]
  },
  {
   "cell_type": "code",
   "execution_count": 82,
   "id": "c232eaa7-ab7a-47c1-b862-61ba07e665d3",
   "metadata": {},
   "outputs": [
    {
     "name": "stdout",
     "output_type": "stream",
     "text": [
      "trial_1:\n",
      "Training model...\n",
      "Evaluating model...\n",
      "((0.8992303561839986, 0.9466906542941009), {'bad': 0, 'good': 1})\n",
      "seconds:  47.24573063850403\n"
     ]
    }
   ],
   "source": [
    "# run vax_mm with tmodel\n",
    "print('trial_1:')\n",
    "start = time.time()\n",
    "res = vax_mm.single_split_classify(tmodel, return_labels=True)\n",
    "print(res)\n",
    "k768['trial_1'] = res\n",
    "end = time.time()\n",
    "print('seconds: ', end - start)"
   ]
  },
  {
   "cell_type": "code",
   "execution_count": 83,
   "id": "de19d91a-0304-4f1a-ba3c-bcf12bf445ac",
   "metadata": {},
   "outputs": [
    {
     "name": "stdout",
     "output_type": "stream",
     "text": [
      "trial_2:\n",
      "Training model...\n",
      "Evaluating model...\n",
      "((0.8939502416323608, 0.9437134850140123), {'bad': 0, 'good': 1})\n",
      "seconds:  47.09031128883362\n"
     ]
    }
   ],
   "source": [
    "# running vax_mm with tmodel again\n",
    "print('trial_2:')\n",
    "start = time.time()\n",
    "res = vax_mm.single_split_classify(tmodel, return_labels=True)\n",
    "print(res)\n",
    "k768['trial_2'] = res\n",
    "end = time.time()\n",
    "print('seconds: ', end - start)"
   ]
  },
  {
   "cell_type": "code",
   "execution_count": 84,
   "id": "5b1093a9-d0da-4f95-8c47-33f48a272732",
   "metadata": {},
   "outputs": [
    {
     "name": "stdout",
     "output_type": "stream",
     "text": [
      "trial_3:\n",
      "Training model...\n",
      "Evaluating model...\n",
      "((0.8992303561839986, 0.946710837671557), {'bad': 0, 'good': 1})\n",
      "seconds:  47.74734616279602\n"
     ]
    }
   ],
   "source": [
    "# running vax_mm with raw_t_model\n",
    "print('trial_3:')\n",
    "start = time.time()\n",
    "res = vax_mm.single_split_classify(raw_tmodel, return_labels=True)\n",
    "print(res)\n",
    "k768['trial_3'] = res\n",
    "end = time.time()\n",
    "print('seconds: ', end - start)"
   ]
  },
  {
   "cell_type": "code",
   "execution_count": 85,
   "id": "3b8756fd-c9d5-4e9d-b008-1a6ceea59f60",
   "metadata": {},
   "outputs": [
    {
     "name": "stdout",
     "output_type": "stream",
     "text": [
      "trial_4:\n",
      "Training model...\n",
      "Evaluating model...\n",
      "((0.8951136567030606, 0.944344192230981), {'bad': 0, 'good': 1})\n",
      "seconds:  139.72723841667175\n"
     ]
    }
   ],
   "source": [
    "# running vax_mm with tmodel2\n",
    "print('trial_4:')\n",
    "start = time.time()\n",
    "res = vax_mm.single_split_classify(tmodel2, return_labels=True)\n",
    "print(res)\n",
    "k768['trial_4'] = res\n",
    "end = time.time()\n",
    "print('seconds: ', end - start)"
   ]
  },
  {
   "cell_type": "code",
   "execution_count": 86,
   "id": "7def4907-cfac-4473-9fd5-6e17465c86a2",
   "metadata": {},
   "outputs": [
    {
     "name": "stdout",
     "output_type": "stream",
     "text": [
      "trial_5:\n",
      "Training model...\n",
      "Evaluating model...\n",
      "((0.8983354215142295, 0.9461713419257013), {'bad': 0, 'good': 1})\n",
      "seconds:  137.92243432998657\n"
     ]
    }
   ],
   "source": [
    "# running vax_mm with tmodel2\n",
    "print('trial_5:')\n",
    "start = time.time()\n",
    "res = vax_mm.single_split_classify(tmodel2, return_labels=True)\n",
    "print(res)\n",
    "k768['trial_5'] = res\n",
    "end = time.time()\n",
    "print('seconds: ', end - start)"
   ]
  },
  {
   "cell_type": "code",
   "execution_count": 87,
   "id": "97071b97-dd7d-4e91-be05-8f8d185ed974",
   "metadata": {},
   "outputs": [
    {
     "name": "stdout",
     "output_type": "stream",
     "text": [
      "Results of training with k=768\n",
      "===================\n",
      "trial_1\n",
      "accuracy:  0.8992303561839986\n",
      "f1-score:  0.9466906542941009\n",
      "labels:  {'bad': 0, 'good': 1}\n",
      "===================\n",
      "trial_2\n",
      "accuracy:  0.8939502416323608\n",
      "f1-score:  0.9437134850140123\n",
      "labels:  {'bad': 0, 'good': 1}\n",
      "===================\n",
      "trial_3\n",
      "accuracy:  0.8992303561839986\n",
      "f1-score:  0.946710837671557\n",
      "labels:  {'bad': 0, 'good': 1}\n",
      "===================\n",
      "trial_4\n",
      "accuracy:  0.8951136567030606\n",
      "f1-score:  0.944344192230981\n",
      "labels:  {'bad': 0, 'good': 1}\n",
      "===================\n",
      "trial_5\n",
      "accuracy:  0.8983354215142295\n",
      "f1-score:  0.9461713419257013\n",
      "labels:  {'bad': 0, 'good': 1}\n"
     ]
    }
   ],
   "source": [
    "# print the contents of k768\n",
    "print('Results of training with k=768')\n",
    "for e in k768:\n",
    "    print('===================')\n",
    "    print(e)\n",
    "    print('accuracy: ', k768[e][0][0])\n",
    "    print('f1-score: ', k768[e][0][1])\n",
    "    print('labels: ', k768[e][1])"
   ]
  },
  {
   "cell_type": "code",
   "execution_count": 88,
   "id": "71754e7f-007b-4b6d-8079-023652e4d754",
   "metadata": {},
   "outputs": [],
   "source": [
    "# prepping variables for plotting\n",
    "kVals = [5, 10, 15, 20, 25]\n",
    "\n",
    "trials = ['trial_1', 'trial_2', 'trial_3', 'trial_4', 'trial_5']\n",
    "kData = [k5, k10, k15, k20, k25]\n",
    "\n",
    "acc_results = dict()\n",
    "acc_results['trial_1'] = []\n",
    "acc_results['trial_2'] = []\n",
    "acc_results['trial_3'] = []\n",
    "acc_results['trial_4'] = []\n",
    "acc_results['trial_5'] = []\n",
    "\n",
    "for e in trials:\n",
    "    for f in kData:\n",
    "        acc_results[e].append(f[e][0][0])"
   ]
  },
  {
   "cell_type": "code",
   "execution_count": 89,
   "id": "75548d1c-ca3f-470a-9673-0b46ad7efb1a",
   "metadata": {},
   "outputs": [
    {
     "name": "stdout",
     "output_type": "stream",
     "text": [
      "{'trial_1': [1.0, 0.9939144442455701, 0.982996241274387, 0.9676928584213352, 0.9520315017003759], 'trial_2': [0.999910506533023, 0.9943619115804546, 0.9823697870055486, 0.9625917308036513, 0.9495256846250224], 'trial_3': [1.0, 0.9948093789153392, 0.9823697870055486, 0.9616967961338823, 0.9544478253087525], 'trial_4': [0.999910506533023, 0.9953463397172007, 0.9810273850008949, 0.9633971720064435, 0.9515840343654913], 'trial_5': [1.0, 0.9962412743869697, 0.9838016824771791, 0.961965276534813, 0.9546268122427063]}\n"
     ]
    }
   ],
   "source": [
    "print(acc_results)"
   ]
  },
  {
   "cell_type": "code",
   "execution_count": 90,
   "id": "987a6822-e69c-4395-88aa-032d7d43ddcb",
   "metadata": {},
   "outputs": [],
   "source": [
    "# more data prep\n",
    "f1_results = dict()\n",
    "f1_results['trial_1'] = []\n",
    "f1_results['trial_2'] = []\n",
    "f1_results['trial_3'] = []\n",
    "f1_results['trial_4'] = []\n",
    "f1_results['trial_5'] = []\n",
    "\n",
    "for e in trials:\n",
    "    for f in kData:\n",
    "        f1_results[e].append(f[e][0][1])"
   ]
  },
  {
   "cell_type": "code",
   "execution_count": 91,
   "id": "718a2a5f-07c5-43bc-b6c1-d3d04c049791",
   "metadata": {},
   "outputs": [
    {
     "name": "stdout",
     "output_type": "stream",
     "text": [
      "{'trial_1': [1.0, 0.9966027178257395, 0.9905912647320987, 0.9822647998034881, 0.9738434511028694], 'trial_2': [0.9999502116006971, 0.9968444778362134, 0.9902470419327689, 0.979410895478278, 0.9724501758499414], 'trial_3': [1.0, 0.9971054995508534, 0.9902788058228473, 0.9789121009065825, 0.9751185413305958], 'trial_4': [0.9999498269028146, 0.997407518197228, 0.9894914246059284, 0.9798690751587341, 0.9735516988511367], 'trial_5': [1.0, 0.9979018883005295, 0.9910453668431207, 0.9790609449672365, 0.975377592151911]}\n"
     ]
    }
   ],
   "source": [
    "print(f1_results)"
   ]
  },
  {
   "cell_type": "code",
   "execution_count": 92,
   "id": "08f475ff-600f-4161-8d38-246e4fee6d17",
   "metadata": {},
   "outputs": [
    {
     "data": {
      "image/png": "[encoded data removed]",
      "text/plain": [
       "<Figure size 640x480 with 1 Axes>"
      ]
     },
     "metadata": {},
     "output_type": "display_data"
    }
   ],
   "source": [
    "# plot accuracy vs k-value\n",
    "for e in acc_results:\n",
    "    plt.plot(kVals, acc_results[e], label=e)\n",
    "plt.legend()\n",
    "plt.xlabel('k value (number of dimensions)')\n",
    "plt.ylabel('accuracy score')\n",
    "plt.xticks(kVals)\n",
    "plt.title('accuracy vs k-value')\n",
    "plt.show()"
   ]
  },
  {
   "cell_type": "code",
   "execution_count": 93,
   "id": "8746222e-5c72-4006-b1e5-31b3e2384019",
   "metadata": {},
   "outputs": [
    {
     "data": {
      "image/png": "[encoded data removed]",
      "text/plain": [
       "<Figure size 640x480 with 1 Axes>"
      ]
     },
     "metadata": {},
     "output_type": "display_data"
    }
   ],
   "source": [
    "# plot f1 vs k_value\n",
    "for e in acc_results:\n",
    "    plt.plot(kVals, f1_results[e], label=e)\n",
    "plt.legend()\n",
    "plt.xlabel('k value (number of dimensions)')\n",
    "plt.ylabel('f1 score')\n",
    "plt.xticks(kVals)\n",
    "plt.title('f1 vs k-value')\n",
    "plt.show()"
   ]
  },
  {
   "cell_type": "code",
   "execution_count": 94,
   "id": "61b0ee1b-bfd9-4f36-bf03-61f6c3314567",
   "metadata": {},
   "outputs": [],
   "source": [
    "# include k768 this time\n",
    "kVals.append(768)\n",
    "for e in trials:\n",
    "    acc_results[e].append(k768[e][0][0])\n",
    "    f1_results[e].append(k768[e][0][1])"
   ]
  },
  {
   "cell_type": "code",
   "execution_count": 95,
   "id": "dd272322-5a91-4925-9220-9d647b0802a6",
   "metadata": {},
   "outputs": [
    {
     "data": {
      "image/png": "[encoded data removed]",
      "text/plain": [
       "<Figure size 640x480 with 1 Axes>"
      ]
     },
     "metadata": {},
     "output_type": "display_data"
    }
   ],
   "source": [
    "# plot accuracy vs k-value\n",
    "for e in acc_results:\n",
    "    plt.scatter(kVals, acc_results[e], label=e)\n",
    "plt.legend()\n",
    "plt.xlabel('k value (number of dimensions)')\n",
    "plt.ylabel('accuracy score')\n",
    "plt.title('accuracy vs k-value')\n",
    "plt.show()"
   ]
  },
  {
   "cell_type": "code",
   "execution_count": 96,
   "id": "5f2861f5-2928-4582-9608-ea9515482469",
   "metadata": {},
   "outputs": [
    {
     "data": {
      "image/png": "[encoded data removed]",
      "text/plain": [
       "<Figure size 640x480 with 1 Axes>"
      ]
     },
     "metadata": {},
     "output_type": "display_data"
    }
   ],
   "source": [
    "# plot f1 vs k_value\n",
    "for e in acc_results:\n",
    "    plt.scatter(kVals, f1_results[e], label=e)\n",
    "plt.legend()\n",
    "plt.xlabel('k value (number of dimensions)')\n",
    "plt.ylabel('f1 score')\n",
    "plt.title('f1 vs k-value')\n",
    "plt.show()"
   ]
  },
  {
   "cell_type": "markdown",
   "id": "ccf7c55f-4756-4841-9650-428feeecbb30",
   "metadata": {},
   "source": [
    "**The data is being saved to a pickle in the next two boxes.**\n",
    "\n",
    "Feel free to skip this if you are re-running preivous trials unless you want to overwrite the pkl file."
   ]
  },
  {
   "cell_type": "code",
   "execution_count": 98,
   "id": "9dee1b28-3ff0-4a56-84d9-a334c05e8280",
   "metadata": {},
   "outputs": [
    {
     "name": "stdout",
     "output_type": "stream",
     "text": [
      "[{'trial_1': ((1.0, 1.0), {'bad': 0, 'good': 1}), 'trial_2': ((0.999910506533023, 0.9999502116006971), {'bad': 0, 'good': 1}), 'trial_3': ((1.0, 1.0), {'bad': 0, 'good': 1}), 'trial_4': ((0.999910506533023, 0.9999498269028146), {'bad': 0, 'good': 1}), 'trial_5': ((1.0, 1.0), {'bad': 0, 'good': 1})}, {'trial_1': ((0.9939144442455701, 0.9966027178257395), {'bad': 0, 'good': 1}), 'trial_2': ((0.9943619115804546, 0.9968444778362134), {'bad': 0, 'good': 1}), 'trial_3': ((0.9948093789153392, 0.9971054995508534), {'bad': 0, 'good': 1}), 'trial_4': ((0.9953463397172007, 0.997407518197228), {'bad': 0, 'good': 1}), 'trial_5': ((0.9962412743869697, 0.9979018883005295), {'bad': 0, 'good': 1})}, {'trial_1': ((0.982996241274387, 0.9905912647320987), {'bad': 0, 'good': 1}), 'trial_2': ((0.9823697870055486, 0.9902470419327689), {'bad': 0, 'good': 1}), 'trial_3': ((0.9823697870055486, 0.9902788058228473), {'bad': 0, 'good': 1}), 'trial_4': ((0.9810273850008949, 0.9894914246059284), {'bad': 0, 'good': 1}), 'trial_5': ((0.9838016824771791, 0.9910453668431207), {'bad': 0, 'good': 1})}, {'trial_1': ((0.9676928584213352, 0.9822647998034881), {'bad': 0, 'good': 1}), 'trial_2': ((0.9625917308036513, 0.979410895478278), {'bad': 0, 'good': 1}), 'trial_3': ((0.9616967961338823, 0.9789121009065825), {'bad': 0, 'good': 1}), 'trial_4': ((0.9633971720064435, 0.9798690751587341), {'bad': 0, 'good': 1}), 'trial_5': ((0.961965276534813, 0.9790609449672365), {'bad': 0, 'good': 1})}, {'trial_1': ((0.9520315017003759, 0.9738434511028694), {'bad': 0, 'good': 1}), 'trial_2': ((0.9495256846250224, 0.9724501758499414), {'bad': 0, 'good': 1}), 'trial_3': ((0.9544478253087525, 0.9751185413305958), {'bad': 0, 'good': 1}), 'trial_4': ((0.9515840343654913, 0.9735516988511367), {'bad': 0, 'good': 1}), 'trial_5': ((0.9546268122427063, 0.975377592151911), {'bad': 0, 'good': 1})}, {'trial_1': ((0.8992303561839986, 0.9466906542941009), {'bad': 0, 'good': 1}), 'trial_2': ((0.8939502416323608, 0.9437134850140123), {'bad': 0, 'good': 1}), 'trial_3': ((0.8992303561839986, 0.946710837671557), {'bad': 0, 'good': 1}), 'trial_4': ((0.8951136567030606, 0.944344192230981), {'bad': 0, 'good': 1}), 'trial_5': ((0.8983354215142295, 0.9461713419257013), {'bad': 0, 'good': 1})}, {'trial_1': ((0.9104170395561124, 0.9517194810205952), {'bad': 0, 'good': 1}), 'trial_2': ((0.9110434938249508, 0.9521010023130301), {'bad': 0, 'good': 1}), 'trial_3': ((0.9114014676928585, 0.9522983521248917), {'bad': 0, 'good': 1}), 'trial_4': ((0.9129228566314659, 0.9531197301854974), {'bad': 0, 'good': 1}), 'trial_5': ((0.9082691963486665, 0.9506475997881458), {'bad': 0, 'good': 1})}]\n"
     ]
    }
   ],
   "source": [
    "# saving kData to pickle\n",
    "# kData is the collection of all the previous trials\n",
    "file = open('./pickles/training_results_transmission_1.pkl', 'wb')\n",
    "kData.append(k768)\n",
    "kData.append(regular)\n",
    "print(kData)\n",
    "pickle.dump(kData, file)\n",
    "file.close()"
   ]
  },
  {
   "cell_type": "code",
   "execution_count": 99,
   "id": "cc2a73bf-c570-4eef-8c6d-3b5245bda124",
   "metadata": {},
   "outputs": [
    {
     "name": "stdout",
     "output_type": "stream",
     "text": [
      "[{'trial_1': ((1.0, 1.0), {'bad': 0, 'good': 1}), 'trial_2': ((0.999910506533023, 0.9999502116006971), {'bad': 0, 'good': 1}), 'trial_3': ((1.0, 1.0), {'bad': 0, 'good': 1}), 'trial_4': ((0.999910506533023, 0.9999498269028146), {'bad': 0, 'good': 1}), 'trial_5': ((1.0, 1.0), {'bad': 0, 'good': 1})}, {'trial_1': ((0.9939144442455701, 0.9966027178257395), {'bad': 0, 'good': 1}), 'trial_2': ((0.9943619115804546, 0.9968444778362134), {'bad': 0, 'good': 1}), 'trial_3': ((0.9948093789153392, 0.9971054995508534), {'bad': 0, 'good': 1}), 'trial_4': ((0.9953463397172007, 0.997407518197228), {'bad': 0, 'good': 1}), 'trial_5': ((0.9962412743869697, 0.9979018883005295), {'bad': 0, 'good': 1})}, {'trial_1': ((0.982996241274387, 0.9905912647320987), {'bad': 0, 'good': 1}), 'trial_2': ((0.9823697870055486, 0.9902470419327689), {'bad': 0, 'good': 1}), 'trial_3': ((0.9823697870055486, 0.9902788058228473), {'bad': 0, 'good': 1}), 'trial_4': ((0.9810273850008949, 0.9894914246059284), {'bad': 0, 'good': 1}), 'trial_5': ((0.9838016824771791, 0.9910453668431207), {'bad': 0, 'good': 1})}, {'trial_1': ((0.9676928584213352, 0.9822647998034881), {'bad': 0, 'good': 1}), 'trial_2': ((0.9625917308036513, 0.979410895478278), {'bad': 0, 'good': 1}), 'trial_3': ((0.9616967961338823, 0.9789121009065825), {'bad': 0, 'good': 1}), 'trial_4': ((0.9633971720064435, 0.9798690751587341), {'bad': 0, 'good': 1}), 'trial_5': ((0.961965276534813, 0.9790609449672365), {'bad': 0, 'good': 1})}, {'trial_1': ((0.9520315017003759, 0.9738434511028694), {'bad': 0, 'good': 1}), 'trial_2': ((0.9495256846250224, 0.9724501758499414), {'bad': 0, 'good': 1}), 'trial_3': ((0.9544478253087525, 0.9751185413305958), {'bad': 0, 'good': 1}), 'trial_4': ((0.9515840343654913, 0.9735516988511367), {'bad': 0, 'good': 1}), 'trial_5': ((0.9546268122427063, 0.975377592151911), {'bad': 0, 'good': 1})}, {'trial_1': ((0.8992303561839986, 0.9466906542941009), {'bad': 0, 'good': 1}), 'trial_2': ((0.8939502416323608, 0.9437134850140123), {'bad': 0, 'good': 1}), 'trial_3': ((0.8992303561839986, 0.946710837671557), {'bad': 0, 'good': 1}), 'trial_4': ((0.8951136567030606, 0.944344192230981), {'bad': 0, 'good': 1}), 'trial_5': ((0.8983354215142295, 0.9461713419257013), {'bad': 0, 'good': 1})}, {'trial_1': ((0.9104170395561124, 0.9517194810205952), {'bad': 0, 'good': 1}), 'trial_2': ((0.9110434938249508, 0.9521010023130301), {'bad': 0, 'good': 1}), 'trial_3': ((0.9114014676928585, 0.9522983521248917), {'bad': 0, 'good': 1}), 'trial_4': ((0.9129228566314659, 0.9531197301854974), {'bad': 0, 'good': 1}), 'trial_5': ((0.9082691963486665, 0.9506475997881458), {'bad': 0, 'good': 1})}]\n"
     ]
    }
   ],
   "source": [
    "print(kData)"
   ]
  },
  {
   "cell_type": "markdown",
   "id": "c3795cbb-e337-444e-9e58-88f66a5f52eb",
   "metadata": {},
   "source": [
    "**Data from previous testing is being loaded in the next 2 cells.**\n",
    "\n",
    "Start here if you do not wish to run all the previous trials again and simply start with k=100. \n",
    "\n",
    "*However, you can skip this if you ran up to this point from the beginning.*"
   ]
  },
  {
   "cell_type": "code",
   "execution_count": 22,
   "id": "d6a467ea-397a-4a43-901e-17de19d53678",
   "metadata": {},
   "outputs": [
    {
     "data": {
      "text/plain": [
       "<function BufferedReader.close>"
      ]
     },
     "execution_count": 22,
     "metadata": {},
     "output_type": "execute_result"
    }
   ],
   "source": [
    "# loading kData from pickle\n",
    "file = open('./pickles/training_results_transmission_1.pkl', 'rb')\n",
    "kData = pickle.load(file)\n",
    "file.close()"
   ]
  },
  {
   "cell_type": "code",
   "execution_count": 24,
   "id": "59b98454-5b67-40ec-89e9-9a678f3d1cd8",
   "metadata": {},
   "outputs": [
    {
     "name": "stdout",
     "output_type": "stream",
     "text": [
      "[{'trial_1': ((1.0, 1.0), {'bad': 0, 'good': 1}), 'trial_2': ((0.999910506533023, 0.9999502116006971), {'bad': 0, 'good': 1}), 'trial_3': ((1.0, 1.0), {'bad': 0, 'good': 1}), 'trial_4': ((0.999910506533023, 0.9999498269028146), {'bad': 0, 'good': 1}), 'trial_5': ((1.0, 1.0), {'bad': 0, 'good': 1})}, {'trial_1': ((0.9939144442455701, 0.9966027178257395), {'bad': 0, 'good': 1}), 'trial_2': ((0.9943619115804546, 0.9968444778362134), {'bad': 0, 'good': 1}), 'trial_3': ((0.9948093789153392, 0.9971054995508534), {'bad': 0, 'good': 1}), 'trial_4': ((0.9953463397172007, 0.997407518197228), {'bad': 0, 'good': 1}), 'trial_5': ((0.9962412743869697, 0.9979018883005295), {'bad': 0, 'good': 1})}, {'trial_1': ((0.982996241274387, 0.9905912647320987), {'bad': 0, 'good': 1}), 'trial_2': ((0.9823697870055486, 0.9902470419327689), {'bad': 0, 'good': 1}), 'trial_3': ((0.9823697870055486, 0.9902788058228473), {'bad': 0, 'good': 1}), 'trial_4': ((0.9810273850008949, 0.9894914246059284), {'bad': 0, 'good': 1}), 'trial_5': ((0.9838016824771791, 0.9910453668431207), {'bad': 0, 'good': 1})}, {'trial_1': ((0.9676928584213352, 0.9822647998034881), {'bad': 0, 'good': 1}), 'trial_2': ((0.9625917308036513, 0.979410895478278), {'bad': 0, 'good': 1}), 'trial_3': ((0.9616967961338823, 0.9789121009065825), {'bad': 0, 'good': 1}), 'trial_4': ((0.9633971720064435, 0.9798690751587341), {'bad': 0, 'good': 1}), 'trial_5': ((0.961965276534813, 0.9790609449672365), {'bad': 0, 'good': 1})}, {'trial_1': ((0.9520315017003759, 0.9738434511028694), {'bad': 0, 'good': 1}), 'trial_2': ((0.9495256846250224, 0.9724501758499414), {'bad': 0, 'good': 1}), 'trial_3': ((0.9544478253087525, 0.9751185413305958), {'bad': 0, 'good': 1}), 'trial_4': ((0.9515840343654913, 0.9735516988511367), {'bad': 0, 'good': 1}), 'trial_5': ((0.9546268122427063, 0.975377592151911), {'bad': 0, 'good': 1})}]\n"
     ]
    }
   ],
   "source": [
    "# re-prepping variables after loading them from \n",
    "kVals = [5, 10, 15, 20, 25]\n",
    "\n",
    "trials = ['trial_1', 'trial_2', 'trial_3', 'trial_4', 'trial_5']\n",
    "# removing regular from kData\n",
    "regular = kData.pop()\n",
    "# removing k768 from kData\n",
    "# this will be added back later\n",
    "k768 = kData.pop()\n",
    "print(kData)\n",
    "\n",
    "acc_results = dict()\n",
    "acc_results['trial_1'] = []\n",
    "acc_results['trial_2'] = []\n",
    "acc_results['trial_3'] = []\n",
    "acc_results['trial_4'] = []\n",
    "acc_results['trial_5'] = []\n",
    "\n",
    "f1_results = dict()\n",
    "f1_results['trial_1'] = []\n",
    "f1_results['trial_2'] = []\n",
    "f1_results['trial_3'] = []\n",
    "f1_results['trial_4'] = []\n",
    "f1_results['trial_5'] = []\n",
    "\n",
    "for e in trials:\n",
    "    for f in kData:\n",
    "        acc_results[e].append(f[e][0][0])\n",
    "        f1_results[e].append(f[e][0][1])"
   ]
  },
  {
   "cell_type": "code",
   "execution_count": 26,
   "id": "434e08a3-bf57-4504-a383-47ad1411296d",
   "metadata": {},
   "outputs": [
    {
     "data": {
      "image/png": "[encoded data removed]",
      "text/plain": [
       "<Figure size 640x480 with 1 Axes>"
      ]
     },
     "metadata": {},
     "output_type": "display_data"
    }
   ],
   "source": [
    "# print graphs again to make sure the data is working\n",
    "# plot accuracy vs k-value\n",
    "for e in acc_results:\n",
    "    plt.plot(kVals, acc_results[e], label=e)\n",
    "plt.legend()\n",
    "plt.xlabel('k value (number of dimensions)')\n",
    "plt.ylabel('accuracy score')\n",
    "plt.xticks(kVals)\n",
    "plt.title('accuracy vs k-value')\n",
    "plt.show()"
   ]
  },
  {
   "cell_type": "code",
   "execution_count": 27,
   "id": "0e63c994-346d-45ef-9ce3-0a45532128b7",
   "metadata": {},
   "outputs": [
    {
     "data": {
      "image/png": "[encoded data removed]",
      "text/plain": [
       "<Figure size 640x480 with 1 Axes>"
      ]
     },
     "metadata": {},
     "output_type": "display_data"
    }
   ],
   "source": [
    "# plot f1 vs k_value\n",
    "for e in acc_results:\n",
    "    plt.plot(kVals, f1_results[e], label=e)\n",
    "plt.legend()\n",
    "plt.xlabel('k value (number of dimensions)')\n",
    "plt.ylabel('f1 score')\n",
    "plt.xticks(kVals)\n",
    "plt.title('f1 vs k-value')\n",
    "plt.show()"
   ]
  },
  {
   "cell_type": "code",
   "execution_count": 28,
   "id": "4d8049b5-a9dd-4baa-af9f-844e483284ab",
   "metadata": {},
   "outputs": [
    {
     "name": "stdout",
     "output_type": "stream",
     "text": [
      "done w/ good\n",
      "seconds:  238.92639207839966\n",
      "done w/ bad\n",
      "seconds:  6.172993183135986\n"
     ]
    }
   ],
   "source": [
    "# do additional testing with k = 100, 200, 300, and 500\n",
    "\n",
    "# no longer have this so we need it again\n",
    "vax_good_mat_shape = vax_good_mat.shape\n",
    "vax_ref_shape = vax_ref.shape\n",
    "\n",
    "k = 100\n",
    "\n",
    "# good\n",
    "start = time.time()\n",
    "M = np.vstack((vax_good_mat, vax_ref))\n",
    "U, S, Vh = np.linalg.svd(M, full_matrices=True)\n",
    "Uk = np.delete(U, np.s_[k:], axis=1)\n",
    "new_vax_good_mat = np.delete(Uk, np.s_[vax_good_mat_shape[0]:], axis=0)\n",
    "new_vax_ref = np.delete(Uk, np.s_[:vax_good_mat_shape[0]], axis=0)\n",
    "newvgood2ref = cdist(new_vax_good_mat, new_vax_ref, 'cosine')\n",
    "end = time.time()\n",
    "print('done w/ good')\n",
    "print('seconds: ', end-start)\n",
    "\n",
    "# bad\n",
    "start = time.time()\n",
    "vax_bad_mat_shape = vax_bad_mat.shape\n",
    "M = np.vstack((vax_bad_mat, vax_ref))\n",
    "U, S, Vh = np.linalg.svd(M, full_matrices=True)\n",
    "Uk = np.delete(U, np.s_[k:], axis=1)\n",
    "new_vax_bad_mat = np.delete(Uk, np.s_[vax_bad_mat_shape[0]:], axis=0)\n",
    "new_vax_ref = np.delete(Uk, np.s_[:vax_bad_mat_shape[0]], axis=0)\n",
    "newvbad2ref = cdist(new_vax_bad_mat, new_vax_ref, 'cosine')\n",
    "end = time.time()\n",
    "print('done w/ bad')\n",
    "print('seconds: ', end-start)\n",
    "\n",
    "# created marked matrices\n",
    "vax_mm = MarkedMatrix([('good', newvgood2ref), ('bad', newvbad2ref)])\n",
    "# vax_raw_mm = MarkedMatrix([('good', new_vax_good_mat), ('bad', new_vax_bad_mat)])"
   ]
  },
  {
   "cell_type": "code",
   "execution_count": 29,
   "id": "53a4be1c-9d8e-44e2-b4cc-41b71b28bd64",
   "metadata": {},
   "outputs": [],
   "source": [
    "# ========= RUN WITH k=100 ==========\n",
    "k100 = dict()"
   ]
  },
  {
   "cell_type": "code",
   "execution_count": 30,
   "id": "03975ab1-14f9-447b-bf27-7afb6bb7cf38",
   "metadata": {},
   "outputs": [
    {
     "name": "stdout",
     "output_type": "stream",
     "text": [
      "trial_1:\n",
      "Training model...\n",
      "Evaluating model...\n",
      "((0.9022731340612136, 0.9483394833948339), {'bad': 0, 'good': 1})\n",
      "seconds:  54.00516724586487\n"
     ]
    }
   ],
   "source": [
    "# run vax_mm with tmodel\n",
    "print('trial_1:')\n",
    "start = time.time()\n",
    "res = vax_mm.single_split_classify(tmodel, return_labels=True)\n",
    "print(res)\n",
    "k100['trial_1'] = res\n",
    "end = time.time()\n",
    "print('seconds: ', end - start)"
   ]
  },
  {
   "cell_type": "code",
   "execution_count": 31,
   "id": "dcfa09a8-47cb-4e3f-851b-2d88b082c406",
   "metadata": {},
   "outputs": [
    {
     "name": "stdout",
     "output_type": "stream",
     "text": [
      "trial_2:\n",
      "Training model...\n",
      "Evaluating model...\n",
      "((0.8975299803114373, 0.9456702253855279), {'bad': 0, 'good': 1})\n",
      "seconds:  54.56436729431152\n"
     ]
    }
   ],
   "source": [
    "# running vax_mm with tmodel again\n",
    "print('trial_2:')\n",
    "start = time.time()\n",
    "res = vax_mm.single_split_classify(tmodel, return_labels=True)\n",
    "print(res)\n",
    "k100['trial_2'] = res\n",
    "end = time.time()\n",
    "print('seconds: ', end - start)"
   ]
  },
  {
   "cell_type": "code",
   "execution_count": 32,
   "id": "f2ef420e-af5c-42c6-b1b2-4e5a2caf2597",
   "metadata": {},
   "outputs": [
    {
     "name": "stdout",
     "output_type": "stream",
     "text": [
      "trial_3:\n",
      "Training model...\n",
      "Evaluating model...\n",
      "((0.897798460712368, 0.945866514979143), {'bad': 0, 'good': 1})\n",
      "seconds:  55.20480799674988\n"
     ]
    }
   ],
   "source": [
    "# running vax_mm with raw_t_model\n",
    "print('trial_3:')\n",
    "start = time.time()\n",
    "res = vax_mm.single_split_classify(raw_tmodel, return_labels=True)\n",
    "print(res)\n",
    "k100['trial_3'] = res\n",
    "end = time.time()\n",
    "print('seconds: ', end - start)"
   ]
  },
  {
   "cell_type": "code",
   "execution_count": 33,
   "id": "3da56fea-69ea-4802-88f6-6f188211bdce",
   "metadata": {},
   "outputs": [
    {
     "name": "stdout",
     "output_type": "stream",
     "text": [
      "trial_4:\n",
      "Training model...\n",
      "Evaluating model...\n",
      "((0.9019151601933059, 0.9481796690307328), {'bad': 0, 'good': 1})\n",
      "seconds:  159.92372584342957\n"
     ]
    }
   ],
   "source": [
    "# running vax_mm with tmodel2\n",
    "print('trial_4:')\n",
    "start = time.time()\n",
    "res = vax_mm.single_split_classify(tmodel2, return_labels=True)\n",
    "print(res)\n",
    "k100['trial_4'] = res\n",
    "end = time.time()\n",
    "print('seconds: ', end - start)"
   ]
  },
  {
   "cell_type": "code",
   "execution_count": 34,
   "id": "cb6eabaf-09a2-431b-910e-8ad39d4d0a81",
   "metadata": {},
   "outputs": [
    {
     "name": "stdout",
     "output_type": "stream",
     "text": [
      "trial_5:\n",
      "Training model...\n",
      "Evaluating model...\n",
      "((0.8972614999105065, 0.9455304611880813), {'bad': 0, 'good': 1})\n",
      "seconds:  159.75615286827087\n"
     ]
    }
   ],
   "source": [
    "# running vax_mm with tmodel2\n",
    "print('trial_5:')\n",
    "start = time.time()\n",
    "res = vax_mm.single_split_classify(tmodel2, return_labels=True)\n",
    "print(res)\n",
    "k100['trial_5'] = res\n",
    "end = time.time()\n",
    "print('seconds: ', end - start)"
   ]
  },
  {
   "cell_type": "code",
   "execution_count": 35,
   "id": "ab4c5101-7174-4ea7-8921-8e67dd5aaf37",
   "metadata": {},
   "outputs": [
    {
     "name": "stdout",
     "output_type": "stream",
     "text": [
      "Results of training with k=100\n",
      "===================\n",
      "trial_1\n",
      "accuracy:  0.9022731340612136\n",
      "f1-score:  0.9483394833948339\n",
      "labels:  {'bad': 0, 'good': 1}\n",
      "===================\n",
      "trial_2\n",
      "accuracy:  0.8975299803114373\n",
      "f1-score:  0.9456702253855279\n",
      "labels:  {'bad': 0, 'good': 1}\n",
      "===================\n",
      "trial_3\n",
      "accuracy:  0.897798460712368\n",
      "f1-score:  0.945866514979143\n",
      "labels:  {'bad': 0, 'good': 1}\n",
      "===================\n",
      "trial_4\n",
      "accuracy:  0.9019151601933059\n",
      "f1-score:  0.9481796690307328\n",
      "labels:  {'bad': 0, 'good': 1}\n",
      "===================\n",
      "trial_5\n",
      "accuracy:  0.8972614999105065\n",
      "f1-score:  0.9455304611880813\n",
      "labels:  {'bad': 0, 'good': 1}\n"
     ]
    }
   ],
   "source": [
    "# print the contents of k100\n",
    "print('Results of training with k=100')\n",
    "for e in k100:\n",
    "    print('===================')\n",
    "    print(e)\n",
    "    print('accuracy: ', k100[e][0][0])\n",
    "    print('f1-score: ', k100[e][0][1])\n",
    "    print('labels: ', k100[e][1])"
   ]
  },
  {
   "cell_type": "code",
   "execution_count": 36,
   "id": "78a04b8b-4dfc-4897-8373-a6abd60298c1",
   "metadata": {},
   "outputs": [
    {
     "name": "stdout",
     "output_type": "stream",
     "text": [
      "done w/ good\n",
      "seconds:  232.6042091846466\n",
      "done w/ bad\n",
      "seconds:  6.200544118881226\n"
     ]
    }
   ],
   "source": [
    "# already have this below\n",
    "# vax_good_mat_shape = vax_good_mat.shape\n",
    "# vax_ref_shape = vax_ref.shape\n",
    "\n",
    "k = 200\n",
    "\n",
    "# good\n",
    "start = time.time()\n",
    "M = np.vstack((vax_good_mat, vax_ref))\n",
    "U, S, Vh = np.linalg.svd(M, full_matrices=True)\n",
    "Uk = np.delete(U, np.s_[k:], axis=1)\n",
    "new_vax_good_mat = np.delete(Uk, np.s_[vax_good_mat_shape[0]:], axis=0)\n",
    "new_vax_ref = np.delete(Uk, np.s_[:vax_good_mat_shape[0]], axis=0)\n",
    "newvgood2ref = cdist(new_vax_good_mat, new_vax_ref, 'cosine')\n",
    "end = time.time()\n",
    "print('done w/ good')\n",
    "print('seconds: ', end-start)\n",
    "\n",
    "# bad\n",
    "start = time.time()\n",
    "vax_bad_mat_shape = vax_bad_mat.shape\n",
    "M = np.vstack((vax_bad_mat, vax_ref))\n",
    "U, S, Vh = np.linalg.svd(M, full_matrices=True)\n",
    "Uk = np.delete(U, np.s_[k:], axis=1)\n",
    "new_vax_bad_mat = np.delete(Uk, np.s_[vax_bad_mat_shape[0]:], axis=0)\n",
    "new_vax_ref = np.delete(Uk, np.s_[:vax_bad_mat_shape[0]], axis=0)\n",
    "newvbad2ref = cdist(new_vax_bad_mat, new_vax_ref, 'cosine')\n",
    "end = time.time()\n",
    "print('done w/ bad')\n",
    "print('seconds: ', end-start)\n",
    "\n",
    "# created marked matrices\n",
    "vax_mm = MarkedMatrix([('good', newvgood2ref), ('bad', newvbad2ref)])\n",
    "# vax_raw_mm = MarkedMatrix([('good', new_vax_good_mat), ('bad', new_vax_bad_mat)])"
   ]
  },
  {
   "cell_type": "code",
   "execution_count": 37,
   "id": "f0c328cb-6ff5-4a3c-803c-3420c8a62a4a",
   "metadata": {},
   "outputs": [],
   "source": [
    "# ========= RUN WITH k200 ==========\n",
    "k200 = dict()"
   ]
  },
  {
   "cell_type": "code",
   "execution_count": 38,
   "id": "ebbb5355-e587-4969-a935-e4b6f07693a6",
   "metadata": {},
   "outputs": [
    {
     "name": "stdout",
     "output_type": "stream",
     "text": [
      "trial_1:\n",
      "Training model...\n",
      "Evaluating model...\n",
      "((0.8990513692500447, 0.9466212379329927), {'bad': 0, 'good': 1})\n",
      "seconds:  55.55285882949829\n"
     ]
    }
   ],
   "source": [
    "# run vax_mm with tmodel\n",
    "print('trial_1:')\n",
    "start = time.time()\n",
    "res = vax_mm.single_split_classify(tmodel, return_labels=True)\n",
    "print(res)\n",
    "k200['trial_1'] = res\n",
    "end = time.time()\n",
    "print('seconds: ', end - start)"
   ]
  },
  {
   "cell_type": "code",
   "execution_count": 39,
   "id": "00c8e5f6-7b12-4355-b3fe-42ad13f4ba41",
   "metadata": {},
   "outputs": [
    {
     "name": "stdout",
     "output_type": "stream",
     "text": [
      "trial_2:\n",
      "Training model...\n",
      "Evaluating model...\n",
      "((0.9017361732593521, 0.9480162863365211), {'bad': 0, 'good': 1})\n",
      "seconds:  55.235774755477905\n"
     ]
    }
   ],
   "source": [
    "# running vax_mm with tmodel again\n",
    "print('trial_2:')\n",
    "start = time.time()\n",
    "res = vax_mm.single_split_classify(tmodel, return_labels=True)\n",
    "print(res)\n",
    "k200['trial_2'] = res\n",
    "end = time.time()\n",
    "print('seconds: ', end - start)"
   ]
  },
  {
   "cell_type": "code",
   "execution_count": 40,
   "id": "f81a62a9-203a-4686-ac28-98e541276a49",
   "metadata": {},
   "outputs": [
    {
     "name": "stdout",
     "output_type": "stream",
     "text": [
      "trial_3:\n",
      "Training model...\n",
      "Evaluating model...\n",
      "((0.892786826561661, 0.9430662484554699), {'bad': 0, 'good': 1})\n",
      "seconds:  55.72273254394531\n"
     ]
    }
   ],
   "source": [
    "# running vax_mm with raw_t_model\n",
    "print('trial_3:')\n",
    "start = time.time()\n",
    "res = vax_mm.single_split_classify(raw_tmodel, return_labels=True)\n",
    "print(res)\n",
    "k200['trial_3'] = res\n",
    "end = time.time()\n",
    "print('seconds: ', end - start)"
   ]
  },
  {
   "cell_type": "code",
   "execution_count": 41,
   "id": "c77a78ad-6bf3-4abc-bbef-62a1bc605953",
   "metadata": {},
   "outputs": [
    {
     "name": "stdout",
     "output_type": "stream",
     "text": [
      "trial_4:\n",
      "Training model...\n",
      "Evaluating model...\n",
      "((0.8999463039198139, 0.9470694063062209), {'bad': 0, 'good': 1})\n",
      "seconds:  164.17081952095032\n"
     ]
    }
   ],
   "source": [
    "# running vax_mm with tmodel2\n",
    "print('trial_4:')\n",
    "start = time.time()\n",
    "res = vax_mm.single_split_classify(tmodel2, return_labels=True)\n",
    "print(res)\n",
    "k200['trial_4'] = res\n",
    "end = time.time()\n",
    "print('seconds: ', end - start)"
   ]
  },
  {
   "cell_type": "code",
   "execution_count": 42,
   "id": "e7e11b92-845c-406b-a5b0-77f387342a74",
   "metadata": {},
   "outputs": [
    {
     "name": "stdout",
     "output_type": "stream",
     "text": [
      "trial_5:\n",
      "Training model...\n",
      "Evaluating model...\n",
      "((0.8974404868444603, 0.9456356736242885), {'bad': 0, 'good': 1})\n",
      "seconds:  161.89628076553345\n"
     ]
    }
   ],
   "source": [
    "# running vax_mm with tmodel2\n",
    "print('trial_5:')\n",
    "start = time.time()\n",
    "res = vax_mm.single_split_classify(tmodel2, return_labels=True)\n",
    "print(res)\n",
    "k200['trial_5'] = res\n",
    "end = time.time()\n",
    "print('seconds: ', end - start)"
   ]
  },
  {
   "cell_type": "code",
   "execution_count": 43,
   "id": "333b41dd-2b80-4458-a7bc-080d984e4af9",
   "metadata": {},
   "outputs": [
    {
     "name": "stdout",
     "output_type": "stream",
     "text": [
      "Results of training with k=200\n",
      "===================\n",
      "trial_1\n",
      "accuracy:  0.8990513692500447\n",
      "f1-score:  0.9466212379329927\n",
      "labels:  {'bad': 0, 'good': 1}\n",
      "===================\n",
      "trial_2\n",
      "accuracy:  0.9017361732593521\n",
      "f1-score:  0.9480162863365211\n",
      "labels:  {'bad': 0, 'good': 1}\n",
      "===================\n",
      "trial_3\n",
      "accuracy:  0.892786826561661\n",
      "f1-score:  0.9430662484554699\n",
      "labels:  {'bad': 0, 'good': 1}\n",
      "===================\n",
      "trial_4\n",
      "accuracy:  0.8999463039198139\n",
      "f1-score:  0.9470694063062209\n",
      "labels:  {'bad': 0, 'good': 1}\n",
      "===================\n",
      "trial_5\n",
      "accuracy:  0.8974404868444603\n",
      "f1-score:  0.9456356736242885\n",
      "labels:  {'bad': 0, 'good': 1}\n"
     ]
    }
   ],
   "source": [
    "# print the contents of k200\n",
    "print('Results of training with k=200')\n",
    "for e in k200:\n",
    "    print('===================')\n",
    "    print(e)\n",
    "    print('accuracy: ', k200[e][0][0])\n",
    "    print('f1-score: ', k200[e][0][1])\n",
    "    print('labels: ', k200[e][1])"
   ]
  },
  {
   "cell_type": "code",
   "execution_count": 44,
   "id": "571b0526-1924-49bf-ba9a-e6fce65db2a5",
   "metadata": {},
   "outputs": [
    {
     "name": "stdout",
     "output_type": "stream",
     "text": [
      "done w/ good\n",
      "seconds:  249.00461554527283\n",
      "done w/ bad\n",
      "seconds:  6.7855188846588135\n"
     ]
    }
   ],
   "source": [
    "# do additional testing with k = 100, 200, 300, and 500\n",
    "\n",
    "# already have this below\n",
    "# vax_good_mat_shape = vax_good_mat.shape\n",
    "# vax_ref_shape = vax_ref.shape\n",
    "\n",
    "k = 300\n",
    "\n",
    "# good\n",
    "start = time.time()\n",
    "M = np.vstack((vax_good_mat, vax_ref))\n",
    "U, S, Vh = np.linalg.svd(M, full_matrices=True)\n",
    "Uk = np.delete(U, np.s_[k:], axis=1)\n",
    "new_vax_good_mat = np.delete(Uk, np.s_[vax_good_mat_shape[0]:], axis=0)\n",
    "new_vax_ref = np.delete(Uk, np.s_[:vax_good_mat_shape[0]], axis=0)\n",
    "newvgood2ref = cdist(new_vax_good_mat, new_vax_ref, 'cosine')\n",
    "end = time.time()\n",
    "print('done w/ good')\n",
    "print('seconds: ', end-start)\n",
    "\n",
    "# bad\n",
    "start = time.time()\n",
    "vax_bad_mat_shape = vax_bad_mat.shape\n",
    "M = np.vstack((vax_bad_mat, vax_ref))\n",
    "U, S, Vh = np.linalg.svd(M, full_matrices=True)\n",
    "Uk = np.delete(U, np.s_[k:], axis=1)\n",
    "new_vax_bad_mat = np.delete(Uk, np.s_[vax_bad_mat_shape[0]:], axis=0)\n",
    "new_vax_ref = np.delete(Uk, np.s_[:vax_bad_mat_shape[0]], axis=0)\n",
    "newvbad2ref = cdist(new_vax_bad_mat, new_vax_ref, 'cosine')\n",
    "end = time.time()\n",
    "print('done w/ bad')\n",
    "print('seconds: ', end-start)\n",
    "\n",
    "# created marked matrices\n",
    "vax_mm = MarkedMatrix([('good', newvgood2ref), ('bad', newvbad2ref)])\n",
    "# vax_raw_mm = MarkedMatrix([('good', new_vax_good_mat), ('bad', new_vax_bad_mat)])"
   ]
  },
  {
   "cell_type": "code",
   "execution_count": 45,
   "id": "0d4c7d63-5317-481a-87a5-2a751c2d3210",
   "metadata": {},
   "outputs": [],
   "source": [
    "# ========= RUN WITH k=300 ==========\n",
    "k300 = dict()"
   ]
  },
  {
   "cell_type": "code",
   "execution_count": 46,
   "id": "c23d3c9e-4e54-4934-aafc-158ec7b65379",
   "metadata": {},
   "outputs": [
    {
     "name": "stdout",
     "output_type": "stream",
     "text": [
      "trial_1:\n",
      "Training model...\n",
      "Evaluating model...\n",
      "((0.9006622516556292, 0.9474929044465468), {'bad': 0, 'good': 1})\n",
      "seconds:  54.55919551849365\n"
     ]
    }
   ],
   "source": [
    "# run vax_mm with tmodel\n",
    "print('trial_1:')\n",
    "start = time.time()\n",
    "res = vax_mm.single_split_classify(tmodel, return_labels=True)\n",
    "print(res)\n",
    "k300['trial_1'] = res\n",
    "end = time.time()\n",
    "print('seconds: ', end - start)"
   ]
  },
  {
   "cell_type": "code",
   "execution_count": 47,
   "id": "059925db-6895-4d30-a399-c99f15cef52e",
   "metadata": {},
   "outputs": [
    {
     "name": "stdout",
     "output_type": "stream",
     "text": [
      "trial_2:\n",
      "Training model...\n",
      "Evaluating model...\n",
      "((0.8974404868444603, 0.9457077885162024), {'bad': 0, 'good': 1})\n",
      "seconds:  54.91576266288757\n"
     ]
    }
   ],
   "source": [
    "# running vax_mm with tmodel again\n",
    "print('trial_2:')\n",
    "start = time.time()\n",
    "res = vax_mm.single_split_classify(tmodel, return_labels=True)\n",
    "print(res)\n",
    "k300['trial_2'] = res\n",
    "end = time.time()\n",
    "print('seconds: ', end - start)"
   ]
  },
  {
   "cell_type": "code",
   "execution_count": 48,
   "id": "b5c940cd-093b-4dd3-85da-cf1e38bf6bc1",
   "metadata": {},
   "outputs": [
    {
     "name": "stdout",
     "output_type": "stream",
     "text": [
      "trial_3:\n",
      "Training model...\n",
      "Evaluating model...\n",
      "((0.8969930195095758, 0.945442479973456), {'bad': 0, 'good': 1})\n",
      "seconds:  54.575849533081055\n"
     ]
    }
   ],
   "source": [
    "# running vax_mm with raw_t_model\n",
    "print('trial_3:')\n",
    "start = time.time()\n",
    "res = vax_mm.single_split_classify(raw_tmodel, return_labels=True)\n",
    "print(res)\n",
    "k300['trial_3'] = res\n",
    "end = time.time()\n",
    "print('seconds: ', end - start)"
   ]
  },
  {
   "cell_type": "code",
   "execution_count": 49,
   "id": "0ba16900-e28e-4183-b247-a6ae5ce8860d",
   "metadata": {},
   "outputs": [
    {
     "name": "stdout",
     "output_type": "stream",
     "text": [
      "trial_4:\n",
      "Training model...\n",
      "Evaluating model...\n",
      "((0.8969930195095758, 0.9454269593665544), {'bad': 0, 'good': 1})\n",
      "seconds:  158.16681289672852\n"
     ]
    }
   ],
   "source": [
    "# running vax_mm with tmodel2\n",
    "print('trial_4:')\n",
    "start = time.time()\n",
    "res = vax_mm.single_split_classify(tmodel2, return_labels=True)\n",
    "print(res)\n",
    "k300['trial_4'] = res\n",
    "end = time.time()\n",
    "print('seconds: ', end - start)"
   ]
  },
  {
   "cell_type": "code",
   "execution_count": 50,
   "id": "1ee3df6f-89e1-4091-90cf-a498885a1edf",
   "metadata": {},
   "outputs": [
    {
     "name": "stdout",
     "output_type": "stream",
     "text": [
      "trial_5:\n",
      "Training model...\n",
      "Evaluating model...\n",
      "((0.8976194737784142, 0.9457202505219208), {'bad': 0, 'good': 1})\n",
      "seconds:  159.40552687644958\n"
     ]
    }
   ],
   "source": [
    "# running vax_mm with tmodel2\n",
    "print('trial_5:')\n",
    "start = time.time()\n",
    "res = vax_mm.single_split_classify(tmodel2, return_labels=True)\n",
    "print(res)\n",
    "k300['trial_5'] = res\n",
    "end = time.time()\n",
    "print('seconds: ', end - start)"
   ]
  },
  {
   "cell_type": "code",
   "execution_count": 51,
   "id": "b0f9480a-4e59-4347-958d-51c20d34ac17",
   "metadata": {},
   "outputs": [
    {
     "name": "stdout",
     "output_type": "stream",
     "text": [
      "Results of training with k=300\n",
      "===================\n",
      "trial_1\n",
      "accuracy:  0.9006622516556292\n",
      "f1-score:  0.9474929044465468\n",
      "labels:  {'bad': 0, 'good': 1}\n",
      "===================\n",
      "trial_2\n",
      "accuracy:  0.8974404868444603\n",
      "f1-score:  0.9457077885162024\n",
      "labels:  {'bad': 0, 'good': 1}\n",
      "===================\n",
      "trial_3\n",
      "accuracy:  0.8969930195095758\n",
      "f1-score:  0.945442479973456\n",
      "labels:  {'bad': 0, 'good': 1}\n",
      "===================\n",
      "trial_4\n",
      "accuracy:  0.8969930195095758\n",
      "f1-score:  0.9454269593665544\n",
      "labels:  {'bad': 0, 'good': 1}\n",
      "===================\n",
      "trial_5\n",
      "accuracy:  0.8976194737784142\n",
      "f1-score:  0.9457202505219208\n",
      "labels:  {'bad': 0, 'good': 1}\n"
     ]
    }
   ],
   "source": [
    "# print the contents of k300\n",
    "print('Results of training with k=300')\n",
    "for e in k300:\n",
    "    print('===================')\n",
    "    print(e)\n",
    "    print('accuracy: ', k300[e][0][0])\n",
    "    print('f1-score: ', k300[e][0][1])\n",
    "    print('labels: ', k300[e][1])"
   ]
  },
  {
   "cell_type": "code",
   "execution_count": 52,
   "id": "b757cd6f-6875-4916-8a65-0d24cdfcea9c",
   "metadata": {},
   "outputs": [
    {
     "name": "stdout",
     "output_type": "stream",
     "text": [
      "done w/ good\n",
      "seconds:  230.65980052947998\n",
      "done w/ bad\n",
      "seconds:  7.8960747718811035\n"
     ]
    }
   ],
   "source": [
    "# do additional testing with k = 100, 200, 300, and 500\n",
    "\n",
    "# already have this below\n",
    "# vax_good_mat_shape = vax_good_mat.shape\n",
    "# vax_ref_shape = vax_ref.shape\n",
    "\n",
    "k = 500\n",
    "\n",
    "# good\n",
    "start = time.time()\n",
    "M = np.vstack((vax_good_mat, vax_ref))\n",
    "U, S, Vh = np.linalg.svd(M, full_matrices=True)\n",
    "Uk = np.delete(U, np.s_[k:], axis=1)\n",
    "new_vax_good_mat = np.delete(Uk, np.s_[vax_good_mat_shape[0]:], axis=0)\n",
    "new_vax_ref = np.delete(Uk, np.s_[:vax_good_mat_shape[0]], axis=0)\n",
    "newvgood2ref = cdist(new_vax_good_mat, new_vax_ref, 'cosine')\n",
    "end = time.time()\n",
    "print('done w/ good')\n",
    "print('seconds: ', end-start)\n",
    "\n",
    "# bad\n",
    "start = time.time()\n",
    "vax_bad_mat_shape = vax_bad_mat.shape\n",
    "M = np.vstack((vax_bad_mat, vax_ref))\n",
    "U, S, Vh = np.linalg.svd(M, full_matrices=True)\n",
    "Uk = np.delete(U, np.s_[k:], axis=1)\n",
    "new_vax_bad_mat = np.delete(Uk, np.s_[vax_bad_mat_shape[0]:], axis=0)\n",
    "new_vax_ref = np.delete(Uk, np.s_[:vax_bad_mat_shape[0]], axis=0)\n",
    "newvbad2ref = cdist(new_vax_bad_mat, new_vax_ref, 'cosine')\n",
    "end = time.time()\n",
    "print('done w/ bad')\n",
    "print('seconds: ', end-start)\n",
    "\n",
    "# created marked matrices\n",
    "vax_mm = MarkedMatrix([('good', newvgood2ref), ('bad', newvbad2ref)])\n",
    "# vax_raw_mm = MarkedMatrix([('good', new_vax_good_mat), ('bad', new_vax_bad_mat)])"
   ]
  },
  {
   "cell_type": "code",
   "execution_count": 53,
   "id": "17b16772-05d6-4575-9683-fc49953a0164",
   "metadata": {},
   "outputs": [],
   "source": [
    "# ========= RUN WITH k=500 ==========\n",
    "k500 = dict()"
   ]
  },
  {
   "cell_type": "code",
   "execution_count": 54,
   "id": "6da5a2e6-f596-4cad-8545-86290e38ce55",
   "metadata": {},
   "outputs": [
    {
     "name": "stdout",
     "output_type": "stream",
     "text": [
      "trial_1:\n",
      "Training model...\n",
      "Evaluating model...\n",
      "((0.8941292285663146, 0.94382449309084), {'bad': 0, 'good': 1})\n",
      "seconds:  51.022382736206055\n"
     ]
    }
   ],
   "source": [
    "# run vax_mm with tmodel\n",
    "print('trial_1:')\n",
    "start = time.time()\n",
    "res = vax_mm.single_split_classify(tmodel, return_labels=True)\n",
    "print(res)\n",
    "k500['trial_1'] = res\n",
    "end = time.time()\n",
    "print('seconds: ', end - start)"
   ]
  },
  {
   "cell_type": "code",
   "execution_count": 55,
   "id": "9165aeb0-424d-4591-952b-79402311cc68",
   "metadata": {},
   "outputs": [
    {
     "name": "stdout",
     "output_type": "stream",
     "text": [
      "trial_2:\n",
      "Training model...\n",
      "Evaluating model...\n",
      "((0.8991408627170216, 0.9466256215960218), {'bad': 0, 'good': 1})\n",
      "seconds:  50.9838445186615\n"
     ]
    }
   ],
   "source": [
    "# running vax_mm with tmodel again\n",
    "print('trial_2:')\n",
    "start = time.time()\n",
    "res = vax_mm.single_split_classify(tmodel, return_labels=True)\n",
    "print(res)\n",
    "k500['trial_2'] = res\n",
    "end = time.time()\n",
    "print('seconds: ', end - start)"
   ]
  },
  {
   "cell_type": "code",
   "execution_count": 56,
   "id": "7b9d40b5-7508-477f-8d46-81f2a39871c9",
   "metadata": {},
   "outputs": [
    {
     "name": "stdout",
     "output_type": "stream",
     "text": [
      "trial_3:\n",
      "Training model...\n",
      "Evaluating model...\n",
      "((0.8977089672453911, 0.9458422174840085), {'bad': 0, 'good': 1})\n",
      "seconds:  50.699804067611694\n"
     ]
    }
   ],
   "source": [
    "# running vax_mm with raw_t_model\n",
    "print('trial_3:')\n",
    "start = time.time()\n",
    "res = vax_mm.single_split_classify(raw_tmodel, return_labels=True)\n",
    "print(res)\n",
    "k500['trial_3'] = res\n",
    "end = time.time()\n",
    "print('seconds: ', end - start)"
   ]
  },
  {
   "cell_type": "code",
   "execution_count": 57,
   "id": "82ac07a9-a4ec-4dc0-a558-fb891d50b1e8",
   "metadata": {},
   "outputs": [
    {
     "name": "stdout",
     "output_type": "stream",
     "text": [
      "trial_4:\n",
      "Training model...\n",
      "Evaluating model...\n",
      "((0.9004832647216753, 0.9473634384171163), {'bad': 0, 'good': 1})\n",
      "seconds:  147.5189905166626\n"
     ]
    }
   ],
   "source": [
    "# running vax_mm with tmodel2\n",
    "print('trial_4:')\n",
    "start = time.time()\n",
    "res = vax_mm.single_split_classify(tmodel2, return_labels=True)\n",
    "print(res)\n",
    "k500['trial_4'] = res\n",
    "end = time.time()\n",
    "print('seconds: ', end - start)"
   ]
  },
  {
   "cell_type": "code",
   "execution_count": 58,
   "id": "7bc4ab57-b314-4507-835e-7e22350d4bc5",
   "metadata": {},
   "outputs": [
    {
     "name": "stdout",
     "output_type": "stream",
     "text": [
      "trial_5:\n",
      "Training model...\n",
      "Evaluating model...\n",
      "((0.8981564345802756, 0.946097006441834), {'bad': 0, 'good': 1})\n",
      "seconds:  148.65939855575562\n"
     ]
    }
   ],
   "source": [
    "# running vax_mm with tmodel2\n",
    "print('trial_5:')\n",
    "start = time.time()\n",
    "res = vax_mm.single_split_classify(tmodel2, return_labels=True)\n",
    "print(res)\n",
    "k500['trial_5'] = res\n",
    "end = time.time()\n",
    "print('seconds: ', end - start)"
   ]
  },
  {
   "cell_type": "code",
   "execution_count": 59,
   "id": "82279e05-9f58-45cd-9f61-516d9b7d1658",
   "metadata": {},
   "outputs": [
    {
     "name": "stdout",
     "output_type": "stream",
     "text": [
      "Results of training with k=500\n",
      "===================\n",
      "trial_1\n",
      "accuracy:  0.8941292285663146\n",
      "f1-score:  0.94382449309084\n",
      "labels:  {'bad': 0, 'good': 1}\n",
      "===================\n",
      "trial_2\n",
      "accuracy:  0.8991408627170216\n",
      "f1-score:  0.9466256215960218\n",
      "labels:  {'bad': 0, 'good': 1}\n",
      "===================\n",
      "trial_3\n",
      "accuracy:  0.8977089672453911\n",
      "f1-score:  0.9458422174840085\n",
      "labels:  {'bad': 0, 'good': 1}\n",
      "===================\n",
      "trial_4\n",
      "accuracy:  0.9004832647216753\n",
      "f1-score:  0.9473634384171163\n",
      "labels:  {'bad': 0, 'good': 1}\n",
      "===================\n",
      "trial_5\n",
      "accuracy:  0.8981564345802756\n",
      "f1-score:  0.946097006441834\n",
      "labels:  {'bad': 0, 'good': 1}\n"
     ]
    }
   ],
   "source": [
    "# print the contents of k500\n",
    "print('Results of training with k=500')\n",
    "for e in k500:\n",
    "    print('===================')\n",
    "    print(e)\n",
    "    print('accuracy: ', k500[e][0][0])\n",
    "    print('f1-score: ', k500[e][0][1])\n",
    "    print('labels: ', k500[e][1])"
   ]
  },
  {
   "cell_type": "code",
   "execution_count": 61,
   "id": "0bb0defe-7ae2-4bb1-a2db-04415e50cc2a",
   "metadata": {},
   "outputs": [],
   "source": [
    "# plotting again with more values this time\n",
    "\n",
    "kVals = [5, 10, 15, 20, 25, 100, 200, 300, 500, 768]\n",
    "\n",
    "trials = ['trial_1', 'trial_2', 'trial_3', 'trial_4', 'trial_5']\n",
    "# kData = [k5, k10, k15, k20, k25]\n",
    "kData.extend([k100, k200, k300, k500, k768])\n",
    "# kData = [k5, k10, k15, k20, k25, k100, k200, k300, k500, k768]\n",
    "\n",
    "acc_results = dict()\n",
    "acc_results['trial_1'] = []\n",
    "acc_results['trial_2'] = []\n",
    "acc_results['trial_3'] = []\n",
    "acc_results['trial_4'] = []\n",
    "acc_results['trial_5'] = []\n",
    "\n",
    "for e in trials:\n",
    "    for f in kData:\n",
    "        acc_results[e].append(f[e][0][0])\n",
    "\n",
    "# more data prep\n",
    "f1_results = dict()\n",
    "f1_results['trial_1'] = []\n",
    "f1_results['trial_2'] = []\n",
    "f1_results['trial_3'] = []\n",
    "f1_results['trial_4'] = []\n",
    "f1_results['trial_5'] = []\n",
    "\n",
    "for e in trials:\n",
    "    for f in kData:\n",
    "        f1_results[e].append(f[e][0][1])"
   ]
  },
  {
   "cell_type": "code",
   "execution_count": 63,
   "id": "4e121df6-f91f-426e-b093-3d46f8e68c10",
   "metadata": {},
   "outputs": [
    {
     "data": {
      "image/png": "[encoded data removed]",
      "text/plain": [
       "<Figure size 640x480 with 1 Axes>"
      ]
     },
     "metadata": {},
     "output_type": "display_data"
    }
   ],
   "source": [
    "# plot accuracy vs k-value\n",
    "for e in acc_results:\n",
    "    plt.scatter(kVals, acc_results[e], label=e)\n",
    "plt.legend()\n",
    "plt.xlabel('k value (number of dimensions)')\n",
    "plt.ylabel('accuracy score')\n",
    "plt.title('accuracy vs k-value')\n",
    "plt.show()"
   ]
  },
  {
   "cell_type": "code",
   "execution_count": 64,
   "id": "30db0b8e-2738-4f62-b11e-db8821774436",
   "metadata": {},
   "outputs": [
    {
     "data": {
      "image/png": "[encoded data removed]",
      "text/plain": [
       "<Figure size 640x480 with 1 Axes>"
      ]
     },
     "metadata": {},
     "output_type": "display_data"
    }
   ],
   "source": [
    "# plot f1 vs k_value\n",
    "for e in acc_results:\n",
    "    plt.scatter(kVals, f1_results[e], label=e)\n",
    "plt.legend()\n",
    "plt.xlabel('k value (number of dimensions)')\n",
    "plt.ylabel('f1 score')\n",
    "plt.title('f1 vs k-value')\n",
    "plt.show()"
   ]
  },
  {
   "cell_type": "code",
   "execution_count": 65,
   "id": "3d2c7260-a35f-4e88-b95a-d6043ff7f39d",
   "metadata": {},
   "outputs": [
    {
     "name": "stdout",
     "output_type": "stream",
     "text": [
      "done w/ good\n",
      "seconds:  249.92830228805542\n",
      "done w/ bad\n",
      "seconds:  6.100217342376709\n"
     ]
    }
   ],
   "source": [
    "# going to try with 50 and 75 for a better looking graph\n",
    "\n",
    "# already have this below\n",
    "# vax_good_mat_shape = vax_good_mat.shape\n",
    "# vax_ref_shape = vax_ref.shape\n",
    "\n",
    "k = 50\n",
    "\n",
    "# good\n",
    "start = time.time()\n",
    "M = np.vstack((vax_good_mat, vax_ref))\n",
    "U, S, Vh = np.linalg.svd(M, full_matrices=True)\n",
    "Uk = np.delete(U, np.s_[k:], axis=1)\n",
    "new_vax_good_mat = np.delete(Uk, np.s_[vax_good_mat_shape[0]:], axis=0)\n",
    "new_vax_ref = np.delete(Uk, np.s_[:vax_good_mat_shape[0]], axis=0)\n",
    "newvgood2ref = cdist(new_vax_good_mat, new_vax_ref, 'cosine')\n",
    "end = time.time()\n",
    "print('done w/ good')\n",
    "print('seconds: ', end-start)\n",
    "\n",
    "# bad\n",
    "start = time.time()\n",
    "vax_bad_mat_shape = vax_bad_mat.shape\n",
    "M = np.vstack((vax_bad_mat, vax_ref))\n",
    "U, S, Vh = np.linalg.svd(M, full_matrices=True)\n",
    "Uk = np.delete(U, np.s_[k:], axis=1)\n",
    "new_vax_bad_mat = np.delete(Uk, np.s_[vax_bad_mat_shape[0]:], axis=0)\n",
    "new_vax_ref = np.delete(Uk, np.s_[:vax_bad_mat_shape[0]], axis=0)\n",
    "newvbad2ref = cdist(new_vax_bad_mat, new_vax_ref, 'cosine')\n",
    "end = time.time()\n",
    "print('done w/ bad')\n",
    "print('seconds: ', end-start)\n",
    "\n",
    "# created marked matrices\n",
    "vax_mm = MarkedMatrix([('good', newvgood2ref), ('bad', newvbad2ref)])\n",
    "# vax_raw_mm = MarkedMatrix([('good', new_vax_good_mat), ('bad', new_vax_bad_mat)])"
   ]
  },
  {
   "cell_type": "code",
   "execution_count": 66,
   "id": "7797fd73-248d-4fa0-ad25-64045f64cbfd",
   "metadata": {},
   "outputs": [],
   "source": [
    "# ========= RUN WITH k=50 ==========\n",
    "k50 = dict()"
   ]
  },
  {
   "cell_type": "code",
   "execution_count": 67,
   "id": "062e869b-f34e-42ae-a575-c24e46de0dc0",
   "metadata": {},
   "outputs": [
    {
     "name": "stdout",
     "output_type": "stream",
     "text": [
      "trial_1:\n",
      "Training model...\n",
      "Evaluating model...\n",
      "((0.9012887059244675, 0.947717684978907), {'bad': 0, 'good': 1})\n",
      "seconds:  53.76700949668884\n"
     ]
    }
   ],
   "source": [
    "# run vax_mm with tmodel\n",
    "print('trial_1:')\n",
    "start = time.time()\n",
    "res = vax_mm.single_split_classify(tmodel, return_labels=True)\n",
    "print(res)\n",
    "k50['trial_1'] = res\n",
    "end = time.time()\n",
    "print('seconds: ', end - start)"
   ]
  },
  {
   "cell_type": "code",
   "execution_count": 68,
   "id": "82715e40-ba6b-4a58-bfd4-6246db23e4fc",
   "metadata": {},
   "outputs": [
    {
     "name": "stdout",
     "output_type": "stream",
     "text": [
      "trial_2:\n",
      "Training model...\n",
      "Evaluating model...\n",
      "((0.9023626275281904, 0.9482374151919153), {'bad': 0, 'good': 1})\n",
      "seconds:  52.72409009933472\n"
     ]
    }
   ],
   "source": [
    "# running vax_mm with tmodel again\n",
    "print('trial_2:')\n",
    "start = time.time()\n",
    "res = vax_mm.single_split_classify(tmodel, return_labels=True)\n",
    "print(res)\n",
    "k50['trial_2'] = res\n",
    "end = time.time()\n",
    "print('seconds: ', end - start)"
   ]
  },
  {
   "cell_type": "code",
   "execution_count": 69,
   "id": "310ace8e-2d20-4ad6-9c6f-171d2ac0b540",
   "metadata": {},
   "outputs": [
    {
     "name": "stdout",
     "output_type": "stream",
     "text": [
      "trial_3:\n",
      "Training model...\n",
      "Evaluating model...\n",
      "((0.9034365491319134, 0.948898887047123), {'bad': 0, 'good': 1})\n",
      "seconds:  53.99274969100952\n"
     ]
    }
   ],
   "source": [
    "# running vax_mm with raw_t_model\n",
    "print('trial_3:')\n",
    "start = time.time()\n",
    "res = vax_mm.single_split_classify(raw_tmodel, return_labels=True)\n",
    "print(res)\n",
    "k50['trial_3'] = res\n",
    "end = time.time()\n",
    "print('seconds: ', end - start)"
   ]
  },
  {
   "cell_type": "code",
   "execution_count": 70,
   "id": "1a3a9336-6591-4083-974e-5aeca808891e",
   "metadata": {},
   "outputs": [
    {
     "name": "stdout",
     "output_type": "stream",
     "text": [
      "trial_4:\n",
      "Training model...\n",
      "Evaluating model...\n",
      "((0.8956506175049221, 0.9444867644258237), {'bad': 0, 'good': 1})\n",
      "seconds:  160.19483304023743\n"
     ]
    }
   ],
   "source": [
    "# running vax_mm with tmodel2\n",
    "print('trial_4:')\n",
    "start = time.time()\n",
    "res = vax_mm.single_split_classify(tmodel2, return_labels=True)\n",
    "print(res)\n",
    "k50['trial_4'] = res\n",
    "end = time.time()\n",
    "print('seconds: ', end - start)"
   ]
  },
  {
   "cell_type": "code",
   "execution_count": 71,
   "id": "29c9eb46-6f74-4c8f-bea6-d1d4617a3dcd",
   "metadata": {},
   "outputs": [
    {
     "name": "stdout",
     "output_type": "stream",
     "text": [
      "trial_5:\n",
      "Training model...\n",
      "Evaluating model...\n",
      "((0.8996778235188831, 0.9467736574711553), {'bad': 0, 'good': 1})\n",
      "seconds:  159.18705368041992\n"
     ]
    }
   ],
   "source": [
    "# running vax_mm with tmodel2\n",
    "print('trial_5:')\n",
    "start = time.time()\n",
    "res = vax_mm.single_split_classify(tmodel2, return_labels=True)\n",
    "print(res)\n",
    "k50['trial_5'] = res\n",
    "end = time.time()\n",
    "print('seconds: ', end - start)"
   ]
  },
  {
   "cell_type": "code",
   "execution_count": 72,
   "id": "75fd46a0-964e-4094-ba6a-fb1f8d3f976e",
   "metadata": {},
   "outputs": [
    {
     "name": "stdout",
     "output_type": "stream",
     "text": [
      "Results of training with k=50\n",
      "===================\n",
      "trial_1\n",
      "accuracy:  0.9012887059244675\n",
      "f1-score:  0.947717684978907\n",
      "labels:  {'bad': 0, 'good': 1}\n",
      "===================\n",
      "trial_2\n",
      "accuracy:  0.9023626275281904\n",
      "f1-score:  0.9482374151919153\n",
      "labels:  {'bad': 0, 'good': 1}\n",
      "===================\n",
      "trial_3\n",
      "accuracy:  0.9034365491319134\n",
      "f1-score:  0.948898887047123\n",
      "labels:  {'bad': 0, 'good': 1}\n",
      "===================\n",
      "trial_4\n",
      "accuracy:  0.8956506175049221\n",
      "f1-score:  0.9444867644258237\n",
      "labels:  {'bad': 0, 'good': 1}\n",
      "===================\n",
      "trial_5\n",
      "accuracy:  0.8996778235188831\n",
      "f1-score:  0.9467736574711553\n",
      "labels:  {'bad': 0, 'good': 1}\n"
     ]
    }
   ],
   "source": [
    "# print the contents of k50\n",
    "print('Results of training with k=50')\n",
    "for e in k50:\n",
    "    print('===================')\n",
    "    print(e)\n",
    "    print('accuracy: ', k50[e][0][0])\n",
    "    print('f1-score: ', k50[e][0][1])\n",
    "    print('labels: ', k50[e][1])"
   ]
  },
  {
   "cell_type": "code",
   "execution_count": 73,
   "id": "5dcc7b15-a925-4e6a-ac9b-469c89062351",
   "metadata": {},
   "outputs": [
    {
     "name": "stdout",
     "output_type": "stream",
     "text": [
      "done w/ good\n",
      "seconds:  208.9266219139099\n",
      "done w/ bad\n",
      "seconds:  6.151457786560059\n"
     ]
    }
   ],
   "source": [
    "# going to try with 50 and 75 for a better looking graph\n",
    "# do additional testing with k = 100, 200, 300, and 500\n",
    "\n",
    "# already have this below\n",
    "# vax_good_mat_shape = vax_good_mat.shape\n",
    "# vax_ref_shape = vax_ref.shape\n",
    "\n",
    "k = 75\n",
    "\n",
    "# good\n",
    "start = time.time()\n",
    "M = np.vstack((vax_good_mat, vax_ref))\n",
    "U, S, Vh = np.linalg.svd(M, full_matrices=True)\n",
    "Uk = np.delete(U, np.s_[k:], axis=1)\n",
    "new_vax_good_mat = np.delete(Uk, np.s_[vax_good_mat_shape[0]:], axis=0)\n",
    "new_vax_ref = np.delete(Uk, np.s_[:vax_good_mat_shape[0]], axis=0)\n",
    "newvgood2ref = cdist(new_vax_good_mat, new_vax_ref, 'cosine')\n",
    "end = time.time()\n",
    "print('done w/ good')\n",
    "print('seconds: ', end-start)\n",
    "\n",
    "# bad\n",
    "start = time.time()\n",
    "vax_bad_mat_shape = vax_bad_mat.shape\n",
    "M = np.vstack((vax_bad_mat, vax_ref))\n",
    "U, S, Vh = np.linalg.svd(M, full_matrices=True)\n",
    "Uk = np.delete(U, np.s_[k:], axis=1)\n",
    "new_vax_bad_mat = np.delete(Uk, np.s_[vax_bad_mat_shape[0]:], axis=0)\n",
    "new_vax_ref = np.delete(Uk, np.s_[:vax_bad_mat_shape[0]], axis=0)\n",
    "newvbad2ref = cdist(new_vax_bad_mat, new_vax_ref, 'cosine')\n",
    "end = time.time()\n",
    "print('done w/ bad')\n",
    "print('seconds: ', end-start)\n",
    "\n",
    "# created marked matrices\n",
    "vax_mm = MarkedMatrix([('good', newvgood2ref), ('bad', newvbad2ref)])\n",
    "# vax_raw_mm = MarkedMatrix([('good', new_vax_good_mat), ('bad', new_vax_bad_mat)])"
   ]
  },
  {
   "cell_type": "code",
   "execution_count": 74,
   "id": "856e9a2b-1890-4b3e-b093-ee6179d70a08",
   "metadata": {},
   "outputs": [],
   "source": [
    "# ========= RUN WITH k=75 ==========\n",
    "k75 = dict()"
   ]
  },
  {
   "cell_type": "code",
   "execution_count": 75,
   "id": "40c1dca3-c753-4a80-91ca-49067af8d290",
   "metadata": {},
   "outputs": [
    {
     "name": "stdout",
     "output_type": "stream",
     "text": [
      "trial_1:\n",
      "Training model...\n",
      "Evaluating model...\n",
      "((0.9036155360658672, 0.949056336029516), {'bad': 0, 'good': 1})\n",
      "seconds:  52.30518984794617\n"
     ]
    }
   ],
   "source": [
    "# run vax_mm with tmodel\n",
    "print('trial_1:')\n",
    "start = time.time()\n",
    "res = vax_mm.single_split_classify(tmodel, return_labels=True)\n",
    "print(res)\n",
    "k75['trial_1'] = res\n",
    "end = time.time()\n",
    "print('seconds: ', end - start)"
   ]
  },
  {
   "cell_type": "code",
   "execution_count": 76,
   "id": "ced8b8c6-ee03-4311-a26b-27ab14b4c309",
   "metadata": {},
   "outputs": [
    {
     "name": "stdout",
     "output_type": "stream",
     "text": [
      "trial_2:\n",
      "Training model...\n",
      "Evaluating model...\n",
      "((0.8972614999105065, 0.9454839016050907), {'bad': 0, 'good': 1})\n",
      "seconds:  53.30105185508728\n"
     ]
    }
   ],
   "source": [
    "# running vax_mm with tmodel again\n",
    "print('trial_2:')\n",
    "start = time.time()\n",
    "res = vax_mm.single_split_classify(tmodel, return_labels=True)\n",
    "print(res)\n",
    "k75['trial_2'] = res\n",
    "end = time.time()\n",
    "print('seconds: ', end - start)"
   ]
  },
  {
   "cell_type": "code",
   "execution_count": 77,
   "id": "250e9098-407e-414a-b4af-2660a9e60d50",
   "metadata": {},
   "outputs": [
    {
     "name": "stdout",
     "output_type": "stream",
     "text": [
      "trial_3:\n",
      "Training model...\n",
      "Evaluating model...\n",
      "((0.8986933953821371, 0.946320182094082), {'bad': 0, 'good': 1})\n",
      "seconds:  53.06776475906372\n"
     ]
    }
   ],
   "source": [
    "# running vax_mm with raw_t_model\n",
    "print('trial_3:')\n",
    "start = time.time()\n",
    "res = vax_mm.single_split_classify(raw_tmodel, return_labels=True)\n",
    "print(res)\n",
    "k75['trial_3'] = res\n",
    "end = time.time()\n",
    "print('seconds: ', end - start)"
   ]
  },
  {
   "cell_type": "code",
   "execution_count": 78,
   "id": "39f487cc-e4a5-48e1-b145-765ae8c37ebb",
   "metadata": {},
   "outputs": [
    {
     "name": "stdout",
     "output_type": "stream",
     "text": [
      "trial_4:\n",
      "Training model...\n",
      "Evaluating model...\n",
      "((0.8987828888491141, 0.9463904820590605), {'bad': 0, 'good': 1})\n",
      "seconds:  158.56920909881592\n"
     ]
    }
   ],
   "source": [
    "# running vax_mm with tmodel2\n",
    "print('trial_4:')\n",
    "start = time.time()\n",
    "res = vax_mm.single_split_classify(tmodel2, return_labels=True)\n",
    "print(res)\n",
    "k75['trial_4'] = res\n",
    "end = time.time()\n",
    "print('seconds: ', end - start)"
   ]
  },
  {
   "cell_type": "code",
   "execution_count": 79,
   "id": "021d81fd-7089-4736-8e6c-284d5397d1ea",
   "metadata": {},
   "outputs": [
    {
     "name": "stdout",
     "output_type": "stream",
     "text": [
      "trial_5:\n",
      "Training model...\n",
      "Evaluating model...\n",
      "((0.8926973330946841, 0.9429237873089923), {'bad': 0, 'good': 1})\n",
      "seconds:  157.00894260406494\n"
     ]
    }
   ],
   "source": [
    "# running vax_mm with tmodel2\n",
    "print('trial_5:')\n",
    "start = time.time()\n",
    "res = vax_mm.single_split_classify(tmodel2, return_labels=True)\n",
    "print(res)\n",
    "k75['trial_5'] = res\n",
    "end = time.time()\n",
    "print('seconds: ', end - start)"
   ]
  },
  {
   "cell_type": "code",
   "execution_count": 80,
   "id": "d33d68cf-895b-494a-9785-1fbb8ddc2079",
   "metadata": {},
   "outputs": [
    {
     "name": "stdout",
     "output_type": "stream",
     "text": [
      "Results of training with k=75\n",
      "===================\n",
      "trial_1\n",
      "accuracy:  0.9036155360658672\n",
      "f1-score:  0.949056336029516\n",
      "labels:  {'bad': 0, 'good': 1}\n",
      "===================\n",
      "trial_2\n",
      "accuracy:  0.8972614999105065\n",
      "f1-score:  0.9454839016050907\n",
      "labels:  {'bad': 0, 'good': 1}\n",
      "===================\n",
      "trial_3\n",
      "accuracy:  0.8986933953821371\n",
      "f1-score:  0.946320182094082\n",
      "labels:  {'bad': 0, 'good': 1}\n",
      "===================\n",
      "trial_4\n",
      "accuracy:  0.8987828888491141\n",
      "f1-score:  0.9463904820590605\n",
      "labels:  {'bad': 0, 'good': 1}\n",
      "===================\n",
      "trial_5\n",
      "accuracy:  0.8926973330946841\n",
      "f1-score:  0.9429237873089923\n",
      "labels:  {'bad': 0, 'good': 1}\n"
     ]
    }
   ],
   "source": [
    "# print the contents of k75\n",
    "print('Results of training with k=75')\n",
    "for e in k75:\n",
    "    print('===================')\n",
    "    print(e)\n",
    "    print('accuracy: ', k75[e][0][0])\n",
    "    print('f1-score: ', k75[e][0][1])\n",
    "    print('labels: ', k75[e][1])"
   ]
  },
  {
   "cell_type": "code",
   "execution_count": 86,
   "id": "8c08f401-8bc6-4ab8-9cc1-48d7dc86029b",
   "metadata": {},
   "outputs": [],
   "source": [
    "# plotting again with more values this time\n",
    "\n",
    "kVals = [5, 10, 15, 20, 25, 50, 75, 100, 200, 300, 500, 768]\n",
    "\n",
    "trials = ['trial_1', 'trial_2', 'trial_3', 'trial_4', 'trial_5']\n",
    "# kData = [k5, k10, k15, k20, k25, k100, k200, k300, k500, k768]\n",
    "kData.insert(5, k75)\n",
    "# kData = [k5, k10, k15, k20, k25, k75, k100, k200, k300, k500, k768]\n",
    "kData.insert(5, k50)\n",
    "# kData = [k5, k10, k15, k20, k25, k50, k75, k100, k200, k300, k500, k768]\n",
    "\n",
    "acc_results = dict()\n",
    "acc_results['trial_1'] = []\n",
    "acc_results['trial_2'] = []\n",
    "acc_results['trial_3'] = []\n",
    "acc_results['trial_4'] = []\n",
    "acc_results['trial_5'] = []\n",
    "\n",
    "for e in trials:\n",
    "    for f in kData:\n",
    "        acc_results[e].append(f[e][0][0])\n",
    "\n",
    "# more data prep\n",
    "f1_results = dict()\n",
    "f1_results['trial_1'] = []\n",
    "f1_results['trial_2'] = []\n",
    "f1_results['trial_3'] = []\n",
    "f1_results['trial_4'] = []\n",
    "f1_results['trial_5'] = []\n",
    "\n",
    "for e in trials:\n",
    "    for f in kData:\n",
    "        f1_results[e].append(f[e][0][1])"
   ]
  },
  {
   "cell_type": "code",
   "execution_count": 92,
   "id": "f19a7299-4452-4ae4-92ce-6c76bbe3b1c7",
   "metadata": {},
   "outputs": [
    {
     "data": {
      "image/png": "[encoded data removed]",
      "text/plain": [
       "<Figure size 640x480 with 1 Axes>"
      ]
     },
     "metadata": {},
     "output_type": "display_data"
    }
   ],
   "source": [
    "# plot accuracy vs k-value\n",
    "for e in acc_results:\n",
    "    plt.scatter(kVals, acc_results[e], label=e)\n",
    "plt.legend()\n",
    "plt.xlabel('k value (number of dimensions)')\n",
    "plt.ylabel('accuracy score')\n",
    "plt.title('accuracy vs k-value')\n",
    "plt.show()"
   ]
  },
  {
   "cell_type": "code",
   "execution_count": 91,
   "id": "23aeaa60-982e-4223-a956-009098cf3b20",
   "metadata": {},
   "outputs": [
    {
     "data": {
      "image/png": "[encoded data removed]",
      "text/plain": [
       "<Figure size 640x480 with 1 Axes>"
      ]
     },
     "metadata": {},
     "output_type": "display_data"
    }
   ],
   "source": [
    "# plot f1 vs k_value\n",
    "for e in acc_results:\n",
    "    plt.scatter(kVals, f1_results[e], label=e)\n",
    "plt.legend()\n",
    "plt.xlabel('k value (number of dimensions)')\n",
    "plt.ylabel('f1 score')\n",
    "plt.title('f1 vs k-value')\n",
    "plt.show()"
   ]
  },
  {
   "cell_type": "code",
   "execution_count": null,
   "id": "c39bcd42-dfed-421d-809e-5e1f70f52abb",
   "metadata": {},
   "outputs": [],
   "source": [
    "# saving kData to pickle again\n",
    "# kData is the collection of all the previous trials\n",
    "file = open('./pickles/training_results_transmission_1.pkl', 'wb')\n",
    "kData.append(k768)\n",
    "kData.append(regular)\n",
    "print(kData)\n",
    "pickle.dump(kData, file)\n",
    "file.close()"
   ]
  }
 ],
 "metadata": {
  "kernelspec": {
   "display_name": "Python 3 (ipykernel)",
   "language": "python",
   "name": "python3"
  },
  "language_info": {
   "codemirror_mode": {
    "name": "ipython",
    "version": 3
   },
   "file_extension": ".py",
   "mimetype": "text/x-python",
   "name": "python",
   "nbconvert_exporter": "python",
   "pygments_lexer": "ipython3",
   "version": "3.11.4"
  }
 },
 "nbformat": 4,
 "nbformat_minor": 5
}
