{
 "cells": [
  {
   "cell_type": "code",
   "execution_count": 1,
   "metadata": {},
   "outputs": [],
   "source": [
    "import re\n",
    "import simdjson as sj\n",
    "import gzip\n",
    "from tqdm import tqdm\n",
    "import pandas as pd\n",
    "from tqdm.notebook import tqdm\n",
    "import swifter\n",
    "import seaborn as sns\n",
    "import numpy as np\t\n",
    "from nltk import sent_tokenize\n",
    "import re\n",
    "from sentence_transformers import SentenceTransformer\n",
    "from wutils.general import save_pickle, load_pickle\n",
    "from wutils.mat import MarkedMatrix\n",
    "from scipy.spatial.distance import cdist\n",
    "from sklearn.linear_model import LogisticRegression\n",
    "from sklearn.ensemble import RandomForestClassifier\n",
    "from sklearn.tree import DecisionTreeClassifier\n",
    "from treeinterpreter import treeinterpreter as ti"
   ]
  },
  {
   "cell_type": "code",
   "execution_count": 47,
   "metadata": {},
   "outputs": [],
   "source": [
    "cord_df = load_pickle('./pickles/who_cord_df.pkl')"
   ]
  },
  {
   "cell_type": "code",
   "execution_count": 48,
   "metadata": {},
   "outputs": [],
   "source": [
    "good_df = load_pickle('./pickles/newest_good_sample_df_ft.pkl')\n",
    "bad_df = load_pickle('./pickles/newest_bad_df_ft.pkl')"
   ]
  },
  {
   "cell_type": "code",
   "execution_count": 49,
   "metadata": {},
   "outputs": [
    {
     "data": {
      "application/vnd.jupyter.widget-view+json": {
       "model_id": "a6c195f3b4064bae9cd61b05c256fda2",
       "version_major": 2,
       "version_minor": 0
      },
      "text/plain": [
       "HBox(children=(FloatProgress(value=0.0, description='Pandas Apply', max=100000.0, style=ProgressStyle(descript…"
      ]
     },
     "metadata": {},
     "output_type": "display_data"
    },
    {
     "name": "stdout",
     "output_type": "stream",
     "text": [
      "\n"
     ]
    },
    {
     "data": {
      "text/html": [
       "<div>\n",
       "<style scoped>\n",
       "    .dataframe tbody tr th:only-of-type {\n",
       "        vertical-align: middle;\n",
       "    }\n",
       "\n",
       "    .dataframe tbody tr th {\n",
       "        vertical-align: top;\n",
       "    }\n",
       "\n",
       "    .dataframe thead th {\n",
       "        text-align: right;\n",
       "    }\n",
       "</style>\n",
       "<table border=\"1\" class=\"dataframe\">\n",
       "  <thead>\n",
       "    <tr style=\"text-align: right;\">\n",
       "      <th></th>\n",
       "      <th>authors</th>\n",
       "      <th>publishDate</th>\n",
       "      <th>cleanText</th>\n",
       "      <th>title</th>\n",
       "      <th>url</th>\n",
       "      <th>covidFreq</th>\n",
       "      <th>sentences</th>\n",
       "      <th>fixed_sent</th>\n",
       "      <th>sent_embeddings</th>\n",
       "      <th>ft_embeddings</th>\n",
       "    </tr>\n",
       "  </thead>\n",
       "  <tbody>\n",
       "    <tr>\n",
       "      <th>1206633</th>\n",
       "      <td>[Robin Mckie]</td>\n",
       "      <td>2020-04-24 00:00:00</td>\n",
       "      <td>But their impact has been mild compared with t...</td>\n",
       "      <td>Coronavirus: what have scientists learned abou...</td>\n",
       "      <td>https://www.theguardian.com/world/2020/apr/24/...</td>\n",
       "      <td>13</td>\n",
       "      <td>[But their impact has been mild compared with ...</td>\n",
       "      <td>[But their impact has been mild compared with ...</td>\n",
       "      <td>[[-0.15770671, -1.8202316, 0.33610916, -0.9967...</td>\n",
       "      <td>[[-0.020828864, 0.004317664, 0.000431179, 0.04...</td>\n",
       "    </tr>\n",
       "  </tbody>\n",
       "</table>\n",
       "</div>"
      ],
      "text/plain": [
       "               authors          publishDate  \\\n",
       "1206633  [Robin Mckie]  2020-04-24 00:00:00   \n",
       "\n",
       "                                                 cleanText  \\\n",
       "1206633  But their impact has been mild compared with t...   \n",
       "\n",
       "                                                     title  \\\n",
       "1206633  Coronavirus: what have scientists learned abou...   \n",
       "\n",
       "                                                       url  covidFreq  \\\n",
       "1206633  https://www.theguardian.com/world/2020/apr/24/...         13   \n",
       "\n",
       "                                                 sentences  \\\n",
       "1206633  [But their impact has been mild compared with ...   \n",
       "\n",
       "                                                fixed_sent  \\\n",
       "1206633  [But their impact has been mild compared with ...   \n",
       "\n",
       "                                           sent_embeddings  \\\n",
       "1206633  [[-0.15770671, -1.8202316, 0.33610916, -0.9967...   \n",
       "\n",
       "                                             ft_embeddings  \n",
       "1206633  [[-0.020828864, 0.004317664, 0.000431179, 0.04...  "
      ]
     },
     "execution_count": 49,
     "metadata": {},
     "output_type": "execute_result"
    }
   ],
   "source": [
    "good_df[good_df.cleanText.swifter.apply(lambda x: 'Virus-ridden particles are inhaled by others and come into contact with cells' in x)]"
   ]
  },
  {
   "cell_type": "code",
   "execution_count": 50,
   "metadata": {},
   "outputs": [],
   "source": [
    "import urllib.parse\n",
    "def get_hostname(url):\n",
    "    o = urllib.parse.urlsplit(url)\n",
    "    return o.hostname"
   ]
  },
  {
   "cell_type": "code",
   "execution_count": 51,
   "metadata": {},
   "outputs": [],
   "source": [
    "def news_filter(text):\n",
    "    keep_if = ['wuhan']\n",
    "    text = text.lower()\n",
    "    blacklist = ['u.s.', 'america', 'korea', 'china', 'mexico', 'australia', 'uk', 'u.k.', 'new york', 'los angeles', 'nfl', 'nba', 'mlb', 'epl']\n",
    "    if any(x in text for x in keep_if):\n",
    "        return True\n",
    "    if any(x in text for x in blacklist):\n",
    "        return False\n",
    "    return True"
   ]
  },
  {
   "cell_type": "code",
   "execution_count": 52,
   "metadata": {},
   "outputs": [
    {
     "data": {
      "application/vnd.jupyter.widget-view+json": {
       "model_id": "92ec987dcf824ddfa5d384a1fe7966cc",
       "version_major": 2,
       "version_minor": 0
      },
      "text/plain": [
       "HBox(children=(FloatProgress(value=0.0, description='Pandas Apply', max=100000.0, style=ProgressStyle(descript…"
      ]
     },
     "metadata": {},
     "output_type": "display_data"
    },
    {
     "name": "stdout",
     "output_type": "stream",
     "text": [
      "\n"
     ]
    },
    {
     "data": {
      "application/vnd.jupyter.widget-view+json": {
       "model_id": "ce85d4b76f524f528a1b3ca500e62a00",
       "version_major": 2,
       "version_minor": 0
      },
      "text/plain": [
       "HBox(children=(FloatProgress(value=0.0, description='Pandas Apply', max=21854.0, style=ProgressStyle(descripti…"
      ]
     },
     "metadata": {},
     "output_type": "display_data"
    },
    {
     "name": "stdout",
     "output_type": "stream",
     "text": [
      "\n"
     ]
    },
    {
     "data": {
      "application/vnd.jupyter.widget-view+json": {
       "model_id": "cfd51efd3ab6454ebf33d551c40a2851",
       "version_major": 2,
       "version_minor": 0
      },
      "text/plain": [
       "HBox(children=(FloatProgress(value=0.0, description='Pandas Apply', max=100000.0, style=ProgressStyle(descript…"
      ]
     },
     "metadata": {},
     "output_type": "display_data"
    },
    {
     "name": "stdout",
     "output_type": "stream",
     "text": [
      "\n"
     ]
    },
    {
     "data": {
      "application/vnd.jupyter.widget-view+json": {
       "model_id": "3b918789199e4a15afa1cd420db89a6d",
       "version_major": 2,
       "version_minor": 0
      },
      "text/plain": [
       "HBox(children=(FloatProgress(value=0.0, description='Pandas Apply', max=21854.0, style=ProgressStyle(descripti…"
      ]
     },
     "metadata": {},
     "output_type": "display_data"
    },
    {
     "name": "stdout",
     "output_type": "stream",
     "text": [
      "\n"
     ]
    },
    {
     "data": {
      "application/vnd.jupyter.widget-view+json": {
       "model_id": "9a75dd802cbe4eeba627a0b265664da4",
       "version_major": 2,
       "version_minor": 0
      },
      "text/plain": [
       "HBox(children=(FloatProgress(value=0.0, description='Pandas Apply', max=21854.0, style=ProgressStyle(descripti…"
      ]
     },
     "metadata": {},
     "output_type": "display_data"
    },
    {
     "name": "stdout",
     "output_type": "stream",
     "text": [
      "\n",
      "Found:  6329\n"
     ]
    }
   ],
   "source": [
    "good_df['hostname'] = good_df['url'].swifter.apply(get_hostname)\n",
    "bad_df['hostname'] = bad_df['url'].swifter.apply(get_hostname)\n",
    "good_df['mean_embed'] = good_df['sent_embeddings'].swifter.apply(lambda x: x.mean(axis=0))\n",
    "bad_df['mean_embed'] = bad_df['sent_embeddings'].swifter.apply(lambda x: x.mean(axis=0))\n",
    "\n",
    "is_AP = bad_df['cleanText'].swifter.apply(lambda x: '(AP)' in x)\n",
    "print('Found: ', is_AP.sum())\n",
    "bad_df = bad_df[~is_AP]"
   ]
  },
  {
   "cell_type": "code",
   "execution_count": 53,
   "metadata": {},
   "outputs": [],
   "source": [
    "KW = 'transmission'"
   ]
  },
  {
   "cell_type": "code",
   "execution_count": 54,
   "metadata": {},
   "outputs": [
    {
     "data": {
      "application/vnd.jupyter.widget-view+json": {
       "model_id": "4f1d35670d9f4242958402b91f5975aa",
       "version_major": 2,
       "version_minor": 0
      },
      "text/plain": [
       "HBox(children=(FloatProgress(value=0.0, description='Pandas Apply', max=84605.0, style=ProgressStyle(descripti…"
      ]
     },
     "metadata": {},
     "output_type": "display_data"
    },
    {
     "name": "stdout",
     "output_type": "stream",
     "text": [
      "\n"
     ]
    },
    {
     "data": {
      "application/vnd.jupyter.widget-view+json": {
       "model_id": "0a4912cc98ea4b16b80e44c3af311bcb",
       "version_major": 2,
       "version_minor": 0
      },
      "text/plain": [
       "HBox(children=(FloatProgress(value=0.0, description='Pandas Apply', max=84605.0, style=ProgressStyle(descripti…"
      ]
     },
     "metadata": {},
     "output_type": "display_data"
    },
    {
     "name": "stdout",
     "output_type": "stream",
     "text": [
      "\n"
     ]
    },
    {
     "data": {
      "application/vnd.jupyter.widget-view+json": {
       "model_id": "9d163024e42f44e4be815e20c464ba21",
       "version_major": 2,
       "version_minor": 0
      },
      "text/plain": [
       "HBox(children=(FloatProgress(value=0.0, description='Pandas Apply', max=84605.0, style=ProgressStyle(descripti…"
      ]
     },
     "metadata": {},
     "output_type": "display_data"
    },
    {
     "name": "stdout",
     "output_type": "stream",
     "text": [
      "\n"
     ]
    }
   ],
   "source": [
    "cord_df = cord_df.dropna()\n",
    "cord_df['mean_embed'] = cord_df['sent_embeddings'].swifter.apply(lambda x: x.mean(axis=0))\n",
    "has_vax = cord_df[cord_df.title.swifter.apply(lambda x: KW in x.lower()) | cord_df.abstract.swifter.apply(lambda x: KW in x.lower())]\n",
    "vax_ref = np.vstack(has_vax['mean_embed'])"
   ]
  },
  {
   "cell_type": "code",
   "execution_count": 55,
   "metadata": {},
   "outputs": [
    {
     "data": {
      "application/vnd.jupyter.widget-view+json": {
       "model_id": "7c40aa170a4e45d7a7419e55f89eaa49",
       "version_major": 2,
       "version_minor": 0
      },
      "text/plain": [
       "HBox(children=(FloatProgress(value=0.0, description='Pandas Apply', max=100000.0, style=ProgressStyle(descript…"
      ]
     },
     "metadata": {},
     "output_type": "display_data"
    },
    {
     "name": "stdout",
     "output_type": "stream",
     "text": [
      "\n"
     ]
    },
    {
     "data": {
      "application/vnd.jupyter.widget-view+json": {
       "model_id": "5de00d3c4f6e4167bd007db57b37eab3",
       "version_major": 2,
       "version_minor": 0
      },
      "text/plain": [
       "HBox(children=(FloatProgress(value=0.0, description='Pandas Apply', max=15525.0, style=ProgressStyle(descripti…"
      ]
     },
     "metadata": {},
     "output_type": "display_data"
    },
    {
     "name": "stdout",
     "output_type": "stream",
     "text": [
      "\n"
     ]
    }
   ],
   "source": [
    "# vax_good_df = good_df[good_df['cleanText'].swifter.apply(lambda x: KW in x.lower())]\n",
    "# vax_bad_df = bad_df[bad_df['cleanText'].swifter.apply(lambda x: KW in x.lower())]\n",
    "vax_good_df = good_df\n",
    "vax_bad_df = bad_df\n",
    "vax_good_df = vax_good_df[vax_good_df['cleanText'].swifter.apply(news_filter)]\n",
    "vax_bad_df = vax_bad_df[vax_bad_df['cleanText'].swifter.apply(news_filter)]\n",
    "vax_good_mat = np.vstack(vax_good_df.mean_embed)\n",
    "vax_bad_mat = np.vstack(vax_bad_df.mean_embed)\n",
    "vax_raw_mm = MarkedMatrix([('good', vax_good_mat), ('bad', vax_bad_mat)])"
   ]
  },
  {
   "cell_type": "code",
   "execution_count": 56,
   "metadata": {
    "scrolled": true
   },
   "outputs": [
    {
     "name": "stdout",
     "output_type": "stream",
     "text": [
      "done w/ good\n"
     ]
    }
   ],
   "source": [
    "vgood2ref = cdist(vax_good_mat, vax_ref, 'cosine')\n",
    "print('done w/ good')\n",
    "vbad2ref = cdist(vax_bad_mat, vax_ref, 'cosine')\n",
    "vax_mm = MarkedMatrix([('good', vgood2ref), ('bad', vbad2ref)])"
   ]
  },
  {
   "cell_type": "code",
   "execution_count": 11,
   "metadata": {},
   "outputs": [],
   "source": [
    "# Alt method\n",
    "# has_vax = cord_df.sample(5000)\n",
    "# vax_ref = np.vstack(has_vax['mean_embed'])"
   ]
  },
  {
   "cell_type": "code",
   "execution_count": 12,
   "metadata": {},
   "outputs": [
    {
     "data": {
      "text/plain": [
       "(array([], dtype=int64), array([], dtype=int64))"
      ]
     },
     "execution_count": 12,
     "metadata": {},
     "output_type": "execute_result"
    }
   ],
   "source": [
    "War on Terror Cells: Strategies to Eradicate \"Novel Coronavirus\" Effectivelynp.where(~np.isfinite(vax_ref))"
   ]
  },
  {
   "cell_type": "code",
   "execution_count": 61,
   "metadata": {},
   "outputs": [],
   "source": [
    "raw_tmodel = RandomForestClassifier(n_estimators=500, n_jobs=28)"
   ]
  },
  {
   "cell_type": "code",
   "execution_count": 62,
   "metadata": {},
   "outputs": [],
   "source": [
    "tmodel = RandomForestClassifier(n_estimators=500, n_jobs=28)\n"
   ]
  },
  {
   "cell_type": "code",
   "execution_count": 192,
   "metadata": {},
   "outputs": [],
   "source": [
    "tmodel2 = RandomForestClassifier(n_estimators=1500, n_jobs=28)"
   ]
  },
  {
   "cell_type": "code",
   "execution_count": 247,
   "metadata": {},
   "outputs": [
    {
     "data": {
      "text/plain": [
       "('Coronavirus: Indian takeaway offering free toilet rolls with orders over £20',\n",
       " 'An Indian takeaway has come up with a novel way to keep business thriving during the coronavirus outbreak - by offering customers free loo roll.\\nLeigh Straphern, who runs the Maaya Indian and Kitchen Bar in Milton Keynes, is offering one roll of toilet paper with all orders over £20.\\nAny customer spending £80 or more, meanwhile, will be treated to two rolls of the much-sought commodity.\\nMr Straphern, 42, says he came up with the idea when he noticed customers coming into his restaurant carrying supplies of toilet paper as a result of the COVID-19 pandemic.\\n\"Coronavirus is the main topic at the moment,\" he explained.\\n\"We thought why don\\'t we give away free toilet roll with every order.\\n\"Obviously, there is a shortage of toilet roll at the moment. There is a demand and it made people laugh, but at the end of it is a serious message of how we take coronavirus seriously.\\n\"It has been well received across Milton Keynes. There is obviously a very serious side to this, but actually we have to lift the mood sometimes.\"\\nHe says his bar and restaurant remain \\'incredibly popular\\' and emphasises that, in wake of the global health emergency, it has also increased its cleaning.\\n\"There is nothing else we can do but we have seen areas just a lot quieter in places and people are still coming to the restaurant which is lovely,\" he added.\\nImages on social media have shown supermarket shelves across the country emptied of loo roll and other hygiene products in recent days, as shoppers panic-buy amid fears of having to self-isolate.\\nSeveral supermarkets have been imposing restrictions on popular items, including hand sanitiser, soap and pasta, to reduce stockpiling.\\nThe restaurant announced the unusual offer in a Facebook post featuring waiter Noor Nabi, who is pictured holding a roll of toilet paper and a takeaway bag.\\nIt reads: \"We want to continue to service our community and provide our award-winning curry to our customers through the current climate.\\n\"If you’d prefer to have a takeaway, we’ll bring you your order to your car door with our ‘tandoor-to-car-door’ service PLUS each order over £20 will receive a FREE toilet roll. (Orders over £80 receive two rolls).\\n\"After each day the team are deep cleaning the restaurant and wiping touch point surfaces throughout the day to ensure each area is clean.\"\\nThe post has received almost 400 likes, more than 100 comments and north of 200 shares.\\nAn enthusiastic Amit Luis said: \"Throw in some hand sanitizing gel to complete the meal deal and I’ll be there every day .. !\"\\nAaron Thompson meanwhile commented: \"If you gave me a roll I\\'d be thinking \\'what the hell have you put in my food?\\'\"')"
      ]
     },
     "execution_count": 247,
     "metadata": {},
     "output_type": "execute_result"
    }
   ],
   "source": [
    "tidx = 263\n",
    "vax_good_df.iloc[tidx].title, vax_good_df.iloc[tidx].cleanText"
   ]
  },
  {
   "cell_type": "code",
   "execution_count": 231,
   "metadata": {},
   "outputs": [
    {
     "name": "stdout",
     "output_type": "stream",
     "text": [
      "CLEAN TEXT:  Former Manchester United defender Gary Neville has accused Premier League clubs of being \"frightened to death\" to publicly back the plan to restart the season.\n",
      "Premier League stakeholders met on Friday to debate how to finish the current campaign, with reports that some clubs want to abandon the season due to the pandemic and others are keen to play all remaining 92 fixtures.\n",
      "Teams avoiding blame\n",
      "Neville believes clubs do not want to be held liable should a player become ill with the Coronavirus if the English season resumes. The French and Dutch seasons have been called off because of the health crisis and while the Premier League have apparently ear-marked a June return, that date is far from set in stone.\n",
      "Claiming there needs to be more public comment from clubs, Neville wrote on Twitter: \"The PL are having a CV nightmare. They keep shouting health first but then brief constantly 'We have to Re-Start'. I'd respect them more if they said, 'We accept the increase in health risk but it's one we are willing to take'. They won't as they are frightened to death!\"\n",
      "When Neville was asked by a Twitter user what would happen if someone died as a result of the restart, he said: \"That's why we haven't heard one single prominent CEO/Chairman/Owner or Executive open his mouth to back the re-start! Brief/Brief/Brief! Scared to death of the liability and blame.\"\n",
      "No virus talk\n",
      "Before making an exception for Brighton as the \"only club willing to take a stand\", Neville added: \"It would be good for them to speak at least once. Any of them! Clubs included. They are bottling this virus on comms. Very Happy to tell us when they are delivering food parcels though.\" Brighton's chief executive Paul Barber voiced opposition to the idea of finishing the season at neutral venues.\n",
      "Prediction:  [[0.89 0.11]]\n",
      "Bias:  [[0.89085602 0.10914398]]\n",
      "===== Towards Good: =====\n",
      "---------------------------------------------\n",
      "CONTRIB: [-0.00789044  0.00789044]\n",
      "ABSTRACT: It is not whether we should open up or lock down Rather, it’s how we can break the chain of transmission, argue Martin McKee and David Stuckler\n",
      "TITLE: Scientific divisions on covid-19: not what they might seem\n",
      "---------------------------------------------\n",
      "CONTRIB: [-0.00716606  0.00716606]\n",
      "ABSTRACT: J Krishnamurti, a renowned philosopher, describes fear as the transition from the convictions of the Known to the flux of the Unknown1. The weakening of the interspecies transmission barrier between the animal and human interface has strengthened this fear. Consequently, our impulsive selves have taken precedence over our reflective voices.\n",
      "TITLE: The Covid-19 panic and the global North-South divide - A perspective\n",
      "---------------------------------------------\n",
      "CONTRIB: [-0.00694892  0.00694892]\n",
      "ABSTRACT: J Krishnamurti, a renowned philosopher, describes fear as the transition from the convictions of the Known to the flux of the Unknown1. The weakening of the interspecies transmission barrier between the animal and human interface has strengthened this fear. Consequently, our impulsive selves have taken precedence over our reflective voices.\n",
      "TITLE: The Covid-19 panic and the global North-South divide - A perspective\n",
      "---------------------------------------------\n",
      "CONTRIB: [-0.00559963  0.00559963]\n",
      "ABSTRACT: Coronavirus disease 2019 (COVID-19) is a highly contagious disease caused by severe acute respiratory coronavirus 2 (SARS-CoV-2). This virus is capable of human-to-human transmission, and is spreading rapidly round the globe, with markedly high fatality rates. Unfortunately, there are neither vaccines nor specific therapies available to combat it, and the developments of such approaches depend on pursuing multiple avenues in biomedical science. Accordingly, in this paper we highlight one such avenue-nanobodies-for potential utility in therapeutic and diagnostic interventions to combat COVID-19. Communicated by Ramaswamy H. Sarma.\n",
      "TITLE: Nanobodies: an unexplored opportunity to combat COVID-19\n",
      "---------------------------------------------\n",
      "CONTRIB: [-0.00475062  0.00475062]\n",
      "ABSTRACT: Working on shifts has the risk of being exposed to health problems, such as obesity and susceptibility to infections and hypertension However, shift work is unavoidable for workers in sectors that require non-stop operations, such as health workers in the Health Service Providers This article presented opinion about an optimal shift rotation pattern in reducing the health risks of shift health workers while increasing the effectiveness of the treatment of coronavirus (COVID-19) cases In general, today's pattern of shift work for health workers is schemed in the eight-day cycle, in which employees work two days in the morning service for seven hours, two days in the evening service for seven hours, and another two days in the night service for ten hours, then followed by two days off This pattern has the potential to cause burnout and decrease reaction time The article identifies a new work shift pattern that can accommodate the risk of burnout while simultaneously assisting in the emergency of the corona outbreak It emphasises the Morning-Evening-Night-Holiday work pattern as an innovative work model that should replace the old work pattern There are seven advantages of the new work pattern: biological balance, availability of transportation, rapid recovery, reduced risk of COVID-19 transmission, increased patient satisfaction, increased self-control, and improved performance\n",
      "TITLE: Innovative Work Shift for Health Workers in the Health Service Providers in Handling COVID-19 Cases\n",
      "===== Towards Bad: =====\n",
      "---------------------------------------------\n",
      "CONTRIB: [ 0.00324815 -0.00324815]\n",
      "ABSTRACT: Acute respiratory viruses often result in significant morbidity and mortality The potential impact of human respiratory coronavirus (CoV) infections was underestimated until the severe acute respiratory syndrome (SARS-CoV) outbreak in 2003, which showed that new, highly pathogenic coronaviruses could be introduced to humans, highlighting the importance of monitoring the circulating coronaviruses The use of sensitive molecular methods has contributed to the differential diagnosis of viruses circulating in humans Our study aim was to investigate the molecular epidemiology of human CoV strains circulating in Arkansas, their genetic variability and their association with reported influenza-like symptoms We analyzed 200 nasal swab samples, collected by the Arkansas Department of Health in 2010, for influenza diagnosis All samples were from patients showing acute respiratory symptoms while testing negative for influenza Samples were pre-screened, using a quantitative reverse transcriptase polymerase chain reaction (qRT-PCR) multiprobe for coronavirus, and subjected to confirmatory pancoronavirus and/or strain-specific reverse transcriptase (RT)-PCR followed by sequence analysis Seventy-nine samples (39 5%) were positive by qRT-PCR and 35 samples (17 5%) were confirmed by conventional RT-PCR Twenty-three of the confirmed samples (59%) were sequenced The most frequent strain detected was HCoV-OC43-like followed by NL63-like;only one sample was positive for HCoV-229E and one for HCoV-HKU1 Feline-like CoV strains were detected in three samples, representing possible evidence of interspecies transmission or a new human strain Seventeen percent of the coronavirus positive samples were also positive for other respiratory viruses, such as Respiratory Syncytial Virus (RSV), Parainfluenza 2 and 3, and Rhinovirus Thus, HCoV-OC43, NL63, HKU1 and new feline-like strains were circulating in Arkansas in 2010 HCoV was the sole respiratory virus detected in 16% of the patients who showed acute respiratory symptoms with negative diagnoses for influenza virus FAU - Silva, Camila S\n",
      "TITLE: Human Respiratory Coronaviruses Detected In Patients with Influenza-Like Illness in Arkansas, USA. LID - 004\n",
      "---------------------------------------------\n",
      "CONTRIB: [ 0.00239848 -0.00239848]\n",
      "ABSTRACT: The world is facing, while writing this review, a global pandemic due to one of the types of the coronaviruses (i.e., COVID-19), which is a new virus. Among the most important reasons for the transmission of infection between humans is the presence of this virus active on the surfaces and materials. Here, we addressed important questions such as do coronaviruses remain active on the inanimate surfaces? Do the types of inanimate surfaces affect the activity of coronaviruses? What are the most suitable ingredients that used to inactivate viruses? This review article addressed many of the works that were done in the previous periods on the survival of many viruses from the coronaviruses family on various surfaces such as steel, glass, plastic, Teflon, ceramic tiles, silicon rubber and stainless steel copper alloys, Al surface, sterile sponges, surgical gloves and sterile latex. The impacts of environmental conditions such as temperature and humidity were presented and discussed. The most important active ingredients that can deactivate viruses on the surfaces were reported here. We hope that these active ingredients will have the same effect on COVID-19.\n",
      "TITLE: Coronaviruses widespread on nonliving surfaces: important questions and promising answers\n",
      "---------------------------------------------\n",
      "CONTRIB: [ 0.00226037 -0.00226037]\n",
      "ABSTRACT: Viruses similar to the Severe Acute Respiratory Syndrome Coronavirus 2 (SARS-CoV-2) have been discovered in bats of the genus Rhinolophus and in the Sunda pangolin, Manis javanica Desmarest, 1822, suggesting that these animals have played a key role in the emergence of the Covid-19 outbreak in the city of Wuhan, China In this paper, we review the available data for sarbecoviruses (viruses related to SARS-CoV [2002-2003 outbreak] and SARS-CoV-2) to propose all possible hypotheses on the origin of Covid-19, i e , involving direct transmission from horseshoe bats to humans, indirect transmission via the pangolin or another animal, with interspecies contamination between either wild animals or animals kept in cage Present evidence indicates that Rhinolophus bats are the natural reservoir of all sarbecoviruses, and that two divergent SARS-CoV-2-like viruses have circulated in southern China (at least in Guangxi and Guangdong provinces) between August 2017 and March 2019 in captive pangolins destined for sale in wildlife markets We performed a genetic analysis of seven seized pangolins found to be positive for SARS-CoV-2-like virus using mitochondrial DNA sequences extracted from Sequence Reads Archive data The results reveal that the same SARS-CoV-2-like virus can be found in animals with distinct haplotypes, which means that they were probably captured in different Southeast Asian regions Our interpretation is that some pangolins were contaminated in captivity (by other pangolins or by another species to be determined), suggesting that illegal trade of living wild mammals is at the origin of the Covid-19 outbreak To definitely validate this hypothesis, it is however necessary to discover a virus almost identical to SARS CoV-2 (at least 99% of identity) in animals sold in wet markets Although pangolins are good candidates, other mammals, such as small carnivores, should not be overlooked © 2020 Walter de Gruyter GmbH, Berlin/Boston\n",
      "TITLE: Covid-19: Natural or anthropic origin?\n",
      "---------------------------------------------\n",
      "CONTRIB: [ 0.00216517 -0.00216517]\n",
      "ABSTRACT: It is important to track the changing case definition to plan for the clinical response Transmission pattern of disease have been changing in COVID-19 Countries with no reported cases have moved on to sporadic, cluster of cases and then to community transmission The response depends on how rapidly the transmission is changing in the country Keyword: case definition, COVID-19, transmission\n",
      "TITLE: Responding to changing case definition of COVID-19: experience from Patan Academy of Health Sciences, Nepal\n",
      "---------------------------------------------\n",
      "CONTRIB: [ 0.00211991 -0.00211991]\n",
      "ABSTRACT: Since the spread of the coronavirus disease 2019 (COVID-19) was designated as a pandemic by the World Health Organization, health care systems have been forced to adapt rapidly to defer less urgent care during the crisis. The United States (U.S.) has adopted a four-phase approach to decreasing and then resuming non-essential work. Through strong restrictive measures, Phase I slowed the spread of disease, allowing states to safely diagnose, isolate, and treat patients with COVID-19. In support of social distancing measures, non-urgent studies were postponed, and this created a backlog. Now, as states transition to Phase II, restrictions on non-essential activities will ease, and radiology departments must re-establish care while continuing to mitigate the risk of COVID-19 transmission all while accommodating this backlog. In this article, we propose a roadmap that incorporates the current practice guidelines and subject matter consensus statements for the phased reopening of non-urgent and elective radiology services. This roadmap will focus on operationalizing these recommendations for patient care and workforce management. Tiered systems are proposed for the prioritization of elective procedures, with physician-to-physician communication encouraged. Infection control methods, provision of personal protective equipment (PPE), and physical distancing measures are highlighted. Finally, changes in hours of operation, hiring strategies, and remote reading services are discussed for their potential to ease the transition to normal operations.\n",
      "TITLE: Coronavirus disease 2019 (COVID-19) pandemic: Review of guidelines for resuming non-urgent imaging and procedures in radiology during Phase II\n"
     ]
    }
   ],
   "source": [
    "tree_explain_good(250)"
   ]
  },
  {
   "cell_type": "code",
   "execution_count": 16,
   "metadata": {},
   "outputs": [],
   "source": [
    "# vax_mm.mat[~np.isfinite(vax_mm.mat)] = 0"
   ]
  },
  {
   "cell_type": "code",
   "execution_count": 63,
   "metadata": {},
   "outputs": [
    {
     "name": "stdout",
     "output_type": "stream",
     "text": [
      "Training model...\n",
      "Evaluating model...\n"
     ]
    },
    {
     "data": {
      "text/plain": [
       "((0.9109119662625198, 0.40282685512367494), {'good': 0, 'bad': 1})"
      ]
     },
     "execution_count": 63,
     "metadata": {},
     "output_type": "execute_result"
    }
   ],
   "source": [
    "vax_mm.single_split_classify(tmodel, return_labels=True)"
   ]
  },
  {
   "cell_type": "code",
   "execution_count": 18,
   "metadata": {},
   "outputs": [
    {
     "name": "stdout",
     "output_type": "stream",
     "text": [
      "Training model...\n",
      "Evaluating model...\n"
     ]
    },
    {
     "data": {
      "text/plain": [
       "((0.9122298365840801, 0.4307692307692308), {'good': 0, 'bad': 1})"
      ]
     },
     "execution_count": 18,
     "metadata": {},
     "output_type": "execute_result"
    }
   ],
   "source": [
    "vax_mm.single_split_classify(tmodel, return_labels=True)"
   ]
  },
  {
   "cell_type": "code",
   "execution_count": 19,
   "metadata": {},
   "outputs": [
    {
     "name": "stdout",
     "output_type": "stream",
     "text": [
      "Training model...\n",
      "Evaluating model...\n"
     ]
    },
    {
     "data": {
      "text/plain": [
       "((0.9130205587770164, 0.39634146341463417), {'good': 0, 'bad': 1})"
      ]
     },
     "execution_count": 19,
     "metadata": {},
     "output_type": "execute_result"
    }
   ],
   "source": [
    "vax_raw_mm.single_split_classify(raw_tmodel, return_labels=True)"
   ]
  },
  {
   "cell_type": "code",
   "execution_count": 195,
   "metadata": {},
   "outputs": [
    {
     "name": "stdout",
     "output_type": "stream",
     "text": [
      "Training model...\n",
      "Evaluating model...\n"
     ]
    },
    {
     "data": {
      "text/plain": [
       "((0.9124055526269549, 0.9527107147939098), {'bad': 0, 'good': 1})"
      ]
     },
     "execution_count": 195,
     "metadata": {},
     "output_type": "execute_result"
    }
   ],
   "source": [
    "vax_mm.single_split_classify(tmodel2, return_labels=True)"
   ]
  },
  {
   "cell_type": "code",
   "execution_count": 196,
   "metadata": {},
   "outputs": [
    {
     "name": "stdout",
     "output_type": "stream",
     "text": [
      "Training model...\n",
      "Evaluating model...\n"
     ]
    },
    {
     "data": {
      "text/plain": [
       "((0.9148655772272009, 0.954164892862211), {'bad': 0, 'good': 1})"
      ]
     },
     "execution_count": 196,
     "metadata": {},
     "output_type": "execute_result"
    }
   ],
   "source": [
    "vax_raw_mm.single_split_classify(tmodel2, return_labels=True)"
   ]
  },
  {
   "cell_type": "code",
   "execution_count": 21,
   "metadata": {},
   "outputs": [
    {
     "ename": "NameError",
     "evalue": "name 'tree_explain_good' is not defined",
     "output_type": "error",
     "traceback": [
      "\u001b[0;31m---------------------------------------------------------------------------\u001b[0m",
      "\u001b[0;31mNameError\u001b[0m                                 Traceback (most recent call last)",
      "\u001b[0;32m<ipython-input-21-2be0edd03555>\u001b[0m in \u001b[0;36m<module>\u001b[0;34m\u001b[0m\n\u001b[0;32m----> 1\u001b[0;31m \u001b[0mtree_explain_good\u001b[0m\u001b[0;34m(\u001b[0m\u001b[0;36m107\u001b[0m\u001b[0;34m)\u001b[0m\u001b[0;34m\u001b[0m\u001b[0;34m\u001b[0m\u001b[0m\n\u001b[0m",
      "\u001b[0;31mNameError\u001b[0m: name 'tree_explain_good' is not defined"
     ]
    }
   ],
   "source": [
    "tree_explain_good(107)"
   ]
  },
  {
   "cell_type": "code",
   "execution_count": 181,
   "metadata": {
    "scrolled": true
   },
   "outputs": [
    {
     "name": "stdout",
     "output_type": "stream",
     "text": [
      "CLEAN TEXT:  By now, news of the ever-expanding coronavirus pandemic is inescapable. And while the sometimes-scary updates keep coming, you’re probably hearing…\n",
      "By now, news of the ever-expanding coronavirus pandemic is inescapable. And while the sometimes-scary updates keep coming, you’re probably hearing a lot about self-quarantine. This may be a new term for a lot of people, so what exactly is it, and how should you go about self-quarantining?\n",
      "What Is Self-Quarantine?\n",
      "The Centers for Disease Control and Prevention recommends isolation and quarantine measures to help protect the public in times of a public health crisis and outbreak of communicable disease such a cholera, diphtheria, plague, smallpox, tuberculosis and a variety of other diseases that can cause epidemic and pandemic infections.\n",
      "“Quarantine in general means the separation of a person or group of people, who is reasonably believed to have been exposed to a communicable disease but not yet symptomatic,” says Dr. George A. Diaz, chief of infectious diseases at Providence Regional Medical Center Everett in Washington. He treated patient zero in the U.S. coronavirus pandemic.\n",
      "By removing the potentially exposed people from others who have not been so exposed, he says, you’re able to prevent the possible spread of the communicable disease.\n",
      "“In the case of COVID-19, quarantine is for 14 days from the last date of exposure,” Diaz says. “If no symptoms are present after the 14-day quarantine, the person is not considered a risk for spreading the virus to others.”\n",
      "What Does Self-Quarantine Entail?\n",
      "Quarantine can be a voluntary action or mandated by a health organization of the government. The term self-quarantine describes voluntary isolation from others and is just one of several that describe different degrees of separation from others to help control the spread of infectious diseases.\n",
      "In the context of the current coronavirus crisis, “self-quarantine means staying at home except to seek medical care,” says Dr. Manish Trivedi, director of the division of infectious diseases with AtlantiCare Regional Medical Center in New Jersey.\n",
      "Self-quarantine is a more intensive form of excluding yourself from interaction with others than social distancing — which means reducing contact with others and staying at least 6 feet away when you do come into contact with people.\n",
      "In addition to removing yourself from circulating freely in your community, self-quarantine also entails regularly engaging in infection-preventing hygiene practices. There are some “dos and don’ts” to this, Trivedi says.\n",
      "— Don’t invite visitors or friends into your home.\n",
      "— Don’t leave your home unless absolutely necessary.\n",
      "— Don’t share utensils and other household items with others in the home.\n",
      "— Wash your hands regularly with soap and water and use hand sanitizer with at least 60% alcohol if you don’t have easy access to soap and water.\n",
      "— Disinfect surface areas daily, including electronics — especially phones, laptops and other devices.\n",
      "— Wash utensils and other items thoroughly.\n",
      "— Avoid others in the household as best you can.\n",
      "— Keep your hands away from your face.\n",
      "— Practice all other prevention tips the CDC recommends, including covering your coughs and sneezes with a tissue or your sleeve and immediately throwing the tissue into the trash.\n",
      "Who Should Self-Quarantine?\n",
      "Self-quarantine is an appropriate response for people who are well and who might have been exposed to a communicable disease, Trivedi says. “This is different from isolation, which is separating people who are known to be ill with a communicable disease from those who are healthy.”\n",
      "“People who are considered ‘medium risk’ — that is, anyone who has traveled in the past two weeks with widespread transmission as designated by the CDC or anyone who has been in close contact with someone showing symptoms of COVID-19 — should contact your healthcare provider for direction about what steps and precautions to take,” Trivedi says.\n",
      "Right now, in most parts of the U.S., quarantine is still a voluntary act, but given that cases of infection are expected to spike, we may soon be headed for mandated quarantine or isolation measures. Mandated quarantine has helped some other countries gain the upper hand on the virus.\n",
      "For example, in late January, the Chinese government issued a lockdown order for Wuhan, a major city of 11 million people in central China where the virus is thought to have originated. Though draconian in nature, that enforced isolation has been widely credited with enabling China to regain control over the spread of the COVID-19 virus.\n",
      "On March 18, the Chinese government reported a day with no new cases of COVID-19 and thus began lifting some of the restrictions on individual freedoms.\n",
      "The first region to experience such restrictions in the U.S. is San Francisco and surrounding Bay-Area communities, which are under a “shelter-in-place” order through at least April 7. Only “essential” businesses can remain open, and only their essential employees are to report to work.\n",
      "Chunhuei Chi, a professor in the global health program at Oregon State University, says that more restrictive lockdowns could be on the horizon in the hardest hit areas. “We have to prepare for a worst-case scenario,” so be prepared that you may need to make some short-term sacrifices to help curb this pandemic.\n",
      "Do I Need to Worry About My Pets?\n",
      "Diaz says that “at this point there is no evidence that companion animals, including pets, can spread COVID-19. When a public health professional is notified of a pet in the home of a person with COVID-19, they should notify the state public health veterinarian or other designated animal health professional.”\n",
      "However, this is a rapidly evolving area. Chi says that while there’s little evidence that you can get the coronavirus from your pet, the virus could theoretically be able to survive on a pet’s fur for a period of time. So, while your pet is very unlikely to get sick, there’s a remote possibility that the animal could transfer virus to you through touch.\n",
      "What Do I Do in Quarantine?\n",
      "If you’re stuck inside during this pandemic, it’s important that you maintain as much structure and routine as you can to help keep your anxiety levels lower. If working from home is an option, that can help take your mind off things. Regular physical exercise, meditation and yoga can also help make being cooped up indoors a little easier to cope with. “If you have access to open space, such as a park, and the weather is good, get some sunshine and exercise,” Chi advises. Just be sure to keep a distance of at least 6 feet from other people.\n",
      "Still, for many folks, being cooped up all day in a high-anxiety situation such as this can be mentally exhausting. Therefore, “it’s important to keep your spirits up and find ways to combat boredom,” Trivedi says. ” Talk with your children with reassuring language. Talk with your family members about how they’re feeling. Think about how your family has dealt with difficult situations in the past and how you’ve gotten through it. And remember — quarantine is only temporary.”\n",
      "You should also seek to maintain contact with friends and other family members who aren’t with you in the home by phone, video or texting. Mobile technology platforms now make it easier to arrange online group hangouts and chats that can feel a bit like going out for lunch with a group, without the risk of exposure.\n",
      "You should also limit your intake of information, especially via social media during these uncertain times, Trivedi says. “Avoid getting caught up in rumors and misinformation. Seek reliable sources of information, including your healthcare provider and the CDC. Refrain from forwarding or otherwise contributing to rumors and misinformation on social media. Doing so is not helpful to the community or to healthcare providers, and it can be dangerous.”\n",
      "If you’re experiencing cabin fever, a number of cultural and educational intuitions have made their materials freely accessible online for virtual tours. Google Arts & Culture has created a map of sites from around the world that links to many collections of art and cultural collections.\n",
      "What Else Do I Need to Consider?\n",
      "In addition to cutting out all non-essential travel and activities outside of your home, you might also want to consider other ways that you could come into contact with the virus. Chi notes that in Taiwan, “which has been regarded as setting the gold standard” in responding to the crisis, “they also quarantined the luggage” of people who were returning from China and other places where exposure had been likely. This is because the virus can survive on surfaces for a period of time — a study released last week found that period to be three days on steel and plastic.\n",
      "When you’re out and about, take care not to touch surfaces unnecessarily, and “assume every surface you touch is infected,” Chi says. Bring tissues or gloves to protect yourself when using doorknobs and handles, and wash your hands after touching surfaces.\n",
      "Similarly, “my advice is that when you return home, change your outdoor clothes for indoor clothes, and leave your outdoor shoes outside,” Chi says.\n",
      "This way, if your clothing or shoes have picked up any virus, it will be contained and less likely to spread to other areas of your home. Chi recommends you should wash your hands as soon as you come home, and while you’re at it, wash the clothes you’ve worn in public to further limit the risk of contaminating your home or infecting others.\n",
      "He also shares a tip for those who must use elevators regularly. “Many Hong Kong residents began carrying a simple, cheap ballpoint pen with a cap so that anytime they need to touch an elevator button, they take the cap off the pen and use the tip of the pen to depress the button. Then they put the cap back on,” and if any virus transferred from the button the pen, it is contained within the cap. Clean the pen when you get home.\n",
      "What Happens If I Develop Symptoms?\n",
      "If you or a loved one or roommate starts to show symptoms of the virus, “the person showing symptoms should isolate themselves by staying in a specific room and away from other people in the home,” Diaz says. “Also, they should use a separate bathroom, if available.”\n",
      "If you have to be in contact with others, either at home or work, and aren’t feeling well, wear a face mask to reduce the chances of passing the virus on to others.\n",
      "Chi adds that if you do start to feel unwell, your first call should be to a health care provider. Instead of just turning up at the doctor’s office or emergency room — where you’re likely to spread the virus to others — pick up the phone and ask for guidance.\n",
      "The more you can separate a sick person from those who aren’t infected, the better, even within the home, particularly if you live with an older adult or someone with a chronic medical condition such as heart disease, lung disease or diabetes.\n",
      "“Ill people should avoid sharing personal items with other people in their household, like dishes, towels and bedding,” Diaz says. Clean all frequently-touched surfaces, such as countertops, doorknobs and light switches with a disinfecting spray, a diluted bleach solution or alcohol-based cleaner. Chi says that hydrogen peroxide also renders the virus inactive and can be used as a disinfectant.\n",
      "Call your primary care or pediatric provider for direction if you have flu-like symptoms, including:\n",
      "— Muscle or body aches.\n",
      "— Vomiting and diarrhea.\n",
      "And Trivedi adds that you should let your provider know when to expect you, so they can be prepared. “Please call ahead to let the facility know why and when you are coming. When you arrive, request a mask immediately. This will help you avoid spreading any illness to others in the waiting room.”\n",
      "Diaz also cautions that it’s important to stay calm and take care of yourself during these turbulent times. “Get plenty of sleep, drink fluids, and if your condition worsens, call your provider right away.”\n",
      "Though there’s currently no vaccine or cure for COVID-19, he says it’s important to “remember that the majority of people who do get COVID-19 do recover.”\n",
      "How to Self-Quarantine originally appeared on usnews.com\n",
      "Prediction:  [[0.084 0.916]]\n",
      "Bias:  [[0.14744645 0.85255355]]\n",
      "===== Towards Good: =====\n",
      "---------------------------------------------\n",
      "CONTRIB: [-0.00185169  0.00185169]\n",
      "ABSTRACT: INTRODUCTION: COVID-19 had an impact on the whole range of worldwide medical services. Due to the high risk of in-hospital transmission and disproportionate perioperative rates of morbidity and mortality in occult COVID-19 patients surgeons were faced with the challenging triage of surgeries into emergency, urgent and elective. The present study investigates postponed elective surgery and its impact on the medical condition of patients in two high-volume departments of general, visceral, thoracic, transplant and vascular surgery. METHODS: Operations that have been postponed due to COVID-19 were recorded in the Departments of General-, Visceral-, Thoracic- and Vascular Surgery at the University Hospitals of Leipzig and Greifs-wald. Data was analysed descriptively concerning patient outcomes as well as emergency admissions and surgeries. RESULTS: In the Leipzig and Greifswald University Hospitals 89 and 92 elective surgeries were postponed, respectively. No patient needed an extension of surgical procedure when eventually operated. One patient with extensive obesity died early during the suspension period due to cardiac complications. Four patients needed emergency admission to hospital one of whom required urgent surgery. In neither of the two surgical departments did a patient acquire a nosocomial infection with COVID-19. DISCUSSION: While medical consequences of COVID-19 seem multidimensional and severe, our data indicate that the short-term postponement of elective surgery did not cause an unproportional increase of morbidity and mortality. Although the restrictions may have been fear-driven, given no confirmed cases and thus no concrete risk of infection, the early and well-coordinated action may have provided protection from uncontrolled interruption of medical services by loss of medical workforce or capacity. CONCLUSION: Well-organized and early suspension of elective surgery had no disproportionate impact on patient outcomes while averting nosocomial transmission of COVID-19.\n",
      "TITLE: Elective surgery in times of COVID-19: A two-centre analysis of postponed operations and disease-related morbidity and mortality\n",
      "---------------------------------------------\n",
      "CONTRIB: [-0.00183523  0.00183523]\n",
      "ABSTRACT: Introduction This case series describes the diagnosis of the first case of community transmission of SARS-CoV-2 in the Republic of Ireland Cases Case 1: A 25 year old male presented with dyspnoea, cough and high fevers for 4 days He was commenced on broad-spectrum antimicrobials and oxygen therapy His respiratory function deteriorated in spite of these measures and he required mechanical ventilation CT showed left upper lobe consolidation as well as multifocal ground-glass opacification Case 2: A 43 year-old male presented with headache and was found incidentally to have pneumonia He was recently diagnosed with pituitary apoplexy secondary to an adenoma with resultant pituitary insufficiency but MRI brain was stable His respiratory function deteriorated in spite of antibiotics and he required mechanical ventilation CT showed likely atypical infection with resultant ARDS Outcome Both underwent nasopharyngeal RT-PCR testing for SARS-CoV-2 Patient 2 was positive Patient 1 was extubated and made a good recovery Patient 2 was transferred to another centre for ECMO therapy He died 27 days after transfer Conclusion Given the atypical presentations in generally otherwise young and healthy individuals, the decision was made outside of national guidance to perform testing for SARS-CoV-2 This diagnosis had far-reaching implications for the SARS-CoV-2 pandemic within Ireland\n",
      "TITLE: The presentation and diagnosis of the first known community-transmitted case of sars-cov-2 in the Republic of Ireland\n",
      "---------------------------------------------\n",
      "CONTRIB: [-0.00178412  0.00178412]\n",
      "ABSTRACT: In 2018 prion disease was detected in camels at an abattoir in Algeria for the first time. The emergence of prion disease in this species made it prudent to assess the probability of entry of the pathogen into the United Kingdom (UK) from this region. Potentially contaminated products were identified as evidenced by other prion diseases. The aggregated probability of entry of the pathogen was estimated as very high and high for legal milk and cheese imports respectively and very high, high and high for illegal meat, milk and cheese products respectively. This aggregated probability represents a qualitative assessment of the probability of one or more entry events per year into the UK; it gives no indication of the number of entry events per year. The uncertainty associated with these estimates was high due to the unknown variation in prevalence of infection in camels and an uncertain number and type of illegal products entering the UK. Potential public health implications of this pathogen are unknown although there is currently no evidence of zoonotic transmission of prion diseases other than bovine spongiform encephalopathy to humans.\n",
      "TITLE: Assessing the aggregated probability of entry of a novel prion disease agent into the United Kingdom\n",
      "---------------------------------------------\n",
      "CONTRIB: [-0.00175339  0.00175339]\n",
      "ABSTRACT: Since the middle of December 2019, human-to-human transmission of novel coronavirus pneumonia (NCP) has occurred among close contacts. At the same time, greater attention should be paid to psychological crisis intervention (PCI) among affected populations, for the timely prevention of inestimable damage from a secondary psychological crisis. PCI has been initiated via remote (telephone and internet) and onsite medical services to help medical workers, patients, and others affected to overcome any psychological difficulties. This paper outlines experiences based on the work of the Shanghai Medical Team.\n",
      "TITLE: Psychological crisis intervention during the outbreak period of new coronavirus pneumonia from experience in Shanghai\n",
      "---------------------------------------------\n",
      "CONTRIB: [-0.00174675  0.00174675]\n",
      "ABSTRACT: Hand hygiene is critical for reducing transmission of communicable diseases, as we are so acutely aware during the COVID-19 pandemic UNICEF has identified behaviour change and knowledge promotion as top strategies for increasing handwashing during this crisis, while acknowledging that millions of people lack the water necessary for handwashing\n",
      "TITLE: Water and sanitation for all in a pandemic\n",
      "===== Towards Bad: =====\n",
      "---------------------------------------------\n",
      "CONTRIB: [ 0.00567801 -0.00567801]\n",
      "ABSTRACT: OBJECTIVE: To provide a summary of the management of asthma in the current COVID-19 pandemic by examining and comparing the recommendations from various professional bodies. DATA SOURCES AND STUDY SELECTION: Websites of known respiratory professional bodies were searched for COVID-19 guidance related to asthma. Subject matter experts were also consulted for useful resources. Resources that were targeted at healthcare professionals were included, while those targeting patients and the general public were excluded. RESULTS: There is currently little data to suggest that asthma protects from or increases the risk of COVID-19, nor is there any data to support strong recommendations for or against specific asthma treatments. Physicians should continue to manage asthma according to existing accepted asthma guidelines and recommendations. All prescribed medications, especially inhaled corticosteroids, should be continued, and, where indicated, oral corticosteroids and biologic therapies should still be used. Nebulizers and spirometry should be avoided where possible to reduce the risk of viral transmission. A detailed history should be taken to differentiate asthma exacerbations from COVID-19. CONCLUSION: Understanding similarities and differences among the recommendations of the various professional bodies will aid in medical decision-making in managing asthma in the COVID-19 pandemic. Health professionals should also consider the individual needs, preferences and values of their patients and the unique characteristics of their local healthcare systems.\n",
      "TITLE: Managing asthma in the COVID-19 pandemic and current recommendations from professional bodies: a review\n",
      "---------------------------------------------\n",
      "CONTRIB: [ 0.00470358 -0.00470358]\n",
      "ABSTRACT: INTRODUCTION: Nosocomial transmission of Coronavirus Disease 2019 (COVID-19) is a preventable risk to the patient population and radiographer workforce. This article aims to describe the prevention of COVID-19 nosocomial transmission during radiographic procedures by the utilization of stringent infection prevention measures at a leading tertiary hospital in Singapore. METHODS: The implemented measures are the appropriate use of personal protective equipment, staff education, infection controls measures such as equipment disinfection, physical distancing and segregation of staff and patients. RESULTS: Despite the handling of 1637 COVID-19 cases as of July 25, 2020, there has not been a single case of known nosocomial transmission of the disease in the institution. DISCUSSION: The absence of nosocomial transmission suggests that the implemented measures are adequate. These measures will need to be sustainable for the long term in order to ensure continued success. CONCLUSION: Radiographers are a crucial part of the team in the fight against COVID-19 and are at risk of contracting COVID-19. Strict adherence to appropriate infection control measures is essential for the safety of Radiology staff and their patients, and the successful control of this pandemic.\n",
      "TITLE: The bug stops with me: Prevention of COVID-19 nosocomial transmission during radiographic procedures\n",
      "---------------------------------------------\n",
      "CONTRIB: [ 0.00394524 -0.00394524]\n",
      "ABSTRACT: One of the major steps to prevent damage due to any pandemic is to focus on risk factors related to the disease Tobacco consumption is emerging as a major factor out of all for COVID 19 There is hardly any country who has warned the public about this or has made the Tobacco control measures stringent in view of COVID 19 Factors making tobacco consumers more vulnerable to COVID 19 infections are low immunity, damaged cilia in smaller air ways leading to decreased lung capacity and previous history of respiratory illness Smokers have more expression of ACE2 receptor gene which is also responsible for SARS-COV-2 virus replication in host More viral load makes smokers potent “carrier” COVID 19 can be transmitted via tobacco consumers by sharing of smoked tobacco and release of vapour droplets Spitting of smokeless tobacco in public places puts community at risk Cardiovascular diseases and cancers caused by tobacco consumption act as comorbidities aggravating the symptoms in COVID 19 infection Scope of FCTC framework can be extended to address prevention and control of COVID 19 Recommendations: tobacco products should be banned immediately to control the spread MPOWER strategy of FCTC can be utilized in this pandemic to prevent transmission © 2020, Indian Association of Preventive and Social Medicine All rights reserved\n",
      "TITLE: Tobacco: An invisible and immediate threat for covid 19\n",
      "---------------------------------------------\n",
      "CONTRIB: [ 0.00330074 -0.00330074]\n",
      "ABSTRACT: Psychiatric inpatients are particularly vulnerable to the transmission and effects of COVID-19. As such, healthcare providers should implement measures to prevent its spread within mental health units, including adequate testing, cohorting, and in some cases, the isolation of patients. Respiratory isolation imposes a significant limitation on an individual's right to liberty, and should be accompanied by appropriate legal safeguards. This paper explores the implications of respiratory isolation in English law, considering the applicability of the common law doctrine of necessity, the Mental Capacity Act 2005, the Mental Health Act 1983, and public health legislation. We then interrogate the practicality of currently available approaches by applying them to a series of hypothetical cases. There are currently no 'neat' or practicable solutions to the problem of lawfully isolating patients on mental health units, and we discuss the myriad issues with both mental health and public health law approaches to the problem. We conclude by making some suggestions to policymakers.\n",
      "TITLE: Isolation of patients in psychiatric hospitals in the context of the COVID-19 pandemic: An ethical, legal, and practical challenge\n",
      "---------------------------------------------\n",
      "CONTRIB: [ 0.00282684 -0.00282684]\n",
      "ABSTRACT: The emergence of COVID-19 has triggered many works aiming at identifying the animal intermediate potentially involved in the transmission of SARS-CoV-2 to humans. The presence of SARS-CoV-2-related viruses in Malayan pangolins, in silico analysis of the ACE2 receptor polymorphism and sequence similarities between the Receptor Binding Domain (RBD) of the spike proteins of pangolin and human Sarbecoviruses led to the proposal of pangolin as intermediary. However, the binding affinity of the pangolin ACE2 receptor for SARS-CoV-2 RBD was later on reported to be low. Here, we provide evidence that the pangolin is not the intermediate animal at the origin of the human pandemic. Moreover, data available do not fit with the spillover model currently proposed for zoonotic emergence which is thus unlikely to account for this outbreak. We propose a different model to explain how SARS-CoV-2 related coronaviruses could have circulated in different species, including humans, before the emergence of COVID-19.\n",
      "TITLE: COVID-19: Time to exonerate the pangolin from the transmission of SARS-CoV-2 to humans\n"
     ]
    }
   ],
   "source": [
    "# tree_explain_good(43)\n",
    "tree_explain_good(80)"
   ]
  },
  {
   "cell_type": "code",
   "execution_count": 119,
   "metadata": {
    "scrolled": true
   },
   "outputs": [
    {
     "name": "stdout",
     "output_type": "stream",
     "text": [
      "CLEAN TEXT:  New Zealand lifted all domestic Coronavirus restrictions on Monday after its final COVID-19 patient was given the all clear, with Prime Minister Jacinda Ardern revealing she danced around her living room when told about the milestone.\n",
      "While strict border controls will remain in place, Ardern said restrictions like physical distancing and limits on public gatherings were no longer needed. \"We are confident we have eliminated transmission of the virus in New Zealand for now,\" she said, adding that Kiwis had \"united in unprecedented ways to crush the virus\".\n",
      "The South Pacific nation, with a population of five million, has had 1,154 confirmed COVID-19 cases and 22 deaths. There have been no new infections for 17 days and, until Monday, just one active case for more than a week.\n",
      "Ardern said the sacrifices made by New Zealanders, including a drastic seven-week lockdown that helped curb infection rates, had been rewarded now that there were no active cases in the country.\n",
      "New Zealand's move down to Level 1, the lowest rating on its four-tier virus response system, means nightclubs can operate without dance floor restrictions and theatres will reopen. It also means sporting events can proceed with crowds in the stands.\n",
      "'In hosp, virus may spread in 10 hours'\n",
      "SARS-CoV-2 that causes COVID-19 may spread across nearly half the surfaces of a hospital ward from a single spot in an isolated room in just 10 hours, according to a simulation study published in the Journal of Hospital Infection. The researchers in the UK noted that virus DNA left on a hospital bed rail was found in nearly half of all sites sampled across a ward within 10 hours, and persisted for at least five days.\n",
      "14-day quarantine rule for fliers: UK\n",
      "The UK's compulsory 14-day quarantine for inbound travellers, by air, rail or ferries, came into force on the country's borders from Monday. Rules for England include fixed penalty of GBP 1,000 ($1,268) or prosecution, with police being allowed to use \"reasonable force\" to make sure people comply. British Airways has begun legal proceedings and urged the government to rethink the \"disproportionate and unfair\" measures.\n",
      "Infections continue to rise in Seoul\n",
      "South Korea has reported 38 new COVID-19 cases as infections continue to rise in the densely populated area in Seoul. The figures by its Centres for Disease Control and Prevention on Monday brought national totals to 11,814 cases and 273 deaths. All but four new cases came from Seoul. Classes on Monday were reopened for around 1.3 million middle-school freshmen and fifth- and sixth-grade elementary school kids.\n",
      "Prediction:  [[0.076 0.924]]\n",
      "Bias:  [[0.14599619 0.85400381]]\n",
      "===== Towards Good: =====\n",
      "---------------------------------------------\n",
      "CONTRIB: [-0.001875  0.001875]\n",
      "ABSTRACT: BACKGROUND: We projected the clinical and economic impact of alternative testing strategies on COVID-19 incidence and mortality in Massachusetts using a microsimulation model. METHODS: We compared four testing strategies: 1) Hospitalized: PCR testing only patients with severe/critical symptoms warranting hospitalization; 2) Symptomatic: PCR for any COVID-19-consistent symptoms, with self-isolation if positive; 3) Symptomatic+asymptomatic-once: Symptomatic and one-time PCR for the entire population; and, 4) Symptomatic+asymptomatic-monthly: Symptomatic with monthly re-testing for the entire population. We examined effective reproduction numbers (Re, 0.9-2.0) at which policy conclusions would change. We assumed homogeneous mixing among the Massachusetts population (excluding those residing in long-term care facilities). We used published data on disease progression and mortality, transmission, PCR sensitivity/specificity (70/100%) and costs. Model-projected outcomes included infections, deaths, tests performed, hospital-days, and costs over 180-days, as well as incremental cost-effectiveness ratios (ICER, $/quality-adjusted life-year [QALY]). RESULTS: At Re 0.9, Symptomatic+asymptomatic-monthly vs. Hospitalized resulted in a 64% reduction in infections and a 46% reduction in deaths, but required >66-fold more tests/day with 5-fold higher costs. Symptomatic+asymptomatic-monthly had an ICER <$100,000/QALY only when Re &#8805;1.6; when test cost was &#8804;$3, every 14-day testing was cost-effective at all Re examined. CONCLUSIONS: Testing people with any COVID-19-consistent symptoms would be cost-saving compared to testing only those whose symptoms warrant hospital care. Expanding PCR testing to asymptomatic people would decrease infections, deaths, and hospitalizations. Despite modest sensitivity, low-cost, repeat screening of the entire population could be cost-effective in all epidemic settings.\n",
      "TITLE: Clinical Impact, Costs, and Cost-Effectiveness of Expanded SARS-CoV-2 Testing in Massachusetts\n",
      "---------------------------------------------\n",
      "CONTRIB: [-0.00177814  0.00177814]\n",
      "ABSTRACT: We investigated data from severe acute respiratory syndrome coronavirus 2 (SARS-CoV-2) infected 0-19 year olds, who attended schools/childcare facilities, to assess their role in SARS-CoV-2 transmission after these establishments' reopening in May 2020 in Baden-Württemberg, Germany. Child-to-child transmission in schools/childcare facilities appeared very uncommon. We anticipate that, with face mask use and frequent ventilation of rooms, transmission rates in schools/childcare facilities would remain low in the next term, even if classes' group sizes were increased.\n",
      "TITLE: Transmission of SARS-CoV-2 in children aged 0 to 19 years in childcare facilities and schools after their reopening in May 2020, Baden-Württemberg, Germany\n",
      "---------------------------------------------\n",
      "CONTRIB: [-0.00166093  0.00166093]\n",
      "ABSTRACT: We study partisan differences in Americans' response to the COVID-19 pandemic. Political leaders and media outlets on the right and left have sent divergent messages about the severity of the crisis, which could impact the extent to which Republicans and Democrats engage in social distancing and other efforts to reduce disease transmission. We develop a simple model of a pandemic response with heterogeneous agents that clarifies the causes and consequences of heterogeneous responses. We use location data from a large sample of smartphones to show that areas with more Republicans engaged in less social distancing, controlling for other factors including public policies, population density, and local COVID cases and deaths. We then present new survey evidence of significant gaps at the individual level between Republicans and Democrats in self-reported social distancing, beliefs about personal COVID risk, and beliefs about the future severity of the pandemic.\n",
      "TITLE: Polarization and Public Health: Partisan Differences in Social Distancing during the Coronavirus Pandemic\n",
      "---------------------------------------------\n",
      "CONTRIB: [-0.0015705  0.0015705]\n",
      "ABSTRACT: Based on the official data modeling, this paper studies the transmission process of the Corona Virus Disease 2019 (COVID-19). The error between the model and the official data curve is quite small. At the same time, it realized forward prediction and backward inference of the epidemic situation, and the relevant analysis help relevant countries to make decisions.\n",
      "TITLE: Propagation analysis and prediction of the COVID-19\n",
      "---------------------------------------------\n",
      "CONTRIB: [-0.00141176  0.00141176]\n",
      "ABSTRACT: A new coronavirus (SARS-CoV-2) highlighted at the end of 2019 in China is spreading across all continents. Most often at the origin of a mild infectious syndrome, associating mild symptoms (fever, cough, myalgia, headache and possible digestive disorders) to different degrees, SARS-Covid-2 can cause serious pulmonary pathologies and sometimes death. Data on the consequences during pregnancy are limited. The first Chinese data published seem to show that the symptoms in pregnant women are the same as those of the general population. There are no cases of intrauterine maternal-fetal transmission, but cases of newborns infected early suggest that there could be vertical perpartum or neonatal transmission. Induced prematurity and cases of respiratory distress in newborns of infected mothers have been described. Pregnancy is known as a period at higher risk for the consequences of respiratory infections, as for influenza, so it seems important to screen for Covid-19 in the presence of symptoms and to monitor closely pregnant women. In this context of the SARS-Covid-2 epidemic, the societies of gynecology-obstetrics, infectious diseases and neonatalogy have proposed a French protocol for the management of possible and proven cases of SARS-Covid-2 in pregnant women. These proposals may evolve on a daily basis with the advancement of the epidemic and knowledge in pregnant women. Subsequently, an in-depth analysis of cases in pregnant women will be necessary in order to improve knowledge on the subject.\n",
      "TITLE: Infection par le SARS-CoV-2 chez les femmes enceintes : état des connaissances et proposition de prise en charge par CNGOF./ [SARS-CoV-2 infection during pregnancy. Information and proposal of management care. CNGOF]\n",
      "===== Towards Bad: =====\n",
      "---------------------------------------------\n",
      "CONTRIB: [ 0.0054886 -0.0054886]\n",
      "ABSTRACT: The World Health Organization declared coronavirus disease 2019 (COVID-19) a pandemic on March 11, 2020.* Shortly thereafter, closures of 124,000 U.S. public and private schools affected at least 55.1 million students through the end of the 2019-20 school year. During the summer of 2020, approximately 82% of 8,947 U.S. overnight camps did not operate.§ In Maine, only approximately 20% of 100 overnight camps opened.¶ An overnight camp in Georgia recently reported SARS-CoV-2, the virus that causes COVID-19, transmission among campers and staff members when nonpharmaceutical interventions (NPIs) were not strictly followed (1); however, NPIs have been successfully used to mitigate SARS-CoV-2 transmission among military basic trainees (2). During June-August 2020, four overnight camps in Maine implemented several NPIs to prevent and mitigate the transmission of SARS-CoV-2, including prearrival quarantine, pre- and postarrival testing and symptom screening, cohorting, use of face coverings, physical distancing, enhanced hygiene measures, cleaning and disinfecting, and maximal outdoor programming. During the camp sessions, testing and symptom screening enabled early and rapid identification and isolation of attendees with COVID-19. Among the 1,022 attendees (staff members and campers) from 41 states, one territory, and six international locations, 1,010 were tested before arrival; 12 attendees who had completed a period of isolation after receiving a diagnosis of COVID-19 2 months before arrival were not tested. Four (0.4%) asymptomatic attendees received positive SARS-CoV-2 test results before arrival; these persons delayed their arrival, completed 10 days of isolation at home, remained asymptomatic, and did not receive any further testing before arrival or for the duration of camp attendance. Approximately 1 week after camp arrival, all 1,006 attendees without a previous diagnosis of COVID-19 were tested, and three asymptomatic cases were identified. Following isolation of these persons and quarantine of their contacts, no secondary transmission of SARS-CoV-2 occurred. These findings can inform similar multilayered public health strategies to prevent and mitigate the introduction and transmission of SARS-CoV-2 among children, adolescents, and adults in congregate settings, such as overnight camps, residential schools, and colleges.\n",
      "TITLE: Preventing and Mitigating SARS-CoV-2 Transmission - Four Overnight Camps, Maine, June-August 2020\n",
      "---------------------------------------------\n",
      "CONTRIB: [ 0.00543028 -0.00543028]\n",
      "ABSTRACT: Wild poliovirus type 1 (WPV1) transmission is ongoing only in Afghanistan and Pakistan (1). Following a decline in case numbers during 2013-2016, the number of cases in Afghanistan has increased each year during 2017-2020. This report describes polio eradication activities and progress toward polio eradication in Afghanistan during January 2019-July 2020 and updates previous reports (2,3). Since April 2018, insurgent groups have imposed bans on house-to-house vaccination. In September 2019, vaccination campaigns in areas under insurgency control were restarted only at health facilities. In addition, during March-June 2020, all campaigns were paused because of the coronavirus disease 2019 (COVID-19) pandemic. The number of WPV1 cases reported in Afghanistan increased from 21 in 2018 to 29 in 2019. During January-July 2020, 41 WPV1 cases were reported as of August 29, 2020 (compared with 15 during January-July 2019); in addition, 69 cases of circulating vaccine-derived poliovirus type 2 (cVDPV2), and one case of ambiguous vaccine-derived poliovirus type 2 (aVDPV2) (isolates with no evidence of person-to-person transmission or from persons with no known immunodeficiency) were detected. Dialogue with insurgency leaders through nongovernmental and international organizations is ongoing in an effort to recommence house-to-house campaigns, which are essential to stopping WPV1 transmission in Afghanistan. To increase community demand for polio vaccination, additional community health needs should be addressed, and polio vaccination should be integrated with humanitarian services.\n",
      "TITLE: Progress Toward Poliomyelitis Eradication - Afghanistan, January 2019-July 2020\n",
      "---------------------------------------------\n",
      "CONTRIB: [ 0.00448654 -0.00448654]\n",
      "ABSTRACT: U.S. Immigration and Customs Enforcement (ICE) facilities house thousands of undocumented immigrants in environments discordant with the public health recommendations to reduce the transmission of 2019 novel coronavirus (COVID-19). Using ICE detainee population data obtained from the ICE Enforcement and Removal Operations (ERO) website as of March 2, 2020, we implemented a simple stochastic susceptible-exposed-infected-recovered model to estimate the rate of COVID-19 transmission within 111 ICE detention facilities and then examined impacts on regional hospital intensive care unit (ICU) capacity. Models considered three scenarios of transmission (optimistic, moderate, pessimistic) over 30-, 60-, and 90-day time horizons across a range of facility sizes. We found that 72% of individuals are expected to be infected by day 90 under the optimistic scenario (R0 = 2.5), while nearly 100% of individuals are expected to be infected by day 90 under a more pessimistic (R0 = 7) scenario. Although asynchronous outbreaks are more likely, day 90 estimates provide an approximation of total positive cases after all ICE facility outbreaks. We determined that, in the most optimistic scenario, coronavirus outbreaks among a minimum of 65 ICE facilities (59%) would overwhelm ICU beds within a 10-mile radius and outbreaks among a minimum of 8 ICE facilities (7%) would overwhelm local ICU beds within a 50-mile radius over a 90-day period, provided every ICU bed was made available for sick detainees. As policymakers seek to rapidly implement interventions that ensure the continued availability of life-saving medical resources across the USA, they may be overlooking the pressing need to slow the spread of COVID-19 infection in ICE's detention facilities. Preventing the rapid spread necessitates intervention measures such as granting ICE detainees widespread release from an unsafe environment by returning them to the community.\n",
      "TITLE: Modeling COVID-19 and Its Impacts on U.S. Immigration and Customs Enforcement (ICE) Detention Facilities, 2020\n",
      "---------------------------------------------\n",
      "CONTRIB: [ 0.00392619 -0.00392619]\n",
      "ABSTRACT: U.S. Immigration and Customs Enforcement (ICE) facilities house thousands of undocumented immigrants in environments discordant with the public health recommendations to reduce the transmission of 2019 novel coronavirus (COVID-19). Using ICE detainee population data obtained from the ICE Enforcement and Removal Operations (ERO) website as of March 2, 2020, we implemented a simple stochastic susceptible-exposed-infected-recovered model to estimate the rate of COVID-19 transmission within 111 ICE detention facilities and then examined impacts on regional hospital intensive care unit (ICU) capacity. Models considered three scenarios of transmission (optimistic, moderate, pessimistic) over 30-, 60-, and 90-day time horizons across a range of facility sizes. We found that 72% of individuals are expected to be infected by day 90 under the optimistic scenario (R0 = 2.5), while nearly 100% of individuals are expected to be infected by day 90 under a more pessimistic (R0 = 7) scenario. Although asynchronous outbreaks are more likely, day 90 estimates provide an approximation of total positive cases after all ICE facility outbreaks. We determined that, in the most optimistic scenario, coronavirus outbreaks among a minimum of 65 ICE facilities (59%) would overwhelm ICU beds within a 10-mile radius and outbreaks among a minimum of 8 ICE facilities (7%) would overwhelm local ICU beds within a 50-mile radius over a 90-day period, provided every ICU bed was made available for sick detainees. As policymakers seek to rapidly implement interventions that ensure the continued availability of life-saving medical resources across the USA, they may be overlooking the pressing need to slow the spread of COVID-19 infection in ICE's detention facilities. Preventing the rapid spread necessitates intervention measures such as granting ICE detainees widespread release from an unsafe environment by returning them to the community.\n",
      "TITLE: Modeling COVID-19 and Its Impacts on U.S. Immigration and Customs Enforcement (ICE) Detention Facilities, 2020\n",
      "---------------------------------------------\n",
      "CONTRIB: [ 0.00316476 -0.00316476]\n",
      "ABSTRACT: Contact tracing is a strategy implemented to minimize the spread of communicable diseases (1,2) Prompt contact tracing, testing, and self-quarantine can reduce the transmission of SARS-CoV-2, the virus that causes coronavirus disease 2019 (COVID-19) (3,4) Community engagement is important to encourage participation in and cooperation with SARS-CoV-2 contact tracing (5) Substantial investments have been made to scale up contact tracing for COVID-19 in the United States During June 1-July 12, 2020, the incidence of COVID-19 cases in North Carolina increased 183%, from seven to 19 per 100,000 persons per day* (6) To assess local COVID-19 contact tracing implementation, data from two counties in North Carolina were analyzed during a period of high incidence Health department staff members investigated 5,514 (77%) persons with COVID-19 in Mecklenburg County and 584 (99%) in Randolph Counties No contacts were reported for 48% of cases in Mecklenburg and for 35% in Randolph Among contacts provided, 25% in Mecklenburg and 48% in Randolph could not be reached by telephone and were classified as nonresponsive after at least one attempt on 3 consecutive days of failed attempts The median interval from specimen collection from the index patient to notification of identified contacts was 6 days in both counties Despite aggressive efforts by health department staff members to perform case investigations and contact tracing, many persons with COVID-19 did not report contacts, and many contacts were not reached These findings indicate that improved timeliness of contact tracing, community engagement, and increased use of community-wide mitigation are needed to interrupt SARS-CoV-2 transmission\n",
      "TITLE: COVID-19 Contact Tracing in Two Counties - North Carolina, June-July 2020\n"
     ]
    }
   ],
   "source": [
    "# tree_explain_good(43)\n",
    "tree_explain_good(50)"
   ]
  },
  {
   "cell_type": "code",
   "execution_count": null,
   "metadata": {},
   "outputs": [],
   "source": [
    "tmodel2 = RandomForestClassifier(n_estimators=500, n_jobs=24)"
   ]
  },
  {
   "cell_type": "code",
   "execution_count": null,
   "metadata": {},
   "outputs": [],
   "source": [
    "vax_raw_mm.single_split_classify(tmodel2, return_labels=True)"
   ]
  },
  {
   "cell_type": "code",
   "execution_count": 64,
   "metadata": {},
   "outputs": [],
   "source": [
    "def tree_explain_good(idx):\n",
    "    pred, bias, contrib = ti.predict(tmodel, vgood2ref[idx, :].reshape((1, -1)))\n",
    "    print('CLEAN TEXT: ', vax_good_df.iloc[idx].cleanText)\n",
    "    cmat = contrib.reshape((-1, 2))\n",
    "    print('Prediction: ', pred)\n",
    "    print('Bias: ', bias)\n",
    "    import_bad = np.argsort(cmat[:, 0])[::-1]\n",
    "    import_good = np.argsort(cmat[:, 1])[::-1]\n",
    "    print('===== Towards Good: =====')\n",
    "    for idx in import_good[:5]:\n",
    "        print('-'*45)\n",
    "        print(f'CONTRIB: {cmat[idx]}')\n",
    "        print(f'ABSTRACT: {has_vax.iloc[idx].abstract}')\n",
    "        print(f'TITLE: {has_vax.iloc[idx].title}')\n",
    "    print('===== Towards Bad: =====')\n",
    "    for idx in import_bad[:5]:\n",
    "        print('-'*45)\n",
    "        print(f'CONTRIB: {cmat[idx]}')\n",
    "        print(f'ABSTRACT: {has_vax.iloc[idx].abstract}')\n",
    "        print(f'TITLE: {has_vax.iloc[idx].title}')\n",
    "\n",
    "def tree_explain_bad(idx):\n",
    "    pred, bias, contrib = ti.predict(tmodel, vbad2ref[idx, :].reshape((1, -1)))\n",
    "    print('CLEAN TEXT: ', vax_bad_df.iloc[idx].cleanText)\n",
    "    cmat = contrib.reshape((-1, 2))\n",
    "    print('Prediction: ', pred)\n",
    "    print('Bias: ', bias)\n",
    "    import_bad = np.argsort(cmat[:, 0])[::-1]\n",
    "    import_good = np.argsort(cmat[:, 1])[::-1]\n",
    "    print('===== Towards Bad: =====')\n",
    "    for idx in import_bad[:5]:\n",
    "        print('-'*45)\n",
    "        print(f'CONTRIB: {cmat[idx]}')\n",
    "        print(f'ABSTRACT: {has_vax.iloc[idx].abstract}')\n",
    "        print(f'TITLE: {has_vax.iloc[idx].title}')\n",
    "    print('===== Towards Good: =====')\n",
    "    for idx in import_good[:5]:\n",
    "        print('-'*45)\n",
    "        print(f'CONTRIB: {cmat[idx]}')\n",
    "        print(f'ABSTRACT: {has_vax.iloc[idx].abstract}')\n",
    "        print(f'TITLE: {has_vax.iloc[idx].title}')"
   ]
  },
  {
   "cell_type": "code",
   "execution_count": 31,
   "metadata": {},
   "outputs": [
    {
     "ename": "AttributeError",
     "evalue": "'RandomForestClassifier' object has no attribute 'n_outputs_'",
     "output_type": "error",
     "traceback": [
      "\u001b[0;31m---------------------------------------------------------------------------\u001b[0m",
      "\u001b[0;31mAttributeError\u001b[0m                            Traceback (most recent call last)",
      "\u001b[0;32m<ipython-input-31-ac3aafc05c51>\u001b[0m in \u001b[0;36m<module>\u001b[0;34m\u001b[0m\n\u001b[0;32m----> 1\u001b[0;31m \u001b[0mpred\u001b[0m\u001b[0;34m,\u001b[0m \u001b[0mbias\u001b[0m\u001b[0;34m,\u001b[0m \u001b[0mcontrib\u001b[0m \u001b[0;34m=\u001b[0m \u001b[0mti\u001b[0m\u001b[0;34m.\u001b[0m\u001b[0mpredict\u001b[0m\u001b[0;34m(\u001b[0m\u001b[0mtmodel\u001b[0m\u001b[0;34m,\u001b[0m \u001b[0mvbad2ref\u001b[0m\u001b[0;34m[\u001b[0m\u001b[0;36m290\u001b[0m\u001b[0;34m,\u001b[0m \u001b[0;34m:\u001b[0m\u001b[0;34m]\u001b[0m\u001b[0;34m.\u001b[0m\u001b[0mreshape\u001b[0m\u001b[0;34m(\u001b[0m\u001b[0;34m(\u001b[0m\u001b[0;36m1\u001b[0m\u001b[0;34m,\u001b[0m \u001b[0;34m-\u001b[0m\u001b[0;36m1\u001b[0m\u001b[0;34m)\u001b[0m\u001b[0;34m)\u001b[0m\u001b[0;34m)\u001b[0m\u001b[0;34m\u001b[0m\u001b[0;34m\u001b[0m\u001b[0m\n\u001b[0m\u001b[1;32m      2\u001b[0m \u001b[0;31m# pred, bias, contrib = ti.predict(tmodel, vbad2ref[290, :])\u001b[0m\u001b[0;34m\u001b[0m\u001b[0;34m\u001b[0m\u001b[0;34m\u001b[0m\u001b[0m\n",
      "\u001b[0;32m~/anaconda3/lib/python3.7/site-packages/treeinterpreter/treeinterpreter.py\u001b[0m in \u001b[0;36mpredict\u001b[0;34m(model, X, joint_contribution)\u001b[0m\n\u001b[1;32m    202\u001b[0m     \"\"\"\n\u001b[1;32m    203\u001b[0m     \u001b[0;31m# Only single out response variable supported,\u001b[0m\u001b[0;34m\u001b[0m\u001b[0;34m\u001b[0m\u001b[0;34m\u001b[0m\u001b[0m\n\u001b[0;32m--> 204\u001b[0;31m     \u001b[0;32mif\u001b[0m \u001b[0mmodel\u001b[0m\u001b[0;34m.\u001b[0m\u001b[0mn_outputs_\u001b[0m \u001b[0;34m>\u001b[0m \u001b[0;36m1\u001b[0m\u001b[0;34m:\u001b[0m\u001b[0;34m\u001b[0m\u001b[0;34m\u001b[0m\u001b[0m\n\u001b[0m\u001b[1;32m    205\u001b[0m         \u001b[0;32mraise\u001b[0m \u001b[0mValueError\u001b[0m\u001b[0;34m(\u001b[0m\u001b[0;34m\"Multilabel classification trees not supported\"\u001b[0m\u001b[0;34m)\u001b[0m\u001b[0;34m\u001b[0m\u001b[0;34m\u001b[0m\u001b[0m\n\u001b[1;32m    206\u001b[0m \u001b[0;34m\u001b[0m\u001b[0m\n",
      "\u001b[0;31mAttributeError\u001b[0m: 'RandomForestClassifier' object has no attribute 'n_outputs_'"
     ]
    }
   ],
   "source": [
    "pred, bias, contrib = ti.predict(tmodel, vbad2ref[290, :].reshape((1, -1)))\n",
    "# pred, bias, contrib = ti.predict(tmodel, vbad2ref[290, :])"
   ]
  },
  {
   "cell_type": "code",
   "execution_count": null,
   "metadata": {},
   "outputs": [],
   "source": [
    "cmat = contrib.reshape((-1, 2))\n",
    "import_bad = np.argsort(cmat[:, 0])[::-1]\n",
    "import_good = np.argsort(cmat[:, 1])[::-1]"
   ]
  },
  {
   "cell_type": "code",
   "execution_count": null,
   "metadata": {},
   "outputs": [],
   "source": [
    "# claims_df = load_pickle('./pickles/newest_claims_df_labelled.pkl')\n",
    "# claims_df = claims_df.dropna()\n",
    "\n",
    "# true_claims_df = claims_df[claims_df['label'] == 'true']\n",
    "# false_claims_df = claims_df[claims_df['label'] == 'false']\n",
    "# misleading_claims_df = claims_df[claims_df['label'] == 'misleading']\n",
    "\n",
    "# true_claims_mat = np.vstack(list(true_claims_df['bert_embedding']))\n",
    "# false_claims_mat = np.vstack(list(false_claims_df['bert_embedding']))\n",
    "\n",
    "# true_claims2ref = cdist(true_claims_mat, vax_ref, 'cosine')\n",
    "# false_claims2ref = cdist(false_claims_mat, vax_ref, 'cosine')\n",
    "\n",
    "# claims_mm = MarkedMatrix([('true', true_claims_mat), ('false', false_claims_mat)])\n",
    "# claims_mm2covid = MarkedMatrix([('true', true_claims2ref), ('false', false_claims2ref)])\n",
    "# claims_mm.single_split_classify(tmodel, return_labels=True)\n",
    "# tmodel_claims = RandomForestClassifier(n_estimators=500, n_jobs=24)\n",
    "# claims_mm2covid.single_split_classify(tmodel_claims, return_labels=True)"
   ]
  },
  {
   "cell_type": "markdown",
   "metadata": {},
   "source": [
    "# "
   ]
  }
 ],
 "metadata": {
  "kernelspec": {
   "display_name": "Python 3",
   "language": "python",
   "name": "python3"
  },
  "language_info": {
   "codemirror_mode": {
    "name": "ipython",
    "version": 3
   },
   "file_extension": ".py",
   "mimetype": "text/x-python",
   "name": "python",
   "nbconvert_exporter": "python",
   "pygments_lexer": "ipython3",
   "version": "3.7.4"
  }
 },
 "nbformat": 4,
 "nbformat_minor": 4
}
