{
 "cells": [
  {
   "cell_type": "code",
   "execution_count": 1,
   "metadata": {},
   "outputs": [],
   "source": [
    "import pandas as pd\n",
    "import numpy as np\n",
    "from wutils.general import load_pickle, save_pickle\n",
    "import swifter\n",
    "import seaborn as sns\n",
    "import matplotlib.pyplot as plt\n",
    "import ujson\n",
    "from collections import Counter"
   ]
  },
  {
   "cell_type": "code",
   "execution_count": 2,
   "metadata": {},
   "outputs": [],
   "source": [
    "with open('./data/all_claims.json', 'r') as f:\n",
    "    claims = ujson.load(f)"
   ]
  },
  {
   "cell_type": "code",
   "execution_count": 3,
   "metadata": {},
   "outputs": [],
   "source": [
    "with open('./data/all_claims.json', 'r') as f:\n",
    "    claims_df = pd.read_json(f)"
   ]
  },
  {
   "cell_type": "code",
   "execution_count": 4,
   "metadata": {},
   "outputs": [],
   "source": [
    "GOOD_WORDS = ['true', 'correct', 'accurate ']\n",
    "def classify_claim(claim):\n",
    "    l_claim = claim.lower()\n",
    "    if 'false' in l_claim or 'pants on fire' in l_claim or 'fake' in l_claim or 'inaccurate' in l_claim or 'incorrect' in l_claim or 'unsubstantiated' in l_claim:\n",
    "        return 'false'\n",
    "    if 'misleading' in l_claim:\n",
    "        return 'misleading'\n",
    "    if 'true' in l_claim or 'correct' in l_claim or 'accurate' in l_claim:\n",
    "        return 'true'\n",
    "    print('Unknown:', claim)\n",
    "    return 'unknown'\n",
    "\n",
    "def mean_claims(claims):\n",
    "    c = Counter(classify_claim(x['textualRating']) for x in claims)\n",
    "    return c.most_common(1)[0][0]"
   ]
  },
  {
   "cell_type": "code",
   "execution_count": 5,
   "metadata": {},
   "outputs": [
    {
     "data": {
      "text/plain": [
       "{'text': 'WHO DG Tedros Ghebreyesus tests positive for Covid-19',\n",
       " 'claimant': 'The Nation',\n",
       " 'claimDate': '2020-11-02T00:00:00Z',\n",
       " 'claimReview': [{'publisher': {'name': 'AFP Fact Check',\n",
       "    'site': 'factcheck.afp.com'},\n",
       "   'url': 'https://factcheck.afp.com/who-head-did-not-say-he-tested-positive-covid-19-only-he-was-quarantining-after-contact-tested',\n",
       "   'title': 'WHO head did not say he tested positive for Covid-19, only that he was quarantining after a contact tested positive',\n",
       "   'reviewDate': '2020-11-02T17:52:00Z',\n",
       "   'textualRating': 'False',\n",
       "   'languageCode': 'en'}]}"
      ]
     },
     "execution_count": 5,
     "metadata": {},
     "output_type": "execute_result"
    }
   ],
   "source": [
    "claims[0]"
   ]
  },
  {
   "cell_type": "code",
   "execution_count": 6,
   "metadata": {
    "scrolled": true
   },
   "outputs": [
    {
     "data": {
      "application/vnd.jupyter.widget-view+json": {
       "model_id": "8554d60ec7f3405e9016d420808084a0",
       "version_major": 2,
       "version_minor": 0
      },
      "text/plain": [
       "HBox(children=(FloatProgress(value=0.0, description='Pandas Apply', max=875.0, style=ProgressStyle(description…"
      ]
     },
     "metadata": {},
     "output_type": "display_data"
    },
    {
     "name": "stdout",
     "output_type": "stream",
     "text": [
      "Unknown: Missing Context\n",
      "Unknown: No world doctors are not of WHO\n",
      "Unknown: The video is not from 1956, it’s from February 2020.\n",
      "Unknown: C\n",
      "Unknown: Lacks_Context\n",
      "Unknown: Lacks_Context\n",
      "Unknown: He did invent PCR, which is a process used to test whether someone currently has Covid-19. He did die in August 2019.\n",
      "Unknown: This is a flawed comparison, as the number of deaths from Covid-19 far exceeds the number of deaths from flu in a given season, despite the much stricter controls in place.\n",
      "Unknown: Kary Mullis died on 7 August 2019, months before the first case of COVID-19 was reported to the World Health Organization in December of that year.\n",
      "Unknown: Commotion\n",
      "Unknown: Satire\n",
      "Unknown: Flawed_Reasoning\n",
      "Unknown: Flawed_Reasoning\n",
      "Unknown: Cherry-picked number\n",
      "Unknown: These drugs are COVID-19 treatments, not vaccines, and they are available in Western countries\n",
      "Unknown: No evidence\n",
      "Unknown: Suspicious\n",
      "Unknown: This comes from the faster end of a range of estimates.\n",
      "Unknown: There is no data on the number of deaths from suicide in August this year, as the cause of death needs to be confirmed by an inquest. The monthly average from 2018, the most recent year we have data for, was slightly higher than the number of Covid deaths in August 2020.\n",
      "Unknown: It can be hard to tell from photographs, but there’s no clear evidence ministers were not following current workplace guidance at the Cabinet meeting. Some rules that apply to social activity do not currently apply in workplaces.\n",
      "Unknown: Covid guidance for MPs attending parliament does not involve wearing masks, but does include 2 metre distancing and limits on attendance.\n",
      "Unknown: This is close to both the highest figure for daily tests performed and current theoretical lab capacity. The number actually performed on most days in the latest data is slightly lower.\n",
      "Unknown: Needs context\n",
      "Unknown: We don’t know how many people are being tested, but it is more than 62,000, which only includes people newly tested in England.\n",
      "Unknown: The official Coronavirus Dashboard has shown roughly this capacity figure for all tests in the UK (including antibody tests) in the past. It currently shows a daily diagnostic test capacity of around 240,000.\n",
      "Unknown: Needs context\n",
      "Unknown: No Evidence\n",
      "Unknown: This distance is one-way, measured as the crow flies and does not include people who turn down a test based on distance.\n",
      "Unknown: The data shows imports and exports of general testing kits which have since been classified as for Covid-19 during the pandemic.\n",
      "Unknown: Flawed_Reasoning\n",
      "Unknown: Flawed_Reasoning\n",
      "Unknown: Needs Context\n",
      "Unknown: This compares how many death certificates mentioned flu and/or pneumonia, compared to those which mentioned Covid-19. This doesn’t mean they were mentioned  as the underlying cause of death. There are almost certainly fewer deaths where flu is the underlying cause compared to Covid-19.\n",
      "Unknown: Lacks_Context\n",
      "Unknown: Lacks_Context\n",
      "Unknown: Requires more context\n",
      "Unknown: Lacks context\n",
      "Unknown: There isn’t evidence for this. Although we don’t have detailed data on recent deaths, there are almost certainly fewer deaths where flu is identified as the underlying cause compared to Covid-19.\n",
      "Unknown: You cannot catch Legionnaires’ disease from a mask.\n",
      "Unknown: Flawed_Reasoning\n",
      "Unknown: Flawed_Reasoning\n",
      "Unknown: The picture of the grave with flower bedding is not of Urdu poet Rahat Indori.\n",
      "Unknown: Dangerous\n",
      "Unknown: No Basis\n",
      "Unknown: Satire\n",
      "Unknown: Exaggerates\n",
      "Unknown: Unsupported\n",
      "Unknown: Unsupported\n",
      "Unknown: Three Pinocchios\n",
      "Unknown: Unproven\n",
      "Unknown: That is how many people without pre-existing conditions died in hospitals in England having had Covid-19, as of 16 July.\n",
      "Unknown: The masks pictured may offer some limited protection to the wearer, and can stop them spreading it if they are infected. Hospital staff are required to wear these masks, but they may also wear respirators that do protect the wearer. Face coverings and masks are not recommended for use at schools in England except in some circumstances.\n",
      "Unknown: Outdated\n",
      "Unknown: This is a misunderstanding of what Professor Whitty said. He was talking about hygiene rules continuing, not levels of infection staying the same.\n",
      "Unknown: Mixture\n",
      "Unknown: Unsupported\n",
      "Unknown: Unsupported\n",
      "Unknown: This illustration is from a medical imaging company showing a nasopharyngeal swab Covid-19 test. Not all tests are done this way.\n",
      "Unknown: There's no evidence we've seen to support this claim about counting coronavirus cases - whether applied to the US or Canada. There are clear criteria for reporting coronavirus cases in both countries, and people who enter hospital with an unrelated illness or injury aren't counted as a coronavirus case.\n",
      "Unknown: Unlikely.\n",
      "Unknown: Not the Whole Story\n",
      "Unknown: No Evidence It Works\n",
      "Unknown: Unknown. There’s some evidence that zinc helps your body fight a cold, but scientists don’t know if it helps ease COVID-19 symptoms. There is no evidence that taking zinc will keep you from catching COVID-19.\n",
      "Unknown: No Evidence\n",
      "Unknown: Mixture\n",
      "Unknown: Very unlikely\n",
      "Unknown: A comment by Bill Gates during an interview was misrepresented. Mr Gates, in response to a question, said the U.S. government needs to prioritise and decide which activities to allow should it decide to open up the country after weeks of lockdown. Mass gatherings, he said, is not an option now and might not come back until people are widely vaccinated.\n",
      "Unknown: It depends\n",
      "Unknown: Unknown\n",
      "Unknown: Mixture\n",
      "Unknown: There may have been some rare cases of reinfection with Covid-19, but most people seem to be immune afterwards, at least in the short term\n",
      "Unknown: Imprecise\n",
      "Unknown: Imprecise\n",
      "Unknown: Uncertain. Antibodies in your blood show that your body has fought an infection caused by the novel coronavirus. But having a positive antibody test has not yet been proven to tell you with certainty that you are immune to being infected a second time.\n",
      "Unknown: Mixture\n",
      "Unknown: This data cannot be extrapolated to the UK population. The number of people with Covid-19 may be higher, lower, or the same as claimed.\n",
      "Unknown: FLASE\n",
      "Unknown: No Evidence\n",
      "Unknown: Needs Context\n",
      "Unknown: Misplaced Context\n",
      "Unknown: Miscaptioned\n",
      "Unknown: Mixture\n",
      "Unknown: Mixture\n",
      "Unknown: Miscaptioned\n",
      "Unknown: Miscaptioned\n",
      "Unknown: Unproven\n",
      "Unknown: Mixture\n",
      "Unknown: There are concerns ibuprofen can aggravate underlying health issues. There is no strong evidence on how ibuprofen affects Covid-19 sufferers yet, but some experts suggest taking paracetamol is preferable.The NHS has changed its guidance on the new coronavirus to reflect this.\n",
      "Unknown: This picture was taken in Paris and the trucks are not carrying dead bodies. However, Italy has had to use military trucks to move bodies during the crisis.\n",
      "Unknown: Mixture\n",
      "Unknown: The WHO advises the public to wash their hands after handling money, especially if handling or eating food. But they haven’t issued a warning about using banknotes.\n",
      "Unknown: Currently, there are still no definitive and institutionalised vaccines for COVID-19; nonetheless, research persists and holds potential solutions.\n",
      "Unknown: Unproven\n",
      "Unknown: Results from our research show that the message from Today .ng's article is a misappropriation of a 2017 NOISH publication; a notification directed at workers using respirators in carrying out their tasks. It has nothing to do with preventing the spread of coronavirus.\n",
      "Unknown: Both videos concerning the purported mass conversion occurred at least a month before the COVID-19 outbreak. Chinese officials confirmed the latter to be on 31 December 2019. Thus, the viral video cannot be related to Coronavirus.\n",
      "Unknown: No health authorities have certified Chloroquine as a cure for coronavirus. WHO, the foremost authority on the subject, according to the Director-General of the body, Tedros Adhanom Ghebreyesus, says while the organisation is currently conducting a number of drug trials, it does not expect a result before three weeks. More so, the “malarial Chloroquine used in China was not one of the drugs.”\n",
      "Unknown: A 1980s sci-fi novel describes a disease called “Wuhan-400” that bears little similarity to the new Wuhan coronavirus. A book of “prophecies about the end of the world” written in 2008 predicted that a pneumonia-like illness would spread across the world in the year 2020.\n",
      "Unknown: They didn’t. This is a misunderstanding about the phrase “Disease X”, which the WHO used to denote an unknown serious new disease that might cause a pandemic.\n",
      "Unknown: Too Early to Say\n",
      "Unknown: Distorts the Facts\n",
      "Unknown: Flawed_Reasoning\n",
      "Unknown: Flawed_Reasoning\n",
      "Unknown: The Face shield is to protect medical officials who take samples from individuals and the idea was to prevent splashes of particles from patients during sample collection.\n",
      "Unknown: This is too high. This estimate was calculated using data on when deaths were reported, not when they happened. It also suggests an unrealistically high death rate, given the number of infections at the time.\n",
      "Unknown: Distorts the Facts\n",
      "Unknown: No Evidence\n",
      "Unknown: Fauci Stance Well Known\n",
      "Unknown: Mixture\n",
      "Unknown: Unsupported\n",
      "Unknown: Unsupported\n",
      "Unknown: Mixture\n",
      "Unknown: Mixture\n",
      "Unknown: Mixture\n",
      "Unknown: Miscaptioned\n",
      "Unknown: Miscaptioned\n",
      "Unknown: The President of America, Donald Trump has not announced the launch of a vaccine. He announced the availability of new tests by Roche Diagnostics. Furthermore, the photo attached to the text is not a vaccine but a test kit for COVID-19 manufactured by Sugentech in South Korea. There is no known vaccine yet for the COVID-19 virus.\n",
      "Unknown: Mixture\n",
      "Unknown: Unproven\n",
      "Unknown: Exaggerates\n",
      "Unknown: This is a different coronavirus from SARS-CoV-2, the virus that causes Covid-19. Coronaviruses are a large family of viruses that can affect a range of species.\n",
      "Unknown: Unlikely to prevent or cure you\n",
      "Unknown: Two Chinese scientists have published an article suggesting that the 2019 coronavirus outbreak could have originated from bats in a laboratory in Wuhan. However, apart from maps showing the proximity of laboratories, they offer no evidence to prove this.\n",
      "Unknown: Salah\n",
      "Unknown: Salah\n",
      "Unknown: Salah\n",
      "Unknown: Salah\n",
      "Unknown: Salah\n",
      "Unknown: Salah\n",
      "Unknown: Salah\n",
      "Unknown: Outdated\n",
      "Unknown: The video in question is NOT from New Zealand\n",
      "Unknown: Myth\n",
      "Unknown: Overblown\n",
      "Unknown: The UK appears to be testing fewer people than in Russia. But there isn’t enough data on this to determine for sure where the UK places, and the UK’s data isn’t particularly comparable with other countries.\n",
      "Unknown: Flawed_Reasoning\n",
      "Unknown: Flawed_Reasoning\n",
      "Unknown: Madagascar refutes claims Putin ordered herbal coronavirus remedy\n",
      "Unknown: This is based on data collected on deaths in England and Wales up to 20 April.\n",
      "Unknown: The Department for Health and Social Care has confirmed 125,000 staff in care settings have been tested since the start of the pandemic.\n",
      "Unknown: There is some limited evidence that it can work for some patients. It is not licensed as a treatment for Covid-19 in the UK outside of clinical trials.\n",
      "Unknown: The latest NHS figures for England show that 253 people under the age of 60 with no underlying health conditions have died from Covid-19 in hospitals.\n",
      "Unknown: Mixture\n",
      "Unknown: The ONS found, with a degree of uncertainty, that there was no evidence that the rate of infection differed by age group, but being infected doesn’t necessarily mean you become ill and display symptoms.\n",
      "Unknown: Mixture\n",
      "Unknown: In the first 12 weeks of 2020, less than 1% of deaths registered in England and Wales had Covid-19 on the death certificate, but the rate has since risen to more than 30% for some weeks in April.\n",
      "Unknown: Miscaptioned\n",
      "Unknown: Mixture\n",
      "Unknown: Unproven\n",
      "Unknown: This is the plan from the Irish government.\n",
      "Unknown: NEEDS CONTEXT: Remdesivir got an emergency use authorization, not FDA approval\n",
      "Unknown: UNPROVEN: There is no scientific or clinical evidence available to support claims that Covid-Organics cures COVID-19.\n",
      "Unknown: Mixture\n",
      "Unknown: No evidence, according to WHO April 19 scientific brief\n",
      "Unknown: Ms Ardern has given herself, government ministers and public service chief executives a 20% pay cut. This does not cover all MPs.\n",
      "\n"
     ]
    }
   ],
   "source": [
    "claims_df['label'] = claims_df['claimReview'].swifter.apply(mean_claims)"
   ]
  },
  {
   "cell_type": "code",
   "execution_count": 7,
   "metadata": {
    "scrolled": true
   },
   "outputs": [
    {
     "name": "stdout",
     "output_type": "stream",
     "text": [
      "false ['False']\n",
      "false ['False']\n",
      "false ['False']\n",
      "false ['False']\n",
      "unknown ['Missing Context']\n",
      "false ['This is incorrect. At the time the claim was made, the number of deaths reported of people who had tested positive for Covid-19 and died within 28 days was 169.']\n",
      "false ['Inaccurate (no factual basis; unacceptable margin of error)']\n",
      "false ['Inaccurate (no factual basis; unacceptable margin of error)']\n",
      "unknown ['No world doctors are not of WHO']\n",
      "true ['Half true']\n",
      "false ['Incorrect. The US CDC published figures suggesting the chance of dying from Covid-19 after being infected was 0.26% and has since updated these figures. The chance of catching Covid-19 is much higher than that in many countries, including the UK.']\n",
      "false ['False']\n",
      "false ['False']\n",
      "unknown ['The video is not from 1956, it’s from February 2020.']\n",
      "false ['False']\n",
      "true ['Half true']\n",
      "false ['This is incorrect, based on the data Mr Hancock mentioned, which suggests that people who suffer from “long Covid” had more symptoms when they were infected, and were more likely to have visited hospital.']\n",
      "unknown ['C']\n",
      "false ['False']\n",
      "false ['This is incorrect, based on the data Mr Hancock mentioned, which suggests that people over 70 have about twice the risk of people under 50.']\n",
      "unknown ['Lacks_Context', 'Lacks_Context']\n",
      "false ['False']\n",
      "misleading ['Misleading']\n",
      "false ['False']\n",
      "true ['Accurate (supported by evidence and facts; acceptable margin of error)']\n",
      "unknown ['He did invent PCR, which is a process used to test whether someone currently has Covid-19. He did die in August 2019.']\n",
      "false ['Fake']\n",
      "false ['Partly False – Content that has some factual inaccuracies.']\n",
      "true ['Half True']\n",
      "false ['Mr Raab appears to have mis-spoken. He was talking about the success rate of detecting Covid-19 when people arrive at airports. Evidence suggests that false positives are rare in the most common Covid-19 tests.']\n",
      "false ['False']\n",
      "false ['False', 'False']\n",
      "false ['False - Content that has no basis in fact.']\n",
      "unknown ['This is a flawed comparison, as the number of deaths from Covid-19 far exceeds the number of deaths from flu in a given season, despite the much stricter controls in place.']\n",
      "false ['False']\n",
      "false ['False – Content that has no basis in fact.']\n",
      "false ['This is incorrect. Contact tracers have been told to not escalate these cases to local health teams, but their contacts will still be traced nationally.']\n",
      "true ['Accurate (supported by evidence and facts; acceptable margin of error)', 'Accurate (supported by evidence and facts; acceptable margin of error)']\n",
      "false ['False']\n",
      "false ['False']\n",
      "true ['Mostly True – The claim is mostly accurate but there is a minor error or problem.']\n",
      "false ['Fake']\n",
      "misleading ['Misleading']\n",
      "true ['This is correct, but it will have no effect on the numbers, which will still be shown separately in the document.']\n",
      "unknown ['Kary Mullis died on 7 August 2019, months before the first case of COVID-19 was reported to the World Health Organization in December of that year.']\n",
      "false ['INACCURATE. The universal standard when testing for the virus that causes COVID-19 is to use a maximum of 40 cycles of amplification as part of the RT-PCR process. If a positive signal is detected with more than 40 cycles of amplification, this would be reported as a negative test.']\n",
      "false ['False']\n",
      "false ['Partly False - Content that has some factual inaccuracies.']\n",
      "false ['Incorrect. The data is published monthly by the Office for National Statistics.']\n",
      "misleading ['Misleading']\n",
      "true ['This is not true. Statistics about the two diseases are being published separately in the same document. This has no effect on the numbers.']\n",
      "false ['False. No such ranking could be found']\n",
      "false ['Fake']\n",
      "unknown ['Commotion']\n",
      "misleading ['Misleading']\n",
      "true ['Correct Attribution']\n",
      "false ['False']\n",
      "false ['False']\n",
      "false ['False']\n",
      "false ['Fake']\n",
      "false ['Fake']\n",
      "true ['Mostly True']\n",
      "false ['Fake']\n",
      "misleading ['Misleading']\n",
      "false ['False']\n",
      "false ['Fake']\n",
      "unknown ['Satire']\n",
      "false ['False']\n",
      "unknown ['Flawed_Reasoning', 'Flawed_Reasoning']\n",
      "true ['True']\n",
      "false ['False']\n",
      "false ['These claims are false. Coins commemorating \"Donald Trump defeating Covid\" on sale from an online outlet called the White House Gift Shop have no connection with the US President.']\n",
      "false ['False']\n",
      "false ['False – The primary claim within this Facebook post is inaccurate.']\n",
      "false ['Incorrect. Covid-19 diagnostic tests are not perfect, but they won’t misdiagnose other coronaviruses as the virus which causes Covid-19.']\n",
      "false ['Inaccurate', 'Inaccurate']\n",
      "unknown ['Cherry-picked number']\n",
      "false ['Partly false']\n",
      "unknown ['These drugs are COVID-19 treatments, not vaccines, and they are available in Western countries']\n",
      "unknown ['No evidence']\n",
      "false ['False']\n",
      "false ['False: One cannot rely on the pressure cooker steam for COVID treatment.']\n",
      "false ['Mostly false']\n",
      "false ['False']\n",
      "unknown ['Suspicious']\n",
      "true ['Accurate as a whole (with reservations)', 'Accurate as a whole (with reservations)']\n",
      "unknown ['This comes from the faster end of a range of estimates.']\n",
      "false ['Incorrect', 'Incorrect']\n",
      "false ['False']\n",
      "unknown ['There is no data on the number of deaths from suicide in August this year, as the cause of death needs to be confirmed by an inquest. The monthly average from 2018, the most recent year we have data for, was slightly higher than the number of Covid deaths in August 2020.']\n",
      "unknown ['It can be hard to tell from photographs, but there’s no clear evidence ministers were not following current workplace guidance at the Cabinet meeting. Some rules that apply to social activity do not currently apply in workplaces.']\n",
      "unknown ['Covid guidance for MPs attending parliament does not involve wearing masks, but does include 2 metre distancing and limits on attendance.']\n",
      "false ['False']\n",
      "false ['False']\n",
      "false ['False']\n",
      "false ['This is false. The piece of legislation cited in the posts does not relate to samples taken for coronavirus testing.']\n",
      "false ['False']\n",
      "misleading ['Misleading']\n",
      "unknown ['This is close to both the highest figure for daily tests performed and current theoretical lab capacity. The number actually performed on most days in the latest data is slightly lower.']\n",
      "false ['False']\n",
      "unknown ['Needs context']\n",
      "unknown ['We don’t know how many people are being tested, but it is more than 62,000, which only includes people newly tested in England.']\n",
      "unknown ['The official Coronavirus Dashboard has shown roughly this capacity figure for all tests in the UK (including antibody tests) in the past. It currently shows a daily diagnostic test capacity of around 240,000.']\n",
      "unknown ['Needs context']\n",
      "false ['False - The primary claim in this post is factually inaccurate.']\n",
      "false ['False']\n",
      "true ['This is probably not true, because it would rely on testing everybody just once, which does not happen in practice.']\n",
      "false ['False']\n",
      "true ['Accurate (supported by evidence and facts; acceptable margin of error)']\n",
      "true ['Half true']\n",
      "false ['Fake']\n",
      "false ['Pants on Fire', 'No Evidence']\n",
      "misleading ['misleading']\n",
      "false ['This is incorrect. This legislation allows the police to retain DNA profiles obtained related to national security and has nothing to do with Covid-19 testing.']\n",
      "false ['False - The primary claims within the post are inaccurate.']\n",
      "unknown ['This distance is one-way, measured as the crow flies and does not include people who turn down a test based on distance.']\n",
      "false ['False']\n",
      "false ['FALSE']\n",
      "true ['Half true']\n",
      "false ['This is incorrect. The real death rate is probably about five or ten times higher.']\n",
      "false ['False']\n",
      "false ['False']\n",
      "false ['Mostly false']\n",
      "false ['False', 'False']\n",
      "false ['Fake']\n",
      "false ['Fake']\n",
      "false ['Partly False - The claim(s) of the content are a mixture of accurate and inaccurate, or the primary claim is misleading or incomplete.']\n",
      "true ['Accurate (supported by evidence and facts; acceptable margin of error)', 'Accurate (supported by evidence and facts; acceptable margin of error)']\n",
      "false ['false']\n",
      "false ['Inaccurate', 'Inaccurate']\n",
      "unknown ['The data shows imports and exports of general testing kits which have since been classified as for Covid-19 during the pandemic.']\n",
      "false ['False']\n",
      "false ['Mostly false']\n",
      "true ['This is true.']\n",
      "true ['This is generally correct. EU law, which has been adopted by the UK, protects manufacturers from liability if the government decides to supply their vaccines without licensing. However, they are not exempt from all liabilities.']\n",
      "false ['False - The primary claim of the content is factually inaccurate.']\n",
      "false ['This is false. Of all the death certificates in the US that mention Covid-19, only 6% mention no other illnesses. However, 92% of the total clearly state Covid-19 as the underlying cause of death. So while a patient may have had lung problems or diabetes referred to on their certificates, coronavirus has been given as the main cause of death.']\n",
      "false ['Pants on Fire']\n",
      "false ['Misleading - The claim is accurate in parts but information has also been presented incorrectly, out of context or omitted.']\n",
      "false ['False']\n",
      "true ['Mostly True']\n",
      "false ['Pants on Fire']\n",
      "false ['Fake']\n",
      "false ['False']\n",
      "false ['False']\n",
      "false ['False']\n",
      "false ['False']\n",
      "false ['Pants on Fire']\n",
      "unknown ['Flawed_Reasoning', 'Flawed_Reasoning']\n",
      "unknown ['Needs Context']\n",
      "false ['Fake']\n",
      "unknown ['This compares how many death certificates mentioned flu and/or pneumonia, compared to those which mentioned Covid-19. This doesn’t mean they were mentioned  as the underlying cause of death. There are almost certainly fewer deaths where flu is the underlying cause compared to Covid-19.']\n",
      "false ['Unsubstantiated (insufficient data)', 'Unsubstantiated (insufficient data)']\n",
      "unknown ['Lacks_Context', 'Lacks_Context']\n",
      "false ['False']\n",
      "false ['Fake']\n",
      "misleading ['Misleading']\n",
      "false ['Inaccurate', 'Inaccurate']\n",
      "false ['Fake']\n",
      "false ['False']\n",
      "false ['False']\n",
      "false ['False']\n",
      "false ['Inaccurate', 'Inaccurate']\n",
      "true ['This is not true.']\n",
      "false ['Incorrect. This is the proportion of people who tested positive in the first place who are reached by the system. \\r\\n\\r\\nIn the week to 5 August 79.7% of people who were referred to the service after testing positive were reached. Close contacts were identified for 78.6% of those cases. Of those close contacts, 74.2% were reached and asked to self-isolate.']\n",
      "false ['Mostly False']\n",
      "unknown ['Requires more context']\n",
      "false ['Fake']\n",
      "false ['Fake']\n",
      "unknown ['Lacks context']\n",
      "false ['False']\n",
      "unknown ['There isn’t evidence for this. Although we don’t have detailed data on recent deaths, there are almost certainly fewer deaths where flu is identified as the underlying cause compared to Covid-19.']\n",
      "misleading ['Misleading']\n",
      "false ['Fake']\n",
      "misleading ['Misleading']\n",
      "false ['False']\n",
      "false ['False']\n",
      "false ['False']\n",
      "false ['False']\n",
      "false ['Fake']\n",
      "false ['Fake', 'Incorrect']\n",
      "false ['Fake']\n",
      "false ['Unsubstantiated (insufficient data)', 'Unsubstantiated (insufficient data)']\n",
      "false ['FALSE: There is no medical or scientific evidence that inhaling or ingesting elephant dung prevents or cures COVID-19 infection.']\n",
      "false ['False']\n",
      "false ['Mostly false']\n",
      "false ['False - The primary claim of the content is factually inaccurate.']\n",
      "unknown ['You cannot catch Legionnaires’ disease from a mask.']\n",
      "false ['False']\n",
      "false ['False']\n",
      "unknown ['Flawed_Reasoning', 'Flawed_Reasoning']\n",
      "misleading ['Misleading']\n",
      "misleading ['Misleading']\n",
      "misleading ['Misleading']\n",
      "true ['Correct Attribution']\n",
      "false ['False']\n",
      "true ['True']\n",
      "unknown ['The picture of the grave with flower bedding is not of Urdu poet Rahat Indori.']\n",
      "false ['False']\n",
      "misleading ['Misleading']\n",
      "false ['False - The primary claims in the post are factually inaccurate.']\n",
      "false ['Fake']\n",
      "false ['Fake']\n",
      "misleading ['Misleading']\n",
      "false ['Fake']\n",
      "unknown ['Dangerous']\n",
      "unknown ['No Basis']\n",
      "false ['False']\n",
      "false ['False']\n",
      "false ['False']\n",
      "unknown ['Satire']\n",
      "true ['Accurate as a whole (with reservations)']\n",
      "false ['This is incorrect. Both Leicester City Council and Leicestershire Police told Full Fact that no such methods are being used in the city. Testing across the UK is optional.']\n",
      "false ['False - The primary claims of the video’s content are factually inaccurate.']\n",
      "false ['False']\n",
      "unknown ['Exaggerates']\n",
      "unknown ['Unsupported', 'Unsupported']\n",
      "false ['False']\n",
      "misleading ['Misleading']\n",
      "unknown ['Three Pinocchios']\n",
      "false ['False']\n",
      "false ['False']\n",
      "true ['This is not true. The real number, in England, is around 52,000. It will be slightly higher for the whole UK and if antibody and surveillance tests are included.']\n",
      "false ['False']\n",
      "false ['False']\n",
      "false ['False']\n",
      "misleading ['Misleading']\n",
      "false ['False']\n",
      "false ['Fake']\n",
      "false ['Fake']\n",
      "false ['Fake']\n",
      "false ['The claim that Nigeria and four other countries are responsible for over 80 per cent of COVID-19 cases in West Africa is TRUE. The claim that  as at July 16, the five countries recorded 84,118 cases out of the 96,936 cases in the region is  FALSE.']\n",
      "false ['Mostly False']\n",
      "false ['False']\n",
      "false ['Fake']\n",
      "false ['False']\n",
      "false ['False']\n",
      "false ['False']\n",
      "false ['Inaccurate as a whole (with reservations)']\n",
      "false ['False']\n",
      "false ['Mostly False']\n",
      "false ['False', 'False']\n",
      "false ['Fake']\n",
      "unknown ['Unproven']\n",
      "misleading ['The headline and first half of the news report makes it misleading for the readers.']\n",
      "false ['False']\n",
      "true ['The claim that Nigeria accounts for 5 per cent of COVID-19 deaths in Africa is TRUE.']\n",
      "false ['False']\n",
      "false ['Incorrect', 'Incorrect']\n",
      "false ['False']\n",
      "false ['Pants on Fire']\n",
      "false ['False']\n",
      "misleading ['Misleading']\n",
      "false ['False']\n",
      "true ['Correct']\n",
      "unknown ['That is how many people without pre-existing conditions died in hospitals in England having had Covid-19, as of 16 July.']\n",
      "unknown ['The masks pictured may offer some limited protection to the wearer, and can stop them spreading it if they are infected. Hospital staff are required to wear these masks, but they may also wear respirators that do protect the wearer. Face coverings and masks are not recommended for use at schools in England except in some circumstances.']\n",
      "false ['Fake']\n",
      "false ['False']\n",
      "true ['Half True']\n",
      "false ['Fake']\n",
      "false ['False']\n",
      "false ['False']\n",
      "false ['False']\n",
      "false ['False']\n",
      "false ['Fake']\n",
      "false ['False']\n",
      "false ['False']\n",
      "false ['False']\n",
      "false ['False']\n",
      "false ['Fake']\n",
      "misleading ['Misleading']\n",
      "false ['False']\n",
      "false ['False']\n",
      "misleading ['Misleading']\n",
      "false ['False']\n",
      "misleading ['Misleading', 'Misleading']\n",
      "true ['This is not correct. Government data shows 125,000 tests on staff in care settings had been processed. It is not possible to tell the number of staff tested but it is likely much lower. The figure also includes tests on other people including family members, social care workers and care home CEOs.']\n",
      "unknown ['Outdated']\n",
      "misleading ['Misleading']\n",
      "false ['Fake']\n",
      "false ['Incorrect. When the Prime Minister made this comment, 57,000 residents had been tested in public labs, and 61,074 tests were processed in commercial labs. Adding these together gets to 118,000 but that’s not appropriate as this would lead to residents being double counted.']\n",
      "false ['the news of Amitabh Bachchan fully recovering from COVID-19 is FAKE.']\n",
      "false ['False']\n",
      "false ['False - The primary claims of the content are factually inaccurate.']\n",
      "false ['False']\n",
      "false ['False - The primary claims of the content are factually inaccurate.']\n",
      "false ['False']\n",
      "false ['False']\n",
      "false ['False']\n",
      "misleading ['This meme is misleading. If you only breathe on a slim swab head, you might not catch the viral particles or the cells that carry the virus. However, if you insert the swab in the nose and throat and rotate it at the site of infection, you are more likely to get infectious material that will yield a result.', 'This meme is misleading. If you only breathe on a slim swab head, you might not catch the viral particles or the cells that carry the virus. However, if you insert the swab in the nose and throat and rotate it at the site of infection, you are more likely to get infectious material that will yield a result.']\n",
      "misleading ['Misleading']\n",
      "false ['Fake']\n",
      "false ['False']\n",
      "unknown ['This is a misunderstanding of what Professor Whitty said. He was talking about hygiene rules continuing, not levels of infection staying the same.']\n",
      "false ['False']\n",
      "true ['Partially_Correct', 'Partially_Correct']\n",
      "false ['False']\n",
      "false ['Partly False – The claims of the content are a mixture of accurate and inaccurate.']\n",
      "misleading ['Misleading']\n",
      "false ['False']\n",
      "false ['Fake']\n",
      "false ['False']\n",
      "misleading ['Misleading']\n",
      "misleading ['Misleading', 'Misleading']\n",
      "false ['Mostly false']\n",
      "false ['False']\n",
      "false ['FALSE']\n",
      "false ['MOSTLY FALSE / MISLEADING: The Russian potential vaccine, of the Russian Center for Clinical Research on Medications at Sechenov University, only completed a 1st phase trial. Other vaccine trials in other parts of the world are far more advanced.']\n",
      "false ['Mostly False']\n",
      "misleading ['Misleading']\n",
      "false ['False']\n",
      "false ['False', 'False']\n",
      "false ['Fake']\n",
      "false ['There\\'s no evidence to support this claim. The Pan American Health Organization says ivermectin \"is incorrectly being used for the treatment of Covid-19 without any scientific evidence of its efficacy and safety for the treatment of this disease\".']\n",
      "true ['Mostly True']\n",
      "true ['Half true']\n",
      "false ['Inaccurate', 'Inaccurate']\n",
      "false ['False']\n",
      "false ['False']\n",
      "false ['Partly False - The primary claim is misleading or incomplete.']\n",
      "false ['Pants on Fire']\n",
      "false ['False']\n",
      "misleading ['Misleading']\n",
      "unknown ['Mixture']\n",
      "false ['False']\n",
      "false ['False']\n",
      "false ['Fake']\n",
      "unknown ['Unsupported', 'Unsupported']\n",
      "misleading ['Misleading']\n",
      "false ['UNSUBSTANTIATED. There are no official statistics or evidence to support the claim that the rates of suicide increased 200% during the period of lockdown (i.e. from 23 March to present).']\n",
      "true ['Accurate as a whole (with reservations)']\n",
      "unknown ['This illustration is from a medical imaging company showing a nasopharyngeal swab Covid-19 test. Not all tests are done this way.']\n",
      "true ['Mostly True']\n",
      "false ['Incorrect. The most recent figure is about 72%.']\n",
      "misleading ['Misleading', 'Misleading']\n",
      "unknown [\"There's no evidence we've seen to support this claim about counting coronavirus cases - whether applied to the US or Canada. There are clear criteria for reporting coronavirus cases in both countries, and people who enter hospital with an unrelated illness or injury aren't counted as a coronavirus case.\"]\n",
      "true ['From all evidence obtained, The ICIR was able to confirm that: 1. The Bank’s branch in Onne was shutdown due to coronavirus 2. A staff of the bank died due to coronavirus 3. However, The ICIR could not confirm if the dead person was the bank’s branch manager in Onne. Therefore, two out of the three claims are TRUE.']\n",
      "false ['False']\n",
      "misleading ['Misleading']\n",
      "misleading ['Misleading']\n",
      "true ['Correct as a whole (with reservations)']\n",
      "unknown ['Unlikely.']\n",
      "false ['False']\n",
      "unknown ['Not the Whole Story']\n",
      "false ['False - The primary claims of the content are factually incorrect.']\n",
      "false ['Inaccurate', 'Inaccurate']\n",
      "false ['False']\n",
      "true ['This is correct. Although the list excludes other European countries with high death tolls, such as France, Italy, Spain and Belgium.']\n",
      "false ['Mostly False']\n",
      "true ['Mostly_Accurate', 'Mostly_Accurate']\n",
      "false ['Partly False']\n",
      "false ['False. Consuming ginger will not prevent or cure COVID-19.']\n",
      "false ['Inaccurate as a whole (with reservations)', 'Inaccurate as a whole (with reservations)']\n",
      "true ['True']\n",
      "false ['False. The flu vaccine does not cause you to test positive for COVID-19. It also does not interfere with your ability to fight a COVID-19 infection.']\n",
      "false ['False']\n",
      "false ['False. Lemon juice will not prevent or cure a COVID-19 infection, no matter what is mixed with it.']\n",
      "false ['False']\n",
      "misleading ['Misleading']\n",
      "unknown ['No Evidence It Works']\n",
      "unknown ['Unknown. There’s some evidence that zinc helps your body fight a cold, but scientists don’t know if it helps ease COVID-19 symptoms. There is no evidence that taking zinc will keep you from catching COVID-19.']\n",
      "false ['False. Copper supplements will not prevent or fight off a COVID-19 infection.']\n",
      "false ['False']\n",
      "false ['Partly False']\n",
      "false ['False']\n",
      "false ['False']\n",
      "false ['False']\n",
      "false ['Fake']\n",
      "unknown ['No Evidence']\n",
      "true ['This is true, because it no longer meets the criteria for an HCID. This doesn’t mean that it is no longer considered dangerous.']\n",
      "false ['False. Madagascar has neither quit the WHO nor has WHO offered it 20 million dollars to kill the country’s herbal drink--Covid-Organics.']\n",
      "true ['This is not correct. 118,000 care home residents have been tested for Covid-19 since the start of the pandemic.']\n",
      "unknown ['Mixture']\n",
      "false ['False']\n",
      "false ['False']\n",
      "false ['False']\n",
      "true ['Half true']\n",
      "true ['True']\n",
      "unknown ['Very unlikely']\n",
      "false ['False']\n",
      "true ['Partly True']\n",
      "misleading ['Misleading']\n",
      "unknown ['A comment by Bill Gates during an interview was misrepresented. Mr Gates, in response to a question, said the U.S. government needs to prioritise and decide which activities to allow should it decide to open up the country after weeks of lockdown. Mass gatherings, he said, is not an option now and might not come back until people are widely vaccinated.']\n",
      "false ['False']\n",
      "true ['True. Specifically, UVC light has been shown to quickly inactivate the novel coronavirus, SARS-CoV-2. It can be an effective disinfectant but needs to be used correctly to avoid damage to the skin and eyes.']\n",
      "unknown ['It depends']\n",
      "true ['Correct']\n",
      "false ['False']\n",
      "false ['Mostly False']\n",
      "false ['False: Avigan IS NOT a vaccine']\n",
      "unknown ['Unknown']\n",
      "unknown ['Mixture']\n",
      "false ['False']\n",
      "true ['True']\n",
      "false ['False']\n",
      "false ['False']\n",
      "true ['Mostly True']\n",
      "false ['False']\n",
      "false ['False. The statement is fabricated']\n",
      "misleading ['Misleading']\n",
      "false ['False']\n",
      "false ['FALSE']\n",
      "false ['False']\n",
      "unknown ['There may have been some rare cases of reinfection with Covid-19, but most people seem to be immune afterwards, at least in the short term']\n",
      "false ['Fake']\n",
      "true ['This is not a valid comparison to make, and the figures it’s based on aren’t accurate.']\n",
      "true ['This is correct. At the time this post appeared there had been 31,855 Covid-19 deaths reported in the UK, compared with 628 in Japan.']\n",
      "false ['False.']\n",
      "false ['False']\n",
      "false ['Pants on Fire']\n",
      "false ['False']\n",
      "false ['False']\n",
      "false ['False']\n",
      "misleading ['Misleading']\n",
      "misleading ['Misleading']\n",
      "false ['False']\n",
      "false ['False']\n",
      "unknown ['Imprecise', 'Imprecise']\n",
      "false ['False']\n",
      "false ['False']\n",
      "unknown ['Uncertain. Antibodies in your blood show that your body has fought an infection caused by the novel coronavirus. But having a positive antibody test has not yet been proven to tell you with certainty that you are immune to being infected a second time.']\n",
      "true ['This was true at the time, by one measure. By another measure it was probably not true. Now it seems clearer that deaths in care homes from suspected Covid-19 are falling.']\n",
      "false ['False']\n",
      "unknown ['Mixture']\n",
      "false ['Mostly False']\n",
      "true ['Mostly True']\n",
      "false ['False']\n",
      "false ['False']\n",
      "false ['False']\n",
      "false ['Pants on Fire']\n",
      "false ['False']\n",
      "false ['This is incorrect. The clinic announced that it is able to speed up Covid-19 testing after developing the ability to test on-site, but it had not developed a new test.']\n",
      "false ['False']\n",
      "false ['False']\n",
      "false ['Pants on Fire']\n",
      "false ['False Claim']\n",
      "misleading ['Misleading']\n",
      "unknown ['This data cannot be extrapolated to the UK population. The number of people with Covid-19 may be higher, lower, or the same as claimed.']\n",
      "misleading ['Misleading']\n",
      "false ['FALSE']\n",
      "false ['False']\n",
      "false ['False', 'False', 'False']\n",
      "false ['False']\n",
      "unknown ['FLASE']\n",
      "misleading ['Misleading']\n",
      "false ['False']\n",
      "false ['FALSE: COVID-19 is not airborne and it does not remain in the air for eight (8) hours.']\n",
      "false ['False']\n",
      "true ['This is correct. This is a scam and should not be interacted with.']\n",
      "false ['Fake']\n",
      "false ['Fake']\n",
      "true ['Mostly True']\n",
      "false ['False']\n",
      "false ['False']\n",
      "false ['False']\n",
      "false ['FALSE']\n",
      "false ['Fake']\n",
      "false ['False. The WHO has made no such disbursement']\n",
      "false ['False']\n",
      "false ['False: Drug developed in 2014 for flu']\n",
      "false ['FALSE']\n",
      "false ['False']\n",
      "true ['Correct']\n",
      "true ['Half True']\n",
      "false ['False - The primary claims of the content are factually inaccurate.']\n",
      "false ['False']\n",
      "true ['True']\n",
      "false ['False']\n",
      "false ['False']\n",
      "false ['False']\n",
      "false ['False']\n",
      "unknown ['No Evidence']\n",
      "unknown ['Needs Context']\n",
      "true ['Half True']\n",
      "false ['False']\n",
      "true ['Mostly True']\n",
      "false ['The claim is false. As of March 17, Zimbabwe still had no confirmed case of coronavirus.']\n",
      "true ['Mostly True']\n",
      "false ['False']\n",
      "false ['FALSE']\n",
      "unknown ['Misplaced Context']\n",
      "unknown ['Miscaptioned']\n",
      "false ['Mostly False']\n",
      "misleading ['Misleading']\n",
      "false ['FALSE']\n",
      "unknown ['Mixture']\n",
      "misleading ['Misleading']\n",
      "false ['False']\n",
      "unknown ['Mixture']\n",
      "unknown ['Miscaptioned']\n",
      "unknown ['Miscaptioned']\n",
      "false ['False']\n",
      "false ['Fake']\n",
      "false ['False']\n",
      "false ['False. The government has not made any announcement regarding the postponement of public school examinations.']\n",
      "false ['False']\n",
      "true ['True']\n",
      "false ['False']\n",
      "unknown ['Unproven']\n",
      "false ['False']\n",
      "unknown ['Mixture']\n",
      "unknown ['There are concerns ibuprofen can aggravate underlying health issues. There is no strong evidence on how ibuprofen affects Covid-19 sufferers yet, but some experts suggest taking paracetamol is preferable.The NHS has changed its guidance on the new coronavirus to reflect this.']\n",
      "true ['True']\n",
      "false ['False']\n",
      "false ['This is incorrect. Symptoms have been reported as including fever, coughing and shortness of breath.']\n",
      "unknown ['This picture was taken in Paris and the trucks are not carrying dead bodies. However, Italy has had to use military trucks to move bodies during the crisis.']\n",
      "false ['False']\n",
      "false ['False Headline']\n",
      "misleading ['Misleading']\n",
      "unknown ['Mixture']\n",
      "false ['False']\n",
      "false ['False']\n",
      "false ['False']\n",
      "false ['False']\n",
      "false ['Mostly False']\n",
      "false ['False']\n",
      "unknown ['The WHO advises the public to wash their hands after handling money, especially if handling or eating food. But they haven’t issued a warning about using banknotes.']\n",
      "false ['Mostly false']\n",
      "false ['False']\n",
      "false ['FALSE']\n",
      "false ['False']\n",
      "true ['Half True']\n",
      "misleading ['Misleading']\n",
      "unknown ['Currently, there are still no definitive and institutionalised vaccines for COVID-19; nonetheless, research persists and holds potential solutions.']\n",
      "false ['False']\n",
      "true ['Correct Attribution']\n",
      "false ['False']\n",
      "misleading ['Misleading']\n",
      "false ['False']\n",
      "unknown ['Unproven']\n",
      "false ['FALSE']\n",
      "false ['FALSE']\n",
      "false ['False']\n",
      "false ['False']\n",
      "false ['False']\n",
      "false ['False']\n",
      "false ['The claim is false']\n",
      "unknown [\"Results from our research show that the message from Today .ng's article is a misappropriation of a 2017 NOISH publication; a notification directed at workers using respirators in carrying out their tasks. It has nothing to do with preventing the spread of coronavirus.\"]\n",
      "true ['Further investigation led us to a website called Break Your Own News, which was used to produce the above graphic. This proves that the above post is a Satire and should not be taken a piece of true news.']\n",
      "false ['Pants on Fire']\n",
      "unknown ['Both videos concerning the purported mass conversion occurred at least a month before the COVID-19 outbreak. Chinese officials confirmed the latter to be on 31 December 2019. Thus, the viral video cannot be related to Coronavirus.']\n",
      "unknown ['No health authorities have certified Chloroquine as a cure for coronavirus. WHO, the foremost authority on the subject, according to the Director-General of the body, Tedros Adhanom Ghebreyesus, says while the organisation is currently conducting a number of drug trials, it does not expect a result before three weeks. More so, the “malarial Chloroquine used in China was not one of the drugs.”']\n",
      "unknown ['A 1980s sci-fi novel describes a disease called “Wuhan-400” that bears little similarity to the new Wuhan coronavirus. A book of “prophecies about the end of the world” written in 2008 predicted that a pneumonia-like illness would spread across the world in the year 2020.']\n",
      "false ['FALSE: There is no evidence that a dark skin and African genes make people resistant to novel coronavirus (COVID-19) infection.']\n",
      "unknown ['They didn’t. This is a misunderstanding about the phrase “Disease X”, which the WHO used to denote an unknown serious new disease that might cause a pandemic.']\n",
      "false ['False']\n",
      "false ['False']\n",
      "false ['False - The primary claims of the content are factually inaccurate.']\n",
      "false ['FALSE']\n",
      "false ['Based on the evidence, AAP FactCheck found the Instagram post to be false. While the WHO has declared the 2019 coronavirus outbreak as a Public Health Emergency of International Concern, it has not deemed the outbreak as a “plague”. Also the number of infections and deaths globally are far below the numbers claimed in the post. Although the Instagram user labelled the claim in their first upload with “cap”, potentially indicating the post was false, many users appear unaware the post contains false information.']\n",
      "unknown ['Too Early to Say']\n",
      "true ['Half true']\n",
      "false ['False']\n",
      "false ['False']\n",
      "false ['False']\n",
      "unknown ['Distorts the Facts']\n",
      "false ['False']\n",
      "unknown ['Flawed_Reasoning', 'Flawed_Reasoning']\n",
      "false ['Pants on Fire']\n",
      "false ['False']\n",
      "misleading ['Misleading']\n",
      "false ['False - The primary claims within the post are inaccurate.']\n",
      "misleading ['Misleading']\n",
      "false ['False']\n",
      "false ['False']\n",
      "false ['False']\n",
      "misleading ['Misleading']\n",
      "unknown ['The Face shield is to protect medical officials who take samples from individuals and the idea was to prevent splashes of particles from patients during sample collection.']\n",
      "false ['False']\n",
      "false ['False']\n",
      "false ['False']\n",
      "false ['False']\n",
      "false ['False']\n",
      "false ['False']\n",
      "false ['Fake']\n",
      "true ['Mostly True']\n",
      "false ['False – The primary claims of the content are factually inaccurate.']\n",
      "unknown ['This is too high. This estimate was calculated using data on when deaths were reported, not when they happened. It also suggests an unrealistically high death rate, given the number of infections at the time.']\n",
      "false ['False']\n",
      "false ['False']\n",
      "unknown ['Distorts the Facts']\n",
      "misleading ['Misleading']\n",
      "false ['False']\n",
      "false ['Pants on Fire']\n",
      "false ['False']\n",
      "false ['Incorrect. The most recent figure is about 61%.']\n",
      "misleading ['Misleading', 'Misleading']\n",
      "false ['Pants on Fire']\n",
      "unknown ['No Evidence']\n",
      "unknown ['Fauci Stance Well Known']\n",
      "false ['False']\n",
      "misleading ['Misleading']\n",
      "false ['False']\n",
      "false ['False. The flu vaccine does not cause you to test positive for COVID-19. It also does not interfere with your ability to fight a COVID-19 infection.']\n",
      "false ['False']\n",
      "false ['False']\n",
      "true ['This is correct, based on new research in the Lancet.']\n",
      "misleading ['MISLEADING']\n",
      "false ['False']\n",
      "true ['True']\n",
      "false ['False']\n",
      "false ['False']\n",
      "true ['Correct Attribution']\n",
      "false ['False']\n",
      "false ['Fake']\n",
      "true ['Half True']\n",
      "unknown ['Mixture']\n",
      "unknown ['Unsupported', 'Unsupported']\n",
      "unknown ['Mixture']\n",
      "false ['False']\n",
      "false ['False']\n",
      "false ['False Headline']\n",
      "false ['False']\n",
      "false ['False']\n",
      "false ['Pants on Fire']\n",
      "false [\"False: Ramoray is a fictional character in the sitcom 'Friends'\"]\n",
      "false ['False']\n",
      "true ['Mostly True']\n",
      "false ['FALSE']\n",
      "false ['False']\n",
      "misleading ['Misleading']\n",
      "false ['False']\n",
      "false ['False']\n",
      "true ['Correct Attribution']\n",
      "false ['False']\n",
      "false ['Incorrect. MPs’ pay is regulated by the Independent Parliamentary Standards Authority, which has increased the amount MPs can claim in expenses for office and staff costs by £10,000 to cover additional costs needed to set up remote working.  MPs did not get to decide on this increase and  do not have to claim it.']\n",
      "false ['Mostly False']\n",
      "misleading ['Misleading']\n",
      "false ['False']\n",
      "false ['False']\n",
      "unknown ['Mixture']\n",
      "false ['False']\n",
      "misleading ['Misleading']\n",
      "false ['False']\n",
      "false ['False']\n",
      "false ['False']\n",
      "false ['False']\n",
      "false ['Incorrect', 'Incorrect']\n",
      "false ['False']\n",
      "false ['False']\n",
      "false ['Mostly False']\n",
      "false ['Inaccurate', 'Inaccurate']\n",
      "unknown ['Mixture']\n",
      "false ['FALSE']\n",
      "false ['Incorrect, the clip is actually two videos filmed in hospitals in Madrid in mid-March.']\n",
      "false ['False']\n",
      "false ['False']\n",
      "false ['False']\n",
      "false ['False']\n",
      "false ['False']\n",
      "false ['False']\n",
      "false ['False']\n",
      "false ['FALSE']\n",
      "unknown ['Miscaptioned']\n",
      "false ['False']\n",
      "false ['False - The implications of the content are factually inaccurate.']\n",
      "false ['False. She died of brain hemorrhage while on duty in the hospital.']\n",
      "false ['False']\n",
      "unknown ['Miscaptioned']\n",
      "false ['FALSE']\n",
      "false ['Four-step lockdown model by two Cambridge scholars is being falsely shared in the name of WHO']\n",
      "false ['False']\n",
      "false ['False']\n",
      "true ['Half true']\n",
      "false ['Mostly False']\n",
      "unknown ['The President of America, Donald Trump has not announced the launch of a vaccine. He announced the availability of new tests by Roche Diagnostics. Furthermore, the photo attached to the text is not a vaccine but a test kit for COVID-19 manufactured by Sugentech in South Korea. There is no known vaccine yet for the COVID-19 virus.']\n",
      "false ['False']\n",
      "misleading ['Misleading']\n",
      "false ['Fake']\n",
      "misleading ['Misleading']\n",
      "true ['True']\n",
      "true ['True']\n",
      "true ['Half true']\n",
      "false ['False']\n",
      "false ['False']\n",
      "misleading ['Misleading']\n",
      "false ['False']\n",
      "unknown ['Mixture']\n",
      "unknown ['Unproven']\n",
      "false ['Pants on Fire']\n",
      "false ['This is incorrect. As at 13 March, the latest data available when this claim was made, the UK ranked fifth (behind China, South Korea, Italy and Russia) for the number of Covid-19 tests carried out. These statistics only included the 38 countries and regions with official data on Covid-19 tests at that time.']\n",
      "false ['False - The primary claims of the content are factually inaccurate.']\n",
      "false ['Mostly False']\n",
      "false ['Mostly False']\n",
      "false ['False']\n",
      "false ['False']\n",
      "false ['False']\n",
      "unknown ['Exaggerates']\n",
      "false ['FALSE: Isreali scientists did not create a COVID-19 vaccine in February 2020.']\n",
      "unknown ['This is a different coronavirus from SARS-CoV-2, the virus that causes Covid-19. Coronaviruses are a large family of viruses that can affect a range of species.']\n",
      "misleading ['Misleading']\n",
      "unknown ['Unlikely to prevent or cure you']\n",
      "misleading ['Misleading']\n",
      "false ['False']\n",
      "misleading ['Misleading']\n",
      "unknown ['Two Chinese scientists have published an article suggesting that the 2019 coronavirus outbreak could have originated from bats in a laboratory in Wuhan. However, apart from maps showing the proximity of laboratories, they offer no evidence to prove this.']\n",
      "false ['FALSE']\n",
      "false ['Mostly false']\n",
      "false ['False']\n",
      "false ['False']\n",
      "false ['False']\n",
      "unknown ['Salah', 'Salah', 'Salah', 'Salah', 'Salah', 'Salah', 'Salah']\n",
      "false ['False']\n",
      "true ['Half True']\n",
      "false ['False']\n",
      "unknown ['Outdated']\n",
      "false ['False']\n",
      "false ['Fake']\n",
      "misleading ['Misleading']\n",
      "false ['False']\n",
      "false ['FALSE']\n",
      "false ['FALSE']\n",
      "true ['True. An official from WHO Ghana has confirmed Ghana to be among African countries testing in high numbers on the continent. Furthermore, available data for eleven other African countries in comparison with Ghana, also prove this assertion to be true.']\n",
      "false ['False']\n",
      "false ['False']\n",
      "false ['False']\n",
      "false ['False', 'False']\n",
      "false ['False']\n",
      "false ['Based on The ICIR findings, the report on Dr. Mukwege by Kiffasblog is FALSE. In a statement, Mukwege attributed his decision to resign his position to slow testing of suspected COVID-19 cases due to lack of laboratories.']\n",
      "true ['Half true']\n",
      "false ['Based on all available information obtained by The ICIR, it is evident that the claims are FALSE.']\n",
      "misleading ['Misleading']\n",
      "true ['Accurate as a whole (with reservations)', 'Accurate as a whole (with reservations)']\n",
      "misleading ['Misleading']\n",
      "false ['False']\n",
      "misleading ['Misleading']\n",
      "false ['Inaccurate (no factual basis; unacceptable margin of error)', 'Inaccurate (no factual basis; unacceptable margin of error)']\n",
      "false ['False']\n",
      "false ['False']\n",
      "false ['Inaccurate (no factual basis; unacceptable margin of error)']\n",
      "false ['False']\n",
      "false ['False']\n",
      "false ['Inaccurate (no factual basis; unacceptable margin of error)']\n",
      "true ['True']\n",
      "false ['False']\n",
      "unknown ['The video in question is NOT from New Zealand']\n",
      "true ['True']\n",
      "false ['False']\n",
      "false ['FALSE']\n",
      "false ['False']\n",
      "false ['False']\n",
      "false ['False']\n",
      "false ['False']\n",
      "true ['Half true']\n",
      "false ['Incorrect', 'Incorrect']\n",
      "false ['Inaccurate as a whole (with reservations)', 'Inaccurate as a whole (with reservations)']\n",
      "true ['Half true']\n",
      "false ['False']\n",
      "false ['Inaccurate (no factual basis; unacceptable margin of error)', 'Inaccurate (no factual basis; unacceptable margin of error)']\n",
      "true ['Half true']\n",
      "false ['False']\n",
      "false ['False - The primary claims of the content are factually inaccurate.']\n",
      "false ['Inaccurate as a whole (with reservations)', 'Inaccurate as a whole (with reservations)']\n",
      "false ['False']\n",
      "unknown ['Myth']\n",
      "true ['Half True']\n",
      "false ['Inaccurate (no factual basis; unacceptable margin of error)', 'Inaccurate (no factual basis; unacceptable margin of error)']\n",
      "misleading ['Misleading']\n",
      "unknown ['Overblown']\n",
      "false ['False']\n",
      "true ['This is correct, based on new research in the Lancet.']\n",
      "unknown ['The UK appears to be testing fewer people than in Russia. But there isn’t enough data on this to determine for sure where the UK places, and the UK’s data isn’t particularly comparable with other countries.']\n",
      "false ['Inaccurate as a whole (with reservations)']\n",
      "false ['Fake']\n",
      "false ['False']\n",
      "false ['False']\n",
      "false ['False. The video is an old video that has been in circulation since at least June 2011. It resurfaced in May 2020. The speaker making a presentation on vaccines to the CIA is not Bill Gates, according to a spokesperson at the Bill and Melinda Gates Foundation.']\n",
      "misleading ['Misleading']\n",
      "unknown ['Flawed_Reasoning', 'Flawed_Reasoning']\n",
      "false ['False. Individuals who test positive for COVID-19 are considered as confirmed cases.']\n",
      "false ['False']\n",
      "misleading ['Misleading']\n",
      "false ['The video in question has no connection with the Coronavirus crisis and the claim attached to it is FAKE as the video is at least 5-years old.']\n",
      "false ['Mostly False']\n",
      "false ['False - The primary claims of the content are factually inaccurate.']\n",
      "false ['False']\n",
      "misleading ['Misleading']\n",
      "misleading ['Misleading']\n",
      "false ['Fake']\n",
      "unknown ['Madagascar refutes claims Putin ordered herbal coronavirus remedy']\n",
      "false ['False']\n",
      "false ['Fake']\n",
      "false ['False']\n",
      "unknown ['This is based on data collected on deaths in England and Wales up to 20 April.']\n",
      "unknown ['The Department for Health and Social Care has confirmed 125,000 staff in care settings have been tested since the start of the pandemic.']\n",
      "false ['False']\n",
      "true ['This figure is correct for England only.']\n",
      "misleading ['Misleading']\n",
      "false ['Fake']\n",
      "false ['False']\n",
      "false ['False']\n",
      "misleading ['Misleading']\n",
      "unknown ['There is some limited evidence that it can work for some patients. It is not licensed as a treatment for Covid-19 in the UK outside of clinical trials.']\n",
      "false ['False']\n",
      "unknown ['The latest NHS figures for England show that 253 people under the age of 60 with no underlying health conditions have died from Covid-19 in hospitals.']\n",
      "unknown ['Mixture']\n",
      "false ['Fake']\n",
      "false ['False - The primary claims of the content are factually inaccurate.']\n",
      "false ['False']\n",
      "false ['FALSE']\n",
      "false ['Incorrect. Many Covid-19 deaths among police officers have been reported worldwide, including at least one such death in the UK.']\n",
      "misleading ['Misleading']\n",
      "false ['False']\n",
      "false ['False']\n",
      "false ['INACCURATE. Northern Ireland’s test rate for the day of 8 May 2020 was about three-quarters (80%) that of Scotland.']\n",
      "false ['False']\n",
      "false ['False']\n",
      "unknown ['The ONS found, with a degree of uncertainty, that there was no evidence that the rate of infection differed by age group, but being infected doesn’t necessarily mean you become ill and display symptoms.']\n",
      "misleading ['Misleading']\n",
      "false ['False']\n",
      "true ['True']\n",
      "false ['False']\n",
      "unknown ['Mixture']\n",
      "true ['True']\n",
      "true ['This was broadly correct for the first 14 weeks of the year, including a few days in April and in December 2019.']\n",
      "false ['False']\n",
      "false ['False']\n",
      "unknown ['In the first 12 weeks of 2020, less than 1% of deaths registered in England and Wales had Covid-19 on the death certificate, but the rate has since risen to more than 30% for some weeks in April.']\n",
      "false ['False']\n",
      "unknown ['Miscaptioned']\n",
      "false ['Pants on Fire']\n",
      "false ['False']\n",
      "false ['False']\n",
      "unknown ['Mixture']\n",
      "false ['FALSE Without doubt, Ogun State procured the first COVID19 mobile laboratory in Nigeria, but not in Africa. Nonetheless, the establishment of mobile laboratories is not novel. Several other countries had deployed them before Ogun adopted the initiative to test their citizens.']\n",
      "false ['FALSE']\n",
      "false ['False']\n",
      "unknown ['Unproven']\n",
      "unknown ['This is the plan from the Irish government.']\n",
      "false ['False']\n",
      "unknown ['NEEDS CONTEXT: Remdesivir got an emergency use authorization, not FDA approval']\n",
      "false ['False']\n",
      "unknown ['UNPROVEN: There is no scientific or clinical evidence available to support claims that Covid-Organics cures COVID-19.']\n",
      "false ['False']\n",
      "false ['False']\n",
      "false ['Inaccurate', 'Inaccurate']\n",
      "unknown ['Mixture']\n",
      "misleading ['Misleading']\n",
      "false ['False']\n",
      "true ['Correct Attribution']\n",
      "false ['False']\n",
      "true ['True']\n",
      "false ['False']\n",
      "false ['False']\n",
      "false ['False']\n",
      "false ['False']\n",
      "misleading ['MISLEADING']\n",
      "false ['False']\n",
      "false ['False']\n",
      "false ['False']\n",
      "true ['Correct Attribution']\n",
      "false ['False - The primary claims of the content are factually inaccurate or misleading.']\n",
      "false ['False']\n",
      "misleading ['Misleading']\n",
      "false ['False']\n",
      "false ['This is false. She is not dead.']\n",
      "false ['False']\n",
      "true ['True']\n",
      "false ['UNSUBSTANTIATED. The only figures for COVID-19 deaths in Ireland are restricted to deaths of people who tested positive for COVID-19.']\n",
      "false ['False']\n",
      "false ['UNSUBSTANTIATED. The only figures for COVID-19 deaths in Ireland are restricted to deaths of people who tested positive for COVID-19.']\n",
      "misleading ['Misleading']\n",
      "false ['False']\n",
      "false ['False']\n",
      "unknown ['No evidence, according to WHO April 19 scientific brief']\n",
      "false ['Mostly False']\n",
      "unknown ['Ms Ardern has given herself, government ministers and public service chief executives a 20% pay cut. This does not cover all MPs.']\n",
      "false ['False']\n",
      "true ['Half True']\n",
      "false ['False']\n",
      "false ['False']\n",
      "false ['False']\n",
      "false ['False']\n",
      "false ['False']\n"
     ]
    }
   ],
   "source": [
    "for row in claims_df.itertuples():\n",
    "    print(row.label, [x['textualRating'] for x in row.claimReview])"
   ]
  },
  {
   "cell_type": "code",
   "execution_count": 8,
   "metadata": {},
   "outputs": [
    {
     "data": {
      "text/plain": [
       "{'text': 'WHO DG Tedros Ghebreyesus tests positive for Covid-19',\n",
       " 'claimant': 'The Nation',\n",
       " 'claimDate': '2020-11-02T00:00:00Z',\n",
       " 'claimReview': [{'publisher': {'name': 'AFP Fact Check',\n",
       "    'site': 'factcheck.afp.com'},\n",
       "   'url': 'https://factcheck.afp.com/who-head-did-not-say-he-tested-positive-covid-19-only-he-was-quarantining-after-contact-tested',\n",
       "   'title': 'WHO head did not say he tested positive for Covid-19, only that he was quarantining after a contact tested positive',\n",
       "   'reviewDate': '2020-11-02T17:52:00Z',\n",
       "   'textualRating': 'False',\n",
       "   'languageCode': 'en'}]}"
      ]
     },
     "execution_count": 8,
     "metadata": {},
     "output_type": "execute_result"
    }
   ],
   "source": [
    "output = []\n",
    "claims[0]"
   ]
  },
  {
   "cell_type": "code",
   "execution_count": 9,
   "metadata": {},
   "outputs": [],
   "source": [
    "for claim in claims:\n",
    "    for review in claim['claimReview']:\n",
    "#         print(claim)\n",
    "        output.append({\n",
    "            'text': claim['text'],\n",
    "            'claimant': claim['claimant'] if 'claimaint' in claim else None,\n",
    "            'claimDate': claim['claimDate'] if 'claimDate' in claim else None,\n",
    "            'claimReview': review\n",
    "        })"
   ]
  },
  {
   "cell_type": "code",
   "execution_count": 10,
   "metadata": {},
   "outputs": [
    {
     "data": {
      "text/plain": [
       "932"
      ]
     },
     "execution_count": 10,
     "metadata": {},
     "output_type": "execute_result"
    }
   ],
   "source": [
    "len(output)"
   ]
  },
  {
   "cell_type": "code",
   "execution_count": 88,
   "metadata": {},
   "outputs": [],
   "source": [
    "save_pickle(claims_df, 'pickles/newest_claims_df_labelled.pkl')"
   ]
  },
  {
   "cell_type": "code",
   "execution_count": 11,
   "metadata": {},
   "outputs": [],
   "source": [
    "claims_df = load_pickle('pickles/newest_claims_df_labelled.pkl')"
   ]
  },
  {
   "cell_type": "code",
   "execution_count": 12,
   "metadata": {},
   "outputs": [],
   "source": [
    "# cord_df = load_pickle('./pickles/newest_cord_df_ft.pkl').dropna()"
   ]
  },
  {
   "cell_type": "code",
   "execution_count": 13,
   "metadata": {},
   "outputs": [],
   "source": [
    "cord_df = load_pickle('./pickles/who_cord_df.pkl').dropna()"
   ]
  },
  {
   "cell_type": "code",
   "execution_count": 14,
   "metadata": {},
   "outputs": [
    {
     "data": {
      "application/vnd.jupyter.widget-view+json": {
       "model_id": "a75bd739e8e74ef7b8c15556c635161d",
       "version_major": 2,
       "version_minor": 0
      },
      "text/plain": [
       "HBox(children=(FloatProgress(value=0.0, description='Pandas Apply', max=84605.0, style=ProgressStyle(descripti…"
      ]
     },
     "metadata": {},
     "output_type": "display_data"
    },
    {
     "name": "stdout",
     "output_type": "stream",
     "text": [
      "\n"
     ]
    }
   ],
   "source": [
    "# cord_df['mean_embed'] = cord_df['ft_embeddings'].swifter.apply(lambda x: np.array(x).mean(axis=0))"
   ]
  },
  {
   "cell_type": "code",
   "execution_count": 31,
   "metadata": {},
   "outputs": [
    {
     "data": {
      "application/vnd.jupyter.widget-view+json": {
       "model_id": "97a5bdb348ba44dfbd6e45a7e1d150d7",
       "version_major": 2,
       "version_minor": 0
      },
      "text/plain": [
       "HBox(children=(FloatProgress(value=0.0, description='Pandas Apply', max=84605.0, style=ProgressStyle(descripti…"
      ]
     },
     "metadata": {},
     "output_type": "display_data"
    },
    {
     "name": "stdout",
     "output_type": "stream",
     "text": [
      "\n"
     ]
    }
   ],
   "source": [
    "cord_df['mean_embed'] = cord_df['sent_embeddings'].swifter.apply(lambda x: x.mean(axis=0))"
   ]
  },
  {
   "cell_type": "code",
   "execution_count": 32,
   "metadata": {},
   "outputs": [],
   "source": [
    "mat_cord = np.array(list(cord_df.sample(n=10000)['mean_embed']))"
   ]
  },
  {
   "cell_type": "code",
   "execution_count": 33,
   "metadata": {},
   "outputs": [],
   "source": [
    "false_df = claims_df[claims_df['label'] == 'false']\n",
    "true_df = claims_df[claims_df['label'] == 'true']"
   ]
  },
  {
   "cell_type": "code",
   "execution_count": 34,
   "metadata": {},
   "outputs": [],
   "source": [
    "true_mat = np.array(list(true_df['ft_embedding']))"
   ]
  },
  {
   "cell_type": "code",
   "execution_count": 35,
   "metadata": {},
   "outputs": [],
   "source": [
    "false_mat = np.array(list(false_df['ft_embedding']))"
   ]
  },
  {
   "cell_type": "code",
   "execution_count": 36,
   "metadata": {},
   "outputs": [],
   "source": [
    "true_mat = np.array(list(true_df['bert_embedding']))\n",
    "false_mat = np.array(list(false_df['bert_embedding']))"
   ]
  },
  {
   "cell_type": "code",
   "execution_count": 37,
   "metadata": {},
   "outputs": [
    {
     "data": {
      "text/plain": [
       "(562, 768)"
      ]
     },
     "execution_count": 37,
     "metadata": {},
     "output_type": "execute_result"
    }
   ],
   "source": [
    "false_mat.shape"
   ]
  },
  {
   "cell_type": "code",
   "execution_count": 38,
   "metadata": {},
   "outputs": [
    {
     "data": {
      "text/plain": [
       "(97, 768)"
      ]
     },
     "execution_count": 38,
     "metadata": {},
     "output_type": "execute_result"
    }
   ],
   "source": [
    "true_mat.shape"
   ]
  },
  {
   "cell_type": "code",
   "execution_count": 39,
   "metadata": {},
   "outputs": [],
   "source": [
    "from wutils.mat import MarkedMatrix\n",
    "mm = MarkedMatrix((('true', true_mat), ('false', false_mat)))"
   ]
  },
  {
   "cell_type": "code",
   "execution_count": 40,
   "metadata": {},
   "outputs": [],
   "source": [
    "from sklearn.linear_model import LogisticRegression"
   ]
  },
  {
   "cell_type": "code",
   "execution_count": 41,
   "metadata": {},
   "outputs": [],
   "source": [
    "from scipy.spatial.distance import cdist"
   ]
  },
  {
   "cell_type": "code",
   "execution_count": 42,
   "metadata": {},
   "outputs": [],
   "source": [
    "true2cord = cdist(true_mat, mat_cord, 'cosine')\n",
    "false2cord = cdist(false_mat, mat_cord, 'cosine')"
   ]
  },
  {
   "cell_type": "code",
   "execution_count": 43,
   "metadata": {},
   "outputs": [],
   "source": [
    "mmb= MarkedMatrix((('true', true2cord), ('false', false2cord)))"
   ]
  },
  {
   "cell_type": "code",
   "execution_count": 84,
   "metadata": {},
   "outputs": [],
   "source": [
    "mm2 = MarkedMatrix((('true', true2cord), ('false', false2cord)))"
   ]
  },
  {
   "cell_type": "code",
   "execution_count": 89,
   "metadata": {},
   "outputs": [],
   "source": [
    "mm3 = MarkedMatrix((('true', true2cord), ('false', false2cord)))"
   ]
  },
  {
   "cell_type": "code",
   "execution_count": 104,
   "metadata": {},
   "outputs": [],
   "source": [
    "mm4 = MarkedMatrix((('true', true_mat), ('false', false_mat)))"
   ]
  },
  {
   "cell_type": "code",
   "execution_count": 44,
   "metadata": {},
   "outputs": [],
   "source": [
    "from tqdm.notebook import tqdm"
   ]
  },
  {
   "cell_type": "code",
   "execution_count": 45,
   "metadata": {},
   "outputs": [
    {
     "data": {
      "application/vnd.jupyter.widget-view+json": {
       "model_id": "3ef4fba64ea0436a8f6609de5b6abd08",
       "version_major": 2,
       "version_minor": 0
      },
      "text/plain": [
       "HBox(children=(FloatProgress(value=0.0, max=2000.0), HTML(value='')))"
      ]
     },
     "metadata": {},
     "output_type": "display_data"
    },
    {
     "name": "stdout",
     "output_type": "stream",
     "text": [
      "\n"
     ]
    }
   ],
   "source": [
    "model = LogisticRegression(max_iter=3000)\n",
    "res1 = []\n",
    "for i in tqdm(range(2000)):\n",
    "    res1.append(mm.single_split_classify(model, verbose=False))"
   ]
  },
  {
   "cell_type": "code",
   "execution_count": 76,
   "metadata": {},
   "outputs": [
    {
     "data": {
      "application/vnd.jupyter.widget-view+json": {
       "model_id": "d8c2798058c541acab97a8a479036117",
       "version_major": 2,
       "version_minor": 0
      },
      "text/plain": [
       "HBox(children=(FloatProgress(value=0.0, max=2000.0), HTML(value='')))"
      ]
     },
     "metadata": {},
     "output_type": "display_data"
    },
    {
     "name": "stdout",
     "output_type": "stream",
     "text": [
      "\n"
     ]
    }
   ],
   "source": [
    "model2 = LogisticRegression(max_iter=3000)\n",
    "res2 = []\n",
    "for i in tqdm(range(2000)):\n",
    "    res2.append(mm2.single_split_classify(model2, verbose=False))"
   ]
  },
  {
   "cell_type": "code",
   "execution_count": 90,
   "metadata": {},
   "outputs": [
    {
     "data": {
      "application/vnd.jupyter.widget-view+json": {
       "model_id": "bae342d9c5b34fc9b96546fdf1bed9f7",
       "version_major": 2,
       "version_minor": 0
      },
      "text/plain": [
       "HBox(children=(FloatProgress(value=0.0, max=2000.0), HTML(value='')))"
      ]
     },
     "metadata": {},
     "output_type": "display_data"
    },
    {
     "name": "stdout",
     "output_type": "stream",
     "text": [
      "\n"
     ]
    }
   ],
   "source": [
    "model3 = LogisticRegression(max_iter=3000)\n",
    "res3 = []\n",
    "for i in tqdm(range(2000)):\n",
    "    res3.append(mm3.single_split_classify(model, verbose=False))"
   ]
  },
  {
   "cell_type": "code",
   "execution_count": 105,
   "metadata": {},
   "outputs": [
    {
     "data": {
      "application/vnd.jupyter.widget-view+json": {
       "model_id": "df0f51a40d6646c1b16db8b5dfe101e3",
       "version_major": 2,
       "version_minor": 0
      },
      "text/plain": [
       "HBox(children=(FloatProgress(value=0.0, max=1000.0), HTML(value='')))"
      ]
     },
     "metadata": {},
     "output_type": "display_data"
    },
    {
     "name": "stdout",
     "output_type": "stream",
     "text": [
      "\n"
     ]
    }
   ],
   "source": [
    "model4 = LogisticRegression(max_iter=3000)\n",
    "res4 = []\n",
    "for i in tqdm(range(1000)):\n",
    "    res4.append(mm4.single_split_classify(model, verbose=False))"
   ]
  },
  {
   "cell_type": "code",
   "execution_count": 47,
   "metadata": {},
   "outputs": [
    {
     "data": {
      "text/plain": [
       "array([0.79884545, 0.88497882])"
      ]
     },
     "execution_count": 47,
     "metadata": {},
     "output_type": "execute_result"
    }
   ],
   "source": [
    "np.array(res1).mean(axis=0)"
   ]
  },
  {
   "cell_type": "code",
   "execution_count": 78,
   "metadata": {},
   "outputs": [
    {
     "data": {
      "text/plain": [
       "array([0.24677551, 0.23806656])"
      ]
     },
     "execution_count": 78,
     "metadata": {},
     "output_type": "execute_result"
    }
   ],
   "source": [
    "np.array(res2).mean(axis=0)"
   ]
  },
  {
   "cell_type": "code",
   "execution_count": 46,
   "metadata": {},
   "outputs": [
    {
     "ename": "NameError",
     "evalue": "name 'res3' is not defined",
     "output_type": "error",
     "traceback": [
      "\u001b[0;31m---------------------------------------------------------------------------\u001b[0m",
      "\u001b[0;31mNameError\u001b[0m                                 Traceback (most recent call last)",
      "\u001b[0;32m<ipython-input-46-48697df7e126>\u001b[0m in \u001b[0;36m<module>\u001b[0;34m\u001b[0m\n\u001b[0;32m----> 1\u001b[0;31m \u001b[0mnp\u001b[0m\u001b[0;34m.\u001b[0m\u001b[0marray\u001b[0m\u001b[0;34m(\u001b[0m\u001b[0mres3\u001b[0m\u001b[0;34m)\u001b[0m\u001b[0;34m.\u001b[0m\u001b[0mmean\u001b[0m\u001b[0;34m(\u001b[0m\u001b[0maxis\u001b[0m\u001b[0;34m=\u001b[0m\u001b[0;36m0\u001b[0m\u001b[0;34m)\u001b[0m\u001b[0;34m\u001b[0m\u001b[0;34m\u001b[0m\u001b[0m\n\u001b[0m",
      "\u001b[0;31mNameError\u001b[0m: name 'res3' is not defined"
     ]
    }
   ],
   "source": [
    "np.array(res3).mean(axis=0)"
   ]
  },
  {
   "cell_type": "code",
   "execution_count": 106,
   "metadata": {},
   "outputs": [
    {
     "data": {
      "text/plain": [
       "array([0.80115758, 0.88637263])"
      ]
     },
     "execution_count": 106,
     "metadata": {},
     "output_type": "execute_result"
    }
   ],
   "source": [
    "np.array(res4).mean(axis=0)"
   ]
  },
  {
   "cell_type": "code",
   "execution_count": null,
   "metadata": {},
   "outputs": [],
   "source": [
    "labels = claims_df['label'].swifter.apply(lambda x: )"
   ]
  }
 ],
 "metadata": {
  "kernelspec": {
   "display_name": "Python 3",
   "language": "python",
   "name": "python3"
  },
  "language_info": {
   "codemirror_mode": {
    "name": "ipython",
    "version": 3
   },
   "file_extension": ".py",
   "mimetype": "text/x-python",
   "name": "python",
   "nbconvert_exporter": "python",
   "pygments_lexer": "ipython3",
   "version": "3.7.4"
  }
 },
 "nbformat": 4,
 "nbformat_minor": 4
}
